{
  "cells": [
    {
      "cell_type": "markdown",
      "metadata": {
        "id": "view-in-github",
        "colab_type": "text"
      },
      "source": [
        "<a href=\"https://colab.research.google.com/github/ecloguehwang/HSS/blob/master/%EC%9B%8C%EB%93%9C%ED%81%B4%EB%9D%BC%EC%9A%B0%EB%93%9C_D%EA%B3%A0306.ipynb\" target=\"_parent\"><img src=\"https://colab.research.google.com/assets/colab-badge.svg\" alt=\"Open In Colab\"/></a>"
      ]
    },
    {
      "cell_type": "code",
      "source": [
        "from google.colab import drive\n",
        "drive.mount('/content/drive')"
      ],
      "metadata": {
        "id": "SpJYAzFuo_BT"
      },
      "execution_count": null,
      "outputs": []
    },
    {
      "cell_type": "code",
      "source": [
        "#콜랩에서 koNLPY 환경을 만드는 방법\n",
        "!curl -s https://raw.githubusercontent.com/teddylee777/machine-learning/master/99-Misc/01-Colab/mecab-colab.sh | bash"
      ],
      "metadata": {
        "id": "nsRvHkZ57L4G"
      },
      "execution_count": null,
      "outputs": []
    },
    {
      "cell_type": "code",
      "source": [
        "#구글 코랩(colab) 한글 깨짐 현상 해결방법: 실행하고 런타임 재실행\n",
        "!sudo apt-get install -y fonts-nanum\n",
        "!sudo fc-cache -fv\n",
        "!rm ~/.cache/matplotlib -rf"
      ],
      "metadata": {
        "id": "jxk7kFswsMMM"
      },
      "execution_count": null,
      "outputs": []
    },
    {
      "cell_type": "code",
      "execution_count": null,
      "metadata": {
        "id": "lQ-Zcy5h6qsU"
      },
      "outputs": [],
      "source": [
        "## 윈도우기반 아나콘다 Python에서 wordcloud 실행하려면 필요한 환경설정\n",
        "\n",
        "#1.python 3.7.X버전을 설치: 3.8이상 버전이 java기반의 wordcloud library를 인식못함\n",
        "#2.anaconda cmd에서 conda create -n py_37 python=3.7 \n",
        "#3.anaconda cmd에서 pip install jpype==0.7.0 실행\n",
        "#4.Oracle사이트에서 Oracle JDK-Java SE 클릭\n",
        "#5.Oracle에서 회원가입하여 로그인, 비번넣어야 download됨~\n",
        "#6.java 실행경로 설정\n",
        "##제어판-시스템-고급시스템설정-환경변수-path클릭-편집-C:Program Files\\java\\jdk-16.0.1\\bin를 추가하여, 맨위로 이동\n",
        "##시스템변수-새로만들기-변수이름; JAVA_HOME - 경로는 위와 동일하게 설정\n",
        "#7. cmd 오른쪽 마우스 클릭하여 관리자 실행하여 root 디렉토리에서 java -version 실행하여 버전확인\n",
        "#8.cmd 오른쪽 마우스 클릭하여 관리자 실행하여 root 디렉토리에서 javac -version 실행하여 버전확인 \n",
        "##java와 javac 버전이 동일한지 확인\n",
        "#9. anaconda cmd에서 pip install wordcloud 실행, 휴! \n",
        "#10. anaconda에서 실행할때 반드시 py_37 environment에서 실행해야~ \n",
        "#11. cmd에서 conda install matplotlib\n",
        "#12. cmd에서 pip install konlpy\n",
        "#13. 그림파일(elsa.jpg)를 python working directory에서 복사하기\n",
        "#14. C:/window/fonts - '나눔' 있는지 확인 "
      ]
    },
    {
      "cell_type": "code",
      "execution_count": 3,
      "metadata": {
        "id": "x0YfVH5E6qsV"
      },
      "outputs": [],
      "source": [
        "# 워드 클라우드의 형태를 꾸미기 위해 기능 추가\n",
        "import numpy as np\n",
        "\n",
        "# 이미지 제어를 위해 PIL 라이브러리로부터 Image 기능 사용\n",
        "from PIL import Image\n",
        "\n",
        "# 설치한 wordcloud 외부라이브러리로부터 WordCloud 기능 사용하도록 설정\n",
        "from wordcloud import WordCloud, STOPWORDS, ImageColorGenerator\n",
        "\n",
        "# 설치한 matplotlib 외부라이브러리의 pyplot 기능을 사용하며, pyplot 기능을 약어로 plt로 정의\n",
        "import matplotlib.pyplot as plt\n",
        "\n",
        "# 설치한 konlpy 외부라이브러리로부터 Hannanum 기능 사용하도록 설정\n",
        "from konlpy.tag import Hannanum\n",
        "\n",
        "# 문자열(문장) 수정을 위한 파이썬 기본 기능 추가\n",
        "import re\n",
        "\n",
        "#단어 세수는 count\n",
        "from collections import Counter"
      ]
    },
    {
      "cell_type": "code",
      "source": [
        "# 방법A: 이름을 넣어 해당 학생의 워드클라우드를 만듬\n",
        "\n",
        "filename = input(\"파일명:\")\n",
        "\n",
        "text = open(\"/content/drive/MyDrive/python/dungchon/result_d/\" + filename + \"_result.txt\", encoding=\"UTF-8\").read()\n",
        "#text = open(\"/content/drive/MyDrive/python/dungchon/result_d/\" + filename + \"_result.txt\", encoding=\"UTF-8\").read()\n",
        "\n",
        "\n",
        "# myHannanum 변수에 Hannanum 기능을 넣어줌\n",
        "myHannanum = Hannanum()\n",
        "\n",
        "# 단어 분석의 정확도를 높이기 위해 특수문자 제거\n",
        "# 키보드 상단 숫자패드의 특수문자가 발견되면 한칸 공백으로 변경\n",
        "replace_text = re.sub(\"[!@#$%^&*()_+]\", \" \", text)\n",
        "\n",
        "# 특수문자가 제거된 문장 출력\n",
        "print(replace_text)\n",
        "\n",
        "# 명사 분석 결과는 여러 단어들이 저장된 배열형태로 데이터를 생성하기 때문에 배열을 문자열로 변경하기위해\n",
        "# join 함수를 사용하여 analysis_text 변수에 문자열로 변환된 결과를 저장함\n",
        "analysis_text = (\" \".join(myHannanum.nouns(replace_text)))\n",
        "\n",
        "# stopwords 변수에 원하지 않는 단어들 추가\n",
        "stopwords = set(STOPWORDS)\n",
        "stopwords.add(\"수\")\n",
        "stopwords.add(\"등\")\n",
        "stopwords.add(\"것\")\n",
        "stopwords.add(\"때\")\n",
        "stopwords.add(\"중\")\n",
        "stopwords.add(\"점\")\n",
        "stopwords.add(\"경우\")\n",
        "stopwords.add(\"생각\")\n",
        "\n",
        "# 워드 클라우드 형태 이미지 가지오기\n",
        "myImg = np.array(Image.open(\"/content/drive/MyDrive/python/image/elsa.jpg\"))\n",
        "#myImg = np.array(Image.open(\"/content/drive/MyDrive/python/image/genie.jpg\"))\n",
        "\n",
        "\n",
        "imgColor = ImageColorGenerator(myImg)\n",
        "# 워드 클라우드를 생성하며, 생성된 워드 클라우드를 myWC 이름의 변수에 저장하기\n",
        "# 워드 클라우드를 표시하는 단어가 한글일 경우, 파이썬에서 인식 불능 현상이 발생할 수 있기 때문에 글꼴을 강제 설정함\n",
        "myWC = WordCloud(font_path=\"/content/drive/MyDrive/python/font/NanumGothic.ttf\", mask=myImg, stopwords=stopwords, background_color=\"white\").generate(analysis_text)\n",
        "\n",
        "# 워드 클라우드의 크기 정의\n",
        "plt.figure(figsize=(8, 8))\n",
        "\n",
        "# 워드 클라우드의 이미지의 부드럽기 정도\n",
        "plt.imshow(myWC.recolor(color_func=imgColor), interpolation=\"lanczos\")\n",
        "\n",
        "# x, y축에 기본 숫자들 제거\n",
        "plt.axis('off')\n",
        "\n",
        "# 워드 클라우드 보여주기\n",
        "plt.show()"
      ],
      "metadata": {
        "id": "IsUi12FKfJJu"
      },
      "execution_count": null,
      "outputs": []
    },
    {
      "cell_type": "code",
      "source": [
        "#전처리한 replace_text한 객체에서 명사만 뽑아냄\n",
        "hannanum = Hannanum()\n",
        "text_list = hannanum.nouns(replace_text)\n",
        "text_list\n",
        "\n",
        "\n",
        "# stopwords 변수에 원하지 않는 단어들 추가\n",
        "stopwords = set(STOPWORDS)\n",
        "stopwords.add(\"수\")\n",
        "stopwords.add(\"등\")\n",
        "stopwords.add(\"것\")\n",
        "stopwords.add(\"때\")\n",
        "stopwords.add(\"중\")\n",
        "stopwords.add(\"점\")\n",
        "stopwords.add(\"경우\")\n",
        "stopwords.add(\"생각\")\n",
        "\n",
        "\n",
        "#불용어를 제외함\n",
        "text_list = [word for word in text_list if not word in stopwords]\n",
        "\n",
        "\n",
        "#text_list를 상위 20개 명사만 뽑아냄\n",
        "import pandas as pd\n",
        "word_list = pd.Series(text_list)\n",
        "result = word_list.value_counts().head(20)\n",
        "result\n",
        "\n",
        "\n",
        "#열(변수) 이름을 부여하기\n",
        "df = pd.DataFrame(result, columns = ['freq'])\n",
        "df\n",
        "\n",
        "#index에 변수명 부여하는 방법: destructive한 방법\n",
        "df.reset_index(inplace=True)\n",
        "print(df)\n",
        "\n",
        "\n",
        "#matplotlib의 폰트를 Nanum 폰트로 지정\n",
        "import matplotlib.pyplot as plt\n",
        "\n",
        "#seaborn 라이브러리 설치\n",
        "import seaborn as sns\n",
        "\n",
        "#그래프에서 한글폰트 깨지지 않게 설정\n",
        "plt.rc('font', family='NanumBarunGothic') \n",
        "\n",
        "#x축 빈도, y축 인덱스(단어), 색깔: 약간 파랑\n",
        "sns.barplot(data=df,  x= 'freq', y= 'index', color='#1f77b4')\n",
        "\n",
        "#그래프 x축 제목 변경\n",
        "plt.xlabel('빈도') \n",
        "\n",
        "#그래프 y축 제목 삭제: 공백처리\n",
        "plt.ylabel('')\n",
        "\n",
        "#그래프 제목\n",
        "plt.title('김주연 수학 교과세특')"
      ],
      "metadata": {
        "id": "Hii3atkaXIJr"
      },
      "execution_count": null,
      "outputs": []
    },
    {
      "cell_type": "code",
      "source": [
        "# 워드클라우드B: 교과세특에 이름이 찍혀 워드클라우드로 나옴\n",
        "text = open(\"/content/drive/MyDrive/python/dungchon/result_d/정인환_result_워드클라우드에이름.txt\", encoding=\"UTF-8\").read()\n",
        "\n",
        "# myHannanum 변수에 Hannanum 기능을 넣어줌\n",
        "myHannanum = Hannanum()\n",
        "\n",
        "# 단어 분석의 정확도를 높이기 위해 특수문자 제거\n",
        "# 키보드 상단 숫자패드의 특수문자가 발견되면 한칸 공백으로 변경\n",
        "replace_text = re.sub(\"[!@#$%^&*()_+]\", \" \", text)\n",
        "\n",
        "# 특수문자가 제거된 문장 출력\n",
        "print(replace_text)\n",
        "\n",
        "# 명사 분석 결과는 여러 단어들이 저장된 배열형태로 데이터를 생성하기 때문에 배열을 문자열로 변경하기위해\n",
        "# join 함수를 사용하여 analysis_text 변수에 문자열로 변환된 결과를 저장함\n",
        "analysis_text = (\" \".join(myHannanum.nouns(replace_text)))\n",
        "\n",
        "# stopwords 변수에 원하지 않는 단어들 추가\n",
        "stopwords = set(STOPWORDS)\n",
        "stopwords.add(\"수\")\n",
        "stopwords.add(\"등\")\n",
        "stopwords.add(\"것\")\n",
        "stopwords.add(\"때\")\n",
        "stopwords.add(\"중\")\n",
        "stopwords.add(\"점\")\n",
        "stopwords.add(\"경우\")\n",
        "stopwords.add(\"생각\")\n",
        "\n",
        "# 워드 클라우드 형태 이미지 가지오기\n",
        "myImg = np.array(Image.open(\"/content/drive/MyDrive/python/image/elsa.jpg\"))\n",
        "#myImg = np.array(Image.open(\"/content/drive/MyDrive/python/image/genie.jpg\"))\n",
        "\n",
        "\n",
        "imgColor = ImageColorGenerator(myImg)\n",
        "# 워드 클라우드를 생성하며, 생성된 워드 클라우드를 myWC 이름의 변수에 저장하기\n",
        "# 워드 클라우드를 표시하는 단어가 한글일 경우, 파이썬에서 인식 불능 현상이 발생할 수 있기 때문에 글꼴을 강제 설정함\n",
        "myWC = WordCloud(font_path=\"/content/drive/MyDrive/python/font/NanumGothic.ttf\", mask=myImg, stopwords=stopwords, background_color=\"white\").generate(analysis_text)\n",
        "\n",
        "# 워드 클라우드의 크기 정의\n",
        "plt.figure(figsize=(8, 8))\n",
        "\n",
        "# 워드 클라우드의 이미지의 부드럽기 정도\n",
        "plt.imshow(myWC.recolor(color_func=imgColor), interpolation=\"lanczos\")\n",
        "\n",
        "# x, y축에 기본 숫자들 제거\n",
        "plt.axis('off')\n",
        "\n",
        "# 워드 클라우드 보여주기\n",
        "plt.show()"
      ],
      "metadata": {
        "id": "19dJbC_yuTiy"
      },
      "execution_count": null,
      "outputs": []
    }
  ],
  "metadata": {
    "kernelspec": {
      "display_name": "Python 3",
      "language": "python",
      "name": "python3"
    },
    "language_info": {
      "codemirror_mode": {
        "name": "ipython",
        "version": 3
      },
      "file_extension": ".py",
      "mimetype": "text/x-python",
      "name": "python",
      "nbconvert_exporter": "python",
      "pygments_lexer": "ipython3",
      "version": "3.7.10"
    },
    "colab": {
      "provenance": [],
      "include_colab_link": true
    },
    "accelerator": "GPU",
    "gpuClass": "standard"
  },
  "nbformat": 4,
  "nbformat_minor": 0
}