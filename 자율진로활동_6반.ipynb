{
  "nbformat": 4,
  "nbformat_minor": 0,
  "metadata": {
    "colab": {
      "provenance": [],
      "mount_file_id": "1amzV_32wTwOXftYTfPOzxPo86M48ar-J",
      "authorship_tag": "ABX9TyPsJealYjeCYjZtLLHTTOKt",
      "include_colab_link": true
    },
    "kernelspec": {
      "name": "python3",
      "display_name": "Python 3"
    },
    "language_info": {
      "name": "python"
    }
  },
  "cells": [
    {
      "cell_type": "markdown",
      "metadata": {
        "id": "view-in-github",
        "colab_type": "text"
      },
      "source": [
        "<a href=\"https://colab.research.google.com/github/ecloguehwang/HSS/blob/master/%EC%9E%90%EC%9C%A8%EC%A7%84%EB%A1%9C%ED%99%9C%EB%8F%99_6%EB%B0%98.ipynb\" target=\"_parent\"><img src=\"https://colab.research.google.com/assets/colab-badge.svg\" alt=\"Open In Colab\"/></a>"
      ]
    },
    {
      "cell_type": "code",
      "execution_count": null,
      "metadata": {
        "id": "DORH8Ad7r2vQ"
      },
      "outputs": [],
      "source": [
        "# 라이브러리 부르기\n",
        "import pandas as pd\n",
        "import numpy as np\n",
        "import seaborn as sns\n",
        "import matplotlib.pyplot as plt\n",
        "\n",
        "\n",
        "##  데이터 부르기 : 구글colab에 마운트(mount)하는 방법: 왼쪽 폴더아이콘을 누르기-눈동자 왼쪽 파일마운트 아이콘 클릭- /content/drive/MyDrive/python폴더의 susi_2021simple.csv파일을 불러옴\n",
        "path = '/content/drive/MyDrive/python/deungchon/'\n",
        "df = pd.read_csv(f'{path}sangibu.csv', encoding = 'cp949')\n",
        "\n",
        "df"
      ]
    },
    {
      "cell_type": "code",
      "source": [
        "#이름 입력하면 해당학생의 기록사항을 출력\n",
        "\n",
        "from tabulate import tabulate\n",
        "\n",
        "##1. 입력값(이름) 받기\n",
        "name = input(\"활동내용이 궁금한 학생의 성명을 입력하세요:\")\n",
        "\n",
        "\n",
        "##2.df를 melt시키다\n",
        "df_melt = pd.melt(df, id_vars=['이름'], value_vars=['공학캠프', '과학캠프', '천문특강',  '천문캠프', '지역인재육성프로그램_1기', '지역인재육성프로그램_2기', '진로독서', '진로활동',\n",
        "                                                  '자치역량강화_학생회', '과학융합탐구_학생회_0526', '과학융합탐구_학생회_0602', '학습멘토링_학생회'],\n",
        "                  var_name='프로그램명', value_name='기록사항')\n",
        "\n",
        "\n",
        "##3. 입력값(name)과 동일한 동일한 행을 찾아서 출력\n",
        "df_name = df_melt[df_melt.이름 == name]\n",
        "\n",
        "\n",
        "##4. 프로그램명을 오름차순 정렬\n",
        "df_sort = df_name.sort_values(by = '프로그램명')\n",
        "\n",
        "\n",
        "#5. Define the table headers\n",
        "table_headers = ['이름', '프로그램명', '기록사항']\n",
        "\n",
        "\n",
        "#6. Create the formatted table using tabulate\n",
        "table_string = tabulate(df_sort, headers=table_headers, tablefmt='plain')\n",
        "print()\n",
        "print(table_string)"
      ],
      "metadata": {
        "id": "9pnjgAMAd56j"
      },
      "execution_count": null,
      "outputs": []
    },
    {
      "cell_type": "code",
      "source": [
        "# melt시켜서 해당학생 전체출력\n",
        "\n",
        "import pandas as pd\n",
        "import matplotlib.pyplot as plt\n",
        "from tabulate import tabulate\n",
        "\n",
        "\n",
        "#\n",
        "df_melt = pd.melt(df, id_vars=['이름'], value_vars=['공학캠프', '과학캠프', '천문특강', '천문캠프', '지역인재육성프로그램_1기', '지역인재육성프로그램_2기', '진로독서', '진로활동',\n",
        "                                                  '자치역량강화_학생회', '과학융합탐구_학생회_0526', '과학융합탐구_학생회_0602', '학습멘토링_학생회'],\n",
        "                  var_name='프로그램명', value_name='기록사항')\n",
        "\n",
        "\n",
        "# Define the table headers\n",
        "table_headers = ['이름', '프로그램명', '기록사항']\n",
        "\n",
        "\n",
        "# Create the formatted table using tabulate\n",
        "table_string = tabulate(df_melt, headers=table_headers, tablefmt='plain')\n",
        "\n",
        "print(df_melt.head(10))"
      ],
      "metadata": {
        "id": "aQ9b-HOvwsXI"
      },
      "execution_count": null,
      "outputs": []
    },
    {
      "cell_type": "code",
      "source": [
        "#예비\n",
        "\n",
        "df_melt = pd.melt(df, id_vars=['이름', '합체', '글자수', '특이사항'], value_vars=['공학캠프', '과학캠프', '천문특강', '지역인재육성프로그램_1기', '지역인재육성프로그램_2기', '진로독서', '진로활동',\n",
        "                                                  '자치역량강화_학생회', '과학융합탐구_학생회_0526', '과학융합탐구_학생회_0602', '학습멘토링_학생회'],\n",
        "                  var_name='프로그램명', value_name='기록사항')"
      ],
      "metadata": {
        "id": "B5drHlgedRCx"
      },
      "execution_count": null,
      "outputs": []
    }
  ]
}