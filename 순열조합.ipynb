{
  "nbformat": 4,
  "nbformat_minor": 0,
  "metadata": {
    "colab": {
      "provenance": [],
      "authorship_tag": "ABX9TyOhT0y7qqIakKZ6NhNo70kV",
      "include_colab_link": true
    },
    "kernelspec": {
      "name": "python3",
      "display_name": "Python 3"
    },
    "language_info": {
      "name": "python"
    }
  },
  "cells": [
    {
      "cell_type": "markdown",
      "metadata": {
        "id": "view-in-github",
        "colab_type": "text"
      },
      "source": [
        "<a href=\"https://colab.research.google.com/github/ecloguehwang/HSS/blob/master/%EC%88%9C%EC%97%B4%EC%A1%B0%ED%95%A9.ipynb\" target=\"_parent\"><img src=\"https://colab.research.google.com/assets/colab-badge.svg\" alt=\"Open In Colab\"/></a>"
      ]
    },
    {
      "cell_type": "code",
      "source": [
        "import math\n",
        "\n",
        "def combinations(n, k):\n",
        "    if k > n:\n",
        "        raise ValueError(\"뽑고자 하는 숫자가 숫자의 총갯수보다 더 큽니다.\")\n",
        "    return math.factorial(n) // (math.factorial(k) * math.factorial(n - k))\n",
        "\n",
        "\n",
        "def probability_of_picking(k, n):\n",
        "    all_combinations = combinations(n, k)\n",
        "    all_possible_choices = combinations(n, k)\n",
        "    probability = 1 / all_possible_choices\n",
        "    return all_combinations, probability\n",
        "\n",
        "if __name__ == \"__main__\":\n",
        "    n = int(input(\"숫자의 총 갯수: \"))  # Total number of elements in the set\n",
        "    k = int(input(\"뽑고자하는 수의 갯수: \"))  # Number of elements to pick\n",
        "\n",
        "    combinations_count, probability = probability_of_picking(k, n)\n",
        "\n",
        "    print(\"Number of combinations:\", combinations_count)\n",
        "    print(\"Probability of picking the numbers:\", probability)\n"
      ],
      "metadata": {
        "colab": {
          "base_uri": "https://localhost:8080/"
        },
        "id": "qjwgfkoVzya8",
        "outputId": "7f626b59-cfb7-4738-c7e7-4b505f581e86"
      },
      "execution_count": 23,
      "outputs": [
        {
          "output_type": "stream",
          "name": "stdout",
          "text": [
            "숫자의 총 갯수: 45\n",
            "뽑고자하는 수의 갯수: 6\n",
            "Number of combinations: 8145060\n",
            "Probability of picking the numbers: 1.2277380399898834e-07\n"
          ]
        }
      ]
    },
    {
      "cell_type": "code",
      "source": [
        "import math\n",
        "\n",
        "def combinations(n, k):\n",
        "    if k > n:\n",
        "        raise ValueError(\"The number of elements to pick can't be larger than the total number of elements.\")\n",
        "    return math.factorial(n) // (math.factorial(k) * math.factorial(n - k))\n",
        "\n",
        "def probability_of_picking(k, n):\n",
        "    all_combinations = combinations(n, k)\n",
        "    all_possible_choices = 2 ** n\n",
        "    probability = all_combinations / all_possible_choices\n",
        "    return all_combinations, probability\n",
        "\n",
        "if __name__ == \"__main__\":\n",
        "    k = int(input(\"뽑고자하는 수의 갯수\"))  # Number of elements to pick\n",
        "    n = int(input(\"숫자의 총 갯수\"))  # Total number of elements in the set\n",
        "\n",
        "    try:\n",
        "        combinations_count, probability = probability_of_picking(k, n)\n",
        "        print(\"Number of combinations:\", combinations_count)\n",
        "        print(\"Probability of picking the numbers:\", probability)\n",
        "    except ValueError as ve:\n",
        "        print(str(ve))\n"
      ],
      "metadata": {
        "colab": {
          "base_uri": "https://localhost:8080/"
        },
        "id": "VYYqaMIA45Wl",
        "outputId": "dac51455-1acc-4e75-adcd-58ae9abe701d"
      },
      "execution_count": 16,
      "outputs": [
        {
          "output_type": "stream",
          "name": "stdout",
          "text": [
            "뽑고자하는 수의 갯수6\n",
            "숫자의 총 갯수45\n",
            "Number of combinations: 8145060\n",
            "Probability of picking the numbers: 2.3149652861320646e-07\n"
          ]
        }
      ]
    },
    {
      "cell_type": "code",
      "source": [],
      "metadata": {
        "id": "UTZ9dMXi4w8G"
      },
      "execution_count": null,
      "outputs": []
    }
  ]
}