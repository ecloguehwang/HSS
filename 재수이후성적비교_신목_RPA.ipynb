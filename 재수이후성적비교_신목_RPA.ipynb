{
  "nbformat": 4,
  "nbformat_minor": 0,
  "metadata": {
    "colab": {
      "provenance": [],
      "mount_file_id": "1kltBVBY6udhqfzMz9bILmOJWguJDB9Yx",
      "authorship_tag": "ABX9TyNwNi9BE7pnmwRFHOSwHEmv",
      "include_colab_link": true
    },
    "kernelspec": {
      "name": "python3",
      "display_name": "Python 3"
    },
    "language_info": {
      "name": "python"
    }
  },
  "cells": [
    {
      "cell_type": "markdown",
      "metadata": {
        "id": "view-in-github",
        "colab_type": "text"
      },
      "source": [
        "<a href=\"https://colab.research.google.com/github/ecloguehwang/HSS/blob/master/%EC%9E%AC%EC%88%98%EC%9D%B4%ED%9B%84%EC%84%B1%EC%A0%81%EB%B9%84%EA%B5%90_%EC%8B%A0%EB%AA%A9_RPA.ipynb\" target=\"_parent\"><img src=\"https://colab.research.google.com/assets/colab-badge.svg\" alt=\"Open In Colab\"/></a>"
      ]
    },
    {
      "cell_type": "code",
      "source": [
        "# 라이브러리 부르기\n",
        "import pandas as pd\n",
        "import numpy as np\n",
        "import csv\n",
        "\n",
        "\n",
        "##  데이터 부르기 : 구글colab에 마운트(mount)하는 방법: 왼쪽 폴더아이콘을 누르기-눈동자 왼쪽 파일마운트 아이콘 클릭- /content/drive/MyDrive/python폴더의 susi_2021simple.csv파일을 불러옴\n",
        "df1 = pd.read_csv('/content/drive/MyDrive/python/sinmok/susi_jsi_sinmok.csv', encoding = 'cp949')\n",
        "df2 = pd.read_csv('/content/drive/MyDrive/python/sinmok/jesu.csv', encoding = 'cp949')\n",
        "\n",
        "# 첫 5줄을 봅니다.\n",
        "df1.tail(4)\n",
        "#df2.head(4)"
      ],
      "metadata": {
        "id": "yeRjzNaXtuEc"
      },
      "execution_count": null,
      "outputs": []
    },
    {
      "cell_type": "code",
      "source": [
        "#2021년 고3인원 318명\n",
        "df1_u = df1['이름'].unique()\n",
        "len(df1_u)"
      ],
      "metadata": {
        "colab": {
          "base_uri": "https://localhost:8080/"
        },
        "id": "4Vt6_VLSzZvB",
        "outputId": "ab413f1e-c8e8-45eb-ffbe-30be2b1bac21"
      },
      "execution_count": null,
      "outputs": [
        {
          "output_type": "execute_result",
          "data": {
            "text/plain": [
              "318"
            ]
          },
          "metadata": {},
          "execution_count": 3
        }
      ]
    },
    {
      "cell_type": "code",
      "source": [
        "#2021년 고3인원 318명\n",
        "df1_u = df1['이름'].unique()\n",
        "print(df1_u)"
      ],
      "metadata": {
        "id": "TLAbKXTQyRu7"
      },
      "execution_count": null,
      "outputs": []
    },
    {
      "cell_type": "code",
      "source": [
        "#졸업자 중 2022년에 재수한 학생들\n",
        "df2_u = df2['이름'].unique()\n",
        "print(df2_u)"
      ],
      "metadata": {
        "id": "sVdByItLKIUg"
      },
      "execution_count": null,
      "outputs": []
    },
    {
      "cell_type": "code",
      "source": [
        "#2개의 파일을 합침: 이름, 성별 파일과 이름과 여러변수가 있는 파일\n",
        "df_rj = pd.merge(df1, df2, left_on='이름', right_on='이름', how='right')\n",
        "df_rj.head(2)"
      ],
      "metadata": {
        "id": "0h7glEqroiwZ"
      },
      "execution_count": null,
      "outputs": []
    },
    {
      "cell_type": "code",
      "source": [
        "#합친 파일의 변수별 결측값 수\n",
        "df_rj.isnull().sum()"
      ],
      "metadata": {
        "id": "UafqgcJFqSHI"
      },
      "execution_count": null,
      "outputs": []
    },
    {
      "cell_type": "code",
      "source": [
        "#합친 파일을 엑셀로 저장\n",
        "import openpyxl\n",
        "\n",
        "#2개의 파일을 합침: 이름, 성별 파일과 이름과 여러변수가 있는 파일\n",
        "df_rj = pd.merge(df1, df2, left_on='이름', right_on='이름', how='right')\n",
        "\n",
        "\n",
        "#데이터 프레임으로 전환\n",
        "df_rj = pd.DataFrame(df_rj)\n",
        "\n",
        "\n",
        "#결과를 엑셀로 저장\n",
        "path = '/content/drive/MyDrive/python/sinmok/'\n",
        "df_rj.to_excel(excel_writer= f'{path}jesu_compare_sinmok.xlsx')\n",
        "\n"
      ],
      "metadata": {
        "id": "39pgO0D7uT_e"
      },
      "execution_count": 49,
      "outputs": []
    },
    {
      "cell_type": "code",
      "source": [
        "#재수생수: 234명: 방법1\n",
        "#지원자수\n",
        "unique_names = df_rj['이름'].unique()\n",
        "num_unique_names = len(unique_names)\n",
        "print(num_unique_names)"
      ],
      "metadata": {
        "id": "N9t8wVPNwkLU",
        "colab": {
          "base_uri": "https://localhost:8080/"
        },
        "outputId": "21c3d18e-4241-4a0b-fd14-b3bd3f6da214"
      },
      "execution_count": null,
      "outputs": [
        {
          "output_type": "stream",
          "name": "stdout",
          "text": [
            "234\n"
          ]
        }
      ]
    },
    {
      "cell_type": "code",
      "source": [
        "#총지원자수: 방법2\n",
        "unique_names = df_rj['이름'].nunique()\n",
        "print(unique_names)"
      ],
      "metadata": {
        "id": "A07NX0icRIZ9",
        "colab": {
          "base_uri": "https://localhost:8080/"
        },
        "outputId": "891064c2-15d0-4fc8-9534-1e507e9877a5"
      },
      "execution_count": null,
      "outputs": [
        {
          "output_type": "stream",
          "name": "stdout",
          "text": [
            "234\n"
          ]
        }
      ]
    },
    {
      "cell_type": "code",
      "source": [
        "#이름으로 표준점수와 백분위 조회\n",
        "name = input(\"이름:\")\n",
        "df_name = df_rj[(df_rj.이름 == name)]\n",
        "df_name = df_name[['이름', '백분위_평균', '백분위평균_졸업', '표점합', '표점합_졸업']]\n",
        "df_name"
      ],
      "metadata": {
        "id": "D-JpLikRxN6I"
      },
      "execution_count": null,
      "outputs": []
    },
    {
      "cell_type": "code",
      "source": [
        "# '백분위_평균' 변수(열) 값 중 결측값 제외\n",
        "df_rj_restudy = df_rj.dropna(subset=['백분위_평균'])\n",
        "df_rj_restudy"
      ],
      "metadata": {
        "id": "YbWrJWEqMdgv"
      },
      "execution_count": null,
      "outputs": []
    },
    {
      "cell_type": "code",
      "source": [
        "# Convert columns to numeric, setting errors='coerce' to turn non-convertible values to NaN\n",
        "df_rj['백분위_평균'] = pd.to_numeric(df_rj['백분위_평균'], errors='coerce')\n",
        "df_rj['백분위평균_졸업'] = pd.to_numeric(df_rj['백분위평균_졸업'], errors='coerce')\n",
        "\n",
        "# Optionally, handle NaN values here (e.g., df_rj.dropna() to remove, or df_rj.fillna(value) to replace them)\n",
        "\n",
        "# Calculate the mean\n",
        "mean_백분위_평균 = df_rj['백분위_평균'].mean().round(1)\n",
        "mean_백분위_평균_졸업 = df_rj['백분위평균_졸업'].mean().round(1)\n",
        "\n",
        "dif = mean_백분위_평균_졸업 - mean_백분위_평균\n",
        "dif = dif.round(1)\n",
        "\n",
        "\n",
        "print(f\"고3(2021)이 1년후 재수(2022)했을때 백분위 평균차이가 {dif}%입니다.\")\n",
        "mean_백분위_평균, mean_백분위_평균_졸업"
      ],
      "metadata": {
        "id": "nf2l95yD16Zj"
      },
      "execution_count": null,
      "outputs": []
    },
    {
      "cell_type": "code",
      "source": [
        "#특정등급 이상되는 학생의 백분위점수 조회하기 : 이름없는 버전\n",
        "\n",
        "#라이브러리 불러오기\n",
        "import pandas as pd\n",
        "import matplotlib.pyplot as plt\n",
        "from tabulate import tabulate\n",
        "import re\n",
        "\n",
        "\n",
        "#df_rj = df_rj[~df_rj['지원시기'].str.contains('[가나다]', regex=True)]\n",
        "\n",
        "#입력받기\n",
        "level_mini = float(input(\"백분위 점수 몇% 이상 학생을 조회하고 싶나요?:\"))\n",
        "level_max = float(input(\"백분위 점수 몇% 이하 학생을 조회하고 싶나요?:\"))\n",
        "\n",
        "\n",
        "# Convert columns to numeric, setting errors='coerce' to turn non-convertible values to NaN\n",
        "df_rj['백분위_평균'] = pd.to_numeric(df_rj['백분위_평균'], errors='coerce')\n",
        "df_rj['백분위평균_졸업'] = pd.to_numeric(df_rj['백분위평균_졸업'], errors='coerce')\n",
        "\n",
        "\n",
        "# 수시결과만 출력: 정시 '가나다' 군 제외: Apply str.contains on '지원시기', replacing NaN with an empty string to avoid type errors\n",
        "df_rj = df_rj[~df_rj['지원시기'].fillna('').str.contains('[가나다]+', regex=True, na=False)]\n",
        "\n",
        "\n",
        "#이상, 이하 정의\n",
        "df_rj_nesin = df_rj[(df_rj['백분위_평균'] >= level_mini) & (df_rj['백분위_평균'] <= level_max)]\n",
        "\n",
        "\n",
        "#필요한 열 모으기\n",
        "df_rj_nesin = df_rj_nesin[['지원시기', '대학', '모집단위', '최종', '내신_전과목', '백분위_평균', '백분위평균_졸업']].sort_values(by = '내신_전과목')\n",
        "\n",
        "\n",
        "#내신_전과목의 소수점 첫째자리\n",
        "df_rj_nesin['내신_전과목'] = df_rj_nesin['내신_전과목'].round(1)\n",
        "\n",
        "\n",
        "# Convert DataFrame to a list of lists for tabulate\n",
        "table_data = df_rj_nesin.values.tolist()\n",
        "\n",
        "# Define the table headers\n",
        "table_headers = ['지원시기', '대학', '모집단위',  '최종', '내신_전과목', '백분위_평균', '백분위평균_졸업']\n",
        "\n",
        "# Create the formatted table using tabulate\n",
        "table_string = tabulate(table_data, headers=table_headers, tablefmt='plain')\n",
        "\n",
        "print(\"**********************************************\")\n",
        "print(table_string)\n",
        "\n",
        "#엑셀로 저장\n",
        "path = '/content/drive/MyDrive/python/sinmok/result_restudy/'\n",
        "df_rj_nesin.to_excel(excel_writer= f'{path}고3수능백분위{level_mini}%이상{level_max}%이하.xlsx')\n"
      ],
      "metadata": {
        "id": "aosyNjJ8H9XW"
      },
      "execution_count": null,
      "outputs": []
    },
    {
      "cell_type": "code",
      "source": [
        "#특정등급 이상되는 학생의 백분위점수 조회하기 : 이름있는 버전\n",
        "\n",
        "\n",
        "#라이브러리 불러오기\n",
        "import pandas as pd\n",
        "import matplotlib.pyplot as plt\n",
        "from tabulate import tabulate\n",
        "import re\n",
        "\n",
        "\n",
        "\n",
        "#입력받기\n",
        "level_mini = float(input(\"백분위 점수 몇% 이상 학생을 조회하고 싶나요?:\"))\n",
        "level_max = float(input(\"백분위 점수 몇% 이하 학생을 조회하고 싶나요?:\"))\n",
        "\n",
        "\n",
        "# Convert columns to numeric, setting errors='coerce' to turn non-convertible values to NaN\n",
        "df_rj['백분위_평균'] = pd.to_numeric(df_rj['백분위_평균'], errors='coerce')\n",
        "df_rj['백분위평균_졸업'] = pd.to_numeric(df_rj['백분위평균_졸업'], errors='coerce')\n",
        "\n",
        "# 수시결과만 출력: 정시 '가나다' 군 제외: Apply str.contains on '지원시기', replacing NaN with an empty string to avoid type errors\n",
        "#df_rj = df_rj[~df_rj['지원시기'].fillna('').str.contains('[가나다]+', regex=True, na=False)]\n",
        "\n",
        "\n",
        "#특정 백분위 이상, 특정 백분위 이하 정의\n",
        "df_rj_nesin = df_rj[(df_rj['백분위_평균'] >= level_mini) & (df_rj['백분위_평균'] <= level_max)]\n",
        "\n",
        "\n",
        "df_rj_nesin = df_rj_nesin[['이름', '지원시기', '대학', '모집단위', '최종', '내신_전과목', '백분위_평균', '백분위평균_졸업']].sort_values(by = '내신_전과목')\n",
        "\n",
        "df_rj_nesin['내신_전과목'] = df_rj_nesin['내신_전과목'].round(1)\n",
        "\n",
        "# Convert DataFrame to a list of lists for tabulate\n",
        "table_data = df_rj_nesin.values.tolist()\n",
        "\n",
        "# Define the table headers\n",
        "table_headers = ['이름', '지원시기', '대학', '모집단위',  '최종', '내신_전과목', '백분위_평균', '백분위평균_졸업']\n",
        "\n",
        "# Create the formatted table using tabulate\n",
        "table_string = tabulate(table_data, headers=table_headers, tablefmt='plain')\n",
        "\n",
        "print(\"**********************************************\")\n",
        "print(table_string)\n",
        "\n",
        "#엑셀로 저장\n",
        "path = '/content/drive/MyDrive/python/sinmok/result_restudy/'\n",
        "df_rj_nesin.to_excel(excel_writer= f'{path}고3수능백분위{level_mini}%이상{level_max}%이하.xlsx')\n"
      ],
      "metadata": {
        "id": "iNAr3ss9w0Ru"
      },
      "execution_count": null,
      "outputs": []
    },
    {
      "cell_type": "code",
      "source": [
        "#특정등급 이상되는 학생들의 수능점수 조회\n",
        "\n",
        "#라이브러리 불러오기\n",
        "import pandas as pd\n",
        "import matplotlib.pyplot as plt\n",
        "from tabulate import tabulate\n",
        "import re\n",
        "\n",
        "\n",
        "#df_rj = df_rj[~df_rj['지원시기'].str.contains('[가나다]', regex=True)]\n",
        "\n",
        "\n",
        "#입력받기\n",
        "level_mini = float(input(\"백분위 점수 몇% 이상 학생을 조회하고 싶나요?:\"))\n",
        "level_max = float(input(\"백분위 점수 몇% 이하 학생을 조회하고 싶나요?:\"))\n",
        "\n",
        "\n",
        "\n",
        "# 수시결과만 출력: 정시 '가나다' 군 제외: Apply str.contains on '지원시기', replacing NaN with an empty string to avoid type errors\n",
        "df_rj = df_rj[~df_rj['지원시기'].fillna('').str.contains('[가나다]+', regex=True, na=False)]\n",
        "\n",
        "\n",
        "df_rj_nesin = df_rj[(df_rj['백분위_평균'] >= level_mini) & (df_rj['백분위_평균'] < level_max)]\n",
        "\n",
        "\n",
        "#이름 중복자 제거\n",
        "df_rj_nesin = df_rj_nesin.drop_duplicates('이름')\n",
        "\n",
        "#열 리스트\n",
        "list = ['지원시기', '선택_국어', '백분위_국어', '선택_수학', '백분위_수학',\n",
        "        '영어등급', '백분위_탐구1', '백분위_탐구2', '백분위_평균']\n",
        "\n",
        "\n",
        "#백분위평균으로 오름차순 정렬\n",
        "df_rj_nesin = df_rj_nesin[list].sort_values(by = '백분위_평균')\n",
        "\n",
        "\n",
        "df_rj_nesin['백분위_평균'] = df_rj_nesin['백분위_평균'].round(1)\n",
        "\n",
        "\n",
        "# Convert DataFrame to a list of lists for tabulate\n",
        "table_data = df_rj_nesin.values.tolist()\n",
        "\n",
        "# Define the table headers\n",
        "table_headers = ['지원시기','선택_국어', '백분위_국어', '선택_수학', '백분위_수학',\n",
        "        '영어등급', '백분위_탐구1', '백분위_탐구2', '백분위_평균']\n",
        "\n",
        "# Create the formatted table using tabulate\n",
        "table_string = tabulate(table_data, headers=table_headers, tablefmt='plain')\n",
        "\n",
        "print(\"**********************************************\")\n",
        "print(table_string)\n",
        "\n",
        "#엑셀로 저장\n",
        "path = '/content/drive/MyDrive/python/sinmok/result_restudy/'\n",
        "df_rj_nesin.to_excel(excel_writer= f'{path}고3수능백분위{level_mini}%이상{level_max}%이하 학생의 과목별 백분위점수.xlsx')\n"
      ],
      "metadata": {
        "id": "nsYVF3ysMdMu"
      },
      "execution_count": null,
      "outputs": []
    },
    {
      "cell_type": "code",
      "source": [
        "#수학과목 선택 빈도\n",
        "df_rj.groupby('선택_수학').count()"
      ],
      "metadata": {
        "id": "50f1VBsZS73f"
      },
      "execution_count": null,
      "outputs": []
    },
    {
      "cell_type": "code",
      "source": [
        "df_rj['백분위_평균'].isnull().sum()"
      ],
      "metadata": {
        "colab": {
          "base_uri": "https://localhost:8080/"
        },
        "id": "F8EoVJlqzy-j",
        "outputId": "e7d26d6f-b3a2-4c01-ed4f-eb9633c7ca79"
      },
      "execution_count": 14,
      "outputs": [
        {
          "output_type": "execute_result",
          "data": {
            "text/plain": [
              "107"
            ]
          },
          "metadata": {},
          "execution_count": 14
        }
      ]
    },
    {
      "cell_type": "code",
      "source": [
        "# 특정 '문자열'을 포함하는 열(column)을 뽑아내는 코드:\n",
        "math_columns = [col for col in df_rj if '백분위_평균' in col]\n",
        "print(math_columns)"
      ],
      "metadata": {
        "colab": {
          "base_uri": "https://localhost:8080/"
        },
        "id": "ih7o4Q3ezlS8",
        "outputId": "f93781f8-0850-4035-f1a4-bbda66300ae8"
      },
      "execution_count": 13,
      "outputs": [
        {
          "output_type": "stream",
          "name": "stdout",
          "text": [
            "['백분위_평균']\n"
          ]
        }
      ]
    }
  ]
}