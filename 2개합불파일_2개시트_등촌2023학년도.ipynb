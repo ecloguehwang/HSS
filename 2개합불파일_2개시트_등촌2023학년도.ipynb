{
  "nbformat": 4,
  "nbformat_minor": 0,
  "metadata": {
    "colab": {
      "provenance": [],
      "mount_file_id": "1u84bu7g9Amai29RZ6-Ob6f5Roz7ZdKnF",
      "authorship_tag": "ABX9TyPFLxyAzfxsui8aIcBIWIWs",
      "include_colab_link": true
    },
    "kernelspec": {
      "name": "python3",
      "display_name": "Python 3"
    },
    "language_info": {
      "name": "python"
    }
  },
  "cells": [
    {
      "cell_type": "markdown",
      "metadata": {
        "id": "view-in-github",
        "colab_type": "text"
      },
      "source": [
        "<a href=\"https://colab.research.google.com/github/ecloguehwang/HSS/blob/master/2%EA%B0%9C%ED%95%A9%EB%B6%88%ED%8C%8C%EC%9D%BC_2%EA%B0%9C%EC%8B%9C%ED%8A%B8_%EB%93%B1%EC%B4%8C2023%ED%95%99%EB%85%84%EB%8F%84.ipynb\" target=\"_parent\"><img src=\"https://colab.research.google.com/assets/colab-badge.svg\" alt=\"Open In Colab\"/></a>"
      ]
    },
    {
      "cell_type": "markdown",
      "source": [
        "#2개(수시, 정시)파일, 2개시트일때 합불파일을 새로운 1개의 합불파일로 만들기"
      ],
      "metadata": {
        "id": "WTVU2uFxogOP"
      }
    },
    {
      "cell_type": "code",
      "execution_count": 9,
      "metadata": {
        "id": "JcHxVhQ-IHQB"
      },
      "outputs": [],
      "source": [
        "##라이브러리\n",
        "import pandas as pd\n",
        "\n",
        "\n",
        "##엑셀파일 불러오기\n",
        "#df_jsi = pd.read_excel(f'{path}habbul_2020sinmok.csv', encoding = 'cp949')\n",
        "path = '/content/drive/MyDrive/python/habbul/'\n",
        "df_jsi = pd.read_excel(f'{path}jsi_d_2023.xlsx')\n",
        "df_susi = pd.read_excel(f'{path}susi_d_2023.xlsx')"
      ]
    },
    {
      "cell_type": "code",
      "source": [
        "#'수시합불자료' 파일 전처리\n",
        "\n",
        "import pandas as pd\n",
        "\n",
        "\n",
        "## 1.'수시합불자료' 시트 불러오기\n",
        "path = '/content/drive/MyDrive/python/habbul/'\n",
        "df_susi = pd.read_excel(f'{path}susi_d_2023.xlsx')\n",
        "\n",
        "\n",
        "##2. Delete all columns and replace with second row as column names\n",
        "df_susi.columns = df_susi.iloc[1]\n",
        "df_susi = df_susi.drop([0, 1])\n",
        "\n",
        "##3. Delete the first row (which is now the third row in the original dataframe)\n",
        "df_susi = df_susi.drop(2)\n",
        "\n",
        "##4. Resetting the index\n",
        "df_susi.reset_index(drop=True, inplace=True)\n",
        "\n",
        "\n",
        "##5. Renaming column names\n",
        "df_susi.columns.values[32:37] = ['국어_' + col for col in df_susi.columns[32:37]]\n",
        "df_susi.columns.values[37:42] = ['수학_' + col for col in df_susi.columns[37:42]]\n",
        "df_susi.columns.values[42:46] = ['영어_' + col for col in df_susi.columns[42:46]]\n",
        "df_susi.columns.values[46:52] = ['선택1_' + col for col in df_susi.columns[46:52]]\n",
        "df_susi.columns.values[52:57] = ['선택2_' + col for col in df_susi.columns[52:57]]\n",
        "df_susi.columns.values[57:61] = ['한국사_' + col for col in df_susi.columns[57:61]]\n",
        "df_susi.columns.values[61:66] = ['제2외국어_' + col for col in df_susi.columns[61:66]]\n",
        "\n",
        "# 6.열 이름에서 \\n 삭제\n",
        "df_susi.columns = df_susi.columns.str.replace('\\n', '', regex=False)\n",
        "\n",
        "# 결과 DataFrame 출력\n",
        "print(df_susi.head())"
      ],
      "metadata": {
        "id": "6LyX6X5A2A0E"
      },
      "execution_count": null,
      "outputs": []
    },
    {
      "cell_type": "code",
      "source": [
        "#'정시합불자료' 파일 전처리\n",
        "\n",
        "import pandas as pd\n",
        "\n",
        "\n",
        "## 1.'정시합불자료' 시트 불러오기\n",
        "path = '/content/drive/MyDrive/python/habbul/'\n",
        "df_jsi = pd.read_excel(f'{path}jsi_d_2023.xlsx')\n",
        "\n",
        "\n",
        "##2. Delete all columns and replace with second row as column names\n",
        "df_jsi.columns = df_jsi.iloc[1]\n",
        "df_jsi = df_jsi.drop([0, 1])\n",
        "\n",
        "##3. Delete the first row (which is now the third row in the original dataframe)\n",
        "df_jsi = df_jsi.drop(2)\n",
        "\n",
        "##4. Resetting the index\n",
        "df_jsi.reset_index(drop=True, inplace=True)\n",
        "\n",
        "\n",
        "##5. Rename the '군' column to '지원시기'\n",
        "df_jsi = df_jsi.rename(columns={'군': '지원\\n시기'})\n",
        "\n",
        "\n",
        "##6. Renaming column names\n",
        "df_jsi.columns.values[32:37] = ['국어_' + col for col in df_jsi.columns[32:37]]\n",
        "df_jsi.columns.values[37:42] = ['수학_' + col for col in df_jsi.columns[37:42]]\n",
        "df_jsi.columns.values[42:46] = ['영어_' + col for col in df_jsi.columns[42:46]]\n",
        "df_jsi.columns.values[46:52] = ['선택1_' + col for col in df_jsi.columns[46:52]]\n",
        "df_jsi.columns.values[52:57] = ['선택2_' + col for col in df_jsi.columns[52:57]]\n",
        "df_jsi.columns.values[57:61] = ['한국사_' + col for col in df_jsi.columns[57:61]]\n",
        "df_jsi.columns.values[61:66] = ['제2외국어_' + col for col in df_jsi.columns[61:66]]\n",
        "\n",
        "# 열 이름에서 \\n 삭제\n",
        "df_jsi.columns = df_jsi.columns.str.replace('\\n', '', regex=False)\n",
        "\n",
        "# 결과 DataFrame 출력\n",
        "print(df_jsi.head())"
      ],
      "metadata": {
        "id": "_WAClnBHaOSR"
      },
      "execution_count": null,
      "outputs": []
    },
    {
      "cell_type": "code",
      "source": [
        "# 두 파일을 합치기\n",
        "combined_df = pd.concat([df_susi, df_jsi], axis=0)\n",
        "\n",
        "# Reset the index\n",
        "combined_df.reset_index(drop=True, inplace=True)\n",
        "\n",
        "\n",
        "# 새로운 경로와 파일명으로 엑셀 파일 저장\n",
        "new_path = '/content/drive/MyDrive/python/habbul/'\n",
        "combined_df.to_excel(f'{new_path}등촌2023_수시정시.xlsx', index=False)\n",
        "\n",
        "\n",
        "# 열 데이터를 숫자형으로 변환\n",
        "cols_to_convert = ['국어_백분위', '수학_백분위', '선택1_백분위', '선택2_백분위',\n",
        "                   '국어_표준점수', '수학_표준점수', '선택1_표준점수', '선택2_표준점수',\n",
        "                   '국어_등급', '수학_등급', '영어_등급', '선택1_등급', '선택2_등급']\n",
        "\n",
        "for col in cols_to_convert:\n",
        "    combined_df[col] = pd.to_numeric(combined_df[col], errors='coerce')\n",
        "\n",
        "\n",
        "    # 1. '국어_표준점수', '수학_표준점수', '선택1_표준점수', '선택2_표준점수' 열의 합계를 '표점합_수능' 열에 저장\n",
        "combined_df['표점합_수능'] = combined_df['국어_표준점수'] + combined_df['수학_표준점수'] + combined_df['선택1_표준점수'] + combined_df['선택2_표준점수']\n",
        "\n",
        "    # 2. '국어_백분위', '수학_백분위', '선택1_백분위', '선택2_백분위'를 사용하여 '백분위_수능' 열 계산\n",
        "combined_df['백분위_수능'] = (combined_df['국어_백분위'] + combined_df['수학_백분위'] + (combined_df['선택1_백분위'] + combined_df['선택2_백분위']) / 2) / 3\n",
        "\n",
        "    # 3. '국어_등급', '수학_등급', '영어_등급', '선택1_등급', '선택2_등급'을 사용하여 '등급_수능' 열 계산\n",
        "combined_df['등급_수능'] = (combined_df['국어_등급'] + combined_df['수학_등급'] + combined_df['영어_등급'] + (combined_df['선택1_등급'] + combined_df['선택2_등급']) / 2) / 3\n",
        "\n",
        "\n",
        "# 결과 DataFrame 출력\n",
        "print(combined_df.head())\n",
        "\n",
        "\n",
        "# 새로운 경로와 파일명으로 엑셀 파일 저장\n",
        "new_path = '/content/drive/MyDrive/python/habbul/'\n",
        "combined_df.to_excel(f'{new_path}등촌2023_수시정시_전처리최종.xlsx', index=False)"
      ],
      "metadata": {
        "id": "xUqOmLuttc8t"
      },
      "execution_count": null,
      "outputs": []
    },
    {
      "cell_type": "code",
      "source": [
        "# View columns from 32rd to 37th\n",
        "df_jsi.iloc[:, 32:37]"
      ],
      "metadata": {
        "id": "rETH0YqxfY-C"
      },
      "execution_count": null,
      "outputs": []
    }
  ]
}