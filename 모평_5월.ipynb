{
  "nbformat": 4,
  "nbformat_minor": 0,
  "metadata": {
    "colab": {
      "provenance": [],
      "mount_file_id": "1eaoJiETf77gvu9Ug6OyQ2FHbdY9jHy6G",
      "authorship_tag": "ABX9TyNAgKa7+QBK94hvt7ZT45aa",
      "include_colab_link": true
    },
    "kernelspec": {
      "name": "python3",
      "display_name": "Python 3"
    },
    "language_info": {
      "name": "python"
    }
  },
  "cells": [
    {
      "cell_type": "markdown",
      "metadata": {
        "id": "view-in-github",
        "colab_type": "text"
      },
      "source": [
        "<a href=\"https://colab.research.google.com/github/ecloguehwang/HSS/blob/master/%EB%AA%A8%ED%8F%89_5%EC%9B%94.ipynb\" target=\"_parent\"><img src=\"https://colab.research.google.com/assets/colab-badge.svg\" alt=\"Open In Colab\"/></a>"
      ]
    },
    {
      "cell_type": "code",
      "source": [
        "#colab에서 matplotlib와 sns 라이브러리 그래프 한글을 깨지지 않게 하는 법: 실행 후 런타임 재실행\n",
        "!sudo apt-get install -y fonts-nanum\n",
        "!sudo fc-cache -fv\n",
        "!rm ~/.cache/matplotlib -rf"
      ],
      "metadata": {
        "id": "9Z8Q931z4OvC"
      },
      "execution_count": null,
      "outputs": []
    },
    {
      "cell_type": "code",
      "execution_count": null,
      "metadata": {
        "id": "u1P-ymw-Bkx-"
      },
      "outputs": [],
      "source": [
        "# 라이브러리 부르기\n",
        "import pandas as pd\n",
        "import numpy as np\n",
        "import seaborn as sns\n",
        "import matplotlib.pyplot as plt\n",
        "\n",
        "\n",
        "##  5모 데이터 부르기 : 구글colab에 마운트(mount)하는 방법: 왼쪽 폴더아이콘을 누르기-눈동자 왼쪽 파일마운트 아이콘 클릭- /content/drive/MyDrive/python폴더의 susi_2021simple.csv파일을 불러옴\n",
        "path = '/content/drive/MyDrive/python/deungchon/'\n",
        "df = pd.read_csv(f'{path}mo5.csv', encoding = 'cp949')\n",
        "\n",
        "# 첫 5줄을 봅니다. \n",
        "df.head(4)"
      ]
    },
    {
      "cell_type": "code",
      "source": [
        "#matplotlib에서 한글구현\n",
        "plt.rc('font', family='NanumBarunGothic')\n",
        "\n",
        "#그래프 마이너스 기호 깨짐 방지\n",
        "plt.rcParams['axes.unicode_minus'] = False"
      ],
      "metadata": {
        "id": "eP2W6ZYlsPGB"
      },
      "execution_count": 2,
      "outputs": []
    },
    {
      "cell_type": "code",
      "source": [
        "#이름으로 해당 학생의 전체 석차를 확인: 아름다운 코드\n",
        "# Get input name\n",
        "name = input(\"이름:\")\n",
        "\n",
        "# Filter DataFrame to only include rows with the input name\n",
        "df_filtered = df[df['이름'] == name]\n",
        "\n",
        "# Calculate rank of first row in filtered DataFrame\n",
        "rank = (df[df['백분위평균_4과목_5모'] > df_filtered['백분위평균_4과목_5모'].iloc[0]].groupby('이름')['백분위평균_4과목_5모'].nunique().sum()) + 1\n",
        "\n",
        "# Print the result\n",
        "print(f\"{name}의 '백분위평균_4과목_5모' 등수는 {rank}등 입니다.\")"
      ],
      "metadata": {
        "id": "0_iqueRQolA3"
      },
      "execution_count": null,
      "outputs": []
    },
    {
      "cell_type": "code",
      "source": [
        "df.describe()"
      ],
      "metadata": {
        "id": "upm55rWVh8Qf"
      },
      "execution_count": null,
      "outputs": []
    },
    {
      "cell_type": "code",
      "source": [
        "df.isna().sum()"
      ],
      "metadata": {
        "id": "LgOm4fonyRID"
      },
      "execution_count": null,
      "outputs": []
    },
    {
      "cell_type": "code",
      "source": [
        "#특정 백분위 구간의 점수별 빈도(ex: 80~85%사이의 빈도수)\n",
        "mi = int(input(\"이상:\"))\n",
        "mx = int(input(\"미만:\"))\n",
        "\n",
        "\n",
        "# mi이상 mx이하 조건을 충족하는 객체 만들기\n",
        "df_interval = df[(df.백분위평균_4과목_5모 >= mi) & (df.백분위평균_4과목_5모 < mx)]\n",
        "\n",
        "# value_counts()로 빈도를 세고, sort_index() 기준으로 정렬!\n",
        "list_1 =  df_interval[\"백분위평균_4과목_5모\"].value_counts().sort_index()\n",
        "print(list_1)\n",
        "print(\"------------------------------\")\n",
        "#print(str(len(list_1))+\"명\")\n",
        "\n",
        "#print(\"{}이상 {}미만 업생:{}명\".format(mi, mx, list_1))\n",
        "print(\"{}이상 {}미만 {}명\".format(mi, mx, len(df_interval)))\n",
        "\n",
        "#자료 https://stackoverflow.com/questions/43855474/changing-sort-in-value-counts8"
      ],
      "metadata": {
        "colab": {
          "base_uri": "https://localhost:8080/"
        },
        "id": "GKsXLZ9HFd9i",
        "outputId": "2565996a-3263-474e-e9e0-3b3d06ea3dcf"
      },
      "execution_count": 23,
      "outputs": [
        {
          "output_type": "stream",
          "name": "stdout",
          "text": [
            "이상:89\n",
            "미만:100\n",
            "89.30    1\n",
            "93.23    1\n",
            "96.95    1\n",
            "Name: 백분위평균_4과목_5모, dtype: int64\n",
            "------------------------------\n",
            "89이상 100미만 3명\n"
          ]
        }
      ]
    },
    {
      "cell_type": "code",
      "source": [
        "df.info()"
      ],
      "metadata": {
        "id": "SH1abvN5s3Md"
      },
      "execution_count": null,
      "outputs": []
    },
    {
      "cell_type": "code",
      "source": [
        "#특정 백분위 구간의 점수별 빈도 조회 후 학생명단과 점수를 엑셀로 저장\n",
        "mi = int(input(\"이상:\"))\n",
        "mx = int(input(\"미만:\"))\n",
        "\n",
        "\n",
        "# mi이상 mx이하 조건을 충족하는 객체 만들기\n",
        "df_interval = df[(df.백분위평균_4과목_5모 >= mi) & (df.백분위평균_4과목_5모 < mx)]\n",
        "\n",
        "# value_counts()로 빈도를 세고, sort_index() 기준으로 정렬!\n",
        "#list_1 =  df_interval[\"백분위평균_4과목_5모\"].value_counts().sort_index()\n",
        "df_interval_sorted = df_interval.sort_values(by=\"백분위평균_4과목_5모\", ascending = False)\n",
        "\n",
        "\n",
        "#필요한 변수(열)의 값을 보여줌\n",
        "print(df_interval_sorted.loc[:, ['반', '번호', '이름', '백분위평균_4과목_5모', '백분위_국어', '백분위_수학', '백분위_탐구1', '백분위_탐구2', '등급_영어', '원점수_영어']])\n",
        "\n",
        "\n",
        "print(\"------------------------------\")\n",
        "#print(str(len(list_1))+\"명\")\n",
        "\n",
        "#print(\"{}이상 {}미만 업생:{}명\".format(mi, mx, list_1))\n",
        "print(\"{}이상 {}미만 {}명\".format(mi, mx, len(df_interval_sorted)))\n",
        "\n",
        "\n",
        "# Save the dataframe to an Excel file\n",
        "path = '/content/drive/MyDrive/python/deungchon/result_d/'\n",
        "df_interval_sorted.to_excel(f'{path}삼월모의고사_{mi}%이상.xlsx')"
      ],
      "metadata": {
        "id": "F-XX-l4n0Bdj"
      },
      "execution_count": null,
      "outputs": []
    },
    {
      "cell_type": "code",
      "source": [
        "# 특정학생의 백분위평균을 코드로 계산하는 법\n",
        "name = input(\"이름:\")\n",
        "df_kyh = df[df.이름 == name]\n",
        "average = (df_kyh['백분위_국어'] + df_kyh['백분위_수학'] + (df_kyh['백분위_탐구1'] + df_kyh['백분위_탐구2']) / 2) / 3\n",
        "print(\"수능 국어, 수학, 탐구과목의 백분위평균은 {:.1f}%\".format(float(average)))\n",
        "\n",
        "#설명: Here, we have converted the average variable to a float using the float() method and then used the str.format() method to format it as a string with no decimal places using the :.0f format specifier. \n",
        "#The resulting string is then used in the print() statement with the \"{}%\" placeholder for the formatted string.\n",
        "\n"
      ],
      "metadata": {
        "id": "FdPZ5uqGUpuE"
      },
      "execution_count": null,
      "outputs": []
    },
    {
      "cell_type": "code",
      "source": [
        "#변수(열)별 결측값 갯수 확인\n",
        "np.sum(pd.isnull(df))"
      ],
      "metadata": {
        "id": "ZnBkqRZ8zWjV"
      },
      "execution_count": null,
      "outputs": []
    },
    {
      "cell_type": "code",
      "source": [
        "#이름으로 표준점수와 백분위 조회\n",
        "name = input(\"이름:\")\n",
        "df_name = df[(df.이름 == name)]\n",
        "df_name = df_name[['반', '번호',  '이름', '원점수총점_국어', '원점수총점_수학',  '원점수_영어', '등급_영어', '원점수_탐구1', '원점수_탐구2' ]]\n",
        "df_name"
      ],
      "metadata": {
        "id": "n05iLMRbDZV5"
      },
      "execution_count": null,
      "outputs": []
    },
    {
      "cell_type": "code",
      "source": [
        "#이름으로 표준점수와 백분위 조회\n",
        "name = input(\"이름:\")\n",
        "df_name = df[(df.이름 == name)]\n",
        "df_name = df_name[['반', '번호', '이름',  '백분위_국어', '백분위_수학', '등급_영어', '백분위_탐구1', '백분위_탐구2', '백분위평균_4과목_5모', '표점합']]\n",
        "df_name"
      ],
      "metadata": {
        "id": "ybFY6mjRmEQ4"
      },
      "execution_count": null,
      "outputs": []
    },
    {
      "cell_type": "code",
      "source": [
        "df.columns"
      ],
      "metadata": {
        "id": "Z50sjlxqHuxV"
      },
      "execution_count": null,
      "outputs": []
    },
    {
      "cell_type": "code",
      "source": [
        "df_wang = df[df['이름'].str.contains('황')]\n",
        "df_wang"
      ],
      "metadata": {
        "id": "eTFrOV4gmGEL"
      },
      "execution_count": null,
      "outputs": []
    },
    {
      "cell_type": "code",
      "source": [
        "df.columns"
      ],
      "metadata": {
        "id": "EkHNrzJ9OwOe"
      },
      "execution_count": null,
      "outputs": []
    },
    {
      "cell_type": "code",
      "source": [
        "#이름으로 등급 조회\n",
        "name = input(\"이름:\")\n",
        "df_name = df[(df.이름 == name)]\n",
        "df_name = df_name[['반', '번호', '이름', '등급_국어', '등급_수학', '등급_영어', '선택_탐구1', '등급_탐구1', '선택_탐구2', '등급_탐구2']]\n",
        "df_name"
      ],
      "metadata": {
        "id": "W7c9rPygehEa"
      },
      "execution_count": null,
      "outputs": []
    },
    {
      "cell_type": "code",
      "source": [
        "#이름으로 등급 조회\n",
        "name = input(\"이름:\")\n",
        "df_name = df[(df.이름 == name)]\n",
        "df_name = df_name[['반', '번호', '이름', '등급_국어', '등급_수학', '등급_영어', '선택_탐구1', '원점수_탐구1', '등급_탐구1', '선택_탐구2', '원점수_탐구2','등급_탐구2']]\n",
        "df_name"
      ],
      "metadata": {
        "id": "83JDs4SsS6m4"
      },
      "execution_count": null,
      "outputs": []
    },
    {
      "cell_type": "code",
      "source": [
        "#재학생과 졸업생의 평균백분위 정렬\n",
        "df.sort_values('백분위평균_4과목_5모')"
      ],
      "metadata": {
        "id": "AIMaKIKmAqH5"
      },
      "execution_count": null,
      "outputs": []
    },
    {
      "cell_type": "code",
      "source": [
        "# 백분위평균_4과목_5모를 9개 급간으로 나눔\n",
        "df_drop = df['백분위평균_4과목_5모'].dropna()\n",
        "hist, edges = np.histogram(df_drop, 9)\n",
        "print(hist, edges)"
      ],
      "metadata": {
        "id": "iozfKfBXBWe3",
        "colab": {
          "base_uri": "https://localhost:8080/"
        },
        "outputId": "ab2209f8-4ca1-49c7-cb40-7a2501b3d72a"
      },
      "execution_count": 44,
      "outputs": [
        {
          "output_type": "stream",
          "name": "stdout",
          "text": [
            "[ 6 11 12 19 14 10 14 14  5] [ 0.67       11.36777778 22.06555556 32.76333333 43.46111111 54.15888889\n",
            " 64.85666667 75.55444444 86.25222222 96.95      ]\n"
          ]
        }
      ]
    },
    {
      "cell_type": "code",
      "source": [
        "#급간과 히스트로그램값 확인\n",
        "print(edges , hist)"
      ],
      "metadata": {
        "colab": {
          "base_uri": "https://localhost:8080/"
        },
        "id": "V-YSnkOX0_JH",
        "outputId": "f359fc5d-fd05-4712-a759-2cf3f4de8cb9"
      },
      "execution_count": null,
      "outputs": [
        {
          "output_type": "stream",
          "name": "stdout",
          "text": [
            "[ 9.3        18.92222222 28.54444444 38.16666667 47.78888889 57.41111111\n",
            " 67.03333333 76.65555556 86.27777778 95.9       ] [13 16 15 13 16 14 12 10  7]\n"
          ]
        }
      ]
    },
    {
      "cell_type": "code",
      "source": [
        "#급간과 히스트로그램값 확인\n",
        "print(str(edges)+\"점수구간\" , str(hist)+\"구간별 인원(명)\")"
      ],
      "metadata": {
        "colab": {
          "base_uri": "https://localhost:8080/"
        },
        "id": "QWlE9b5zqjOx",
        "outputId": "54d5cc1e-e3da-49fb-a4f9-96edfbe4e199"
      },
      "execution_count": null,
      "outputs": [
        {
          "output_type": "stream",
          "name": "stdout",
          "text": [
            "[ 9.3        18.92222222 28.54444444 38.16666667 47.78888889 57.41111111\n",
            " 67.03333333 76.65555556 86.27777778 95.9       ]점수구간 [13 16 15 13 16 14 12 10  7]구간별 인원(명)\n"
          ]
        }
      ]
    },
    {
      "cell_type": "code",
      "source": [
        "import seaborn as sns\n",
        "import matplotlib.pyplot as plt\n",
        "\n",
        "plt.rc('font', family='NanumBarunGothic') \n",
        "sns.histplot(df.백분위평균_4과목_5모, bins=10, kde=False)\n",
        "plt.title(\"5월 D고 모의고사 백분위평균 구간별 점수\")"
      ],
      "metadata": {
        "colab": {
          "base_uri": "https://localhost:8080/",
          "height": 489
        },
        "id": "qOSPcdm91a-v",
        "outputId": "b7c327f5-9e3d-430c-f355-b4e720b0f9dc"
      },
      "execution_count": 24,
      "outputs": [
        {
          "output_type": "execute_result",
          "data": {
            "text/plain": [
              "Text(0.5, 1.0, '5월 D고 모의고사 백분위평균 구간별 점수')"
            ]
          },
          "metadata": {},
          "execution_count": 24
        },
        {
          "output_type": "display_data",
          "data": {
            "text/plain": [
              "<Figure size 640x480 with 1 Axes>"
            ],
            "image/png": "[encoded data removed]"
          },
          "metadata": {}
        }
      ]
    },
    {
      "cell_type": "code",
      "source": [
        "import seaborn as sns \n",
        "import matplotlib.pyplot as plt\n",
        "\n",
        "plt.rc('font', family='NanumBarunGothic') \n",
        "\n",
        "# create the histogram plot\n",
        "ax = sns.histplot(df.백분위평균_4과목_5모, bins=5, kde=False)\n",
        "bin_edges = ax.get_xticks()\n",
        "\n",
        "# add count values to each bar\n",
        "for rect in ax.patches:\n",
        "    x = rect.get_x() + rect.get_width() / 2\n",
        "    y = rect.get_height()\n",
        "    ax.text(x, y, f'{int(y)}', ha='center', va='bottom')\n",
        "\n",
        "# set the plot title and axis labels\n",
        "plt.title(\"D고 5월 모의고사 백분위평균 학생수 (단위:명)\")\n",
        "plt.xlabel('백분위 평균 구간')\n",
        "plt.ylabel('학생 수')\n",
        "\n",
        "# set the X axis tick labels to the bin edges\n",
        "ax.set_xticks(bin_edges)\n",
        "labels = ['{:.1f}~{:.1f}'.format(bin_edges[i], bin_edges[i+1]) for i in range(len(bin_edges)-1)] + ['']\n",
        "#ax.set_xticklabels(labels)\n",
        "ax.set_xticklabels(labels, rotation=45, ha='right')\n",
        "\n",
        "\n",
        "# display the plot\n",
        "plt.show()\n"
      ],
      "metadata": {
        "colab": {
          "base_uri": "https://localhost:8080/",
          "height": 525
        },
        "id": "csv4i3lnOcne",
        "outputId": "d7d74ffd-368a-42a7-e01b-4004552758b3"
      },
      "execution_count": 28,
      "outputs": [
        {
          "output_type": "display_data",
          "data": {
            "text/plain": [
              "<Figure size 640x480 with 1 Axes>"
            ],
            "image/png": "[encoded data removed]"
          },
          "metadata": {}
        }
      ]
    },
    {
      "cell_type": "code",
      "source": [
        "type(df_interval)"
      ],
      "metadata": {
        "colab": {
          "base_uri": "https://localhost:8080/"
        },
        "id": "prj4eSy-a_Qn",
        "outputId": "86ad3047-a285-4272-a991-914a9d94def7"
      },
      "execution_count": null,
      "outputs": [
        {
          "output_type": "execute_result",
          "data": {
            "text/plain": [
              "pandas.core.frame.DataFrame"
            ]
          },
          "metadata": {},
          "execution_count": 47
        }
      ]
    },
    {
      "cell_type": "code",
      "source": [
        "#석차(멏등이내)를 넣고 해당 학생들을 출력하는 것 \n",
        "try:\n",
        "    mi = int(input(\"전체 몇등 이내:\"))\n",
        "except ValueError:\n",
        "    print(\"잘못된 입력입니다. 정수값을 입력하세요.\")\n",
        "    # handle the error and exit the program or ask for valid input again\n",
        "\n",
        "# Drop rows with NaN values in '백분위평균_4과목_5모'\n",
        "df_interval_clean = df.dropna(subset=['백분위평균_4과목_5모'])\n",
        "\n",
        "# Sort by '백분위평균_4과목_5모'\n",
        "df_interval_sorted = df_interval_clean.sort_values(by=\"백분위평균_4과목_5모\", ascending = False)\n",
        "\n",
        "# Add a new column '백분위석차'\n",
        "df_interval_sorted['백분위석차'] = df_interval_sorted['백분위평균_4과목_5모'].rank(ascending=False)\n",
        "\n",
        "# Filter by rank\n",
        "df_filtered = df_interval_sorted[df_interval_sorted['백분위석차'] <= mi]\n",
        "\n",
        "# Show the result\n",
        "print(df_filtered.loc[:, ['반', '이름', '백분위평균_4과목_5모', '백분위_국어_5모', '백분위_수학_5모',  '등급_영어_5모', '백분위_탐구1_5모', '백분위_탐구2_5모',]].reset_index(drop=True))\n",
        "#print(df_filtered.loc[:, ['반', '이름',   '등급_영어', '원점수_영어']].reset_index(drop=True))"
      ],
      "metadata": {
        "id": "q6-cA5xUkk5T"
      },
      "execution_count": null,
      "outputs": []
    },
    {
      "cell_type": "code",
      "source": [
        "#사탐과 과탐 선택자수 - 한과목이라도 미응시한 학생 제외\n",
        "df_tamgu_count = df['탐구선택_5모'].value_counts()\n",
        "print(df_tamgu_count)"
      ],
      "metadata": {
        "colab": {
          "base_uri": "https://localhost:8080/"
        },
        "id": "fOGzMBwAWQyh",
        "outputId": "0f761caa-faf1-4187-a582-c625e3edc8be"
      },
      "execution_count": 43,
      "outputs": [
        {
          "output_type": "stream",
          "name": "stdout",
          "text": [
            "사탐    53\n",
            "과탐    52\n",
            "Name: 탐구선택_5모, dtype: int64\n"
          ]
        }
      ]
    },
    {
      "cell_type": "code",
      "source": [
        "#탐구영역 선택자 비율\n",
        "\n",
        "import pandas as pd\n",
        "import matplotlib.pyplot as plt\n",
        "import numpy as np\n",
        "\n",
        "\n",
        "##  데이터 부르기 : 구글colab에 마운트(mount)하는 방법: 왼쪽 폴더아이콘을 누르기-눈동자 왼쪽 파일마운트 아이콘 클릭- /content/drive/MyDrive/python폴더의 susi_2021simple.csv파일을 불러옴\n",
        "path = '/content/drive/MyDrive/python/deungchon/'\n",
        "df = pd.read_csv(f'{path}mo3.csv', encoding = 'cp949')\n",
        "\n",
        "\n",
        "# Calculate the percentage of each variable in the '탐구영역' column\n",
        "df_tamgu_count = df['탐구영역'].value_counts()\n",
        "df_tamgu_pct = df_tamgu_count / df_tamgu_count.sum() * 100\n",
        "\n",
        "# Define colors for each variable\n",
        "colors = ['#4CAF50', '#F44336', '#2196F3', '#FFEB3B']\n",
        "\n",
        "# Create a figure and axis object\n",
        "fig, ax = plt.subplots(figsize=(8, 6))\n",
        "\n",
        "# Create a list of unique identifier values based on the length of the df_tamgu_pct list\n",
        "ids = list(range(len(df_tamgu_pct)))\n",
        "\n",
        "# Create a half doughnut plot with unique identifier values for each wedge\n",
        "wedges, labels, _ = ax.pie(df_tamgu_pct, colors=colors, wedgeprops={'width': 0.4, 'edgecolor': 'white', 'linewidth': 1}, autopct='%1.0f%%', startangle=90, counterclock=False, labels=df_tamgu_pct.index, textprops={'fontsize': 14})\n",
        "\n",
        "# Add text labels with percentage values\n",
        "for w, l, i in zip(wedges, labels, ids):\n",
        "    ang = (w.theta2 - w.theta1) / 2. + w.theta1\n",
        "    x, y = np.cos(np.deg2rad(ang)), np.sin(np.deg2rad(ang))\n",
        "    x *= 1.5\n",
        "    ax.annotate(f'{l.get_text()} ({df_tamgu_pct[i]:.1f}%)', xy=(x, y), va='center', ha='center', fontsize=12, color='white', rotation=ang, rotation_mode='anchor', gid=i)\n",
        "\n",
        "# Add a title and legend\n",
        "ax.set_title(' D고 5월 모평 탐구영역 선택비율', fontsize=20)\n",
        "ax.legend(title='탐구영역', loc='center right', bbox_to_anchor=(1, 0, 0.5, 1))\n",
        "\n",
        "# Show the plot\n",
        "plt.show()\n"
      ],
      "metadata": {
        "id": "y4PSJxNJwt2M"
      },
      "execution_count": null,
      "outputs": []
    },
    {
      "cell_type": "code",
      "source": [
        "# 인문계와 자연계 백분위평균 비교\n",
        "import pandas as pd\n",
        "import matplotlib.pyplot as plt\n",
        "\n",
        "## 데이터 부르기 : 구글colab에 마운트(mount)하는 방법: 왼쪽 폴더아이콘을 누르기-눈동자 왼쪽 파일마운트 아이콘 클릭- /content/drive/MyDrive/python폴더의 susi_2021simple.csv파일을 불러옴\n",
        "path = '/content/drive/MyDrive/python/deungchon/'\n",
        "df = pd.read_csv(f'{path}mo5.csv', encoding='cp949')\n",
        "\n",
        "# Group data by '탐구영역' and calculate the mean of '백분위평균_4과목_5모'\n",
        "df_mean = df.groupby('탐구선택_5모')['백분위평균_4과목_5모'].mean()\n",
        "\n",
        "# Set bar plot colors\n",
        "colors = ['gray', 'gray']\n",
        "\n",
        "# Create a figure and axis object\n",
        "fig, ax = plt.subplots(figsize=(8, 6))\n",
        "\n",
        "# Create a vertical bar plot\n",
        "ax.bar(df_mean.index, df_mean, color=colors, edgecolor='white', width=0.5)\n",
        "\n",
        "# Add value labels on each bar plot\n",
        "for i, v in enumerate(df_mean):\n",
        "    ax.text(i, v+0.5, f'{v:.1f}', ha='center', fontsize=15, color='black')\n",
        "\n",
        "# Add a title and axis labels\n",
        "ax.set_title('D고 5월 모평 탐구영역별 백분위 평균 (단위:%)', fontsize=22)\n",
        "ax.set_ylabel('')\n",
        "\n",
        "# Enlarge x-axis tick labels\n",
        "ax.tick_params(axis='x', labelsize=15)\n",
        "\n",
        "# Remove y-axis ticks and label\n",
        "ax.set_yticks([])\n",
        "ax.spines['top'].set_visible(False)\n",
        "ax.spines['right'].set_visible(False)\n",
        "ax.spines['left'].set_visible(False)\n",
        "\n",
        "# Show the plot\n",
        "plt.show()\n"
      ],
      "metadata": {
        "id": "19fCNNw_-lgH"
      },
      "execution_count": null,
      "outputs": []
    },
    {
      "cell_type": "code",
      "source": [
        "#19(18)번째 열의 행값들을 출력\n",
        "col_name = df.columns[19]\n",
        "print(df.loc[:, col_name])"
      ],
      "metadata": {
        "id": "Os09zotwZJGr"
      },
      "execution_count": null,
      "outputs": []
    },
    {
      "cell_type": "code",
      "source": [
        "#특정 백분위 구간의 영어점수별 빈도 조회 후 학생명단과 점수를 엑셀로 저장\n",
        "mi = int(input(\"이상:\"))\n",
        "mx = int(input(\"미만:\"))\n",
        "\n",
        "\n",
        "# mi이상 mx이하 조건을 충족하는 객체 만들기\n",
        "df_interval = df[(df.원점수_영어_5모 >= mi) & (df.원점수_영어_5모 < mx)]\n",
        "\n",
        "# value_counts()로 빈도를 세고, sort_index() 기준으로 정렬!\n",
        "#list_1 =  df_interval[\"\"].value_counts().sort_index()\n",
        "df_interval_sorted = df_interval.sort_values(by=\"원점수_영어_5모\", ascending = False)\n",
        "\n",
        "\n",
        "#필요한 변수(열)의 값을 보여줌\n",
        "print(df_interval_sorted.loc[:, ['반', '번호', '이름', '등급_영어_5모', '원점수_영어_5모']])\n",
        "\n",
        "\n",
        "print(\"------------------------------\")\n",
        "#print(str(len(list_1))+\"명\")\n",
        "\n",
        "#print(\"{}이상 {}미만 업생:{}명\".format(mi, mx, list_1))\n",
        "print(\"{}이상 {}미만 {}명\".format(mi, mx, len(df_interval_sorted)))\n",
        "\n",
        "\n",
        "# Save the dataframe to an Excel file\n",
        "path = '/content/drive/MyDrive/python/deungchon/result_d/'\n",
        "df_interval_sorted.to_excel(f'{path}영어 원점수{mi}%이상_5모.xlsx')"
      ],
      "metadata": {
        "id": "Lgbbg2NmZGai"
      },
      "execution_count": null,
      "outputs": []
    },
    {
      "cell_type": "code",
      "source": [
        "#특정 백분위 구간의 점수별 빈도 조회 후 학생명단과 점수를 엑셀로 저장\n",
        "mi = int(input(\"반:\"))\n",
        "mx = int(input(\"번호:\"))\n",
        "\n",
        "# mi이상 mx이하 조건을 충족하는 객체 만들기\n",
        "df_interval = df[(df.반 == mi) & (df.번호 == mx)]\n",
        "\n",
        "\n",
        "#필요한 변수(열)의 값을 보여줌\n",
        "print(df_interval.loc[:, ['반', '번호', '이름', '등급_영어', '원점수_영어', '표준점수_국어', '표준점수_수학']])"
      ],
      "metadata": {
        "id": "MvY2cvRhbgX4"
      },
      "execution_count": null,
      "outputs": []
    }
  ]
}