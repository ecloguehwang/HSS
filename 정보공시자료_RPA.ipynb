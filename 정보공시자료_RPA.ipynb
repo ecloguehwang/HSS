{
  "nbformat": 4,
  "nbformat_minor": 0,
  "metadata": {
    "colab": {
      "provenance": [],
      "mount_file_id": "16K0Sz8JN6YWidQ2QIWbYfBISTBEEeNpz",
      "authorship_tag": "ABX9TyMZIk46x8lzXqoH6nw468Ji",
      "include_colab_link": true
    },
    "kernelspec": {
      "name": "python3",
      "display_name": "Python 3"
    },
    "language_info": {
      "name": "python"
    }
  },
  "cells": [
    {
      "cell_type": "markdown",
      "metadata": {
        "id": "view-in-github",
        "colab_type": "text"
      },
      "source": [
        "<a href=\"https://colab.research.google.com/github/ecloguehwang/HSS/blob/master/%EC%A0%95%EB%B3%B4%EA%B3%B5%EC%8B%9C%EC%9E%90%EB%A3%8C_RPA.ipynb\" target=\"_parent\"><img src=\"https://colab.research.google.com/assets/colab-badge.svg\" alt=\"Open In Colab\"/></a>"
      ]
    },
    {
      "cell_type": "code",
      "source": [
        "#colab에서 matplotlib와 sns 라이브러리 그래프 한글을 깨지지 않게 하는 법: 이 코드실행하고 런타임(runtime) 다시 실행하기\n",
        "!sudo apt-get install -y fonts-nanum\n",
        "!sudo fc-cache -fv\n",
        "!rm ~/.cache/matplotlib -rf"
      ],
      "metadata": {
        "id": "lorlu-xknSRL"
      },
      "execution_count": null,
      "outputs": []
    },
    {
      "cell_type": "code",
      "source": [
        "# 라이브러리 부르기\n",
        "import pandas as pd\n",
        "import numpy as np\n",
        "import seaborn as sns\n",
        "import matplotlib.pyplot as plt\n",
        "import os\n",
        "import openpyxl\n",
        "import csv\n",
        "\n",
        "##  데이터 부르기 : 구글colab에 마운트(mount)하는 방법: 왼쪽 폴더아이콘을 누르기-눈동자 왼쪽 파일마운트 아이콘 클릭- /content/drive/MyDrive/python폴더의 susi_2021simple.csv파일을 불러옴\n",
        "df1 = pd.read_csv('/content/drive/MyDrive/python/gender.csv', encoding = 'cp949')\n",
        "df2 = pd.read_csv('/content/drive/MyDrive/python/susi_jsi.csv', encoding = 'cp949')\n",
        "\n",
        "# 첫 5줄을 봅니다. \n",
        "df1.head(4)\n",
        "#df2.head(4)"
      ],
      "metadata": {
        "id": "yeRjzNaXtuEc"
      },
      "execution_count": null,
      "outputs": []
    },
    {
      "cell_type": "code",
      "source": [
        "#matplotlib에서 한글구현\n",
        "plt.rc('font', family='NanumBarunGothic')\n",
        "\n",
        "#그래프 마이너스 기호 깨짐 방지\n",
        "plt.rcParams['axes.unicode_minus'] = False"
      ],
      "metadata": {
        "id": "HLYxc-NztOTr"
      },
      "execution_count": 6,
      "outputs": []
    },
    {
      "cell_type": "code",
      "source": [
        "#작년 고3인원 166명: 직업반 빼고?\n",
        "df1_u = df1['이름'].unique()\n",
        "len(df1_u)"
      ],
      "metadata": {
        "colab": {
          "base_uri": "https://localhost:8080/",
          "height": 0
        },
        "id": "4Vt6_VLSzZvB",
        "outputId": "68cde6c7-cc76-4d55-87e4-ab9b1adb390f"
      },
      "execution_count": 19,
      "outputs": [
        {
          "output_type": "execute_result",
          "data": {
            "text/plain": [
              "166"
            ]
          },
          "metadata": {},
          "execution_count": 19
        }
      ]
    },
    {
      "cell_type": "code",
      "source": [
        "#2개의 파일을 합침: 이름, 성별 파일과 이름과 여러변수가 있는 파일\n",
        "df_rj = pd.merge(df1, df2, left_on='이름', right_on='이름', how='right')\n",
        "print(df_rj)"
      ],
      "metadata": {
        "id": "39pgO0D7uT_e"
      },
      "execution_count": null,
      "outputs": []
    },
    {
      "cell_type": "code",
      "source": [
        "#총지원자수: 128명: 방법1 - 직업반 1명 제외\n",
        "#지원자수\n",
        "unique_names = df_rj['이름'].unique()\n",
        "num_unique_names = len(unique_names)\n",
        "print(num_unique_names)"
      ],
      "metadata": {
        "colab": {
          "base_uri": "https://localhost:8080/",
          "height": 0
        },
        "id": "N9t8wVPNwkLU",
        "outputId": "48d79ca6-66a2-4dda-dbc6-18e9499ee8b9"
      },
      "execution_count": 16,
      "outputs": [
        {
          "output_type": "stream",
          "name": "stdout",
          "text": [
            "128\n"
          ]
        }
      ]
    },
    {
      "cell_type": "code",
      "source": [
        "#총지원자수: 128명: 방법2 - 직업반 1명 제외\n",
        "unique_names = df_rj['이름'].nunique()\n",
        "print(unique_names)"
      ],
      "metadata": {
        "id": "A07NX0icRIZ9"
      },
      "execution_count": null,
      "outputs": []
    },
    {
      "cell_type": "code",
      "source": [
        "#수시정시 합격률: 62%\n",
        "79/128"
      ],
      "metadata": {
        "id": "b88Yg85TRdH3"
      },
      "execution_count": null,
      "outputs": []
    },
    {
      "cell_type": "code",
      "source": [
        "#합격자: 79명 - 중복 합격자만 한번만 포함시킴\n",
        "df_p = df_rj[df_rj.최종 == '합']\n",
        "df_gu = df_p.groupby(['성별', '대학유형'])['이름'].nunique()\n",
        "print(df_gu)"
      ],
      "metadata": {
        "id": "WzmpGF20EoU0"
      },
      "execution_count": null,
      "outputs": []
    },
    {
      "cell_type": "code",
      "source": [
        "df_p = df_rj[df_rj['최종'] == '합']\n",
        "unique_names = df_p.drop_duplicates(subset='이름')['이름']\n",
        "total_unique = len(unique_names)\n",
        "\n",
        "df_gu = df_p.groupby(['성별', '대학유형'])['이름'].unique()\n",
        "\n",
        "# Get the list of unique individuals who passed for each group\n",
        "for idx, names in df_gu.iteritems():\n",
        "    gender, univ_type = idx\n",
        "    print(f\"{gender}, {univ_type}: {', '.join(names)}\")\n",
        "\n",
        "print(\"\\n-----------------------------------------------------\")\n",
        "print(\"중복합격 제외한 총 합격자수: {}명\".format(total_unique))\n"
      ],
      "metadata": {
        "id": "GIdO1XcjQg1_"
      },
      "execution_count": null,
      "outputs": []
    }
  ]
}