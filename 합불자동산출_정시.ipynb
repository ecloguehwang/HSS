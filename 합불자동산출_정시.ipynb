{
  "nbformat": 4,
  "nbformat_minor": 0,
  "metadata": {
    "colab": {
      "provenance": [],
      "mount_file_id": "1KFGmJg6lhT_5TJu7RgPKhJoHy0MGOR-c",
      "authorship_tag": "ABX9TyOyZ0AxqM3hS8+HCQyRyAAj",
      "include_colab_link": true
    },
    "kernelspec": {
      "name": "python3",
      "display_name": "Python 3"
    },
    "language_info": {
      "name": "python"
    }
  },
  "cells": [
    {
      "cell_type": "markdown",
      "metadata": {
        "id": "view-in-github",
        "colab_type": "text"
      },
      "source": [
        "<a href=\"https://colab.research.google.com/github/ecloguehwang/HSS/blob/master/%ED%95%A9%EB%B6%88%EC%9E%90%EB%8F%99%EC%82%B0%EC%B6%9C_%EC%A0%95%EC%8B%9C.ipynb\" target=\"_parent\"><img src=\"https://colab.research.google.com/assets/colab-badge.svg\" alt=\"Open In Colab\"/></a>"
      ]
    },
    {
      "cell_type": "code",
      "source": [
        "#pandas 라이브러리 설치\n",
        "#!pip install pandas"
      ],
      "metadata": {
        "id": "BKa5sPJbST-V"
      },
      "execution_count": null,
      "outputs": []
    },
    {
      "cell_type": "code",
      "source": [
        "#pandas 라이브러리 부르기\n",
        "import pandas as pd\n",
        "\n",
        "##  데이터 부르기 : 구글colab에 마운트(mount)하는 방법: 왼쪽 폴더아이콘을 누르기-눈동자 왼쪽 파일마운트 아이콘 클릭- /content/drive/MyDrive/python폴더의 susi_2021simple.csv파일을 불러옴\n",
        "df = pd.read_csv('/content/drive/MyDrive/python/js_2021_noname.csv', encoding = 'cp949')\n",
        "\n",
        "# 첫 5줄을 봅니다. \n",
        "df.head(4)"
      ],
      "metadata": {
        "id": "8R5FWLi09yc1"
      },
      "execution_count": null,
      "outputs": []
    },
    {
      "cell_type": "code",
      "source": [
        "df.columns"
      ],
      "metadata": {
        "id": "mO3TKaJ-Lgs3",
        "outputId": "83d473ae-b473-41f8-e489-a7e74b4ecd45",
        "colab": {
          "base_uri": "https://localhost:8080/",
          "height": 172
        }
      },
      "execution_count": 1,
      "outputs": [
        {
          "output_type": "error",
          "ename": "NameError",
          "evalue": "ignored",
          "traceback": [
            "\u001b[0;31m---------------------------------------------------------------------------\u001b[0m",
            "\u001b[0;31mNameError\u001b[0m                                 Traceback (most recent call last)",
            "\u001b[0;32m<ipython-input-1-b666bf274d0a>\u001b[0m in \u001b[0;36m<module>\u001b[0;34m\u001b[0m\n\u001b[0;32m----> 1\u001b[0;31m \u001b[0mdf\u001b[0m\u001b[0;34m.\u001b[0m\u001b[0mcolumns\u001b[0m\u001b[0;34m\u001b[0m\u001b[0;34m\u001b[0m\u001b[0m\n\u001b[0m",
            "\u001b[0;31mNameError\u001b[0m: name 'df' is not defined"
          ]
        }
      ]
    },
    {
      "cell_type": "code",
      "source": [
        "#의치한약수 출력\n",
        "# 의치한약수(ex: 의학 등) 합격자 명단 찾기\n",
        "df_med = df['모집단위'].str.contains('^[의치한약수]+')\n",
        "#df_med = df['모집단위'].str.startswith('치')\n",
        "subset_df = df[df_med]\n",
        "subset_df_p = subset_df[(subset_df.최종 == '합')]\n",
        "subset_df_p = subset_df_p[['학번', '대학', '모집단위', '최종', '표점합', '백분위평균']]\n",
        "\n",
        "print(\"\\n***의치한약수 합격자***\")\n",
        "print(\"-----------------------------------------------------------------------------------------------\")\n",
        "print(subset_df_p)"
      ],
      "metadata": {
        "id": "JWgghzpMw8-W"
      },
      "execution_count": null,
      "outputs": []
    },
    {
      "cell_type": "code",
      "source": [
        "# 서울 주요대학 수시합격자 명단 출력\n",
        "uni = ['서울대', '연세대', '고려대', '서강대', '성균관대', '한양대', '이화여대',  '중앙대', '경희대', '한국외국어대', '건국대', '동국대', '홍익대']\n",
        "\n",
        "print(\"***2022학년도 서울 주요대학 정시합격자 명단***\\n\")\n",
        "for u in range(len(uni)):\n",
        "    df_주요대 = df[(df.대학 == uni[u]) & (df.최종 == '합')]\n",
        "    df_주요대 = df_주요대[['학번', '대학', '모집단위', '전형분류', '최종', '표점합', '백분위평균']]\n",
        "    print(df_주요대)\n",
        "    print(\"----------------------------------------------------------------\")\n",
        "\n",
        "# 서울 주요대학 수시합격자수 출력\n",
        "uni = ['서울대', '연세대', '고려대', '서강대', '성균관대', '한양대', '이화여대',  '중앙대', '경희대', '한국외국어대', '건국대', '동국대', '홍익대']\n",
        "print(\"\\n***2022학년도 00고 정시합격자수***\")\n",
        "\n",
        "for u in range(len(uni)):\n",
        "    df__주요대 = df[(df.대학 == uni[u]) & (df.최종 == '합')]\n",
        "    df__주요대 = df__주요대[['학번', '대학', '최종']]\n",
        "    print(uni[u], str(len(df__주요대['대학']))+\"명\")  "
      ],
      "metadata": {
        "id": "iQdO5BK3BQy1"
      },
      "execution_count": null,
      "outputs": []
    },
    {
      "cell_type": "code",
      "source": [
        "# 서울 주요대학 수시합격자 명단 출력\n",
        "uni = ['서울대', '연세대', '고려대', '서강대', '성균관대', '한양대', '이화여대',  '중앙대', '경희대', '한국외국어대', '건국대', '동국대', '홍익대']\n",
        "\n",
        "print(\"***2022학년도 서울 주요대학 정시합격자 명단***\\n\")\n",
        "for u in range(len(uni)):\n",
        "    df_주요대 = df[(df.대학 == uni[u]) & (df.최종 == '합')]\n",
        "    df_주요대 = df_주요대[['학번', '대학', '모집단위', '전형분류', '최종', '백분위평균']]\n",
        "    print(df_주요대)\n",
        "    print(\"---------------------------------------------------------------------------\")\n",
        "\n",
        "# 서울 주요대학 수시합격자수 출력\n",
        "uni = ['서울대', '연세대', '고려대', '서강대', '성균관대', '한양대', '이화여대',  '중앙대', '경희대', '한국외국어대', '건국대', '동국대', '홍익대']\n",
        "print(\"\\n***2022학년도 00고 정시합격자수***\")\n",
        "\n",
        "for u in range(len(uni)):\n",
        "    df__주요대 = df[(df.대학 == uni[u]) & (df.최종 == '합')]\n",
        "    df__주요대 = df__주요대[['학번', '대학', '최종']]\n",
        "    print(uni[u], str(len(df__주요대['대학']))+\"명\")  "
      ],
      "metadata": {
        "id": "4P8Pws5MsCcT"
      },
      "execution_count": null,
      "outputs": []
    },
    {
      "cell_type": "code",
      "source": [
        "#의치한약수 출력\n",
        "# 의치한약수(ex: 의학 등) 합격자 명단 찾기\n",
        "df_med = df['모집단위'].str.contains('^[의치한약수]+')\n",
        "#df_med = df['모집단위'].str.startswith('치')\n",
        "subset_df = df[df_med]\n",
        "subset_df_p = subset_df[(subset_df.최종 == '합')]\n",
        "subset_df_p = subset_df_p[['학번', '대학', '모집단위', '최종']]\n",
        "\n",
        "print(\"\\n***의치한약수 합격자***\")\n",
        "print(\"-----------------------------------------------------------------------------------------------\")\n",
        "print(subset_df_p)"
      ],
      "metadata": {
        "id": "IJXNc51nkq3E"
      },
      "execution_count": null,
      "outputs": []
    },
    {
      "cell_type": "code",
      "source": [
        "df.columns"
      ],
      "metadata": {
        "id": "1YMhqFAlxD40"
      },
      "execution_count": null,
      "outputs": []
    },
    {
      "cell_type": "code",
      "source": [
        "# 특수대 합격자 명단 출력\n",
        "sp = ['경찰대', '육군사관학교', '해군사관학교', '공군사관학교', '국군간호사관학교']\n",
        "\n",
        "print(\"***2022학년도 정시 특수대 합격자 명단***\\n\")\n",
        "for u in range(len(sp)):\n",
        "    df_특수대 = df[(df.대학 == sp[u]) & (df.최종 == '합')]\n",
        "    df_특수대 = df_특수대[['학번', '대학', '모집단위', '전형분류', '최종']]\n",
        "    print(\"%s 대학 합격자\" % sp[u])\n",
        "    #print(\"{} 대학 합격자는 {}명\" .format(sp[u] len(df_특수대)))\n",
        "    print(df_특수대)\n",
        "    \n",
        "print(\"-----------------------------------------\")\n",
        "print(\"***2022학년도 정시 특수대 합격자수***\\n\")\n",
        "\n",
        "# 특수대 합격자수\n",
        "sp = ['경찰대', '육군사관학교', '해군사관학교', '공군사관학교', '국군간호사관학교']\n",
        "\n",
        "for u in range(len(sp)):\n",
        "    df_특수대 = df[(df.대학 == sp[u]) & (df.최종 == '합')]\n",
        "    df_특수대 = df_특수대[['학번', '대학', '모집단위', '전형분류', '최종']]\n",
        "print(\"2022학년도 특수대 수시합격자수는 %d명입니다.\" % len(df_특수대))\n"
      ],
      "metadata": {
        "id": "ZJ1doE74EzYQ"
      },
      "execution_count": null,
      "outputs": []
    },
    {
      "cell_type": "code",
      "source": [
        "# 서울 주요대(ace리스트)를 제외한 인서울대 합격자 명단\n",
        "\n",
        "import pandas as pd\n",
        "df = pd.read_csv('/content/drive/MyDrive/python/js_2021_noname.csv', encoding = 'cp949')\n",
        "\n",
        "#3가지 조건(지역, 최종, ace대학 제외)으로 검색\n",
        "ace = ['서울대', '연세대', '고려대', '서강대', '성균관대', '한양대', '이화여대', '중앙대', '경희대', '한국외국어대', '건국대', '동국대', '홍익대'] \n",
        "seoul_df = df[(df.지역 == '서울') & (df.최종 == '합') & ~(df.대학.isin(ace))]\n",
        "seoul_df\n",
        "\n",
        "#필요한 변수(열)만 불러옴\n",
        "seoul_df = seoul_df[['학번', '대학', '모집단위', '최종']]\n",
        "#print(seoul_df)\n",
        "print(seoul_df)\n",
        "\n",
        "\n",
        "# 서울 주요대(ace리스트) 제외한 인서울대 합격자수\n",
        "import pandas as pd\n",
        "df = pd.read_csv('/content/drive/MyDrive/python/js_2021_noname.csv', encoding = 'cp949')\n",
        "\n",
        "\n",
        "#지역과 최종 조건\n",
        "ace = ['서울대', '연세대', '고려대', '서강대', '성균관대', '한양대', '이화여대', '중앙대', '경희대', '한국외국어대', '건국대', '동국대', '홍익대'] \n",
        "seoul_df = df[(df.지역 == '서울') & (df.최종 == '합') & ~(df.대학.isin(ace))]\n",
        "\n",
        "\n",
        "#인서울대 합격자수\n",
        "print(\"\\n---------------------------------------------------------------\")\n",
        "print(\"2022학년도 서울주요대를 제외한 인서울 수시합격자수는 %d명입니다.\" % len(seoul_df))\n"
      ],
      "metadata": {
        "id": "gkXQgK1P3IiD"
      },
      "execution_count": null,
      "outputs": []
    },
    {
      "cell_type": "code",
      "source": [
        "#정시 전체 합격자: 중복 합격포함- 125명\n",
        "df_pass = df[df.최종 == '합']\n",
        "df_pass"
      ],
      "metadata": {
        "id": "x60L-SgylMhy"
      },
      "execution_count": null,
      "outputs": []
    },
    {
      "cell_type": "code",
      "source": [
        "#정시 합격자 중 재수생 제외\n",
        "df_pass_ex = df[(df.최종 == '합') & ~(df.학번 >= 38000)]\n",
        "df_pass_ex"
      ],
      "metadata": {
        "id": "SMPIfBCtyZDl"
      },
      "execution_count": null,
      "outputs": []
    },
    {
      "cell_type": "code",
      "source": [
        "#중복합격자 제외\n",
        "df_pass_ex['학번'].unique()\n",
        "\n",
        "#중복합격자수를 제외: 정시 재학생 합격자 54명\n",
        "df_pass_ex['학번'].nunique()"
      ],
      "metadata": {
        "id": "7-Ke3zfBpPqN"
      },
      "execution_count": null,
      "outputs": []
    },
    {
      "cell_type": "code",
      "source": [
        "df.columns"
      ],
      "metadata": {
        "id": "NPA_3hLD_p9L"
      },
      "execution_count": null,
      "outputs": []
    },
    {
      "cell_type": "code",
      "source": [
        "#31024 수능점수  31024 : 98.8%(2022) vs. 97.8%(2023)\n",
        "df_jdy = df[(df.학번 ==  31024)]\n",
        "df_jdy[['대학', '모집단위', '최종', '국어_표준점수', '국어_백분위', '수학_표준점수', '수학_백분위', '영어_등급', '탐구1_백분위', '탐구2_백분위', '백분위평균']]"
      ],
      "metadata": {
        "id": "Pg-tynmP_E53"
      },
      "execution_count": null,
      "outputs": []
    },
    {
      "cell_type": "code",
      "source": [
        "# 학번(30313)으로 조회\n",
        "code = int(input(\"학번:\"))\n",
        "df_c = df[(df.학번 ==  code)]\n",
        "df_c[['대학', '모집단위', '최종', '국어_표준점수', '국어_백분위', '수학_표준점수', '수학_백분위', '영어_등급', '탐구1_백분위', '탐구2_백분위', '백분위평균']]"
      ],
      "metadata": {
        "id": "qyXu39OaPDpq"
      },
      "execution_count": null,
      "outputs": []
    }
  ]
}