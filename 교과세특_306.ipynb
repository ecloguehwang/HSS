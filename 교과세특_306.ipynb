{
  "nbformat": 4,
  "nbformat_minor": 0,
  "metadata": {
    "colab": {
      "provenance": [],
      "mount_file_id": "1p7lzCN0mGuCe44TBWvYHpMG2zoqrNusU",
      "authorship_tag": "ABX9TyNS/f9Wmy4oU6Lj9Dbcr8gN",
      "include_colab_link": true
    },
    "kernelspec": {
      "name": "python3",
      "display_name": "Python 3"
    },
    "language_info": {
      "name": "python"
    }
  },
  "cells": [
    {
      "cell_type": "markdown",
      "metadata": {
        "id": "view-in-github",
        "colab_type": "text"
      },
      "source": [
        "<a href=\"https://colab.research.google.com/github/ecloguehwang/HSS/blob/master/%EA%B5%90%EA%B3%BC%EC%84%B8%ED%8A%B9_306.ipynb\" target=\"_parent\"><img src=\"https://colab.research.google.com/assets/colab-badge.svg\" alt=\"Open In Colab\"/></a>"
      ]
    },
    {
      "cell_type": "code",
      "execution_count": null,
      "metadata": {
        "id": "u1P-ymw-Bkx-"
      },
      "outputs": [],
      "source": [
        "# 라이브러리 부르기\n",
        "import pandas as pd\n",
        "import numpy as np\n",
        "import seaborn as sns\n",
        "import matplotlib.pyplot as plt\n",
        "\n",
        "\n",
        "##  데이터 부르기 : 구글colab에 마운트(mount)하는 방법: 왼쪽 폴더아이콘을 누르기-눈동자 왼쪽 파일마운트 아이콘 클릭- /content/drive/MyDrive/python폴더의 susi_2021simple.csv파일을 불러옴\n",
        "df = pd.read_csv('/content/drive/MyDrive/python/dungchon/srecord_306.csv', encoding = 'cp949')\n",
        "\n",
        "df.head()"
      ]
    },
    {
      "cell_type": "code",
      "source": [
        "#이름으로 과목, 학년, 교과세특을 보여줌\n",
        "name = input(\"이름:\")\n",
        "df_name = df[(df.이름 == name)]\n",
        "df_name = df_name[['이름', '과목', '학년', '교과세특']]\n",
        "df_name"
      ],
      "metadata": {
        "id": "5xC7MiG5DmH-"
      },
      "execution_count": null,
      "outputs": []
    },
    {
      "cell_type": "code",
      "source": [
        "#방법A: 이름을 넣어 해당 학생의 교과세특을 학생이름으로 텍스트 파일로 dungchon 폴더의 result_d 폴더에 저장함\n",
        "import pandas as pd\n",
        "\n",
        "name = input(\"이름:\")\n",
        "df_name = df[(df.이름 == name)]\n",
        "df_name = df_name['교과세특']\n",
        "\n",
        "# Save the DataFrame to a text file with the desired filename\n",
        "filename = f\"{name}_result.txt\"\n",
        "df_name.to_csv(f\"/content/drive/MyDrive/python/dungchon/result_d/{filename}\", sep='\\t', index=False)"
      ],
      "metadata": {
        "id": "Hyvl5qXilXFe"
      },
      "execution_count": null,
      "outputs": []
    },
    {
      "cell_type": "code",
      "source": [
        "# 방법B: 이름을 넣어 해당 학생의 교과세특을 학생이름으로 텍스트 파일로 dungchon 폴더의 result_d 폴더에 저장함: 자기이름이 워드클라우드에 찍힘~\n",
        "import pandas as pd\n",
        "\n",
        "name = input(\"이름:\")\n",
        "df_name = df[(df.이름 == name)]\n",
        "df_name = df_name[['이름', '교과세특']]\n",
        "\n",
        "# Save the DataFrame to a text file with the desired filename\n",
        "filename = f\"{name}_result_워드클라우드에이름.txt\"\n",
        "df_name.to_csv(f\"/content/drive/MyDrive/python/dungchon/result_d/{filename}\", sep='\\t', index=False)"
      ],
      "metadata": {
        "id": "WdDrRq0YtXdk"
      },
      "execution_count": null,
      "outputs": []
    },
    {
      "cell_type": "code",
      "source": [
        "# 방법C: 이름과 과목으로 세특조회하여 이름과목으로 txt파일로 저장함\n",
        "name = input(\"이름:\")\n",
        "subject = input(\"과목:\")\n",
        "df_name = df[(df.이름 == name) & (df.과목 == subject)]\n",
        "df_name = df_name[['이름', '과목', '학년', '교과세특']]\n",
        "\n",
        "# Save the DataFrame to a text file with the desired filename\n",
        "filename = f\"{name}{subject}_result.txt\"\n",
        "df_name.to_csv(f\"/content/drive/MyDrive/python/dungchon/result_d/{filename}\", sep='\\t', index=False)"
      ],
      "metadata": {
        "id": "VGAzHo3selFV"
      },
      "execution_count": null,
      "outputs": []
    },
    {
      "cell_type": "code",
      "source": [
        "#출결인정 메모\n",
        "#from datetime import datetime\n",
        "from pytz import timezone\n",
        "from datetime import datetime\n",
        "today = datetime.now(timezone('Asia/Seoul'))\n",
        "\n",
        "name = input(\"이름:\")\n",
        "snum = input(\"번호:\")\n",
        "print(\"{}(306{})학생이 담임교사 상담으로 늦게 입실함을 깊이 양해부탁드립니다.\".format(name, snum.zfill(2)))\n",
        "print(\"---------------------------------------------------------------------------------\")\n",
        "print(today.strftime('%m-%d %H:%M:%S'))\n",
        "print(\"3-6 담임 황성삼 (인)\")"
      ],
      "metadata": {
        "id": "IYiJ29vh7Nxe"
      },
      "execution_count": null,
      "outputs": []
    }
  ]
}