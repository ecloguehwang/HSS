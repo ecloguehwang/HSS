{
  "nbformat": 4,
  "nbformat_minor": 0,
  "metadata": {
    "colab": {
      "provenance": [],
      "mount_file_id": "1tHBpYAL1bRFnSU_YEAIbV_Lx0RfL5-Od",
      "authorship_tag": "ABX9TyPq0Uv4YdvEHGulT/0Ehk5+",
      "include_colab_link": true
    },
    "kernelspec": {
      "name": "python3",
      "display_name": "Python 3"
    },
    "language_info": {
      "name": "python"
    }
  },
  "cells": [
    {
      "cell_type": "markdown",
      "metadata": {
        "id": "view-in-github",
        "colab_type": "text"
      },
      "source": [
        "<a href=\"https://colab.research.google.com/github/ecloguehwang/HSS/blob/master/%EC%83%81%EB%8B%B4%EC%9D%BC%EC%A7%80.ipynb\" target=\"_parent\"><img src=\"https://colab.research.google.com/assets/colab-badge.svg\" alt=\"Open In Colab\"/></a>"
      ]
    },
    {
      "cell_type": "code",
      "execution_count": null,
      "metadata": {
        "id": "o9YulSMZFSHz"
      },
      "outputs": [],
      "source": [
        "!pip install pandas openpyxl"
      ]
    },
    {
      "cell_type": "code",
      "source": [
        "#시트별로 저장- 파일명은 연도- 월, 일로 변경\n",
        "\n",
        "import pandas as pd\n",
        "from datetime import datetime\n",
        "import os\n",
        "\n",
        "\n",
        "def save_consultation_data():\n",
        "    path = '/content/drive/MyDrive/python/sangdam_record/'\n",
        "\n",
        "    now = datetime.now()\n",
        "    current_year = now.strftime(\"%Y\")\n",
        "    current_month = now.strftime(\"%m\")\n",
        "\n",
        "    filename = f\"상담 기록_{current_year}년.xlsx\"\n",
        "\n",
        "    session_count = input(\"상담시수: \")\n",
        "    grade = input(\"학년: \")\n",
        "    class_number = input(\"반: \")\n",
        "    name = input(\"성명: \")\n",
        "    consultation_date = input(\"상담일지 (MM.DD): \")\n",
        "    consultation_period = input(\"상담시간(교시): \")+ \"교시\"\n",
        "    consultation_type = input(\"상담분류(ex:진로,진학,집단,학부모상담,검사,기타):\")\n",
        "    consultation_content = input(\"상담내용: \")\n",
        "    remarks = input(\"비고: \")\n",
        "\n",
        "    new_data = pd.DataFrame([[session_count, grade, class_number, name, consultation_date, consultation_period, consultation_type, consultation_content, remarks]],\n",
        "                            columns=[\"상담시수\", \"학년\", \"반\", \"이름\", \"상담일지\", \"상담시간(교시)\", \"상담분류\", \"상담내용\", \"비고\"])\n",
        "\n",
        "    consultation_month = datetime.strptime(consultation_date, \"%m.%d\").strftime(\"%m\")\n",
        "    separate_sheet_name = f\"{consultation_month}월\"\n",
        "\n",
        "\n",
        "    # 현재 월이 상담일자의 월과 같을 때 해당 월의 이름을 사용하여 시트명 결정\n",
        "    if consultation_month == current_month:\n",
        "        sheet_name = f\"{current_month}월\"  # 현재 월을 시트 이름으로 사용\n",
        "    else:\n",
        "        sheet_name = separate_sheet_name\n",
        "\n",
        "    if os.path.exists(path + filename):\n",
        "        try:\n",
        "            df = pd.read_excel(path + filename, sheet_name=sheet_name)\n",
        "        except ValueError:\n",
        "            df = pd.DataFrame()\n",
        "        df = pd.concat([df, new_data], ignore_index=True)\n",
        "        with pd.ExcelWriter(f'{path}{filename}', engine='openpyxl', mode='a', if_sheet_exists='replace') as writer:\n",
        "            df.to_excel(writer, sheet_name=sheet_name, index=False)\n",
        "    else:\n",
        "        with pd.ExcelWriter(f'{path}{filename}', engine='openpyxl') as writer:\n",
        "            new_data.to_excel(writer, sheet_name=sheet_name, index=False)\n",
        "\n",
        "    print(f\"'{sheet_name}' 시트에 데이터가 저장되었습니다.\")\n",
        "\n",
        "save_consultation_data()"
      ],
      "metadata": {
        "colab": {
          "base_uri": "https://localhost:8080/"
        },
        "id": "YdTtwxw19a9G",
        "outputId": "bd8ea9eb-adac-486c-c6d2-ceb8a76f1573"
      },
      "execution_count": 58,
      "outputs": [
        {
          "output_type": "stream",
          "name": "stdout",
          "text": [
            "상담시수: 1\n",
            "학년: 1\n",
            "반: 6\n",
            "성명: 관창\n",
            "상담일지 (MM.DD): 3.6\n",
            "상담시간(교시): 5\n",
            "상담분류(ex:진로,진학,집단,학부모상담,검사,기타):진학\n",
            "상담내용: 전공\n",
            "비고: \n",
            "'03월' 시트에 데이터가 저장되었습니다.\n"
          ]
        }
      ]
    },
    {
      "cell_type": "code",
      "source": [
        "#예비: 월별로 따라 엑셀파일 생성\n",
        "\n",
        "import pandas as pd\n",
        "from datetime import datetime\n",
        "import os\n",
        "\n",
        "def save_consultation_data():\n",
        "    # Define the path at the start of the function\n",
        "    path = '/content/drive/MyDrive/python/sangdam_record/'\n",
        "\n",
        "    # 현재 날짜와 월을 구함\n",
        "    now = datetime.now()\n",
        "    current_month = now.strftime(\"%m\")  # 현재 월\n",
        "    current_year = now.strftime(\"%Y\")  # 현재 연도\n",
        "\n",
        "    # 파일명 설정 (현재 월 포함)\n",
        "    filename = f\"상담 기록_{current_year}년_{current_month}월.xlsx\"\n",
        "\n",
        "    # 사용자 입력 받기\n",
        "    session_count = input(\"상담시수: \")\n",
        "    grade = input(\"학년: \")\n",
        "    class_number = input(\"반: \")\n",
        "    name = input(\"성명: \")\n",
        "    consultation_date = input(\"상담일지 (YYYY.MM.DD): \")\n",
        "    consultation_period = input(\"상담시간(교시): \")\n",
        "    consultation_type = input(\"상담분류: \")\n",
        "    consultation_content = input(\"상담내용: \")\n",
        "    remarks = input(\"비고: \")\n",
        "\n",
        "    # 입력 받은 데이터를 DataFrame에 추가\n",
        "    new_data = pd.DataFrame([[session_count, grade, class_number, name, consultation_date, consultation_period, consultation_type, consultation_content, remarks]],\n",
        "                            columns=[\"상담시수\", \"학년\", \"반\", \"이름\", \"상담일지\", \"상담시간(교시)\", \"상담분류\", \"상담내용\", \"비고\"])\n",
        "\n",
        "    # 파일 존재 여부 확인 후 누적 또는 새로 작성\n",
        "    if os.path.exists(path + filename):\n",
        "        # 기존 파일이 있으면 불러와서 누적\n",
        "        df = pd.read_excel(path + filename)\n",
        "        df = pd.concat([df, new_data], ignore_index=True)\n",
        "    else:\n",
        "        # 새로운 파일이면 새 데이터 프레임 사용\n",
        "        df = new_data\n",
        "\n",
        "    # 입력된 상담일자의 월이 현재 월과 다른 경우 별도 파일에 저장\n",
        "    consultation_month = datetime.strptime(consultation_date, \"%Y.%m.%d\").strftime(\"%m\")\n",
        "    if consultation_month != current_month:\n",
        "        separate_filename = f\"상담 기록_{current_year}년_{consultation_month}월.xlsx\"\n",
        "        if os.path.exists(path + separate_filename):\n",
        "            separate_df = pd.read_excel(path + separate_filename)\n",
        "            separate_df = pd.concat([separate_df, new_data], ignore_index=True)\n",
        "        else:\n",
        "            separate_df = new_data\n",
        "        separate_df.to_excel(f'{path}{separate_filename}', index=False, engine='openpyxl')\n",
        "        print(f\"'{path}{separate_filename}'에 별도로 저장되었습니다.\")\n",
        "    else:\n",
        "        # 현재 월 파일에 저장\n",
        "        df.to_excel(f'{path}{filename}', index=False, engine='openpyxl')\n",
        "        print(f\"'{path}{filename}'에 데이터가 저장되었습니다.\")\n",
        "\n",
        "save_consultation_data()"
      ],
      "metadata": {
        "id": "pNFzxJ2pOGo9"
      },
      "execution_count": null,
      "outputs": []
    }
  ]
}