{
  "nbformat": 4,
  "nbformat_minor": 0,
  "metadata": {
    "colab": {
      "provenance": [],
      "mount_file_id": "1vrytAFFmhhTfZ8_MGHkzV4eyk1RL9hSl",
      "authorship_tag": "ABX9TyM2+A3QBNaCqZmwlQdwWZFD",
      "include_colab_link": true
    },
    "kernelspec": {
      "name": "python3",
      "display_name": "Python 3"
    },
    "language_info": {
      "name": "python"
    }
  },
  "cells": [
    {
      "cell_type": "markdown",
      "metadata": {
        "id": "view-in-github",
        "colab_type": "text"
      },
      "source": [
        "<a href=\"https://colab.research.google.com/github/ecloguehwang/HSS/blob/master/%EA%B7%B8%EB%9E%98%ED%94%84_%EC%A7%84%ED%95%99%EA%B2%B0%EA%B3%BC_%EC%84%B1%EB%B3%84%ED%95%A9%EB%B6%88_RPA.ipynb\" target=\"_parent\"><img src=\"https://colab.research.google.com/assets/colab-badge.svg\" alt=\"Open In Colab\"/></a>"
      ]
    },
    {
      "cell_type": "code",
      "source": [
        "#colab에서 matplotlib와 sns 라이브러리 그래프 한글을 깨지지 않게 하는 법: 이 코드실행하고 런타임(runtime) 다시 실행하기\n",
        "!sudo apt-get install -y fonts-nanum\n",
        "!sudo fc-cache -fv\n",
        "!rm ~/.cache/matplotlib -rf"
      ],
      "metadata": {
        "id": "lorlu-xknSRL"
      },
      "execution_count": null,
      "outputs": []
    },
    {
      "cell_type": "code",
      "source": [
        "# 라이브러리 부르기\n",
        "import pandas as pd\n",
        "import numpy as np\n",
        "import seaborn as sns\n",
        "import matplotlib.pyplot as plt\n",
        "import os\n",
        "import openpyxl\n",
        "import csv\n",
        "\n",
        "##  데이터 부르기 : 구글colab에 마운트(mount)하는 방법: 왼쪽 폴더아이콘을 누르기-눈동자 왼쪽 파일마운트 아이콘 클릭- /content/drive/MyDrive/python폴더의 susi_2021simple.csv파일을 불러옴\n",
        "df = pd.read_csv('/content/drive/MyDrive/python/dungchon/df_gender.csv', encoding = 'cp949')\n",
        "\n",
        "# 첫 5줄을 봅니다. \n",
        "df.head(4)"
      ],
      "metadata": {
        "id": "yeRjzNaXtuEc"
      },
      "execution_count": null,
      "outputs": []
    },
    {
      "cell_type": "code",
      "source": [
        "#matplotlib에서 한글구현\n",
        "plt.rc('font', family='NanumBarunGothic')\n",
        "\n",
        "#그래프 마이너스 기호 깨짐 방지\n",
        "plt.rcParams['axes.unicode_minus'] = False"
      ],
      "metadata": {
        "id": "HLYxc-NztOTr"
      },
      "execution_count": 4,
      "outputs": []
    },
    {
      "cell_type": "code",
      "source": [
        "df.groupby('성별').count()"
      ],
      "metadata": {
        "id": "8dZAL8OajJ7-"
      },
      "execution_count": null,
      "outputs": []
    },
    {
      "cell_type": "code",
      "source": [
        "#RPA로 합불자료에서 세로형 누적형 막대 그래프 자동 완성\n",
        "\n",
        "import pandas as pd\n",
        "import matplotlib.pyplot as plt\n",
        "\n",
        "uni = ['서울대', '연세대', '고려대', '서강대', '성균관대', '한양대', '중앙대', '경희대', '한국외대', '서울시립대', '이화여대', '건국대', '동국대', '홍익대', '숙명여자대', '국민대', '숭실대', '세종대', '단국대']\n",
        "\n",
        "#csv파일 불러오기\n",
        "df = pd.read_csv(\"/content/drive/MyDrive/python/dungchon/df_gender.csv\", encoding = 'cp949')  # replace with your own file name\n",
        "\n",
        "print(\"\\n***2023학년도 등촌고 합격자수***\")\n",
        "\n",
        "#빈 리스트\n",
        "uni_new = []\n",
        "num_su = []\n",
        "num_je = []\n",
        "\n",
        "#리스트에 새로운 대학리스트와, 남자자합격자, 여자자합격자를 담기\n",
        "for u in uni:\n",
        "    df_u = df[(df.대학 == u) & (df.최종 == '합')]\n",
        "    df_u = df_u[['성별', '학번', '대학', '최종']]\n",
        "\n",
        "    num_su_u = len(df_u[df_u['성별'] == '남자'])\n",
        "    num_je_u = len(df_u[df_u['성별'] == '여자'])\n",
        "    \n",
        "    if (num_su_u > 0) or (num_je_u > 0):\n",
        "        uni_new.append(u)\n",
        "        num_su.append(num_su_u)\n",
        "        num_je.append(num_je_u)\n",
        "\n",
        "        print(u, \"합격자수 - 남자:\", str(num_su_u) + \"명,\", \"여자:\", str(num_je_u) + \"명\")\n",
        "        print(\"-----------------------------------------\\n\")\n",
        "\n",
        "\n",
        "if len(uni_new) > 0:\n",
        "    # sort the data by the total number of admissions (sum of num_su and num_je)\n",
        "    data = sorted(zip(uni_new, num_su, num_je), key=lambda x: x[1]+x[2], reverse=False)\n",
        "    uni_new = [x[0] for x in data]\n",
        "    num_su = [x[1] for x in data]\n",
        "    num_je = [x[2] for x in data]\n",
        "\n",
        "\n",
        "    # plot the bar graph   \n",
        "    fig, ax = plt.subplots()\n",
        "    ax.bar(uni_new, num_su, label='남자')\n",
        "    ax.bar(uni_new, num_je, bottom=num_su, label='여자')\n",
        "    \n",
        "    # add value labels\n",
        "    for i, (su, je) in enumerate(zip(num_su, num_je)):\n",
        "        ax.text(i, su+0.1, su, ha='center', va='center', fontsize=13)\n",
        "        #ax.text(i, je+0.02, je, ha='center', va='top', fontsize=13)\n",
        "        #ax.text(i, su/2, je, ha='center', va='center', fontsize=13)  #예비코드: 남자와 여자합격자가 누적될때 적절한 남자합격자수 위치 \n",
        "        ax.text(i, (su + je)/2, je, ha='center', va='top', fontsize=13) #예비코드: 남자와 여자합격자가 누적될때 적절한 여자합격자수 위치 \n",
        "\n",
        "    #범례 \n",
        "    ax.legend()\n",
        "\n",
        "    # 그래프 제목\n",
        "    ax.set_title('2023 D고 서울주요대 성별 합격자수', fontsize=18, fontweight='bold', loc='left')\n",
        "\n",
        "\n",
        "    # 그래프 부제목\n",
        "    ax.text(0.6, 1.00, '(단위: 명)', ha='center', va='top', transform=ax.transAxes, fontsize=12)\n",
        "   \n",
        "    # X축 눈금(ticks) 제거\n",
        "    ax.tick_params(axis='x', which='both', length=0)\n",
        "    \n",
        "    # 범례 레이블 바꾸기\n",
        "    ax.legend(['남학생', '여학생'])\n",
        "\n",
        "\n",
        "    plt.xticks(rotation=45) #x축 45도 회전\n",
        "    plt.box(False) #테두리 박스 제거\n",
        "    plt.yticks([]) #y축 제거\n",
        "    plt.show()\n",
        "else:\n",
        "    print(\"아쉽게도 그래프를 그릴 합격자가 없습니다:().\")\n"
      ],
      "metadata": {
        "colab": {
          "base_uri": "https://localhost:8080/",
          "height": 1000
        },
        "id": "dDgUMizg6Kgm",
        "outputId": "e65c2055-ad3b-4b67-8114-f2fee70f7353"
      },
      "execution_count": 35,
      "outputs": [
        {
          "output_type": "stream",
          "name": "stdout",
          "text": [
            "\n",
            "***2023학년도 등촌고 합격자수***\n",
            "고려대 합격자수 - 남자: 0명, 여자: 2명\n",
            "-----------------------------------------\n",
            "\n",
            "서강대 합격자수 - 남자: 0명, 여자: 2명\n",
            "-----------------------------------------\n",
            "\n",
            "성균관대 합격자수 - 남자: 0명, 여자: 2명\n",
            "-----------------------------------------\n",
            "\n",
            "경희대 합격자수 - 남자: 1명, 여자: 0명\n",
            "-----------------------------------------\n",
            "\n",
            "한국외대 합격자수 - 남자: 0명, 여자: 2명\n",
            "-----------------------------------------\n",
            "\n",
            "서울시립대 합격자수 - 남자: 0명, 여자: 3명\n",
            "-----------------------------------------\n",
            "\n",
            "이화여대 합격자수 - 남자: 0명, 여자: 3명\n",
            "-----------------------------------------\n",
            "\n",
            "건국대 합격자수 - 남자: 1명, 여자: 0명\n",
            "-----------------------------------------\n",
            "\n",
            "동국대 합격자수 - 남자: 1명, 여자: 1명\n",
            "-----------------------------------------\n",
            "\n",
            "홍익대 합격자수 - 남자: 1명, 여자: 1명\n",
            "-----------------------------------------\n",
            "\n",
            "국민대 합격자수 - 남자: 1명, 여자: 0명\n",
            "-----------------------------------------\n",
            "\n",
            "숭실대 합격자수 - 남자: 1명, 여자: 1명\n",
            "-----------------------------------------\n",
            "\n"
          ]
        },
        {
          "output_type": "display_data",
          "data": {
            "text/plain": [
              "<Figure size 432x288 with 1 Axes>"
            ],
            "image/png": "[encoded data removed]"
          },
          "metadata": {
            "needs_background": "light"
          }
        }
      ]
    },
    {
      "cell_type": "code",
      "source": [
        "import pandas as pd\n",
        "import matplotlib.pyplot as plt\n",
        "\n",
        "uni = ['서울대', '연세대', '고려대', '서강대', '성균관대', '한양대', '중앙대', '경희대', '한국외대', '서울시립대', '이화여대', '건국대', '동국대', '홍익대', '숙명여자대', '국민대', '숭실대', '세종대', '단국대']\n",
        "\n",
        "#csv파일 불러오기\n",
        "df = pd.read_csv(\"/content/drive/MyDrive/python/dungchon/df_gender.csv\", encoding = 'cp949')  # replace with your own file name\n",
        "\n",
        "print(\"\\n***2023학년도 등촌고 합격자수***\")\n",
        "\n",
        "#빈 리스트\n",
        "uni_new = []\n",
        "num_su = []\n",
        "num_je = []\n",
        "\n",
        "#리스트에 새로운 대학리스트와, 남자자합격자, 여자자합격자를 담기\n",
        "for u in uni:\n",
        "    df_u = df[(df.대학 == u) & (df.최종 == '합')]\n",
        "    df_u = df_u[['성별', '학번', '대학', '최종']]\n",
        "\n",
        "    num_su_u = len(df_u[df_u['성별'] == '남자'])\n",
        "    num_je_u = len(df_u[df_u['성별'] == '여자'])\n",
        "    \n",
        "    if (num_su_u > 0) or (num_je_u > 0):\n",
        "        uni_new.append(u)\n",
        "        num_su.append(num_su_u)\n",
        "        num_je.append(num_je_u)\n",
        "\n",
        "        print(u, \"합격자수 - 남자:\", str(num_su_u) + \"명,\", \"여자:\", str(num_je_u) + \"명\")\n",
        "        print(\"-----------------------------------------\\n\")\n",
        "\n",
        "\n",
        "if len(uni_new) > 0:\n",
        "    # sort the data by the total number of admissions (sum of num_su and num_je)\n",
        "    data = sorted(zip(uni_new, num_su, num_je), key=lambda x: x[1]+x[2], reverse=False)\n",
        "    uni_new = [x[0] for x in data]\n",
        "    num_su = [x[1] for x in data]\n",
        "    num_je = [x[2] for x in data]\n",
        "\n",
        "\n",
        "    # plot the horizontal bar graph   \n",
        "    fig, ax = plt.subplots()\n",
        "    ax.barh(uni_new, num_su, label='남자')\n",
        "    ax.barh(uni_new, num_je, left=num_su, label='여자')\n",
        "    \n",
        "    # add value labels\n",
        "    for i, (su, je) in enumerate(zip(num_su, num_je)):\n",
        "        ax.text(su+0.04, i, su, ha='left', va= 'center', fontsize=13)\n",
        "        ax.text((su+je), i, je, ha='right', va='center', fontsize=13)\n",
        "\n",
        "    #범례 \n",
        "    ax.legend()\n",
        "\n",
        "     # 범례 레이블 바꾸기\n",
        "    ax.legend(['남학생', '여학생'])\n",
        "\n",
        "     # 그래프 제목\n",
        "    ax.set_title('2023 D고 서울주요대 성별 합격자수', fontsize=18, fontweight='bold', loc='left')\n",
        "\n",
        "\n",
        "    # 그래프 부제목\n",
        "    ax.text(0.86, 1.05, '(단위: 명)', ha='center', va='top', transform=ax.transAxes, fontsize=12)\n",
        "\n",
        "    # remove box and yticks\n",
        "    ax.spines['top'].set_visible(False)\n",
        "    ax.spines['right'].set_visible(False)\n",
        "    ax.spines['bottom'].set_visible(False)\n",
        "    ax.spines['left'].set_visible(False)\n",
        "    ax.tick_params(axis='y', which='both', length=0)\n",
        "    ax.tick_params(axis='x', which='both', length=0)\n",
        "\n",
        "\n",
        "# Remove x-axis ticks and text\n",
        "plt.tick_params(axis='x', which='both', bottom=False, labelbottom=False)\n",
        "\n"
      ],
      "metadata": {
        "colab": {
          "base_uri": "https://localhost:8080/",
          "height": 958
        },
        "id": "ARrxnWSSLX9c",
        "outputId": "0b92b79a-25a8-423e-a7bf-af24c228b39f"
      },
      "execution_count": 85,
      "outputs": [
        {
          "output_type": "stream",
          "name": "stdout",
          "text": [
            "\n",
            "***2023학년도 등촌고 합격자수***\n",
            "고려대 합격자수 - 남자: 0명, 여자: 2명\n",
            "-----------------------------------------\n",
            "\n",
            "서강대 합격자수 - 남자: 0명, 여자: 2명\n",
            "-----------------------------------------\n",
            "\n",
            "성균관대 합격자수 - 남자: 0명, 여자: 2명\n",
            "-----------------------------------------\n",
            "\n",
            "경희대 합격자수 - 남자: 1명, 여자: 0명\n",
            "-----------------------------------------\n",
            "\n",
            "한국외대 합격자수 - 남자: 0명, 여자: 2명\n",
            "-----------------------------------------\n",
            "\n",
            "서울시립대 합격자수 - 남자: 0명, 여자: 3명\n",
            "-----------------------------------------\n",
            "\n",
            "이화여대 합격자수 - 남자: 0명, 여자: 3명\n",
            "-----------------------------------------\n",
            "\n",
            "건국대 합격자수 - 남자: 1명, 여자: 0명\n",
            "-----------------------------------------\n",
            "\n",
            "동국대 합격자수 - 남자: 1명, 여자: 1명\n",
            "-----------------------------------------\n",
            "\n",
            "홍익대 합격자수 - 남자: 1명, 여자: 1명\n",
            "-----------------------------------------\n",
            "\n",
            "국민대 합격자수 - 남자: 1명, 여자: 0명\n",
            "-----------------------------------------\n",
            "\n",
            "숭실대 합격자수 - 남자: 1명, 여자: 1명\n",
            "-----------------------------------------\n",
            "\n"
          ]
        },
        {
          "output_type": "display_data",
          "data": {
            "text/plain": [
              "<Figure size 432x288 with 1 Axes>"
            ],
            "image/png": "[encoded data removed]"
          },
          "metadata": {
            "needs_background": "light"
          }
        }
      ]
    },
    {
      "cell_type": "code",
      "source": [
        "#그래프 숫자를 지운 그래프: 레이블은 ppt에서 삽입~\n",
        "\n",
        "import pandas as pd\n",
        "import matplotlib.pyplot as plt\n",
        "\n",
        "uni = ['서울대', '연세대', '고려대', '서강대', '성균관대', '한양대', '중앙대', '경희대', '한국외대', '서울시립대', '이화여대', '건국대', '동국대', '홍익대', '숙명여자대', '국민대', '숭실대', '세종대', '단국대']\n",
        "\n",
        "#csv파일 불러오기\n",
        "df = pd.read_csv(\"/content/drive/MyDrive/python/dungchon/df_gender.csv\", encoding = 'cp949')  # replace with your own file name\n",
        "\n",
        "print(\"\\n***2023학년도 등촌고 합격자수***\")\n",
        "\n",
        "#빈 리스트\n",
        "uni_new = []\n",
        "num_su = []\n",
        "num_je = []\n",
        "\n",
        "#리스트에 새로운 대학리스트와, 남자자합격자, 여자자합격자를 담기\n",
        "for u in uni:\n",
        "    df_u = df[(df.대학 == u) & (df.최종 == '합')]\n",
        "    df_u = df_u[['성별', '학번', '대학', '최종']]\n",
        "\n",
        "    num_su_u = len(df_u[df_u['성별'] == '남자'])\n",
        "    num_je_u = len(df_u[df_u['성별'] == '여자'])\n",
        "    \n",
        "    if (num_su_u > 0) or (num_je_u > 0):\n",
        "        uni_new.append(u)\n",
        "        num_su.append(num_su_u)\n",
        "        num_je.append(num_je_u)\n",
        "\n",
        "        print(u, \"합격자수 - 남자:\", str(num_su_u) + \"명,\", \"여자:\", str(num_je_u) + \"명\")\n",
        "        print(\"-----------------------------------------\\n\")\n",
        "\n",
        "\n",
        "if len(uni_new) > 0:\n",
        "    # sort the data by the total number of admissions (sum of num_su and num_je)\n",
        "    data = sorted(zip(uni_new, num_su, num_je), key=lambda x: x[1]+x[2], reverse=False)\n",
        "    uni_new = [x[0] for x in data]\n",
        "    num_su = [x[1] for x in data]\n",
        "    num_je = [x[2] for x in data]\n",
        "\n",
        "\n",
        "    # plot the horizontal bar graph   \n",
        "    fig, ax = plt.subplots()\n",
        "    ax.barh(uni_new, num_su, label='남자')\n",
        "    ax.barh(uni_new, num_je, left=num_su, label='여자')\n",
        "    \n",
        "    # add value labels\n",
        "    #for i, (su, je) in enumerate(zip(num_su, num_je)):\n",
        "        #ax.text(su+0.04, i, su, ha='left', va= 'center', fontsize=13)\n",
        "        #ax.text((su+je), i, je, ha='right', va='center', fontsize=13)\n",
        "\n",
        "    #범례 \n",
        "    ax.legend()\n",
        "\n",
        "     # 범례 레이블 바꾸기\n",
        "    ax.legend(['남학생', '여학생'])\n",
        "\n",
        "     # 그래프 제목\n",
        "    ax.set_title('2023 D고 서울주요대 성별 합격자수', fontsize=18, fontweight='bold', loc='left')\n",
        "\n",
        "\n",
        "    # 그래프 부제목\n",
        "    ax.text(0.86, 1.05, '(단위: 명)', ha='center', va='top', transform=ax.transAxes, fontsize=12)\n",
        "\n",
        "    # remove box and yticks\n",
        "    ax.spines['top'].set_visible(False)\n",
        "    ax.spines['right'].set_visible(False)\n",
        "    ax.spines['bottom'].set_visible(False)\n",
        "    ax.spines['left'].set_visible(False)\n",
        "    ax.tick_params(axis='y', which='both', length=0)\n",
        "    ax.tick_params(axis='x', which='both', length=0)\n",
        "\n",
        "\n",
        "# Remove x-axis ticks and text\n",
        "plt.tick_params(axis='x', which='both', bottom=False, labelbottom=False)\n",
        "\n"
      ],
      "metadata": {
        "colab": {
          "base_uri": "https://localhost:8080/",
          "height": 958
        },
        "id": "vE6uAGK6RKl_",
        "outputId": "20576207-ba55-4c3a-a4aa-e181c74e8979"
      },
      "execution_count": 86,
      "outputs": [
        {
          "output_type": "stream",
          "name": "stdout",
          "text": [
            "\n",
            "***2023학년도 등촌고 합격자수***\n",
            "고려대 합격자수 - 남자: 0명, 여자: 2명\n",
            "-----------------------------------------\n",
            "\n",
            "서강대 합격자수 - 남자: 0명, 여자: 2명\n",
            "-----------------------------------------\n",
            "\n",
            "성균관대 합격자수 - 남자: 0명, 여자: 2명\n",
            "-----------------------------------------\n",
            "\n",
            "경희대 합격자수 - 남자: 1명, 여자: 0명\n",
            "-----------------------------------------\n",
            "\n",
            "한국외대 합격자수 - 남자: 0명, 여자: 2명\n",
            "-----------------------------------------\n",
            "\n",
            "서울시립대 합격자수 - 남자: 0명, 여자: 3명\n",
            "-----------------------------------------\n",
            "\n",
            "이화여대 합격자수 - 남자: 0명, 여자: 3명\n",
            "-----------------------------------------\n",
            "\n",
            "건국대 합격자수 - 남자: 1명, 여자: 0명\n",
            "-----------------------------------------\n",
            "\n",
            "동국대 합격자수 - 남자: 1명, 여자: 1명\n",
            "-----------------------------------------\n",
            "\n",
            "홍익대 합격자수 - 남자: 1명, 여자: 1명\n",
            "-----------------------------------------\n",
            "\n",
            "국민대 합격자수 - 남자: 1명, 여자: 0명\n",
            "-----------------------------------------\n",
            "\n",
            "숭실대 합격자수 - 남자: 1명, 여자: 1명\n",
            "-----------------------------------------\n",
            "\n"
          ]
        },
        {
          "output_type": "display_data",
          "data": {
            "text/plain": [
              "<Figure size 432x288 with 1 Axes>"
            ],
            "image/png": "[encoded data removed]"
          },
          "metadata": {
            "needs_background": "light"
          }
        }
      ]
    },
    {
      "cell_type": "code",
      "source": [
        "df_km = df[(df.대학 == '단국대')]\n",
        "\n",
        "df_km = df[(df.대학 == '단국대') & (df.최종 == '합')]\n",
        "print(df_km[['대학', '전형분류', '최종']])"
      ],
      "metadata": {
        "colab": {
          "base_uri": "https://localhost:8080/"
        },
        "id": "-0ubyH35aVK0",
        "outputId": "490b9f83-2f8d-4f96-e5db-7a56dadb9e84"
      },
      "execution_count": null,
      "outputs": [
        {
          "output_type": "stream",
          "name": "stdout",
          "text": [
            "Empty DataFrame\n",
            "Columns: [대학, 전형분류, 최종]\n",
            "Index: []\n"
          ]
        }
      ]
    },
    {
      "cell_type": "code",
      "source": [
        "df_km = df[(df.대학 == '숭실대')]\n",
        "print(df_km[['대학', '전형분류', '최종']])"
      ],
      "metadata": {
        "id": "0ePllGdZc0-8"
      },
      "execution_count": null,
      "outputs": []
    }
  ]
}