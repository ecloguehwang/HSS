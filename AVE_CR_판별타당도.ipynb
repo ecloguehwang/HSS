{
  "nbformat": 4,
  "nbformat_minor": 0,
  "metadata": {
    "colab": {
      "provenance": [],
      "authorship_tag": "ABX9TyN7eF91CsazlQ8t934MuTN0",
      "include_colab_link": true
    },
    "kernelspec": {
      "name": "python3",
      "display_name": "Python 3"
    },
    "language_info": {
      "name": "python"
    }
  },
  "cells": [
    {
      "cell_type": "markdown",
      "metadata": {
        "id": "view-in-github",
        "colab_type": "text"
      },
      "source": [
        "<a href=\"https://colab.research.google.com/github/ecloguehwang/HSS/blob/master/AVE_CR_%ED%8C%90%EB%B3%84%ED%83%80%EB%8B%B9%EB%8F%84.ipynb\" target=\"_parent\"><img src=\"https://colab.research.google.com/assets/colab-badge.svg\" alt=\"Open In Colab\"/></a>"
      ]
    },
    {
      "cell_type": "code",
      "source": [
        "import math\n",
        "\n",
        "def calculate_average(r):\n",
        "    # Calculate the numerator and denominator for average calculation\n",
        "    numerator_average = sum(val ** 2 for val in r)\n",
        "    denominator_average = numerator_average + sum(1 - val ** 2 for val in r)\n",
        "\n",
        "    # Calculate the numerator and denominator for cr calculation\n",
        "    numerator_cr = sum(r) ** 2\n",
        "    denominator_cr = numerator_cr + sum(1 - val ** 2 for val in r)\n",
        "\n",
        "    # Calculate the average and cr using the formulas\n",
        "    average = round(numerator_average / denominator_average, 2)\n",
        "    cr = round(numerator_cr / denominator_cr, 2)\n",
        "\n",
        "    return average, cr\n",
        "\n",
        "# Get the number of r coefficients from the user\n",
        "num_coefficients = int(input(\"몇개의 표준화 계수(요인 적재량)를 계산하고 싶나요?: \"))\n",
        "\n",
        "# Get the values of r from the user\n",
        "r_values = []\n",
        "for i in range(num_coefficients):\n",
        "    r = float(input(f\"표준화 계수(요인 적재량) {i + 1}: \"))\n",
        "    r_values.append(r)\n",
        "\n",
        "# Calculate the average and cr using the provided formulas\n",
        "average, cr = calculate_average(r_values)\n",
        "\n",
        "# Calculate the square root of the AVE for discriminant validity\n",
        "discriminant_validity = round(math.sqrt(average), 2)\n",
        "\n",
        "# Print the results\n",
        "print(\"----------------------------------------\")\n",
        "print(\"평균분산추출(AVE):\", \"\\033[91m\" + str(average) + \"\\033[0m\")\n",
        "print(\"개념신뢰도(Composite Reliability):\", \"\\033[91m\" + str(cr) + \"\\033[0m\")\n",
        "print(\"판별타당도:\", \"\\033[91m\" + str(discriminant_validity) + \"\\033[0m\")\n"
      ],
      "metadata": {
        "colab": {
          "base_uri": "https://localhost:8080/"
        },
        "id": "5C6gBdyKzfUI",
        "outputId": "5946b44e-7d17-400b-a6fe-ceedb68e20b5"
      },
      "execution_count": 14,
      "outputs": [
        {
          "output_type": "stream",
          "name": "stdout",
          "text": [
            "몇개의 표준화 계수(요인 적재량)를 계산하고 싶나요?: 3\n",
            "표준화 계수(요인 적재량) 1: .848\n",
            "표준화 계수(요인 적재량) 2: .656\n",
            "표준화 계수(요인 적재량) 3: .685\n",
            "----------------------------------------\n",
            "평균분산추출(AVE): \u001b[91m0.54\u001b[0m\n",
            "개념신뢰도(Composite Reliability): \u001b[91m0.78\u001b[0m\n",
            "판별타당도: \u001b[91m0.73\u001b[0m\n"
          ]
        }
      ]
    }
  ]
}