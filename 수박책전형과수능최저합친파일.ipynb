{
  "nbformat": 4,
  "nbformat_minor": 0,
  "metadata": {
    "colab": {
      "provenance": [],
      "mount_file_id": "1XA_ASQugZvZQYjMQPTYoOIzdD9Ao8SFT",
      "authorship_tag": "ABX9TyNW78k4giAtjdaBMMJE4WvU",
      "include_colab_link": true
    },
    "kernelspec": {
      "name": "python3",
      "display_name": "Python 3"
    },
    "language_info": {
      "name": "python"
    }
  },
  "cells": [
    {
      "cell_type": "markdown",
      "metadata": {
        "id": "view-in-github",
        "colab_type": "text"
      },
      "source": [
        "<a href=\"https://colab.research.google.com/github/ecloguehwang/HSS/blob/master/%EC%88%98%EB%B0%95%EC%B1%85%EC%A0%84%ED%98%95%EA%B3%BC%EC%88%98%EB%8A%A5%EC%B5%9C%EC%A0%80%ED%95%A9%EC%B9%9C%ED%8C%8C%EC%9D%BC.ipynb\" target=\"_parent\"><img src=\"https://colab.research.google.com/assets/colab-badge.svg\" alt=\"Open In Colab\"/></a>"
      ]
    },
    {
      "cell_type": "code",
      "source": [
        "import pandas as pd\n",
        "from tabulate import tabulate\n",
        "\n",
        "# 데이터 파일 경로\n",
        "path = '/content/drive/MyDrive/python/entrance/'\n",
        "\n",
        "# 파일 불러오기\n",
        "df_oneeye = pd.read_excel(f'{path}subak_oneeye.xlsx')\n",
        "df_tidy = pd.read_excel(f'{path}subak_ksatmini_tidy.xlsx')\n",
        "\n",
        "# '대학'과 '전형유형' 열을 key로 left join\n",
        "merged_df = pd.merge(df_oneeye, df_tidy, on=['대학', '전형유형'], how='left')\n",
        "\n",
        "\n",
        "# '모집시기' 열에서 '수시', '정시가', '정시나', '정시다'만 포함하는 행을 유지\n",
        "valid_times = ['수시', '정시가', '정시나', '정시다']\n",
        "merged_df = merged_df[merged_df['모집시기'].isin(valid_times)]\n",
        "\n",
        "# '대학' 열의 값이 '대학'인 행 삭제\n",
        "merged_df = merged_df[merged_df['대학'] != '대학']\n",
        "\n",
        "# tabulate를 사용하여 결과 출력\n",
        "print(tabulate(merged_df.tail(20), headers='keys', tablefmt='plain'))\n",
        "\n",
        "# 새로운 경로와 파일명으로 엑셀 파일 저장\n",
        "new_path = '/content/drive/MyDrive/python/entrance/result_entrance/'\n",
        "merged_df.to_excel(f'{new_path}subak_merge.xlsx', index=False)\n"
      ],
      "metadata": {
        "colab": {
          "base_uri": "https://localhost:8080/"
        },
        "id": "vfBcd0aIMwVd",
        "outputId": "1327e637-55de-430d-c3e1-22bd36d35c5a"
      },
      "execution_count": 28,
      "outputs": [
        {
          "output_type": "stream",
          "name": "stdout",
          "text": [
            "       대학     모집시기    전형유형    전형                   모집인원  전형방법                                                         수능최저여부    수능최저평균    수능최저학력기준    탐구과목수    전형및모집단위    응시영역    계열\n",
            "10596  DGIST    수시        종합        고른기회                     15  서류100%                                                                  nan             nan                 nan           nan               nan         nan     nan\n",
            "10597  DGIST    수시        특기        특기자                       10  1단계)서류100%(5배수) 2단계)서류50%+면접50%                               nan             nan                 nan           nan               nan         nan     nan\n",
            "10598  DGIST    수시        재외        외국인                       10  1단계)서류100%(5배수) 2단계)서류50%+면접50%                               nan             nan                 nan           nan               nan         nan     nan\n",
            "10636  GIST     수시        종합        일반전형                    150  1단계)서류100%(5배수) 2단계)서류60%+면접40%                               nan             nan                 nan           nan               nan         nan     nan\n",
            "10637  GIST     수시        종합        학교장추천                   40  1단계)서류100%(5배수) 2단계)서류60%+면접40%  ※ 고교 추천: 2명             nan             nan                 nan           nan               nan         nan     nan\n",
            "10638  GIST     수시        종합        고른기회                     15  1단계)서류100%(4배수) 2단계)서류60%+면접40%                               nan             nan                 nan           nan               nan         nan     nan\n",
            "10639  GIST     수시        특기        특기자                       10  1단계)서류100%(4배수) 2단계)면접100%                                      nan             nan                 nan           nan               nan         nan     nan\n",
            "10657  KAIST    수시        종합        창의도전                    220  서류100%                                                                  nan             nan                 nan           nan               nan         nan     nan\n",
            "10658  KAIST    수시        종합        학교장추천                   95  서류100%  ※ 고교 추천: 2명                                                nan             nan                 nan           nan               nan         nan     nan\n",
            "10659  KAIST    수시        종합        일반전형                    410  1단계)서류100%(2.5배수) 2단계)서류40%+면접60%                             nan             nan                 nan           nan               nan         nan     nan\n",
            "10660  KAIST    수시        종합        고른기회                     55  1단계)서류100%(2배수) 2단계)서류40%+면접60%                               nan             nan                 nan           nan               nan         nan     nan\n",
            "10661  KAIST    수시        특기        특기자                       30  1단계)서류100%(2배수) 2단계)서류40%+면접60%                               nan             nan                 nan           nan               nan         nan     nan\n",
            "10679  KENTECH  수시        종합        일반전형                     90  1단계)서류100%(5배수) 2단계)서류50%+창의성면접50%                         nan             nan                 nan           nan               nan         nan     nan\n",
            "10680  KENTECH  수시        종합        고른기회                     10  1단계)서류100%(5배수) 2단계)서류50%+창의성면접50%                         nan             nan                 nan           nan               nan         nan     nan\n",
            "10706  UNIIST   수시        종합        일반전형                    330  서류100%                                                                  nan             nan                 nan           nan               nan         nan     nan\n",
            "10707  UNIIST   수시        종합        지역인재                     65  서류100%                                                                  nan             nan                 nan           nan               nan         nan     nan\n",
            "10708  UNIIST   수시        종합        탐구우수 [신설]              30  1단계)서류100%(2배수) 2단계)서류50%+면접50%                               nan             nan                 nan           nan               nan         nan     nan\n",
            "10710  UNIIST   수시        종합        고른기회                     40  서류100%                                                                  nan             nan                 nan           nan               nan         nan     nan\n",
            "10711  UNIIST   수시        특기        특기자(15명) [폐지]         nan  1단계)서류100%(2배수) 2단계)서류60%+면접40%                               nan             nan                 nan           nan               nan         nan     nan\n",
            "10712  UNIIST   수시        재외        재외국민및외국인             15  서류100%                                                                  nan             nan                 nan           nan               nan         nan     nan\n"
          ]
        }
      ]
    }
  ]
}