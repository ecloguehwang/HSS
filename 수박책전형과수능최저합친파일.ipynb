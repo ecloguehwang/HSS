{
  "nbformat": 4,
  "nbformat_minor": 0,
  "metadata": {
    "colab": {
      "provenance": [],
      "mount_file_id": "1XA_ASQugZvZQYjMQPTYoOIzdD9Ao8SFT",
      "authorship_tag": "ABX9TyM744KGO4GW96b7GzlEjWrB",
      "include_colab_link": true
    },
    "kernelspec": {
      "name": "python3",
      "display_name": "Python 3"
    },
    "language_info": {
      "name": "python"
    }
  },
  "cells": [
    {
      "cell_type": "markdown",
      "metadata": {
        "id": "view-in-github",
        "colab_type": "text"
      },
      "source": [
        "<a href=\"https://colab.research.google.com/github/ecloguehwang/HSS/blob/master/%EC%88%98%EB%B0%95%EC%B1%85%EC%A0%84%ED%98%95%EA%B3%BC%EC%88%98%EB%8A%A5%EC%B5%9C%EC%A0%80%ED%95%A9%EC%B9%9C%ED%8C%8C%EC%9D%BC.ipynb\" target=\"_parent\"><img src=\"https://colab.research.google.com/assets/colab-badge.svg\" alt=\"Open In Colab\"/></a>"
      ]
    },
    {
      "cell_type": "code",
      "source": [
        "#한눈에 보는 전형 + 수능최저등급\n",
        "\n",
        "import pandas as pd\n",
        "from tabulate import tabulate\n",
        "\n",
        "# 데이터 파일 경로\n",
        "path = '/content/drive/MyDrive/python/entrance/'\n",
        "\n",
        "# 파일 불러오기\n",
        "df_oneeye = pd.read_excel(f'{path}subak_oneeye.xlsx')\n",
        "df_tidy = pd.read_excel(f'{path}subak_ksatmini_tidy.xlsx')\n",
        "\n",
        "# '대학'과 '전형유형' 열을 key로 left join\n",
        "df = pd.merge(df_oneeye, df_tidy, on=['대학', '전형유형'], how='left')\n",
        "\n",
        "\n",
        "# 모든 결측값을 공란으로 대체\n",
        "df.fillna('', inplace=True)\n",
        "\n",
        "\n",
        "# '모집시기' 열에서 '수시', '정시가', '정시나', '정시다'만 포함하는 행을 유지\n",
        "valid_times = ['수시', '정시가', '정시나', '정시다']\n",
        "df = df[df['모집시기'].isin(valid_times)]\n",
        "\n",
        "# '대학' 열의 값이 '대학'인 행 삭제\n",
        "df = df[df['대학'] != '대학']\n",
        "\n",
        "# tabulate를 사용하여 결과 출력\n",
        "print(tabulate(df.tail(20), headers='keys', tablefmt='plain'))\n",
        "\n",
        "# 새로운 경로와 파일명으로 엑셀 파일 저장\n",
        "new_path = '/content/drive/MyDrive/python/entrance/result_entrance/'\n",
        "df.to_excel(f'{new_path}subak_merge.xlsx', index=False)"
      ],
      "metadata": {
        "colab": {
          "base_uri": "https://localhost:8080/"
        },
        "id": "vfBcd0aIMwVd",
        "outputId": "9e3923a9-b3f6-4c35-f313-96870be0bb42"
      },
      "execution_count": 7,
      "outputs": [
        {
          "output_type": "stream",
          "name": "stdout",
          "text": [
            "       대학     모집시기    전형유형    전형                 모집인원    전형방법                                                       수능최저여부    수능최저평균    수능최저학력기준    탐구과목수    전형및모집단위    응시영역    계열\n",
            "10596  DGIST    수시        종합        고른기회             15          서류100%\n",
            "10597  DGIST    수시        특기        특기자               10          1단계)서류100%(5배수) 2단계)서류50%+면접50%\n",
            "10598  DGIST    수시        재외        외국인               10          1단계)서류100%(5배수) 2단계)서류50%+면접50%\n",
            "10636  GIST     수시        종합        일반전형             150         1단계)서류100%(5배수) 2단계)서류60%+면접40%\n",
            "10637  GIST     수시        종합        학교장추천           40          1단계)서류100%(5배수) 2단계)서류60%+면접40%  ※ 고교 추천: 2명\n",
            "10638  GIST     수시        종합        고른기회             15          1단계)서류100%(4배수) 2단계)서류60%+면접40%\n",
            "10639  GIST     수시        특기        특기자               10          1단계)서류100%(4배수) 2단계)면접100%\n",
            "10657  KAIST    수시        종합        창의도전             220         서류100%\n",
            "10658  KAIST    수시        종합        학교장추천           95          서류100%  ※ 고교 추천: 2명\n",
            "10659  KAIST    수시        종합        일반전형             410         1단계)서류100%(2.5배수) 2단계)서류40%+면접60%\n",
            "10660  KAIST    수시        종합        고른기회             55          1단계)서류100%(2배수) 2단계)서류40%+면접60%\n",
            "10661  KAIST    수시        특기        특기자               30          1단계)서류100%(2배수) 2단계)서류40%+면접60%\n",
            "10679  KENTECH  수시        종합        일반전형             90          1단계)서류100%(5배수) 2단계)서류50%+창의성면접50%\n",
            "10680  KENTECH  수시        종합        고른기회             10          1단계)서류100%(5배수) 2단계)서류50%+창의성면접50%\n",
            "10706  UNIIST   수시        종합        일반전형             330         서류100%\n",
            "10707  UNIIST   수시        종합        지역인재             65          서류100%\n",
            "10708  UNIIST   수시        종합        탐구우수 [신설]      30          1단계)서류100%(2배수) 2단계)서류50%+면접50%\n",
            "10710  UNIIST   수시        종합        고른기회             40          서류100%\n",
            "10711  UNIIST   수시        특기        특기자(15명) [폐지]              1단계)서류100%(2배수) 2단계)서류60%+면접40%\n",
            "10712  UNIIST   수시        재외        재외국민및외국인     15          서류100%\n"
          ]
        }
      ]
    },
    {
      "cell_type": "code",
      "source": [
        "import pandas as pd\n",
        "from tabulate import tabulate\n",
        "\n",
        "# 대학별 요강 검색\n",
        "path = '/content/drive/MyDrive/python/entrance/result_entrance/'\n",
        "df = pd.read_excel(f'{path}subak_merge.xlsx')\n",
        "\n",
        "\n",
        "# 모든 결측값을 공란으로 대체\n",
        "df.fillna('', inplace=True)\n",
        "\n",
        "# 입력 받은 대학과 모집시기에 따라 데이터프레임 필터링\n",
        "uni = input('대학: ')\n",
        "recruitment_period = input(\"모집시기('수시', '정시가', '정시나', '정시다' 중 입력하세요): \")\n",
        "\n",
        "# 대학에 해당하는 행이 없을 경우 메시지 출력\n",
        "if not df[df['대학'].str.contains(uni)].empty:\n",
        "    if recruitment_period == '수시':\n",
        "        filtered_df = df[(df['대학'].str.contains(uni)) & (df['모집시기'] == '수시')]\n",
        "    elif recruitment_period == '정시가':\n",
        "        filtered_df = df[(df['대학'].str.contains(uni)) & (df['모집시기'].str.contains('정시가'))]\n",
        "    elif recruitment_period == '정시나':\n",
        "        filtered_df = df[(df['대학'].str.contains(uni)) & (df['모집시기'].str.contains('정시나'))]\n",
        "    elif recruitment_period == '정시다':\n",
        "        filtered_df = df[(df['대학'].str.contains(uni)) & (df['모집시기'].str.contains('정시다'))]\n",
        "    else:\n",
        "        print(\"잘못된 모집시기 입력입니다.\")\n",
        "        filtered_df = pd.DataFrame()\n",
        "\n",
        "    # 결과 출력\n",
        "    if not filtered_df.empty:\n",
        "        print(\"**************************************************************************************************************************************************************\")\n",
        "        print(tabulate(filtered_df.head(30), headers='keys', tablefmt='plain'))\n",
        "else:\n",
        "    print('해당 대학이 자료에 없습니다.')"
      ],
      "metadata": {
        "colab": {
          "base_uri": "https://localhost:8080/"
        },
        "id": "LgZ5aoHUhVQz",
        "outputId": "96709cd0-aee7-4623-db5f-a5522a0da3ba"
      },
      "execution_count": 10,
      "outputs": [
        {
          "output_type": "stream",
          "name": "stdout",
          "text": [
            "대학: 단국\n",
            "모집시기('수시', '정시가', '정시나', '정시다' 중 입력하세요): 수시\n",
            "**************************************************************************************************************************************************************\n",
            "      대학    모집시기    전형유형    전형                      모집인원     전형방법                                                                                           수능최저여부            수능최저평균    수능최저학력기준    탐구과목수    전형및모집단위    응시영역       계열\n",
            "1027  단국대  수시        교과        지역균형선발              죽273        학생부교과100%  ※ 고교 추천: 제한 없음                                                             ○                       3.0             2개 등급 합 6       1             지역균형선발      국.수.영.사과  인문\n",
            "1028  단국대  수시        교과        지역균형선발              죽273        학생부교과100%  ※ 고교 추천: 제한 없음                                                             ○                       3.0             2개 등급 합 6       1             지역균형선발      국.수.영.사과  자연\n",
            "1029  단국대  수시        교과        학생부교과우수자          천597        학생부교과100%                                                                                     ○                       3.0             2개 등급 합 6       1             지역균형선발      국.수.영.사과  인문\n",
            "                                                                             ‣해병대군사학: 1단계)학생부교과100%(4배수) 2단계)1단계90%+실기10%+P/F(인성검사,신체검사,신원조회)\n",
            "1030  단국대  수시        교과        학생부교과우수자          천597        학생부교과100%                                                                                     ○                       3.0             2개 등급 합 6       1             지역균형선발      국.수.영.사과  자연\n",
            "                                                                             ‣해병대군사학: 1단계)학생부교과100%(4배수) 2단계)1단계90%+실기10%+P/F(인성검사,신체검사,신원조회)\n",
            "1031  단국대  수시        종합        DKU인재(서류형)           죽226 천368  서류100%                                                                                           X\n",
            "1032  단국대  수시        종합        DKU인재(면접형)           죽108        1단계)서류100%(죽전:4배수/천안:3배수) 2단계)서류70%+면접30%                                        X(의예, 치의예, 약학○)\n",
            "                                                                천 58\n",
            "1033  단국대  수시        종합        SW인재                    죽 50        1단계)서류100%(3배수) 2단계)서류70%+면접30%                                                        X\n",
            "1034  단국대  수시        종합        기회균형선발              죽 79        서류100%                                                                                           X\n",
            "                                                                천 59\n",
            "1035  단국대  수시        종합        사회적배려대상자          죽 49        서류100%                                                                                           X\n",
            "                                                                천 46\n",
            "1036  단국대  수시        종합        창업인재                  죽 15        1단계)서류100%(3배수) 2단계)서류70%+면접30%                                                        X\n",
            "1037  단국대  수시        종합        취업자                    죽  3        서류100%                                                                                           X\n",
            "                                                                천  3\n",
            "1038  단국대  수시        종합        교육기회배려자            죽 74        서류100%                                                                                           X(약학○)\n",
            "                                                                천 74\n",
            "1039  단국대  수시        종합        농어촌학생                죽 50        서류100%                                                                                           X(의예, 치의예 ○)\n",
            "                                                                천 52\n",
            "1040  단국대  수시        종합        특수교육대상자            죽 27        서류100%                                                                                           X\n",
            "1041  단국대  수시        종합        특성화고등을졸업한재직자  죽100        서류100%                                                                                           X\n",
            "                                                                천 30\n",
            "1042  단국대  수시        논술        논술우수자                죽310        학생부교과20%+논술80%                                                                              X\n",
            "1043  단국대  수시        실기/실적   실기우수자                죽235 천161  ‣연극전공(연출), 연극전공(연기), 뮤지컬전공(연기), 무용과, 음악학부, 미술학                        X\n",
            "                                                                             부, 뉴뮤직학부, 생활체육학과, 운동처방재활전공: 학생부20%+실기80%\n",
            "                                                                             ‣영화전공(이론ㆍ연출ㆍ스탭)\n",
            "                                                                             : 1단계)학생부20%+실기80%(3배수) 2단계)1단계20%+실기80%\n",
            "                                                                             ‣도예과, 디자인학부: 1단계)학생부100%(20배수) 2단계)학생부20%+실기80%\n",
            "1044  단국대  수시        실기/실적   체육특기자                천 91        학생부20%+실적80%                                                                                  X\n"
          ]
        }
      ]
    },
    {
      "cell_type": "code",
      "source": [
        "df.shape"
      ],
      "metadata": {
        "colab": {
          "base_uri": "https://localhost:8080/"
        },
        "id": "5ubPqx1ZzasG",
        "outputId": "c86895a1-49da-48c7-e565-98766149c7da"
      },
      "execution_count": null,
      "outputs": [
        {
          "output_type": "execute_result",
          "data": {
            "text/plain": [
              "(4054, 13)"
            ]
          },
          "metadata": {},
          "execution_count": 8
        }
      ]
    },
    {
      "cell_type": "code",
      "source": [
        "#자료에 들어있는 대학수\n",
        "df_freq = df.drop_duplicates('대학')\n",
        "df_freq = len(df_freq)\n",
        "print(df_freq)"
      ],
      "metadata": {
        "colab": {
          "base_uri": "https://localhost:8080/"
        },
        "id": "FCUiumTK-JJL",
        "outputId": "2f7d9546-93f6-432f-9be3-6998d30f8ef1"
      },
      "execution_count": null,
      "outputs": [
        {
          "output_type": "stream",
          "name": "stdout",
          "text": [
            "122\n"
          ]
        }
      ]
    },
    {
      "cell_type": "code",
      "source": [
        "#자료에 있는 대학리스트 일부\n",
        "from tabulate import tabulate\n",
        "\n",
        "\n",
        "#자료에 들어있는 대학수\n",
        "df_freq = df.drop_duplicates('대학')\n",
        "\n",
        "# tabulate를 사용하여 결과 출력\n",
        "print(tabulate(df_freq.head(30), headers='keys', tablefmt='plain'))"
      ],
      "metadata": {
        "id": "UexN5qVRihT8"
      },
      "execution_count": null,
      "outputs": []
    },
    {
      "cell_type": "code",
      "source": [
        "#자료에 있는 대학리스트 일부\n",
        "from tabulate import tabulate\n",
        "\n",
        "df_ksat = df[(df['수능최저여부'] == 'X') & (df['전형유형'] == '논술')]\n",
        "df_ksat = df_ksat.drop_duplicates('대학')\n",
        "df_ksat = df_ksat[['대학', '전형유형', '수능최저여부', '수능최저평균', '전형방법']]\n",
        "\n",
        "# tabulate를 사용하여 결과 출력\n",
        "print(tabulate(df_ksat.head(30), headers='keys', tablefmt='plain'))"
      ],
      "metadata": {
        "colab": {
          "base_uri": "https://localhost:8080/"
        },
        "id": "3sCIu0yf0hyP",
        "outputId": "a56d1f59-c9bd-4586-b65a-e1d889c6a33c"
      },
      "execution_count": 8,
      "outputs": [
        {
          "output_type": "stream",
          "name": "stdout",
          "text": [
            "      대학        전형유형    수능최저여부    수능최저평균    전형방법\n",
            " 471  광운대      논술        X                               학생부교과30%+논술70%\n",
            "1015  상명대      논술        X                               학생부교과10%+논술90%\n",
            "1139  서경대      논술        X                               학생부교과30%+논술70%\n",
            "1201  서울과기대  논술        X                               학생부30%+논술70%\n",
            "1426  서울시립대  논술        X                               학생부교과30%+논술70%\n",
            "2098  연세대      논술        X                               논술100%\n",
            "2910  한양대      논술        X                               학생부종합평가10%+논술90%\n",
            "3453  경기대      논술        X                               학생부교과40%+논술60%\n",
            "3547  단국대      논술        X                               학생부교과20%+논술80%\n",
            "3851  수원대      논술        X                               학생부교과40%+논술60%\n",
            "4009  아주대      논술        X               1.5             학생부교과20%+논술80%\n",
            "4220  을지대      논술        X                               학생부30%+논술70%\n",
            "4414  인하대      논술        X                               학생부30%+논술70%\n"
          ]
        }
      ]
    },
    {
      "cell_type": "code",
      "source": [
        "\n"
      ],
      "metadata": {
        "colab": {
          "base_uri": "https://localhost:8080/"
        },
        "id": "b8_MbuYL1RLe",
        "outputId": "e94c49a0-2586-47bc-fb71-f9caf242f6ff"
      },
      "execution_count": null,
      "outputs": [
        {
          "output_type": "execute_result",
          "data": {
            "text/plain": [
              "Index(['대학', '모집시기', '전형유형', '전형', '모집인원', '전형방법', '수능최저여부', '수능최저평균',\n",
              "       '수능최저학력기준', '탐구과목수', '전형및모집단위', '응시영역', '계열'],\n",
              "      dtype='object')"
            ]
          },
          "metadata": {},
          "execution_count": 21
        }
      ]
    },
    {
      "cell_type": "code",
      "source": [
        "#라이브러리\n",
        "from tabulate import tabulate\n",
        "\n",
        "\n",
        "# 대학별 요강 검색\n",
        "path = '/content/drive/MyDrive/python/entrance/result_entrance/'\n",
        "df = pd.read_excel(f'{path}subak_merge.xlsx')\n",
        "\n",
        "\n",
        "df_ksat = df[(df['수능최저여부'] == '○') & (df['전형유형'] == '논술')]\n",
        "\n",
        "\n",
        "#df_ksat = df_ksat.drop_duplicates('대학')\n",
        "df_ksat = df_ksat[['대학', '전형유형', '수능최저여부', '수능최저평균', '수능최저학력기준', '전형방법', '전형및모집단위']]\n",
        "\n",
        "\n",
        "# tabulate를 사용하여 결과 출력\n",
        "print(tabulate(df_ksat.head(100), headers='keys', tablefmt='plain'))"
      ],
      "metadata": {
        "colab": {
          "base_uri": "https://localhost:8080/"
        },
        "id": "IhS7jIfj7Ckz",
        "outputId": "e6fbeb07-b1f0-44ce-bd05-43b70e2a5856"
      },
      "execution_count": null,
      "outputs": [
        {
          "output_type": "stream",
          "name": "stdout",
          "text": [
            "      대학      전형유형    수능최저여부      수능최저평균  수능최저학력기준                        전형방법               전형및모집단위\n",
            "  28  건국대    논술        ○                          2.5  2개 등급 합 5, ◯한   5등급              논술100%               KU논술우수자\n",
            "  29  건국대    논술        ○                          1.3  3개 등급 합 4, ◯한   5등급              논술100%               KU논술우수자: 수의예\n",
            "  30  건국대    논술        ○                          2.5  2개 등급 합 5, ◯한   5등급              논술100%               KU논술우수자\n",
            "  53  경희대    논술        ○                          1.3  3개 등급 합 4, ◯한   5등급              논술100%               논술우수자: 한의예과(인문)\n",
            "  54  경희대    논술        ○                          2.5  2개 등급 합 5, ◯한   5등급              논술100%               논술우수자\n",
            "  55  경희대    논술        ○                          1.3  3개 등급 합 4, ◯한   5등급              논술100%               논술우수자: 의예, 치의예, 한의예\n",
            "                                                                                                                           (자연), 약학\n",
            "  56  경희대    논술        ○                          2.5  2개 등급 합 5, ◯한   5등급              논술100%               논술우수자\n",
            "  96  고려대    논술        ○                          1.3  4개 등급 합 5, ◯한   4등급              논술100%               논술전형: 경영대학\n",
            "  97  고려대    논술        ○                          2    4개 등급 합 8, ◯한   3등급              논술100%               논술전형\n",
            "  98  고려대    논술        ○                          2    4개 등급 합 8, ◯한   4등급              논술100%               논술전형\n",
            " 184  덕성여대  논술        ○                          3.5  2개 등급 합 7                           논술100%               논술전형\n",
            " 185  덕성여대  논술        ○                          3.5  2개 등급 합 7                           논술100%               논술전형\n",
            " 199  동국대    논술        ○                          2    2개 등급 합 4, ◯한   4등급              학생부30%+논술70%      논술우수자: 경찰행정학부(인문)\n",
            " 200  동국대    논술        ○                          2.5  2개 등급 합 5, ◯한   4등급              학생부30%+논술70%      논술우수자\n",
            " 201  동국대    논술        ○                          2.5  2개 등급 합 5(수학 포함), ◯한   4등급   학생부30%+논술70%      논술우수자:   AI소프트웨어융합학\n",
            "                                                                                                                           부(인문)\n",
            " 202  동국대    논술        ○                          1.3  3개 등급 합 4(수학, 과탐 중 1개 포함),  학생부30%+논술70%      논술우수자: 약학과\n",
            "                                                            ◯한   4등급\n",
            " 203  동국대    논술        ○                          2    2개 등급 합 4, ◯한   4등급              학생부30%+논술70%      논술우수자: 경찰행정학부(자연)\n",
            " 204  동국대    논술        ○                          2.5  2개 등급 합 5(수학, 과탐 중 1개 포함),  학생부30%+논술70%      논술우수자:   AI소프트웨어융합학 부(자연)\n",
            "                                                            ◯한   4등급\n",
            " 205  동국대    논술        ○                          2.5  2개 등급 합 5(수학, 과탐 중 1개 포함),  학생부30%+논술70%      논술우수자\n",
            "                                                            ◯한   4등급\n",
            " 227  동덕여대  논술        ○                          3.5  2개 등급 합 7                           논술100%               논술우수자\n",
            " 228  동덕여대  논술        ○                          3.5  2개 등급 합 7                           논술100%               논술우수자\n",
            " 287  삼육대    논술        ○                          3    1개 3등급                               학생부교과30%+논술70%  논술우수자\n",
            " 288  삼육대    논술        ○                          3    1개 3등급                               학생부교과30%+논술70%  논술우수자\n",
            " 324  서강대    논술        ○                          2.3  3개 등급 합 7, ◯한   4등급              학생부20%+논술80%      논술전형\n",
            " 325  서강대    논술        ○                          2.3  3개 등급 합 7, ◯한   4등급              학생부20%+논술80%      논술전형\n",
            " 443  서울여대  논술        ○                          3    1개 3등급                               학생부교과20%+논술80%  논술우수자\n",
            " 444  서울여대  논술        ○                          3    1개 3등급                               학생부교과20%+논술80%  논술우수자\n",
            " 484  성균관대  논술        ○                          1.7  (5개 과목) 3개 등급 합 5                논술100%               논술우수: 글로벌리더학, 글로벌경\n",
            "                                                                                                                           제학, 글로벌경영학\n",
            " 485  성균관대  논술        ○                          2    (5개 과목) 3개 등급 합 6                논술100%               논술우수\n",
            " 486  성균관대  논술        ○                          1.3  3개 등급 합 4                           논술100%               논술우수: 의예과\n",
            " 487  성균관대  논술        ○                          1.7  (5개 과목) 3개 등급 합 5                논술100%               논술우수: 반도체시스템공학, 지능 형소프트웨어학, 소프트웨어학, 글로벌바이오메디컬공학, 약학,\n",
            "                                                                                                                           반도체융합공학, 에너지학\n",
            " 488  성균관대  논술        ○                          2    (5개 과목) 3개 등급 합 6                논술100%               논술우수\n",
            " 501  성신여대  논술        ○                          3.5  2개 등급 합 7                           학생부10%+논술90%      논술우수자\n",
            " 502  성신여대  논술        ○                          3.5  2개 등급 합 7                           학생부10%+논술90%      논술우수자\n",
            " 526  세종대    논술        ○                          2.5  2개 등급 합 5                           학생부교과30%+논술70%  논술우수자\n",
            " 527  세종대    논술        ○                          2.5  2개 등급 합 5                           학생부교과30%+논술70%  논술우수자\n",
            " 552  숙명여대  논술        ○                          2.5  2개 등급 합 5                           학생부교과10%+논술90%  논술우수자\n",
            " 553  숙명여대  논술        ○                          1.3  3개 등급 합 4(수학 포함)                학생부교과10%+논술90%  논술우수자: 약학부\n",
            " 554  숙명여대  논술        ○                          2.5  2개 등급 합 5                           학생부교과10%+논술90%  논술우수자\n",
            " 572  숭실대    논술        ○                          2.5  2개 등급 합 5                           학생부교과20%+논술80%  논술우수자\n",
            " 573  숭실대    논술        ○                          2.5  2개 등급 합 5                           학생부교과20%+논술80%  논술우수자\n",
            " 654  이화여대  논술        ○                          1.7  3개 등급 합 5                           논술100%               논술전형: 스크랜튼학부\n",
            " 655  이화여대  논술        ○                          2    3개 등급 합 6                           논술100%               논술전형\n",
            " 656  이화여대  논술        ○                          1.5  4개 등급 합 6                           논술100%               논술전형: 약학과\n",
            " 657  이화여대  논술        ○                          2.5  2개 등급 합 5(수학 포함)                논술100%               논술전형\n",
            " 715  중앙대    논술        ○                          2    3개 등급 합 6, ◯한   4등급              학생부30%+논술70%      논술전형\n",
            " 716  중앙대    논술        ○                          1.3  4개 등급 합 5, ◯한   4등급              학생부30%+논술70%      논술전형: 의학부\n",
            " 717  중앙대    논술        ○                          1.3  4개 등급 합 5, ◯한   4등급              학생부30%+논술70%      논술전형: 약학부\n",
            " 718  중앙대    논술        ○                          2    3개 등급 합 6, ◯한   4등급              학생부30%+논술70%      논술전형\n",
            " 879  홍익대    논술        ○                          2.7  3개 등급 합 8, ◯한   4등급              학생부교과10%+논술90%  논술전형\n",
            " 935  가천대    논술        ○                          3    1개 3등급                               논술100%               논술전형\n",
            " 936  가천대    논술        ○                          2    2개 등급 합 4                           논술100%               논술전형: 클라우드공학과\n",
            " 937  가천대    논술        ○                          2.5  2개 등급 합 5                           논술100%               논술전형: 바이오로직스학과\n",
            " 938  가천대    논술        ○                          3    1개 3등급                               논술100%               논술전형\n",
            "1177  신한대    논술        ○                          5    1개 5등급                               학생부10%+논술90%      논술전형\n",
            "1178  신한대    논술        ○                          5    1개 5등급                               학생부10%+논술90%      논술전형\n"
          ]
        }
      ]
    },
    {
      "cell_type": "code",
      "source": [
        "#라이브러리\n",
        "from tabulate import tabulate\n",
        "\n",
        "\n",
        "# 대학별 요강 검색\n",
        "path = '/content/drive/MyDrive/python/entrance/result_entrance/'\n",
        "df = pd.read_excel(f'{path}subak_merge.xlsx')\n",
        "\n",
        "\n",
        "df_ksat = df[(df['수능최저여부'] == 'X') & (df['전형유형'] == '논술')].copy()\n",
        "\n",
        "\n",
        "# 모든 결측값을 공란으로 대체\n",
        "df_ksat.fillna('', inplace=True)\n",
        "\n",
        "\n",
        "#df_ksat = df_ksat.drop_duplicates('대학')\n",
        "df_ksat = df_ksat[['대학', '전형유형', '수능최저여부', '수능최저평균', '수능최저학력기준', '전형및모집단위']]\n",
        "\n",
        "\n",
        "# tabulate를 사용하여 결과 출력\n",
        "print(tabulate(df_ksat.head(60), headers='keys', tablefmt='plain'))"
      ],
      "metadata": {
        "colab": {
          "base_uri": "https://localhost:8080/"
        },
        "id": "sTIMUf_6UzJd",
        "outputId": "f66ec43a-1bd5-47ce-eb56-33e98842dc70"
      },
      "execution_count": null,
      "outputs": [
        {
          "output_type": "stream",
          "name": "stdout",
          "text": [
            "      대학        전형유형    수능최저여부    수능최저평균    수능최저학력기준    전형및모집단위\n",
            " 133  광운대      논술        X\n",
            " 310  상명대      논술        X\n",
            " 351  서경대      논술        X\n",
            " 370  서울과기대  논술        X\n",
            " 421  서울시립대  논술        X\n",
            " 617  연세대      논술        X\n",
            " 856  한양대      논술        X\n",
            "1016  경기대      논술        X\n",
            "1042  단국대      논술        X\n",
            "1163  수원대      논술        X\n",
            "1305  을지대      논술        X\n"
          ]
        }
      ]
    }
  ]
}