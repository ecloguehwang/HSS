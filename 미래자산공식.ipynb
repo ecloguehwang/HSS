{
  "nbformat": 4,
  "nbformat_minor": 0,
  "metadata": {
    "colab": {
      "provenance": [],
      "authorship_tag": "ABX9TyOEDFpvuj2mLYe4QwFLANRq",
      "include_colab_link": true
    },
    "kernelspec": {
      "name": "python3",
      "display_name": "Python 3"
    },
    "language_info": {
      "name": "python"
    }
  },
  "cells": [
    {
      "cell_type": "markdown",
      "metadata": {
        "id": "view-in-github",
        "colab_type": "text"
      },
      "source": [
        "<a href=\"https://colab.research.google.com/github/ecloguehwang/HSS/blob/master/%EB%AF%B8%EB%9E%98%EC%9E%90%EC%82%B0%EA%B3%B5%EC%8B%9D.ipynb\" target=\"_parent\"><img src=\"https://colab.research.google.com/assets/colab-badge.svg\" alt=\"Open In Colab\"/></a>"
      ]
    },
    {
      "cell_type": "code",
      "source": [
        "#넘파이를 쓰지 않을때\n",
        "\n",
        "%%time\n",
        "import random\n",
        "from math import exp, sqrt\n",
        "\n",
        "# Example usage\n",
        "S0 = 100  # Current asset price, e.g., $100\n",
        "r = 0.05  # Drift, e.g., 5%\n",
        "T = 1.0  # Daily time interval (assuming 252 trading days in a year)\n",
        "sigma = 0.2  # Volatility, e.g., 20%\n",
        "\n",
        "values = []\n",
        "\n",
        "\n",
        "for _ in range(1000000):\n",
        "    ST = S0 * exp((r - 0.5 * sigma**2) * delta_t + sigma * random.gauss(0, 1) * sqrt(T))\n",
        "    values.append(ST)"
      ],
      "metadata": {
        "colab": {
          "base_uri": "https://localhost:8080/"
        },
        "id": "uWBlzCV3Z2xq",
        "outputId": "d9c2530a-2790-42ff-bbbe-bd4031df8267"
      },
      "execution_count": 4,
      "outputs": [
        {
          "output_type": "stream",
          "name": "stdout",
          "text": [
            "CPU times: user 1.34 s, sys: 20.5 ms, total: 1.36 s\n",
            "Wall time: 1.38 s\n"
          ]
        }
      ]
    },
    {
      "cell_type": "code",
      "execution_count": 8,
      "metadata": {
        "colab": {
          "base_uri": "https://localhost:8080/"
        },
        "id": "7VXz2RnWWmPn",
        "outputId": "42b8c635-d6ac-4e5c-9c38-61abb041f342"
      },
      "outputs": [
        {
          "output_type": "stream",
          "name": "stdout",
          "text": [
            "향후 자산가격: [119.6  82.8  76.5 ...  78.1 137.5 113.7]$\n",
            "CPU times: user 47.2 ms, sys: 2.62 ms, total: 49.8 ms\n",
            "Wall time: 53.7 ms\n"
          ]
        }
      ],
      "source": [
        "#넘파이를 쓸때\n",
        "\n",
        "\n",
        "%%time\n",
        "import numpy as np\n",
        "import random\n",
        "from math import exp, sqrt\n",
        "\n",
        "def geometric_brownian_motion(S_t, mu, sigma, delta_t):\n",
        "    \"\"\"\n",
        "    Calculate the next step in a Geometric Brownian Motion.\n",
        "\n",
        "    :param S_t: Current asset price\n",
        "    :param mu: Expected return (drift)\n",
        "    :param sigma: Volatility (standard deviation)\n",
        "    :param delta_t: Time interval\n",
        "    :return: Next asset price\n",
        "    \"\"\"\n",
        "    Z_t = np.random.standard_normal(1000000)  # Standard normal random variable\n",
        "    return S_t * np.exp((mu - 0.5 * sigma**2) * delta_t + sigma * np.sqrt(delta_t) * Z_t)\n",
        "\n",
        "# Example usage\n",
        "S_t = 100  # 초기 자산가격 ex) $100\n",
        "mu = 0.05  # 무위험 수익률(Drift) ex) 5%\n",
        "sigma = 0.2  # 변동성(표준편차) Volatility ex) 20%\n",
        "delta_t = 1.0  # Daily time interval (assuming 252 trading days in a year)\n",
        "\n",
        "next_price = geometric_brownian_motion(S_t, mu, sigma, delta_t)\n",
        "\n",
        "\n",
        "# Formatting the output to show only up to the first decimal place\n",
        "formatted_next_price = np.round(next_price, 1)\n",
        "\n",
        "print(f\"향후 자산가격: {formatted_next_price}$\")\n"
      ]
    }
  ]
}