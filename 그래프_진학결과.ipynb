{
  "nbformat": 4,
  "nbformat_minor": 0,
  "metadata": {
    "colab": {
      "provenance": [],
      "mount_file_id": "1lMkRXib1aHXZDUmVhmOMHUOCs3EZkJbE",
      "authorship_tag": "ABX9TyNBMQMcsAJfZVCkZ4hXF0UB",
      "include_colab_link": true
    },
    "kernelspec": {
      "name": "python3",
      "display_name": "Python 3"
    },
    "language_info": {
      "name": "python"
    }
  },
  "cells": [
    {
      "cell_type": "markdown",
      "metadata": {
        "id": "view-in-github",
        "colab_type": "text"
      },
      "source": [
        "<a href=\"https://colab.research.google.com/github/ecloguehwang/HSS/blob/master/%EA%B7%B8%EB%9E%98%ED%94%84_%EC%A7%84%ED%95%99%EA%B2%B0%EA%B3%BC.ipynb\" target=\"_parent\"><img src=\"https://colab.research.google.com/assets/colab-badge.svg\" alt=\"Open In Colab\"/></a>"
      ]
    },
    {
      "cell_type": "code",
      "source": [
        "#colab에서 matplotlib와 sns 라이브러리 그래프 한글을 깨지지 않게 하는 법: 이 코드실행하고 런타임(runtime) 다시 실행하기\n",
        "!sudo apt-get install -y fonts-nanum\n",
        "!sudo fc-cache -fv\n",
        "!rm ~/.cache/matplotlib -rf"
      ],
      "metadata": {
        "colab": {
          "base_uri": "https://localhost:8080/",
          "height": 0
        },
        "id": "lorlu-xknSRL",
        "outputId": "f668e546-a359-483c-d987-d6af86a85d03"
      },
      "execution_count": 1,
      "outputs": [
        {
          "output_type": "stream",
          "name": "stdout",
          "text": [
            "Reading package lists... Done\n",
            "Building dependency tree       \n",
            "Reading state information... Done\n",
            "The following NEW packages will be installed:\n",
            "  fonts-nanum\n",
            "0 upgraded, 1 newly installed, 0 to remove and 19 not upgraded.\n",
            "Need to get 9,599 kB of archives.\n",
            "After this operation, 29.6 MB of additional disk space will be used.\n",
            "Get:1 http://archive.ubuntu.com/ubuntu focal/universe amd64 fonts-nanum all 20180306-3 [9,599 kB]\n",
            "Fetched 9,599 kB in 2s (3,909 kB/s)\n",
            "debconf: unable to initialize frontend: Dialog\n",
            "debconf: (No usable dialog-like program is installed, so the dialog based frontend cannot be used. at /usr/share/perl5/Debconf/FrontEnd/Dialog.pm line 76, <> line 1.)\n",
            "debconf: falling back to frontend: Readline\n",
            "debconf: unable to initialize frontend: Readline\n",
            "debconf: (This frontend requires a controlling tty.)\n",
            "debconf: falling back to frontend: Teletype\n",
            "dpkg-preconfigure: unable to re-open stdin: \n",
            "Selecting previously unselected package fonts-nanum.\n",
            "(Reading database ... 128208 files and directories currently installed.)\n",
            "Preparing to unpack .../fonts-nanum_20180306-3_all.deb ...\n",
            "Unpacking fonts-nanum (20180306-3) ...\n",
            "Setting up fonts-nanum (20180306-3) ...\n",
            "Processing triggers for fontconfig (2.13.1-2ubuntu3) ...\n",
            "/usr/share/fonts: caching, new cache contents: 0 fonts, 1 dirs\n",
            "/usr/share/fonts/truetype: caching, new cache contents: 0 fonts, 3 dirs\n",
            "/usr/share/fonts/truetype/humor-sans: caching, new cache contents: 1 fonts, 0 dirs\n",
            "/usr/share/fonts/truetype/liberation: caching, new cache contents: 16 fonts, 0 dirs\n",
            "/usr/share/fonts/truetype/nanum: caching, new cache contents: 10 fonts, 0 dirs\n",
            "/usr/local/share/fonts: caching, new cache contents: 0 fonts, 0 dirs\n",
            "/root/.local/share/fonts: skipping, no such directory\n",
            "/root/.fonts: skipping, no such directory\n",
            "/usr/share/fonts/truetype: skipping, looped directory detected\n",
            "/usr/share/fonts/truetype/humor-sans: skipping, looped directory detected\n",
            "/usr/share/fonts/truetype/liberation: skipping, looped directory detected\n",
            "/usr/share/fonts/truetype/nanum: skipping, looped directory detected\n",
            "/var/cache/fontconfig: cleaning cache directory\n",
            "/root/.cache/fontconfig: not cleaning non-existent cache directory\n",
            "/root/.fontconfig: not cleaning non-existent cache directory\n",
            "fc-cache: succeeded\n"
          ]
        }
      ]
    },
    {
      "cell_type": "code",
      "source": [
        "import os\n",
        "print(os.getcwd())"
      ],
      "metadata": {
        "colab": {
          "base_uri": "https://localhost:8080/",
          "height": 0
        },
        "id": "ukF4qY1UnaHY",
        "outputId": "acd81383-fee7-4854-b26e-45e4b2abad83"
      },
      "execution_count": 1,
      "outputs": [
        {
          "output_type": "stream",
          "name": "stdout",
          "text": [
            "/content\n"
          ]
        }
      ]
    },
    {
      "cell_type": "code",
      "source": [
        "# 라이브러리 부르기\n",
        "import pandas as pd\n",
        "import numpy as np\n",
        "import seaborn as sns\n",
        "import matplotlib.pyplot as plt\n",
        "import os\n",
        "import openpyxl\n",
        "import csv\n",
        "\n",
        "##  데이터 부르기 : 구글colab에 마운트(mount)하는 방법: 왼쪽 폴더아이콘을 누르기-눈동자 왼쪽 파일마운트 아이콘 클릭- /content/drive/MyDrive/python폴더의 susi_2021simple.csv파일을 불러옴\n",
        "df = pd.read_csv('/content/drive/MyDrive/python/susi_jsi.csv', encoding = 'cp949')\n",
        "#df = pd.read_csv('/content/drive/MyDrive/python/susi_jsi_noname.csv', encoding = 'cp949')\n",
        "# 첫 5줄을 봅니다. \n",
        "df.head(4)"
      ],
      "metadata": {
        "id": "yeRjzNaXtuEc"
      },
      "execution_count": null,
      "outputs": []
    },
    {
      "cell_type": "code",
      "source": [
        "#matplotlib에서 한글구현\n",
        "plt.rc('font', family='NanumBarunGothic')\n",
        "\n",
        "#그래프 마이너스 기호 깨짐 방지\n",
        "plt.rcParams['axes.unicode_minus'] = False"
      ],
      "metadata": {
        "id": "HLYxc-NztOTr"
      },
      "execution_count": 3,
      "outputs": []
    },
    {
      "cell_type": "code",
      "source": [
        "uni = ['서울대', '연세대', '고려대', '서강대', '성균관대', '한양대', '중앙대', '경희대', '한국외대', '서울시립대', '이화여대', '건국대', '동국대', '홍익대']\n",
        "\n",
        "print(\"\\n***2023학년도 등촌고 합격자수***\")\n",
        "\n",
        "for u in uni:\n",
        "    df_주요대 = df[(df.대학 == u) & (df.최종 == '합')]\n",
        "    df_주요대 = df_주요대[['수시정시', '학번', '대학', '최종']]\n",
        "    \n",
        "    num_수시 = len(df_주요대[df_주요대['수시정시'] == '수시'])\n",
        "    num_정시 = len(df_주요대[df_주요대['수시정시'] == '정시'])\n",
        "    \n",
        "    print(u, \"합격자수 - 수시:\", str(num_수시) + \"명,\", \"정시:\", str(num_정시) + \"명\")\n"
      ],
      "metadata": {
        "id": "kCnxIUrLn7a1"
      },
      "execution_count": null,
      "outputs": []
    },
    {
      "cell_type": "code",
      "source": [
        "import pandas as pd\n",
        "import matplotlib.pyplot as plt\n",
        "\n",
        "df = pd.read_csv('/content/drive/MyDrive/python/susi_jsi.csv', encoding='cp949')\n",
        "\n",
        "uni = ['고려대', '서강대', '성균관대', '경희대', '한국외대', '서울시립대', '이화여대', '건국대', '동국대', '홍익대']\n",
        "\n",
        "fig, ax = plt.subplots(figsize=(10, 6))\n",
        "\n",
        "# 전체 그래프 테두리 제거\n",
        "plt.box(False)\n",
        "\n",
        "colors = ['#80CED7', '#FFB347']\n",
        "\n",
        "# 대학 이름과 해당 대학의 수시 합격자 수를 담을 리스트 생성\n",
        "name_num_su = []\n",
        "# 대학 이름과 해당 대학의 정시 합격자 수를 담을 리스트 생성\n",
        "name_num_jung = []\n",
        "\n",
        "for i, u in enumerate(uni):\n",
        "    df_주요대 = df[(df.대학 == u) & (df.최종 == '합')]\n",
        "    df_주요대 = df_주요대[['수시정시', '학번', '대학', '최종']]\n",
        "    \n",
        "    num_수시 = len(df_주요대[df_주요대['수시정시'] == '수시'])\n",
        "    num_정시 = len(df_주요대[df_주요대['수시정시'] == '정시'])\n",
        "\n",
        "    # 수시 합격자 수와 정시 합격자 수를 리스트에 추가\n",
        "    name_num_su.append((u, num_수시))\n",
        "    name_num_jung.append((u, num_정시))\n",
        "\n",
        "# 대학별 수시 합격자 수를 기준으로 정렬\n",
        "name_num_su.sort(key=lambda x: x[1])\n",
        "\n",
        "# 합격자 수 시각화\n",
        "for i, (u, num_수시) in enumerate(name_num_su):\n",
        "    num_정시 = dict(name_num_jung)[u]\n",
        "    \n",
        "    ax.bar(u, num_수시, color=colors[0], width=0.5, label='수시' if i == 0 else '')\n",
        "    ax.bar(u, num_정시, bottom=num_수시, color=colors[1], width=0.5, label='정시' if i == 0 else '')\n",
        "    \n",
        "    # 합격자 수 값 표시\n",
        "    ax.text(u, num_수시, num_수시, ha='center', va='bottom')\n",
        "    ax.text(u, num_정시, num_정시, ha='center', va='bottom')\n",
        "\n",
        "# 그래프 제목\n",
        "ax.set_title('2023 D고 합격자수', fontsize=18, fontweight='bold', loc='left')\n",
        "\n",
        "# 그래프 부제목\n",
        "ax.text(0.34, 1.05, '(단위: 명)', ha='center', va='top', transform=ax.transAxes, fontsize=12)\n",
        "\n",
        "# y축 눈금과 tick 제거\n",
        "ax.set_yticks([])\n",
        "ax.tick_params(axis='y', which='both', length=0)\n",
        "\n",
        "\n",
        "# 범례 표시\n",
        "#ax.legend(fontsize=12, loc='upper left')\n",
        "ax.legend(fontsize=12, loc='upper left', bbox_to_anchor=(0.05, 0.95))\n",
        "\n",
        "\n",
        "# X축 눈금과 tick 제거\n",
        "ax.tick_params(axis='x', which='both', length=0)\n",
        "\n",
        "#출력\n",
        "plt.show()\n"
      ],
      "metadata": {
        "colab": {
          "base_uri": "https://localhost:8080/",
          "height": 391
        },
        "id": "nuaEaUThejfR",
        "outputId": "3f695db5-8da6-45f0-fbd4-6eddb7d7a718"
      },
      "execution_count": 98,
      "outputs": [
        {
          "output_type": "display_data",
          "data": {
            "text/plain": [
              "<Figure size 720x432 with 1 Axes>"
            ],
            "image/png": "[encoded data removed]"
          },
          "metadata": {
            "needs_background": "light"
          }
        }
      ]
    },
    {
      "cell_type": "code",
      "source": [
        "import matplotlib.pyplot as plt\n",
        "\n",
        "uni = ['고려대', '서강대', '성균관대', '경희대', '한국외대', '서울시립대', '이화여대', '건국대', '동국대', '홍익대']\n",
        "\n",
        "num_수시_list = []  # 수시 합격자수를 저장할 리스트\n",
        "num_정시_list = []  # 정시 합격자수를 저장할 리스트\n",
        "\n",
        "for u in uni:\n",
        "    df_주요대 = df[(df.대학 == u) & (df.최종 == '합')]\n",
        "    df_주요대 = df_주요대[['수시정시', '학번', '대학', '최종']]\n",
        "    \n",
        "    num_수시 = len(df_주요대[df_주요대['수시정시'] == '수시'])\n",
        "    num_정시 = len(df_주요대[df_주요대['수시정시'] == '정시'])\n",
        "    \n",
        "    num_수시_list.append(num_수시)\n",
        "    num_정시_list.append(num_정시)\n",
        "\n",
        "# 누적 막대그래프 그리기\n",
        "plt.figure(figsize=(10, 6))\n",
        "plt.bar(uni, num_수시_list, label='수시')\n",
        "plt.bar(uni, num_정시_list, bottom=num_수시_list, label='정시')\n",
        "plt.xticks(rotation=45)\n",
        "plt.yticks([]) #y축 제거\n",
        "plt.title(\"2023학년도 등촌고 서울주요대 진학결과\")\n",
        "plt.legend()\n",
        "plt.box(False)\n",
        "plt.show()\n"
      ],
      "metadata": {
        "id": "cWe7Ay_2oCMo"
      },
      "execution_count": null,
      "outputs": []
    },
    {
      "cell_type": "code",
      "source": [
        "#예시\n",
        "import matplotlib.pyplot as plt\n",
        "\n",
        "# 그래프 데이터\n",
        "universities = ['고려대', '서강대', '성균관대', '경희대', '한국외대', '서울시립대', '이화여대', '건국대', '동국대', '홍익대']\n",
        "num_admits_susi = [2, 2, 2, 0, 2, 3, 3, 1, 2, 2]\n",
        "num_admits_jeongsi = [0, 0, 0, 1, 0, 0,0, 0, 0, 0 ]\n",
        "\n",
        "# 막대 그래프 그리기\n",
        "plt.bar(range(len(universities)), num_admits_susi, color='b', alpha=0.7, label='수시')\n",
        "plt.bar(range(len(universities)), num_admits_jeongsi, bottom=num_admits_susi, color='r', alpha=0.7, label='정시')\n",
        "\n",
        "# 막대 위에 합격자 수 표시하기\n",
        "for i in range(len(universities)):\n",
        "    plt.text(i, num_admits_susi[i]/2, str(num_admits_susi[i]), ha='center', va='center')\n",
        "    plt.text(i, num_admits_susi[i]+num_admits_jeongsi[i]/2, str(num_admits_jeongsi[i]), ha='center', va='center')\n",
        "\n",
        "# 그래프 레이블 설정\n",
        "plt.xticks(range(len(universities)), universities)\n",
        "plt.ylabel('합격자 수')\n",
        "plt.title('2023학년도 D고 합격자 수')\n",
        "plt.xticks(rotation=45)\n",
        "\n",
        "# 범례 추가\n",
        "plt.legend()\n",
        "\n",
        "# 그래프 보여주기\n",
        "plt.show()\n"
      ],
      "metadata": {
        "colab": {
          "base_uri": "https://localhost:8080/",
          "height": 309
        },
        "id": "H33NVhAdpq8f",
        "outputId": "0f06aef9-19c4-4c4b-806c-406e807b2c3c"
      },
      "execution_count": 99,
      "outputs": [
        {
          "output_type": "display_data",
          "data": {
            "text/plain": [
              "<Figure size 432x288 with 1 Axes>"
            ],
            "image/png": "[encoded data removed]"
          },
          "metadata": {
            "needs_background": "light"
          }
        }
      ]
    },
    {
      "cell_type": "code",
      "source": [
        "#비누적 막대그래프\n",
        "\n",
        "import matplotlib.pyplot as plt\n",
        "\n",
        "# 그래프 데이터 생성\n",
        "data = []\n",
        "for u in uni:\n",
        "    df_주요대 = df[(df.대학 == u) & (df.최종 == '합')]\n",
        "    df_주요대 = df_주요대[['수시정시', '학번', '대학', '최종']]\n",
        "    \n",
        "    num_수시 = len(df_주요대[df_주요대['수시정시'] == '수시'])\n",
        "    num_정시 = len(df_주요대[df_주요대['수시정시'] == '정시'])\n",
        "    \n",
        "    data.append([num_수시, num_정시])\n",
        "\n",
        "# 그래프 그리기\n",
        "fig, ax = plt.subplots()\n",
        "ax.set_title('2023학년도 D고 합격자수')\n",
        "\n",
        "bar_width = 0.35\n",
        "num_bars = len(uni)\n",
        "x = range(num_bars)\n",
        "for i in range(2):\n",
        "    plt.bar([j + i * bar_width for j in x], [data[j][i] for j in range(num_bars)], \n",
        "            width=bar_width, label=['수시', '정시'][i], edgecolor=None)\n",
        "\n",
        "ax.set_xticks(x)\n",
        "ax.set_xticklabels(uni, rotation=90)\n",
        "\n",
        "ax.legend()\n",
        "\n",
        "plt.show()\n"
      ],
      "metadata": {
        "colab": {
          "base_uri": "https://localhost:8080/",
          "height": 315
        },
        "id": "Aq-o46SwuClD",
        "outputId": "5bcf43a5-a1c0-42db-e355-27fbd45d2105"
      },
      "execution_count": 100,
      "outputs": [
        {
          "output_type": "display_data",
          "data": {
            "text/plain": [
              "<Figure size 432x288 with 1 Axes>"
            ],
            "image/png": "[encoded data removed]"
          },
          "metadata": {
            "needs_background": "light"
          }
        }
      ]
    },
    {
      "cell_type": "code",
      "source": [
        "#비 누적 막대그래프\n",
        "import matplotlib.pyplot as plt\n",
        "import numpy as np\n",
        "\n",
        "\n",
        "df = pd.read_csv(\"/content/drive/MyDrive/python/susi_jsi.csv\", encoding='CP949')\n",
        "\n",
        "uni = ['고려대', '서강대', '성균관대', '경희대', '한국외대', '서울시립대', '이화여대', '건국대', '동국대', '홍익대']\n",
        "\n",
        "fig, ax = plt.subplots()\n",
        "\n",
        "colors = ['#8dd3c7', '#ffffb3']\n",
        "\n",
        "ind = np.arange(len(uni))\n",
        "width = 0.35\n",
        "\n",
        "for i, m in enumerate(['수시', '정시']):\n",
        "    bar = ax.bar(ind + i*width, [len(df[(df['대학']==u) & (df['수시정시']==m) & (df['최종']=='합')]) for u in uni], width, color=colors[i], edgecolor='white', label=m)\n",
        "    for b in bar:\n",
        "        height = b.get_height()\n",
        "        ax.annotate('{}'.format(height),\n",
        "                    xy=(b.get_x() + b.get_width() / 2, height),\n",
        "                    xytext=(0, 3), \n",
        "                    textcoords=\"offset points\",\n",
        "                    ha='center', va='bottom', color='black', fontweight='bold', fontsize=10)\n",
        "\n",
        "ax.set_xticks(ind)\n",
        "ax.set_xticklabels(uni, fontsize=12)\n",
        "ax.tick_params(axis='y', labelsize=12)\n",
        "ax.legend(fontsize=12, loc='upper right')\n",
        "ax.spines['top'].set_visible(False)\n",
        "ax.spines['right'].set_visible(False)\n",
        "ax.spines['left'].set_visible(False)\n",
        "ax.set_axisbelow(True)\n",
        "ax.yaxis.grid(color='gray', linestyle='dashed', alpha=0.2)\n",
        "plt.xticks(rotation=45)\n",
        "\n",
        "plt.title('2023학년도 D고 합격자수', fontsize=16)\n",
        "plt.show()\n"
      ],
      "metadata": {
        "colab": {
          "base_uri": "https://localhost:8080/",
          "height": 321
        },
        "id": "rBXGJSYSx3mJ",
        "outputId": "feaa5133-4bfe-48b7-9d52-9595e6d1bbc3"
      },
      "execution_count": 102,
      "outputs": [
        {
          "output_type": "display_data",
          "data": {
            "text/plain": [
              "<Figure size 432x288 with 1 Axes>"
            ],
            "image/png": "[encoded data removed]"
          },
          "metadata": {
            "needs_background": "light"
          }
        }
      ]
    },
    {
      "cell_type": "code",
      "source": [
        "ace = pd.DataFrame({'uni': ['고려대', '서강대', '성균관대', '경희대', '외대', '시립대', '이화여대', '건국대', '동국대', '홍익대'],\n",
        "                      'num': [2, 2, 2, 1, 2, 3, 3, 1, 2, 2]})\n",
        "ace_new = ace.sort_values(by = ['num'], ascending = [True])\n",
        "print(ace_new)"
      ],
      "metadata": {
        "id": "hZnfj6UCwrIV"
      },
      "execution_count": null,
      "outputs": []
    },
    {
      "cell_type": "code",
      "source": [
        "#합격자 막대그래프 그리기\n",
        "uni = ['경희대', '건국대', '고려대', '서강대', '성균관대', '외대', '동국대', '홍익대', '시립대', '이화여대']\n",
        "num = [1, 1, 2, 2, 2, 2, 2, 2, 2, 3]\n",
        "plt.bar(uni, num, width =0.6)\n",
        "plt.yticks([1, 1, 2, 2, 2, 2, 2, 2, 2, 3], label = ['1', '1', '2', '2', '2', '2', '2', '2', '2', '3'])\n",
        "plt.title(\"2023학년도 D고 합격자수 (단위: 명)\")\n",
        "plt.show()\n",
        "\n",
        "\n",
        "#자료: Matplotlib Tutorial https://wikidocs.net/92095"
      ],
      "metadata": {
        "id": "y2qe0vzNt4Mz"
      },
      "execution_count": null,
      "outputs": []
    },
    {
      "cell_type": "code",
      "source": [
        "#결측값 갯수 세는 법: 방법1\n",
        "df.isnull().sum()"
      ],
      "metadata": {
        "id": "W9p-B9qV8Ktn"
      },
      "execution_count": null,
      "outputs": []
    },
    {
      "cell_type": "code",
      "source": [
        "#가로 그래프로 출력하기\n",
        "import pandas as pd\n",
        "import matplotlib.pyplot as plt\n",
        "\n",
        "df = pd.read_csv('/content/drive/MyDrive/python/susi_jsi.csv', encoding='cp949')\n",
        "\n",
        "uni = ['고려대', '서강대', '성균관대', '경희대', '한국외대', '서울시립대', '이화여대', '건국대', '동국대', '홍익대']\n",
        "\n",
        "fig, ax = plt.subplots(figsize=(10, 6))\n",
        "plt.box(False)\n",
        "\n",
        "colors = ['#80CED7', '#FFB347']\n",
        "\n",
        "df_주요대_list = []\n",
        "\n",
        "for i, u in enumerate(uni):\n",
        "    df_주요대 = df[(df.대학 == u) & (df.최종 == '합')]\n",
        "    df_주요대 = df_주요대[['수시정시', '학번', '대학', '최종']]\n",
        "    num_수시 = len(df_주요대[df_주요대['수시정시'] == '수시'])\n",
        "    num_정시 = len(df_주요대[df_주요대['수시정시'] == '정시'])\n",
        "\n",
        "    df_주요대_list.append({'대학': u, '수시': num_수시, '정시': num_정시})\n",
        "\n",
        "# DataFrame으로 변환하여 y축 값을 기준으로 정렬\n",
        "df_sorted = pd.DataFrame(df_주요대_list).sort_values(by=['수시', '정시'], ascending=[True, True])\n",
        "\n",
        "# index를 대학으로 설정\n",
        "df_sorted.set_index('대학', inplace=True)\n",
        "\n",
        "# 정렬된 DataFrame으로부터 bar plot 생성\n",
        "df_sorted.plot(kind='barh', stacked=True, color=colors, ax=ax)\n",
        "\n",
        "# y축 제목\n",
        "ax.set_ylabel('')\n",
        "\n",
        "# 제목, 부제목\n",
        "ax.set_title('2023 D고 합격자수', fontsize=18, fontweight='bold', loc='left')\n",
        "ax.text(0.34, 1.05, '(단위: 명)', ha='center', va='top', transform=ax.transAxes, fontsize=12)\n",
        "\n",
        "# y축 눈금과 tick 제거\n",
        "ax.tick_params(axis='y', which='both', length=0)\n",
        "\n",
        "# 범례\n",
        "ax.legend(fontsize=12, loc='lower right')\n",
        "\n",
        "# x축 눈금과 tick 제거\n",
        "ax.tick_params(axis='x', which='both', length=0)\n",
        "\n",
        "plt.show()\n"
      ],
      "metadata": {
        "colab": {
          "base_uri": "https://localhost:8080/",
          "height": 391
        },
        "id": "JDrD2YxTblED",
        "outputId": "e48ff144-9608-4005-a91f-0f079056c418"
      },
      "execution_count": 103,
      "outputs": [
        {
          "output_type": "display_data",
          "data": {
            "text/plain": [
              "<Figure size 720x432 with 1 Axes>"
            ],
            "image/png": "[encoded data removed]"
          },
          "metadata": {
            "needs_background": "light"
          }
        }
      ]
    }
  ]
}