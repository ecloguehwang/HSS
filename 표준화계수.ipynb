{
  "nbformat": 4,
  "nbformat_minor": 0,
  "metadata": {
    "colab": {
      "provenance": [],
      "authorship_tag": "ABX9TyNMw+bneZWUAZCtDxnzOtbF",
      "include_colab_link": true
    },
    "kernelspec": {
      "name": "python3",
      "display_name": "Python 3"
    },
    "language_info": {
      "name": "python"
    }
  },
  "cells": [
    {
      "cell_type": "markdown",
      "metadata": {
        "id": "view-in-github",
        "colab_type": "text"
      },
      "source": [
        "<a href=\"https://colab.research.google.com/github/ecloguehwang/HSS/blob/master/%ED%91%9C%EC%A4%80%ED%99%94%EA%B3%84%EC%88%98.ipynb\" target=\"_parent\"><img src=\"https://colab.research.google.com/assets/colab-badge.svg\" alt=\"Open In Colab\"/></a>"
      ]
    },
    {
      "cell_type": "code",
      "execution_count": 1,
      "metadata": {
        "colab": {
          "base_uri": "https://localhost:8080/"
        },
        "id": "7XAnoa3yoYZD",
        "outputId": "183ab093-69ce-4003-ca3d-0d462e001150"
      },
      "outputs": [
        {
          "output_type": "stream",
          "name": "stdout",
          "text": [
            "const    3.0\n",
            "x1       0.4\n",
            "x2       0.8\n",
            "dtype: float64\n"
          ]
        }
      ],
      "source": [
        "import numpy as np\n",
        "import pandas as pd\n",
        "import statsmodels.api as sm\n",
        "\n",
        "# Sample data\n",
        "data = pd.DataFrame({\n",
        "    'x1': [1, 2, 3, 4, 5],\n",
        "    'x2': [2, 4, 6, 8, 10],\n",
        "    'y': [5, 7, 9, 11, 13]\n",
        "})\n",
        "\n",
        "# Define the dependent variable\n",
        "y = data['y']\n",
        "\n",
        "# Define the independent variables\n",
        "X = data[['x1', 'x2']]\n",
        "\n",
        "# Add a constant term to the independent variables\n",
        "X = sm.add_constant(X)\n",
        "\n",
        "# Fit the OLS model\n",
        "model = sm.OLS(y, X)\n",
        "results = model.fit()\n",
        "\n",
        "# Get the regression weights\n",
        "weights = results.params\n",
        "\n",
        "print(weights)"
      ]
    },
    {
      "cell_type": "code",
      "source": [
        "import numpy as np\n",
        "import pandas as pd\n",
        "import statsmodels.api as sm\n",
        "from sklearn.preprocessing import StandardScaler\n",
        "\n",
        "# Sample data\n",
        "data = pd.DataFrame({\n",
        "    'x1': [1, 2, 3, 4, 5],\n",
        "    'x2': [2, 4, 6, 8, 10],\n",
        "    'y': [5, 7, 9, 11, 13]\n",
        "})\n",
        "\n",
        "# Define the dependent variable\n",
        "y = data['y']\n",
        "\n",
        "# Define the independent variables\n",
        "X = data[['x1', 'x2']]\n",
        "\n",
        "# Add a constant term to the independent variables\n",
        "X = sm.add_constant(X)\n",
        "\n",
        "# Fit the OLS model\n",
        "model = sm.OLS(y, X)\n",
        "results = model.fit()\n",
        "\n",
        "# Get the unstandardized regression weights\n",
        "unstandardized_weights = results.params\n",
        "\n",
        "# Standardize the independent variables\n",
        "scaler = StandardScaler()\n",
        "X_scaled = scaler.fit_transform(X.iloc[:, 1:])  # Exclude the constant term\n",
        "\n",
        "# Add back the constant term to the standardized variables\n",
        "X_scaled = sm.add_constant(X_scaled)\n",
        "\n",
        "# Fit the OLS model with standardized variables\n",
        "model_scaled = sm.OLS(y, X_scaled)\n",
        "results_scaled = model_scaled.fit()\n",
        "\n",
        "# Get the standardized regression weights\n",
        "standardized_weights = results_scaled.params\n",
        "\n",
        "print(\"Unstandardized Weights:\")\n",
        "print(unstandardized_weights)\n",
        "\n",
        "print(\"\\nStandardized Weights:\")\n",
        "print(standardized_weights)\n"
      ],
      "metadata": {
        "colab": {
          "base_uri": "https://localhost:8080/"
        },
        "id": "9_XWcllgsRgZ",
        "outputId": "6a1970a9-7b48-413d-d07d-61eb3b9a9431"
      },
      "execution_count": 6,
      "outputs": [
        {
          "output_type": "stream",
          "name": "stdout",
          "text": [
            "Unstandardized Weights:\n",
            "const    3.0\n",
            "x1       0.4\n",
            "x2       0.8\n",
            "dtype: float64\n",
            "\n",
            "Standardized Weights:\n",
            "const    9.000000\n",
            "x1       1.414214\n",
            "x2       1.414214\n",
            "dtype: float64\n"
          ]
        }
      ]
    }
  ]
}