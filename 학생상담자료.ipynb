{
  "nbformat": 4,
  "nbformat_minor": 0,
  "metadata": {
    "colab": {
      "provenance": [],
      "mount_file_id": "1lBfGGPaENxz2-3_V_X_AafRrOgVrrXl4",
      "authorship_tag": "ABX9TyPdmbG7vqeEkAtZ4aGuc4qp",
      "include_colab_link": true
    },
    "kernelspec": {
      "name": "python3",
      "display_name": "Python 3"
    },
    "language_info": {
      "name": "python"
    }
  },
  "cells": [
    {
      "cell_type": "markdown",
      "metadata": {
        "id": "view-in-github",
        "colab_type": "text"
      },
      "source": [
        "<a href=\"https://colab.research.google.com/github/ecloguehwang/HSS/blob/master/%ED%95%99%EC%83%9D%EC%83%81%EB%8B%B4%EC%9E%90%EB%A3%8C.ipynb\" target=\"_parent\"><img src=\"https://colab.research.google.com/assets/colab-badge.svg\" alt=\"Open In Colab\"/></a>"
      ]
    },
    {
      "cell_type": "code",
      "source": [
        "#colab에서 matplotlib와 sns 라이브러리 그래프 한글을 깨지지 않게 하는 법: 실행하고 런타임 재시작\n",
        "!sudo apt-get install -y fonts-nanum\n",
        "!sudo fc-cache -fv\n",
        "!rm ~/.cache/matplotlib -rf"
      ],
      "metadata": {
        "id": "9Z8Q931z4OvC"
      },
      "execution_count": null,
      "outputs": []
    },
    {
      "cell_type": "code",
      "execution_count": null,
      "metadata": {
        "id": "u1P-ymw-Bkx-"
      },
      "outputs": [],
      "source": [
        "# 라이브러리 부르기\n",
        "import pandas as pd\n",
        "import numpy as np\n",
        "import seaborn as sns\n",
        "import matplotlib.pyplot as plt\n",
        "\n",
        "\n",
        "##  데이터 부르기 : 구글colab에 마운트(mount)하는 방법: 왼쪽 폴더아이콘을 누르기-눈동자 왼쪽 파일마운트 아이콘 클릭- /content/drive/MyDrive/python폴더의 susi_2021simple.csv파일을 불러옴\n",
        "path = '/content/drive/MyDrive/python/deungchon/'\n",
        "df = pd.read_csv(f'{path}six.csv', encoding = 'cp949')\n",
        "\n",
        "df.head(6)"
      ]
    },
    {
      "cell_type": "code",
      "source": [
        "#matplotlib에서 한글구현\n",
        "plt.rc('font', family='NanumBarunGothic')\n",
        "\n",
        "#그래프 마이너스 기호 깨짐 방지\n",
        "plt.rcParams['axes.unicode_minus'] = False"
      ],
      "metadata": {
        "id": "GXxvaRiJj-J1"
      },
      "execution_count": 2,
      "outputs": []
    },
    {
      "cell_type": "code",
      "source": [
        "#출결인정 메모\n",
        "#from datetime import datetime\n",
        "from pytz import timezone\n",
        "from datetime import datetime\n",
        "today = datetime.now(timezone('Asia/Seoul'))\n",
        "\n",
        "name = input(\"이름:\")\n",
        "snum = input(\"번호:\")\n",
        "print(\"{}(306{})학생이 담임교사 상담으로 늦게 입실함을 깊이 양해부탁드립니다.\".format(name, snum.zfill(2)))\n",
        "print(\"---------------------------------------------------------------------------------\")\n",
        "print(today.strftime('%m-%d %H:%M:%S'))\n",
        "print(\"3-6 담임 황성삼 (인)\")\n"
      ],
      "metadata": {
        "id": "IYiJ29vh7Nxe"
      },
      "execution_count": null,
      "outputs": []
    },
    {
      "cell_type": "code",
      "source": [
        "#변수(열)명을 가나다순으로 정렬\n",
        "df = df.reindex(sorted(df.columns), axis=1)\n",
        "print(df)"
      ],
      "metadata": {
        "id": "QxiqBfSH25zv"
      },
      "execution_count": null,
      "outputs": []
    },
    {
      "cell_type": "code",
      "source": [
        "#특정열을 기준으로 추출\n",
        "df.iloc[:, 102:120]"
      ],
      "metadata": {
        "id": "lhD1l_nl3Jcm"
      },
      "execution_count": null,
      "outputs": []
    },
    {
      "cell_type": "code",
      "source": [
        "#이름으로 6모 모의고사 열람\n",
        "name = input(\"이름:\")\n",
        "df_name = df[(df.이름 == name)]\n",
        "df_name = df_name[['이름','등급_국어_6모', '등급_수학_6모',  '등급_영어_6모', '선택과목명_탐구1_6모', '등급_탐구1_6모', '선택과목명_탐구2_6모', '등급_탐구2_6모']]\n",
        "df_name"
      ],
      "metadata": {
        "id": "rkqwq6qO-_Uz"
      },
      "execution_count": null,
      "outputs": []
    },
    {
      "cell_type": "code",
      "source": [
        "import seaborn as sns\n",
        "import matplotlib.pyplot as plt\n",
        "\n",
        "plt.rc('font', family='NanumBarunGothic') \n",
        "sns.histplot(df.백분위평균_6모, bins=9, kde=False)\n",
        "plt.title(\"D고 3-6반 6모 백분위평균 구간별 점수\")"
      ],
      "metadata": {
        "colab": {
          "base_uri": "https://localhost:8080/",
          "height": 489
        },
        "id": "ZzT_pDRvSkKP",
        "outputId": "fc23fc89-2db9-423a-c7d7-72e251d1c010"
      },
      "execution_count": null,
      "outputs": [
        {
          "output_type": "execute_result",
          "data": {
            "text/plain": [
              "Text(0.5, 1.0, 'D고 3-6반 6모 백분위평균 구간별 점수')"
            ]
          },
          "metadata": {},
          "execution_count": 11
        },
        {
          "output_type": "display_data",
          "data": {
            "text/plain": [
              "<Figure size 640x480 with 1 Axes>"
            ],
            "image/png": "[encoded data removed]"
          },
          "metadata": {}
        }
      ]
    },
    {
      "cell_type": "code",
      "source": [
        "# 특정 '문자열'을 포함하는 열(column)을 뽑아내는 코드: \n",
        "math_columns = [col for col in df if '영어' in col]\n",
        "print(math_columns)"
      ],
      "metadata": {
        "colab": {
          "base_uri": "https://localhost:8080/"
        },
        "id": "_xL0nXhsE5aP",
        "outputId": "3b468d91-0f75-4758-f408-503ded0a5561"
      },
      "execution_count": null,
      "outputs": [
        {
          "output_type": "stream",
          "name": "stdout",
          "text": [
            "['내신_영어', '모의고사등급_영어', '영어사교육', '등급_영어_3모', '원점수_영어_5모', '등급_영어_5모']\n"
          ]
        }
      ]
    },
    {
      "cell_type": "code",
      "source": [
        "#이름으로 다름 정보 출력\n",
        "name = input(\"이름:\")\n",
        "df_name = df[(df.이름 == name)]\n",
        "df_name = df_name[['이름', '주소', '어머니', '신뢰하는이', '자는시간', '운동', '스트레스조절', '학교만족도', '스마트폰시간', '고민친구']]\n",
        "df_name"
      ],
      "metadata": {
        "id": "5xC7MiG5DmH-"
      },
      "execution_count": null,
      "outputs": []
    },
    {
      "cell_type": "code",
      "source": [
        "#이름으로 희망대학, 희망학과\n",
        "name = input(\"이름:\")\n",
        "df_name = df[(df.이름 == name)]\n",
        "df_name = df_name[['이름', '사교육',  'MBTI',  '희망대학', '희망학과', '희망직업']]\n",
        "df_name"
      ],
      "metadata": {
        "id": "xU9n4KuAJkpo"
      },
      "execution_count": null,
      "outputs": []
    },
    {
      "cell_type": "code",
      "source": [
        "#이름으로 탐구1과목과 탐구2과목\n",
        "name = input(\"이름:\")\n",
        "df_name = df[(df.이름 == name)]\n",
        "df_name = df_name[['이름', '탐구1', '탐구2']]\n",
        "df_name"
      ],
      "metadata": {
        "id": "flORsHo_dZsB"
      },
      "execution_count": null,
      "outputs": []
    },
    {
      "cell_type": "code",
      "source": [
        "#이름으로 행동특성및종합의견\n",
        "name = input(\"이름:\")\n",
        "df_name = df[(df.이름 == name)]\n",
        "df_name = df_name[['이름', '행동특성및종합의견']]\n",
        "df_name"
      ],
      "metadata": {
        "id": "eYcHBOhPSftT"
      },
      "execution_count": null,
      "outputs": []
    },
    {
      "cell_type": "code",
      "source": [
        "#정시가 유리하다고 대답한 학생\n",
        "df_jsi = df[df.수시정시 == '정시']\n",
        "df_jsi_st = df_jsi[['이름', '성별', '수시정시', '내신_일이학년', '등급평균_6모']]\n",
        "df_jsi_st"
      ],
      "metadata": {
        "id": "wwv814ICMLmj"
      },
      "execution_count": null,
      "outputs": []
    },
    {
      "cell_type": "code",
      "source": [
        "#6월 모의고사가 일이학년 내신보다 좋은 학생\n",
        "df_mockbetter = df[df.내신_일이학년 >= df.등급평균_6모]\n",
        "df_mockbetter = df_mockbetter[['이름', '내신_일이학년', '등급평균_6모']]\n",
        "print(df_mockbetter)"
      ],
      "metadata": {
        "id": "TzFl39R3ndQF"
      },
      "execution_count": null,
      "outputs": []
    },
    {
      "cell_type": "code",
      "source": [
        "#내신보다 모의고사가 제일 잘 나온 학생찾기: copy()가 빠지만 경고메시지가 나옴\n",
        "\n",
        "df_mockbetter = df[df.내신_일이학년 >= df.등급평균_6모].copy()\n",
        "df_mockbetter.loc[:, '등급향상'] = df_mockbetter.내신_일이학년 - df_mockbetter.등급평균_6모\n",
        "df_mockbetter = df_mockbetter[['이름', '내신_일이학년', '등급평균_6모', '등급향상']]\n",
        "df_mockbetter = df_mockbetter.sort_values('등급향상', ascending=False)\n",
        "best_improvement = df_mockbetter.iloc[0]\n",
        "print(f\"일이학년 내신보다 모의고사가 제일 잘 나온 학생은 {best_improvement['등급향상']:.2f}등급 향샹된 {best_improvement['이름']}입니다.\")\n",
        "print(\"----------------------------------------------------------------------------------------------------------------------------\")\n",
        "print(df_mockbetter)"
      ],
      "metadata": {
        "id": "XSJYprQFqnq1"
      },
      "execution_count": null,
      "outputs": []
    },
    {
      "cell_type": "code",
      "source": [
        "# 성은 그대로 이름부분은 *로 표시하는 코드\n",
        "df_mockbetter = df[df.내신_일이학년 >= df.등급평균_6모].copy()\n",
        "df_mockbetter.loc[:, '등급향상'] = df_mockbetter.내신_일이학년 - df_mockbetter.등급평균_6모\n",
        "df_mockbetter['이름'] = df_mockbetter['이름'].apply(lambda x: x[0] + '*' * (len(x) - 1))\n",
        "df_mockbetter = df_mockbetter[['이름', '내신_일이학년', '등급평균_6모', '등급향상']]\n",
        "df_mockbetter = df_mockbetter.sort_values('등급향상', ascending=False)\n",
        "best_improvement = df_mockbetter.iloc[0]\n",
        "print(f\"The person with the most improvement is {best_improvement['이름']} with a grade improvement of {best_improvement['등급향상']:.2f}.\")\n",
        "print(df_mockbetter)"
      ],
      "metadata": {
        "id": "W2UE_CN3tskC"
      },
      "execution_count": null,
      "outputs": []
    },
    {
      "cell_type": "code",
      "source": [
        "# 특정 평균성적 이하 검색\n",
        "mi = int(input(\"평균성적이 몇점 이하로 겸색할까요?:\"))\n",
        "\n",
        "# mx이상 mi이하 조건을 충족하는 객체 만들기\n",
        "df_interval = df[(df.성적 <= mi)]\n",
        "\n",
        "# value_counts()로 빈도를 세고, sort_index() 기준으로 정렬!\n",
        "list_1 =  df_interval[\"성적\"].value_counts().sort_index()\n",
        "print(list_1)\n",
        "print(\"------------------------------\")\n",
        "print(df_interval[['이름', '성별', '성적']])\n",
        "#print(str(len(list_1))+\"명\")\n",
        "print(\"------------------------------\")\n",
        "print(\"{}점 이하 {}명\".format(mi, len(df_interval)))\n",
        "#자료 https://stackoverflow.com/questions/43855474/changing-sort-in-value-counts8"
      ],
      "metadata": {
        "id": "_6D23kOxOPU_"
      },
      "execution_count": null,
      "outputs": []
    },
    {
      "cell_type": "code",
      "source": [
        "# 백분위 검색\n",
        "mi = int(input(\"백분위 평균_3모 몇% 이상으로 검색할까요?:\"))\n",
        "\n",
        "# mx이상 mi이하 조건을 충족하는 객체 만들기\n",
        "df_interval = df[(df.백분위평균_3모 >= mi)]\n",
        "\n",
        "# value_counts()로 빈도를 세고, sort_index() 기준으로 정렬!\n",
        "list_1 =  df_interval[\"백분위평균_3모\"].value_counts().sort_index()\n",
        "print(list_1)\n",
        "print(\"------------------------------\")\n",
        "print(df_interval[['이름', '성별', '백분위평균_3모']])\n",
        "#print(str(len(list_1))+\"명\")\n",
        "print(\"------------------------------\")\n",
        "print(\"{}% 이상 {}명\".format(mi, len(df_interval)))\n",
        "#자료 https://stackoverflow.com/questions/43855474/changing-sort-in-value-counts8"
      ],
      "metadata": {
        "id": "_BgW_ynoRKHG"
      },
      "execution_count": null,
      "outputs": []
    },
    {
      "cell_type": "code",
      "source": [
        "#수시정시 별 응답자수 \n",
        "df.groupby('수시정시').count()"
      ],
      "metadata": {
        "id": "hPp2vrqHozLw"
      },
      "execution_count": null,
      "outputs": []
    },
    {
      "cell_type": "code",
      "source": [
        "#수시와 정시 중 유리하다고 대답한 학생들의 그래프\n",
        "import matplotlib.pyplot as plt\n",
        "import pandas as pd\n",
        "\n",
        "# Group data by '수시정시' column\n",
        "df_susi = df.groupby('수시정시').count()\n",
        "\n",
        "# Create data for the plot\n",
        "labels = df_susi.index\n",
        "sizes = df_susi['학번']\n",
        "colors = ['#66c2a5', '#fc8d62']\n",
        "explode = [0, 0] # set the explosion parameter for the first slice\n",
        "\n",
        "# Create the plot\n",
        "fig, ax = plt.subplots(figsize=(8, 4))\n",
        "wedges, labels, _ = ax.pie(sizes, labels=labels, colors=colors, startangle=180, counterclock=False,\n",
        "       explode=explode, autopct='%1.0f%%', pctdistance=0.8, textprops={'fontsize': 2*plt.rcParams['font.size']})\n",
        "\n",
        "# Add a white circle in the middle to create the half doughnut effect\n",
        "circle = plt.Circle((0,0), 0.75, color='white')\n",
        "ax.add_artist(circle)\n",
        "\n",
        "ax.axis('equal')\n",
        "plt.title('수시와 정시 중 어디가 유리하다고 생각하는가?', fontsize=3*plt.rcParams['font.size'])\n",
        "plt.show()"
      ],
      "metadata": {
        "id": "JhahirbrvHbg",
        "colab": {
          "base_uri": "https://localhost:8080/",
          "height": 394
        },
        "outputId": "98b1a6fa-2696-4f51-8a82-e75f667b7f71"
      },
      "execution_count": 25,
      "outputs": [
        {
          "output_type": "display_data",
          "data": {
            "text/plain": [
              "<Figure size 800x400 with 1 Axes>"
            ],
            "image/png": "[encoded data removed]"
          },
          "metadata": {}
        }
      ]
    },
    {
      "cell_type": "code",
      "source": [
        "#수시전형 종류: 61%(종합), 22%(교과), 논술(6%), 기타(11%)\n",
        "df_susi_type = df.groupby('수시전형유형').count()\n",
        "df_ratio = round(df_susi_type/len(df.학번)*100)\n",
        "\n",
        "print(df_ratio)"
      ],
      "metadata": {
        "id": "NSILN33_pkAp"
      },
      "execution_count": null,
      "outputs": []
    },
    {
      "cell_type": "code",
      "source": [
        "import matplotlib.pyplot as plt\n",
        "import pandas as pd\n",
        "\n",
        "df_susi_type = df.groupby('수시전형유형').count()\n",
        "df_ratio = round(df_susi_type['학번'] / len(df['학번']) * 100)\n",
        "\n",
        "# Sort the dataframe by the ratio values in descending order\n",
        "df_ratio_sorted = df_ratio.sort_values(ascending=False)\n",
        "\n",
        "plt.bar(df_ratio_sorted.index, df_ratio_sorted)\n",
        "plt.xlabel('수시전형유형')\n",
        "plt.ylabel('비율 (%)')\n",
        "plt.title('수시전형 중 어느 전형에 지원하겠는가?')\n",
        "plt.show()\n"
      ],
      "metadata": {
        "colab": {
          "base_uri": "https://localhost:8080/",
          "height": 294
        },
        "id": "wyS53NJis8lH",
        "outputId": "6bbd04e1-6843-493d-d572-ca420cff1816"
      },
      "execution_count": null,
      "outputs": [
        {
          "output_type": "display_data",
          "data": {
            "text/plain": [
              "<Figure size 432x288 with 1 Axes>"
            ],
            "image/png": "[encoded data removed]"
          },
          "metadata": {
            "needs_background": "light"
          }
        }
      ]
    },
    {
      "cell_type": "code",
      "source": [
        "#변수(열)별 결측값 갯수 확인\n",
        "#np.sum(pd.isnull(df))\n",
        "#np.sum(pd.isnull(df.아버지))\n",
        "df['아버지'].isnull().sum()"
      ],
      "metadata": {
        "id": "ZnBkqRZ8zWjV",
        "colab": {
          "base_uri": "https://localhost:8080/"
        },
        "outputId": "62c427c5-5786-4023-87a9-f385e19504f2"
      },
      "execution_count": null,
      "outputs": [
        {
          "output_type": "execute_result",
          "data": {
            "text/plain": [
              "0"
            ]
          },
          "metadata": {},
          "execution_count": 14
        }
      ]
    },
    {
      "cell_type": "code",
      "source": [
        "#희망학과가 '간호'인 경우를 검색\n",
        "df_nurse = df['희망학과'].str.contains('[생명]') \n",
        "#df_nurse = df_nurse.dropna(['희망학과'])\n",
        "df_subset = df[df_nurse]\n",
        "print(df_subset)"
      ],
      "metadata": {
        "id": "mV34zpOA-udg"
      },
      "execution_count": null,
      "outputs": []
    },
    {
      "cell_type": "code",
      "source": [
        "#변수(열)의 갯수\n",
        "cols = len(df.axes[1])\n",
        "print(cols) "
      ],
      "metadata": {
        "colab": {
          "base_uri": "https://localhost:8080/"
        },
        "id": "Fy9WJdnVQ9Zy",
        "outputId": "df69882b-a764-41ef-b0d3-5a1806bf062b"
      },
      "execution_count": 27,
      "outputs": [
        {
          "output_type": "stream",
          "name": "stdout",
          "text": [
            "149\n"
          ]
        }
      ]
    },
    {
      "cell_type": "code",
      "source": [
        "# 회장/부회장 경험있는 학생수\n",
        "mi = int(input(\"회장경험 몇회 이상으로 겸색할까요?:\"))\n",
        "\n",
        "# mi이상 mi이하 조건을 충족하는 객체 만들기\n",
        "df_interval = df[(df.회장경험 >= mi)]\n",
        "\n",
        "# value_counts()로 빈도를 세고, sort_index() 기준으로 정렬!\n",
        "list_1 =  df_interval[\"회장경험\"].value_counts().sort_index()\n",
        "print(list_1)\n",
        "print(\"------------------------------\")\n",
        "print(df_interval[['이름', '성별', '회장경험']])\n",
        "#print(str(len(list_1))+\"명\")\n",
        "print(\"------------------------------\")\n",
        "print(\"{}회 이상 학급회장/부회장 경험:{}명\".format(mi, len(df_interval)))"
      ],
      "metadata": {
        "id": "4yEY8ICk_wWD"
      },
      "execution_count": null,
      "outputs": []
    },
    {
      "cell_type": "code",
      "source": [
        "#이름을 넣어 해당학생의 학급석차 출력\n",
        "name = input(\"이름:\")\n",
        "\n",
        "# Sort DataFrame by '내신_전과목' in descending order\n",
        "df_sorted = df.sort_values('내신_일이학년', ascending=False)\n",
        "\n",
        "# Filter DataFrame to only include rows with the input name\n",
        "df_filtered = df_sorted[df_sorted['이름'] == name]\n",
        "\n",
        "# Calculate rank of first row in filtered DataFrame\n",
        "rank = df.index.get_loc(df_filtered.index[0]) + 1\n",
        "\n",
        "# Sort rank values\n",
        "rank_list = sorted(list(df_sorted['내신_일이학년']), reverse=False)\n",
        "sorted_rank = rank_list.index(df_filtered['내신_일이학년'].iloc[0]) + 1\n",
        "\n",
        "# Print the result\n",
        "print(f\"{name}의 '내신_일이학년' 6반에서의 석차는 {sorted_rank}등 입니다.\")"
      ],
      "metadata": {
        "id": "_5Sebd0Kzmf7"
      },
      "execution_count": null,
      "outputs": []
    },
    {
      "cell_type": "code",
      "source": [
        "#일이학년 석차순으로 출력하기\n",
        "df_sorted = df.sort_values('내신_일이학년', ascending=True)\n",
        "print(df_sorted[['이름', '내신_일이학년', '석차_전교']])"
      ],
      "metadata": {
        "id": "jerDpJOujomJ"
      },
      "execution_count": null,
      "outputs": []
    },
    {
      "cell_type": "code",
      "source": [
        "exam_march = [col for col in df if '선택' in col]\n",
        "print(exam_march)"
      ],
      "metadata": {
        "colab": {
          "base_uri": "https://localhost:8080/"
        },
        "id": "AEf2Em1heBQA",
        "outputId": "2f06764a-9d2f-40ad-e982-9e95342b5aa7"
      },
      "execution_count": null,
      "outputs": [
        {
          "output_type": "stream",
          "name": "stdout",
          "text": [
            "['선택형수능', '선택과목명_탐구1_3모', '선택과목명_탐구2_3모', '선택과목명_국어_5모', '선택과목명_수학', '선택과목명_탐구1_5모', '선택과목명_탐구2_5모']\n"
          ]
        }
      ]
    },
    {
      "cell_type": "code",
      "source": [
        "#이름을 입력하면 해당학생의 성적 4가지(내신, 3모, 5모, 6모)를 melt시켜서 그래프로 그려 png로 저장\n",
        "\n",
        "import pandas as pd\n",
        "import matplotlib.pyplot as plt\n",
        "\n",
        "name = input(\"이름:\")\n",
        "df_name = df[(df.이름 == name)]\n",
        "df_name = df_name[['이름','내신_일이학년', '등급평균_3모', '등급평균_5모', '등급평균_6모']]\n",
        "\n",
        "df_melt = pd.melt(df_name, id_vars=['이름'], value_vars=['내신_일이학년', '등급평균_3모', '등급평균_5모', '등급평균_6모'], var_name='test', value_name='result')\n",
        "\n",
        "# Extract the required columns from the melted DataFrame\n",
        "x_values = df_melt['test']\n",
        "y_values = df_melt['result']\n",
        "\n",
        "# Create a scatter plot\n",
        "plt.scatter(x_values, y_values)\n",
        "\n",
        "# Connect the points with a line\n",
        "plt.plot(x_values, y_values, '-')\n",
        "\n",
        "# Get the value of '내신_일이학년'\n",
        "내신_일이학년_value = df_name['내신_일이학년'].values[0]  \n",
        "    \n",
        "# Draw a horizontal line at '내신_일이학년' value    \n",
        "plt.axhline(내신_일이학년_value, color='r', linestyle=':') \n",
        "\n",
        "# Set the axis labels\n",
        "#plt.xlabel('시험')\n",
        "plt.ylabel('등급')\n",
        "\n",
        "# Reverse the y-axis\n",
        "plt.gca().invert_yaxis()\n",
        "\n",
        "# Set the plot title\n",
        "plt.title(name+' 학생의 3학년 성적추이')\n",
        "\n",
        "\n",
        "# Annotate '내신_일이학년' value on the plot\n",
        "plt.text(0.5, 내신_일이학년_value, str(내신_일이학년_value), color='r', ha='right', va='bottom')\n",
        "\n",
        "# Show the plot\n",
        "plt.show()"
      ],
      "metadata": {
        "id": "POsv96brlb0p"
      },
      "execution_count": null,
      "outputs": []
    },
    {
      "cell_type": "code",
      "source": [
        "#이름을 입력하면 해당학생의 성적 4가지(내신, 3모, 5모, 6모)를 melt시켜서 그래프로 그려 pdf로 저장\n",
        "import pandas as pd\n",
        "import matplotlib.pyplot as plt\n",
        "\n",
        "filename = ['이성계', '이방원', '이도', '이산']\n",
        "\n",
        "# loop over each filename\n",
        "for name in filename:\n",
        "    df_name = df[(df.이름 == name)]\n",
        "    df_name = df_name[['이름','내신_일이학년', '등급평균_3모', '등급평균_5모', '등급평균_6모']]\n",
        "    df_melt = pd.melt(df_name, id_vars=['이름'], value_vars=['내신_일이학년', '등급평균_3모', '등급평균_5모', '등급평균_6모'], var_name='test', value_name='result')\n",
        "    x_values = df_melt['test']\n",
        "    y_values = df_melt['result']\n",
        "    plt.scatter(x_values, y_values)\n",
        "    plt.plot(x_values, y_values, '-')\n",
        "    \n",
        "    내신_일이학년_value = df_name['내신_일이학년'].values[0]  # Get the value of '내신_일이학년'\n",
        "    \n",
        "    plt.axhline(내신_일이학년_value, color='r', linestyle=':')  # Draw a horizontal line at '내신_일이학년' value\n",
        "    \n",
        "    plt.ylabel('등급')\n",
        "    plt.gca().invert_yaxis()\n",
        "    plt.title(name+' 학생의 3학년 성적추이')\n",
        "    \n",
        "    # Annotate '내신_일이학년' value on the plot\n",
        "    plt.text(0.5, 내신_일이학년_value, str(내신_일이학년_value), color='r', ha='right', va='bottom')\n",
        "\n",
        "    plt.savefig(f\"/content/drive/MyDrive/python/deungchon/result_score/{name}_score.png\", bbox_inches='tight')\n",
        "    \n",
        "    plt.show()"
      ],
      "metadata": {
        "id": "J1KrXGNTkXbi"
      },
      "execution_count": null,
      "outputs": []
    },
    {
      "cell_type": "code",
      "source": [
        "import pandas as pd\n",
        "import matplotlib.pyplot as plt\n",
        "\n",
        "filename = ['이성계', '이방원', '이도', '이산']\n",
        "\n",
        "# loop over each filename\n",
        "for name in filename:\n",
        "    df_name = df[(df.이름 == name)]\n",
        "    df_name = df_name[['이름','내신_일이학년', '등급평균_3모', '등급평균_5모', '등급평균_6모']]\n",
        "    df_melt = pd.melt(df_name, id_vars=['이름'], value_vars=['내신_일이학년', '등급평균_3모', '등급평균_5모', '등급평균_6모'], var_name='test', value_name='result')\n",
        "    x_values = df_melt['test']\n",
        "    y_values = df_melt['result']\n",
        "    plt.scatter(x_values, y_values)\n",
        "    plt.plot(x_values, y_values, '-')\n",
        "    \n",
        "    내신_일이학년_value = df_name['내신_일이학년'].values[0]  # Get the value of '내신_일이학년'\n",
        "    \n",
        "    plt.axhline(내신_일이학년_value, color='r', linestyle=':')  # Draw a horizontal line at '내신_일이학년' value\n",
        "    \n",
        "    plt.ylabel('등급')\n",
        "    plt.gca().invert_yaxis()\n",
        "    plt.title(name+' 학생의 3학년 성적추이')\n",
        "    \n",
        "    # Annotate '내신_일이학년' value on the plot\n",
        "    plt.text(0.5, 내신_일이학년_value, str(내신_일이학년_value), color='r', ha='right', va='bottom')\n",
        "\n",
        "\n",
        "    plt.savefig(f\"/content/drive/MyDrive/python/deungchon/result_score_pdf/{name}_score.pdf\", bbox_inches='tight', format='pdf')\n",
        "    \n",
        "    plt.show()"
      ],
      "metadata": {
        "id": "8heV1rSUkzHC"
      },
      "execution_count": null,
      "outputs": []
    }
  ]
}