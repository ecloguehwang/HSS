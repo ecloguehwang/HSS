{
  "nbformat": 4,
  "nbformat_minor": 0,
  "metadata": {
    "colab": {
      "provenance": [],
      "mount_file_id": "1Uhy3eIqtx_K6alN-55D_BEt_mhF7WTvL",
      "authorship_tag": "ABX9TyMjSSO2SC5eAN0a1FCRjvJX",
      "include_colab_link": true
    },
    "kernelspec": {
      "name": "python3",
      "display_name": "Python 3"
    },
    "language_info": {
      "name": "python"
    }
  },
  "cells": [
    {
      "cell_type": "markdown",
      "metadata": {
        "id": "view-in-github",
        "colab_type": "text"
      },
      "source": [
        "<a href=\"https://colab.research.google.com/github/ecloguehwang/HSS/blob/master/1%EA%B0%9C%ED%95%A9%EB%B6%88%ED%8C%8C%EC%9D%BC_1%EA%B0%9C%EC%8B%9C%ED%8A%B8_%EC%A0%84%EC%B2%98%EB%A6%AC_%EB%B0%98%ED%8F%AC2023%ED%95%99%EB%85%84%EB%8F%84.ipynb\" target=\"_parent\"><img src=\"https://colab.research.google.com/assets/colab-badge.svg\" alt=\"Open In Colab\"/></a>"
      ]
    },
    {
      "cell_type": "markdown",
      "source": [
        "#1개 합불파일에 1개(수시)의 시트가 있을때 새로운 합불파일로 만들기\n",
        "\n",
        "### 주의사항: 이 합불자료는 국어선택과목이 없던 시절용이라 국어선택과목이 있는 합불자료는 열번호를 하나씩 늘려야 함"
      ],
      "metadata": {
        "id": "Nd4hku5RpFq-"
      }
    },
    {
      "cell_type": "code",
      "source": [
        "#1개 합불파일 & 1개의 시트(수시)를 전처리 - b22.xlsx으로 테스트\n",
        "\n",
        "import pandas as pd\n",
        "\n",
        "# 엑셀 파일 경로 설정\n",
        "path = '/content/drive/MyDrive/python/habbul/'\n",
        "file_path = f'{path}반포2022_수시.xlsx'\n",
        "\n",
        "# ExcelFile 객체를 사용하여 엑셀 파일 로드\n",
        "excel_file = pd.ExcelFile(file_path)\n",
        "\n",
        "# 엑셀 파일 내의 시트 이름 목록 가져오기\n",
        "sheet_names = excel_file.sheet_names\n",
        "\n",
        "# 시트가 정확히 두 개인지 확인\n",
        "if len(sheet_names) == 2:\n",
        "    # 시트 이름을 사용하여 각 시트를 DataFrame으로 읽기\n",
        "    df_jsi = pd.read_excel(file_path, sheet_name=sheet_names[0])\n",
        "    df_susi = pd.read_excel(file_path, sheet_name=sheet_names[1])\n",
        "\n",
        "    # 수시합불자료 데이터 클리닝\n",
        "    df_susi.columns = df_susi.iloc[1]  # 두 번째 행을 열 이름으로 설정\n",
        "    df_susi = df_susi.drop([0, 1])      # 첫 두 행 삭제\n",
        "    df_susi.reset_index(drop=True, inplace=True) # 인덱스 재설정\n",
        "\n",
        "\n",
        "    # 정시합불자료 데이터 클리닝\n",
        "    df_jsi.columns = df_jsi.iloc[1]    # 두 번째 행을 열 이름으로 설정\n",
        "    df_jsi = df_jsi.drop([0, 1])        # 첫 두 행 삭제\n",
        "    df_jsi.reset_index(drop=True, inplace=True) # 인덱스 재설정\n",
        "    df_jsi = df_jsi.rename(columns={'군': '지원\\n시기'}) # '군' 열을 '지원시기'로 이름 변경\n",
        "\n",
        "\n",
        "    # 정시합불자료의 열 이름 변경\n",
        "    df_jsi.columns.values[32:37] = ['국어_' + col for col in df_jsi.columns[32:36]]\n",
        "    df_jsi.columns.values[37:42] = ['수학_' + col for col in df_jsi.columns[36:41]]\n",
        "    df_jsi.columns.values[42:46] = ['영어_' + col for col in df_jsi.columns[41:45]]\n",
        "    df_jsi.columns.values[46:52] = ['선택1_' + col for col in df_jsi.columns[45:51]]\n",
        "    df_jsi.columns.values[52:57] = ['선택2_' + col for col in df_jsi.columns[51:56]]\n",
        "    df_jsi.columns.values[57:61] = ['한국사_' + col for col in df_jsi.columns[56:60]]\n",
        "    df_jsi.columns.values[61:66] = ['제2외국어_' + col for col in df_jsi.columns[60:65]]\n",
        "\n",
        "\n",
        "    ##5. 수시합불자료의 열 이름 변경\n",
        "    df_susi.columns.values[32:37] = ['국어_' + col for col in df_susi.columns[32:36]]\n",
        "    df_susi.columns.values[37:42] = ['수학_' + col for col in df_susi.columns[36:41]]\n",
        "    df_susi.columns.values[42:46] = ['영어_' + col for col in df_susi.columns[41:45]]\n",
        "    df_susi.columns.values[46:52] = ['선택1_' + col for col in df_susi.columns[45:51]]\n",
        "    df_susi.columns.values[52:57] = ['선택2_' + col for col in df_susi.columns[51:56]]\n",
        "    df_susi.columns.values[57:61] = ['한국사_' + col for col in df_susi.columns[56:60]]\n",
        "    df_susi.columns.values[61:66] = ['제2외국어_' + col for col in df_susi.columns[60:65]]\n",
        "\n",
        "\n",
        "    # 열 이름에서 \\n 삭제\n",
        "    df_jsi.columns = df_jsi.columns.str.replace('\\n', '', regex=False)\n",
        "    df_susi.columns = df_jsi.columns.str.replace('\\n', '', regex=False)\n",
        "\n",
        "    # 두 DataFrame을 합치기\n",
        "    combined_df = pd.concat([df_susi, df_jsi], axis=0)\n",
        "\n",
        "    # 결과 DataFrame 출력\n",
        "    print(combined_df.tail())\n",
        "\n",
        "\n",
        "    # 새로운 경로와 파일명으로 엑셀 파일 저장\n",
        "    new_path = '/content/drive/MyDrive/python/habbul/'\n",
        "    combined_df.to_excel(f'{new_path}sinmok2020_수시정시.xlsx', index=False)\n",
        "\n",
        "else:\n",
        "    print(\"합칠 수 있는 시트가 두 개가 아닙니다. 대신 수시합불자료만 전처리합니다\")\n",
        "    print()\n",
        "    # 시트 이름을 사용하여 각 시트를 DataFrame으로 읽기\n",
        "    df_susi = pd.read_excel(file_path, sheet_name=sheet_names[0])\n",
        "\n",
        "\n",
        "    # 수시합불자료 데이터 클리닝\n",
        "    df_susi.columns = df_susi.iloc[1]  # 두 번째 행을 열 이름으로 설정\n",
        "    df_susi = df_susi.drop([0, 1])      # 첫 두 행 삭제\n",
        "    df_susi.reset_index(drop=True, inplace=True) # 인덱스 재설정\n",
        "\n",
        "\n",
        "    ##5. 수시합불자료의 열 이름 변경\n",
        "    df_susi.columns.values[32:36] = ['국어_' + col for col in df_susi.columns[32:36]]\n",
        "    df_susi.columns.values[36:41] = ['수학_' + col for col in df_susi.columns[36:41]]\n",
        "    df_susi.columns.values[41:45] = ['영어_' + col for col in df_susi.columns[41:45]]\n",
        "    df_susi.columns.values[45:51] = ['선택1_' + col for col in df_susi.columns[45:51]]\n",
        "    df_susi.columns.values[51:56] = ['선택2_' + col for col in df_susi.columns[51:56]]\n",
        "    df_susi.columns.values[56:60] = ['한국사_' + col for col in df_susi.columns[56:60]]\n",
        "    df_susi.columns.values[60:65] = ['제2외국어_' + col for col in df_susi.columns[60:65]]\n",
        "\n",
        "\n",
        "    # 열 이름에서 \\n 삭제\n",
        "    df_susi.columns = df_susi.columns.str.replace('\\n', '', regex=False)\n",
        "\n",
        "    # 결과 DataFrame 출력\n",
        "    print(df_susi.tail())\n",
        "\n",
        "\n",
        "    # 새로운 경로와 파일명으로 엑셀 파일 저장\n",
        "    new_path = '/content/drive/MyDrive/python/habbul/'\n",
        "    df_susi.to_excel(f'{new_path}banpo2021_수시정시.xlsx', index=False)"
      ],
      "metadata": {
        "id": "lXQOfqJkNljn"
      },
      "execution_count": null,
      "outputs": []
    },
    {
      "cell_type": "code",
      "source": [
        "import pandas as pd\n",
        "\n",
        "\n",
        "# 엑셀 파일 경로 설정\n",
        "path = '/content/drive/MyDrive/python/habbul/'\n",
        "file_path = f'{path}반포2022_수시.xlsx'\n",
        "\n",
        "# ExcelFile 객체를 사용하여 엑셀 파일 로드\n",
        "excel_file = pd.ExcelFile(file_path)\n",
        "\n",
        "print(excel_file)\n"
      ],
      "metadata": {
        "colab": {
          "base_uri": "https://localhost:8080/"
        },
        "id": "HeUvnJDFuFCm",
        "outputId": "dd2e4511-28c9-4efe-aa41-4d6556e31aeb"
      },
      "execution_count": 7,
      "outputs": [
        {
          "output_type": "stream",
          "name": "stdout",
          "text": [
            "<pandas.io.excel._base.ExcelFile object at 0x7a361f39ba30>\n"
          ]
        }
      ]
    }
  ]
}