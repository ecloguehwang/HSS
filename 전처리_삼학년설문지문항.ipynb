{
  "nbformat": 4,
  "nbformat_minor": 0,
  "metadata": {
    "colab": {
      "provenance": [],
      "mount_file_id": "1cwhuVitEFxc9pqZpqM9LAOsC3mGRyYgg",
      "authorship_tag": "ABX9TyOeTJcMZ6sAB9VYB6czln+/",
      "include_colab_link": true
    },
    "kernelspec": {
      "name": "python3",
      "display_name": "Python 3"
    },
    "language_info": {
      "name": "python"
    }
  },
  "cells": [
    {
      "cell_type": "markdown",
      "metadata": {
        "id": "view-in-github",
        "colab_type": "text"
      },
      "source": [
        "<a href=\"https://colab.research.google.com/github/ecloguehwang/HSS/blob/master/%EC%A0%84%EC%B2%98%EB%A6%AC_%EC%82%BC%ED%95%99%EB%85%84%EC%84%A4%EB%AC%B8%EC%A7%80%EB%AC%B8%ED%95%AD.ipynb\" target=\"_parent\"><img src=\"https://colab.research.google.com/assets/colab-badge.svg\" alt=\"Open In Colab\"/></a>"
      ]
    },
    {
      "cell_type": "code",
      "source": [
        "#완성코드: 복수정답까지 처리\n",
        "\n",
        "import pandas as pd\n",
        "\n",
        "# 1. 엑셀 파일 불러오기\n",
        "path = '/content/drive/MyDrive/python/eunpyeong/2025/'\n",
        "df = pd.read_excel(f'{path}thirdyear_questionaire_beforecleaning.xlsx')\n",
        "\n",
        "\n",
        "# 2. 복수응답 처리 함수 정의\n",
        "def map_multiple_answers(cell, mapping):\n",
        "    if pd.isna(cell):  # 결측값 처리\n",
        "        return None\n",
        "    try:\n",
        "        items = [int(i.strip()) for i in str(cell).split(',')]\n",
        "        mapped = [mapping.get(i, str(i)) for i in items]\n",
        "        return ', '.join(mapped)\n",
        "    except:\n",
        "        return cell  # 예외 발생 시 원래 값 반환\n",
        "\n",
        "\n",
        "# 3. 매핑 사전 정의\n",
        "gender_map = {1: '남', 2: '여'}\n",
        "region_map = {1: '은평구', 2: '서대문구', 3: '기타'}\n",
        "major_map = {1: '인문계열', 2: '사회과학계열', 3: '자연계열,', 4: '의학계열', 5: '예체능계열', 6: '사범계열', 7: '기타'}\n",
        "admission_map = {1: '수시', 2: '정시'}\n",
        "afterschool_map = {1: '학원', 2: '과외', 3: '인터넷강의', 4: '기타', 5: '받지않음'}\n",
        "sns_map = {1: '인스타그램', 2: '카카오톡', 3: '페이스북', 4: '기타'}\n",
        "trustee_map = {1: '친구', 2: '부모', 3: '교사'}\n",
        "sleep_map = {1: '12시전', 2: '12~1시', 3: '1~2시', 4: '2~4시', 5: '4시이후'}\n",
        "workout_map = {1: '아니오', 2: '예'}\n",
        "stresscontrol_map = {1: '아니오', 2: '예'}\n",
        "afterlife_map = {1: '아니오', 2: '예'}\n",
        "phonecontrol_map = {1: '아니오', 2: '예'}\n",
        "closefriend_map = {1: '아니오', 2: '예'}\n",
        "boygirlfriend_map = {1: '아니오', 2: '예'}\n",
        "schoolpride_map = {1: '아니오', 2: '예'}\n",
        "jobselection_map = {1: '경제적이익', 2: '명예', 3: '사회봉사,', 4: '기타'}\n",
        "favoritesubject_map = {1: '국어', 2: '수학', 3: '영어,', 4: '사탐', 5: '과탐', 6: '음악', 7: '미술,', 8: '체육', 9: '정보,', 10: '기타'}\n",
        "middleschool_map = {1: '구산중', 2: '은평중', 3: '덕산중,', 4: '예일여중', 5: '기타'}\n",
        "apply_map = {1: '아니오', 2: '예'}\n",
        "willtouni_map = {1: '예', 2: '아니오'}\n",
        "sibllings_map = {1: '외동', 2: '형누나등있음', 3: '동생있음'}\n",
        "unilevel_map = {\n",
        "    1: '메디컬계열', 2: '서연고', 3: '서성한,', 4: '중경외시이', 5: '건동홍숙', 6: '국숭세과', 7: '광명상가',\n",
        "    8: '기타인서울대', 9: '경기도권대,', 10: '지거국', 11: '지방사립대', 12: '전문대,', 13: '특수목적대학', 14: '미진학'\n",
        "}\n",
        "\n",
        "# 4. 단일응답 처리\n",
        "df['성별'] = df['성별'].map(gender_map)\n",
        "df['거주지'] = df['거주지'].map(region_map)\n",
        "df['수시정시'] = df['수시정시'].map(admission_map)\n",
        "df['SNS'] = df['SNS'].map(sns_map)\n",
        "df['신뢰하는이'] = df['신뢰하는이'].map(trustee_map)\n",
        "df['취침시간'] = df['취침시간'].map(sleep_map)\n",
        "df['운동여부'] = df['운동여부'].map(workout_map)\n",
        "df['스트레스조절여부'] = df['스트레스조절여부'].map(stresscontrol_map)\n",
        "df['방과후만족여부'] = df['방과후만족여부'].map(afterlife_map)\n",
        "df['스마트폰조절여부'] = df['스마트폰조절여부'].map(phonecontrol_map)\n",
        "df['고민친구여부'] = df['고민친구여부'].map(closefriend_map)\n",
        "df['이성친구여부'] = df['이성친구여부'].map(boygirlfriend_map)\n",
        "df['학교자부심여부'] = df['학교자부심여부'].map(schoolpride_map)\n",
        "df['졸업중학교'] = df['졸업중학교'].map(middleschool_map)\n",
        "df['은평고지원여부'] = df['은평고지원여부'].map(apply_map)\n",
        "df['대학진학의사'] = df['대학진학의사'].map(willtouni_map)\n",
        "df['형제관계'] = df['형제관계'].map(sibllings_map)\n",
        "df['대학'] = df['대학'].map(unilevel_map)\n",
        "\n",
        "\n",
        "# 5. 복수응답 처리\n",
        "df['방과후수업'] = df['방과후수업'].apply(lambda x: map_multiple_answers(x, afterschool_map))\n",
        "df['직업선택이유'] = df['직업선택이유'].apply(lambda x: map_multiple_answers(x, jobselection_map))\n",
        "\n",
        "\n",
        "\n",
        "# 5. 결과 확인 (옵션)\n",
        "print(df[['성별', '대학', '계열', '내신등급', '수시정시', '방과후수업', '직업선택이유']].head())\n",
        "\n",
        "# 6. 결과 저장\n",
        "\n",
        "df.to_excel(f'{path}thirdyear_questionaire.xlsx', index=False)"
      ],
      "metadata": {
        "colab": {
          "base_uri": "https://localhost:8080/"
        },
        "id": "8KG_YVo4F4_I",
        "outputId": "832fa7a9-a08f-4789-927a-55ea83b61fc6"
      },
      "execution_count": 26,
      "outputs": [
        {
          "output_type": "stream",
          "name": "stdout",
          "text": [
            "  성별      대학  계열  내신등급 수시정시      방과후수업     직업선택이유\n",
            "0  남  특수목적대학   4     7   정시         학원         기타\n",
            "1  여    광명상가   2     5   정시  과외, 인터넷강의  경제적이익, 명예\n",
            "2  남    광명상가   1     5   정시  학원, 인터넷강의      경제적이익\n",
            "3  남     미진학   3     7   수시         학원         기타\n",
            "4  여  특수목적대학   3     6   정시     학원, 과외         기타\n"
          ]
        }
      ]
    },
    {
      "cell_type": "markdown",
      "source": [],
      "metadata": {
        "id": "Oz8ICcpDDzmH"
      }
    }
  ]
}