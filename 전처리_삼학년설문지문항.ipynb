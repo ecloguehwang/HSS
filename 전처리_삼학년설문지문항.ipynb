{
  "nbformat": 4,
  "nbformat_minor": 0,
  "metadata": {
    "colab": {
      "provenance": [],
      "mount_file_id": "1cwhuVitEFxc9pqZpqM9LAOsC3mGRyYgg",
      "authorship_tag": "ABX9TyOqGQKeDXCIcpkPuyS6WZ8a",
      "include_colab_link": true
    },
    "kernelspec": {
      "name": "python3",
      "display_name": "Python 3"
    },
    "language_info": {
      "name": "python"
    }
  },
  "cells": [
    {
      "cell_type": "markdown",
      "metadata": {
        "id": "view-in-github",
        "colab_type": "text"
      },
      "source": [
        "<a href=\"https://colab.research.google.com/github/ecloguehwang/HSS/blob/master/%EC%A0%84%EC%B2%98%EB%A6%AC_%EC%82%BC%ED%95%99%EB%85%84%EC%84%A4%EB%AC%B8%EC%A7%80%EB%AC%B8%ED%95%AD.ipynb\" target=\"_parent\"><img src=\"https://colab.research.google.com/assets/colab-badge.svg\" alt=\"Open In Colab\"/></a>"
      ]
    },
    {
      "cell_type": "code",
      "source": [
        "#완성코드: 복수정답까지 처리\n",
        "\n",
        "import pandas as pd\n",
        "\n",
        "# 1. 엑셀 파일 불러오기\n",
        "path = '/content/drive/MyDrive/python/eunpyeong/2025/'\n",
        "df = pd.read_excel(f'{path}thirdyear_questionaire_beforecleaning.xlsx')\n",
        "\n",
        "\n",
        "# 2. 복수응답 처리 함수 정의\n",
        "def map_multiple_answers(cell, mapping):\n",
        "    if pd.isna(cell):  # 결측값 처리\n",
        "        return None\n",
        "    try:\n",
        "        items = [int(i.strip()) for i in str(cell).split(',')]\n",
        "        mapped = [mapping.get(i, str(i)) for i in items]\n",
        "        return ', '.join(mapped)\n",
        "    except:\n",
        "        return cell  # 예외 발생 시 원래 값 반환\n",
        "\n",
        "\n",
        "# 3. 매핑 사전 정의\n",
        "gender_map = {1: '남', 2: '여'}\n",
        "region_map = {1: '은평구', 2: '서대문구', 3: '기타'}\n",
        "major_map = {1: '인문계열', 2: '사회과학계열', 3: '자연계열,', 4: '의학계열', 5: '예체능계열', 6: '사범계열', 7: '기타'}\n",
        "admission_map = {1: '수시', 2: '정시'}\n",
        "afterschool_map = {1: '학원', 2: '과외', 3: '인터넷강의', 4: '기타', 5: '받지않음'}\n",
        "sns_map = {1: '인스타그램', 2: '카카오톡', 3: '페이스북', 4: '기타'}\n",
        "trustee_map = {1: '친구', 2: '부모', 3: '교사'}\n",
        "sleep_map = {1: '12시전', 2: '12~1시', 3: '1~2시', 4: '2~4시', 5: '4시이후'}\n",
        "workout_map = {1: '아니오', 2: '예'}\n",
        "stresscontrol_map = {1: '아니오', 2: '예'}\n",
        "afterlife_map = {1: '아니오', 2: '예'}\n",
        "phonecontrol_map = {1: '아니오', 2: '예'}\n",
        "closefriend_map = {1: '아니오', 2: '예'}\n",
        "boygirlfriend_map = {1: '아니오', 2: '예'}\n",
        "schoolpride_map = {1: '아니오', 2: '예'}\n",
        "jobselection_map = {1: '경제적이익', 2: '명예', 3: '사회봉사,', 4: '기타'}\n",
        "favoritesubject_map = {1: '국어', 2: '수학', 3: '영어,', 4: '사탐', 5: '과탐', 6: '음악', 7: '미술,', 8: '체육', 9: '정보,', 10: '기타'}\n",
        "middleschool_map = {1: '구산중', 2: '은평중', 3: '덕산중,', 4: '예일여중', 5: '기타'}\n",
        "apply_map = {1: '아니오', 2: '예'}\n",
        "willtouni_map = {1: '예', 2: '아니오'}\n",
        "sibllings_map = {1: '외동', 2: '형누나등있음', 3: '동생있음'}\n",
        "unilevel_map = {\n",
        "    1: '메디컬계열', 2: '서연고', 3: '서성한,', 4: '중경외시이', 5: '건동홍숙', 6: '국숭세과', 7: '광명상가',\n",
        "    8: '기타인서울대', 9: '경기도권대,', 10: '지거국', 11: '지방사립대', 12: '전문대,', 13: '특수목적대학', 14: '미진학'\n",
        "}\n",
        "\n",
        "# 4. 단일응답 처리\n",
        "df['성별'] = df['성별'].map(gender_map)\n",
        "df['거주지'] = df['거주지'].map(region_map)\n",
        "df['수시정시'] = df['수시정시'].map(admission_map)\n",
        "df['SNS'] = df['SNS'].map(sns_map)\n",
        "df['신뢰하는이'] = df['신뢰하는이'].map(trustee_map)\n",
        "df['취침시간'] = df['취침시간'].map(sleep_map)\n",
        "df['운동여부'] = df['운동여부'].map(workout_map)\n",
        "df['스트레스조절여부'] = df['스트레스조절여부'].map(stresscontrol_map)\n",
        "df['방과후만족여부'] = df['방과후만족여부'].map(afterlife_map)\n",
        "df['스마트폰조절여부'] = df['스마트폰조절여부'].map(phonecontrol_map)\n",
        "df['고민친구여부'] = df['고민친구여부'].map(closefriend_map)\n",
        "df['이성친구여부'] = df['이성친구여부'].map(boygirlfriend_map)\n",
        "df['학교자부심여부'] = df['학교자부심여부'].map(schoolpride_map)\n",
        "df['졸업중학교'] = df['졸업중학교'].map(middleschool_map)\n",
        "df['은평고지원여부'] = df['은평고지원여부'].map(apply_map)\n",
        "df['대학진학의사'] = df['대학진학의사'].map(willtouni_map)\n",
        "df['형제관계'] = df['형제관계'].map(sibllings_map)\n",
        "df['대학'] = df['대학'].map(unilevel_map)\n",
        "\n",
        "\n",
        "# 5. 복수응답 처리\n",
        "df['방과후수업'] = df['방과후수업'].apply(lambda x: map_multiple_answers(x, afterschool_map))\n",
        "df['직업선택이유'] = df['직업선택이유'].apply(lambda x: map_multiple_answers(x, jobselection_map))\n",
        "\n",
        "\n",
        "\n",
        "# 5. 결과 확인 (옵션)\n",
        "print(df[['성별', '대학', '계열', '내신등급', '수시정시', '방과후수업', '직업선택이유']].head())\n",
        "\n",
        "# 6. 결과 저장\n",
        "\n",
        "df.to_excel(f'{path}thirdyear_questionaire.xlsx', index=False)"
      ],
      "metadata": {
        "colab": {
          "base_uri": "https://localhost:8080/"
        },
        "id": "8KG_YVo4F4_I",
        "outputId": "832fa7a9-a08f-4789-927a-55ea83b61fc6"
      },
      "execution_count": 26,
      "outputs": [
        {
          "output_type": "stream",
          "name": "stdout",
          "text": [
            "  성별      대학  계열  내신등급 수시정시      방과후수업     직업선택이유\n",
            "0  남  특수목적대학   4     7   정시         학원         기타\n",
            "1  여    광명상가   2     5   정시  과외, 인터넷강의  경제적이익, 명예\n",
            "2  남    광명상가   1     5   정시  학원, 인터넷강의      경제적이익\n",
            "3  남     미진학   3     7   수시         학원         기타\n",
            "4  여  특수목적대학   3     6   정시     학원, 과외         기타\n"
          ]
        }
      ]
    },
    {
      "cell_type": "code",
      "source": [
        "# 방법1: '방과후수업' 열의 값별 빈도 계산\n",
        "frequency = df['방과후수업'].value_counts()\n",
        "\n",
        "print(frequency)"
      ],
      "metadata": {
        "colab": {
          "base_uri": "https://localhost:8080/"
        },
        "id": "9tRKRuTzJnW8",
        "outputId": "dd5490a5-ce1a-40b4-d5dc-4190e03296b6"
      },
      "execution_count": 30,
      "outputs": [
        {
          "output_type": "stream",
          "name": "stdout",
          "text": [
            "방과후수업\n",
            "학원, 인터넷강의        25\n",
            "받지않음             22\n",
            "학원               18\n",
            "기타                6\n",
            "인터넷강의             4\n",
            "학원, 과외, 인터넷강의     4\n",
            "과외, 인터넷강의         2\n",
            "학원, 과외            2\n",
            "과외                1\n",
            "Name: count, dtype: int64\n"
          ]
        }
      ]
    },
    {
      "cell_type": "code",
      "source": [
        "#방법2: groupby를 이용한 빈도 계산\n",
        "# 방법2: groupby를 이용한 빈도 계산\n",
        "grouped = df.groupby('방과후수업').size().sort_values(ascending=False)\n",
        "print(grouped)"
      ],
      "metadata": {
        "colab": {
          "base_uri": "https://localhost:8080/"
        },
        "id": "HVgNRsVTJ8qT",
        "outputId": "906ae36d-0b39-4285-9283-5fecaaa26ce1"
      },
      "execution_count": 33,
      "outputs": [
        {
          "output_type": "stream",
          "name": "stdout",
          "text": [
            "방과후수업\n",
            "학원, 인터넷강의        25\n",
            "받지않음             22\n",
            "학원               18\n",
            "기타                6\n",
            "학원, 과외, 인터넷강의     4\n",
            "인터넷강의             4\n",
            "과외, 인터넷강의         2\n",
            "학원, 과외            2\n",
            "과외                1\n",
            "dtype: int64\n"
          ]
        }
      ]
    },
    {
      "cell_type": "code",
      "source": [
        "# 방법2: groupby를 이용한 빈도 계산\n",
        "grouped = df.groupby('직업선택이유').size().sort_values(ascending=False)\n",
        "print(grouped)"
      ],
      "metadata": {
        "colab": {
          "base_uri": "https://localhost:8080/"
        },
        "id": "LCV7Ocinh-Dd",
        "outputId": "fd9b6c2a-7693-4827-b55c-1dadcb157c1f"
      },
      "execution_count": 34,
      "outputs": [
        {
          "output_type": "stream",
          "name": "stdout",
          "text": [
            "직업선택이유\n",
            "기타              27\n",
            "경제적이익           21\n",
            "경제적이익, 명예       13\n",
            "명예, 기타           7\n",
            "명예               6\n",
            "경제적이익, 기타        4\n",
            "명예, 사회봉사,        4\n",
            "경제적이익, 사회봉사,     2\n",
            "dtype: int64\n"
          ]
        }
      ]
    },
    {
      "cell_type": "code",
      "source": [
        "#직업선택이유의 서술형 응답 내용과 빈도 분석\n",
        "df['ques_19 (보기 4번 서술)'].value_counts()"
      ],
      "metadata": {
        "colab": {
          "base_uri": "https://localhost:8080/",
          "height": 962
        },
        "id": "pDrQS5PgiHrE",
        "outputId": "0e432a72-8298-4623-a8a4-5935a2b758a4"
      },
      "execution_count": 37,
      "outputs": [
        {
          "output_type": "execute_result",
          "data": {
            "text/plain": [
              "ques_19 (보기 4번 서술)\n",
              "모름                                                        1\n",
              "운동하는걸 좋아해서                                                1\n",
              "비공개                                                       1\n",
              "배우고 싶기 때문입니다.                                             1\n",
              "체육을 좋아하기 때문이다                                             1\n",
              "나의 행복(부업)                                                 1\n",
              "사회를 좋아하고 국수영 중에는 수학을 좋아해서 수학,사회를 다 결합하고 있는 경영쪽을 선택하게 됨    1\n",
              "재밌을것같다                                                    1\n",
              "편집에 관심이 많음.                                               1\n",
              "흥미                                                        1\n",
              "부모님 도움                                                    1\n",
              "태권도가 좋아서                                                  1\n",
              "어릴 때부터 컴퓨터 자격증을 따는 등 미디어와 가장 오래 접해있었기 때문에 선택했습니다.         1\n",
              "진심으로 좋아해서                                                 1\n",
              "내가 잘 할 것 같은 일                                             1\n",
              "원래 노래를 좋아했어서                                              1\n",
              "재밌을 거 같고 멋있어서                                             1\n",
              "관심이 있고 재밌을거같아서                                            1\n",
              "나의 즐거움                                                    1\n",
              "없음                                                        1\n",
              "내가 좋아하는 것 이라서                                             1\n",
              "영향                                                        1\n",
              "그냥 하고 싶어서                                                 1\n",
              "내가 하고싶은 일을 하는 게 꿈이여서                                      1\n",
              "행복                                                        1\n",
              "재미를 주고 싶어서                                                1\n",
              "사람들을 많이 만나고 싶어서                                           1\n",
              "Name: count, dtype: int64"
            ],
            "text/html": [
              "<div>\n",
              "<style scoped>\n",
              "    .dataframe tbody tr th:only-of-type {\n",
              "        vertical-align: middle;\n",
              "    }\n",
              "\n",
              "    .dataframe tbody tr th {\n",
              "        vertical-align: top;\n",
              "    }\n",
              "\n",
              "    .dataframe thead th {\n",
              "        text-align: right;\n",
              "    }\n",
              "</style>\n",
              "<table border=\"1\" class=\"dataframe\">\n",
              "  <thead>\n",
              "    <tr style=\"text-align: right;\">\n",
              "      <th></th>\n",
              "      <th>count</th>\n",
              "    </tr>\n",
              "    <tr>\n",
              "      <th>ques_19 (보기 4번 서술)</th>\n",
              "      <th></th>\n",
              "    </tr>\n",
              "  </thead>\n",
              "  <tbody>\n",
              "    <tr>\n",
              "      <th>모름</th>\n",
              "      <td>1</td>\n",
              "    </tr>\n",
              "    <tr>\n",
              "      <th>운동하는걸 좋아해서</th>\n",
              "      <td>1</td>\n",
              "    </tr>\n",
              "    <tr>\n",
              "      <th>비공개</th>\n",
              "      <td>1</td>\n",
              "    </tr>\n",
              "    <tr>\n",
              "      <th>배우고 싶기 때문입니다.</th>\n",
              "      <td>1</td>\n",
              "    </tr>\n",
              "    <tr>\n",
              "      <th>체육을 좋아하기 때문이다</th>\n",
              "      <td>1</td>\n",
              "    </tr>\n",
              "    <tr>\n",
              "      <th>나의 행복(부업)</th>\n",
              "      <td>1</td>\n",
              "    </tr>\n",
              "    <tr>\n",
              "      <th>사회를 좋아하고 국수영 중에는 수학을 좋아해서 수학,사회를 다 결합하고 있는 경영쪽을 선택하게 됨</th>\n",
              "      <td>1</td>\n",
              "    </tr>\n",
              "    <tr>\n",
              "      <th>재밌을것같다</th>\n",
              "      <td>1</td>\n",
              "    </tr>\n",
              "    <tr>\n",
              "      <th>편집에 관심이 많음.</th>\n",
              "      <td>1</td>\n",
              "    </tr>\n",
              "    <tr>\n",
              "      <th>흥미</th>\n",
              "      <td>1</td>\n",
              "    </tr>\n",
              "    <tr>\n",
              "      <th>부모님 도움</th>\n",
              "      <td>1</td>\n",
              "    </tr>\n",
              "    <tr>\n",
              "      <th>태권도가 좋아서</th>\n",
              "      <td>1</td>\n",
              "    </tr>\n",
              "    <tr>\n",
              "      <th>어릴 때부터 컴퓨터 자격증을 따는 등 미디어와 가장 오래 접해있었기 때문에 선택했습니다.</th>\n",
              "      <td>1</td>\n",
              "    </tr>\n",
              "    <tr>\n",
              "      <th>진심으로 좋아해서</th>\n",
              "      <td>1</td>\n",
              "    </tr>\n",
              "    <tr>\n",
              "      <th>내가 잘 할 것 같은 일</th>\n",
              "      <td>1</td>\n",
              "    </tr>\n",
              "    <tr>\n",
              "      <th>원래 노래를 좋아했어서</th>\n",
              "      <td>1</td>\n",
              "    </tr>\n",
              "    <tr>\n",
              "      <th>재밌을 거 같고 멋있어서</th>\n",
              "      <td>1</td>\n",
              "    </tr>\n",
              "    <tr>\n",
              "      <th>관심이 있고 재밌을거같아서</th>\n",
              "      <td>1</td>\n",
              "    </tr>\n",
              "    <tr>\n",
              "      <th>나의 즐거움</th>\n",
              "      <td>1</td>\n",
              "    </tr>\n",
              "    <tr>\n",
              "      <th>없음</th>\n",
              "      <td>1</td>\n",
              "    </tr>\n",
              "    <tr>\n",
              "      <th>내가 좋아하는 것 이라서</th>\n",
              "      <td>1</td>\n",
              "    </tr>\n",
              "    <tr>\n",
              "      <th>영향</th>\n",
              "      <td>1</td>\n",
              "    </tr>\n",
              "    <tr>\n",
              "      <th>그냥 하고 싶어서</th>\n",
              "      <td>1</td>\n",
              "    </tr>\n",
              "    <tr>\n",
              "      <th>내가 하고싶은 일을 하는 게 꿈이여서</th>\n",
              "      <td>1</td>\n",
              "    </tr>\n",
              "    <tr>\n",
              "      <th>행복</th>\n",
              "      <td>1</td>\n",
              "    </tr>\n",
              "    <tr>\n",
              "      <th>재미를 주고 싶어서</th>\n",
              "      <td>1</td>\n",
              "    </tr>\n",
              "    <tr>\n",
              "      <th>사람들을 많이 만나고 싶어서</th>\n",
              "      <td>1</td>\n",
              "    </tr>\n",
              "  </tbody>\n",
              "</table>\n",
              "</div><br><label><b>dtype:</b> int64</label>"
            ]
          },
          "metadata": {},
          "execution_count": 37
        }
      ]
    },
    {
      "cell_type": "markdown",
      "source": [],
      "metadata": {
        "id": "Oz8ICcpDDzmH"
      }
    },
    {
      "cell_type": "code",
      "source": [
        "#get 함수 사용 예시\n",
        "mapping = {1: '사과', 2: '바나나'}\n",
        "items = [1, 2, 3]\n",
        "\n",
        "mapped = [mapping.get(i, str(i)) for i in items]\n",
        "print(mapped)"
      ],
      "metadata": {
        "colab": {
          "base_uri": "https://localhost:8080/"
        },
        "id": "XbtxT4qRdQqg",
        "outputId": "d7d3c1ee-9159-412e-9ee2-545b3c2aee23"
      },
      "execution_count": 32,
      "outputs": [
        {
          "output_type": "stream",
          "name": "stdout",
          "text": [
            "['사과', '바나나', '3']\n"
          ]
        }
      ]
    }
  ]
}