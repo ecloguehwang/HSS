{
  "nbformat": 4,
  "nbformat_minor": 0,
  "metadata": {
    "colab": {
      "provenance": [],
      "mount_file_id": "1YNO_2_g1iti1IVS6wMjx4Vfgs-yS3XP-",
      "authorship_tag": "ABX9TyNbUTra3R0roN7CBcSY+5pT",
      "include_colab_link": true
    },
    "kernelspec": {
      "name": "python3",
      "display_name": "Python 3"
    },
    "language_info": {
      "name": "python"
    },
    "gpuClass": "standard"
  },
  "cells": [
    {
      "cell_type": "markdown",
      "metadata": {
        "id": "view-in-github",
        "colab_type": "text"
      },
      "source": [
        "<a href=\"https://colab.research.google.com/github/ecloguehwang/HSS/blob/master/%ED%95%A9%EB%B6%88%EC%82%B0%EC%B6%9C%ED%86%B5%ED%95%A9_D%EA%B3%A0RPA_%EA%B5%90%EC%82%AC%EC%9A%A9.ipynb\" target=\"_parent\"><img src=\"https://colab.research.google.com/assets/colab-badge.svg\" alt=\"Open In Colab\"/></a>"
      ]
    },
    {
      "cell_type": "code",
      "source": [
        "#pandas, openpyxl 라이브러리 부르기\n",
        "import pandas as pd\n",
        "import numpy as np\n",
        "import os\n",
        "import openpyxl\n",
        "import csv\n",
        "from tabulate import tabulate\n",
        "\n",
        "\n",
        "##  데이터 부르기\n",
        "path = '/content/drive/MyDrive/python/deungchon/'\n",
        "df = pd.read_csv(f'{path}susi_jsi.csv', encoding = 'cp949')\n",
        "#df = pd.read_csv(f'{path}susi_jsi_noname.csv', encoding = 'cp949')\n",
        "\n",
        "# 첫 5줄을 봅니다.\n",
        "df.head(1)"
      ],
      "metadata": {
        "id": "8R5FWLi09yc1"
      },
      "execution_count": null,
      "outputs": []
    },
    {
      "cell_type": "markdown",
      "source": [
        "#합격자 순서\n",
        "###1.의치한약수\n",
        "###2.서울주요대(15개)\n",
        "###3.특수대\n",
        "###4.인서울대(서울주요대 제외한 4년제)\n",
        "###5.경기, 인천소재 대학\n",
        "###6.인서울 및 경기 4년대 - 서울16 주요대 제외\n",
        "###7.지원횟수가 궁금한 대학"
      ],
      "metadata": {
        "id": "Z-X1EsZRubRF"
      }
    },
    {
      "cell_type": "code",
      "source": [
        "#1.의치한약수(ex: 의학 등) 합격자 명단 찾기\n",
        "df_medi = df['모집단위'].str.contains('^[의치한약수]예+')\n",
        "subset_df = df[df_medi]\n",
        "subset_df_p = subset_df[(subset_df.최종 == '합')]\n",
        "subset_df_p = subset_df_p[['수시정시', '학번', '이름', '대학', '모집단위', '전형분류', '최종', '내신_전과목', '등급_평균', '백분위_평균', '표점합']]\n",
        "\n",
        "subset_df_p['내신_전과목'] = subset_df_p['내신_전과목'].round(1)\n",
        "\n",
        "# Define the table headers\n",
        "table_headers = ['수시정시', '학번', '이름', '대학', '모집단위', '전형분류', '최종', '내신_전과목', '등급_평균', '백분위_평균', '표점합']\n",
        "\n",
        "# Create the formatted table using tabulate\n",
        "table_string = tabulate(subset_df_p, headers=table_headers, tablefmt='plain')\n",
        "\n",
        "print(\"***2023학년도 등촌고 의치한약수 합격자 명단***\")\n",
        "print(table_string)\n",
        "print(\"--------------------------------------------------------------------\")\n",
        "print(\"2023학년도 D고 의치한약수 합격자는 %d명입니다(복수합격 포함).\" % len(subset_df_p))\n",
        "\n",
        "\n",
        "#데이터 프레임으로 전환\n",
        "subset_df_p = pd.DataFrame(subset_df_p)\n",
        "\n",
        "#결과를 엑셀로 저장\n",
        "subset_df_p.to_excel(excel_writer= '/content/drive/MyDrive/python/deungchon/result_d/medical.xlsx')"
      ],
      "metadata": {
        "id": "0sOI6x8A6Fnw"
      },
      "execution_count": null,
      "outputs": []
    },
    {
      "cell_type": "code",
      "source": [
        "#2.서울 주요대(15개대) 합격자 명단 및 합격건수\n",
        "\n",
        "import os\n",
        "import pandas as pd\n",
        "\n",
        "uni = ['서울대', '연세대', '고려대', '서강대', '성균관대', '한양대', '중앙대', '경희대', '한국외대', '서울시립대', '이화여대', '건국대', '동국대', '홍익대', '숙명여대']\n",
        "\n",
        "print(\"***2023학년도 서울 주요대학 수시합격자 명단***\\n\")\n",
        "\n",
        "# Create an empty DataFrame to store the results\n",
        "df_result = pd.DataFrame()\n",
        "\n",
        "for u in range(len(uni)):\n",
        "    df_u = df[(df.대학 == uni[u]) & (df.최종 == '합')]\n",
        "    print(\"%s 대학 합격자\" % uni[u])\n",
        "    df_u = df_u[['수시정시', '학번', '이름', '대학', '모집단위', '전형분류', '최종', '내신_전과목', '등급_평균', '백분위_평균']]\n",
        "    df_u['내신_전과목'] = df_u['내신_전과목'].round(1)\n",
        "    df_u['백분위_평균'] = df_u['백분위_평균'].round(1)\n",
        "\n",
        "    # Define the table headers\n",
        "    table_headers = ['수시정시', '학번', '이름', '대학', '모집단위', '전형분류', '최종', '내신_전과목', '등급_평균', '백분위_평균']\n",
        "\n",
        "    # Create the formatted table using tabulate\n",
        "    table_string = tabulate(df_u, headers=table_headers, tablefmt='plain')\n",
        "    print(table_string)\n",
        "    print(\"---------------------------------------------------------------------------------------------------------------------------------------\")\n",
        "\n",
        "    # Append the results to the df_result DataFrame\n",
        "    df_result = pd.concat([df_result, df_u])\n",
        "\n",
        "\n",
        "# Save the results to an Excel file\n",
        "if not os.path.exists('/content/drive/MyDrive/python/deungchon/result_d/uni_main.xlsx'):\n",
        "    df_result.to_excel('/content/drive/MyDrive/python/deungchon/result_d/uni_main.xlsx', index=False, header=True)\n",
        "else:\n",
        "    df_result.to_excel('/content/drive/MyDrive/python/deungchon/result_d/uni_main.xlsx', index=False, header=True)\n",
        "\n",
        "\n",
        "\n",
        "# 서울 주요대학 수시합격자수 출력\n",
        "print(\"\\n***2023학년도 D고 합격건수***\")\n",
        "\n",
        "total_accepted = 0  # Variable to store the total number of accepted students\n",
        "\n",
        "for u in range(len(uni)):\n",
        "    df_u = df[(df.대학 == uni[u]) & (df.최종 == '합')]\n",
        "    df_u = df_u[['학번', '대학', '최종']]\n",
        "    accepted_count = len(df_u['대학'])\n",
        "    total_accepted += accepted_count\n",
        "    print(uni[u], str(accepted_count) + \"건\")\n",
        "\n",
        "print(\"\\n총 합격자 수:\", total_accepted, \"건\")"
      ],
      "metadata": {
        "id": "96uPZ0anOyT_"
      },
      "execution_count": null,
      "outputs": []
    },
    {
      "cell_type": "code",
      "source": [
        "#3.특수대 합격자 명단 출력\n",
        "sp = ['경찰대', '육군사관학교', '해군사관학교', '공군사관학교', '국군간호사관학교', '광주과학기술원', '대구경북과학기술원', '울산과학기술대학교', '한국과학기술원', '한국예술종합학교']\n",
        "\n",
        "# Create an empty DataFrame to store the results\n",
        "df_result = pd.DataFrame()\n",
        "\n",
        "print(\"***2023학년도 등촌고 특수대 합격자 명단***\\n\")\n",
        "for u in range(len(sp)):\n",
        "    df_특수대 = df[(df.대학 == sp[u]) & (df.최종 == '합')]\n",
        "    df_특수대 = df_특수대[['수시정시', '학번', '대학', '모집단위', '전형분류', '최종', '내신_전과목', '등급_평균' ]]\n",
        "    print(\"%s 대학 합격자\" % sp[u])\n",
        "    #print(\"{} 대학 합격자는 {}명\" .format(sp[u] len(df_특수대)))\n",
        "    print(df_특수대)\n",
        "    print(\"--------------------------------------------------------\")\n",
        "\n",
        "# Append the results to the df_result DataFrame\n",
        "    df_result = pd.concat([df_result, df_특수대])\n",
        "\n",
        "\n",
        "# Save the results to an Excel file\n",
        "if not os.path.exists('/content/drive/MyDrive/python/deungchon/result_d/uni_sp.xlsx'):\n",
        "    df_result.to_excel('/content/drive/MyDrive/python/deungchon/result_d/uni_sp.xlsx', index=False, header=True)\n",
        "else:\n",
        "    df_result.to_excel('/content/drive/MyDrive/python/deungchon/result_d/uni_sp.xlsx', index=False, header=True)\n",
        "\n",
        "\n",
        "# 특수대 합격자수\n",
        "print(\"\\n***2023학년도  D고 특수대 합격자수***\")\n",
        "\n",
        "sp = ['경찰대', '육군사관학교', '해군사관학교', '공군사관학교', '국군간호사관학교', '광주과학기술원', '대구경북과학기술원', '울산과학기술대학교', '한국과학기술원', '한국예술종합학교']\n",
        "\n",
        "for u in range(len(sp)):\n",
        "    df_특수대 = df[(df.대학 == sp[u]) & (df.최종 == '합')]\n",
        "    df_특수대 = df_특수대[['학번', '대학', '모집단위', '전형분류', '최종']]\n",
        "print(\"2023학년도 등촌고 특수대 수시합격자수는 %d명입니다.\" % len(df_특수대))\n"
      ],
      "metadata": {
        "id": "QKVy5_9Dta3v"
      },
      "execution_count": null,
      "outputs": []
    },
    {
      "cell_type": "code",
      "source": [
        "#4.서울주요대 제외한 인서울대 합격자: 서울 주요대(15개대 - ace리스트)와 전문대 제외\n",
        "\n",
        "import pandas as pd\n",
        "df = pd.read_csv('/content/drive/MyDrive/python/deungchon/susi_jsi.csv', encoding = 'cp949')\n",
        "\n",
        "#4가지 조건(지역, 최종, ace대학 제외, 전문대학 제외)으로 검색\n",
        "\n",
        "#14개 서울주용대학 리스트\n",
        "ace = ['서울대', '연세대', '고려대', '서강대', '성균관대', '한양대', '이화여대', '중앙대', '경희대', '한국외대', '서울시립대', '건국대', '동국대', '홍익대']\n",
        "\n",
        "\n",
        "#4가지 조건\n",
        "seoul_df = df[(df.지역 == '서울') & (df.최종 == '합') & ~(df.대학.isin(ace)) & ~(df.대학.str.contains(\"대학\"))]\n",
        "seoul_df_num = len(seoul_df)\n",
        "\n",
        "#필요한 변수(열)만 불러옴\n",
        "seoul_df = seoul_df[['수시정시', '학번', '이름', '대학', '모집단위', '전형분류', '최종', '내신_전과목', '등급_평균', '백분위_평균', '표점합']]\n",
        "\n",
        "# Define the table headers\n",
        "table_headers = ['수시정시', '학번', '이름', '대학', '모집단위', '전형분류', '최종', '내신_전과목', '등급_평균', '백분위_평균', '표점합']\n",
        "\n",
        "# Create the formatted table using tabulate\n",
        "table_string = tabulate(seoul_df, headers=table_headers, tablefmt='plain')\n",
        "print(table_string)\n",
        "\n",
        "\n",
        "#인서울대 합격자수\n",
        "print(\"\\n---------------------------------------------------------------------------------------\")\n",
        "\n",
        "#print(\"2023학년도  D고 14개 서울주요대와 전문대를 제외한 인서울 수시합격자수는 %d건입니다.(중복합격 포함)\" % len(seoul_df))\n",
        "print(f\"2023학년도  D고 14개 서울주요대와 전문대를 제외한 인서울 수시합격자수는 {seoul_df_num}건입니다.(중복합격 포함)\" )\n",
        "\n",
        "\n",
        "#데이터 프레임으로 전환\n",
        "seoul_df_p = pd.DataFrame(seoul_df)\n",
        "\n",
        "#결과를 엑셀로 저장\n",
        "seoul_df_p.to_excel(excel_writer= '/content/drive/MyDrive/python/deungchon/result_d/inseoul.xlsx')\n"
      ],
      "metadata": {
        "id": "BzA_Ac_XJWGW"
      },
      "execution_count": null,
      "outputs": []
    },
    {
      "cell_type": "code",
      "source": [
        "#5.경기, 인천지역 대학 합격자 명단\n",
        "\n",
        "#라이브러리\n",
        "import pandas as pd\n",
        "from tabulate import tabulate\n",
        "\n",
        "\n",
        "df = pd.read_csv('/content/drive/MyDrive/python/deungchon/susi_jsi.csv', encoding = 'cp949')\n",
        "\n",
        "\n",
        "#(지역, 최종)으로 검색\n",
        "kg_df = df[((df.지역 == '경기') | (df.지역 == '인천')) & (df.최종 == '합') & ~(df.대학.str.contains(\"대학교\")) & ~(df.대학.str.contains(\"공업전문대학\"))]\n",
        "\n",
        "\n",
        "#필요한 변수(열)만 불러옴\n",
        "kg_df = kg_df[['수시정시', '지역', '학번', '이름', '대학', '모집단위', '최종', '내신_전과목', '등급_평균', '전형분류']]\n",
        "\n",
        "\n",
        "kg_df['내신_전과목'] = kg_df['내신_전과목'].round(1)\n",
        "\n",
        "# Define the table headers\n",
        "table_headers = ['수시정시', '지역', '학번', '이름', '대학', '모집단위', '최종', '내신_전과목', '등급_평균', '전형분류']\n",
        "\n",
        "\n",
        "# Create the formatted table using tabulate\n",
        "table_string = tabulate(kg_df, headers=table_headers, tablefmt='plain')\n",
        "print(table_string)\n",
        "\n",
        "\n",
        "#경기지역 합격자수\n",
        "print(\"\\n---------------------------------------------------------------------------------------\")\n",
        "\n",
        "print(f\"2023학년도  D고 경기, 인천지역 대학 합격자수는 {len(kg_df)}건입니다.(중복합격 포함)\")\n",
        "\n",
        "\n",
        "#데이터 프레임으로 전환\n",
        "kg_df_p = pd.DataFrame(kg_df)\n",
        "\n",
        "#결과를 엑셀로 저장\n",
        "kg_df_p.to_excel(excel_writer= '/content/drive/MyDrive/python/deungchon/result_d/keongi_incheon.xlsx')"
      ],
      "metadata": {
        "id": "gX46Zr1PcYw0"
      },
      "execution_count": null,
      "outputs": []
    },
    {
      "cell_type": "code",
      "source": [
        "# 6. 인서울 및 경기지역 4년제 대학 - 서울 주요대(ace리스트)를 제외\n",
        "\n",
        "import pandas as pd\n",
        "df = pd.read_csv('/content/drive/MyDrive/python/deungchon/susi_jsi.csv', encoding = 'cp949')\n",
        "\n",
        "\n",
        "#3가지 조건(지역, 최종, ace대학 제외, 전문대학 제외)으로 검색\n",
        "ace = ['서울대', '연세대', '고려대', '서강대', '성균관대', '한양대', '이화여대', '중앙대', '경희대', '한국외대', '서울시립대', '건국대', '동국대', '홍익대']\n",
        "city = ['서울', '경기']\n",
        "\n",
        "#지역, 최종, ace대학 제외\n",
        "seoul_df = df[(df.지역.isin(city)) & (df.최종 == '합') & ~(df.대학.isin(ace)) & ~(df.대학.str.contains(\"대학교\"))]\n",
        "seoul_df\n",
        "\n",
        "\n",
        "#필요한 변수(열)만 불러옴\n",
        "seoul_df = seoul_df[['수시정시', '지역', '학번', '이름', '대학', '모집단위', '최종', '내신_전과목', '등급_평균']]\n",
        "\n",
        "\n",
        "#합격자수\n",
        "print(\"\\n---------------------------------------------------------------------------------------\")\n",
        "print(\"2023학년도  D고 서울주요대를 제외한 인서울대와 경기지역 대학 합격자수는 %d건입니다.(중복합격 포함)\" % len(seoul_df))\n",
        "\n",
        "\n",
        "#데이터 프레임으로 전환\n",
        "seoul_df_p = pd.DataFrame(seoul_df)\n",
        "\n",
        "#결과를 엑셀로 저장\n",
        "seoul_df_p.to_excel(excel_writer= '/content/drive/MyDrive/python/deungchon/result_d/inseoul_kg.xlsx')"
      ],
      "metadata": {
        "id": "Xa2gnJHbCyC2"
      },
      "execution_count": null,
      "outputs": []
    },
    {
      "cell_type": "code",
      "source": [
        "#이름으로 백분위 점수 조회\n",
        "name = input(\"이름:\")\n",
        "df_name = df[(df.이름 == name)]\n",
        "df_name = df_name[['학번', '이름', '대학',  '모집단위', '최종', '전형분류', '내신_전과목', '등급_평균', '등급_평균', '표점합', '백분위_평균', '전형명', '전형분류', '전형명', '전형방법']]\n",
        "\n",
        "df_name['내신_전과목'] = df_name['내신_전과목'].round(1)\n",
        "df_name"
      ],
      "metadata": {
        "id": "U-0HL-hDOIgQ"
      },
      "execution_count": null,
      "outputs": []
    },
    {
      "cell_type": "markdown",
      "source": [
        "#tabulate 라이브러리 표 옵션\n",
        "##from tabulate import tabulate\n",
        "The tabulate function in the tabulate library provides various table formats for displaying tabular data. Here are some commonly used tablefmt options:\n",
        "\n",
        "\"plain\": Simple plain-text table format.\n",
        "\"simple\": A simplified version of the plain table format.\n",
        "\"grid\": Tables with grid lines.\n",
        "\"fancy_grid\": Tables with rounded corners and grid lines.\n",
        "\"pipe\": Tables using pipe characters for borders.\n",
        "\"orgtbl\": Tables using the Emacs org-mode table format.\n",
        "\"jira\": Tables using the Jira wiki table format.\n",
        "\"presto\": Tables using the Presto Markdown table format.\n",
        "\"pretty\": Tables with a customizable layout and formatting.\n",
        "\"psql\": Tables in the style of PostgreSQL command-line interface.\n",
        "\"rst\": Tables using the reStructuredText table format.\n",
        "\"mediawiki\": Tables using the MediaWiki table format.\n",
        "\"html\": Tables as HTML markup."
      ],
      "metadata": {
        "id": "G1rsVrXkg4Pm"
      }
    },
    {
      "cell_type": "code",
      "source": [
        "#지원자수가 궁금한 대학 파악: 1.이름 2.엑셀결과를 00대로 자동저장  3.결과 오름차순 정렬\n",
        "\n",
        "from tabulate import tabulate\n",
        "import pandas as pd\n",
        "\n",
        "uni = input(\"지원횟수가 궁금한 대학:\")\n",
        "\n",
        "# Find strings containing the input 'uni' in '대학' column\n",
        "df_대학 = df['대학'].str.contains(uni, regex=False)\n",
        "\n",
        "# 지방캠퍼스 대학 제외 ex)동국대(경주)\n",
        "df_대학 = df_대학 & ~df['대학'].str.contains('[()]+', regex=True)\n",
        "\n",
        "subset_df = df[df_대학]\n",
        "subset_df_p = subset_df[(subset_df['최종'] == '합') | (subset_df['최종'] == '불')]\n",
        "subset_df_p = subset_df_p[['수시정시', '학번', '이름', '대학', '모집단위', '전형분류', '최종', '내신_전과목', '등급_평균']]\n",
        "\n",
        "# Sort the DataFrame by '내신_전과목' column in ascending order\n",
        "subset_df_p = subset_df_p.sort_values(by='내신_전과목', ascending=True)\n",
        "\n",
        "subset_df_p_applicants = len(subset_df_p)\n",
        "\n",
        "# Convert DataFrame to a list of lists for tabulate\n",
        "table_data = subset_df_p.values.tolist()\n",
        "\n",
        "# Define the table headers\n",
        "table_headers = ['수시정시', '학번', '이름', '대학', '모집단위', '전형분류', '최종', '내신_전과목', '등급_평균']\n",
        "\n",
        "# Format the columns '내신_전과목' and '등급_평균' with two decimal places\n",
        "table_data_formatted = []\n",
        "for row in table_data:\n",
        "    formatted_row = row[:7]  # Copy the first 7 columns as-is\n",
        "    formatted_row.append(f\"{row[7]:.2f}\")  # Format '내신_전과목' with two decimal places\n",
        "    formatted_row.append(f\"{row[8]:.1f}\")  # Format '등급_평균' with two decimal places\n",
        "    table_data_formatted.append(formatted_row)\n",
        "\n",
        "# Create the formatted table using tabulate\n",
        "table_string = tabulate(table_data_formatted, headers=table_headers, tablefmt='plain')\n",
        "\n",
        "print(table_string)\n",
        "print(f\"\\n{uni}대 지원횟수는 총 {subset_df_p_applicants}건입니다.\")\n",
        "\n",
        "# Save the sorted DataFrame to an Excel file with a dynamic file name\n",
        "excel_filename = f\"/content/drive/MyDrive/python/deungchon/result_d/{uni}대_fullname.xlsx\"\n",
        "subset_df_p.to_excel(excel_filename, index=False)\n",
        "print(f\"결과가 '{excel_filename}'에 저장되었습니다.\")\\\n"
      ],
      "metadata": {
        "id": "rwnexuPjrt39"
      },
      "execution_count": null,
      "outputs": []
    },
    {
      "cell_type": "code",
      "source": [
        "#지원자수가 궁금한 대학 파악: 결과를 익명으로 보여줌 - 1.성+이름(*) 2.엑셀결과를 00대로 자동저장  3.결과 오름차순 정렬\n",
        "\n",
        "from tabulate import tabulate\n",
        "import pandas as pd\n",
        "\n",
        "uni = input(\"지원횟수가 궁금한 대학:\")\n",
        "\n",
        "# Find strings containing the input 'uni' in '대학' column\n",
        "df_대학 = df['대학'].str.contains(uni, regex=False)\n",
        "\n",
        "\n",
        "# 지방캠퍼스 대학 제외 ex)동국대(경주)\n",
        "df_대학 = df_대학 & ~df['대학'].str.contains('[()]+', regex=True)\n",
        "\n",
        "\n",
        "subset_df = df[df_대학]\n",
        "subset_df_p = subset_df[(subset_df['최종'] == '합') | (subset_df['최종'] == '불')]\n",
        "\n",
        "\n",
        "# 이름 일부 익명처리 - 이름의 세 글자중 세번째 글자를 별표 표시, 네번째 글자부터는 그대로 표시\n",
        "subset_df_p['이름'] = subset_df_p['이름'].apply(lambda x: x[:2] + '*' + x[3:] if len(x) >= 3 else x[:2])\n",
        "\n",
        "subset_df_p = subset_df_p[['수시정시', '학번', '이름', '대학', '모집단위', '전형분류', '최종', '내신_전과목', '등급_평균']]\n",
        "\n",
        "# Sort the DataFrame by '내신_전과목' column in ascending order\n",
        "subset_df_p = subset_df_p.sort_values(by='내신_전과목', ascending=True)\n",
        "\n",
        "subset_df_p_applicants = len(subset_df_p)\n",
        "\n",
        "# Convert DataFrame to a list of lists for tabulate\n",
        "table_data = subset_df_p.values.tolist()\n",
        "\n",
        "# Define the table headers\n",
        "table_headers = ['수시정시', '학번', '이름', '대학', '모집단위', '전형분류', '최종', '내신_전과목', '등급_평균']\n",
        "\n",
        "# Format the columns '내신_전과목' and '등급_평균' with two decimal places\n",
        "table_data_formatted = []\n",
        "for row in table_data:\n",
        "    formatted_row = row[:7]  # Copy the first 7 columns as-is\n",
        "    formatted_row.append(f\"{row[7]:.2f}\")  # Format '내신_전과목' with two decimal places\n",
        "    formatted_row.append(f\"{row[8]:.1f}\")  # Format '등급_평균' with two decimal places\n",
        "    table_data_formatted.append(formatted_row)\n",
        "\n",
        "# Create the formatted table using tabulate\n",
        "table_string = tabulate(table_data_formatted, headers=table_headers, tablefmt='plain')\n",
        "\n",
        "print(table_string)\n",
        "print(f\"\\n{uni}대 지원횟수는 총 {subset_df_p_applicants}건입니다.\")\n",
        "\n",
        "# Save the sorted DataFrame to an Excel file with a dynamic file name\n",
        "excel_filename = f\"/content/drive/MyDrive/python/deungchon/result_d/{uni}_익명.xlsx\"\n",
        "subset_df_p.to_excel(excel_filename, index=False)\n",
        "print(f\"결과가 '{excel_filename}'에 저장되었습니다.\")"
      ],
      "metadata": {
        "id": "INpRsazwpNpw"
      },
      "execution_count": null,
      "outputs": []
    },
    {
      "cell_type": "code",
      "source": [
        "#특정 백분위 구간의 점수별 빈도(ex: 80~85%사이의 빈도수)\n",
        "mi = int(input(\"이상:\"))\n",
        "mx = int(input(\"미만:\"))\n",
        "\n",
        "\n",
        "# mx이상 mi이하 조건을 충족하는 객체 만들기\n",
        "df_interval = df[(df.백분위_평균 >= mi) & (df.백분위_평균 < mx)]\n",
        "\n",
        "#중복학생을 제외하고 1개만 남김\n",
        "df_interval = df_interval.drop_duplicates('이름')\n",
        "\n",
        "df_interval_name = df_interval[['학번', '이름', '백분위_평균', '내신_전과목']].copy()\n",
        "\n",
        "\n",
        "#내신_전과목 열을 소숫점 둘째자리까지만 표시\n",
        "df_interval_name['백분위_평균'] = df_interval_name['백분위_평균'].round(1)\n",
        "\n",
        "\n",
        "#내신_전과목 열을 소숫점 둘째자리까지만 표시\n",
        "df_interval_name['내신_전과목'] = df_interval_name['내신_전과목'].round(2)\n",
        "\n",
        "\n",
        "#결과를 백분위_평균순으로 내림차순\n",
        "df_interval_name = df_interval_name.sort_values(by='백분위_평균', ascending=False)\n",
        "\n",
        "\n",
        "# Define the table headers\n",
        "table_headers = ['학번', '이름', '백분위_평균', '내신_전과목']\n",
        "\n",
        "\n",
        "# Create the formatted table using tabulate\n",
        "table_string = tabulate(df_interval_name, headers=table_headers, tablefmt='plain')\n",
        "print(table_string)\n",
        "print()\n",
        "\n",
        "\n",
        "print(\"--------------------------------------------\")\n",
        "#print(str(len(list_1))+\"명\")\n",
        "\n",
        "print(f\"백분위 {mi}%이상 {mx}% 미만 :{len(df_interval)}명\")\n",
        "#자료 https://stackoverflow.com/questions/43855474/changing-sort-in-value-counts8"
      ],
      "metadata": {
        "id": "NpPusEO9EhJA"
      },
      "execution_count": null,
      "outputs": []
    },
    {
      "cell_type": "code",
      "source": [
        "# 수능 2등급 나온 학생들의 내신과 수능백분위의 상관\n",
        "import pandas as pd\n",
        "\n",
        "import numpy as np\n",
        "from scipy.stats import pearsonr\n",
        "\n",
        "\n",
        "##  데이터 부르기\n",
        "path = '/content/drive/MyDrive/python/deungchon/'\n",
        "df = pd.read_csv(f'{path}susi_jsi.csv', encoding = 'cp949')\n",
        "\n",
        "\n",
        "#특정 백분위 구간의 점수별 빈도(ex: 80~85%사이의 빈도수)\n",
        "mi = int(input(\"이상:\"))\n",
        "mx = int(input(\"미만:\"))\n",
        "\n",
        "\n",
        "# mx이상 mi이하 조건을 충족하는 객체 만들기\n",
        "df_interval = df[(df.백분위_평균 >= mi) & (df.백분위_평균 < mx)]\n",
        "\n",
        "#중복학생을 제외하고 1개만 남김\n",
        "#df_interval = df_interval.drop_duplicates('이름')\n",
        "\n",
        "df_interval_name = df_interval[['학번', '이름', '백분위_평균', '내신_전과목']].copy()\n",
        "\n",
        "\n",
        "# 상관계수 및 p-값 계산\n",
        "corr, p_value = pearsonr(df_interval_name['내신_전과목'], df_interval_name['백분위_평균'])\n",
        "r_squared = corr ** 2\n",
        "\n",
        "# 결과 출력\n",
        "print(f\"상관계수: {corr:.2f}\")\n",
        "print(f\"p-값: {p_value:.2f}\")\n",
        "print(f\"설명력: {r_squared:.2f}\")"
      ],
      "metadata": {
        "id": "kqT6h6Ls7mjr"
      },
      "execution_count": null,
      "outputs": []
    },
    {
      "cell_type": "code",
      "source": [
        "df.info()"
      ],
      "metadata": {
        "id": "HqckDiIO2wRC"
      },
      "execution_count": null,
      "outputs": []
    },
    {
      "cell_type": "code",
      "source": [
        "#전체 합격자: 중복 합격포함 : 134건\n",
        "df_pass = df[df.최종 == '합']\n",
        "print(df_pass.count())\n",
        "\n",
        "#수시, 정시별 합격건수: 수시(123건), 정시(11건)\n",
        "df_pass.groupby(['수시정시']).count()"
      ],
      "metadata": {
        "id": "CLyrluINoxNj"
      },
      "execution_count": null,
      "outputs": []
    },
    {
      "cell_type": "code",
      "source": [
        "#중복합격자 제외\n",
        "df_pass['학번'].unique()\n",
        "\n",
        "#중복합격자수 제외한 합격자수: 71명\n",
        "df_pass['학번'].nunique()"
      ],
      "metadata": {
        "id": "7stFxfnBoZfd"
      },
      "execution_count": null,
      "outputs": []
    },
    {
      "cell_type": "code",
      "source": [
        "#이름으로 백분위 점수 조회\n",
        "name = input(\"이름:\")\n",
        "df_name = df[(df.이름 == name)]\n",
        "df_name = df_name[['학번', '이름', '대학',  '모집단위', '최종', '전형분류', '내신_전과목', '등급_평균', '등급_평균', '표점합', '백분위_평균', '전형명', '전형분류', '전형명', '전형방법']]\n",
        "\n",
        "df_name['내신_전과목'] = df_name['내신_전과목'].round(1)\n",
        "df_name"
      ],
      "metadata": {
        "id": "3Ghtsk1ikjwD"
      },
      "execution_count": null,
      "outputs": []
    },
    {
      "cell_type": "code",
      "source": [
        "#반 입력해서 해당반 학생들 출력하기 ex)302\n",
        "num = input(\"학년반 ex)301: \")\n",
        "df_num = df[df['학번'].astype(str).str.contains(num)]\n",
        "df_num = df_num[['학번', '이름', '대학', '모집단위', '내신_전과목', '등급_평균', '백분위_평균']]\n",
        "df_num"
      ],
      "metadata": {
        "id": "ayhNWWfVcSUb"
      },
      "execution_count": null,
      "outputs": []
    },
    {
      "cell_type": "code",
      "source": [
        "name = input(\"이름:\")\n",
        "df_ascend = df.sort_values('전형', ascending=True)\n",
        "df_ascend = df_ascend[(df_ascend.이름 == name)]\n",
        "print(df_ascend)"
      ],
      "metadata": {
        "id": "EHYkmZQbM1R7"
      },
      "execution_count": null,
      "outputs": []
    },
    {
      "cell_type": "markdown",
      "source": [
        "# 이름을 입력하여 내신기준 석차를 출력하는 코드 설명\n",
        "\n",
        "1)* df[df['내신_전과목'] < df_filtered['내신_전과목'].iloc[0]]* selects rows from the DataFrame where the \"내신_전과목\" value is lower than the \"내신_전과목\" value of the student whose name was input by the user. This creates a filtered DataFrame that includes all students who have a lower \"내신_전과목\" value than the input student.\n",
        "\n",
        "\n",
        "2) *.groupby('이름')['내신_전과목']* groups the filtered DataFrame by the \"이름\" column and selects the \"내신_전과목\" column. This creates a Series object that contains the \"내신_전과목\" values of all the students who have a higher \"내신_전과목\" value than the input student, grouped by name.\n",
        "\n",
        "\n",
        "3) *.nunique()* counts the number of unique \"내신_전과목\" values in the grouped Series. This effectively counts the number of students who have a higher \"내신_전과목\" value than the input student, excluding any duplicates.\n",
        "\n",
        "4) *.sum()* adds up the counts of unique \"내신_전과목\" values for all the groups. This gives the total number of students who have a higher \"내신_전과목\" value than the input student, excluding duplicates.\n",
        "\n",
        "5)* + 1* adds 1 to the total count to get the rank of the input student, since the rank is equal to the number of students with a higher \"내신_전과목\" value plus 1.\n",
        "\n",
        "6) Finally, the rank is assigned to the rank variable and returned as the output of the program."
      ],
      "metadata": {
        "id": "xCZo1hHMjs2c"
      }
    },
    {
      "cell_type": "code",
      "source": [
        "# 이름으로 학생의 내신과 석차를 확인\n",
        "\n",
        "# Get input name\n",
        "name = input(\"이름:\")\n",
        "\n",
        "# Filter DataFrame to only include rows with the input name\n",
        "df_filtered = df[df['이름'] == name]\n",
        "\n",
        "# 학생의 내신\n",
        "df_filtered_nesin = df_filtered['내신_전과목'].iloc[0].round(1)\n",
        "\n",
        "\n",
        "# Calculate rank\n",
        "# 해당 학생보다 내신 성적이 낮은 학생들의 수\n",
        "lower_scores = df[df['내신_전과목'] < df_filtered_nesin]['이름'].nunique()\n",
        "\n",
        "# 동일한 내신 성적을 가진 학생들의 수\n",
        "equal_scores = df[df['내신_전과목'] == df_filtered_nesin]['이름'].nunique() - 1\n",
        "\n",
        "# 최종 석차 계산\n",
        "rank = lower_scores + equal_scores + 1\n",
        "\n",
        "# Print the result\n",
        "print(\"********************************************\")\n",
        "print(f\"{name}의 내신은 {df_filtered_nesin}등급이고 석차는 {rank}등입니다.\")\n"
      ],
      "metadata": {
        "id": "DT0iBgLsuNeL"
      },
      "execution_count": null,
      "outputs": []
    },
    {
      "cell_type": "code",
      "source": [
        "#이름으로 해당 학생의 전체 석차를 확인: 아름다운 코드 B - 단순한 코드\n",
        "\n",
        "# Get input name\n",
        "name = input(\"이름:\")\n",
        "\n",
        "# Filter DataFrame to only include rows with the input name\n",
        "df_filtered = df[df['이름'] == name]\n",
        "\n",
        "# Calculate rank of first row in filtered DataFrame\n",
        "rank = df[df.내신_전과목 < df_filtered.내신_전과목.iloc[0]]\n",
        "rank = rank.groupby('이름')['내신_전과목'].nunique().sum() + 1\n",
        "\n",
        "# Print the result\n",
        "print(f\"{name}의 '내신_전과목' 등수는 {rank}등 입니다.\")\n"
      ],
      "metadata": {
        "id": "irih2YPruFum"
      },
      "execution_count": null,
      "outputs": []
    },
    {
      "cell_type": "code",
      "source": [
        "#내신등급을 단순 오름차순\n",
        "rank_list = sorted(list(df['내신_전과목']), reverse=False)\n",
        "print(rank_list)"
      ],
      "metadata": {
        "id": "nyJctS84wo7k"
      },
      "execution_count": null,
      "outputs": []
    },
    {
      "cell_type": "code",
      "source": [
        "#대학으로 과목별 등급과 등급_평균 조회\n",
        "name = input(\"대학:\")\n",
        "df_name = df[(df.대학 == name) & (df.최종 == '합')]\n",
        "df_name = df_name[['학번', '이름', '대학',  '모집단위', '최종', '전형명', '전형분류','내신_전과목', '백분위_평균', '표점합', '전형방법', '전형종류', '모집인원']]\n",
        "df_name"
      ],
      "metadata": {
        "id": "nlb-f3fsiKmx"
      },
      "execution_count": null,
      "outputs": []
    },
    {
      "cell_type": "code",
      "source": [
        "#학번으로 백분위 점수 조회\n",
        "code = int(input(\"학번:\"))\n",
        "df_code = df[(df.학번 == code)]\n",
        "df_code = df_code[['학번', '이름', '대학',  '모집단위', '최종', '등급_평균']]\n",
        "df_code"
      ],
      "metadata": {
        "id": "YjMiyq63Mcnh"
      },
      "execution_count": null,
      "outputs": []
    },
    {
      "cell_type": "code",
      "source": [
        "#대학유형 지원율: 수시93%, 정시7% / 4년제 80% vs. 전문대 20%\n",
        "#수시정시, 대학유형별 지원빈도\n",
        "df_unitype = df.groupby(['수시정시', '대학유형']).count()\n",
        "df_unitype"
      ],
      "metadata": {
        "id": "0dsCFGYBTxvh"
      },
      "execution_count": null,
      "outputs": []
    },
    {
      "cell_type": "code",
      "source": [
        "mi = int(input(\"영어 수능등급:\"))\n",
        "df_interval = df[(df.등급_영어 == mi)]\n",
        "df_interval[['학번', '등급_영어']]\n",
        "df_interval_unique = df_interval['학번'].unique().size\n",
        "print(\"영어 수능등급 {}명\".format(df_interval_unique))"
      ],
      "metadata": {
        "id": "7RfHwPIJf3RH"
      },
      "execution_count": null,
      "outputs": []
    },
    {
      "cell_type": "code",
      "source": [
        "# D고 작년 고3 수능 백분위평균: 백분위 44%!\n",
        "df_percentile = df.dropna(subset = ['백분위_평균'])\n",
        "p_mean = df_percentile['백분위_평균'].mean()\n",
        "print(p_mean)"
      ],
      "metadata": {
        "id": "MWmj-O2jdI-S",
        "colab": {
          "base_uri": "https://localhost:8080/"
        },
        "outputId": "61b79649-ef0d-4cf5-d4ee-c7e84fb5d9d3"
      },
      "execution_count": null,
      "outputs": [
        {
          "output_type": "stream",
          "name": "stdout",
          "text": [
            "43.79119658119659\n"
          ]
        }
      ]
    },
    {
      "cell_type": "code",
      "source": [
        "# D고 작년 고3 수능 표점 평균:\n",
        "df_standard = df.dropna(subset = ['표점합'])\n",
        "s_mean = df_standard['표점합'].mean().round(0)\n",
        "print(int(s_mean))  # 소수점 첫째 자리에서 반올림"
      ],
      "metadata": {
        "colab": {
          "base_uri": "https://localhost:8080/"
        },
        "id": "YnatXWGWzRDT",
        "outputId": "869bcad2-e0ac-4c81-e5e6-854ca266a36f"
      },
      "execution_count": null,
      "outputs": [
        {
          "output_type": "stream",
          "name": "stdout",
          "text": [
            "280\n"
          ]
        }
      ]
    },
    {
      "cell_type": "code",
      "source": [
        "name = input(\"이름의 일부:\")\n",
        "df_pname = df['이름'].str.contains(name)\n",
        "df_pname_sub = df[df_pname]\n",
        "df_pname_sub[['학번', '이름', '대학', '모집단위', '수시정시', '최종', '내신_전과목', '백분위_평균', '표점합', '모집인원', '전형분류', '전형종류']]"
      ],
      "metadata": {
        "id": "_TisjWi014xs"
      },
      "execution_count": null,
      "outputs": []
    },
    {
      "cell_type": "code",
      "source": [
        "#D고 내신 4등급 이하 학생 중 수능이 내신보다 더 잘 나온 학생 비율\n",
        "# Filter the DataFrame\n",
        "filtered_df = df[ (df['내신_전과목'] <= 4) & (df['내신_전과목'] > df['등급_평균'])]\n",
        "filtered_df = filtered_df.drop_duplicates(subset='이름')\n",
        "\n",
        "# Print the filtered DataFrame\n",
        "print(filtered_df[['이름', '내신_전과목', '등급_평균']])"
      ],
      "metadata": {
        "id": "RMq8g0QffeeP"
      },
      "execution_count": null,
      "outputs": []
    },
    {
      "cell_type": "code",
      "source": [
        "#D고 내신 X등급 이하 학생 중 수능이 내신보다 더 잘 나온 학생 비율\n",
        "\n",
        "nesin = int(input(\"내신이 X등급 이하 학생 중 수능이 내신보다 잘 나오는 학생 출력, 기준이 되는 등급을 입력: \"))\n",
        "\n",
        "# Filter the DataFrame\n",
        "filtered_df = df[ (df['내신_전과목'] <= nesin) & (df['내신_전과목'] > df['등급_평균'])]\n",
        "filtered_df = filtered_df.drop_duplicates(subset='이름')\n",
        "\n",
        "#내신_전과목을 소수점 둘째자리에 반올림\n",
        "filtered_df['내신_전과목'] = filtered_df['내신_전과목'].round(1)\n",
        "\n",
        "\n",
        "# Print the filtered DataFrame\n",
        "print(filtered_df[['이름', '내신_전과목', '등급_평균']])"
      ],
      "metadata": {
        "id": "vSqzlIrg0ajW"
      },
      "execution_count": null,
      "outputs": []
    },
    {
      "cell_type": "code",
      "source": [
        "#수능이 내신보다 더 잘 나오는 학생\n",
        "\n",
        "# Filter the DataFrame\n",
        "filtered_df = df[df['내신_전과목'] > df['등급_평균']]\n",
        "filtered_df = filtered_df.drop_duplicates(subset='이름')\n",
        "\n",
        "\n",
        "# Round the '내신_전과목' column to two decimal places\n",
        "filtered_df['내신_전과목'] = filtered_df['내신_전과목'].apply(lambda x: round(x, 1))\n",
        "\n",
        "filtered_df_total = df.drop_duplicates(subset='이름')\n",
        "filtered_df_num = len(filtered_df_total)\n",
        "filtered_df_num_div = (len(filtered_df) / filtered_df_num)*100\n",
        "filtered_df_num_div = round(filtered_df_num_div, 0)\n",
        "\n",
        "\n",
        "# Print the filtered DataFrame\n",
        "print(filtered_df[['이름', '내신_전과목', '등급_평균']])\n",
        "print(\"-----------------------------------------------------\")\n",
        "print(f'D고 2023학년도 고3의 수능이 내신보다 높게 나온 학생 {len(filtered_df)}명이고 비율은 {int(filtered_df_num_div)}%입니다.')"
      ],
      "metadata": {
        "id": "DSCCEzIs9TzT"
      },
      "execution_count": null,
      "outputs": []
    },
    {
      "cell_type": "code",
      "source": [
        "#내신 3등급이상 중 수능에서 1등급 이상 상승한 학생\n",
        "\n",
        "# Filter the DataFrame\n",
        "filtered_df = df[((df['내신_전과목'] - df['등급_평균']) >= 1) & (df['내신_전과목'] < 4 )]\n",
        "filtered_df = filtered_df.drop_duplicates(subset='이름')\n",
        "\n",
        "# Round the '내신_전과목' column to one decimal place\n",
        "filtered_df['내신_전과목'] = filtered_df['내신_전과목'].apply(lambda x: round(x, 1))\n",
        "\n",
        "filtered_df_total = df.drop_duplicates(subset='이름')\n",
        "filtered_df_num = len(filtered_df_total)\n",
        "filtered_df_num_div = (len(filtered_df) / filtered_df_num) * 100\n",
        "filtered_df_num_div = round(filtered_df_num_div, 1)\n",
        "\n",
        "# Print the filtered DataFrame\n",
        "print(filtered_df[['이름', '내신_전과목', '등급_평균']])\n",
        "print(\"-----------------------------------------------------\")\n",
        "print('D고 2023학년도 수능등급이 내신등급보다 1등급 이상 높게 나온 학생 {}명이고 비율은 {}%입니다.'.format(len(filtered_df), filtered_df_num_div))"
      ],
      "metadata": {
        "id": "G8GIJPVELOIM"
      },
      "execution_count": null,
      "outputs": []
    },
    {
      "cell_type": "code",
      "source": [
        "#수능에서 내신보다 1등급 이상 오른 학생\n",
        "\n",
        "# Filter the DataFrame\n",
        "filtered_df = df[(df['내신_전과목'] - df['등급_평균']) >= 1]\n",
        "filtered_df = filtered_df.drop_duplicates(subset='이름')\n",
        "\n",
        "# Round the '내신_전과목' column to one decimal place\n",
        "filtered_df['내신_전과목'] = filtered_df['내신_전과목'].apply(lambda x: round(x, 1))\n",
        "\n",
        "#중복 제외 전체학생수, 중복제외 1등급 이상 오른 학생\n",
        "filtered_df_total = df.drop_duplicates(subset='이름')\n",
        "filtered_df_num = len(filtered_df_total)\n",
        "filtered_df_num_div = (len(filtered_df) / filtered_df_num) * 100\n",
        "filtered_df_num_div = round(filtered_df_num_div, 1)\n",
        "\n",
        "# Add the condition column to the filtered DataFrame\n",
        "filtered_df['향상도'] = (filtered_df['내신_전과목'] - filtered_df['등급_평균'])\n",
        "\n",
        "# Print the filtered DataFrame\n",
        "print(filtered_df[['이름', '내신_전과목', '등급_평균', '향상도']])\n",
        "print(\"-----------------------------------------------------\")\n",
        "print('D고 2023학년도 수능등급이 내신등급보다 1등급 이상 높게 나온 학생 {}명이고 비율은 {}%입니다.'.format(len(filtered_df), filtered_df_num_div))"
      ],
      "metadata": {
        "id": "iJVfawPMO0tG"
      },
      "execution_count": null,
      "outputs": []
    },
    {
      "cell_type": "code",
      "source": [
        "#수능 총 응시자수: 중복 이름 제외\n",
        "filtered_df = df.drop_duplicates(subset='이름')\n",
        "filtered_df_num = len(filtered_df)\n",
        "print(filtered_df_num)"
      ],
      "metadata": {
        "id": "cJ2I85v5ipBQ"
      },
      "execution_count": null,
      "outputs": []
    },
    {
      "cell_type": "code",
      "source": [
        "#서울주요대학(14개대) 중복합격자 포함된 합격자수\n",
        "\n",
        "import os\n",
        "import pandas as pd\n",
        "\n",
        "uni = ['서울대', '연세대', '고려대', '서강대', '성균관대', '한양대', '중앙대', '경희대', '한국외대', '서울시립대', '이화여대', '건국대', '동국대', '홍익대']\n",
        "\n",
        "# 서울 주요대학 수시합격자수 출력\n",
        "print(\"\\n***2023학년도 D고 합격건수***\")\n",
        "\n",
        "total_accepted = 0  # Variable to store the total number of accepted students\n",
        "\n",
        "for u in range(len(uni)):\n",
        "    df_u = df[(df.대학 == uni[u]) & (df.최종 == '합')]\n",
        "    accepted_count = len(df_u['대학'])\n",
        "    total_accepted += accepted_count\n",
        "    print(uni[u], str(accepted_count) + \"건\")\n",
        "\n",
        "print(\"\\n총 합격자 수:\", total_accepted, \"건\")"
      ],
      "metadata": {
        "id": "UJcW1gyVQKWL"
      },
      "execution_count": null,
      "outputs": []
    },
    {
      "cell_type": "code",
      "source": [
        "#개인별 16개 대학 지원결과\n",
        "\n",
        "import os\n",
        "import pandas as pd\n",
        "\n",
        "##  데이터 부르기\n",
        "path = '/content/drive/MyDrive/python/deungchon/'\n",
        "df = pd.read_csv(f'{path}susi_jsi.csv', encoding = 'cp949')\n",
        "\n",
        "\n",
        "uni = ['서울대', '연세대', '고려대', '서강대', '성균관대', '한양대', '중앙대', '경희대', '한국외대', '서울시립대', '이화여대', '건국대', '동국대', '홍익대']\n",
        "\n",
        "# 서울 주요대학 수시합격자수 출력\n",
        "print(\"\\n***2023학년도 D고 서울16개대 합격횟수***\")\n",
        "\n",
        "\n",
        "# '이름'별 '최종' 열의 합 계산\n",
        "df['합격건수'] = df.groupby('이름')['최종'].transform('sum')\n",
        "\n",
        "\n",
        "# 중복 제거\n",
        "df_unique = df.drop_duplicates(subset=['이름', '합격건수'])\n",
        "\n",
        "\n",
        "# 결과 출력\n",
        "for u in uni:\n",
        "    df_u = df_unique[df_unique.대학 == u]\n",
        "    if not df_u.empty:\n",
        "        print(df_u[['이름', '합격건수']].to_string(index=False))\n",
        "        print(\"---------------------------\")\n"
      ],
      "metadata": {
        "id": "iucuyWfRG9i6"
      },
      "execution_count": null,
      "outputs": []
    },
    {
      "cell_type": "code",
      "source": [
        "import pandas as pd\n",
        "\n",
        "uni = ['서울대', '연세대', '고려대', '서강대', '성균관대', '한양대', '중앙대', '경희대', '한국외대', '서울시립대', '이화여대', '건국대', '동국대', '홍익대']\n",
        "\n",
        "# 데이터 로드 부분은 생략됨\n",
        "\n",
        "print(\"\\n***2023학년도 D고 서울16개대 합격횟수***\")\n",
        "\n",
        "# '이름'별 '최종' 열의 합 계산\n",
        "df['합격건수'] = df.groupby('이름')['최종'].transform('sum')\n",
        "\n",
        "# '수능'이 포함된 행을 제외한 데이터프레임 생성\n",
        "df_no_suneung = df[~df['전형분류'].str.contains('수능')]\n",
        "\n",
        "# 중복 제거된 데이터프레임 생성\n",
        "df_unique = df_no_suneung.drop_duplicates(subset=['이름'])\n",
        "\n",
        "# 결과 출력\n",
        "for u in uni:\n",
        "    df_u = df_unique[df_unique.대학 == u]\n",
        "    if not df_u.empty:\n",
        "        print(f\"{u} 합격자 명단:\")\n",
        "        print(df_u[['이름', '합격건수']].to_string(index=False))\n",
        "        print(\"---------------------------\")\n"
      ],
      "metadata": {
        "id": "1kVzvd1b8s47"
      },
      "execution_count": null,
      "outputs": []
    },
    {
      "cell_type": "code",
      "source": [
        "import os\n",
        "import pandas as pd\n",
        "\n",
        "uni = ['서울대', '연세대', '고려대', '서강대', '성균관대', '한양대', '중앙대', '경희대', '한국외대', '서울시립대', '이화여대', '건국대', '동국대', '홍익대']\n",
        "\n",
        "# 서울 주요대학 수시합격자수 출력\n",
        "print(\"\\n***2023학년도 D고 합격건수***\")\n",
        "\n",
        "# 'uni' 리스트에 해당하는 대학에 지원한 학생들만 필터링\n",
        "df_filtered = df[df['대학'].isin(uni)]\n",
        "\n",
        "# '이름'별로 '최종' 열의 합계 계산 ('합'이라는 값이 있으면 1로 계산)\n",
        "df_filtered['합격건수'] = df_filtered['최종'].apply(lambda x: 1 if x == '합' else 0)\n",
        "df_filtered['합격건수'] = df_filtered.groupby('이름')['합격건수'].transform('sum')\n",
        "\n",
        "# 중복 제거\n",
        "df_unique = df_filtered.drop_duplicates(subset=['이름'])\n",
        "\n",
        "# 학생별로 결과 출력\n",
        "for index, row in df_unique.iterrows():\n",
        "    print(f\"\\n학생 이름: {row['이름']}, 합격건수: {row['합격건수']}\")\n",
        "    print()\n",
        "    df_student = df_filtered[df_filtered['이름'] == row['이름']]\n",
        "    print(df_student[['대학', '모집단위', '최종', '내신_전과목', '전형분류']].to_string(index=False))\n",
        "    print()\n",
        "    print(\"------------------------------------------------------------------\")"
      ],
      "metadata": {
        "id": "CD4HsarpCuuN"
      },
      "execution_count": null,
      "outputs": []
    },
    {
      "cell_type": "code",
      "source": [
        "#학생별 합격건수 및 지원대학을 보여주기\n",
        "import os\n",
        "import pandas as pd\n",
        "\n",
        "uni = ['서울대', '연세대', '고려대', '서강대', '성균관대', '한양대', '중앙대', '경희대', '한국외대', '서울시립대', '이화여대', '건국대', '동국대', '홍익대']\n",
        "\n",
        "# 서울 주요대학 수시합격자수 출력\n",
        "print(\"\\n***2023학년도 D고 합격건수***\")\n",
        "\n",
        "# '이름'별로 '최종' 열의 합계 계산 ('합'이라는 값이 있으면 1로 계산)\n",
        "df['합격건수'] = df['최종'].apply(lambda x: 1 if x == '합' else 0)\n",
        "df['합격건수'] = df.groupby('이름')['합격건수'].transform('sum')\n",
        "\n",
        "# 중복 제거\n",
        "df_unique = df.drop_duplicates(subset=['이름'])\n",
        "\n",
        "# 학생별로 결과 출력\n",
        "for index, row in df_unique.iterrows():\n",
        "    print(f\"\\n학생 이름: {row['이름']}, 합격건수: {row['합격건수']}\")\n",
        "    df_student = df[df['이름'] == row['이름']]\n",
        "    print(df_student[['대학', '모집단위', '최종']].to_string(index=False))\n"
      ],
      "metadata": {
        "id": "ch-EnPQYBnO9"
      },
      "execution_count": null,
      "outputs": []
    },
    {
      "cell_type": "code",
      "source": [
        "(df['수시정시']== '수시').value_counts()"
      ],
      "metadata": {
        "colab": {
          "base_uri": "https://localhost:8080/"
        },
        "id": "mN_cVJv5lzDd",
        "outputId": "ae3f5d29-e53c-4a6b-fd21-7a27de693b0e"
      },
      "execution_count": null,
      "outputs": [
        {
          "output_type": "execute_result",
          "data": {
            "text/plain": [
              "True     702\n",
              "False     51\n",
              "Name: 수시정시, dtype: int64"
            ]
          },
          "metadata": {},
          "execution_count": 10
        }
      ]
    },
    {
      "cell_type": "code",
      "source": [
        "df_susi = df[df['수시정시'] == '수시']\n",
        "df_english1_ratio = (df_susi['등급_영어'] == 1.0).sum() / len(df_susi['등급_영어'])*100\n",
        "df_english1_ratio_int = int(df_english1_ratio.round(0))\n",
        "print(f'영어1등급 {df_english1_ratio_int}%')"
      ],
      "metadata": {
        "colab": {
          "base_uri": "https://localhost:8080/"
        },
        "id": "oMq32nnOlqev",
        "outputId": "89941e98-0457-462c-94f4-80ef6efd2743"
      },
      "execution_count": null,
      "outputs": [
        {
          "output_type": "stream",
          "name": "stdout",
          "text": [
            "영어1등급 6%\n"
          ]
        }
      ]
    },
    {
      "cell_type": "code",
      "source": [
        "#수시 영어1등급 학생명단 및 학생수 출력\n",
        "\n",
        "#라이브러리 불러오기\n",
        "from tabulate import tabulate\n",
        "\n",
        "#수시\n",
        "df_susi = df[df['수시정시'] == '수시']\n",
        "\n",
        "#1등급 filter\n",
        "df_susi_english1 = df_susi[df_susi['등급_영어'] == 1.0]\n",
        "\n",
        "\n",
        "#이름 중복자 제외\n",
        "df_susi_english1 = df_susi_english1.drop_duplicates('이름')\n",
        "\n",
        "\n",
        "#백분위_평균를 소수점 첫째자리까지 표시\n",
        "df_susi_english1['백분위_평균'] = df_susi_english1['백분위_평균'].round(1)\n",
        "\n",
        "\n",
        "#필요한 열\n",
        "df_susi_english1 = df_susi_english1[['이름', '등급_영어', '내신_전과목', '등급_평균', '백분위_평균']]\n",
        "\n",
        "\n",
        "# Define the table headers\n",
        "table_headers = ['이름', '등급_영어', '내신_전과목', '등급_평균', '백분위_평균']\n",
        "\n",
        "#영어1등급 받은 학생수\n",
        "df_susi_english1_num = len(df_susi_english1)\n",
        "\n",
        "# Create the formatted table using tabulate\n",
        "table_string = tabulate(df_susi_english1, headers=table_headers, tablefmt='plain')\n",
        "\n",
        "\n",
        "#출력\n",
        "print(f'영어1등급 학생은 {df_susi_english1_num}명입니다.')\n",
        "print()\n",
        "print(table_string)"
      ],
      "metadata": {
        "id": "RuTZ2gbPmJ7Q"
      },
      "execution_count": null,
      "outputs": []
    },
    {
      "cell_type": "code",
      "source": [
        "#이름 쓰면 해당학생의 수능 과목별 등급 출력\n",
        "\n",
        "from tabulate import tabulate\n",
        "\n",
        "#이름 입력받기\n",
        "name = input('이름:')\n",
        "\n",
        "df_name = df[(df.이름 == name)]\n",
        "df_name = df_name[['대학', '모집단위', '등급_국어', '등급_수학', '등급_영어', '등급_탐구1', '등급_탐구2', '등급_평균']]\n",
        "\n",
        "# Define the table headers\n",
        "table_headers = ['대학', '모집단위', '등급_국어', '등급_수학', '등급_영어', '등급_탐구1', '등급_탐구2', '등급_평균']\n",
        "\n",
        "\n",
        "# Create the formatted table using tabulate\n",
        "table_string = tabulate(df_name, headers=table_headers, tablefmt='plain')\n",
        "print(\"****************************************************************************************************************************\")\n",
        "print(table_string)"
      ],
      "metadata": {
        "id": "lTTUUrHLsniO"
      },
      "execution_count": null,
      "outputs": []
    },
    {
      "cell_type": "code",
      "source": [
        "# 특정 '문자열'을 포함하는 열(column)을 뽑아내는 코드:\n",
        "jennhung_columns = [col for col in df if '전형' in col]\n",
        "print(jennhung_columns)"
      ],
      "metadata": {
        "id": "K-nMfm7zqKM_",
        "colab": {
          "base_uri": "https://localhost:8080/"
        },
        "outputId": "d29d0251-eb6d-4de9-8878-5090d59fadca"
      },
      "execution_count": null,
      "outputs": [
        {
          "output_type": "stream",
          "name": "stdout",
          "text": [
            "['전형명', '전형분류', '전형명', '전형방법']\n"
          ]
        }
      ]
    },
    {
      "cell_type": "code",
      "source": [
        "# 학과별(모집단위) 지원횟수, 합격횟수, 불합격횟수, 합격률\n",
        "\n",
        "import pandas as pd\n",
        "from tabulate import tabulate\n",
        "\n",
        "\n",
        "##  데이터 부르기 : 구글colab에 마운트(mount)하는 방법: 왼쪽 폴더아이콘을 누르기-눈동자 왼쪽 파일마운트 아이콘 클릭- /content/drive/MyDrive/python폴더의 susi_2021simple.csv파일을 불러옴\n",
        "path = '/content/drive/MyDrive/python/deungchon/'\n",
        "df = pd.read_csv(f'{path}susi_jsi.csv', encoding = 'cp949')\n",
        "\n",
        "\n",
        "# 모집단위 입력 받기\n",
        "uni = input(\"모집단위: \")\n",
        "\n",
        "# 모집단위와 '최종' 열이 '합' 또는 '불'인 행 필터링\n",
        "mask = df['모집단위'].notna() & df['모집단위'].str.contains(uni, na=False)\n",
        "df_filtered = df[mask].copy()\n",
        "\n",
        "# '합'과 '불' 빈도 계산\n",
        "count_total = len(df_filtered)\n",
        "count_pass = len(df_filtered[df_filtered['최종'].str.contains('합', na=False)])\n",
        "count_fail = len(df_filtered[df_filtered['최종'].str.contains('불', na=False)]) + len(df_filtered[df_filtered['최종'].isna()])\n",
        "\n",
        "# '합'의 백분율 계산\n",
        "percentage_pass = (count_pass / count_total) * 100 if count_total > 0 else 0\n",
        "\n",
        "\n",
        "#df_filtered['내신_전과목'] = df_filtered['내신_전과목'].round(2)\n",
        "df_filtered.loc[:, '내신_전과목'] = df_filtered['내신_전과목'].round(2)\n",
        "\n",
        "\n",
        "# 필요한 컬럼 선택\n",
        "columns_required = ['학번', '지역', '이름', '대학', '모집단위', '최종', '내신_전과목', '전형명', '전형분류', '전형방법']\n",
        "df_subset = df_filtered[columns_required]\n",
        "\n",
        "# 테이블 형태로 출력\n",
        "table_string = tabulate(df_subset, headers=columns_required, tablefmt='plain', showindex=False)\n",
        "\n",
        "print()\n",
        "print(f\"{uni}에 지원한 학생 명단\")\n",
        "print(\"**********************************************************************************************************************************************\")\n",
        "print(table_string)\n",
        "print()\n",
        "print(f\"{uni}모집단위 지원횟수: {count_total}건\")\n",
        "print(\"**********************************************************************************************************************************************\")\n",
        "print(f\"{uni}모집단위 합격횟수: {count_pass}건, 불합격 횟수: {count_fail}건\")\n",
        "print()\n",
        "print(f\"{uni}관련 학과의 합격률: {percentage_pass:.1f}%\")"
      ],
      "metadata": {
        "id": "o9-BLkQs2121"
      },
      "execution_count": null,
      "outputs": []
    }
  ]
}