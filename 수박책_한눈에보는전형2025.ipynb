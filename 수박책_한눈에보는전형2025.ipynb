{
  "nbformat": 4,
  "nbformat_minor": 0,
  "metadata": {
    "colab": {
      "provenance": [],
      "mount_file_id": "1jaQ13qMzalogKpjswe9L0HM3c54JwAbf",
      "authorship_tag": "ABX9TyP4VQiuvKaXZXeQLTL3jde5",
      "include_colab_link": true
    },
    "kernelspec": {
      "name": "python3",
      "display_name": "Python 3"
    },
    "language_info": {
      "name": "python"
    }
  },
  "cells": [
    {
      "cell_type": "markdown",
      "metadata": {
        "id": "view-in-github",
        "colab_type": "text"
      },
      "source": [
        "<a href=\"https://colab.research.google.com/github/ecloguehwang/HSS/blob/master/%EC%88%98%EB%B0%95%EC%B1%85_%ED%95%9C%EB%88%88%EC%97%90%EB%B3%B4%EB%8A%94%EC%A0%84%ED%98%952025.ipynb\" target=\"_parent\"><img src=\"https://colab.research.google.com/assets/colab-badge.svg\" alt=\"Open In Colab\"/></a>"
      ]
    },
    {
      "cell_type": "code",
      "source": [
        "#pandas, openpyxl 라이브러리 부르기\n",
        "import pandas as pd\n",
        "import numpy as np\n",
        "from tabulate import tabulate\n",
        "import matplotlib.pyplot as plt\n",
        "from tabulate import tabulate\n",
        "\n",
        "\n",
        "\n",
        "##  데이터 부르기\n",
        "path = '/content/drive/MyDrive/python/entrance/'\n",
        "df = pd.read_excel(f'{path}subak_type_2025.xlsx')\n",
        "\n",
        "\n",
        "# 수시합불자료 데이터 클리닝\n",
        "df.columns = df.iloc[1]  # 두 번째 행을 열 이름으로 설정\n",
        "df = df.drop([0, 1])      # 첫 두 행 삭제\n",
        "df.reset_index(drop=True, inplace=True) # 인덱스 재설정\n",
        "\n",
        "# 모든 값이 결측값인 열 삭제\n",
        "df = df.dropna(axis=1, how='all')\n",
        "\n",
        "\n",
        "# 필요한 열만 선택하여 새로운 데이터프레임 만들기\n",
        "df = df[['대학', '모집 시기', '전형 유형', '전형', '모집 인원', '전형 방법', '수능최저학력기준']]\n",
        "\n",
        "\n",
        "# 열 이름의 문자열 사이의 공백 제거\n",
        "df.columns = df.columns.str.replace(' ', '')\n",
        "\n",
        "\n",
        "# tabulate를 사용하여 결과 출력\n",
        "print(tabulate(df.head(10), headers='keys', tablefmt='plain'))"
      ],
      "metadata": {
        "colab": {
          "base_uri": "https://localhost:8080/"
        },
        "id": "RM2Ago51yZf5",
        "outputId": "1ac9191e-ff49-487a-bb13-56de24c9aba4"
      },
      "execution_count": 37,
      "outputs": [
        {
          "output_type": "stream",
          "name": "stdout",
          "text": [
            "    대학    모집시기    전형유형    전형                        모집인원    전형방법                 수능최저학력기준\n",
            " 0  감신대  수시        교과        일반전형                    82          학생부80%+면접20%        X\n",
            " 1  감신대  수시        교과        추천자                      25          학생부80%+면접20%        X\n",
            " 2  감신대  수시        교과        사회적배려대상자            10          학생부80%+면접20%        X\n",
            " 3  감신대  수시        교과        농어촌학생                  4           학생부80%+면접20%        X\n",
            " 4  감신대  수시        교과        기초생활수급자및차상위계층  4           학생부80%+면접20%        X\n",
            " 5  감신대  수시        교과        특수교육대상자              15          학생부80%+면접20%        X\n",
            " 6  감신대  수시        교과        검정고시출신자              15          면접20%+검정고시성적80%  X\n",
            " 7  감신대  수시        재외        재외국민과 외국인(2%)       3           면접100%                 X\n",
            " 8  감신대  정시나      수능        일반학생                    22          수능80%+면접20%          X\n",
            " 9  감신대  정시나      재외        재외국민과 외국인           제한X       면접100%                 X\n"
          ]
        }
      ]
    },
    {
      "cell_type": "code",
      "source": [
        "# 입력 받은 대학과 모집시기에 따라 데이터프레임 필터링\n",
        "uni = input('대학:')\n",
        "recruitment_period = input(\"모집시기('수시', '정시가', '정시나', '정시다' 중 입력하세요): \")\n",
        "\n",
        "\n",
        "if recruitment_period == '수시':\n",
        "    filtered_df = df[(df['대학'].str.contains(uni)) & (df['모집시기'] == '수시')]\n",
        "elif recruitment_period == '정시가':\n",
        "    filtered_df = df[(df['대학'].str.contains(uni)) & (df['모집시기'].str.contains('정시가'))]\n",
        "elif recruitment_period == '정시나':\n",
        "    filtered_df = df[(df['대학'].str.contains(uni)) & (df['모집시기'].str.contains('정시나'))]\n",
        "elif recruitment_period == '정시다':\n",
        "    filtered_df = df[(df['대학'].str.contains(uni)) & (df['모집시기'].str.contains('정시다'))]\n",
        "else:\n",
        "    print(\"잘못된 모집시기 입력입니다.\")\n",
        "    filtered_df = pd.DataFrame()\n",
        "\n",
        "\n",
        "# 결과 출력\n",
        "if not filtered_df.empty:\n",
        "    print(\"**************************************************************************************************************************************************************\")\n",
        "    print(tabulate(filtered_df.head(10), headers='keys', tablefmt='plain'))"
      ],
      "metadata": {
        "colab": {
          "base_uri": "https://localhost:8080/"
        },
        "id": "5BRrGhiy1m3A",
        "outputId": "39c54e20-b3d4-4375-85ad-7ee4b589b375"
      },
      "execution_count": 42,
      "outputs": [
        {
          "output_type": "stream",
          "name": "stdout",
          "text": [
            "대학:중앙대\n",
            "모집시기('수시', '정시가', '정시나', '정시다' 중 입력하세요): 수시\n",
            "**************************************************************************************************************************************************************\n",
            "      대학    모집시기    전형유형    전형                          모집인원  전형방법                                                                                                                                    수능최저학력기준\n",
            "1371  중앙대  수시        교과        지역균형                           500  학생부100%  ※ 고교 추천: 20명                                                                                                               ○\n",
            "1372  중앙대  수시        종합        CAU융합형인재                      457  서류100%                                                                                                                                    X\n",
            "1373  중앙대  수시        종합        CAU탐구형인재                      484  1단계)서류100%(3.5배수, 다빈치캠(‘시스템생명공학과’ 제외): 2.5배수)                                                                         X\n",
            "                                                                              2단계)서류70%+면접30%\n",
            "1374  중앙대  수시        종합        CAU어울림                           20  서류100%                                                                                                                                    X\n",
            "1375  중앙대  수시        종합        농어촌학생                         139  서류100%                                                                                                                                    X\n",
            "1376  중앙대  수시        종합        기초생활수급자및차상위계층          73  서류100%                                                                                                                                    X\n",
            "1377  중앙대  수시        종합        장애인등대상자                       8  서류100%                                                                                                                                    X\n",
            "1378  중앙대  수시        종합        특성화고졸재직자                   232  서류100%                                                                                                                                    X\n",
            "1379  중앙대  수시        논술        논술전형                           478  학생부30%+논술70%                                                                                                                           ○\n",
            "1380  중앙대  수시        실기/실적   실기형                             358  ‣공연영상창작학부                                                                                                                           X\n",
            "                                                                              • 연극(연기,뮤지컬연기)                                                                                                                     (문예창작, 사진○)\n",
            "                                                                              : 1단계)실기100%(8배수) 2단계)학생부20%+실기80%\n",
            "                                                                              • 공간연출\n",
            "                                                                              : 1단계)학생부20%+실기80%(5배수) 2단계)1단계70%+실기30%\n",
            "                                                                              • 문예창작: 1단계)학생부100%(7배수) 2단계)학생부20%+실기80%\n",
            "                                                                              ‣디자인학부: 1단계)학생부100%(20배수) 2단계)학생부20%+실기80%\n",
            "                                                                              ‣글로벌예술학부(TV방송연예)\n",
            "                                                                              : 1단계)비대면실기100%(7배수) 2단계)학생부20%+실기80%\n",
            "                                                                              ‣공연영상창작학부(영화, 무용, 사진), 미술학부, 음악학부, 전통예술학부, 글로 벌예술학부(실용음악, 게임콘텐츠애니메이션), 스포츠과학부(골프)\n",
            "                                                                              : 학생부20%+실기80%\n"
          ]
        }
      ]
    },
    {
      "cell_type": "code",
      "source": [
        "#pandas, openpyxl 라이브러리 부르기\n",
        "import pandas as pd\n",
        "import numpy as np\n",
        "from tabulate import tabulate\n",
        "import matplotlib.pyplot as plt\n",
        "from tabulate import tabulate\n",
        "\n",
        "\n",
        "\n",
        "##  데이터 부르기\n",
        "path = '/content/drive/MyDrive/python/entrance/'\n",
        "df = pd.read_excel(f'{path}subak_type_2025.xlsx')\n",
        "\n",
        "#print(df.head(10))\n",
        "df.shape"
      ],
      "metadata": {
        "colab": {
          "base_uri": "https://localhost:8080/"
        },
        "id": "YxsQIeKD257Y",
        "outputId": "d14fb9c5-115c-4cac-e4e2-4f6022c8744f"
      },
      "execution_count": 34,
      "outputs": [
        {
          "output_type": "execute_result",
          "data": {
            "text/plain": [
              "(5140, 74)"
            ]
          },
          "metadata": {},
          "execution_count": 34
        }
      ]
    }
  ]
}