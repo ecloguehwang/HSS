{
  "nbformat": 4,
  "nbformat_minor": 0,
  "metadata": {
    "colab": {
      "provenance": [],
      "mount_file_id": "1u84bu7g9Amai29RZ6-Ob6f5Roz7ZdKnF",
      "authorship_tag": "ABX9TyP8JARvTHjrIpXCRMcnO86f",
      "include_colab_link": true
    },
    "kernelspec": {
      "name": "python3",
      "display_name": "Python 3"
    },
    "language_info": {
      "name": "python"
    }
  },
  "cells": [
    {
      "cell_type": "markdown",
      "metadata": {
        "id": "view-in-github",
        "colab_type": "text"
      },
      "source": [
        "<a href=\"https://colab.research.google.com/github/ecloguehwang/HSS/blob/master/2%EA%B0%9C%ED%95%A9%EB%B6%88%ED%8C%8C%EC%9D%BC_%EC%A0%84%EC%B2%98%EB%A6%AC_%EB%93%B1%EC%B4%8C2023%ED%95%99%EB%85%84%EB%8F%84.ipynb\" target=\"_parent\"><img src=\"https://colab.research.google.com/assets/colab-badge.svg\" alt=\"Open In Colab\"/></a>"
      ]
    },
    {
      "cell_type": "markdown",
      "source": [
        "#2개(수시, 정시) 합불파일을 새로운 1개의 합불파일로 만들기"
      ],
      "metadata": {
        "id": "WTVU2uFxogOP"
      }
    },
    {
      "cell_type": "code",
      "execution_count": null,
      "metadata": {
        "id": "JcHxVhQ-IHQB"
      },
      "outputs": [],
      "source": [
        "##라이브러리\n",
        "import pandas as pd\n",
        "\n",
        "\n",
        "##엑셀파일 불러오기\n",
        "#df_jsi = pd.read_excel(f'{path}habbul_2020sinmok.csv', encoding = 'cp949')\n",
        "path = '/content/drive/MyDrive/python/habbul/'\n",
        "df_jsi = pd.read_excel(f'{path}jsi_d_2023.xlsx')\n",
        "df_susi = pd.read_excel(f'{path}susi_d_2023.xlsx')\n"
      ]
    },
    {
      "cell_type": "code",
      "source": [
        "#'수시합불자료' 파일 전처리\n",
        "\n",
        "import pandas as pd\n",
        "\n",
        "\n",
        "## 1.'수시합불자료' 시트 불러오기\n",
        "path = '/content/drive/MyDrive/python/habbul/'\n",
        "df_susi = pd.read_excel(f'{path}susi_d_2023.xlsx')\n",
        "\n",
        "\n",
        "##2. Delete all columns and replace with second row as column names\n",
        "df_susi.columns = df_susi.iloc[1]\n",
        "df_susi = df_susi.drop([0, 1])\n",
        "\n",
        "##3. Delete the first row (which is now the third row in the original dataframe)\n",
        "df_susi = df_susi.drop(2)\n",
        "\n",
        "##4. Resetting the index\n",
        "df_susi.reset_index(drop=True, inplace=True)\n",
        "\n",
        "\n",
        "##5. Renaming column names\n",
        "df_susi.columns.values[32:36] = ['국어_' + col for col in df_susi.columns[32:36]]\n",
        "df_susi.columns.values[36:41] = ['수학_' + col for col in df_susi.columns[36:41]]\n",
        "df_susi.columns.values[41:45] = ['영어_' + col for col in df_susi.columns[41:45]]\n",
        "df_susi.columns.values[45:51] = ['선택1_' + col for col in df_susi.columns[45:51]]\n",
        "df_susi.columns.values[51:56] = ['선택2_' + col for col in df_susi.columns[51:56]]\n",
        "df_susi.columns.values[56:60] = ['한국사_' + col for col in df_susi.columns[56:60]]\n",
        "df_susi.columns.values[60:65] = ['제2외국어_' + col for col in df_susi.columns[60:65]]\n",
        "\n",
        "# 6.열 이름에서 \\n 삭제\n",
        "df_susi.columns = df_susi.columns.str.replace('\\n', '', regex=False)\n",
        "\n",
        "# 결과 DataFrame 출력\n",
        "print(df_susi.head())"
      ],
      "metadata": {
        "id": "6LyX6X5A2A0E"
      },
      "execution_count": null,
      "outputs": []
    },
    {
      "cell_type": "code",
      "source": [
        "#'정시합불자료' 파일 전처리\n",
        "\n",
        "import pandas as pd\n",
        "\n",
        "\n",
        "## 1.'정시합불자료' 시트 불러오기\n",
        "path = '/content/drive/MyDrive/python/sinmok/'\n",
        "df_jsi = pd.read_excel(f'{path}habbul_2020sinmok.xlsx', sheet_name='정시합불자료')\n",
        "\n",
        "\n",
        "##2. Delete all columns and replace with second row as column names\n",
        "df_jsi.columns = df_jsi.iloc[1]\n",
        "df_jsi = df_jsi.drop([0, 1])\n",
        "\n",
        "##3. Delete the first row (which is now the third row in the original dataframe)\n",
        "df_jsi = df_jsi.drop(2)\n",
        "\n",
        "##4. Resetting the index\n",
        "df_jsi.reset_index(drop=True, inplace=True)\n",
        "\n",
        "\n",
        "##5. Rename the '군' column to '지원시기'\n",
        "df_jsi = df_jsi.rename(columns={'군': '지원\\n시기'})\n",
        "\n",
        "\n",
        "##6. Renaming column names\n",
        "df_jsi.columns.values[32:36] = ['국어_' + col for col in df_jsi.columns[32:36]]\n",
        "df_jsi.columns.values[36:41] = ['수학_' + col for col in df_jsi.columns[36:41]]\n",
        "df_jsi.columns.values[41:45] = ['영어_' + col for col in df_jsi.columns[41:45]]\n",
        "df_jsi.columns.values[45:51] = ['선택1_' + col for col in df_jsi.columns[45:51]]\n",
        "df_jsi.columns.values[51:56] = ['선택2_' + col for col in df_jsi.columns[51:56]]\n",
        "df_jsi.columns.values[56:60] = ['한국사_' + col for col in df_jsi.columns[56:60]]\n",
        "df_jsi.columns.values[60:65] = ['제2외국어_' + col for col in df_jsi.columns[60:65]]\n",
        "\n",
        "\n",
        "# 열 이름에서 \\n 삭제\n",
        "df_jsi.columns = df_jsi.columns.str.replace('\\n', '', regex=False)\n",
        "\n",
        "# 결과 DataFrame 출력\n",
        "print(df_jsi.head())"
      ],
      "metadata": {
        "id": "_WAClnBHaOSR"
      },
      "execution_count": null,
      "outputs": []
    },
    {
      "cell_type": "code",
      "source": [
        "# 두 파일을 합치기\n",
        "combined_df = pd.concat([df_susi, df_jsi], axis=0)\n",
        "\n",
        "# 결과 DataFrame 출력\n",
        "print(combined_df.head())\n",
        "\n",
        "\n",
        "# 새로운 경로와 파일명으로 엑셀 파일 저장\n",
        "new_path = '/content/drive/MyDrive/python/habbul/'\n",
        "combined_df.to_excel(f'{new_path}등촌2023_수시정시.xlsx', index=False)"
      ],
      "metadata": {
        "id": "UORrMIg_mScQ"
      },
      "execution_count": null,
      "outputs": []
    },
    {
      "cell_type": "code",
      "source": [
        "# 2개 시트의 열 이름이 동일한지 확인\n",
        "\n",
        "import pandas as pd\n",
        "\n",
        "# 엑셀 파일 경로 설정\n",
        "path = '/content/drive/MyDrive/python/sinmok/'\n",
        "file_path = f'{path}habbul_2020sinmok.xlsx'\n",
        "\n",
        "# ExcelFile 객체를 사용하여 엑셀 파일 로드\n",
        "excel_file = pd.ExcelFile(file_path)\n",
        "\n",
        "# 엑셀 파일 내의 시트 이름 목록 가져오기\n",
        "sheet_names = excel_file.sheet_names\n",
        "\n",
        "if len(sheet_names) == 2:\n",
        "    # 시트 이름을 사용하여 각 시트를 DataFrame으로 읽기\n",
        "    df_jsi = pd.read_excel(file_path, sheet_name=sheet_names[0])\n",
        "    df_susi = pd.read_excel(file_path, sheet_name=sheet_names[1])\n",
        "\n",
        "\n",
        "\n",
        "    # 정시합불자료 데이터 클리닝\n",
        "    df_jsi.columns = df_jsi.iloc[1]    # 두 번째 행을 열 이름으로 설정\n",
        "    df_jsi = df_jsi.drop([0, 1])        # 첫 두 행 삭제\n",
        "    df_jsi.reset_index(drop=True, inplace=True) # 인덱스 재설정\n",
        "    df_jsi = df_jsi.rename(columns={'군': '지원\\n시기'}) # '군' 열을 '지원시기'로 이름 변경\n",
        "\n",
        "    # 수시합불자료 데이터 클리닝\n",
        "    df_susi.columns = df_susi.iloc[1]  # 두 번째 행을 열 이름으로 설정\n",
        "    df_susi = df_susi.drop([0, 1])      # 첫 두 행 삭제\n",
        "    df_susi.reset_index(drop=True, inplace=True) # 인덱스 재설정\n",
        "\n",
        "\n",
        "    # 정시합불자료의 열 이름 변경\n",
        "    df_jsi.columns.values[32:36] = ['국어_' + col for col in df_jsi.columns[32:36]]\n",
        "    df_jsi.columns.values[36:41] = ['수학_' + col for col in df_jsi.columns[36:41]]\n",
        "    df_jsi.columns.values[41:45] = ['영어_' + col for col in df_jsi.columns[41:45]]\n",
        "    df_jsi.columns.values[45:51] = ['선택1_' + col for col in df_jsi.columns[45:51]]\n",
        "    df_jsi.columns.values[51:56] = ['선택2_' + col for col in df_jsi.columns[51:56]]\n",
        "    df_jsi.columns.values[56:60] = ['한국사_' + col for col in df_jsi.columns[56:60]]\n",
        "    df_jsi.columns.values[60:65] = ['제2외국어_' + col for col in df_jsi.columns[60:65]]\n",
        "\n",
        "\n",
        "    ##5. 수시합불자료의 열 이름 변경\n",
        "    df_susi.columns.values[32:36] = ['국어_' + col for col in df_susi.columns[32:36]]\n",
        "    df_susi.columns.values[36:41] = ['수학_' + col for col in df_susi.columns[36:41]]\n",
        "    df_susi.columns.values[41:45] = ['영어_' + col for col in df_susi.columns[41:45]]\n",
        "    df_susi.columns.values[45:51] = ['선택1_' + col for col in df_susi.columns[45:51]]\n",
        "    df_susi.columns.values[51:56] = ['선택2_' + col for col in df_susi.columns[51:56]]\n",
        "    df_susi.columns.values[56:60] = ['한국사_' + col for col in df_susi.columns[56:60]]\n",
        "    df_susi.columns.values[60:65] = ['제2외국어_' + col for col in df_susi.columns[60:65]]\n",
        "\n",
        "\n",
        "    # df_susi와 df_jsi의 열 이름 출력\n",
        "    print(\"df_susi columns:\", df_susi.columns)\n",
        "    print(\"df_jsi columns:\", df_jsi.columns)\n",
        "\n",
        "    # 열 이름 비교\n",
        "    if set(df_susi.columns) == set(df_jsi.columns):\n",
        "        print(\"열 이름이 일치합니다.\")\n",
        "    else:\n",
        "        print(\"열 이름이 일치하지 않습니다.\")\n",
        "else:\n",
        "    print(\"합칠 수 있는 시트가 두 개가 아닙니다.\")\n"
      ],
      "metadata": {
        "id": "ClkKjmtzLos1"
      },
      "execution_count": null,
      "outputs": []
    },
    {
      "cell_type": "code",
      "source": [
        "# View columns from 33rd to 36th\n",
        "df_jsi.iloc[:, 60:65]"
      ],
      "metadata": {
        "id": "rETH0YqxfY-C"
      },
      "execution_count": null,
      "outputs": []
    }
  ]
}