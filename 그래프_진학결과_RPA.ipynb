{
  "nbformat": 4,
  "nbformat_minor": 0,
  "metadata": {
    "colab": {
      "provenance": [],
      "mount_file_id": "1lMkRXib1aHXZDUmVhmOMHUOCs3EZkJbE",
      "authorship_tag": "ABX9TyNA0XAbBRFGL+5hLyVoOmpC",
      "include_colab_link": true
    },
    "kernelspec": {
      "name": "python3",
      "display_name": "Python 3"
    },
    "language_info": {
      "name": "python"
    }
  },
  "cells": [
    {
      "cell_type": "markdown",
      "metadata": {
        "id": "view-in-github",
        "colab_type": "text"
      },
      "source": [
        "<a href=\"https://colab.research.google.com/github/ecloguehwang/HSS/blob/master/%EA%B7%B8%EB%9E%98%ED%94%84_%EC%A7%84%ED%95%99%EA%B2%B0%EA%B3%BC_RPA.ipynb\" target=\"_parent\"><img src=\"https://colab.research.google.com/assets/colab-badge.svg\" alt=\"Open In Colab\"/></a>"
      ]
    },
    {
      "cell_type": "code",
      "source": [
        "#colab에서 matplotlib와 sns 라이브러리 그래프 한글을 깨지지 않게 하는 법: 이 코드실행하고 런타임(runtime) 다시 실행하기\n",
        "!sudo apt-get install -y fonts-nanum\n",
        "!sudo fc-cache -fv\n",
        "!rm ~/.cache/matplotlib -rf"
      ],
      "metadata": {
        "id": "lorlu-xknSRL"
      },
      "execution_count": null,
      "outputs": []
    },
    {
      "cell_type": "code",
      "source": [
        "# 라이브러리 부르기\n",
        "import pandas as pd\n",
        "import numpy as np\n",
        "import seaborn as sns\n",
        "import matplotlib.pyplot as plt\n",
        "import os\n",
        "import openpyxl\n",
        "import csv\n",
        "\n",
        "##  데이터 부르기 : 구글colab에 마운트(mount)하는 방법: 왼쪽 폴더아이콘을 누르기-눈동자 왼쪽 파일마운트 아이콘 클릭- /content/drive/MyDrive/python폴더의 susi_2021simple.csv파일을 불러옴\n",
        "df = pd.read_csv('/content/drive/MyDrive/python/susi_jsi.csv', encoding = 'cp949')\n",
        "#df = pd.read_csv('/content/drive/MyDrive/python/susi_jsi_noname.csv', encoding = 'cp949')\n",
        "# 첫 5줄을 봅니다. \n",
        "df.head(4)"
      ],
      "metadata": {
        "id": "yeRjzNaXtuEc"
      },
      "execution_count": null,
      "outputs": []
    },
    {
      "cell_type": "code",
      "source": [
        "#matplotlib에서 한글구현\n",
        "plt.rc('font', family='NanumBarunGothic')\n",
        "\n",
        "#그래프 마이너스 기호 깨짐 방지\n",
        "plt.rcParams['axes.unicode_minus'] = False"
      ],
      "metadata": {
        "id": "HLYxc-NztOTr"
      },
      "execution_count": 3,
      "outputs": []
    },
    {
      "cell_type": "code",
      "source": [
        "#RPA로 합불자료에서 그래프 자동 완성\n",
        "\n",
        "import pandas as pd\n",
        "import matplotlib.pyplot as plt\n",
        "\n",
        "uni = ['서울대', '연세대', '고려대', '서강대', '성균관대', '한양대', '중앙대', '경희대', '한국외대', '서울시립대', '이화여대', '건국대', '동국대', '홍익대']\n",
        "\n",
        "# assuming that you have a DataFrame called \"df\" containing admission information for each student\n",
        "# and the relevant columns are \"수시정시\", \"대학\", and \"최종\"\n",
        "df = pd.read_csv(\"/content/drive/MyDrive/python/susi_jsi.csv\", encoding = 'cp949')  # replace with your own file name\n",
        "\n",
        "print(\"\\n***2023학년도 등촌고 합격자수***\")\n",
        "\n",
        "uni_new = []\n",
        "num_su = []\n",
        "num_je = []\n",
        "\n",
        "for u in uni:\n",
        "    df_u = df[(df.대학 == u) & (df.최종 == '합')]\n",
        "    df_u = df_u[['수시정시', '학번', '대학', '최종']]\n",
        "\n",
        "    num_su_u = len(df_u[df_u['수시정시'] == '수시'])\n",
        "    num_je_u = len(df_u[df_u['수시정시'] == '정시'])\n",
        "    \n",
        "    if (num_su_u > 0) or (num_je_u > 0):\n",
        "        uni_new.append(u)\n",
        "        num_su.append(num_su_u)\n",
        "        num_je.append(num_je_u)\n",
        "\n",
        "        print(u, \"합격자수 - 수시:\", str(num_su_u) + \"명,\", \"정시:\", str(num_je_u) + \"명\")\n",
        "\n",
        "if len(uni_new) > 0:\n",
        "    # sort the data by the total number of admissions (sum of num_su and num_je)\n",
        "    data = sorted(zip(uni_new, num_su, num_je), key=lambda x: x[1]+x[2], reverse=False)\n",
        "    uni_new = [x[0] for x in data]\n",
        "    num_su = [x[1] for x in data]\n",
        "    num_je = [x[2] for x in data]\n",
        "\n",
        "    # plot the bar graph\n",
        "   \n",
        "    fig, ax = plt.subplots()\n",
        "    ax.bar(uni_new, num_su, label='수시')\n",
        "    ax.bar(uni_new, num_je, bottom=num_su, label='정시')\n",
        "    \n",
        "    # add value labels\n",
        "    for i, (su, je) in enumerate(zip(num_su, num_je)):\n",
        "        ax.text(i, su+0.05, su, ha='center', va='center')\n",
        "        ax.text(i, je+0.02, je, ha='center', va='center')\n",
        "        #ax.text(i, su/2, su, ha='center', va='center')  예비코드: 수시와 정시합격자가 누적될때 적절한 수시합격자수 위치 \n",
        "        #ax.text(i, su + je/2, je, ha='center', va='center') 예비코드: 수시와 정시합격자가 누적될때 적절한 정시합격자수 위치 \n",
        "\n",
        "\n",
        "    ax.legend()\n",
        "    # 그래프 제목\n",
        "    ax.set_title('2023 D고 합격자수', fontsize=18, fontweight='bold', loc='left')\n",
        "\n",
        "    # 그래프 부제목\n",
        "    ax.text(0.34, 1.00, '(단위: 명)', ha='center', va='top', transform=ax.transAxes, fontsize=12)\n",
        "   \n",
        "    \n",
        "    plt.xticks(rotation=45)\n",
        "    plt.box(False) #테두리 박스 제거\n",
        "    plt.yticks([]) #y축 제거\n",
        "    plt.show()\n",
        "else:\n",
        "    print(\"조건에 맞는 대학이 없습니다.\")\n"
      ],
      "metadata": {
        "colab": {
          "base_uri": "https://localhost:8080/",
          "height": 532
        },
        "id": "j4INBlx9VCz7",
        "outputId": "4eb68e3b-a9ba-4e54-9785-e200e066b582"
      },
      "execution_count": 19,
      "outputs": [
        {
          "output_type": "stream",
          "name": "stdout",
          "text": [
            "\n",
            "***2023학년도 등촌고 합격자수***\n",
            "고려대 합격자수 - 수시: 2명, 정시: 0명\n",
            "서강대 합격자수 - 수시: 2명, 정시: 0명\n",
            "성균관대 합격자수 - 수시: 2명, 정시: 0명\n",
            "경희대 합격자수 - 수시: 0명, 정시: 1명\n",
            "한국외대 합격자수 - 수시: 2명, 정시: 0명\n",
            "서울시립대 합격자수 - 수시: 3명, 정시: 0명\n",
            "이화여대 합격자수 - 수시: 3명, 정시: 0명\n",
            "건국대 합격자수 - 수시: 1명, 정시: 0명\n",
            "동국대 합격자수 - 수시: 2명, 정시: 0명\n",
            "홍익대 합격자수 - 수시: 2명, 정시: 0명\n"
          ]
        },
        {
          "output_type": "display_data",
          "data": {
            "text/plain": [
              "<Figure size 432x288 with 1 Axes>"
            ],
            "image/png": "[encoded data removed]"
          },
          "metadata": {
            "needs_background": "light"
          }
        }
      ]
    }
  ]
}