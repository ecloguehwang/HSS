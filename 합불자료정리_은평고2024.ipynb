{
  "nbformat": 4,
  "nbformat_minor": 0,
  "metadata": {
    "colab": {
      "provenance": [],
      "mount_file_id": "1o_3ns2rU7Nc2tvvsNH5xHqGOddGG5iAJ",
      "authorship_tag": "ABX9TyPpNQuxWw9q3FvubbsRrvsF",
      "include_colab_link": true
    },
    "kernelspec": {
      "name": "python3",
      "display_name": "Python 3"
    },
    "language_info": {
      "name": "python"
    },
    "gpuClass": "standard"
  },
  "cells": [
    {
      "cell_type": "markdown",
      "metadata": {
        "id": "view-in-github",
        "colab_type": "text"
      },
      "source": [
        "<a href=\"https://colab.research.google.com/github/ecloguehwang/HSS/blob/master/%ED%95%A9%EB%B6%88%EC%9E%90%EB%A3%8C%EC%A0%95%EB%A6%AC_%EC%9D%80%ED%8F%89%EA%B3%A02024.ipynb\" target=\"_parent\"><img src=\"https://colab.research.google.com/assets/colab-badge.svg\" alt=\"Open In Colab\"/></a>"
      ]
    },
    {
      "cell_type": "code",
      "source": [
        "#colab에서 matplotlib와 sns 라이브러리 그래프 한글을 깨지지 않게 하는 법: 이 코드실행하고 런타임(runtime) 다시 실행하기\n",
        "!sudo apt-get install -y fonts-nanum\n",
        "!sudo fc-cache -fv\n",
        "!rm ~/.cache/matplotlib -rf"
      ],
      "metadata": {
        "id": "8hcwGGZ6BUqr"
      },
      "execution_count": null,
      "outputs": []
    },
    {
      "cell_type": "code",
      "source": [
        "#pandas, openpyxl 라이브러리 부르기\n",
        "import pandas as pd\n",
        "import numpy as np\n",
        "import os\n",
        "import openpyxl\n",
        "from tabulate import tabulate\n",
        "import matplotlib.pyplot as plt\n",
        "\n",
        "\n",
        "##  데이터 부르기\n",
        "path = '/content/drive/MyDrive/python/habbul/'\n",
        "df = pd.read_excel(f'{path}eunpyeong_2024_habbul.xlsx')\n",
        "\n",
        "\n",
        "# 첫 5줄을 봅니다.\n",
        "df.tail(4)"
      ],
      "metadata": {
        "id": "8R5FWLi09yc1"
      },
      "execution_count": null,
      "outputs": []
    },
    {
      "cell_type": "code",
      "source": [
        "#matplotlib에서 한글구현\n",
        "plt.rc('font', family='NanumBarunGothic')\n",
        "\n",
        "#그래프 마이너스 기호 깨짐 방지\n",
        "plt.rcParams['axes.unicode_minus'] = False"
      ],
      "metadata": {
        "id": "MLqQi7koBV0q"
      },
      "execution_count": 2,
      "outputs": []
    },
    {
      "cell_type": "code",
      "source": [
        "frequency = df.groupby('지원시기').size().reset_index(name='빈도')\n",
        "\n",
        "print(frequency)"
      ],
      "metadata": {
        "colab": {
          "base_uri": "https://localhost:8080/"
        },
        "id": "0NWjFy55wmm7",
        "outputId": "19c98f91-b694-47cd-fa03-2d423949e87b"
      },
      "execution_count": 3,
      "outputs": [
        {
          "output_type": "stream",
          "name": "stdout",
          "text": [
            "   지원시기   빈도\n",
            "0     가    2\n",
            "1     나    3\n",
            "2     다    3\n",
            "3    수시  559\n",
            "4  수시1차  142\n",
            "5  수시2차   60\n",
            "6  정시1차    3\n"
          ]
        }
      ]
    },
    {
      "cell_type": "code",
      "source": [
        "import pandas as pd\n",
        "import matplotlib.pyplot as plt\n",
        "\n",
        "# 조건에 따라 '지원시기'열의 값 변경\n",
        "df['지원시기'] = df['지원시기'].replace({'가': '정시', '나': '정시', '다': '정시', '정시1차':'정시',\n",
        "                                       '수시1차': '수시_전문대', '수시2차': '수시_전문대', '수시': '수시_4년제'})\n",
        "\n",
        "\n",
        "# 변경된 '지원시기'열의 값으로 groupby하여 빈도 계산\n",
        "frequency = df.groupby('지원시기').size().reset_index(name='빈도')\n",
        "\n",
        "\n",
        "# 각 항목별 비율 계산하여 '비율' 열에 저장\n",
        "frequency['비율(%)'] = (frequency['빈도'] / frequency['빈도'].sum() * 100).astype(int)\n",
        "\n",
        "\n",
        "# 데이터프레임에서 '지원시기'와 '빈도' 열 추출\n",
        "labels = frequency['지원시기']\n",
        "sizes = frequency['빈도']\n",
        "colors = ['gold', 'lightcoral', 'lightskyblue']\n",
        "explode = (0.02, 0, 0)  # 각 조각이 도넛에서 얼마나 떨어져 있는지 설정\n",
        "\n",
        "\n",
        "\n",
        "# Ensure that explode has the same length as sizes\n",
        "if len(explode) != len(sizes):\n",
        "    explode = tuple(0 for _ in sizes)  # Set all explode values to 0 if lengths don't match\n",
        "\n",
        "\n",
        "# 도넛 차트 생성\n",
        "plt.figure(figsize=(8, 6))\n",
        "wedges, texts, autotexts = plt.pie(sizes, explode=explode, colors=colors, autopct='%1.1f%%', startangle=140, wedgeprops=dict(width=0.25))\n",
        "plt.axis('equal')  # 동그랗게 만들기\n",
        "\n",
        "\n",
        "# labels를 도넛 차트 위에 표시\n",
        "plt.legend(wedges, labels, loc=\"best\", fontsize=12)\n",
        "\n",
        "\n",
        "# 비율(%)을 정수로 표시\n",
        "for autotext in autotexts:\n",
        "    autotext.set_text('{:.0f}%'.format(float(autotext.get_text().strip('%'))))\n",
        "\n",
        "\n",
        "\n",
        "# 비율(%)의 글자 크기 확대 및 위치 조정\n",
        "for autotext in autotexts:\n",
        "    autotext.set_fontsize(13)\n",
        "    autotext.set_position((autotext.get_position()[0] - 0.21, autotext.get_position()[1] ))\n",
        "    autotext.set_horizontalalignment('left')\n",
        "\n",
        "\n",
        "# '수시_4년제'에 해당하는 텍스트 위치 변경\n",
        "for i, label in enumerate(labels):\n",
        "    if label == '수시':\n",
        "        autotexts[i].set_position((autotexts[i].get_position()[0], autotexts[i].get_position()[1] ))  # 수동으로 위치 조정\n",
        "\n",
        "# 제목 추가\n",
        "plt.text(0, 0, '2024학년도 E고 대학지원비율', fontsize=16, ha='center', va='center')\n",
        "\n",
        "\n",
        "path = '/content/drive/MyDrive/python/eunpyeong/result_habbul/'\n",
        "plt.savefig(f'{path}pass_2024_은평고_수시정시지원비율.png')\n",
        "plt.savefig(f'{path}pass_2024_은평고_수시정시지원비율.pdf')\n",
        "\n",
        "plt.show()"
      ],
      "metadata": {
        "colab": {
          "base_uri": "https://localhost:8080/",
          "height": 499
        },
        "id": "u0Z1mRii9wA6",
        "outputId": "238709b7-bec2-4a9f-b2a9-1d8419812c1a"
      },
      "execution_count": 17,
      "outputs": [
        {
          "output_type": "display_data",
          "data": {
            "text/plain": [
              "<Figure size 800x600 with 1 Axes>"
            ],
            "image/png": "[encoded data removed]"
          },
          "metadata": {}
        }
      ]
    },
    {
      "cell_type": "code",
      "source": [
        "#합격자 세로 막대그래프\n",
        "\n",
        "import pandas as pd\n",
        "import matplotlib.pyplot as plt\n",
        "\n",
        "\n",
        "#표시할 대학리스트\n",
        "uni = ['서울대', '연세대', '고려대', '서강대', '성균관대', '한양대', '중앙대', '경희대', '한국외대', '서울시립대', '이화여대', '건국대', '동국대', '홍익대',\n",
        "       '숙명여대', '국민대', '숭실대', '세종대', '서울과기대', '광운대', '명지대', '상명대', '가톨릭대(성심)', '가천대(글로벌)', '공군사관학교', '한국예술종합학교']\n",
        "\n",
        "\n",
        "# 데이터 부르기\n",
        "path = '/content/drive/MyDrive/python/habbul/'\n",
        "df = pd.read_excel(f'{path}eunpyeong_2024_habbul.xlsx')\n",
        "\n",
        "\n",
        "# '지원시기'열의 값 변경: 가,나\n",
        "df['지원시기'] = df['지원시기'].replace({'가': '정시', '나': '정시', '다': '정시',\n",
        "                                       '수시1차': '수시', '수시2차': '수시'})\n",
        "\n",
        "# 빈 리스트\n",
        "uni_new = []\n",
        "num_su = []\n",
        "num_je = []\n",
        "\n",
        "\n",
        "# 리스트에 새로운 대학리스트와, 수시합격자, 정시합격자를 담기\n",
        "for u in uni:\n",
        "    df_u = df[(df.대학 == u) & (df.최종 == '합')]\n",
        "    df_u = df_u[['지원시기', '학번', '대학', '최종']]\n",
        "\n",
        "    num_su_u = len(df_u[df_u['지원시기'] == '수시'])\n",
        "    num_je_u = len(df_u[df_u['지원시기'] == '정시'])\n",
        "\n",
        "\n",
        "    if num_su_u >= 1 or num_je_u >= 1:  # '지원시기'열의 값이 1 이상일 때만 값을 표시\n",
        "        uni_new.append(u)\n",
        "        num_su.append(num_su_u)\n",
        "        num_je.append(num_je_u)\n",
        "\n",
        "        print(u, \"합격자수 - 수시:\", str(num_su_u) + \"명,\", \"정시:\", str(num_je_u) + \"명\")\n",
        "        print(\"-----------------------------------------\\n\")\n",
        "\n",
        "\n",
        "# 지원시기가 1 이상인 데이터만 사용\n",
        "num_su = [su for su, je in zip(num_su, num_je) if su >= 1 or je >= 1]\n",
        "num_je = [je for su, je in zip(num_su, num_je) if su >= 1 or je >= 1]\n",
        "uni_new = [uni for uni, su, je in zip(uni_new, num_su, num_je) if su >= 1 or je >= 1]\n",
        "\n",
        "\n",
        "if len(uni_new) > 0:\n",
        "    # sort the data by the total number of admissions (sum of num_su and num_je)\n",
        "    data = sorted(zip(uni_new, num_su, num_je), key=lambda x: x[1]+x[2], reverse=False)\n",
        "    uni_new = [x[0] for x in data]\n",
        "    num_su = [x[1] for x in data]\n",
        "    num_je = [x[2] for x in data]\n",
        "\n",
        "    # plot the bar graph\n",
        "    fig, ax = plt.subplots()\n",
        "    ax.bar(uni_new, num_su, label='수시')\n",
        "    ax.bar(uni_new, num_je, bottom=num_su, label='정시')\n",
        "\n",
        "\n",
        "    # add value labels\n",
        "    for i, (su, je) in enumerate(zip(num_su, num_je)):\n",
        "        if su >= 1:\n",
        "            ax.text(i, su+0.05, su, ha='center', va='center', fontsize=13)\n",
        "        if je >= 1:\n",
        "            ax.text(i, su + je+0.02, je, ha='center', va='center', fontsize=13)\n",
        "\n",
        "    # 범례\n",
        "    ax.legend()\n",
        "\n",
        "    # 그래프 제목\n",
        "    ax.set_title('2024학년도 E고 서울주요대 합격자수', fontsize=18, fontweight='bold', loc='left')\n",
        "\n",
        "    # 그래프 부제목\n",
        "    ax.text(0.6, 1.00, '(단위: 명)', ha='center', va='top', transform=ax.transAxes, fontsize=12)\n",
        "\n",
        "\n",
        "    # X축 눈금(ticks) 제거\n",
        "    ax.tick_params(axis='x', which='both', length=0)\n",
        "\n",
        "\n",
        "    plt.xticks(rotation= 90)  # x축 45도 회전\n",
        "    plt.box(False)  # 테두리 박스 제거\n",
        "    plt.yticks([])  # y축 제거\n",
        "\n",
        "    path = '/content/drive/MyDrive/python/eunpyeong/result_habbul/'\n",
        "    plt.savefig(f'{path}pass_2024_은평고_합격자막대그래프.png')\n",
        "    plt.savefig(f'{path}pass_2024_은평고_합격자막대그래프.pdf')\n",
        "    plt.show()\n",
        "else:\n",
        "    print(\"아쉽게도 그래프를 그릴 합격자가 없습니다.\")"
      ],
      "metadata": {
        "id": "9yBqxwVb5_TT"
      },
      "execution_count": null,
      "outputs": []
    },
    {
      "cell_type": "code",
      "source": [
        "#내신과 수능과 상관관계A: 산포도\n",
        "\n",
        "\n",
        "import matplotlib.pyplot as plt\n",
        "import numpy as np\n",
        "import pandas as pd\n",
        "\n",
        "\n",
        "\n",
        "# Drop rows with any NaN values in '전과목' or '등급_수능' columns\n",
        "df = df.dropna(subset=['전과목', '등급_수능'])\n",
        "\n",
        "\n",
        "# Extract '전과목' and '등급_수능' columns\n",
        "x = df['전과목'].values\n",
        "y = df['등급_수능'].values\n",
        "\n",
        "\n",
        "# Calculate the correlation coefficient\n",
        "corr_coef = np.corrcoef(x, y)[0, 1]\n",
        "\n",
        "\n",
        "# Create the scatter plot\n",
        "plt.scatter(x, y, alpha=0.5,  c='black')\n",
        "plt.title('2024학년도 E고 내신과 수능')\n",
        "plt.xlabel('내신')\n",
        "plt.ylabel('수능')\n",
        "\n",
        "# Add the correlation coefficient to the plot\n",
        "plt.text(0.3, 0.9, f'상관관계(r) = {corr_coef:.2f}',\n",
        "         horizontalalignment='center', verticalalignment='center',\n",
        "         transform=plt.gca().transAxes, fontsize=15)\n",
        "\n",
        "# Reverse the x-axis and y-axis\n",
        "plt.gca().invert_xaxis()\n",
        "plt.gca().invert_yaxis()\n",
        "\n",
        "\n",
        "#그래프 저장\n",
        "path = '/content/drive/MyDrive/python/eunpyeong/result_habbul/'\n",
        "plt.savefig(f'{path}pass_2024_은평고_내신수능상관계수.png')\n",
        "plt.savefig(f'{path}pass_2024_은평고_내신수능상관계수.pdf')\n",
        "\n",
        "plt.show()"
      ],
      "metadata": {
        "colab": {
          "base_uri": "https://localhost:8080/",
          "height": 471
        },
        "id": "t2JL4m81b1Ui",
        "outputId": "a3bd78b0-bedd-45fb-9899-4a846990b29e"
      },
      "execution_count": 19,
      "outputs": [
        {
          "output_type": "display_data",
          "data": {
            "text/plain": [
              "<Figure size 640x480 with 1 Axes>"
            ],
            "image/png": "[encoded data removed]"
          },
          "metadata": {}
        }
      ]
    },
    {
      "cell_type": "code",
      "source": [
        "#내신과 수능과 상관관계B: 히트맵\n",
        "\n",
        "\n",
        "import seaborn as sns\n",
        "\n",
        "#일부 항목추출\n",
        "df_heatmap = df[['전과목', '국어_등급', '수학_등급', '영어_등급', '선택1_등급', '선택2_등급', '표점합_수능',  '백분위_수능',  '등급_수능']]\n",
        "\n",
        "\n",
        "# 상관계수 계산\n",
        "corr = df_heatmap.corr()\n",
        "\n",
        "\n",
        "# 히트맵 그리기\n",
        "plt.figure(figsize=(10, 8))\n",
        "sns.heatmap(corr, annot=True, cmap='coolwarm', fmt=\".2f\", linewidths=0.5)\n",
        "plt.title('2024학년도 E고 내신과 수능의 상관계수(히트맵)')\n",
        "\n",
        "path = '/content/drive/MyDrive/python/eunpyeong/result_habbul/'\n",
        "plt.savefig(f'{path}pass_2024_은평고_히트맵상관계수.png')\n",
        "plt.savefig(f'{path}pass_2024_은평고_히트맵상관계수.pdf')\n",
        "\n",
        "plt.show()"
      ],
      "metadata": {
        "colab": {
          "base_uri": "https://localhost:8080/",
          "height": 698
        },
        "id": "nRJH3z6fY-FC",
        "outputId": "c5f275d2-7b65-4d31-ccdc-9f63da7569ad"
      },
      "execution_count": 23,
      "outputs": [
        {
          "output_type": "display_data",
          "data": {
            "text/plain": [
              "<Figure size 1000x800 with 2 Axes>"
            ],
            "image/png": "[encoded data removed]"
          },
          "metadata": {}
        }
      ]
    },
    {
      "cell_type": "code",
      "source": [
        "# 지원시기, 최종별 결측값 기록\n",
        "df.isna().groupby(['지원시기', '최종']).sum()"
      ],
      "metadata": {
        "colab": {
          "base_uri": "https://localhost:8080/",
          "height": 207
        },
        "id": "qWgMZBnVWP_5",
        "outputId": "19e1a9a2-f15d-4980-88d1-522b122db104"
      },
      "execution_count": null,
      "outputs": [
        {
          "output_type": "execute_result",
          "data": {
            "text/plain": [
              "             학번  이름  지역  대학  전형명  계열  모집단위  1단계   예비   등록  ...  선택2_과목명  \\\n",
              "지원시기  최종                                                   ...            \n",
              "False False   0   0   0   0    0   0     0  455  542  653  ...       54   \n",
              "      True    0   0   0   0    0   0     0   24   20   29  ...        1   \n",
              "\n",
              "             선택2_표준점수  선택2_백분위  선택2_등급  한국사_등급  제2외국어_과목명  제2외국어_등급  표점합_수능  \\\n",
              "지원시기  최종                                                                      \n",
              "False False        54       54      54      39        664       664      69   \n",
              "      True          1        1       1       0         29        29       3   \n",
              "\n",
              "             백분위_수능  등급_수능  \n",
              "지원시기  최종                    \n",
              "False False      69     69  \n",
              "      True        3      3  \n",
              "\n",
              "[2 rows x 54 columns]"
            ],
            "text/html": [
              "\n",
              "  <div id=\"df-98e61158-c2a2-4991-a6a7-f217317507c8\" class=\"colab-df-container\">\n",
              "    <div>\n",
              "<style scoped>\n",
              "    .dataframe tbody tr th:only-of-type {\n",
              "        vertical-align: middle;\n",
              "    }\n",
              "\n",
              "    .dataframe tbody tr th {\n",
              "        vertical-align: top;\n",
              "    }\n",
              "\n",
              "    .dataframe thead th {\n",
              "        text-align: right;\n",
              "    }\n",
              "</style>\n",
              "<table border=\"1\" class=\"dataframe\">\n",
              "  <thead>\n",
              "    <tr style=\"text-align: right;\">\n",
              "      <th></th>\n",
              "      <th></th>\n",
              "      <th>학번</th>\n",
              "      <th>이름</th>\n",
              "      <th>지역</th>\n",
              "      <th>대학</th>\n",
              "      <th>전형명</th>\n",
              "      <th>계열</th>\n",
              "      <th>모집단위</th>\n",
              "      <th>1단계</th>\n",
              "      <th>예비</th>\n",
              "      <th>등록</th>\n",
              "      <th>...</th>\n",
              "      <th>선택2_과목명</th>\n",
              "      <th>선택2_표준점수</th>\n",
              "      <th>선택2_백분위</th>\n",
              "      <th>선택2_등급</th>\n",
              "      <th>한국사_등급</th>\n",
              "      <th>제2외국어_과목명</th>\n",
              "      <th>제2외국어_등급</th>\n",
              "      <th>표점합_수능</th>\n",
              "      <th>백분위_수능</th>\n",
              "      <th>등급_수능</th>\n",
              "    </tr>\n",
              "    <tr>\n",
              "      <th>지원시기</th>\n",
              "      <th>최종</th>\n",
              "      <th></th>\n",
              "      <th></th>\n",
              "      <th></th>\n",
              "      <th></th>\n",
              "      <th></th>\n",
              "      <th></th>\n",
              "      <th></th>\n",
              "      <th></th>\n",
              "      <th></th>\n",
              "      <th></th>\n",
              "      <th></th>\n",
              "      <th></th>\n",
              "      <th></th>\n",
              "      <th></th>\n",
              "      <th></th>\n",
              "      <th></th>\n",
              "      <th></th>\n",
              "      <th></th>\n",
              "      <th></th>\n",
              "      <th></th>\n",
              "      <th></th>\n",
              "    </tr>\n",
              "  </thead>\n",
              "  <tbody>\n",
              "    <tr>\n",
              "      <th rowspan=\"2\" valign=\"top\">False</th>\n",
              "      <th>False</th>\n",
              "      <td>0</td>\n",
              "      <td>0</td>\n",
              "      <td>0</td>\n",
              "      <td>0</td>\n",
              "      <td>0</td>\n",
              "      <td>0</td>\n",
              "      <td>0</td>\n",
              "      <td>455</td>\n",
              "      <td>542</td>\n",
              "      <td>653</td>\n",
              "      <td>...</td>\n",
              "      <td>54</td>\n",
              "      <td>54</td>\n",
              "      <td>54</td>\n",
              "      <td>54</td>\n",
              "      <td>39</td>\n",
              "      <td>664</td>\n",
              "      <td>664</td>\n",
              "      <td>69</td>\n",
              "      <td>69</td>\n",
              "      <td>69</td>\n",
              "    </tr>\n",
              "    <tr>\n",
              "      <th>True</th>\n",
              "      <td>0</td>\n",
              "      <td>0</td>\n",
              "      <td>0</td>\n",
              "      <td>0</td>\n",
              "      <td>0</td>\n",
              "      <td>0</td>\n",
              "      <td>0</td>\n",
              "      <td>24</td>\n",
              "      <td>20</td>\n",
              "      <td>29</td>\n",
              "      <td>...</td>\n",
              "      <td>1</td>\n",
              "      <td>1</td>\n",
              "      <td>1</td>\n",
              "      <td>1</td>\n",
              "      <td>0</td>\n",
              "      <td>29</td>\n",
              "      <td>29</td>\n",
              "      <td>3</td>\n",
              "      <td>3</td>\n",
              "      <td>3</td>\n",
              "    </tr>\n",
              "  </tbody>\n",
              "</table>\n",
              "<p>2 rows × 54 columns</p>\n",
              "</div>\n",
              "    <div class=\"colab-df-buttons\">\n",
              "\n",
              "  <div class=\"colab-df-container\">\n",
              "    <button class=\"colab-df-convert\" onclick=\"convertToInteractive('df-98e61158-c2a2-4991-a6a7-f217317507c8')\"\n",
              "            title=\"Convert this dataframe to an interactive table.\"\n",
              "            style=\"display:none;\">\n",
              "\n",
              "  <svg xmlns=\"http://www.w3.org/2000/svg\" height=\"24px\" viewBox=\"0 -960 960 960\">\n",
              "    <path d=\"M120-120v-720h720v720H120Zm60-500h600v-160H180v160Zm220 220h160v-160H400v160Zm0 220h160v-160H400v160ZM180-400h160v-160H180v160Zm440 0h160v-160H620v160ZM180-180h160v-160H180v160Zm440 0h160v-160H620v160Z\"/>\n",
              "  </svg>\n",
              "    </button>\n",
              "\n",
              "  <style>\n",
              "    .colab-df-container {\n",
              "      display:flex;\n",
              "      gap: 12px;\n",
              "    }\n",
              "\n",
              "    .colab-df-convert {\n",
              "      background-color: #E8F0FE;\n",
              "      border: none;\n",
              "      border-radius: 50%;\n",
              "      cursor: pointer;\n",
              "      display: none;\n",
              "      fill: #1967D2;\n",
              "      height: 32px;\n",
              "      padding: 0 0 0 0;\n",
              "      width: 32px;\n",
              "    }\n",
              "\n",
              "    .colab-df-convert:hover {\n",
              "      background-color: #E2EBFA;\n",
              "      box-shadow: 0px 1px 2px rgba(60, 64, 67, 0.3), 0px 1px 3px 1px rgba(60, 64, 67, 0.15);\n",
              "      fill: #174EA6;\n",
              "    }\n",
              "\n",
              "    .colab-df-buttons div {\n",
              "      margin-bottom: 4px;\n",
              "    }\n",
              "\n",
              "    [theme=dark] .colab-df-convert {\n",
              "      background-color: #3B4455;\n",
              "      fill: #D2E3FC;\n",
              "    }\n",
              "\n",
              "    [theme=dark] .colab-df-convert:hover {\n",
              "      background-color: #434B5C;\n",
              "      box-shadow: 0px 1px 3px 1px rgba(0, 0, 0, 0.15);\n",
              "      filter: drop-shadow(0px 1px 2px rgba(0, 0, 0, 0.3));\n",
              "      fill: #FFFFFF;\n",
              "    }\n",
              "  </style>\n",
              "\n",
              "    <script>\n",
              "      const buttonEl =\n",
              "        document.querySelector('#df-98e61158-c2a2-4991-a6a7-f217317507c8 button.colab-df-convert');\n",
              "      buttonEl.style.display =\n",
              "        google.colab.kernel.accessAllowed ? 'block' : 'none';\n",
              "\n",
              "      async function convertToInteractive(key) {\n",
              "        const element = document.querySelector('#df-98e61158-c2a2-4991-a6a7-f217317507c8');\n",
              "        const dataTable =\n",
              "          await google.colab.kernel.invokeFunction('convertToInteractive',\n",
              "                                                    [key], {});\n",
              "        if (!dataTable) return;\n",
              "\n",
              "        const docLinkHtml = 'Like what you see? Visit the ' +\n",
              "          '<a target=\"_blank\" href=https://colab.research.google.com/notebooks/data_table.ipynb>data table notebook</a>'\n",
              "          + ' to learn more about interactive tables.';\n",
              "        element.innerHTML = '';\n",
              "        dataTable['output_type'] = 'display_data';\n",
              "        await google.colab.output.renderOutput(dataTable, element);\n",
              "        const docLink = document.createElement('div');\n",
              "        docLink.innerHTML = docLinkHtml;\n",
              "        element.appendChild(docLink);\n",
              "      }\n",
              "    </script>\n",
              "  </div>\n",
              "\n",
              "\n",
              "<div id=\"df-c43e85c4-6ecd-4b0c-80f5-eee46f97bdbf\">\n",
              "  <button class=\"colab-df-quickchart\" onclick=\"quickchart('df-c43e85c4-6ecd-4b0c-80f5-eee46f97bdbf')\"\n",
              "            title=\"Suggest charts\"\n",
              "            style=\"display:none;\">\n",
              "\n",
              "<svg xmlns=\"http://www.w3.org/2000/svg\" height=\"24px\"viewBox=\"0 0 24 24\"\n",
              "     width=\"24px\">\n",
              "    <g>\n",
              "        <path d=\"M19 3H5c-1.1 0-2 .9-2 2v14c0 1.1.9 2 2 2h14c1.1 0 2-.9 2-2V5c0-1.1-.9-2-2-2zM9 17H7v-7h2v7zm4 0h-2V7h2v10zm4 0h-2v-4h2v4z\"/>\n",
              "    </g>\n",
              "</svg>\n",
              "  </button>\n",
              "\n",
              "<style>\n",
              "  .colab-df-quickchart {\n",
              "      --bg-color: #E8F0FE;\n",
              "      --fill-color: #1967D2;\n",
              "      --hover-bg-color: #E2EBFA;\n",
              "      --hover-fill-color: #174EA6;\n",
              "      --disabled-fill-color: #AAA;\n",
              "      --disabled-bg-color: #DDD;\n",
              "  }\n",
              "\n",
              "  [theme=dark] .colab-df-quickchart {\n",
              "      --bg-color: #3B4455;\n",
              "      --fill-color: #D2E3FC;\n",
              "      --hover-bg-color: #434B5C;\n",
              "      --hover-fill-color: #FFFFFF;\n",
              "      --disabled-bg-color: #3B4455;\n",
              "      --disabled-fill-color: #666;\n",
              "  }\n",
              "\n",
              "  .colab-df-quickchart {\n",
              "    background-color: var(--bg-color);\n",
              "    border: none;\n",
              "    border-radius: 50%;\n",
              "    cursor: pointer;\n",
              "    display: none;\n",
              "    fill: var(--fill-color);\n",
              "    height: 32px;\n",
              "    padding: 0;\n",
              "    width: 32px;\n",
              "  }\n",
              "\n",
              "  .colab-df-quickchart:hover {\n",
              "    background-color: var(--hover-bg-color);\n",
              "    box-shadow: 0 1px 2px rgba(60, 64, 67, 0.3), 0 1px 3px 1px rgba(60, 64, 67, 0.15);\n",
              "    fill: var(--button-hover-fill-color);\n",
              "  }\n",
              "\n",
              "  .colab-df-quickchart-complete:disabled,\n",
              "  .colab-df-quickchart-complete:disabled:hover {\n",
              "    background-color: var(--disabled-bg-color);\n",
              "    fill: var(--disabled-fill-color);\n",
              "    box-shadow: none;\n",
              "  }\n",
              "\n",
              "  .colab-df-spinner {\n",
              "    border: 2px solid var(--fill-color);\n",
              "    border-color: transparent;\n",
              "    border-bottom-color: var(--fill-color);\n",
              "    animation:\n",
              "      spin 1s steps(1) infinite;\n",
              "  }\n",
              "\n",
              "  @keyframes spin {\n",
              "    0% {\n",
              "      border-color: transparent;\n",
              "      border-bottom-color: var(--fill-color);\n",
              "      border-left-color: var(--fill-color);\n",
              "    }\n",
              "    20% {\n",
              "      border-color: transparent;\n",
              "      border-left-color: var(--fill-color);\n",
              "      border-top-color: var(--fill-color);\n",
              "    }\n",
              "    30% {\n",
              "      border-color: transparent;\n",
              "      border-left-color: var(--fill-color);\n",
              "      border-top-color: var(--fill-color);\n",
              "      border-right-color: var(--fill-color);\n",
              "    }\n",
              "    40% {\n",
              "      border-color: transparent;\n",
              "      border-right-color: var(--fill-color);\n",
              "      border-top-color: var(--fill-color);\n",
              "    }\n",
              "    60% {\n",
              "      border-color: transparent;\n",
              "      border-right-color: var(--fill-color);\n",
              "    }\n",
              "    80% {\n",
              "      border-color: transparent;\n",
              "      border-right-color: var(--fill-color);\n",
              "      border-bottom-color: var(--fill-color);\n",
              "    }\n",
              "    90% {\n",
              "      border-color: transparent;\n",
              "      border-bottom-color: var(--fill-color);\n",
              "    }\n",
              "  }\n",
              "</style>\n",
              "\n",
              "  <script>\n",
              "    async function quickchart(key) {\n",
              "      const quickchartButtonEl =\n",
              "        document.querySelector('#' + key + ' button');\n",
              "      quickchartButtonEl.disabled = true;  // To prevent multiple clicks.\n",
              "      quickchartButtonEl.classList.add('colab-df-spinner');\n",
              "      try {\n",
              "        const charts = await google.colab.kernel.invokeFunction(\n",
              "            'suggestCharts', [key], {});\n",
              "      } catch (error) {\n",
              "        console.error('Error during call to suggestCharts:', error);\n",
              "      }\n",
              "      quickchartButtonEl.classList.remove('colab-df-spinner');\n",
              "      quickchartButtonEl.classList.add('colab-df-quickchart-complete');\n",
              "    }\n",
              "    (() => {\n",
              "      let quickchartButtonEl =\n",
              "        document.querySelector('#df-c43e85c4-6ecd-4b0c-80f5-eee46f97bdbf button');\n",
              "      quickchartButtonEl.style.display =\n",
              "        google.colab.kernel.accessAllowed ? 'block' : 'none';\n",
              "    })();\n",
              "  </script>\n",
              "</div>\n",
              "\n",
              "    </div>\n",
              "  </div>\n"
            ]
          },
          "metadata": {},
          "execution_count": 10
        }
      ]
    },
    {
      "cell_type": "code",
      "source": [
        "# 지원시기와 최종의 빈도 및 비율 계산\n",
        "지원시기_빈도 = df['지원시기'].value_counts()\n",
        "최종_빈도 = df['최종'].value_counts()\n",
        "\n",
        "# 빈도 출력\n",
        "print(\"지원시기 빈도:\")\n",
        "print(지원시기_빈도)\n",
        "print(\"\\n최종 빈도:\")\n",
        "print(최종_빈도)\n",
        "\n",
        "# 비율 계산 및 출력\n",
        "print(\"\\n지원시기 비율:\")\n",
        "print(지원시기_빈도 / 지원시기_빈도.sum())\n",
        "print(\"\\n최종 비율:\")\n",
        "print(최종_빈도 / 최종_빈도.sum())\n"
      ],
      "metadata": {
        "colab": {
          "base_uri": "https://localhost:8080/"
        },
        "id": "NKL7V9xiXMoO",
        "outputId": "b327d9f9-d776-4146-98f1-ae167a9132b2"
      },
      "execution_count": 24,
      "outputs": [
        {
          "output_type": "stream",
          "name": "stdout",
          "text": [
            "지원시기 빈도:\n",
            "수시      552\n",
            "정시        8\n",
            "정시1차      3\n",
            "Name: 지원시기, dtype: int64\n",
            "\n",
            "최종 빈도:\n",
            "불    389\n",
            "합    171\n",
            "Name: 최종, dtype: int64\n",
            "\n",
            "지원시기 비율:\n",
            "수시      0.980462\n",
            "정시      0.014210\n",
            "정시1차    0.005329\n",
            "Name: 지원시기, dtype: float64\n",
            "\n",
            "최종 비율:\n",
            "불    0.694643\n",
            "합    0.305357\n",
            "Name: 최종, dtype: float64\n"
          ]
        }
      ]
    },
    {
      "cell_type": "code",
      "source": [
        "#정시와 수시 지원률 그래프 그리기\n",
        "\n",
        "import pandas as pd\n",
        "import matplotlib.pyplot as plt\n",
        "\n",
        "\n",
        "\n",
        "# 조건에 따라 '지원시기'열의 값 변경\n",
        "df['지원시기'] = df['지원시기'].replace({'가': '정시', '나': '정시', '다': '정시', '정시1차':'정시',\n",
        "                                       '수시1차': '수시_전문대', '수시2차': '수시_전문대', '수시': '수시_4년제'})\n",
        "\n",
        "\n",
        "# '지원시기'별 비율 계산\n",
        "지원시기_비율 = (df['지원시기'].value_counts(normalize=True) * 100).astype(int)  # 정수로 변환 후 퍼센트로 변환\n",
        "labels = 지원시기_비율.index\n",
        "\n",
        "\n",
        "# '최종' 열의 값이 '합'인 경우는 '합격', '불'인 경우는 '불합격'으로 변경\n",
        "#df['최종'] = df['최종'].apply(lambda x: '합격' if x == '합' else '불합격')\n",
        "\n",
        "# '최종' 열의 값을 '합격', '불합격'으로 직접 변경\n",
        "df['최종'] = df['최종'].replace({'합': '합격', '불': '불합격'})\n",
        "\n",
        "\n",
        "# '합격'과 '불합격'별 비율 계산\n",
        "최종_비율 = (df['최종'].value_counts(normalize=True) * 100).astype(int)  # 정수로 변환 후 퍼센트로 변환\n",
        "\n",
        "\n",
        "# '지원시기' 도넛 차트\n",
        "plt.figure(figsize=(10, 5))\n",
        "plt.subplot(1, 2, 1)\n",
        "plt.pie(지원시기_비율, labels=labels, autopct='%1.0f%%', startangle=90, colors=plt.cm.tab20.colors, wedgeprops=dict(width=0.25))\n",
        "# 제목 추가\n",
        "plt.text(0, 0, '2024 E고 수시정시 지원률', fontsize=16, ha='center', va='center')\n",
        "plt.axis('equal')  # 동그랗게 만들기\n",
        "\n",
        "\n",
        "\n",
        "# '합격'과 '불합격' 도넛 차트\n",
        "plt.subplot(1, 2, 2)\n",
        "plt.pie(최종_비율, labels=최종_비율.index, autopct='%1.0f%%', startangle=90, colors=plt.cm.tab20.colors, wedgeprops=dict(width=0.25))\n",
        "plt.text(0, 0, '2024 E고 합격률', fontsize=16, ha='center', va='center')\n",
        "plt.axis('equal')  # 동그랗게 만들기\n",
        "\n",
        "plt.tight_layout()  # subplot 간 간격 조절\n",
        "\n",
        "\n",
        "path = '/content/drive/MyDrive/python/eunpyeong/result_habbul/'\n",
        "plt.savefig(f'{path}pass_2024_은평고_수시정시합격률.png')\n",
        "plt.savefig(f'{path}pass_2024_은평고_수시정시합격률.pdf')\n",
        "plt.show()"
      ],
      "metadata": {
        "colab": {
          "base_uri": "https://localhost:8080/",
          "height": 507
        },
        "id": "MfiWLMsPDRS3",
        "outputId": "6315d4f7-bdd4-4411-8506-ad09719699f5"
      },
      "execution_count": 3,
      "outputs": [
        {
          "output_type": "display_data",
          "data": {
            "text/plain": [
              "<Figure size 1000x500 with 2 Axes>"
            ],
            "image/png": "[encoded data removed]"
          },
          "metadata": {}
        }
      ]
    },
    {
      "cell_type": "code",
      "source": [
        "#정시와 수시 지원률 그래프 그리기\n",
        "\n",
        "import pandas as pd\n",
        "import matplotlib.pyplot as plt\n",
        "\n",
        "\n",
        "\n",
        "##  데이터 부르기\n",
        "path = '/content/drive/MyDrive/python/habbul/'\n",
        "df = pd.read_excel(f'{path}eunpyeong_2024_habbul.xlsx')\n",
        "\n",
        "\n",
        "\n",
        "# 조건에 따라 '지원시기'열의 값 변경\n",
        "df['지원시기'] = df['지원시기'].replace({'가': '정시', '나': '정시', '다': '정시', '정시1차':'정시',\n",
        "                                       '수시1차': '수시', '수시2차': '수시', '수시': '수시'})\n",
        "\n",
        "\n",
        "# '지원시기'별 비율 계산\n",
        "지원시기_비율 = (df['지원시기'].value_counts(normalize=True) * 100).astype(int)  # 정수로 변환 후 퍼센트로 변환\n",
        "labels = 지원시기_비율.index\n",
        "\n",
        "\n",
        "# '최종' 열의 값이 '합'인 경우는 '합격', '불'인 경우는 '불합격'으로 변경\n",
        "df['최종'] = df['최종'].apply(lambda x: '합격' if x == '합' else '불합격')\n",
        "\n",
        "\n",
        "# '합격'과 '불합격'별 비율 계산\n",
        "최종_비율 = (df['최종'].value_counts(normalize=True) * 100).astype(int)  # 정수로 변환 후 퍼센트로 변환\n",
        "\n",
        "\n",
        "# '지원시기' 도넛 차트\n",
        "plt.figure(figsize=(10, 5))\n",
        "plt.subplot(1, 2, 1)\n",
        "plt.pie(지원시기_비율, labels=labels, autopct='%1.0f%%', startangle=90, colors=plt.cm.tab20.colors, wedgeprops=dict(width=0.25))\n",
        "\n",
        "\n",
        "\n",
        "\n",
        "# 제목 추가\n",
        "plt.text(0, 0, '2024 은평고 수시정시 지원비율', fontsize=16, ha='center', va='center')\n",
        "plt.axis('equal')  # 동그랗게 만들기\n",
        "\n",
        "\n",
        "path = '/content/drive/MyDrive/python/eunpyeong/result_habbul/'\n",
        "plt.savefig(f'{path}pass_2024_은평고_수시정시지원비율.png')\n",
        "plt.savefig(f'{path}pass_2024_은평고_수시정시지원비율.pdf')\n",
        "plt.show()\n"
      ],
      "metadata": {
        "colab": {
          "base_uri": "https://localhost:8080/",
          "height": 422
        },
        "id": "Ty_TTNNUDXsK",
        "outputId": "25c291fa-e449-4229-9a9d-7fd870793a05"
      },
      "execution_count": 6,
      "outputs": [
        {
          "output_type": "display_data",
          "data": {
            "text/plain": [
              "<Figure size 1000x500 with 1 Axes>"
            ],
            "image/png": "[encoded data removed]"
          },
          "metadata": {}
        }
      ]
    },
    {
      "cell_type": "code",
      "source": [
        "import pandas as pd\n",
        "import matplotlib.pyplot as plt\n",
        "\n",
        "# 데이터 불러오기\n",
        "path = '/content/drive/MyDrive/python/habbul/'\n",
        "df = pd.read_excel(f'{path}eunpyeong_2024_habbul.xlsx')\n",
        "\n",
        "# Filter the rows based on the frequency of the \"대학\" column\n",
        "freq = df['대학'].value_counts()\n",
        "freq = freq[freq >= 12]\n",
        "\n",
        "# 대학수\n",
        "freq_num = len(freq)\n",
        "\n",
        "# Create a horizontal bar plot with descending order\n",
        "freq_sorted = freq.sort_values()\n",
        "plt.barh(freq_sorted.index, freq_sorted)\n",
        "\n",
        "\n",
        "\n",
        "# Draw a dotted vertical line only from the X-axis tick with maximum value of the plot\n",
        "max_value = max(freq_sorted)\n",
        "plt.axvline(max_value, linestyle=':', color='gray', linewidth=0.7, ymax=0.95)  # 아래쪽 x축까지 선이 도달하도록 ymax 설정\n",
        "\n",
        "\n",
        "\n",
        "# Annotate the maximum value on the plot\n",
        "plt.text(max_value - 1.5, len(freq_sorted) - 1, f'{max_value}', color='white', fontsize=10, va='center', fontweight='bold')\n",
        "\n",
        "\n",
        "\n",
        "# Save the plot in png and pdf formats\n",
        "path1 = '/content/drive/MyDrive/python/eunpyeong/result_habbul/'\n",
        "\n",
        "plt.title(f\"2024학년도 E고 지원대학 Top{freq_num}\")\n",
        "plt.savefig(f'{path1}2024uni_preferred.png', dpi=300, bbox_inches='tight')\n",
        "plt.savefig(f'{path1}2024uni_preferred.pdf', bbox_inches='tight')\n",
        "plt.show()"
      ],
      "metadata": {
        "colab": {
          "base_uri": "https://localhost:8080/",
          "height": 451
        },
        "id": "rVMA0gsMMr7J",
        "outputId": "212d4cd2-ff96-4934-adda-29ed2306955c"
      },
      "execution_count": 28,
      "outputs": [
        {
          "output_type": "display_data",
          "data": {
            "text/plain": [
              "<Figure size 640x480 with 1 Axes>"
            ],
            "image/png": "[encoded data removed]"
          },
          "metadata": {}
        }
      ]
    },
    {
      "cell_type": "code",
      "source": [
        "# 반별 : 전문대 제외한 4년제 합격자 총명단\n",
        "\n",
        "from tabulate import tabulate\n",
        "\n",
        "path = '/content/drive/MyDrive/python/habbul/'\n",
        "df = pd.read_excel(f'{path}eunpyeong_2024_habbul.xlsx')\n",
        "\n",
        "\n",
        "#지역, 최종, ace대학 제외\n",
        "seoul_df = df[(df.최종 == '합') & ~(df.대학.str.contains(\"대학교\"))]\n",
        "\n",
        "\n",
        "#필요한 변수(열)만 불러옴\n",
        "seoul_df = seoul_df[['지역', '학번', '계열', '이름', '대학', '모집단위', '최종', '전과목', '지원시기', '전형분류']]\n",
        "\n",
        "\n",
        "\n",
        "# tabulate를 사용하여 결과 출력\n",
        "print(tabulate(seoul_df, headers='keys', tablefmt='plain', showindex=False))\n",
        "print(\"********************************************************************\")\n",
        "\n",
        "\n",
        "\n",
        "#합격자수\n",
        "print(\"2024학년도  E고 대학 합격자수는 %d건입니다.(중복합격 포함)\" % len(seoul_df))\n",
        "\n",
        "\n",
        "#데이터 프레임으로 전환\n",
        "seoul_df_p = pd.DataFrame(seoul_df)\n",
        "\n",
        "\n",
        "#결과를 엑셀로 저장\n",
        "path = '/content/drive/MyDrive/python/eunpyeong/result_habbul/'\n",
        "seoul_df_p.to_excel(excel_writer= f'{path}반별합격자명단_2024_은평고.xlsx')"
      ],
      "metadata": {
        "id": "g2DjzQIIe-yn"
      },
      "execution_count": null,
      "outputs": []
    },
    {
      "cell_type": "code",
      "source": [
        "# 4년제대 합격자 명단A - 선호대학 순으로 출력\n",
        "\n",
        "import pandas as pd\n",
        "from tabulate import tabulate\n",
        "\n",
        "\n",
        "\n",
        "# 지역, 최종, ace대학 제외\n",
        "uni4 = df[(df.최종 == '합') & ~(df.대학.str.contains(\"대학교\"))]\n",
        "\n",
        "# 필요한 변수(열)만 불러옴\n",
        "uni4 = uni4[['지역', '이름', '대학', '모집단위', '최종', '전과목', '지원시기', '전형분류', '표점합_수능', '백분위_수능']]\n",
        "\n",
        "\n",
        "uni4['전과목'] = uni4['전과목'].round(2)\n",
        "\n",
        "# NaN 값을 '졸업생'으로 변경\n",
        "uni4['전과목'].fillna('졸업생', inplace=True)\n",
        "\n",
        "\n",
        "#대구카톨릭대 국어교육과 합격자 제외\n",
        "uni4 = uni4[~((uni4['대학'] == '대구가톨릭대') & (uni4['모집단위'] == '국어교육과'))].copy()\n",
        "\n",
        "\n",
        "# 결과를 출력할 순서대로 정렬\n",
        "output_order = ['대구가톨릭대', '서울대', '연세대', '고려대', '서강대', '성균관대', '한양대', '중앙대', '경희대', '한국외대', '서울시립대', '이화여대', '건국대', '동국대', '홍익대', '숙명여대',\n",
        "                '국민대', '숭실대', '세종대', '서울과기대', '광운대', '명지대', '상명대', '가톨릭대(성심)', '가천대(글로벌)', '한국예술종합학교', '공군사관학교', '한성대', '서경대', '삼육대',  '성신여대', '서울여대', '덕성여대', '아주대', '인하대', '한양대(에리카)']\n",
        "\n",
        "uni4 = uni4.sort_values(by=['대학', '모집단위'], key=lambda x: x.map({v: i for i, v in enumerate(output_order)}))\n",
        "\n",
        "# tabulate를 사용하여 결과 출력\n",
        "print(tabulate(uni4, headers='keys', tablefmt='plain', showindex=False))\n",
        "print(\"********************************************************************\")\n",
        "\n",
        "# 합격자수\n",
        "print(\"2024학년도 은평고 대학 합격자수는 %d건입니다.(중복합격 포함)\" % len(uni4))\n",
        "\n",
        "# 데이터 프레임으로 전환\n",
        "uni4_p = pd.DataFrame(uni4)\n",
        "\n",
        "# 결과를 엑셀로 저장\n",
        "path = '/content/drive/MyDrive/python/eunpyeong/result_habbul/'\n",
        "uni4_p.to_excel(excel_writer=f'{path}선호대학순_2024_은평고_uniorder.xlsx')"
      ],
      "metadata": {
        "id": "48gFeSnx3rP-"
      },
      "execution_count": null,
      "outputs": []
    },
    {
      "cell_type": "code",
      "source": [
        "df_catholic = df[df['모집단위'].str.contains('의예')]\n",
        "df_catholic = df_catholic[['이름', '대학', '모집단위',  '최종', '전과목', '지원시기', '전형분류', '표점합_수능', '백분위_수능']]\n",
        "print(df_catholic)"
      ],
      "metadata": {
        "id": "tF0r7V3HCi2-"
      },
      "execution_count": null,
      "outputs": []
    },
    {
      "cell_type": "code",
      "source": [
        "# 4년제대 합격자 명단B - 선호대학 순: 익명처리\n",
        "\n",
        "from tabulate import tabulate\n",
        "\n",
        "\n",
        "# 지역, 최종, ace대학 제외\n",
        "uni4 = df[(df.최종 == '합') & ~(df.대학.str.contains(\"대학교\"))]\n",
        "\n",
        "\n",
        "# 필요한 변수(열)만 불러옴\n",
        "uni4 = uni4[['이름', '지역', '대학', '모집단위', '최종', '전과목']]\n",
        "\n",
        "\n",
        "uni4['전과목'] = uni4['전과목'].round(2)\n",
        "\n",
        "\n",
        "# Show first two letters and replace the third letter with an asterisk in '이름' column\n",
        "uni4.loc[ :, '이름'] = uni4.loc[ :, '이름'].apply(lambda x: x[:1] + '**' + x[3:] if len(x) >= 3 else x[:2])\n",
        "\n",
        "\n",
        "\n",
        "#대구카톨릭대 국어교육과 합격자 제외\n",
        "uni4 = uni4[~((uni4['대학'] == '대구가톨릭대') & (uni4['모집단위'] == '국어교육과'))].copy()\n",
        "\n",
        "\n",
        "# 결과를 출력할 순서대로 정렬\n",
        "output_order = ['대구가톨릭대', '서울대', '연세대', '고려대', '서강대', '성균관대', '한양대', '중앙대', '경희대', '한국외대', '서울시립대', '이화여대', '건국대', '동국대', '홍익대', '숙명여대',\n",
        "                '국민대', '숭실대', '세종대', '서울과기대', '광운대', '명지대', '상명대', '가톨릭대(성심)', '가천대(글로벌)', '한국예술종합학교', '공군사관학교', '한성대', '서경대', '삼육대',  '성신여대', '서울여대', '덕성여대', '아주대', '인하대', '한양대(에리카)']\n",
        "\n",
        "\n",
        "uni4 = uni4.sort_values(by=['대학', '모집단위'], key=lambda x: x.map({v: i for i, v in enumerate(output_order)}))\n",
        "\n",
        "\n",
        "# tabulate를 사용하여 결과 출력\n",
        "print(tabulate(uni4, headers='keys', tablefmt='plain', showindex=False))\n",
        "print(\"********************************************************************\")\n",
        "\n",
        "# 합격자수\n",
        "print(\"2024학년도 은평고 대학 합격자수는 %d건입니다.(중복포함)\" % len(uni4))\n",
        "\n",
        "# 데이터 프레임으로 전환\n",
        "uni4_p = pd.DataFrame(uni4)\n",
        "\n",
        "# 결과를 엑셀로 저장\n",
        "path = '/content/drive/MyDrive/python/eunpyeong/result_habbul/'\n",
        "uni4_p.to_excel(excel_writer=f'{path}합격자익명_2024_은평고_uniorder_anonymous.xlsx')"
      ],
      "metadata": {
        "id": "rV5RAzMtqgiu"
      },
      "execution_count": null,
      "outputs": []
    },
    {
      "cell_type": "code",
      "source": [
        "# 게시용 4년제대 합격자 명단A: '지역', '대학', '모집단위', '지원시기'\n",
        "\n",
        "\n",
        "import pandas as pd\n",
        "from tabulate import tabulate\n",
        "\n",
        "# 최종 열의 값이 '가나다'일 때 '정시'로 변경\n",
        "df.loc[df['최종'] == '가나다', '최종'] = '정시'\n",
        "\n",
        "# 게시용 4년제대 합격자 명단A: '지역', '대학', '모집단위', '지원시기'\n",
        "\n",
        "# uni4 DataFrame 생성\n",
        "uni4 = df[(df['최종'] == '합') & ~(df['대학'].str.contains(\"대학교\"))][['지역', '대학', '모집단위', '지원시기']]\n",
        "\n",
        "\n",
        "# '지원시기' 열의 값이 '가', '나', '다'일 경우 '정시'로 변경\n",
        "uni4.loc[uni4['지원시기'].isin(['가', '나', '다']), '지원시기'] = '정시'\n",
        "\n",
        "\n",
        "\n",
        "#대구카톨릭대 국어교육과 합격자 제외\n",
        "uni4 = uni4[~((uni4['대학'] == '대구가톨릭대') & (uni4['모집단위'] == '국어교육과'))].copy()\n",
        "\n",
        "\n",
        "# 결과를 출력할 순서대로 정렬\n",
        "output_order = ['대구가톨릭대', '서울대',  '연세대', '고려대', '서강대', '성균관대', '한양대', '중앙대', '경희대', '한국외대', '서울시립대', '이화여대', '건국대', '동국대', '홍익대', '숙명여대',\n",
        "                '국민대', '숭실대', '세종대', '서울과기대', '광운대', '명지대', '상명대', '가톨릭대(성심)', '가천대(글로벌)',\n",
        "                '한국예술종합학교', '공군사관학교', '한성대', '서경대', '삼육대',  '성신여대', '서울여대', '덕성여대', '아주대', '인하대', '한양대(에리카)']\n",
        "\n",
        "\n",
        "\n",
        "uni4 = uni4.sort_values(by=['대학', '모집단위'], key=lambda x: x.map({v: i for i, v in enumerate(output_order)}))\n",
        "\n",
        "# 합격자수\n",
        "print(\"2024 E고 4년제대 합격자수는 %d건입니다.(중복합격 포함)\" % len(uni4))\n",
        "print(\"***************************************************************************\")\n",
        "\n",
        "# tabulate를 사용하여 결과 출력\n",
        "print(tabulate(uni4, headers='keys', tablefmt='plain', showindex=False))\n",
        "\n",
        "# 데이터프레임을 엑셀로 저장\n",
        "path = '/content/drive/MyDrive/python/eunpyeong/result_habbul/'\n",
        "uni4.to_excel(excel_writer=f'{path}게시용합격자_2024_은평고_uniorder_board1.xlsx', index=False)\n"
      ],
      "metadata": {
        "id": "Tdkf-kc3t4fu"
      },
      "execution_count": null,
      "outputs": []
    },
    {
      "cell_type": "code",
      "source": [
        "# 게시용 4년제대 합격자 명단B: '지역', '대학', '모집단위', '지원시기', '전형분류'\n",
        "\n",
        "from tabulate import tabulate\n",
        "\n",
        "\n",
        "# 지역, 최종, ace대학 제외\n",
        "uni4 = df[(df.최종 == '합') & ~(df.대학.str.contains(\"대학교\"))]\n",
        "\n",
        "\n",
        "\n",
        "# '지원시기' 열의 값이 '가', '나', '다'일 경우 '정시'로 변경\n",
        "uni4.loc[uni4['지원시기'].isin(['가', '나', '다']), '지원시기'] = '정시'\n",
        "\n",
        "\n",
        "# 필요한 변수(열)만 불러옴\n",
        "uni4 = uni4[['지역', '대학', '모집단위', '지원시기', '전형분류']]\n",
        "\n",
        "\n",
        "\n",
        "#대구카톨릭대 국어교육과 합격자 제외\n",
        "uni4 = uni4[~((uni4['대학'] == '대구가톨릭대') & (uni4['모집단위'] == '국어교육과'))].copy()\n",
        "\n",
        "\n",
        "\n",
        "# 결과를 출력할 순서대로 정렬\n",
        "output_order = ['대구가톨릭대', '서울대',  '연세대', '고려대', '서강대', '성균관대', '한양대', '중앙대', '경희대', '한국외대', '서울시립대', '이화여대', '건국대', '동국대', '홍익대', '숙명여대',\n",
        "                '국민대', '숭실대', '세종대', '서울과기대', '광운대', '명지대', '상명대', '가톨릭대(성심)', '가천대(글로벌)',\n",
        "                '한국예술종합학교', '공군사관학교', '한성대', '서경대', '삼육대',  '성신여대', '서울여대', '덕성여대', '아주대', '인하대', '한양대(에리카)']\n",
        "\n",
        "\n",
        "uni4 = uni4.sort_values(by=['대학', '모집단위'], key=lambda x: x.map({v: i for i, v in enumerate(output_order)}))\n",
        "\n",
        "\n",
        "\n",
        "# 합격자수\n",
        "print(\"2024 E고 4년제대 합격자수는 %d건입니다.(중복합격 포함)\" % len(uni4))\n",
        "print(\"**********************************************************************\")\n",
        "\n",
        "\n",
        "# tabulate를 사용하여 결과 출력\n",
        "print(tabulate(uni4, headers='keys', tablefmt='plain', showindex=False))\n",
        "\n",
        "\n",
        "# 데이터 프레임으로 전환\n",
        "uni4_p = pd.DataFrame(uni4)\n",
        "\n",
        "# 결과를 엑셀로 저장\n",
        "path = '/content/drive/MyDrive/python/eunpyeong/result_habbul/'\n",
        "uni4_p.to_excel(excel_writer=f'{path}pass_2024_은평고_uniorder_board2.xlsx')"
      ],
      "metadata": {
        "id": "pJMmCSdTKAVK"
      },
      "execution_count": null,
      "outputs": []
    },
    {
      "cell_type": "code",
      "source": [
        "#이름으로 백분위 점수 조회\n",
        "name = input(\"이름:\")\n",
        "df_name = df[(df.이름 == name)]\n",
        "df_name = df_name[['학번', '이름', '대학',  '모집단위', '최종', '전형분류', '전과목', '표점합_수능', '백분위_수능', '전형명', '전형분류', '전형명', '전형방법']]\n",
        "\n",
        "df_name['전과목'] = df_name['전과목'].round(1)\n",
        "df_name"
      ],
      "metadata": {
        "id": "U-0HL-hDOIgQ"
      },
      "execution_count": null,
      "outputs": []
    },
    {
      "cell_type": "code",
      "source": [
        "#지원자수가 궁금한 대학 파악: 1.이름 2.엑셀결과를 00대로 자동저장  3.결과 오름차순 정렬\n",
        "\n",
        "\n",
        "from tabulate import tabulate\n",
        "import pandas as pd\n",
        "\n",
        "uni = input(\"지원횟수가 궁금한 대학:\")\n",
        "\n",
        "# Find strings containing the input 'uni' in '대학' column\n",
        "df_대학 = df['대학'].str.contains(uni, regex=False)\n",
        "\n",
        "# 지방캠퍼스 대학 제외 ex)동국대(경주)\n",
        "df_대학 = df_대학 & ~df['대학'].str.contains('[()]+', regex=True)\n",
        "\n",
        "subset_df = df[df_대학]\n",
        "subset_df_p = subset_df[(subset_df['최종'] == '합') | (subset_df['최종'] == '불')]\n",
        "subset_df_p = subset_df_p[[ '학번', '이름', '대학', '모집단위', '전형분류', '최종', '전과목', ]]\n",
        "\n",
        "# Sort the DataFrame by '전과목' column in ascending order\n",
        "subset_df_p = subset_df_p.sort_values(by='전과목', ascending=True)\n",
        "\n",
        "subset_df_p_applicants = len(subset_df_p)\n",
        "\n",
        "# Convert DataFrame to a list of lists for tabulate\n",
        "table_data = subset_df_p.values.tolist()\n",
        "\n",
        "# Define the table headers\n",
        "table_headers = [ '학번', '이름', '대학', '모집단위', '전형분류', '최종', '전과목', ]\n",
        "\n",
        "# Format the columns '전과목' and  with two decimal places\n",
        "table_data_formatted = []\n",
        "for row in table_data:\n",
        "    formatted_row = row[:7]  # Copy the first 7 columns as-is\n",
        "    formatted_row.append(f\"{row[7]:.2f}\")  # Format '전과목' with two decimal places\n",
        "    formatted_row.append(f\"{row[8]:.1f}\")  # Format  with two decimal places\n",
        "    table_data_formatted.append(formatted_row)\n",
        "\n",
        "# Create the formatted table using tabulate\n",
        "table_string = tabulate(table_data_formatted, headers=table_headers, tablefmt='plain')\n",
        "\n",
        "print(table_string)\n",
        "print(f\"\\n{uni}대 지원횟수는 총 {subset_df_p_applicants}건입니다.\")\n",
        "\n",
        "# Save the sorted DataFrame to an Excel file with a dynamic file name\n",
        "excel_filename = f\"/content/drive/MyDrive/python/habbul/result_d/{uni}대_fullname.xlsx\"\n",
        "subset_df_p.to_excel(excel_filename, index=False)\n",
        "print(f\"결과가 '{excel_filename}'에 저장되었습니다.\")\\\n"
      ],
      "metadata": {
        "id": "rwnexuPjrt39"
      },
      "execution_count": null,
      "outputs": []
    },
    {
      "cell_type": "code",
      "source": [
        "#지원자수가 궁금한 대학 파악: 결과를 익명으로 보여줌 - 1.성+이름(*) 2.엑셀결과를 00대로 자동저장  3.결과 오름차순 정렬\n",
        "\n",
        "from tabulate import tabulate\n",
        "import pandas as pd\n",
        "\n",
        "uni = input(\"지원횟수가 궁금한 대학:\")\n",
        "\n",
        "# Find strings containing the input 'uni' in '대학' column\n",
        "df_대학 = df['대학'].str.contains(uni, regex=False)\n",
        "\n",
        "\n",
        "# 지방캠퍼스 대학 제외 ex)동국대(경주)\n",
        "df_대학 = df_대학 & ~df['대학'].str.contains('[()]+', regex=True)\n",
        "\n",
        "\n",
        "subset_df = df[df_대학]\n",
        "subset_df_p = subset_df[(subset_df['최종'] == '합') | (subset_df['최종'] == '불')]\n",
        "\n",
        "\n",
        "# 이름 일부 익명처리 - 이름의 세 글자중 세번째 글자를 별표 표시, 네번째 글자부터는 그대로 표시\n",
        "subset_df_p['이름'] = subset_df_p['이름'].apply(lambda x: x[:2] + '*' + x[3:] if len(x) >= 3 else x[:2])\n",
        "\n",
        "subset_df_p = subset_df_p[[ '학번', '이름', '대학', '모집단위', '전형분류', '최종', '전과목', ]]\n",
        "\n",
        "# Sort the DataFrame by '전과목' column in ascending order\n",
        "subset_df_p = subset_df_p.sort_values(by='전과목', ascending=True)\n",
        "\n",
        "subset_df_p_applicants = len(subset_df_p)\n",
        "\n",
        "# Convert DataFrame to a list of lists for tabulate\n",
        "table_data = subset_df_p.values.tolist()\n",
        "\n",
        "# Define the table headers\n",
        "table_headers = [ '학번', '이름', '대학', '모집단위', '전형분류', '최종', '전과목', ]\n",
        "\n",
        "# Format the columns '전과목' and  with two decimal places\n",
        "table_data_formatted = []\n",
        "for row in table_data:\n",
        "    formatted_row = row[:7]  # Copy the first 7 columns as-is\n",
        "    formatted_row.append(f\"{row[7]:.2f}\")  # Format '전과목' with two decimal places\n",
        "    formatted_row.append(f\"{row[8]:.1f}\")  # Format  with two decimal places\n",
        "    table_data_formatted.append(formatted_row)\n",
        "\n",
        "# Create the formatted table using tabulate\n",
        "table_string = tabulate(table_data_formatted, headers=table_headers, tablefmt='plain')\n",
        "\n",
        "print(table_string)\n",
        "print(f\"\\n{uni}대 지원횟수는 총 {subset_df_p_applicants}건입니다.\")\n",
        "\n",
        "# Save the sorted DataFrame to an Excel file with a dynamic file name\n",
        "excel_filename = f\"/content/drive/MyDrive/python/habbul/result_d/{uni}_익명.xlsx\"\n",
        "subset_df_p.to_excel(excel_filename, index=False)\n",
        "print(f\"결과가 '{excel_filename}'에 저장되었습니다.\")"
      ],
      "metadata": {
        "id": "INpRsazwpNpw"
      },
      "execution_count": null,
      "outputs": []
    },
    {
      "cell_type": "code",
      "source": [
        "#특정 백분위 구간의 점수별 빈도(ex: 80~85%사이의 빈도수)\n",
        "\n",
        "\n",
        "mi = int(input(\"이상:\"))\n",
        "mx = int(input(\"미만:\"))\n",
        "\n",
        "\n",
        "# mx이상 mi이하 조건을 충족하는 객체 만들기\n",
        "df_interval = df[(df.백분위_수능 >= mi) & (df.백분위_수능 < mx)]\n",
        "\n",
        "#중복학생을 제외하고 1개만 남김\n",
        "df_interval = df_interval.drop_duplicates('이름')\n",
        "\n",
        "df_interval_name = df_interval[['학번', '이름', '전과목', '등급_수능', '백분위_수능']].copy()\n",
        "\n",
        "\n",
        "#전과목 열을 소숫점 둘째자리까지만 표시\n",
        "df_interval_name['백분위_수능'] = df_interval_name['백분위_수능'].round(1)\n",
        "\n",
        "\n",
        "#전과목 열을 소숫점 둘째자리까지만 표시\n",
        "df_interval_name['전과목'] = df_interval_name['전과목'].round(2)\n",
        "\n",
        "\n",
        "#결과를 백분위_수능순으로 내림차순\n",
        "df_interval_name = df_interval_name.sort_values(by='백분위_수능', ascending=False)\n",
        "\n",
        "\n",
        "# Define the table headers\n",
        "table_headers = ['학번', '이름', '전과목', '등급_수능', '백분위_수능']\n",
        "\n",
        "\n",
        "# Create the formatted table using tabulate\n",
        "table_string = tabulate(df_interval_name, headers=table_headers, tablefmt='plain')\n",
        "print(table_string)\n",
        "print()\n",
        "\n",
        "\n",
        "print(\"--------------------------------------------\")\n",
        "#print(str(len(list_1))+\"명\")\n",
        "\n",
        "print(f\"백분위 {mi}%이상 {mx}% 미만 :{len(df_interval)}명\")\n",
        "#자료 https://stackoverflow.com/questions/43855474/changing-sort-in-value-counts8"
      ],
      "metadata": {
        "id": "NpPusEO9EhJA"
      },
      "execution_count": null,
      "outputs": []
    },
    {
      "cell_type": "code",
      "source": [
        "# 수능 2등급 나온 학생들의 내신과 수능백분위의 상관\n",
        "\n",
        "\n",
        "import pandas as pd\n",
        "\n",
        "import numpy as np\n",
        "from scipy.stats import pearsonr\n",
        "\n",
        "\n",
        "##  데이터 부르기\n",
        "path = '/content/drive/MyDrive/python/habbul/'\n",
        "df = pd.read_csv(f'{path}susi_jsi.csv', encoding = 'cp949')\n",
        "\n",
        "\n",
        "#특정 백분위 구간의 점수별 빈도(ex: 80~85%사이의 빈도수)\n",
        "mi = int(input(\"이상:\"))\n",
        "mx = int(input(\"미만:\"))\n",
        "\n",
        "\n",
        "# mx이상 mi이하 조건을 충족하는 객체 만들기\n",
        "df_interval = df[(df.백분위_수능 >= mi) & (df.백분위_수능 < mx)]\n",
        "\n",
        "#중복학생을 제외하고 1개만 남김\n",
        "#df_interval = df_interval.drop_duplicates('이름')\n",
        "\n",
        "df_interval_name = df_interval[['학번', '이름', '백분위_수능', '전과목']].copy()\n",
        "\n",
        "\n",
        "# 상관계수 및 p-값 계산\n",
        "corr, p_value = pearsonr(df_interval_name['전과목'], df_interval_name['백분위_수능'])\n",
        "r_squared = corr ** 2\n",
        "\n",
        "# 결과 출력\n",
        "print(f\"상관계수: {corr:.2f}\")\n",
        "print(f\"p-값: {p_value:.2f}\")\n",
        "print(f\"설명력: {r_squared:.2f}\")"
      ],
      "metadata": {
        "id": "kqT6h6Ls7mjr"
      },
      "execution_count": null,
      "outputs": []
    },
    {
      "cell_type": "code",
      "source": [
        "df_max = df[df['등급_수능'] >= 8]\n",
        "df_max = df_max[['이름', '학번', '전과목', '국어_등급', '수학_등급', '영어_등급', '등급_수능']]\n",
        "print(df_max)"
      ],
      "metadata": {
        "id": "3RD45lmW9uMT"
      },
      "execution_count": null,
      "outputs": []
    },
    {
      "cell_type": "code",
      "source": [
        "#전체 합격자: 중복 합격포함 : 134건\n",
        "df_pass = df[df.최종 == '합']\n",
        "print(df_pass.count())\n",
        "\n",
        "#수시, 정시별 합격건수: 수시(123건), 정시(11건)\n",
        "#df_pass.groupby(['지원시기']).count()"
      ],
      "metadata": {
        "id": "CLyrluINoxNj"
      },
      "execution_count": null,
      "outputs": []
    },
    {
      "cell_type": "code",
      "source": [
        "#중복합격자 제외\n",
        "df_pass['학번'].unique()\n",
        "\n",
        "#중복합격자수 제외한 합격자수: 71명\n",
        "df_pass['학번'].nunique()"
      ],
      "metadata": {
        "id": "7stFxfnBoZfd"
      },
      "execution_count": null,
      "outputs": []
    },
    {
      "cell_type": "code",
      "source": [
        "#이름으로 백분위 점수 조회\n",
        "name = input(\"이름:\")\n",
        "df_name = df[(df.이름 == name)]\n",
        "df_name = df_name[['학번', '이름', '대학',  '모집단위', '최종', '전형분류', '전과목', '표점합_수능', '백분위_수능', '전형명', '전형분류', '전형명', '전형방법']]\n",
        "\n",
        "df_name['전과목'] = df_name['전과목'].round(1)\n",
        "df_name"
      ],
      "metadata": {
        "id": "3Ghtsk1ikjwD"
      },
      "execution_count": null,
      "outputs": []
    },
    {
      "cell_type": "code",
      "source": [
        "#반 입력해서 해당반 학생들 출력하기 ex)302\n",
        "num = input(\"학년반 ex)301: \")\n",
        "df_num = df[df['학번'].astype(str).str.contains(num)]\n",
        "df_num = df_num[['학번', '이름', '대학', '모집단위', '전과목', , '백분위_수능']]\n",
        "df_num"
      ],
      "metadata": {
        "id": "ayhNWWfVcSUb"
      },
      "execution_count": null,
      "outputs": []
    },
    {
      "cell_type": "markdown",
      "source": [
        "# 이름을 입력하여 내신기준 석차를 출력하는 코드 설명\n",
        "\n",
        "1)* df[df['전과목'] < df_filtered['전과목'].iloc[0]]* selects rows from the DataFrame where the \"전과목\" value is lower than the \"전과목\" value of the student whose name was input by the user. This creates a filtered DataFrame that includes all students who have a lower \"전과목\" value than the input student.\n",
        "\n",
        "\n",
        "2) *.groupby('이름')['전과목']* groups the filtered DataFrame by the \"이름\" column and selects the \"전과목\" column. This creates a Series object that contains the \"전과목\" values of all the students who have a higher \"전과목\" value than the input student, grouped by name.\n",
        "\n",
        "\n",
        "3) *.nunique()* counts the number of unique \"전과목\" values in the grouped Series. This effectively counts the number of students who have a higher \"전과목\" value than the input student, excluding any duplicates.\n",
        "\n",
        "4) *.sum()* adds up the counts of unique \"전과목\" values for all the groups. This gives the total number of students who have a higher \"전과목\" value than the input student, excluding duplicates.\n",
        "\n",
        "5)* + 1* adds 1 to the total count to get the rank of the input student, since the rank is equal to the number of students with a higher \"전과목\" value plus 1.\n",
        "\n",
        "6) Finally, the rank is assigned to the rank variable and returned as the output of the program."
      ],
      "metadata": {
        "id": "xCZo1hHMjs2c"
      }
    },
    {
      "cell_type": "code",
      "source": [
        "# 이름으로 학생의 내신과 석차를 확인: 아름다운 코드 A\n",
        "\n",
        "# Get input name\n",
        "name = input(\"이름:\")\n",
        "\n",
        "# Filter DataFrame to only include rows with the input name\n",
        "df_filtered = df[df['이름'] == name]\n",
        "\n",
        "# 학생의 내신\n",
        "df_filtered_nesin = df_filtered['전과목'].iloc[0].round(1)\n",
        "\n",
        "\n",
        "# Calculate rank\n",
        "# 해당 학생보다 내신 성적이 낮은 학생들의 수\n",
        "lower_scores = df[df['전과목'] < df_filtered_nesin]['이름'].nunique()\n",
        "\n",
        "# 동일한 내신 성적을 가진 학생들의 수\n",
        "equal_scores = df[df['전과목'] == df_filtered_nesin]['이름'].nunique() - 1\n",
        "\n",
        "# 최종 석차 계산\n",
        "rank = lower_scores + equal_scores + 1\n",
        "\n",
        "# Print the result\n",
        "print(\"********************************************\")\n",
        "print(f\"{name}의 내신은 {df_filtered_nesin}등급이고 석차는 {rank}등입니다.\")\n"
      ],
      "metadata": {
        "id": "DT0iBgLsuNeL"
      },
      "execution_count": null,
      "outputs": []
    },
    {
      "cell_type": "code",
      "source": [
        "#이름으로 해당 학생의 전체 석차를 확인: 아름다운 코드 B - 단순한 코드\n",
        "\n",
        "# Get input name\n",
        "name = input(\"이름:\")\n",
        "\n",
        "# Filter DataFrame to only include rows with the input name\n",
        "df_filtered = df[df['이름'] == name]\n",
        "\n",
        "# Calculate rank of first row in filtered DataFrame\n",
        "rank = df[df.전과목 < df_filtered.전과목.iloc[0]]\n",
        "rank = rank.groupby('이름')['전과목'].nunique().sum() + 1\n",
        "\n",
        "# Print the result\n",
        "print(f\"{name}의 '전과목' 등수는 {rank}등 입니다.\")\n"
      ],
      "metadata": {
        "id": "irih2YPruFum"
      },
      "execution_count": null,
      "outputs": []
    },
    {
      "cell_type": "code",
      "source": [
        "#내신등급을 단순 오름차순\n",
        "rank_list = sorted(list(df['전과목']), reverse=False)\n",
        "print(rank_list)"
      ],
      "metadata": {
        "id": "nyJctS84wo7k"
      },
      "execution_count": null,
      "outputs": []
    },
    {
      "cell_type": "code",
      "source": [
        "#대학으로 과목별 등급과 등급_평균 조회\n",
        "name = input(\"대학:\")\n",
        "df_name = df[(df.대학 == name) & (df.최종 == '합')]\n",
        "df_name = df_name[['학번', '이름', '대학',  '모집단위', '최종', '전형명', '전형분류','전과목', '백분위_수능', '표점합_수능', '전형방법', '전형종류', '모집인원']]\n",
        "df_name"
      ],
      "metadata": {
        "id": "nlb-f3fsiKmx"
      },
      "execution_count": null,
      "outputs": []
    },
    {
      "cell_type": "code",
      "source": [
        "#정규식과 str_contains를 연결\n",
        "\n",
        "import re\n",
        "\n",
        "# 대학으로 과목별 등급과 등급_평균 조회\n",
        "name = input(\"대학:\")\n",
        "pattern = re.compile(name)\n",
        "df_name = df[df['대학'].str.contains(pattern, na=False) & (df['최종'] == '합')]\n",
        "df_name = df_name[['학번', '이름', '대학',  '모집단위', '최종', '전형명', '전형분류','전과목', '백분위_수능', '표점합_수능', '전형방법', '전형종류', '모집인원']]\n",
        "df_name\n"
      ],
      "metadata": {
        "id": "amk9ol_qMKeZ"
      },
      "execution_count": null,
      "outputs": []
    },
    {
      "cell_type": "code",
      "source": [
        "# 대학으로 과목별 등급과 등급_평균 조회\n",
        "name = input(\"대학:\")\n",
        "df_name = df[df['대학'].str.contains(name, na=False) & (df['최종'] == '합')]\n",
        "df_name = df_name[['학번', '이름', '대학',  '모집단위', '최종', '전형명', '전형분류','전과목', '백분위_수능', '표점합_수능', '전형방법', '전형종류', '모집인원']]\n",
        "df_name\n"
      ],
      "metadata": {
        "id": "y9WxANkMMcWP"
      },
      "execution_count": null,
      "outputs": []
    },
    {
      "cell_type": "code",
      "source": [
        "#학번으로 백분위 점수 조회\n",
        "code = int(input(\"학번:\"))\n",
        "df_code = df[(df.학번 == code)]\n",
        "df_code = df_code[['학번', '이름', '대학',  '모집단위', '최종', ]]\n",
        "df_code"
      ],
      "metadata": {
        "id": "YjMiyq63Mcnh"
      },
      "execution_count": null,
      "outputs": []
    },
    {
      "cell_type": "code",
      "source": [
        "#대학유형 지원율: 수시93%, 정시7% / 4년제 80% vs. 전문대 20%\n",
        "#지원시기, 대학유형별 지원빈도\n",
        "df_unitype = df.groupby(['대학유형']).count()\n",
        "df_unitype"
      ],
      "metadata": {
        "id": "0dsCFGYBTxvh"
      },
      "execution_count": null,
      "outputs": []
    },
    {
      "cell_type": "code",
      "source": [
        "mi = int(input(\"영어 수능등급:\"))\n",
        "df_interval = df[(df.영어_등급 == mi)]\n",
        "df_interval[['학번', '영어_등급']]\n",
        "df_interval_unique = df_interval['학번'].unique().size\n",
        "print(\"영어 수능등급 {}명\".format(df_interval_unique))"
      ],
      "metadata": {
        "id": "7RfHwPIJf3RH",
        "colab": {
          "base_uri": "https://localhost:8080/"
        },
        "outputId": "b8b43770-4926-4068-b6ab-de2031bb1857"
      },
      "execution_count": null,
      "outputs": [
        {
          "output_type": "stream",
          "name": "stdout",
          "text": [
            "영어 수능등급:1\n",
            "영어 수능등급 6명\n"
          ]
        }
      ]
    },
    {
      "cell_type": "code",
      "source": [
        "# E고 작년 고3 수능 표점 평균: 2022 고3 280?, 2023 고3 299\n",
        "\n",
        "\n",
        "# '학번' 열에서 '380'이 들어있지 않은 행 추출: 재수생들 제외\n",
        "df_filtered = df[~df['학번'].astype(str).str.contains('380')]\n",
        "\n",
        "\n",
        "df_standard = df_filtered.dropna(subset = ['표점합_수능'])\n",
        "\n",
        "\n",
        "s_mean = df_standard['표점합_수능'].mean().round(0)\n",
        "print(f\"작년 수능점수 평균은 {int(s_mean)}\")  # 소수점 첫째 자리에서 반올림"
      ],
      "metadata": {
        "colab": {
          "base_uri": "https://localhost:8080/"
        },
        "id": "YnatXWGWzRDT",
        "outputId": "47b0131e-c30e-4db4-d212-e0838cd6046f"
      },
      "execution_count": null,
      "outputs": [
        {
          "output_type": "stream",
          "name": "stdout",
          "text": [
            "작년 수능점수 평균은 299\n"
          ]
        }
      ]
    },
    {
      "cell_type": "code",
      "source": [
        "#2022 고3 수능점수와 2023 고3 수능점수 막대 그래프\n",
        "\n",
        "import matplotlib.pyplot as plt\n",
        "\n",
        "# '학번' 열에서 '380'이 들어있지 않은 행 추출: 재수생들 제외\n",
        "df_filtered = df[~df['학번'].astype(str).str.contains('380')]\n",
        "\n",
        "\n",
        "# 필터링된 행에서 백분위_수능 열의 결측값을 제외하고 평균 계산하여 반올림한 후 정수로 변환\n",
        "current_mean = round(df_filtered['백분위_수능'].dropna().mean())\n",
        "\n",
        "# 2023년도 백분위와 2024년도 백분위 데이터\n",
        "years = ['2023학년도', '2024학년도']\n",
        "percentiles = [44, current_mean]\n",
        "\n",
        "# 그래프 그리기\n",
        "plt.figure(figsize=(8, 6))\n",
        "plt.bar(years, percentiles, color=['blue', 'green'], width=0.2)\n",
        "\n",
        "# 그래프 제목과 축 레이블 설정\n",
        "plt.title('E고 2년간의 수능 백분위 점수', fontsize=16)\n",
        "plt.xlabel('연도', fontsize=14)\n",
        "plt.ylabel('백분위', fontsize=14)\n",
        "\n",
        "# 그래프에 백분위 값 표시\n",
        "for i in range(len(years)):\n",
        "    plt.text(x=years[i], y=percentiles[i] + 0.5, s=f\"{percentiles[i]}%\", ha='center')\n",
        "\n",
        "# 화살표 추가\n",
        "plt.annotate('', xy=(0.8, 49), xytext=(0.2, 43), arrowprops=dict(facecolor='black', arrowstyle='->'))\n",
        "\n",
        "path = '/content/drive/MyDrive/python/eunpyeong/result_habbul/'\n",
        "plt.savefig(f'{path}pass_2024_은평고_2년치수능백분위.png')\n",
        "plt.savefig(f'{path}pass_2024_은평고_2년치수능백분위.pdf')\n",
        "\n",
        "# 그래프 출력\n",
        "plt.tight_layout()\n",
        "plt.show()\n"
      ],
      "metadata": {
        "id": "dh0pn8G67Dor"
      },
      "execution_count": null,
      "outputs": []
    },
    {
      "cell_type": "code",
      "source": [
        "name = input(\"이름의 일부:\")\n",
        "df_pname = df['이름'].str.contains(name)\n",
        "df_pname_sub = df[df_pname]\n",
        "df_pname_sub[['학번', '이름', '대학', '모집단위',  '최종', '전과목', '백분위_수능', '표점합_수능', '모집인원', '전형분류', '전형종류']]"
      ],
      "metadata": {
        "id": "_TisjWi014xs"
      },
      "execution_count": null,
      "outputs": []
    },
    {
      "cell_type": "code",
      "source": [
        "#E고 내신 4등급 이하 학생 중 수능이 내신보다 더 잘 나온 학생 비율\n",
        "# Filter the DataFrame\n",
        "filtered_df = df[ (df['전과목'] <= 4) & (df['전과목'] > df[])]\n",
        "filtered_df = filtered_df.drop_duplicates(subset='이름')\n",
        "\n",
        "# Print the filtered DataFrame\n",
        "print(filtered_df[['이름', '전과목', ]])"
      ],
      "metadata": {
        "id": "RMq8g0QffeeP"
      },
      "execution_count": null,
      "outputs": []
    },
    {
      "cell_type": "code",
      "source": [
        "#E고 내신 X등급 이하 학생 중 수능이 내신보다 더 잘 나온 학생 비율\n",
        "\n",
        "nesin = int(input(\"내신이 X등급 이하 학생 중 수능이 내신보다 잘 나오는 학생 출력, 기준이 되는 등급을 입력: \"))\n",
        "\n",
        "# Filter the DataFrame\n",
        "filtered_df = df[ (df['전과목'] <= nesin) & (df['전과목'] > df[])]\n",
        "filtered_df = filtered_df.drop_duplicates(subset='이름')\n",
        "\n",
        "#전과목을 소수점 둘째자리에 반올림\n",
        "filtered_df['전과목'] = filtered_df['전과목'].round(1)\n",
        "\n",
        "\n",
        "# Print the filtered DataFrame\n",
        "print(filtered_df[['이름', '전과목', ]])"
      ],
      "metadata": {
        "id": "vSqzlIrg0ajW"
      },
      "execution_count": null,
      "outputs": []
    },
    {
      "cell_type": "code",
      "source": [
        "#수능이 내신보다 더 잘 나오는 학생\n",
        "\n",
        "# Filter the DataFrame\n",
        "filtered_df = df[df['전과목'] > df[]]\n",
        "filtered_df = filtered_df.drop_duplicates(subset='이름')\n",
        "\n",
        "\n",
        "# Round the '전과목' column to two decimal places\n",
        "filtered_df['전과목'] = filtered_df['전과목'].apply(lambda x: round(x, 1))\n",
        "\n",
        "filtered_df_total = df.drop_duplicates(subset='이름')\n",
        "filtered_df_num = len(filtered_df_total)\n",
        "filtered_df_num_div = (len(filtered_df) / filtered_df_num)*100\n",
        "filtered_df_num_div = round(filtered_df_num_div, 0)\n",
        "\n",
        "\n",
        "# Print the filtered DataFrame\n",
        "print(filtered_df[['이름', '전과목', ]])\n",
        "print(\"-----------------------------------------------------\")\n",
        "print(f'E고 2024학년도 고3의 수능이 내신보다 높게 나온 학생 {len(filtered_df)}명이고 비율은 {int(filtered_df_num_div)}%입니다.')"
      ],
      "metadata": {
        "id": "DSCCEzIs9TzT"
      },
      "execution_count": null,
      "outputs": []
    },
    {
      "cell_type": "code",
      "source": [
        "#내신 3등급이상 중 수능에서 1등급 이상 상승한 학생\n",
        "\n",
        "# Filter the DataFrame\n",
        "filtered_df = df[((df['전과목'] - df[]) >= 1) & (df['전과목'] < 4 )]\n",
        "filtered_df = filtered_df.drop_duplicates(subset='이름')\n",
        "\n",
        "# Round the '전과목' column to one decimal place\n",
        "filtered_df['전과목'] = filtered_df['전과목'].apply(lambda x: round(x, 1))\n",
        "\n",
        "filtered_df_total = df.drop_duplicates(subset='이름')\n",
        "filtered_df_num = len(filtered_df_total)\n",
        "filtered_df_num_div = (len(filtered_df) / filtered_df_num) * 100\n",
        "filtered_df_num_div = round(filtered_df_num_div, 1)\n",
        "\n",
        "# Print the filtered DataFrame\n",
        "print(filtered_df[['이름', '전과목', ]])\n",
        "print(\"-----------------------------------------------------\")\n",
        "print('E고 2024학년도 수능등급이 내신등급보다 1등급 이상 높게 나온 학생 {}명이고 비율은 {}%입니다.'.format(len(filtered_df), filtered_df_num_div))"
      ],
      "metadata": {
        "id": "G8GIJPVELOIM"
      },
      "execution_count": null,
      "outputs": []
    },
    {
      "cell_type": "code",
      "source": [
        "#수능에서 내신보다 1등급 이상 오른 학생\n",
        "\n",
        "# Filter the DataFrame\n",
        "filtered_df = df[(df['전과목'] - df[]) >= 1]\n",
        "filtered_df = filtered_df.drop_duplicates(subset='이름')\n",
        "\n",
        "# Round the '전과목' column to one decimal place\n",
        "filtered_df['전과목'] = filtered_df['전과목'].apply(lambda x: round(x, 1))\n",
        "\n",
        "#중복 제외 전체학생수, 중복제외 1등급 이상 오른 학생\n",
        "filtered_df_total = df.drop_duplicates(subset='이름')\n",
        "filtered_df_num = len(filtered_df_total)\n",
        "filtered_df_num_div = (len(filtered_df) / filtered_df_num) * 100\n",
        "filtered_df_num_div = round(filtered_df_num_div, 1)\n",
        "\n",
        "# Add the condition column to the filtered DataFrame\n",
        "filtered_df['향상도'] = (filtered_df['전과목'] - filtered_df[])\n",
        "\n",
        "# Print the filtered DataFrame\n",
        "print(filtered_df[['이름', '전과목', , '향상도']])\n",
        "print(\"-----------------------------------------------------\")\n",
        "print('E고 2024학년도 수능등급이 내신등급보다 1등급 이상 높게 나온 학생 {}명이고 비율은 {}%입니다.'.format(len(filtered_df), filtered_df_num_div))"
      ],
      "metadata": {
        "id": "iJVfawPMO0tG"
      },
      "execution_count": null,
      "outputs": []
    },
    {
      "cell_type": "code",
      "source": [
        "#수능 총 응시자수: 중복 이름 제외\n",
        "filtered_df = df.drop_duplicates(subset='이름')\n",
        "filtered_df_num = len(filtered_df)\n",
        "print(filtered_df_num)"
      ],
      "metadata": {
        "id": "cJ2I85v5ipBQ"
      },
      "execution_count": null,
      "outputs": []
    },
    {
      "cell_type": "code",
      "source": [
        "#서울주요대학(14개대) 중복합격자 포함된 합격자수\n",
        "\n",
        "import os\n",
        "import pandas as pd\n",
        "\n",
        "uni = ['서울대', '연세대', '고려대', '서강대', '성균관대', '한양대', '중앙대', '경희대', '한국외대', '서울시립대', '이화여대', '건국대', '동국대', '홍익대']\n",
        "\n",
        "# 서울 주요대학 수시합격자수 출력\n",
        "print(\"\\n***2024학년도 E고 합격건수***\")\n",
        "\n",
        "total_accepted = 0  # Variable to store the total number of accepted students\n",
        "\n",
        "for u in range(len(uni)):\n",
        "    df_u = df[(df.대학 == uni[u]) & (df.최종 == '합')]\n",
        "    accepted_count = len(df_u['대학'])\n",
        "    total_accepted += accepted_count\n",
        "    print(uni[u], str(accepted_count) + \"건\")\n",
        "\n",
        "print(\"\\n총 합격자 수:\", total_accepted, \"건\")"
      ],
      "metadata": {
        "id": "UJcW1gyVQKWL",
        "colab": {
          "base_uri": "https://localhost:8080/"
        },
        "outputId": "d0bb7884-9e6a-4372-9072-1a9b8f2e8917"
      },
      "execution_count": 60,
      "outputs": [
        {
          "output_type": "stream",
          "name": "stdout",
          "text": [
            "\n",
            "***2024학년도 E고 합격건수***\n",
            "서울대 0건\n",
            "연세대 0건\n",
            "고려대 0건\n",
            "서강대 0건\n",
            "성균관대 0건\n",
            "한양대 0건\n",
            "중앙대 2건\n",
            "경희대 0건\n",
            "한국외대 0건\n",
            "서울시립대 0건\n",
            "이화여대 1건\n",
            "건국대 1건\n",
            "동국대 2건\n",
            "홍익대 0건\n",
            "\n",
            "총 합격자 수: 6 건\n"
          ]
        }
      ]
    },
    {
      "cell_type": "code",
      "source": [
        "#학생별로 16개 대학 지원결과\n",
        "\n",
        "import os\n",
        "import pandas as pd\n",
        "\n",
        "\n",
        "\n",
        "##  데이터 부르기\n",
        "path = '/content/drive/MyDrive/python/habbul/'\n",
        "df = pd.read_excel(f'{path}eunpyeong_2024_habbul.xlsx')\n",
        "\n",
        "\n",
        "#대학리스트\n",
        "uni = ['서울대', '연세대', '고려대', '서강대', '성균관대', '한양대', '중앙대', '경희대', '한국외대', '서울시립대', '이화여대', '건국대', '동국대', '홍익대']\n",
        "\n",
        "\n",
        "\n",
        "# 서울 주요대학 수시합격자수 출력\n",
        "print(\"\\n***2024학년도 E고 서울16개대 합격횟수***\")\n",
        "\n",
        "\n",
        "# '이름'별 '최종' 열의 합 계산\n",
        "df['합격건수'] = df.groupby('이름')['최종'].transform('sum')\n",
        "\n",
        "\n",
        "# 중복 제거\n",
        "df_unique = df.drop_duplicates(subset=['이름', '합격건수'])\n",
        "\n",
        "\n",
        "# 결과 출력\n",
        "for u in uni:\n",
        "    df_u = df_unique[df_unique.대학 == u]\n",
        "    if not df_u.empty:\n",
        "        print(df_u[['이름', '합격건수']].to_string(index=False))\n",
        "        print(\"---------------------------\")\n"
      ],
      "metadata": {
        "id": "iucuyWfRG9i6"
      },
      "execution_count": null,
      "outputs": []
    },
    {
      "cell_type": "code",
      "source": [
        "#대학별 합불 보여주기\n",
        "\n",
        "import pandas as pd\n",
        "\n",
        "uni = ['서울대', '연세대', '고려대', '서강대', '성균관대', '한양대', '중앙대', '경희대', '한국외대', '서울시립대', '이화여대', '건국대', '동국대', '홍익대']\n",
        "\n",
        "# 데이터 로드 부분은 생략됨\n",
        "\n",
        "print(\"\\n***2024학년도 E고 서울16개대 합격횟수***\")\n",
        "\n",
        "# '이름'별 '최종' 열의 합 계산\n",
        "df['합격건수'] = df.groupby('이름')['최종'].transform('sum')\n",
        "\n",
        "# '수능'이 포함된 행을 제외한 데이터프레임 생성\n",
        "df_no_suneung = df[~df['전형분류'].str.contains('수능')]\n",
        "\n",
        "# 중복 제거된 데이터프레임 생성\n",
        "df_unique = df_no_suneung.drop_duplicates(subset=['이름'])\n",
        "\n",
        "# 결과 출력\n",
        "for u in uni:\n",
        "    df_u = df_unique[df_unique.대학 == u]\n",
        "    if not df_u.empty:\n",
        "        print(f\"{u} 합격자 명단:\")\n",
        "        print(df_u[['이름', '합격건수']].to_string(index=False))\n",
        "        print(\"---------------------------\")\n"
      ],
      "metadata": {
        "id": "1kVzvd1b8s47"
      },
      "execution_count": null,
      "outputs": []
    },
    {
      "cell_type": "code",
      "source": [
        "#학생- 지원대학, 학과 보여주기\n",
        "\n",
        "import os\n",
        "import pandas as pd\n",
        "\n",
        "uni = ['서울대', '연세대', '고려대', '서강대', '성균관대', '한양대', '중앙대', '경희대', '한국외대', '서울시립대', '이화여대', '건국대', '동국대', '홍익대']\n",
        "\n",
        "# 서울 주요대학 수시합격자수 출력\n",
        "print(\"\\n***2024학년도 E고 합격건수***\")\n",
        "\n",
        "# 'uni' 리스트에 해당하는 대학에 지원한 학생들만 필터링\n",
        "df_filtered = df[df['대학'].isin(uni)]\n",
        "\n",
        "# '이름'별로 '최종' 열의 합계 계산 ('합'이라는 값이 있으면 1로 계산)\n",
        "df_filtered['합격건수'] = df_filtered['최종'].apply(lambda x: 1 if x == '합' else 0)\n",
        "df_filtered['합격건수'] = df_filtered.groupby('이름')['합격건수'].transform('sum')\n",
        "\n",
        "# 중복 제거\n",
        "df_unique = df_filtered.drop_duplicates(subset=['이름'])\n",
        "\n",
        "# 학생별로 결과 출력\n",
        "for index, row in df_unique.iterrows():\n",
        "    print(f\"\\n학생 이름: {row['이름']}, 합격건수: {row['합격건수']}\")\n",
        "    print()\n",
        "    df_student = df_filtered[df_filtered['이름'] == row['이름']]\n",
        "    print(df_student[['대학', '모집단위', '최종', '전과목', '전형분류']].to_string(index=False))\n",
        "    print()\n",
        "    print(\"------------------------------------------------------------------\")"
      ],
      "metadata": {
        "id": "CD4HsarpCuuN"
      },
      "execution_count": null,
      "outputs": []
    },
    {
      "cell_type": "code",
      "source": [
        "#학생별 합격건수 및 지원대학을 보여주기\n",
        "import os\n",
        "import pandas as pd\n",
        "\n",
        "uni = ['서울대', '연세대', '고려대', '서강대', '성균관대', '한양대', '중앙대', '경희대', '한국외대', '서울시립대', '이화여대', '건국대', '동국대', '홍익대']\n",
        "\n",
        "# 서울 주요대학 수시합격자수 출력\n",
        "print(\"\\n***2024학년도 E고 합격건수***\")\n",
        "\n",
        "# '이름'별로 '최종' 열의 합계 계산 ('합'이라는 값이 있으면 1로 계산)\n",
        "df['합격건수'] = df['최종'].apply(lambda x: 1 if x == '합' else 0)\n",
        "df['합격건수'] = df.groupby('이름')['합격건수'].transform('sum')\n",
        "\n",
        "# 중복 제거\n",
        "df_unique = df.drop_duplicates(subset=['이름'])\n",
        "\n",
        "# 학생별로 결과 출력\n",
        "for index, row in df_unique.iterrows():\n",
        "    print(f\"\\n학생 이름: {row['이름']}, 합격건수: {row['합격건수']}\")\n",
        "    df_student = df[df['이름'] == row['이름']]\n",
        "    print(df_student[['대학', '모집단위', '최종']].to_string(index=False))\n"
      ],
      "metadata": {
        "id": "ch-EnPQYBnO9"
      },
      "execution_count": null,
      "outputs": []
    },
    {
      "cell_type": "code",
      "source": [
        "#df_susi = df[df['지원시기'] == '수시']\n",
        "df_english1_ratio = (df['영어_등급'] == 1.0).sum() / len(df['영어_등급'])*100\n",
        "df_english1_ratio_int = int(df_english1_ratio.round(0))\n",
        "print(f'영어1등급 {df_english1_ratio_int}%')"
      ],
      "metadata": {
        "colab": {
          "base_uri": "https://localhost:8080/"
        },
        "id": "oMq32nnOlqev",
        "outputId": "80aaec99-e8ab-4398-e175-4e768b73f679"
      },
      "execution_count": 62,
      "outputs": [
        {
          "output_type": "stream",
          "name": "stdout",
          "text": [
            "영어1등급 1%\n"
          ]
        }
      ]
    },
    {
      "cell_type": "code",
      "source": [
        "#수시 영어1등급 학생명단 및 학생수 출력\n",
        "\n",
        "#라이브러리 불러오기\n",
        "from tabulate import tabulate\n",
        "\n",
        "#수시\n",
        "df_susi = df[df['지원시기'] == '수시']\n",
        "\n",
        "#1등급 filter\n",
        "df_susi_english1 = df_susi[df_susi['영어_등급'] == 1.0]\n",
        "\n",
        "\n",
        "#이름 중복자 제외\n",
        "df_susi_english1 = df_susi_english1.drop_duplicates('이름')\n",
        "\n",
        "\n",
        "#백분위_수능를 소수점 첫째자리까지 표시\n",
        "df_susi_english1['백분위_수능'] = df_susi_english1['백분위_수능'].round(1)\n",
        "\n",
        "\n",
        "#필요한 열\n",
        "df_susi_english1 = df_susi_english1[['이름', '영어_등급', '전과목', '백분위_수능']]\n",
        "\n",
        "\n",
        "# Define the table headers\n",
        "table_headers = ['이름', '영어_등급', '전과목', '백분위_수능']\n",
        "\n",
        "#영어1등급 받은 학생수\n",
        "df_susi_english1_num = len(df_susi_english1)\n",
        "\n",
        "# Create the formatted table using tabulate\n",
        "table_string = tabulate(df_susi_english1, headers=table_headers, tablefmt='plain')\n",
        "\n",
        "\n",
        "#출력\n",
        "print(f'영어1등급 학생은 {df_susi_english1_num}명입니다.')\n",
        "print()\n",
        "print(table_string)"
      ],
      "metadata": {
        "id": "RuTZ2gbPmJ7Q"
      },
      "execution_count": null,
      "outputs": []
    },
    {
      "cell_type": "code",
      "source": [
        "#이름 쓰면 해당학생의 수능 과목별 등급 출력\n",
        "\n",
        "from tabulate import tabulate\n",
        "\n",
        "#이름 입력받기\n",
        "name = input('이름:')\n",
        "\n",
        "df_name = df[(df.이름 == name)]\n",
        "df_name = df_name[['대학', '모집단위', '등급_국어', '등급_수학', '영어_등급', '등급_탐구1', '등급_탐구2', ]]\n",
        "\n",
        "# Define the table headers\n",
        "table_headers = ['대학', '모집단위', '등급_국어', '등급_수학', '영어_등급', '등급_탐구1', '등급_탐구2', ]\n",
        "\n",
        "\n",
        "# Create the formatted table using tabulate\n",
        "table_string = tabulate(df_name, headers=table_headers, tablefmt='plain')\n",
        "print(\"****************************************************************************************************************************\")\n",
        "print(table_string)"
      ],
      "metadata": {
        "id": "lTTUUrHLsniO"
      },
      "execution_count": null,
      "outputs": []
    },
    {
      "cell_type": "code",
      "source": [
        "# 특정 '문자열'을 포함하는 열(column)을 뽑아내는 코드:\n",
        "jennhung_columns = [col for col in df if '전형' in col]\n",
        "print(jennhung_columns)"
      ],
      "metadata": {
        "id": "K-nMfm7zqKM_",
        "colab": {
          "base_uri": "https://localhost:8080/"
        },
        "outputId": "d29d0251-eb6d-4de9-8878-5090d59fadca"
      },
      "execution_count": null,
      "outputs": [
        {
          "output_type": "stream",
          "name": "stdout",
          "text": [
            "['전형명', '전형분류', '전형명', '전형방법']\n"
          ]
        }
      ]
    },
    {
      "cell_type": "code",
      "source": [
        "# 학과별(모집단위) 지원횟수, 합격횟수, 불합격횟수, 합격률\n",
        "\n",
        "import pandas as pd\n",
        "from tabulate import tabulate\n",
        "\n",
        "\n",
        "##  데이터 부르기 : 구글colab에 마운트(mount)하는 방법: 왼쪽 폴더아이콘을 누르기-눈동자 왼쪽 파일마운트 아이콘 클릭- /content/drive/MyDrive/python폴더의 susi_2021simple.csv파일을 불러옴\n",
        "path = '/content/drive/MyDrive/python/habbul/'\n",
        "df = pd.read_csv(f'{path}susi_jsi.csv', encoding = 'cp949')\n",
        "\n",
        "\n",
        "# 모집단위 입력 받기\n",
        "uni = input(\"모집단위: \")\n",
        "\n",
        "# 모집단위와 '최종' 열이 '합' 또는 '불'인 행 필터링\n",
        "mask = df['모집단위'].notna() & df['모집단위'].str.contains(uni, na=False)\n",
        "df_filtered = df[mask].copy()\n",
        "\n",
        "# '합'과 '불' 빈도 계산\n",
        "count_total = len(df_filtered)\n",
        "count_pass = len(df_filtered[df_filtered['최종'].str.contains('합', na=False)])\n",
        "count_fail = len(df_filtered[df_filtered['최종'].str.contains('불', na=False)]) + len(df_filtered[df_filtered['최종'].isna()])\n",
        "\n",
        "# '합'의 백분율 계산\n",
        "percentage_pass = (count_pass / count_total) * 100 if count_total > 0 else 0\n",
        "\n",
        "\n",
        "#df_filtered['전과목'] = df_filtered['전과목'].round(2)\n",
        "df_filtered.loc[:, '전과목'] = df_filtered['전과목'].round(2)\n",
        "\n",
        "\n",
        "# 필요한 컬럼 선택\n",
        "columns_required = ['학번', '지역', '이름', '대학', '모집단위', '최종', '전과목', '전형명', '전형분류', '전형방법']\n",
        "df_subset = df_filtered[columns_required]\n",
        "\n",
        "# 테이블 형태로 출력\n",
        "table_string = tabulate(df_subset, headers=columns_required, tablefmt='plain', showindex=False)\n",
        "\n",
        "print()\n",
        "print(f\"{uni}에 지원한 학생 명단\")\n",
        "print(\"**********************************************************************************************************************************************\")\n",
        "print(table_string)\n",
        "print()\n",
        "print(f\"{uni}모집단위 지원횟수: {count_total}건\")\n",
        "print(\"**********************************************************************************************************************************************\")\n",
        "print(f\"{uni}모집단위 합격횟수: {count_pass}건, 불합격 횟수: {count_fail}건\")\n",
        "print()\n",
        "print(f\"{uni}관련 학과의 합격률: {percentage_pass:.1f}%\")"
      ],
      "metadata": {
        "id": "o9-BLkQs2121"
      },
      "execution_count": null,
      "outputs": []
    },
    {
      "cell_type": "code",
      "source": [
        "# 계열별 합격자수  - 공통, 예체능을 인문으로 통합\n",
        "\n",
        "from tabulate import tabulate\n",
        "\n",
        "# 지역, 최종, ace대학 제외\n",
        "df_4year = df[(df.최종 == '합') & ~(df.대학.str.contains(\"대학교\"))].copy()\n",
        "\n",
        "# Combine '공통' and '예체능' into '인문' 계열\n",
        "df_4year['계열'] = df_4year['계열'].replace(['공통', '예체능'], '인문')\n",
        "\n",
        "# Group by '계열' and calculate the ratio\n",
        "result = df_4year.groupby('계열').size().reset_index(name='합격자(건)')\n",
        "result['비율(%)'] = (result['합격자(건)'] / result['합격자(건)'].sum() * 100).round(0).astype(int)  # Round to the nearest integer\n",
        "\n",
        "# Rename the columns\n",
        "result = result.rename(columns={'계열': '계열', '합격자(건)': '합격자(건)', '비율(%)': '비율(%)'})\n",
        "\n",
        "print(tabulate(result, headers='keys', tablefmt='plain', showindex=False))"
      ],
      "metadata": {
        "colab": {
          "base_uri": "https://localhost:8080/"
        },
        "id": "9J6doy0iPvNx",
        "outputId": "e93c0390-01fd-4020-c1cb-b7a88389613e"
      },
      "execution_count": 66,
      "outputs": [
        {
          "output_type": "stream",
          "name": "stdout",
          "text": [
            "계열      합격자(건)    비율(%)\n",
            "인문              90         54\n",
            "자연              76         46\n"
          ]
        }
      ]
    },
    {
      "cell_type": "code",
      "source": [
        "import matplotlib.pyplot as plt\n",
        "\n",
        "\n",
        "\n",
        "# 계열별 합격자수 - 공통, 예체능을 인문으로 통합\n",
        "from tabulate import tabulate\n",
        "\n",
        "# 지역, 최종, ace대학 제외\n",
        "df_4year = df[(df.최종 == '합') & ~(df.대학.str.contains(\"대학교\"))].copy()\n",
        "\n",
        "# Combine '공통' and '예체능' into '인문' 계열\n",
        "df_4year['계열'] = df_4year['계열'].replace(['공통', '예체능'], '인문')\n",
        "\n",
        "# Group by '계열' and calculate the ratio\n",
        "result = df_4year.groupby('계열').size().reset_index(name='합격자(건)')\n",
        "result['비율(%)'] = (result['합격자(건)'] / result['합격자(건)'].sum() * 100).round(0).astype(int)  # Round to the nearest integer\n",
        "\n",
        "# Rename the columns\n",
        "result = result.rename(columns={'계열': '계열', '합격자(건)': '합격자(건)', '비율(%)': '비율(%)'})\n",
        "\n",
        "\n",
        "\n",
        "# 시각화 부분 수정\n",
        "fig, ax = plt.subplots()\n",
        "ax.pie(result['합격자(건)'], labels=result['계열'] + ': ' + result['합격자(건)'].astype(str) + '건 (' + result['비율(%)'].astype(str) + '%)', startangle=90, radius=1.2, autopct='%1.1f%%', pctdistance=0.85, wedgeprops=dict(width=0.4, edgecolor='w'))\n",
        "\n",
        "# 제목 추가\n",
        "plt.text(0, 0, '2024학년도 은평고 계열합격률', fontsize=15, ha='center', va='center')\n",
        "\n",
        "\n",
        "#저장\n",
        "path = '/content/drive/MyDrive/python/eunpyeong/result_habbul/'\n",
        "\n",
        "plt.savefig(f'{path}pass_2024_은평고_합격률_인문자연비교.png')\n",
        "plt.savefig(f'{path}pass_2024_은평고_합격률_인문자연비교.pdf')\n",
        "\n",
        "\n",
        "\n",
        "plt.show()"
      ],
      "metadata": {
        "colab": {
          "base_uri": "https://localhost:8080/",
          "height": 406
        },
        "id": "Mm5pxHzxyjUq",
        "outputId": "5dd65003-342b-477d-ce54-d773208c08e5"
      },
      "execution_count": 68,
      "outputs": [
        {
          "output_type": "display_data",
          "data": {
            "text/plain": [
              "<Figure size 640x480 with 1 Axes>"
            ],
            "image/png": "[encoded data removed]"
          },
          "metadata": {}
        }
      ]
    },
    {
      "cell_type": "code",
      "source": [
        "df.groupby('계열').size()\n",
        "\n",
        "#df.groupby('계열').count() : 결과가 전체열의 빈도가 나옴"
      ],
      "metadata": {
        "colab": {
          "base_uri": "https://localhost:8080/"
        },
        "id": "clCy4uJfTKzQ",
        "outputId": "dc58e358-c5ef-4fcc-fbe7-fc21b930a989"
      },
      "execution_count": 10,
      "outputs": [
        {
          "output_type": "execute_result",
          "data": {
            "text/plain": [
              "계열\n",
              "공통       2\n",
              "예체능    134\n",
              "인문     289\n",
              "자연     347\n",
              "dtype: int64"
            ]
          },
          "metadata": {},
          "execution_count": 10
        }
      ]
    },
    {
      "cell_type": "code",
      "source": [
        "import matplotlib.pyplot as plt\n",
        "from matplotlib.patches import Patch, Path, Wedge, Circle  # Circle 추가\n",
        "import matplotlib.patches as patches\n",
        "\n",
        "\n",
        "# '인문' 계열에서 '최종'이 '합'인 비율 계산\n",
        "인문_합격자수 = df[(df['계열'] == '인문') & (df['최종'] == '합')].shape[0]\n",
        "인문_전체 = df[df['계열'] == '인문'].shape[0]\n",
        "\n",
        "ratio_inmun = (인문_합격자수 / 인문_전체) * 100 if 인문_전체 > 0 else 0\n",
        "ratio_inmun = round(ratio_inmun)\n",
        "\n",
        "\n",
        "# '자연' 계열에서 '최종'이 '합'인 비율 계산\n",
        "자연_합격자수 = df[(df['계열'] == '자연') & (df['최종'] == '합')].shape[0]\n",
        "자연_전체 = df[df['계열'] == '자연'].shape[0]\n",
        "\n",
        "ratio_jayun = (자연_합격자수 / 자연_전체) * 100 if 자연_전체 > 0 else 0\n",
        "ratio_jayun = round(ratio_jayun)\n",
        "\n",
        "\n",
        "def draw_gauge_chart(ax, percentage, title, color):\n",
        "    # 배경 원 그리기\n",
        "    ax.add_patch(patches.Wedge(center=(0.5, 0.5), r=0.4, theta1=0, theta2=180, width=0.3, facecolor='lightgrey', edgecolor='black'))\n",
        "\n",
        "    # 비율에 따른 원 그리기\n",
        "    if percentage > 0:\n",
        "        ax.add_patch(patches.Wedge(center=(0.5, 0.5), r=0.4, theta1=0, theta2=180 * percentage / 100, width=0.3, facecolor=color, edgecolor='black'))\n",
        "\n",
        "    # 가운데 원(도넛 형태 만들기)\n",
        "    ax.add_patch(Circle((0.5, 0.5), 0.1, transform=ax.transAxes, facecolor='white', edgecolor='black'))\n",
        "\n",
        "    # 텍스트 및 타이틀 추가\n",
        "    ax.text(0.5, 0.5, f'{percentage}%', horizontalalignment='center', verticalalignment='center', fontsize=14, transform=ax.transAxes)\n",
        "    ax.set_title(title, fontsize=16)\n",
        "\n",
        "    # 축 및 눈금 제거\n",
        "    ax.set_xlim(0, 1)\n",
        "    ax.set_ylim(0, 1)\n",
        "    ax.axis('off')\n",
        "\n",
        "\n",
        "# 각 계열의 비율\n",
        "ratios = {'인문': ratio_inmun, '자연': ratio_jayun}\n",
        "colors = {'인문': '#4CAF50', '자연': '#FFC107'}\n",
        "\n",
        "fig, axs = plt.subplots(1, 2, figsize=(12, 6))\n",
        "\n",
        "for ax, (title, percentage) in zip(axs, ratios.items()):\n",
        "    draw_gauge_chart(ax, percentage, f'2024학년도 은평고 {title}계 합격률', colors[title])\n",
        "\n",
        "plt.tight_layout()\n",
        "\n",
        "#저장\n",
        "path = '/content/drive/MyDrive/python/eunpyeong/result_habbul/'\n",
        "\n",
        "plt.savefig(f'{path}pass_2024_은평고_합격률_계열별합격률.png')\n",
        "plt.savefig(f'{path}pass_2024_은평고_합격률_계열별합격률.pdf')\n",
        "\n",
        "plt.show()"
      ],
      "metadata": {
        "colab": {
          "base_uri": "https://localhost:8080/",
          "height": 607
        },
        "id": "_wm7pI6T9Zhs",
        "outputId": "68b2dd06-a8aa-4c0b-8b66-e378af2e7663"
      },
      "execution_count": 69,
      "outputs": [
        {
          "output_type": "display_data",
          "data": {
            "text/plain": [
              "<Figure size 1200x600 with 2 Axes>"
            ],
            "image/png": "[encoded data removed]"
          },
          "metadata": {}
        }
      ]
    },
    {
      "cell_type": "code",
      "source": [
        "#특정대(ex: 서,연,고)는 제외하고 특정대는 포함하는 대학의 합격자수)\n",
        "\n",
        "ace_a = ['서울대', '연세대', '고려대']\n",
        "ace_b = ['서강대', '성균관대', '한양대']\n",
        "\n",
        "\n",
        "#지역\n",
        "seoul_df = df[df.지역 == '서울']\n",
        "seoul_df\n",
        "\n",
        "#ace제외하는 df: ~이 not의 의미\n",
        "seoul_other_df = seoul_df[~seoul_df['대학'].isin(ace_a) & seoul_df['대학'].isin(ace_b) & (seoul_df['최종'] == '합')]\n",
        "seoul_other_df"
      ],
      "metadata": {
        "id": "kYWPCtK93WVx"
      },
      "execution_count": null,
      "outputs": []
    },
    {
      "cell_type": "code",
      "source": [
        "#특정대(ex: 서강대를 제외한 대학의 합격자수)\n",
        "\n",
        "ace_b = ['서강대', '성균관대', '한양대']\n",
        "\n",
        "\n",
        "#지역\n",
        "seoul_df = df[df.지역 == '서울']\n",
        "seoul_df\n",
        "\n",
        "#ace제외하는 df: ~이 not의 의미\n",
        "seoul_other_df = seoul_df[seoul_df['대학'].isin(ace_b) & ~seoul_df['대학'].str.contains('서강대')  & (seoul_df['최종'] == '합')]\n",
        "seoul_other_df"
      ],
      "metadata": {
        "id": "3IjSBmZU5w1Z"
      },
      "execution_count": null,
      "outputs": []
    },
    {
      "cell_type": "code",
      "source": [
        "df_lee = df[(df['이름'] == '홍길동')][['이름', '지원시기', '전형분류', '대학', '모집단위', '최종', '전과목', '등급_수능']]\n",
        "print(df_lee)"
      ],
      "metadata": {
        "id": "YKPrH8gp9_UN"
      },
      "execution_count": null,
      "outputs": []
    },
    {
      "cell_type": "code",
      "source": [
        "df_lee = df[(df['이름'] == '홍길동')]\n",
        "\n",
        "df_lee_subjects = df_lee[['이름',  '국어_백분위', '수학_백분위', '선택1_백분위', '선택2_백분위', '영어_등급', '최종']]\n",
        "df_lee_subjects = df_lee_subjects.drop_duplicates('이름')\n",
        "\n",
        "print(df_lee_subjects)"
      ],
      "metadata": {
        "id": "wb0yxpcx_F7c"
      },
      "execution_count": null,
      "outputs": []
    },
    {
      "cell_type": "code",
      "source": [
        "# '전형'이 들어있는 열 이름을 출력합니다\n",
        "[col for col in df if '전형' in col]"
      ],
      "metadata": {
        "colab": {
          "base_uri": "https://localhost:8080/"
        },
        "id": "PskRHMmGQ0Pc",
        "outputId": "17a2c320-516b-412a-d5c3-19eecae5c1e9"
      },
      "execution_count": null,
      "outputs": [
        {
          "output_type": "execute_result",
          "data": {
            "text/plain": [
              "['전형명', '전형종류', '전형일자', '전형분류', '전형방법']"
            ]
          },
          "metadata": {},
          "execution_count": 40
        }
      ]
    }
  ]
}