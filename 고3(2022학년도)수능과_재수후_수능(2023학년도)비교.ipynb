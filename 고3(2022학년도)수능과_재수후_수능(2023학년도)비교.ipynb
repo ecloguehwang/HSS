{
  "nbformat": 4,
  "nbformat_minor": 0,
  "metadata": {
    "colab": {
      "provenance": [],
      "mount_file_id": "1d7KkNwlqIVXfh9fwo2nXvqrm35OR2905",
      "authorship_tag": "ABX9TyNlSjcOxnzFiz2gg5p6btH6",
      "include_colab_link": true
    },
    "kernelspec": {
      "name": "python3",
      "display_name": "Python 3"
    },
    "language_info": {
      "name": "python"
    }
  },
  "cells": [
    {
      "cell_type": "markdown",
      "metadata": {
        "id": "view-in-github",
        "colab_type": "text"
      },
      "source": [
        "<a href=\"https://colab.research.google.com/github/ecloguehwang/HSS/blob/master/%EA%B3%A03(2022%ED%95%99%EB%85%84%EB%8F%84)%EC%88%98%EB%8A%A5%EA%B3%BC_%EC%9E%AC%EC%88%98%ED%9B%84_%EC%88%98%EB%8A%A5(2023%ED%95%99%EB%85%84%EB%8F%84)%EB%B9%84%EA%B5%90.ipynb\" target=\"_parent\"><img src=\"https://colab.research.google.com/assets/colab-badge.svg\" alt=\"Open In Colab\"/></a>"
      ]
    },
    {
      "cell_type": "code",
      "source": [
        "#colab에서 matplotlib와 sns 라이브러리 그래프 한글을 깨지지 않게 하는 법: 실행 후 런타임 재실행\n",
        "!sudo apt-get install -y fonts-nanum\n",
        "!sudo fc-cache -fv\n",
        "!rm ~/.cache/matplotlib -rf"
      ],
      "metadata": {
        "id": "o5eNLBoZBMhD"
      },
      "execution_count": null,
      "outputs": []
    },
    {
      "cell_type": "code",
      "source": [
        "#pandas, openpyxl 라이브러리 부르기\n",
        "import pandas as pd\n",
        "import numpy as np\n",
        "import matplotlib.pyplot as plt\n",
        "import os\n",
        "import openpyxl\n",
        "import csv\n",
        "from tabulate import tabulate\n",
        "\n",
        "\n",
        "#matplotlib에서 한글구현\n",
        "plt.rc('font', family='NanumBarunGothic')\n",
        "\n",
        "#그래프 마이너스 기호 깨짐 방지\n",
        "plt.rcParams['axes.unicode_minus'] = False"
      ],
      "metadata": {
        "id": "qCWvZxrcBiIq"
      },
      "execution_count": 2,
      "outputs": []
    },
    {
      "cell_type": "code",
      "execution_count": 26,
      "metadata": {
        "id": "PeQcRQJdMfdp"
      },
      "outputs": [],
      "source": [
        "#pandas, openpyxl 라이브러리 부르기\n",
        "import pandas as pd\n",
        "import numpy as np\n",
        "import os\n",
        "import openpyxl\n",
        "import csv\n",
        "from tabulate import tabulate\n",
        "\n",
        "\n",
        "##  데이터 부르기\n",
        "path = '/content/drive/MyDrive/python/deungchon/'\n",
        "df1 = pd.read_csv(f'{path}susi_jsi.csv', encoding = 'cp949')\n",
        "df2 = pd.read_excel(f'{path}deungchon_restudy2024.xlsx')\n",
        "\n",
        "\n",
        "# df1과 df2를 'id' 열을 기준으로 내부 조인\n",
        "df_ij = pd.merge(df1, df2, on='이름', how='inner')\n",
        "\n",
        "\n",
        "# 첫 5줄을 봅니다.\n",
        "df_ij.head(1)\n",
        "\n",
        "\n",
        "##합친파일을 엑셀로 저장\n",
        "path = '/content/drive/MyDrive/python/deungchon/result_go3jesu/'\n",
        "df_ij.to_excel(excel_writer= f'{path}go3_jesu2024_deungchon.xlsx')"
      ]
    },
    {
      "cell_type": "code",
      "source": [
        "#matplotlib에서 한글구현\n",
        "plt.rc('font', family='NanumBarunGothic')\n",
        "\n",
        "#그래프 마이너스 기호 깨짐 방지\n",
        "plt.rcParams['axes.unicode_minus'] = False"
      ],
      "metadata": {
        "id": "9UZ6Y4tzBSkh"
      },
      "execution_count": null,
      "outputs": []
    },
    {
      "cell_type": "code",
      "source": [
        "#재수생 수: 30명\n",
        "\n",
        "#중복제거\n",
        "df_ij_num = df_ij.drop_duplicates('이름')\n",
        "\n",
        "#재수생수\n",
        "df_ij_num = len(df_ij_num )\n",
        "df_ij_num"
      ],
      "metadata": {
        "id": "FJFYAIiXW3q-"
      },
      "execution_count": null,
      "outputs": []
    },
    {
      "cell_type": "code",
      "source": [
        "#pandas, openpyxl 라이브러리 부르기\n",
        "import pandas as pd\n",
        "from tabulate import tabulate\n",
        "\n",
        "\n",
        "##  데이터 부르기\n",
        "path = '/content/drive/MyDrive/python/deungchon/result_go3jesu/'\n",
        "df = pd.read_excel(f'{path}go3_jesu2024_deungchon.xlsx')\n",
        "\n",
        "\n",
        "# Convert columns to numeric, setting errors='coerce' to turn non-convertible values to NaN\n",
        "df['백분위_평균'] = pd.to_numeric(df['백분위_평균'], errors='coerce')\n",
        "df['백분위_평균_졸업'] = pd.to_numeric(df['백분위_평균_졸업'], errors='coerce')\n",
        "\n",
        "# Optionally, handle NaN values here (e.g., df.dropna() to remove, or df.fillna(value) to replace them)\n",
        "\n",
        "# Calculate the mean\n",
        "mean_백분위_평균 = df['백분위_평균'].mean().round(1)\n",
        "mean_백분위_평균_졸업 = df['백분위_평균_졸업'].mean().round(1)\n",
        "\n",
        "dif = mean_백분위_평균_졸업 - mean_백분위_평균\n",
        "dif = dif.round(1)\n",
        "\n",
        "\n",
        "print(f\"mean_백분위_평균: {mean_백분위_평균}\")\n",
        "print(f\"mean_백분위_평균_졸업: {mean_백분위_평균_졸업}\")\n",
        "print()\n",
        "\n",
        "print(f\"D고 고3(2022)이 1년후 재수(2023)했을때 백분위 평균차이가 {dif}%입니다.\")\n"
      ],
      "metadata": {
        "id": "j9DYu1XS8-Nx"
      },
      "execution_count": null,
      "outputs": []
    },
    {
      "cell_type": "code",
      "source": [
        "#고3 현역과 재수후 백분위 성적 비교 그래프\n",
        "\n",
        "import pandas as pd\n",
        "from tabulate import tabulate\n",
        "import matplotlib.pyplot as plt\n",
        "import matplotlib.transforms as transforms\n",
        "\n",
        "\n",
        "##  데이터 부르기\n",
        "path = '/content/drive/MyDrive/python/deungchon/result_go3jesu/'\n",
        "df = pd.read_excel(f'{path}go3_jesu2024_deungchon.xlsx')\n",
        "\n",
        "\n",
        "# Convert columns to numeric, setting errors='coerce' to turn non-convertible values to NaN\n",
        "df['백분위_평균'] = pd.to_numeric(df['백분위_평균'], errors='coerce')\n",
        "df['백분위_평균_졸업'] = pd.to_numeric(df['백분위_평균_졸업'], errors='coerce')\n",
        "\n",
        "\n",
        "# Calculate the mean and difference\n",
        "mean_백분위_평균 = df['백분위_평균'].mean().round(1)\n",
        "mean_백분위_평균_졸업 = df['백분위_평균_졸업'].mean().round(1)\n",
        "\n",
        "#dif = (mean_백분위_평균_졸업 - mean_백분위_평균).round(1)\n",
        "dif = (mean_백분위_평균_졸업 - mean_백분위_평균)\n",
        "dif = int(round(dif))\n",
        "\n",
        "\n",
        "# Print the results\n",
        "print(f\"mean_백분위_평균: {mean_백분위_평균}\")\n",
        "print(f\"mean_백분위_평균_졸업: {mean_백분위_평균_졸업}\")\n",
        "print(f\"D고 고3(2022)이 1년후 재수(2023)했을때 백분위 평균차이가 {dif}%입니다.\")\n",
        "\n",
        "\n",
        "\n",
        "# New labels for the x-axis\n",
        "categories = ['고3', '재수']\n",
        "values = [mean_백분위_평균, mean_백분위_평균_졸업]\n",
        "\n",
        "fig, ax = plt.subplots(figsize=(8, 6))\n",
        "bars = ax.bar(categories, values, color=['blue', 'red'])\n",
        "\n",
        "\n",
        "# Displaying values on the graph with increased font size\n",
        "for bar in bars:\n",
        "    yval = bar.get_height()\n",
        "    ax.text(bar.get_x() + bar.get_width()/2, yval, int(round(yval)), ha='center', va='bottom', fontsize = 15)  # Adjust fontsize as needed\n",
        "\n",
        "\n",
        "#ax.set_xlabel('Categories')\n",
        "#ax.set_ylabel('Values')\n",
        "ax.set_title('D고 고3의 재수후 수능 백분위점수 (단위: %)', fontsize= 20)\n",
        "ax.set_xticks(range(len(categories)), categories, rotation=0, fontsize=16)\n",
        "\n",
        "plt.show()"
      ],
      "metadata": {
        "colab": {
          "base_uri": "https://localhost:8080/",
          "height": 617
        },
        "id": "VfZZvWZ5G8M1",
        "outputId": "18d1f112-bd8e-4eca-82cc-5cbc4e49dcd1"
      },
      "execution_count": 32,
      "outputs": [
        {
          "output_type": "stream",
          "name": "stdout",
          "text": [
            "mean_백분위_평균: 56.3\n",
            "mean_백분위_평균_졸업: 65.2\n",
            "D고 고3(2022)이 1년후 재수(2023)했을때 백분위 평균차이가 9%입니다.\n"
          ]
        },
        {
          "output_type": "display_data",
          "data": {
            "text/plain": [
              "<Figure size 800x600 with 1 Axes>"
            ],
            "image/png": "[encoded data removed]"
          },
          "metadata": {}
        }
      ]
    },
    {
      "cell_type": "code",
      "source": [
        "#중복제외한 2021년 고3 127명\n",
        "df1 = df1['이름'].unique()\n",
        "len(df1)"
      ],
      "metadata": {
        "id": "4QGtnt4yfuyx"
      },
      "execution_count": null,
      "outputs": []
    },
    {
      "cell_type": "code",
      "source": [
        "#재수비율: 24%\n",
        "30/127"
      ],
      "metadata": {
        "id": "jvX6DJBCf5ky"
      },
      "execution_count": null,
      "outputs": []
    },
    {
      "cell_type": "code",
      "source": [
        "df_ij.shape"
      ],
      "metadata": {
        "id": "OVYa4HmIXcpm"
      },
      "execution_count": null,
      "outputs": []
    },
    {
      "cell_type": "code",
      "source": [
        "#N수생 중 재수생수: 53%\n",
        "30/57"
      ],
      "metadata": {
        "id": "HFlr3X2Sf-3Y"
      },
      "execution_count": null,
      "outputs": []
    },
    {
      "cell_type": "code",
      "source": [
        "#합친 파일의 변수별 결측값 수\n",
        "df_ij.isnull().sum()"
      ],
      "metadata": {
        "id": "OZJsKvQYgXzp"
      },
      "execution_count": null,
      "outputs": []
    }
  ]
}