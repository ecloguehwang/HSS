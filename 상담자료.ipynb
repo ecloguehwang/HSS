{
  "nbformat": 4,
  "nbformat_minor": 0,
  "metadata": {
    "colab": {
      "provenance": [],
      "mount_file_id": "1lBfGGPaENxz2-3_V_X_AafRrOgVrrXl4",
      "authorship_tag": "ABX9TyOCffwegBKN/VEAyb7Ft4Zt",
      "include_colab_link": true
    },
    "kernelspec": {
      "name": "python3",
      "display_name": "Python 3"
    },
    "language_info": {
      "name": "python"
    }
  },
  "cells": [
    {
      "cell_type": "markdown",
      "metadata": {
        "id": "view-in-github",
        "colab_type": "text"
      },
      "source": [
        "<a href=\"https://colab.research.google.com/github/ecloguehwang/HSS/blob/master/%EC%83%81%EB%8B%B4%EC%9E%90%EB%A3%8C.ipynb\" target=\"_parent\"><img src=\"https://colab.research.google.com/assets/colab-badge.svg\" alt=\"Open In Colab\"/></a>"
      ]
    },
    {
      "cell_type": "code",
      "source": [
        "#colab에서 matplotlib와 sns 라이브러리 그래프 한글을 깨지지 않게 하는 법: 실행하고 런타임 재시작\n",
        "!sudo apt-get install -y fonts-nanum\n",
        "!sudo fc-cache -fv\n",
        "!rm ~/.cache/matplotlib -rf"
      ],
      "metadata": {
        "id": "9Z8Q931z4OvC"
      },
      "execution_count": null,
      "outputs": []
    },
    {
      "cell_type": "code",
      "execution_count": null,
      "metadata": {
        "id": "u1P-ymw-Bkx-"
      },
      "outputs": [],
      "source": [
        "# 라이브러리 부르기\n",
        "import pandas as pd\n",
        "import numpy as np\n",
        "import seaborn as sns\n",
        "import matplotlib.pyplot as plt\n",
        "from tabulate import tabulate\n",
        "\n",
        "\n",
        "##  데이터 부르기 : 구글colab에 마운트(mount)하는 방법: 왼쪽 폴더아이콘을 누르기-눈동자 왼쪽 파일마운트 아이콘 클릭- /content/drive/MyDrive/python폴더의 susi_2021simple.csv파일을 불러옴\n",
        "path = '/content/drive/MyDrive/python/deungchon/'\n",
        "df = pd.read_csv(f'{path}six.csv', encoding = 'cp949')\n",
        "\n",
        "df.head(1)"
      ]
    },
    {
      "cell_type": "code",
      "source": [
        "#matplotlib에서 한글구현\n",
        "plt.rc('font', family='NanumBarunGothic')\n",
        "\n",
        "#그래프 마이너스 기호 깨짐 방지\n",
        "plt.rcParams['axes.unicode_minus'] = False"
      ],
      "metadata": {
        "id": "GXxvaRiJj-J1"
      },
      "execution_count": null,
      "outputs": []
    },
    {
      "cell_type": "code",
      "source": [
        "#4가지 개선 메모 코드: 1.날짜와 시간사이에 요일 추가  2.요일을 영어이름에서 한글이름으로 만들기 3.월앞에 0을 빼기 ex) 06월을 6월로 변경 4.문자열 표현을 더 간략하게 변경\n",
        "\n",
        "from pytz import timezone\n",
        "from datetime import datetime\n",
        "\n",
        "day_of_week_korean = {\n",
        "    0: \"월\",\n",
        "    1: \"화\",\n",
        "    2: \"수\",\n",
        "    3: \"목\",\n",
        "    4: \"금\",\n",
        "    5: \"토\",\n",
        "    6: \"일\"\n",
        "}\n",
        "\n",
        "today = datetime.now(timezone('Asia/Seoul'))\n",
        "\n",
        "name = input(\"이름:\")\n",
        "snum = input(\"번호:\")\n",
        "print(f\"\\n{name}(306{snum.zfill(2)})학생이 담임교사와의 진학상담으로 늦게 입실함을 양해부탁드립니다. \\n교과담당 선생님의 노고에 깊이 감사드리며 6반 잘 부탁드립니다.\")\n",
        "print(\"---------------------------------------------------------------------------------\")\n",
        "\n",
        "#요일 객체\n",
        "day_of_week = today.weekday()\n",
        "\n",
        "#월 객체\n",
        "month = str(int(today.strftime('%m')))\n",
        "print(month + \"월 \" + today.strftime('%d일({}) %H:%M:%S'.format(day_of_week_korean[day_of_week])))  # Display the day of the week in Korean and other details\n",
        "print(\"3-6 담임 황성삼 (인)\")"
      ],
      "metadata": {
        "id": "q6W7pKEbW-sf"
      },
      "execution_count": null,
      "outputs": []
    },
    {
      "cell_type": "code",
      "source": [
        "#변수(열)명을 가나다순으로 정렬\n",
        "df = df.reindex(sorted(df.columns), axis=1)\n",
        "print(df)"
      ],
      "metadata": {
        "id": "QxiqBfSH25zv"
      },
      "execution_count": null,
      "outputs": []
    },
    {
      "cell_type": "code",
      "source": [
        "indices = [index for index, col in enumerate(df.columns) if '생기부' in col]\n",
        "print(indices)"
      ],
      "metadata": {
        "colab": {
          "base_uri": "https://localhost:8080/"
        },
        "id": "-uiDwxSlPFTo",
        "outputId": "8f252c99-6c4f-4c19-f205-492b60ffa61f"
      },
      "execution_count": 14,
      "outputs": [
        {
          "output_type": "stream",
          "name": "stdout",
          "text": [
            "[59, 207, 208, 209, 210, 211, 212, 213, 214, 215, 216, 217, 218, 219, 220, 221, 222, 223, 224, 225, 226]\n"
          ]
        }
      ]
    },
    {
      "cell_type": "code",
      "source": [
        "#특정열을 기준으로 추출\n",
        "df.iloc[:, 207:227]"
      ],
      "metadata": {
        "id": "lhD1l_nl3Jcm"
      },
      "execution_count": null,
      "outputs": []
    },
    {
      "cell_type": "code",
      "source": [
        "#특정내용 있는지 확인\n",
        "seteok = [col for col in df if '생기부' in col]\n",
        "print(seteok)"
      ],
      "metadata": {
        "id": "-YQ_OJKtBSPZ"
      },
      "execution_count": null,
      "outputs": []
    },
    {
      "cell_type": "code",
      "source": [
        "from tabulate import tabulate\n",
        "\n",
        "# Input name\n",
        "name = input(\"이름:\")\n",
        "\n",
        "# Filter the DataFrame by name\n",
        "df_name = df[df.이름 == name]\n",
        "\n",
        "# Define all possible headers\n",
        "all_headers = ['이름', '공학캠프_생기부_생기부', '과학(물리)캠프_생기부', '과학(화학)캠프_생기부', '과학(생명과학)캠프_생기부', '천문특강_생기부', '천문캠프_생기부', '지역인재육성프로그램_1기_생기부', '지역인재육성프로그램_2기_생기부', '진로독서_생기부', '진로활동_생기부', '자치역량강화_학생회_생기부', '사회이슈융합인포그래픽_생기부 ', '과학융합탐구_학생회_0526_생기부', '과학융합탐구_학생회_0602_생기부', '학습멘토링_학생회_생기부', '비경쟁식 독서토론(1차)_생기부', '비경쟁식 독서토론(2차)_생기부', '인문사회탐구_연구부_생기부', '발표_영독작문A_생기부', '진로_창체_생기부'] # keep adding all your headers\n",
        "\n",
        "\n",
        "#총 프로그램의 수\n",
        "total = len(all_headers) - 1\n",
        "\n",
        "# Filter out columns without valid strings for the specific student\n",
        "valid_headers = [header for header in all_headers if not df_name[header].isnull().all() and df_name[header].astype(str).str.strip().ne(\"\").all()]\n",
        "\n",
        "# Count of participated programs (subtracting 1 for the '이름' column)\n",
        "participation_count = len(valid_headers) - 1\n",
        "\n",
        "# Display each valid column and its value line by line\n",
        "print(\"********************\")\n",
        "print(f\"{name} 학생의 정보:\")\n",
        "for idx, header in enumerate(valid_headers):\n",
        "    value = df_name[header].values[0]  # get the value for the specific student\n",
        "    if header == '이름':\n",
        "        print(f\"{header}: {value}\")\n",
        "    else:\n",
        "        print(f\"{idx}. {header}: {value}\")\n",
        "    print()\n",
        "\n",
        "print(\"-------------------------------------------------------------------\")\n",
        "print(f\"{name} 학생이 참여한 프로그램수는 전체{total}개 중 {participation_count}개입니다.\")\n"
      ],
      "metadata": {
        "id": "INHdg0q-uF0M"
      },
      "execution_count": null,
      "outputs": []
    },
    {
      "cell_type": "code",
      "source": [
        "#생기부양: 생기부의 페이지 수\n",
        "df_s = df[['생기부양']]\n",
        "print(df_s)"
      ],
      "metadata": {
        "id": "tv8kiO9xMZmR"
      },
      "execution_count": null,
      "outputs": []
    },
    {
      "cell_type": "code",
      "source": [
        "df.columns"
      ],
      "metadata": {
        "id": "4H7QYUsZEWdz"
      },
      "execution_count": null,
      "outputs": []
    },
    {
      "cell_type": "code",
      "source": [
        "#숫자를 소수점 둘째짜리까지 표시: round 함수 사용\n",
        "\n",
        "import pandas as pd\n",
        "\n",
        "# 이름으로 6모 모의고사 열람\n",
        "name = input(\"이름:\")\n",
        "df_name = df[(df.이름 == name)]\n",
        "df_name = df_name[['이름', '내신_일이학년', '내신_5개학기', '등급_국어_6모_실채점', '등급_수학_6모_실채점', '등급_영어_6모_가채점', '원점수_영어_6모','탐구1_6모_실채점', '등급_탐구1_6모_실채점', '탐구2_6모_실채점', '등급_탐구2_6모_실채점']]\n",
        "\n",
        "# Round all numerical columns to 2 decimal places\n",
        "numerical_cols = ['내신_일이학년',  '내신_5개학기', '등급_국어_6모_실채점', '등급_수학_6모_실채점', '등급_영어_6모_가채점', '원점수_영어_6모', '탐구1_6모_실채점', '등급_탐구1_6모_실채점', '탐구2_6모_실채점', '등급_탐구2_6모_실채점']\n",
        "df_name[numerical_cols] = df_name[numerical_cols].round(2)\n",
        "\n",
        "df_name\n"
      ],
      "metadata": {
        "id": "RSkymycU9hfy"
      },
      "execution_count": null,
      "outputs": []
    },
    {
      "cell_type": "code",
      "source": [
        "#6모 한국사 등급까지\n",
        "\n",
        "import pandas as pd\n",
        "\n",
        "# 이름으로 6모 모의고사 열람\n",
        "name = input(\"이름:\")\n",
        "df_name = df[(df.이름 == name)]\n",
        "df_name = df_name[['이름', '내신_일이학년', '내신_5개학기', '등급_국어_6모_실채점', '등급_수학_6모_실채점', '등급_영어_6모_가채점', '탐구1_6모_실채점', '등급_탐구1_6모_실채점', '탐구2_6모_실채점', '등급_탐구2_6모_실채점', '등급_한국사_6모_실채점']]\n",
        "\n",
        "# Round all numerical columns to 2 decimal places\n",
        "numerical_cols = ['내신_5개학기', '등급_국어_6모_실채점', '등급_수학_6모_실채점', '등급_영어_6모_가채점', '탐구1_6모_실채점', '등급_탐구1_6모_실채점', '탐구2_6모_실채점', '등급_탐구2_6모_실채점', '등급_한국사_6모_실채점']\n",
        "df_name[numerical_cols] = df_name[numerical_cols].round(2)\n",
        "\n",
        "df_name\n"
      ],
      "metadata": {
        "id": "kNcgbgXf4sxZ"
      },
      "execution_count": null,
      "outputs": []
    },
    {
      "cell_type": "code",
      "source": [
        "#영어 원점수\n",
        "\n",
        "import pandas as pd\n",
        "\n",
        "# 이름으로 6모 모의고사 열람\n",
        "name = input(\"이름:\")\n",
        "df_name = df[(df.이름 == name)]\n",
        "df_name = df_name[['이름', '원점수_영어_5모', '원점수_영어_6모']]\n",
        "\n",
        "# Round all numerical columns to 2 decimal places\n",
        "#numerical_cols = ['내신_일이학년',  '내신_5개학기', '등급_국어_6모_실채점', '등급_수학_6모_실채점', '등급_영어_6모_가채점', '원점수_영어_6모', '탐구1_6모_실채점', '등급_탐구1_6모_실채점', '탐구2_6모_실채점', '등급_탐구2_6모_실채점']\n",
        "#df_name[numerical_cols] = df_name[numerical_cols].round(2)\n",
        "\n",
        "df_name\n"
      ],
      "metadata": {
        "id": "n9iLRNEmI0Vp"
      },
      "execution_count": null,
      "outputs": []
    },
    {
      "cell_type": "code",
      "source": [
        "# 특정 '문자열'을 포함하는 열(column)을 뽑아내는 코드:\n",
        "math_columns = [col for col in df if '영어' in col]\n",
        "print(math_columns)"
      ],
      "metadata": {
        "id": "jhDbSzNUEjM7"
      },
      "execution_count": null,
      "outputs": []
    },
    {
      "cell_type": "code",
      "source": [
        "import seaborn as sns\n",
        "import matplotlib.pyplot as plt\n",
        "\n",
        "plt.rc('font', family='NanumBarunGothic')\n",
        "sns.histplot(df.백분위평균_6모, bins=9, kde=False)\n",
        "plt.title(\"D고 3-6반 6모 백분위평균 구간별 점수\")"
      ],
      "metadata": {
        "id": "ZzT_pDRvSkKP"
      },
      "execution_count": null,
      "outputs": []
    },
    {
      "cell_type": "code",
      "source": [
        "# 특정 '문자열'을 포함하는 열(column)을 뽑아내는 코드:\n",
        "math_columns = [col for col in df if '영어' in col]\n",
        "print(math_columns)"
      ],
      "metadata": {
        "colab": {
          "base_uri": "https://localhost:8080/"
        },
        "id": "_xL0nXhsE5aP",
        "outputId": "d2434098-01c4-4505-9bd2-ec13ca636ad4"
      },
      "execution_count": null,
      "outputs": [
        {
          "output_type": "stream",
          "name": "stdout",
          "text": [
            "['내신_영어', '모의고사등급_영어', '영어사교육', '등급_영어_3모', '원점수_영어_5모', '등급_영어_5모', '원점수_영어_6모', '등급_영어_6모']\n"
          ]
        }
      ]
    },
    {
      "cell_type": "code",
      "source": [
        "#이름으로 다른 정보 출력\n",
        "name = input(\"이름:\")\n",
        "df_name = df[(df.이름 == name)]\n",
        "df_name = df_name[['이름', '등급_수학_6모_실채점', '등급_수학_6모_실채점', '백분위_수학_6모_실채점', '백분위_수학_7모_가']]\n",
        "df_name"
      ],
      "metadata": {
        "id": "yzARVwa76UPu"
      },
      "execution_count": null,
      "outputs": []
    },
    {
      "cell_type": "code",
      "source": [
        "df.columns"
      ],
      "metadata": {
        "id": "u8BqjCYE5Tig"
      },
      "execution_count": null,
      "outputs": []
    },
    {
      "cell_type": "code",
      "source": [
        "#이름으로 희망대학, 희망학과\n",
        "name = input(\"이름:\")\n",
        "df_name = df[(df.이름 == name)]\n",
        "df_name = df_name[['이름', '사교육',  'MBTI',  '희망대학', '희망학과', '희망직업']]\n",
        "df_name"
      ],
      "metadata": {
        "id": "xU9n4KuAJkpo"
      },
      "execution_count": null,
      "outputs": []
    },
    {
      "cell_type": "code",
      "source": [
        "#희망대학, 희망학과 일괄 검색하기\n",
        "\n",
        "import pandas as pd\n",
        "import matplotlib.pyplot as plt\n",
        "\n",
        "filename = ['고도영', '권민재', '김리하', '김영은', '김예원', '김예현', '김주연', '김현경', '문정민', '서현진', '신현빈', '이우빈', '이찬빈', '이채훈', '장진서', '정인환', '정지민', '최윤서']\n",
        "\n",
        "# loop over each filename\n",
        "for name in filename:\n",
        "    df_name = df[(df.이름 == name)]\n",
        "    df_name = df_name[['이름','희망대학', '희망학과', 'MBTI']]\n",
        "    print(df_name)\n",
        "    print()"
      ],
      "metadata": {
        "id": "bIuY5JiLwJgy"
      },
      "execution_count": null,
      "outputs": []
    },
    {
      "cell_type": "code",
      "source": [
        "#특정등급 이상되는 학생을 조회하기\n",
        "\n",
        "#라이브러리 불러오기\n",
        "import pandas as pd\n",
        "import matplotlib.pyplot as plt\n",
        "from tabulate import tabulate\n",
        "\n",
        "#전체학생 명단\n",
        "filename = ['고도영', '권민재', '김리하', '김영은', '김예원', '김예현', '김주연', '김현경', '문정민', '서현진', '신현빈', '이우빈', '이찬빈', '이채훈', '장진서', '정인환', '정지민', '최윤서']\n",
        "\n",
        "#입력받기\n",
        "level = float(input(\"내신 몇등급이상 학생을 조회하고 싶나요?:\"))\n",
        "\n",
        "df_nesin = df[(df.내신_5개학기 <= level)]\n",
        "df_nesin = df_nesin[['이름','희망대학', '희망학과', 'MBTI', '내신_5개학기']].sort_values(by = '내신_5개학기')\n",
        "\n",
        "# Convert DataFrame to a list of lists for tabulate\n",
        "table_data = df_nesin.values.tolist()\n",
        "\n",
        "# Define the table headers\n",
        "table_headers = ['이름','희망대학', '희망학과', 'MBTI', '내신_5개학기']\n",
        "\n",
        "# Create the formatted table using tabulate\n",
        "table_string = tabulate(table_data, headers=table_headers, tablefmt='plain')\n",
        "\n",
        "print(table_string)"
      ],
      "metadata": {
        "id": "i70EXEujxkD4"
      },
      "execution_count": null,
      "outputs": []
    },
    {
      "cell_type": "code",
      "source": [
        "nesin = [col for col in df if '내신' in col]\n",
        "print(nesin)"
      ],
      "metadata": {
        "id": "Ryd_nCUb_lng"
      },
      "execution_count": null,
      "outputs": []
    },
    {
      "cell_type": "code",
      "source": [
        "#이름으로 탐구1과목과 탐구2과목\n",
        "name = input(\"이름:\")\n",
        "df_name = df[(df.이름 == name)]\n",
        "df_name = df_name[['이름', '탐구1', '탐구2']]\n",
        "df_name"
      ],
      "metadata": {
        "id": "flORsHo_dZsB"
      },
      "execution_count": null,
      "outputs": []
    },
    {
      "cell_type": "code",
      "source": [
        "#이름으로 행동특성및종합의견\n",
        "name = input(\"이름:\")\n",
        "df_name = df[(df.이름 == name)]\n",
        "df_name = df_name[['이름', '행동특성및종합의견']]\n",
        "df_name"
      ],
      "metadata": {
        "id": "eYcHBOhPSftT"
      },
      "execution_count": null,
      "outputs": []
    },
    {
      "cell_type": "code",
      "source": [
        "#정시가 유리하다고 대답한 학생\n",
        "df_jsi = df[df.수시정시 == '정시']\n",
        "df_jsi_st = df_jsi[['이름', '성별', '수시정시', '내신_일이학년', '등급평균_6모_실']]\n",
        "df_jsi_st"
      ],
      "metadata": {
        "id": "wwv814ICMLmj"
      },
      "execution_count": null,
      "outputs": []
    },
    {
      "cell_type": "code",
      "source": [
        "#6월 모의고사가 일이학년 내신보다 좋은 학생\n",
        "df_mockbetter = df[df.내신_일이학년 >= df.등급평균_6모_실]\n",
        "df_mockbetter = df_mockbetter[['이름', '내신_일이학년', '등급평균_6모_실']]\n",
        "print(df_mockbetter)"
      ],
      "metadata": {
        "id": "TzFl39R3ndQF"
      },
      "execution_count": null,
      "outputs": []
    },
    {
      "cell_type": "code",
      "source": [
        "#내신보다 모의고사가 제일 잘 나온 학생찾기: copy()가 빠지면 경고메시지가 나옴\n",
        "\n",
        "df_mockbetter = df[df.내신_일이학년 >= df.등급평균_6모_실].copy()\n",
        "df_mockbetter.loc[:, '등급향상'] = df_mockbetter.내신_일이학년 - df_mockbetter.등급평균_6모_실\n",
        "df_mockbetter = df_mockbetter[['이름', '내신_일이학년', '등급평균_6모_실', '등급향상']]\n",
        "df_mockbetter = df_mockbetter.sort_values('등급향상', ascending=False)\n",
        "best_improvement = df_mockbetter.iloc[0]\n",
        "print(f\"일이학년 내신보다 모의고사가 제일 잘 나온 학생은 {best_improvement['등급향상']:.2f}등급 향샹된 {best_improvement['이름']}입니다.\")\n",
        "print(\"----------------------------------------------------------------------------------------------------------------------------\")\n",
        "print(df_mockbetter)"
      ],
      "metadata": {
        "id": "XSJYprQFqnq1"
      },
      "execution_count": null,
      "outputs": []
    },
    {
      "cell_type": "code",
      "source": [
        "# 성은 그대로 이름부분은 *로 표시하는 코드\n",
        "from tabulate import tabulate\n",
        "\n",
        "\n",
        "df_mockbetter = df[df.내신_일이학년 >= df.등급평균_6모_실].copy()\n",
        "df_mockbetter.loc[:, '등급향상'] = df_mockbetter.내신_일이학년 - df_mockbetter.등급평균_6모_실\n",
        "df_mockbetter['이름'] = df_mockbetter['이름'].apply(lambda x: x[0] + '*' * (len(x) - 1))\n",
        "df_mockbetter = df_mockbetter[['이름', '내신_일이학년', '등급평균_6모_실', '등급향상']]\n",
        "df_mockbetter = df_mockbetter.sort_values('등급향상', ascending=False)\n",
        "best_improvement = df_mockbetter.iloc[0]\n",
        "\n",
        "table_headers = ['이름', '내신_일이학년', '등급평균_6모_실', '등급향상']\n",
        "\n",
        "# Create the formatted table using tabulate\n",
        "table_string = tabulate(df_mockbetter, headers=table_headers, tablefmt='plain')\n",
        "\n",
        "print(f\"내신보다 모의고사가 제일 잘 나온 학생은 {best_improvement['등급향상']:.2f}등급 향상된 {best_improvement['이름']}이다.\")\n",
        "print(\"\\n\", table_string)"
      ],
      "metadata": {
        "id": "W2UE_CN3tskC"
      },
      "execution_count": null,
      "outputs": []
    },
    {
      "cell_type": "code",
      "source": [
        "# 성은 그대로 이름부분은 *로 표시하는 코드\n",
        "df_mockbetter = df[df.내신_일이학년 >= df.등급평균_6모_실].copy()\n",
        "df_mockbetter.loc[:, '등급향상'] = df_mockbetter.내신_일이학년 - df_mockbetter.등급평균_6모_실\n",
        "df_mockbetter['이름'] = df_mockbetter['이름'].apply(lambda x: x[0] + '*' * (len(x) - 1))\n",
        "df_mockbetter = df_mockbetter[['이름', '내신_일이학년', '등급평균_6모_실', '등급향상']]\n",
        "df_mockbetter = df_mockbetter.sort_values('등급향상', ascending=False)\n",
        "best_improvement = df_mockbetter.iloc[0]\n",
        "print(f\"내신보다 모의고사가 제일 잘 나온 학생은 {best_improvement['등급향상']:.2f} 향상된 {best_improvement['이름']}이다.\")\n",
        "print(\"\\n\", df_mockbetter)"
      ],
      "metadata": {
        "id": "CPe5S1p34mKn"
      },
      "execution_count": null,
      "outputs": []
    },
    {
      "cell_type": "code",
      "source": [
        "# 특정 평균성적 이하 검색\n",
        "mi = int(input(\"평균성적이 몇점 이하로 겸색할까요?:\"))\n",
        "\n",
        "# mx이상 mi이하 조건을 충족하는 객체 만들기\n",
        "df_interval = df[(df.성적 <= mi)]\n",
        "\n",
        "# value_counts()로 빈도를 세고, sort_index() 기준으로 정렬!\n",
        "list_1 =  df_interval[\"성적\"].value_counts().sort_index()\n",
        "print(list_1)\n",
        "print(\"------------------------------\")\n",
        "print(df_interval[['이름', '성별', '성적']])\n",
        "#print(str(len(list_1))+\"명\")\n",
        "print(\"------------------------------\")\n",
        "print(\"{}점 이하 {}명\".format(mi, len(df_interval)))\n",
        "#자료 https://stackoverflow.com/questions/43855474/changing-sort-in-value-counts8"
      ],
      "metadata": {
        "id": "_6D23kOxOPU_"
      },
      "execution_count": null,
      "outputs": []
    },
    {
      "cell_type": "code",
      "source": [
        "# 백분위 검색\n",
        "mi = int(input(\"백분위 평균_3모 몇% 이상으로 검색할까요?:\"))\n",
        "\n",
        "# mx이상 mi이하 조건을 충족하는 객체 만들기\n",
        "df_interval = df[(df.백분위평균_3모 >= mi)]\n",
        "\n",
        "# value_counts()로 빈도를 세고, sort_index() 기준으로 정렬!\n",
        "list_1 =  df_interval[\"백분위평균_3모\"].value_counts().sort_index()\n",
        "print(list_1)\n",
        "print(\"------------------------------\")\n",
        "print(df_interval[['이름', '성별', '백분위평균_3모']])\n",
        "#print(str(len(list_1))+\"명\")\n",
        "print(\"------------------------------\")\n",
        "print(\"{}% 이상 {}명\".format(mi, len(df_interval)))\n",
        "#자료 https://stackoverflow.com/questions/43855474/changing-sort-in-value-counts8"
      ],
      "metadata": {
        "id": "_BgW_ynoRKHG"
      },
      "execution_count": null,
      "outputs": []
    },
    {
      "cell_type": "code",
      "source": [
        "#수시정시 별 응답자수\n",
        "df.groupby('수시정시').count()"
      ],
      "metadata": {
        "id": "hPp2vrqHozLw"
      },
      "execution_count": null,
      "outputs": []
    },
    {
      "cell_type": "code",
      "source": [
        "#수시와 정시 중 유리하다고 대답한 학생들의 그래프\n",
        "import matplotlib.pyplot as plt\n",
        "import pandas as pd\n",
        "\n",
        "# Group data by '수시정시' column\n",
        "df_susi = df.groupby('수시정시').count()\n",
        "\n",
        "# Create data for the plot\n",
        "labels = df_susi.index\n",
        "sizes = df_susi['학번']\n",
        "colors = ['#66c2a5', '#fc8d62']\n",
        "explode = [0, 0] # set the explosion parameter for the first slice\n",
        "\n",
        "# Create the plot\n",
        "fig, ax = plt.subplots(figsize=(8, 4))\n",
        "wedges, labels, _ = ax.pie(sizes, labels=labels, colors=colors, startangle=180, counterclock=False,\n",
        "       explode=explode, autopct='%1.0f%%', pctdistance=0.8, textprops={'fontsize': 2*plt.rcParams['font.size']})\n",
        "\n",
        "# Add a white circle in the middle to create the half doughnut effect\n",
        "circle = plt.Circle((0,0), 0.75, color='white')\n",
        "ax.add_artist(circle)\n",
        "\n",
        "ax.axis('equal')\n",
        "plt.title('수시와 정시 중 어디가 유리하다고 생각하는가?', fontsize=3*plt.rcParams['font.size'])\n",
        "plt.show()"
      ],
      "metadata": {
        "id": "JhahirbrvHbg"
      },
      "execution_count": null,
      "outputs": []
    },
    {
      "cell_type": "code",
      "source": [
        "#수시전형 종류: 61%(종합), 22%(교과), 논술(6%), 기타(11%)\n",
        "df_susi_type = df.groupby('수시전형유형').count()\n",
        "df_ratio = round(df_susi_type/len(df.학번)*100)\n",
        "\n",
        "print(df_ratio)"
      ],
      "metadata": {
        "id": "NSILN33_pkAp"
      },
      "execution_count": null,
      "outputs": []
    },
    {
      "cell_type": "code",
      "source": [
        "#설문 그래프로 그리기\n",
        "\n",
        "import matplotlib.pyplot as plt\n",
        "import pandas as pd\n",
        "\n",
        "df_susi_type = df.groupby('수시전형유형').count()\n",
        "df_ratio = round(df_susi_type['학번'] / len(df['학번']) * 100)\n",
        "\n",
        "# Sort the dataframe by the ratio values in descending order\n",
        "df_ratio_sorted = df_ratio.sort_values(ascending=False)\n",
        "\n",
        "plt.bar(df_ratio_sorted.index, df_ratio_sorted)\n",
        "plt.xlabel('수시전형유형')\n",
        "plt.ylabel('비율 (%)')\n",
        "plt.title('수시전형 중 어느 전형에 지원하겠는가?')\n",
        "plt.show()\n"
      ],
      "metadata": {
        "id": "wyS53NJis8lH"
      },
      "execution_count": null,
      "outputs": []
    },
    {
      "cell_type": "code",
      "source": [
        "#변수(열)별 결측값 갯수 확인\n",
        "#np.sum(pd.isnull(df))\n",
        "#np.sum(pd.isnull(df.아버지))\n",
        "df['아버지'].isnull().sum()"
      ],
      "metadata": {
        "id": "ZnBkqRZ8zWjV",
        "colab": {
          "base_uri": "https://localhost:8080/"
        },
        "outputId": "62c427c5-5786-4023-87a9-f385e19504f2"
      },
      "execution_count": null,
      "outputs": [
        {
          "output_type": "execute_result",
          "data": {
            "text/plain": [
              "0"
            ]
          },
          "metadata": {},
          "execution_count": 14
        }
      ]
    },
    {
      "cell_type": "code",
      "source": [
        "#희망학과가 '간호'인 경우를 검색\n",
        "df_nurse = df['번호_어머니'].str.contains('4647')\n",
        "#df_nurse = df_nurse.dropna(['희망학과'])\n",
        "df_subset = df[df_nurse]\n",
        "print(df_subset)"
      ],
      "metadata": {
        "id": "mV34zpOA-udg"
      },
      "execution_count": null,
      "outputs": []
    },
    {
      "cell_type": "code",
      "source": [
        "#변수(열)의 갯수\n",
        "cols = len(df.axes[1])\n",
        "print(cols)"
      ],
      "metadata": {
        "id": "Fy9WJdnVQ9Zy"
      },
      "execution_count": null,
      "outputs": []
    },
    {
      "cell_type": "code",
      "source": [],
      "metadata": {
        "id": "4yEY8ICk_wWD"
      },
      "execution_count": null,
      "outputs": []
    },
    {
      "cell_type": "code",
      "source": [
        "#이름을 넣어 해당학생의 학급석차 출력\n",
        "name = input(\"이름:\")\n",
        "\n",
        "# Sort DataFrame by '내신_전과목' in descending order\n",
        "df_sorted = df.sort_values('내신_일이학년', ascending=False)\n",
        "\n",
        "# Filter DataFrame to only include rows with the input name\n",
        "df_filtered = df_sorted[df_sorted['이름'] == name]\n",
        "\n",
        "# Calculate rank of first row in filtered DataFrame\n",
        "rank = df.index.get_loc(df_filtered.index[0]) + 1\n",
        "\n",
        "# Sort rank values\n",
        "rank_list = sorted(list(df_sorted['내신_일이학년']), reverse=False)\n",
        "sorted_rank = rank_list.index(df_filtered['내신_일이학년'].iloc[0]) + 1\n",
        "\n",
        "# Print the result\n",
        "print(f\"{name}의 '내신_일이학년' 6반에서의 석차는 {sorted_rank}등 입니다.\")"
      ],
      "metadata": {
        "id": "_5Sebd0Kzmf7"
      },
      "execution_count": null,
      "outputs": []
    },
    {
      "cell_type": "code",
      "source": [
        "#일이학년 석차순으로 출력하기\n",
        "df_sorted = df.sort_values('내신_일이학년', ascending=True)\n",
        "print(df_sorted[['이름', '내신_일이학년', '석차_전교']])"
      ],
      "metadata": {
        "id": "jerDpJOujomJ"
      },
      "execution_count": null,
      "outputs": []
    },
    {
      "cell_type": "code",
      "source": [
        "exam_march = [col for col in df if '내신' in col]\n",
        "print(exam_march)"
      ],
      "metadata": {
        "id": "AEf2Em1heBQA"
      },
      "execution_count": null,
      "outputs": []
    },
    {
      "cell_type": "code",
      "source": [
        "#한 학생의 이름을 입력하면 해당학생의 성적 4가지(내신, 3모, 5모, 6모, 7모_가)를 melt시켜서 그래프로 그려 png로 저장\n",
        "\n",
        "import pandas as pd\n",
        "import matplotlib.pyplot as plt\n",
        "\n",
        "name = input(\"이름:\")\n",
        "df_name = df[(df.이름 == name)]\n",
        "df_name = df_name[['이름', '내신_일이학년', '내신_5개학기', '등급평균_3모', '등급평균_5모', '등급평균_6모_가', '등급평균_6모_실', '등급평균_7모_가']]\n",
        "\n",
        "df_melt = pd.melt(df_name, id_vars=['이름'], value_vars=['내신_일이학년', '내신_5개학기', '등급평균_3모', '등급평균_5모', '등급평균_6모_가', '등급평균_7모_가'], var_name='test', value_name='result')\n",
        "\n",
        "# Extract the required columns from the melted DataFrame\n",
        "x_values = df_melt['test']\n",
        "y_values = df_melt['result']\n",
        "\n",
        "# Create a scatter plot\n",
        "plt.scatter(x_values, y_values)\n",
        "\n",
        "# Connect the points with a line\n",
        "plt.plot(x_values, y_values, '-')\n",
        "\n",
        "# Get the value of '내신_일이학년'\n",
        "내신_5개학기_value = df_name['내신_5개학기'].values[0]\n",
        "\n",
        "# Draw a horizontal line at '내신_일이학년' value\n",
        "plt.axhline(내신_5개학기_value, color='r', linestyle=':')\n",
        "\n",
        "# Set the axis labels\n",
        "#plt.xlabel('시험')\n",
        "plt.ylabel('등급')\n",
        "\n",
        "# Reverse the y-axis\n",
        "plt.gca().invert_yaxis()\n",
        "\n",
        "# Set the plot title\n",
        "plt.title(name+' 학생의 3학년 성적추이')\n",
        "\n",
        "\n",
        "# Annotate '내신_일이학년' value on the plot\n",
        "plt.text(0.5, 내신_5개학기_value, str(내신_5개학기_value), color='r', ha='right', va='bottom')\n",
        "\n",
        "# Show the plot\\\n",
        "plt.show()"
      ],
      "metadata": {
        "id": "POsv96brlb0p"
      },
      "execution_count": null,
      "outputs": []
    },
    {
      "cell_type": "code",
      "source": [
        "#반 전체학생의 성적 4가지(내신, 3모, 5모, 6모, 7모_가)를 melt시켜서 그래프로 그려 png로 저장\n",
        "\n",
        "import pandas as pd\n",
        "import matplotlib.pyplot as plt\n",
        "\n",
        "#filename = ['이성계', '이방원', '이도', '이산']\n",
        "filename = ['고도영', '권민재', '김리하', '김영은', '김예원', '김예현', '김주연', '김현경', '문정민', '서현진', '신현빈', '이우빈', '이찬빈', '이채훈', '장진서', '정인환', '정지민', '최윤서']\n",
        "\n",
        "# loop over each filename\n",
        "for name in filename:\n",
        "    df_name = df[(df.이름 == name)]\n",
        "    df_name = df_name[['이름', '내신_5개학기', '등급평균_3모', '등급평균_5모', '등급평균_6모_실', '등급평균_7모_가']]\n",
        "    df_melt = pd.melt(df_name, id_vars=['이름'], value_vars=['내신_5개학기', '등급평균_3모', '등급평균_5모', '등급평균_6모_실', '등급평균_7모_가'], var_name='test', value_name='result')\n",
        "    x_values = df_melt['test']\n",
        "    y_values = df_melt['result']\n",
        "    plt.scatter(x_values, y_values)\n",
        "    plt.plot(x_values, y_values, '-')\n",
        "\n",
        "    내신_5개학기_value = df_name['내신_5개학기'].values[0]  # Get the value of '내신_일이학년'\n",
        "\n",
        "    plt.axhline(내신_5개학기_value, color='r', linestyle=':')  # Draw a horizontal line at '내신_일이학년' value\n",
        "\n",
        "    plt.ylabel('등급')\n",
        "    plt.gca().invert_yaxis()\n",
        "    plt.title(name+' 학생의 3학년 성적추이')\n",
        "\n",
        "    # Annotate '내신_일이학년' value on the plot\n",
        "    plt.text(0.5, 내신_5개학기_value, str(내신_5개학기_value), color='r', ha='right', va='bottom')\n",
        "\n",
        "    plt.savefig(f\"/content/drive/MyDrive/python/deungchon/result_score/{name}_score.png\", bbox_inches='tight')\n",
        "\n",
        "    plt.show()"
      ],
      "metadata": {
        "id": "J1KrXGNTkXbi"
      },
      "execution_count": null,
      "outputs": []
    },
    {
      "cell_type": "code",
      "source": [
        "#반 전체학생의 성적 4가지(내신, 3모, 5모, 6모, 7모_가채점)를 melt시켜서 그래프로 그려 pdf로 저장\n",
        "\n",
        "import pandas as pd\n",
        "import matplotlib.pyplot as plt\n",
        "\n",
        "\n",
        "filename = ['고도영', '권민재', '김리하', '김영은', '김예원', '김예현', '김주연', '김현경', '문정민', '서현진', '신현빈', '이우빈', '이찬빈', '이채훈', '장진서', '정인환', '정지민', '최윤서']\n",
        "\n",
        "# loop over each filename\n",
        "for name in filename:\n",
        "    df_name = df[(df.이름 == name)]\n",
        "    df_name = df_name[['이름', '내신_5개학기', '등급평균_3모', '등급평균_5모', '등급평균_6모_실',  '등급평균_7모_가']]\n",
        "    df_melt = pd.melt(df_name, id_vars=['이름'], value_vars=['내신_5개학기', '등급평균_3모', '등급평균_5모', '등급평균_6모_실', '등급평균_7모_가'], var_name='test', value_name='result')\n",
        "    x_values = df_melt['test']\n",
        "    y_values = df_melt['result']\n",
        "    plt.scatter(x_values, y_values)\n",
        "    plt.plot(x_values, y_values, '-')\n",
        "\n",
        "    내신_5개학기_value = df_name['내신_5개학기'].values[0]  # Get the value of '내신_일이학년'\n",
        "\n",
        "    plt.axhline(내신_5개학기_value, color='r', linestyle=':')  # Draw a horizontal line at '내신_일이학년' value\n",
        "\n",
        "    plt.ylabel('등급')\n",
        "    plt.gca().invert_yaxis()\n",
        "    plt.title(name+' 학생의 3학년 성적추이')\n",
        "\n",
        "    # Annotate '내신_일이학년' value on the plot\n",
        "    plt.text(0.5, 내신_5개학기_value, str(내신_5개학기_value), color='r', ha='right', va='bottom')\n",
        "\n",
        "\n",
        "    plt.savefig(f\"/content/drive/MyDrive/python/deungchon/result_score_pdf/{name}_score.pdf\", bbox_inches='tight', format='pdf')\n",
        "\n",
        "    plt.show()"
      ],
      "metadata": {
        "id": "8heV1rSUkzHC"
      },
      "execution_count": null,
      "outputs": []
    },
    {
      "cell_type": "code",
      "source": [
        "#한줄에 몇개씩 그래프를 그릴지 질문하여 그 수씩 붙여서 4가지 그래프 그려주기: 내신, 3모, 5모, 6모_실채점\n",
        "\n",
        "import pandas as pd\n",
        "import matplotlib.pyplot as plt\n",
        "\n",
        "\n",
        "num = int(input(\"한줄에 몇 개의 그래프를 붙여 그리고 싶나요?:\"))\n",
        "\n",
        "# filename = ['이성계', '이방원', '이도', '이산']\n",
        "filename = ['고도영', '권민재', '김리하', '김영은', '김예원', '김예현', '김주연', '김현경', '문정민', '서현진', '신현빈', '이우빈', '이찬빈', '이채훈', '장진서', '정인환', '정지민', '최윤서']\n",
        "\n",
        "num_plots = len(filename)\n",
        "num_cols = num  # Number of plots per row\n",
        "num_rows = (num_plots - 1) // num_cols + 1  # Number of rows\n",
        "\n",
        "fig, axs = plt.subplots(num_rows, num_cols, figsize=(15, 5 * num_rows))\n",
        "axs = axs.flatten()  # Flatten the axs array\n",
        "\n",
        "# Loop over each filename\n",
        "for i, name in enumerate(filename):\n",
        "    df_name = df[df.이름 == name]\n",
        "    df_name = df_name[['이름', '내신_5개학기', '등급평균_3모', '등급평균_5모', '등급평균_6모_실', '등급평균_7모_가']]\n",
        "    df_melt = pd.melt(df_name, id_vars=['이름'], value_vars=['내신_5개학기', '등급평균_3모', '등급평균_5모', '등급평균_6모_실', '등급평균_7모_가'], var_name='test', value_name='result')\n",
        "    x_values = df_melt['test']\n",
        "    y_values = df_melt['result']\n",
        "\n",
        "    ax = axs[i]\n",
        "    ax.scatter(x_values, y_values)\n",
        "    ax.plot(x_values, y_values, '-')\n",
        "    내신_5개학기_value = df_name['내신_5개학기'].values[0]  # Get the value of '내신_일이학년'\n",
        "    ax.axhline(내신_5개학기_value, color='r', linestyle=':')  # Draw a horizontal line at '내신_일이학년' value\n",
        "    ax.set_ylabel('등급')\n",
        "    ax.invert_yaxis()\n",
        "    ax.set_title(name + ' 학생의 3학년 성적추이')\n",
        "\n",
        "    ax.text(0.5, 내신_5개학기_value, str(내신_5개학기_value), color='r', ha='right', va='bottom')  # Annotate '내신_일이학년' value on the plot\n",
        "\n",
        "    plt.setp(ax.xaxis.get_majorticklabels(), rotation=60)  # Rotate x-axis labels by 30 degrees\n",
        "\n",
        "# Remove any empty subplots\n",
        "if num_plots < num_rows * num_cols:\n",
        "    for j in range(num_plots, num_rows * num_cols):\n",
        "        fig.delaxes(axs[j])\n",
        "\n",
        "plt.tight_layout()  # Adjust spacing between subplots\n",
        "plt.savefig('plots.png')  # Save the figure as a PNG file\n",
        "plt.show()\n"
      ],
      "metadata": {
        "id": "oqGnw5yYWA_M"
      },
      "execution_count": null,
      "outputs": []
    },
    {
      "cell_type": "code",
      "source": [
        "exam_march = [col for col in df if '등급평균' in col]\n",
        "print(exam_march)"
      ],
      "metadata": {
        "id": "RIp5GAGETRLQ"
      },
      "execution_count": null,
      "outputs": []
    },
    {
      "cell_type": "markdown",
      "source": [
        "##1. 향상한 학생, 유지한 학생, 하락한 학생 중 어느쪽을 선택할지 질문\n",
        "##2. 그래프 보여주기\n",
        "##3. 해당 학생의 수를 보여주기: 글자크기도 확대\n"
      ],
      "metadata": {
        "id": "7oyg0x989jC-"
      }
    },
    {
      "cell_type": "code",
      "source": [
        "#탐구1, 탐구2 선택과목 검색하기\n",
        "\n",
        "import pandas as pd\n",
        "import matplotlib.pyplot as plt\n",
        "\n",
        "#filename = ['이성계', '이방원', '이도', '이산']\n",
        "filename = ['고도영', '권민재', '김리하', '김영은', '김예원', '김예현', '김주연', '김현경', '문정민', '서현진', '신현빈', '이우빈', '이찬빈', '이채훈', '장진서', '정인환', '정지민', '최윤서']\n",
        "\n",
        "# loop over each filename\n",
        "for name in filename:\n",
        "    df_name = df[(df.이름 == name)]\n",
        "    df_name = df_name[['이름','탐구1', '탐구2']]\n",
        "    print(df_name)"
      ],
      "metadata": {
        "id": "C1uFZTswp-Cv"
      },
      "execution_count": null,
      "outputs": []
    },
    {
      "cell_type": "code",
      "source": [
        "#특정 탐구과목 선택자를 찾기\n",
        "\n",
        "import pandas as pd\n",
        "\n",
        "path = '/content/drive/MyDrive/python/deungchon/'\n",
        "df = pd.read_csv(f'{path}six.csv', encoding='cp949')\n",
        "\n",
        "tamgu = input(\"알고 싶은 탐구과목은?:\")\n",
        "\n",
        "filename = ['고도영', '권민재', '김리하', '김영은', '김예원', '김예현', '김주연', '김현경', '문정민', '서현진', '신현빈', '이우빈', '이찬빈', '이채훈', '장진서', '정인환', '정지민', '최윤서']\n",
        "\n",
        "# loop over each filename\n",
        "for name in filename:\n",
        "    df_name = df[(df.이름 == name) & ((df.탐구1 == tamgu) | (df.탐구2 == tamgu))]\n",
        "    if not df_name.empty:\n",
        "        print(df_name[['번호', '이름',  '탐구1', '탐구2']])\n",
        "        print()"
      ],
      "metadata": {
        "id": "Pw-nx-Wusmns"
      },
      "execution_count": null,
      "outputs": []
    },
    {
      "cell_type": "code",
      "source": [
        "#출결인정 메모: original\n",
        "#from datetime import datetime\n",
        "from pytz import timezone\n",
        "from datetime import datetime\n",
        "today = datetime.now(timezone('Asia/Seoul'))\n",
        "\n",
        "name = input(\"이름:\")\n",
        "snum = input(\"번호:\")\n",
        "print(\"{}(306{})학생이 담임교사와의 진학상담으로 늦게 입실함을 양해부탁드립니다. \\n교과담당 선생님의 노고에 깊이 감사드리며 6반 잘 부탁드립니다.\".format(name, snum.zfill(2)))\n",
        "print(\"---------------------------------------------------------------------------------\")\n",
        "print(today.strftime('%m.%d %H:%M:%S'))\n",
        "print(\"3-6 담임 황성삼 (인)\")\n"
      ],
      "metadata": {
        "id": "PMhkxTxwvR8W"
      },
      "execution_count": null,
      "outputs": []
    },
    {
      "cell_type": "code",
      "source": [
        "# 6월 모의고사 300점 만점으로 국어, 영어. 수학 총점과 평균 내보기\n",
        "\n",
        "name = input(\"이름:\")\n",
        "df_name = df[df['이름'] == name]\n",
        "df_국영수 = df_name[['백분위_국어_6모_실채점', '백분위_수학_6모_실채점', '원점수_영어_6모']].sum()\n",
        "print(df_국영수)\n",
        "total_score = df_국영수['백분위_국어_6모_실채점'] + df_국영수['백분위_수학_6모_실채점'] + df_국영수['원점수_영어_6모']\n",
        "total_mean = total_score / 3\n",
        "print(f\"\\n{name}학생의 6월 모의고사 국어, 영어, 수학 총점은 {total_score:.0f}점이고 평균은 {total_mean:.1f}입니다.\")"
      ],
      "metadata": {
        "id": "pQUJTQTavvr1"
      },
      "execution_count": null,
      "outputs": []
    },
    {
      "cell_type": "code",
      "source": [
        "exam_march = [col for col in df if '6모' in col]\n",
        "print(exam_march)"
      ],
      "metadata": {
        "id": "JNKW4tDA2VQQ"
      },
      "execution_count": null,
      "outputs": []
    },
    {
      "cell_type": "markdown",
      "source": [],
      "metadata": {
        "id": "Jt0ZBAZC2oUd"
      }
    },
    {
      "cell_type": "code",
      "source": [
        "#선택지를 주고 향상, 유지, 하락한 학생의 그래프를 그리고 해당학생수를 보여주기\n",
        "\n",
        "import pandas as pd\n",
        "import matplotlib.pyplot as plt\n",
        "\n",
        "filename = ['고도영', '권민재', '김리하', '김영은', '김예원', '김예현', '김주연', '김현경', '문정민', '서현진', '신현빈', '이우빈', '이찬빈', '이채훈', '장진서', '정인환', '정지민', '최윤서']\n",
        "\n",
        "num_plots = len(filename)\n",
        "num_cols = 6  # Number of plots per row\n",
        "num_rows = (num_plots - 1) // num_cols + 1  # Number of rows\n",
        "\n",
        "# Define the multiple-choice question\n",
        "question = \"다음 조건을 읽으세요:\\n1. 6모 실채점이 6모 가채점보다 향상된 학생을 찾으세요\\n2. 6모 실채점이 6모 가채점과 동일한 학생을 찾으세요\\n3. 6모 실채점이 6모 가채점보다 하락한 학생을 찾으세요\\n다음번호 중  하나를 선택하세요 (1, 2, 3): \"\n",
        "\n",
        "# Get user input for the selected option\n",
        "selected_option = int(input(question))\n",
        "\n",
        "fig, axs = plt.subplots(num_rows, num_cols, figsize=(18, 5 * num_rows))\n",
        "axs = axs.flatten()  # Flatten the axs array\n",
        "\n",
        "df_filtered_count = 0\n",
        "\n",
        "# Loop over each filename\n",
        "for i, name in enumerate(filename):\n",
        "    df_name = df[df.이름 == name]\n",
        "    df_name = df_name[['이름', '내신_일이학년', '등급평균_3모', '등급평균_5모', '등급평균_6모_가', '등급평균_6모_실']]\n",
        "\n",
        "    # Filter the dataframe based on the selected option\n",
        "    if selected_option == 1:\n",
        "        df_filtered = df_name[df_name['등급평균_6모_가'] > df_name['등급평균_6모_실']]\n",
        "        selected_choice = \"6모 실채점이 6모 가채점보다 향상된 학생은\"\n",
        "    elif selected_option == 2:\n",
        "        df_filtered = df_name[df_name['등급평균_6모_가'] == df_name['등급평균_6모_실']]\n",
        "        selected_choice = \"6모 실채점이 6모 가채점과 동일한 학생은\"\n",
        "    elif selected_option == 3:\n",
        "        df_filtered = df_name[df_name['등급평균_6모_가'] < df_name['등급평균_6모_실']]\n",
        "        selected_choice = \"6모 실채점이 6모 가채점보다 하락한 학생은\"\n",
        "\n",
        "    # Proceed only if there are data points that meet the condition\n",
        "    if not df_filtered.empty:\n",
        "        df_melt = pd.melt(df_filtered, id_vars=['이름'], value_vars=['내신_일이학년', '등급평균_3모', '등급평균_5모', '등급평균_6모_가', '등급평균_6모_실'], var_name='test', value_name='result')\n",
        "        x_values = df_melt['test']\n",
        "        y_values = df_melt['result']\n",
        "\n",
        "        ax = axs[i]\n",
        "        ax.scatter(x_values, y_values)\n",
        "        ax.plot(x_values, y_values, '-')\n",
        "\n",
        "        내신_일이학년_value = df_name['내신_일이학년'].values[0]  # Get the value of '내신_일이학년'\n",
        "        ax.axhline(내신_일이학년_value, color='r', linestyle=':')  # Draw a horizontal line at '내신_일이학년' value\n",
        "        ax.set_ylabel('등급')\n",
        "        ax.invert_yaxis()\n",
        "        ax.set_title(name + ' 학생의 3학년 성적추이')\n",
        "\n",
        "        ax.text(0.5, 내신_일이학년_value, str(내신_일이학년_value), color='r', ha='right', va='bottom')  # Annotate '내신_일이학년' value on the plot\n",
        "\n",
        "        plt.setp(ax.xaxis.get_majorticklabels(), rotation=60)  # Rotate x-axis labels by 30 degrees\n",
        "\n",
        "        # Increment count variable\n",
        "\n",
        "        df_filtered_count += len(df_filtered)\n",
        "\n",
        "    # Remove plots and annotations that do not meet the condition\n",
        "    else:\n",
        "        fig.delaxes(axs[i])\n",
        "\n",
        "# Remove any empty subplots\n",
        "if num_plots < num_rows * num_cols:\n",
        "    for j in range(num_plots, num_rows * num_cols):\n",
        "        fig.delaxes(axs[j])\n",
        "\n",
        "plt.subplots_adjust(hspace=0.5, wspace=0.3)  # Adjust spacing between subplots\n",
        "plt.savefig('plots.png')  # Save the figure as a PNG file\n",
        "\n",
        "\n",
        "# Count the total number of students in df_filtered\n",
        "result_string = selected_choice + \" \" + str(df_filtered_count) + \"명입니다\"\n",
        "\n",
        "# Create a new figure and axis for adjusting text properties\n",
        "fig, ax = plt.subplots(figsize=(6, 3))\n",
        "\n",
        "# Hide the axis\n",
        "ax.axis('off')\n",
        "\n",
        "# Set the font size to three times the default size\n",
        "font_size = plt.rcParams['font.size'] * 1.5\n",
        "\n",
        "# Print the result string with the modified font size\n",
        "ax.text(0.5, 0.5, result_string, fontsize=font_size, ha='center', va='center')\n",
        "\n",
        "# Display the figure\n",
        "plt.show()\n"
      ],
      "metadata": {
        "id": "jyaOPrKs--AP"
      },
      "execution_count": null,
      "outputs": []
    },
    {
      "cell_type": "code",
      "source": [
        "#이름 입력하면 전체 열 출력\n",
        "\n",
        "from tabulate import tabulate\n",
        "\n",
        "# Input name\n",
        "name = input(\"이름:\")\n",
        "\n",
        "# Filter the DataFrame by name\n",
        "df_name = df[df.이름 == name]\n",
        "\n",
        "# Define all possible headers\n",
        "all_headers = ['이름', '공학캠프_생기부_생기부', '과학(물리)캠프_생기부', '과학(화학)캠프_생기부', '과학(생명과학)캠프_생기부', '천문특강_생기부', '천문캠프_생기부', '지역인재육성프로그램_1기_생기부', '지역인재육성프로그램_2기_생기부', '진로독서_생기부', '진로활동_생기부', '자치역량강화_학생회_생기부', '사회이슈융합인포그래픽_생기부 ', '과학융합탐구_학생회_0526_생기부', '과학융합탐구_학생회_0602_생기부', '학습멘토링_학생회_생기부', '비경쟁식 독서토론(1차)_생기부', '비경쟁식 독서토론(2차)_생기부', '인문사회탐구_연구부_생기부', '발표_영독작문A_생기부', '진로_창체_생기부'] # keep adding all your headers\n",
        "\n",
        "# Filter out columns without valid strings for the specific student\n",
        "valid_headers = [header for header in all_headers if not df_name[header].isnull().all() and df_name[header].astype(str).str.strip().ne(\"\").all()]\n",
        "\n",
        "# Display the filtered data with valid headers\n",
        "df_name_valid = df_name[valid_headers]\n",
        "\n",
        "\n",
        "# Create the formatted table using tabulate\n",
        "table_string = tabulate(df_name, headers=valid_headers, tablefmt='plain')\n",
        "print()\n",
        "print(table_string)"
      ],
      "metadata": {
        "id": "oeakwsGdvZP_"
      },
      "execution_count": null,
      "outputs": []
    },
    {
      "cell_type": "code",
      "source": [
        "# 회장/부회장 경험있는 학생수\n",
        "mi = int(input(\"회장경험 몇회 이상으로 겸색할까요?:\"))\n",
        "\n",
        "# mi이상 mi이하 조건을 충족하는 객체 만들기\n",
        "df_interval = df[(df.회장경험 >= mi)]\n",
        "\n",
        "# value_counts()로 빈도를 세고, sort_index() 기준으로 정렬!\n",
        "list_1 =  df_interval[\"회장경험\"].value_counts().sort_index()\n",
        "print(list_1)\n",
        "print(\"------------------------------\")\n",
        "print(df_interval[['이름', '성별', '회장경험']])\n",
        "#print(str(len(list_1))+\"명\")\n",
        "print(\"------------------------------\")\n",
        "print(\"{}회 이상 학급회장/부회장 경험:{}명\".format(mi, len(df_interval)))"
      ],
      "metadata": {
        "id": "Gxjn-dlc1NAW"
      },
      "execution_count": null,
      "outputs": []
    }
  ]
}