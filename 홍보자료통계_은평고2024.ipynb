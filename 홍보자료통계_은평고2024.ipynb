{
  "nbformat": 4,
  "nbformat_minor": 0,
  "metadata": {
    "colab": {
      "provenance": [],
      "mount_file_id": "1BZEqbEmNin_0-i_gvc81Phpc5MtztR5z",
      "authorship_tag": "ABX9TyOs0UYAIBaNpR6xOfcFlYa+",
      "include_colab_link": true
    },
    "kernelspec": {
      "name": "python3",
      "display_name": "Python 3"
    },
    "language_info": {
      "name": "python"
    },
    "gpuClass": "standard"
  },
  "cells": [
    {
      "cell_type": "markdown",
      "metadata": {
        "id": "view-in-github",
        "colab_type": "text"
      },
      "source": [
        "<a href=\"https://colab.research.google.com/github/ecloguehwang/HSS/blob/master/%ED%99%8D%EB%B3%B4%EC%9E%90%EB%A3%8C%ED%86%B5%EA%B3%84_%EC%9D%80%ED%8F%89%EA%B3%A02024.ipynb\" target=\"_parent\"><img src=\"https://colab.research.google.com/assets/colab-badge.svg\" alt=\"Open In Colab\"/></a>"
      ]
    },
    {
      "cell_type": "markdown",
      "source": [
        "##1~4번 은평고 홍보 브로셔 통계\n",
        "###1. 4년제 합격자\n",
        "###2. 수도권 합격자\n",
        "###3. 전문대 합격자\n",
        "###4. 인서울 4년제 합격자\n",
        "###5. 4년제 지방(비수도권) 합격자"
      ],
      "metadata": {
        "id": "BaLCTmz0jNCE"
      }
    },
    {
      "cell_type": "code",
      "source": [
        "#colab에서 matplotlib와 sns 라이브러리 그래프 한글을 깨지지 않게 하는 법A: 이 코드실행하고 런타임(runtime) 다시 실행하기\n",
        "!sudo apt-get install -y fonts-nanum\n",
        "!sudo fc-cache -fv\n",
        "!rm ~/.cache/matplotlib -rf"
      ],
      "metadata": {
        "id": "8hcwGGZ6BUqr",
        "outputId": "4d3cc158-05d5-4a7a-9f7d-bbb3eed6d5b4",
        "colab": {
          "base_uri": "https://localhost:8080/"
        }
      },
      "execution_count": null,
      "outputs": [
        {
          "output_type": "stream",
          "name": "stdout",
          "text": [
            "Reading package lists... Done\n",
            "Building dependency tree... Done\n",
            "Reading state information... Done\n",
            "The following NEW packages will be installed:\n",
            "  fonts-nanum\n",
            "0 upgraded, 1 newly installed, 0 to remove and 45 not upgraded.\n",
            "Need to get 10.3 MB of archives.\n",
            "After this operation, 34.1 MB of additional disk space will be used.\n",
            "Get:1 http://archive.ubuntu.com/ubuntu jammy/universe amd64 fonts-nanum all 20200506-1 [10.3 MB]\n",
            "Fetched 10.3 MB in 1s (10.2 MB/s)\n",
            "debconf: unable to initialize frontend: Dialog\n",
            "debconf: (No usable dialog-like program is installed, so the dialog based frontend cannot be used. at /usr/share/perl5/Debconf/FrontEnd/Dialog.pm line 78, <> line 1.)\n",
            "debconf: falling back to frontend: Readline\n",
            "debconf: unable to initialize frontend: Readline\n",
            "debconf: (This frontend requires a controlling tty.)\n",
            "debconf: falling back to frontend: Teletype\n",
            "dpkg-preconfigure: unable to re-open stdin: \n",
            "Selecting previously unselected package fonts-nanum.\n",
            "(Reading database ... 121925 files and directories currently installed.)\n",
            "Preparing to unpack .../fonts-nanum_20200506-1_all.deb ...\n",
            "Unpacking fonts-nanum (20200506-1) ...\n",
            "Setting up fonts-nanum (20200506-1) ...\n",
            "Processing triggers for fontconfig (2.13.1-4.2ubuntu5) ...\n",
            "/usr/share/fonts: caching, new cache contents: 0 fonts, 1 dirs\n",
            "/usr/share/fonts/truetype: caching, new cache contents: 0 fonts, 3 dirs\n",
            "/usr/share/fonts/truetype/humor-sans: caching, new cache contents: 1 fonts, 0 dirs\n",
            "/usr/share/fonts/truetype/liberation: caching, new cache contents: 16 fonts, 0 dirs\n",
            "/usr/share/fonts/truetype/nanum: caching, new cache contents: 12 fonts, 0 dirs\n",
            "/usr/local/share/fonts: caching, new cache contents: 0 fonts, 0 dirs\n",
            "/root/.local/share/fonts: skipping, no such directory\n",
            "/root/.fonts: skipping, no such directory\n",
            "/usr/share/fonts/truetype: skipping, looped directory detected\n",
            "/usr/share/fonts/truetype/humor-sans: skipping, looped directory detected\n",
            "/usr/share/fonts/truetype/liberation: skipping, looped directory detected\n",
            "/usr/share/fonts/truetype/nanum: skipping, looped directory detected\n",
            "/var/cache/fontconfig: cleaning cache directory\n",
            "/root/.cache/fontconfig: not cleaning non-existent cache directory\n",
            "/root/.fontconfig: not cleaning non-existent cache directory\n",
            "fc-cache: succeeded\n"
          ]
        }
      ]
    },
    {
      "cell_type": "code",
      "source": [
        "#pandas, openpyxl 라이브러리 부르기\n",
        "import pandas as pd\n",
        "import numpy as np\n",
        "from tabulate import tabulate\n",
        "import matplotlib.pyplot as plt\n",
        "\n",
        "\n",
        "\n",
        "##  데이터 부르기\n",
        "path = '/content/drive/MyDrive/python/habbul/'\n",
        "df = pd.read_excel(f'{path}eunpyeong_2024_habbul.xlsx')\n",
        "\n",
        "\n",
        "# 첫 5줄을 봅니다.\n",
        "df.tail(2)"
      ],
      "metadata": {
        "id": "8R5FWLi09yc1"
      },
      "execution_count": null,
      "outputs": []
    },
    {
      "cell_type": "code",
      "source": [
        "#matplotlib에서 한글구현\n",
        "plt.rc('font', family='NanumBarunGothic')\n",
        "\n",
        "#그래프 마이너스 기호 깨짐 방지\n",
        "plt.rcParams['axes.unicode_minus'] = False"
      ],
      "metadata": {
        "id": "MLqQi7koBV0q"
      },
      "execution_count": null,
      "outputs": []
    },
    {
      "cell_type": "code",
      "source": [
        "#수능 응시자: 113명\n",
        "\n",
        "df_number = df.drop_duplicates('이름')\n",
        "df_number = len(df_number)\n",
        "print(df_number)"
      ],
      "metadata": {
        "colab": {
          "base_uri": "https://localhost:8080/"
        },
        "id": "BG6sWOC8Gzct",
        "outputId": "9e791d30-f165-41d9-9dbb-7d5bdb9ef311"
      },
      "execution_count": null,
      "outputs": [
        {
          "output_type": "stream",
          "name": "stdout",
          "text": [
            "113\n"
          ]
        }
      ]
    },
    {
      "cell_type": "code",
      "source": [
        "#1. 4년제 합격자 명단\n",
        "\n",
        "from tabulate import tabulate\n",
        "\n",
        "path = '/content/drive/MyDrive/python/habbul/'\n",
        "df = pd.read_excel(f'{path}eunpyeong_2024_habbul.xlsx')\n",
        "\n",
        "\n",
        "\n",
        "#3개 대학 제외:\n",
        "twoyear = ['명지전문대학', '인하공업전문대학', '한국폴리텍1대학', '한국폴리텍2대학']\n",
        "\n",
        "\n",
        "#지역, 최종, ace대학 제외\n",
        "seoul_df = df[(df.최종 == '합') & ~(df.대학.str.contains(\"대학교\")) & ~(df.대학.isin(twoyear))]\n",
        "\n",
        "\n",
        "\n",
        "#4년제 합격건수(중복포함)\n",
        "seoul_df_freq = len(seoul_df)\n",
        "\n",
        "\n",
        "\n",
        "#필요한 변수(열)만 불러옴\n",
        "seoul_df = seoul_df[['지역', '학번', '계열', '이름', '대학', '모집단위', '최종', '전과목', '지원시기', '전형분류']]\n",
        "\n",
        "\n",
        "\n",
        "#중복제외한 합격자수\n",
        "seoul_df_person = seoul_df.drop_duplicates('이름')\n",
        "seoul_df_person = len(seoul_df_person)\n",
        "\n",
        "\n",
        "\n",
        "#졸업생대비 4년제 합격률 = 4년제 합격자 / 졸업생수(147)\n",
        "numofgraduate = 147\n",
        "seoul_df_fouryearpass = (seoul_df_person / numofgraduate) *100\n",
        "seoul_df_fouryearpass = int(seoul_df_fouryearpass)\n",
        "\n",
        "\n",
        "\n",
        "#합격자수\n",
        "print(\"2024학년도  E고 4년제 합격건수는 %d건입니다.(중복합격 포함)\" % len(seoul_df))\n",
        "\n",
        "print(f\"2024학년도  E고 4년제 합격자수는 {seoul_df_person}명입니다.(중복제외)\")\n",
        "\n",
        "\n",
        "print(f\"2024학년도  E고 4년제 졸업생 대비 합격률은 {seoul_df_fouryearpass}%입니다.(중복포함)\")\n",
        "\n",
        "# tabulate를 사용하여 결과 출력\n",
        "#print(tabulate(seoul_df, headers='keys', tablefmt='plain', showindex=False))\n",
        "#print(\"********************************************************************\")"
      ],
      "metadata": {
        "colab": {
          "base_uri": "https://localhost:8080/"
        },
        "id": "P7FJv2CvcLLQ",
        "outputId": "258c9726-763a-4b73-e189-933538e2c543"
      },
      "execution_count": 21,
      "outputs": [
        {
          "output_type": "stream",
          "name": "stdout",
          "text": [
            "2024학년도  E고 4년제 합격건수는 146건입니다.(중복합격 포함)\n",
            "2024학년도  E고 4년제 합격자수는 75명입니다.(중복제외)\n",
            "2024학년도  E고 4년제 졸업생 대비 합격률은 51%입니다.(중복포함)\n"
          ]
        }
      ]
    },
    {
      "cell_type": "code",
      "source": [
        "#16. 수도권(서울, 경기, 인천) 4년제 합격자 명단\n",
        "\n",
        "from tabulate import tabulate\n",
        "\n",
        "path = '/content/drive/MyDrive/python/habbul/'\n",
        "df = pd.read_excel(f'{path}eunpyeong_2024_habbul.xlsx')\n",
        "\n",
        "\n",
        "#수도권 지역 설정\n",
        "area = ['서울', '경기', '인천']\n",
        "\n",
        "\n",
        "#3개 대학 제외:\n",
        "twoyear = ['명지전문대학', '인하공업전문대학', '한국폴리텍1대학', '한국폴리텍2대학']\n",
        "\n",
        "\n",
        "\n",
        "#합격자, 전문대 제외, 3개 전문대제외(명지, 인하, 폴리텍)\n",
        "seoul_df = df[(df.최종 == '합') & ~(df.대학.str.contains(\"대학교\")) & ~(df.대학.isin(twoyear))]\n",
        "\n",
        "\n",
        "seoul_df = seoul_df[seoul_df['지역'].isin(area)]\n",
        "\n",
        "\n",
        "#4년제 합격건수(중복포함)\n",
        "seoul_df_freq = len(seoul_df)\n",
        "\n",
        "\n",
        "\n",
        "#필요한 변수(열)만 불러옴\n",
        "seoul_df = seoul_df[['지역', '학번', '계열', '이름', '대학', '모집단위', '최종', '전과목', '지원시기', '전형분류']]\n",
        "\n",
        "\n",
        "\n",
        "#중복제외한 합격자수\n",
        "seoul_df_person = seoul_df.drop_duplicates('이름')\n",
        "seoul_df_person = len(seoul_df_person)\n",
        "\n",
        "\n",
        "\n",
        "#졸업생대비 4년제 합격률 = 4년제 합격자 / 졸업생수(147)\n",
        "numofgraduate = 147\n",
        "seoul_df_fouryearpass = (seoul_df_person / numofgraduate) *100\n",
        "seoul_df_fouryearpass = int(seoul_df_fouryearpass)\n",
        "\n",
        "\n",
        "\n",
        "#합격자수\n",
        "print(\"2024학년도  E고 4년제 수도권대 합격건수는 %d건입니다.(중복합격 포함)\" % len(seoul_df))\n",
        "\n",
        "print(f\"2024학년도  E고 4년제 수도권대 합격자수는 {seoul_df_person}명입니다.(중복제외)\")\n",
        "\n",
        "\n",
        "print(f\"2024학년도  E고 4년제 수도권대 졸업생 대비 합격률은 {seoul_df_fouryearpass}%입니다.(중복포함)\")\n",
        "\n",
        "# tabulate를 사용하여 결과 출력\n",
        "#print(tabulate(seoul_df, headers='keys', tablefmt='plain', showindex=False))\n",
        "\n",
        "\n",
        "\n",
        "#데이터 프레임으로 전환\n",
        "seoul_df_p = pd.DataFrame(seoul_df)\n",
        "\n",
        "\n",
        "#결과를 엑셀로 저장\n",
        "path = '/content/drive/MyDrive/python/eunpyeong/result_habbul/'\n",
        "seoul_df_p.to_excel(excel_writer= f'{path}수도권4년제합격자_2024_은평고.xlsx')"
      ],
      "metadata": {
        "id": "s5Vs4K-6fVqO",
        "colab": {
          "base_uri": "https://localhost:8080/"
        },
        "outputId": "78ccd3fc-dd55-4573-db9c-041f0a4cb61c"
      },
      "execution_count": 22,
      "outputs": [
        {
          "output_type": "stream",
          "name": "stdout",
          "text": [
            "2024학년도  E고 4년제 수도권대 합격건수는 113건입니다.(중복합격 포함)\n",
            "2024학년도  E고 4년제 수도권대 합격자수는 64명입니다.(중복제외)\n",
            "2024학년도  E고 4년제 수도권대 졸업생 대비 합격률은 43%입니다.(중복포함)\n"
          ]
        }
      ]
    },
    {
      "cell_type": "code",
      "source": [
        "#18. 인서울 4년제 합격자 명단\n",
        "\n",
        "\n",
        "from tabulate import tabulate\n",
        "\n",
        "path = '/content/drive/MyDrive/python/habbul/'\n",
        "df = pd.read_excel(f'{path}eunpyeong_2024_habbul.xlsx')\n",
        "\n",
        "\n",
        "#서울\n",
        "area = ['서울']\n",
        "\n",
        "\n",
        "\n",
        "#합격자, 전문대 제외, 3개 전문대제외(명지, 인하, 폴리텍)\n",
        "seoul_df = df[(df.최종 == '합') & ~(df.대학.str.contains(\"대학교\")) & ~(df.대학.str.contains(\"대학\"))]\n",
        "\n",
        "\n",
        "#인서울로 제한\n",
        "seoul_df = seoul_df[seoul_df['지역'].isin(area)]\n",
        "\n",
        "\n",
        "\n",
        "#4년제 합격건수(중복포함)\n",
        "seoul_df_freq = len(seoul_df)\n",
        "\n",
        "\n",
        "\n",
        "#필요한 변수(열)만 불러옴\n",
        "seoul_df = seoul_df[['지역', '학번', '계열', '이름', '대학', '모집단위', '최종', '전과목', '지원시기', '전형분류']]\n",
        "\n",
        "\n",
        "\n",
        "#중복제외한 합격자수\n",
        "seoul_df_person = seoul_df.drop_duplicates('이름')\n",
        "seoul_df_person = len(seoul_df_person)\n",
        "\n",
        "\n",
        "\n",
        "#졸업생대비 4년제 합격률 = 4년제 합격자 / 졸업생수(147)\n",
        "numofgraduate = 147\n",
        "seoul_df_fouryearpass = (seoul_df_person / numofgraduate) *100\n",
        "seoul_df_fouryearpass = int(seoul_df_fouryearpass)\n",
        "\n",
        "\n",
        "\n",
        "#합격자수\n",
        "print(\"2024학년도  E고 인서울 4년제 합격건수는 %d건입니다.(중복합격 포함)\" % len(seoul_df))\n",
        "\n",
        "print(f\"2024학년도  E고 인서울 4년제 합격자수는 {seoul_df_person}명입니다.(중복제외)\")\n",
        "\n",
        "\n",
        "print(f\"2024학년도  E고 인서울 4년제 졸업생 대비 합격률은 {seoul_df_fouryearpass}%입니다.(중복포함)\")\n",
        "\n",
        "# tabulate를 사용하여 결과 출력\n",
        "#print(tabulate(seoul_df, headers='keys', tablefmt='plain', showindex=False))"
      ],
      "metadata": {
        "colab": {
          "base_uri": "https://localhost:8080/"
        },
        "id": "ZH1Ql_P0z3gE",
        "outputId": "53578313-3d6e-468b-f958-dd5620a954e6"
      },
      "execution_count": 23,
      "outputs": [
        {
          "output_type": "stream",
          "name": "stdout",
          "text": [
            "2024학년도  E고 인서울 4년제 합격건수는 44건입니다.(중복합격 포함)\n",
            "2024학년도  E고 인서울 4년제 합격자수는 27명입니다.(중복제외)\n",
            "2024학년도  E고 인서울 4년제 졸업생 대비 합격률은 18%입니다.(중복포함)\n"
          ]
        }
      ]
    },
    {
      "cell_type": "code",
      "source": [
        "#19. 지방 4년제 합격자 명단\n",
        "\n",
        "from tabulate import tabulate\n",
        "\n",
        "path = '/content/drive/MyDrive/python/habbul/'\n",
        "df = pd.read_excel(f'{path}eunpyeong_2024_habbul.xlsx')\n",
        "\n",
        "\n",
        "area = ['서울', '경기', '인천']\n",
        "\n",
        "\n",
        "#3개 전문대학 제외:\n",
        "twoyear = ['명지전문대학', '인하공업전문대학', '한국폴리텍1대학', '한국폴리텍2대학']\n",
        "\n",
        "\n",
        "#합격자, 전문대 제외, 3개 전문대제외(명지, 인하, 폴리텍)\n",
        "seoul_df = df[(df.최종 == '합') & ~(df.대학.str.contains(\"대학교\")) & ~(df.대학.isin(twoyear))]\n",
        "\n",
        "\n",
        "#서울지역 제외\n",
        "seoul_df = seoul_df[~seoul_df['지역'].isin(area)]\n",
        "\n",
        "\n",
        "#4년제 합격건수(중복포함)\n",
        "seoul_df_freq = len(seoul_df)\n",
        "\n",
        "\n",
        "#필요한 변수(열)만 불러옴\n",
        "seoul_df = seoul_df[['지역', '학번', '계열', '이름', '대학', '모집단위', '최종', '전과목', '지원시기', '전형분류']]\n",
        "\n",
        "\n",
        "\n",
        "#중복제외한 합격자수\n",
        "seoul_df_person = seoul_df.drop_duplicates('이름')\n",
        "seoul_df_person = len(seoul_df_person)\n",
        "\n",
        "\n",
        "\n",
        "#졸업생대비 4년제 합격률 = 4년제 합격자 / 졸업생수(147)\n",
        "numofgraduate = 147\n",
        "seoul_df_fouryearpass = (seoul_df_person / numofgraduate) *100\n",
        "seoul_df_fouryearpass = int(seoul_df_fouryearpass)\n",
        "\n",
        "\n",
        "\n",
        "#합격자수\n",
        "print(\"2024학년도  E고 4년제 지방 합격건수는 %d건입니다.(중복합격 포함)\" % len(seoul_df))\n",
        "\n",
        "print(f\"2024학년도  E고 4년제  지방 합격자수는 {seoul_df_person}명입니다.(중복제외)\")\n",
        "\n",
        "\n",
        "print(f\"2024학년도  E고 4년제 지방 졸업생 대비 합격률은 {seoul_df_fouryearpass}%입니다.(중복포함)\")\n",
        "\n",
        "# tabulate를 사용하여 결과 출력\n",
        "#print(tabulate(seoul_df, headers='keys', tablefmt='plain', showindex=False))"
      ],
      "metadata": {
        "colab": {
          "base_uri": "https://localhost:8080/"
        },
        "id": "yBf4c-18kSqi",
        "outputId": "8cf1d519-6cd5-4d0e-fa6f-1f43a17d27e2"
      },
      "execution_count": 24,
      "outputs": [
        {
          "output_type": "stream",
          "name": "stdout",
          "text": [
            "2024학년도  E고 4년제 지방 합격건수는 33건입니다.(중복합격 포함)\n",
            "2024학년도  E고 4년제  지방 합격자수는 18명입니다.(중복제외)\n",
            "2024학년도  E고 4년제 지방 졸업생 대비 합격률은 12%입니다.(중복포함)\n"
          ]
        }
      ]
    },
    {
      "cell_type": "code",
      "source": [
        "#17. 전문대 합격자 명단\n",
        "\n",
        "from tabulate import tabulate\n",
        "\n",
        "path = '/content/drive/MyDrive/python/habbul/'\n",
        "df = pd.read_excel(f'{path}eunpyeong_2024_habbul.xlsx')\n",
        "\n",
        "\n",
        "\n",
        "#합격, 대학(ex: 명지전문대학), 대학교(ex: 서일대학교)\n",
        "seoul_df = df[(df.최종 == '합') & (df.대학.str.contains(\"대학\")) | (df.대학.str.contains(\"대학교\"))]\n",
        "\n",
        "\n",
        "\n",
        "#4년제 합격건수(중복포함)\n",
        "seoul_df_freq = len(seoul_df)\n",
        "\n",
        "\n",
        "\n",
        "#필요한 변수(열)만 불러옴\n",
        "seoul_df = seoul_df[['지역', '학번', '계열', '이름', '대학', '모집단위', '최종', '전과목', '지원시기', '전형분류']]\n",
        "\n",
        "\n",
        "\n",
        "#중복제외한 합격자수\n",
        "seoul_df_person = seoul_df.drop_duplicates('이름')\n",
        "seoul_df_person = len(seoul_df_person)\n",
        "\n",
        "\n",
        "\n",
        "#졸업생대비 4년제 합격률 = 4년제 합격자 / 졸업생수(147)\n",
        "numofgraduate = 147\n",
        "seoul_df_fouryearpass = (seoul_df_person / numofgraduate) *100\n",
        "seoul_df_fouryearpass = int(seoul_df_fouryearpass)\n",
        "\n",
        "\n",
        "\n",
        "#합격자수\n",
        "print(\"2024학년도  E고 전문대 합격건수는 %d건입니다.(중복합격 포함)\" % len(seoul_df))\n",
        "\n",
        "print(f\"2024학년도  E고 전문대 합격자수는 {seoul_df_person}명입니다.(중복제외)\")\n",
        "\n",
        "print(f\"2024학년도  E고 전문대 졸업생 대비 합격률은 {seoul_df_fouryearpass}%입니다.(중복포함)\")\n",
        "\n",
        "# tabulate를 사용하여 결과 출력\n",
        "#print(tabulate(seoul_df, headers='keys', tablefmt='plain', showindex=False))"
      ],
      "metadata": {
        "colab": {
          "base_uri": "https://localhost:8080/"
        },
        "id": "ZkOLJ_K8c5aC",
        "outputId": "82f530c8-14fe-4d18-bfe7-2a3856a2c3d3"
      },
      "execution_count": 25,
      "outputs": [
        {
          "output_type": "stream",
          "name": "stdout",
          "text": [
            "2024학년도  E고 전문대 합격건수는 197건입니다.(중복합격 포함)\n",
            "2024학년도  E고 전문대 합격자수는 45명입니다.(중복제외)\n",
            "2024학년도  E고 전문대 졸업생 대비 합격률은 30%입니다.(중복포함)\n"
          ]
        }
      ]
    },
    {
      "cell_type": "code",
      "source": [
        "df.groupby('지역').size()"
      ],
      "metadata": {
        "colab": {
          "base_uri": "https://localhost:8080/"
        },
        "id": "Xr7R9PSBkF9y",
        "outputId": "4cef46c8-d794-421f-e0d9-5fd1df35c773"
      },
      "execution_count": null,
      "outputs": [
        {
          "output_type": "execute_result",
          "data": {
            "text/plain": [
              "지역\n",
              "강원     15\n",
              "경기    288\n",
              "경북      7\n",
              "광주      9\n",
              "대구      1\n",
              "대전     12\n",
              "부산      2\n",
              "서울    350\n",
              "세종      3\n",
              "인천     22\n",
              "전남      4\n",
              "전북     13\n",
              "충남     32\n",
              "충북     14\n",
              "dtype: int64"
            ]
          },
          "metadata": {},
          "execution_count": 20
        }
      ]
    },
    {
      "cell_type": "code",
      "source": [
        "#수도권과 지방 동시 합격자 검산법\n",
        "\n",
        "import pandas as pd\n",
        "from tabulate import tabulate\n",
        "\n",
        "# 데이터 파일 경로 설정\n",
        "path = '/content/drive/MyDrive/python/habbul/'\n",
        "df = pd.read_excel(f'{path}eunpyeong_2024_habbul.xlsx')\n",
        "\n",
        "\n",
        "\n",
        "# 4년제 합격자 필터링: 최종 합격, '대학교' 포함, '대학'제외\n",
        "fouryear_df = df[(df['최종'] == '합') & (~df['대학'].str.contains(\"대학교\")) & (~df['대학'].str.contains(\"대학\"))]\n",
        "\n",
        "# 필요한 변수(열)만 불러옴\n",
        "columns_needed = ['지역', '학번', '계열', '이름', '대학', '모집단위', '최종', '전과목', '지원시기', '전형분류']\n",
        "fouryear_df = fouryear_df[columns_needed]\n",
        "\n",
        "# 수도권 정의\n",
        "seoul_area = ['서울', '경기', '인천']\n",
        "\n",
        "# 수도권 대학 합격자 필터링\n",
        "seoul_df = fouryear_df[fouryear_df['지역'].isin(seoul_area)]\n",
        "local_df = fouryear_df[~fouryear_df['지역'].isin(seoul_area)]\n",
        "\n",
        "# 중복 제외한 합격자 명단\n",
        "seoul_students = seoul_df.drop_duplicates('이름')\n",
        "local_students = local_df.drop_duplicates('이름')\n",
        "\n",
        "# 수도권만 합격한 자\n",
        "only_seoul = seoul_students[~seoul_students['이름'].isin(local_students['이름'])]\n",
        "num_only_seoul = len(only_seoul)\n",
        "\n",
        "# 지방만 합격한 자\n",
        "only_local = local_students[~local_students['이름'].isin(seoul_students['이름'])]\n",
        "num_only_local = len(only_local)\n",
        "\n",
        "\n",
        "# 수도권과 지방 모두 합격한 자\n",
        "both_seoul_local = seoul_students[seoul_students['이름'].isin(local_students['이름'])]\n",
        "num_both_seoul_local = len(both_seoul_local)\n",
        "\n",
        "# 각각의 합격 건수 (중복 포함)\n",
        "count_only_seoul = len(seoul_df[seoul_df['이름'].isin(only_seoul['이름'])])\n",
        "count_only_local = len(local_df[local_df['이름'].isin(only_local['이름'])])\n",
        "count_both_seoul_local = len(seoul_df[seoul_df['이름'].isin(both_seoul_local['이름'])]) + len(local_df[local_df['이름'].isin(both_seoul_local['이름'])])\n",
        "\n",
        "# 결과 출력\n",
        "print(f\"4년제 수도권만 합격한 자의 수: {num_only_seoul}명, 합격 건수: {count_only_seoul}건\")\n",
        "print(f\"4년제 지방만 합격한 자의 수: {num_only_local}명, 합격 건수: {count_only_local}건\")\n",
        "print(f\"4년제 수도권과 지방 모두 합격한 자의 수: {num_both_seoul_local}명, 합격 건수: {count_both_seoul_local}건\")\n",
        "\n",
        "# 모든 4년제 합격자\n",
        "all_fouryear_pass = fouryear_df.drop_duplicates('이름')\n",
        "num_all_fouryear_pass = len(all_fouryear_pass)\n",
        "\n",
        "# 졸업생 수 설정\n",
        "numofgraduate = 147\n",
        "\n",
        "# 졸업생 대비 4년제 합격률 계산\n",
        "fouryear_df_passrate = (num_all_fouryear_pass / numofgraduate) * 100\n",
        "fouryear_df_passrate = int(fouryear_df_passrate)\n",
        "\n",
        "# 결과 출력\n",
        "print(f\"2024학년도 E고 4년제 합격자수는 {num_all_fouryear_pass}명입니다. (중복제외)\")\n",
        "print(f\"2024학년도 E고 4년제 졸업생 대비 합격률은 {fouryear_df_passrate}%입니다.\")\n",
        "\n",
        "# tabulate를 사용하여 결과 출력\n",
        "#print(tabulate(fouryear_df, headers='keys', tablefmt='plain', showindex=False))"
      ],
      "metadata": {
        "colab": {
          "base_uri": "https://localhost:8080/"
        },
        "id": "2bZN_5R6q84q",
        "outputId": "89a5920b-66ca-4a1d-970c-9ad3d76a1563"
      },
      "execution_count": 26,
      "outputs": [
        {
          "output_type": "stream",
          "name": "stdout",
          "text": [
            "4년제 수도권만 합격한 자의 수: 57명, 합격 건수: 104건\n",
            "4년제 지방만 합격한 자의 수: 11명, 합격 건수: 23건\n",
            "4년제 수도권과 지방 모두 합격한 자의 수: 7명, 합격 건수: 19건\n",
            "2024학년도 E고 4년제 합격자수는 75명입니다. (중복제외)\n",
            "2024학년도 E고 4년제 졸업생 대비 합격률은 51%입니다.\n"
          ]
        }
      ]
    }
  ]
}