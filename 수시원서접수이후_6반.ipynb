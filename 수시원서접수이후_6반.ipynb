{
  "nbformat": 4,
  "nbformat_minor": 0,
  "metadata": {
    "colab": {
      "provenance": [],
      "mount_file_id": "1jGd8qFbr4mgRO3LEN8RbRLl4ch0gI9Kk",
      "authorship_tag": "ABX9TyPi8AJDu0nv1u8huQyBivml",
      "include_colab_link": true
    },
    "kernelspec": {
      "name": "python3",
      "display_name": "Python 3"
    },
    "language_info": {
      "name": "python"
    }
  },
  "cells": [
    {
      "cell_type": "markdown",
      "metadata": {
        "id": "view-in-github",
        "colab_type": "text"
      },
      "source": [
        "<a href=\"https://colab.research.google.com/github/ecloguehwang/HSS/blob/master/%EC%88%98%EC%8B%9C%EC%9B%90%EC%84%9C%EC%A0%91%EC%88%98%EC%9D%B4%ED%9B%84_6%EB%B0%98.ipynb\" target=\"_parent\"><img src=\"https://colab.research.google.com/assets/colab-badge.svg\" alt=\"Open In Colab\"/></a>"
      ]
    },
    {
      "cell_type": "code",
      "source": [
        "#colab에서 matplotlib와 sns 라이브러리 그래프 한글을 깨지지 않게 하는 법: 실행하고 런타임 재시작\n",
        "!sudo apt-get install -y fonts-nanum\n",
        "!sudo fc-cache -fv\n",
        "!rm ~/.cache/matplotlib -rf"
      ],
      "metadata": {
        "id": "raGfIAwuUslN"
      },
      "execution_count": null,
      "outputs": []
    },
    {
      "cell_type": "code",
      "execution_count": null,
      "metadata": {
        "id": "u1P-ymw-Bkx-"
      },
      "outputs": [],
      "source": [
        "# 라이브러리 부르기\n",
        "import pandas as pd\n",
        "import numpy as np\n",
        "import seaborn as sns\n",
        "import matplotlib.pyplot as plt\n",
        "from tabulate import tabulate\n",
        "\n",
        "\n",
        "##  데이터 부르기 : 구글colab에 마운트(mount)하는 방법: 왼쪽 폴더아이콘을 누르기-눈동자 왼쪽 파일마운트 아이콘 클릭- /content/drive/MyDrive/python폴더의 susi_2021simple.csv파일을 불러옴\n",
        "path = '/content/drive/MyDrive/python/deungchon/'\n",
        "df = pd.read_csv(f'{path}merged_data_final.csv', encoding = 'cp949')\n",
        "\n",
        "df.head()"
      ]
    },
    {
      "cell_type": "code",
      "source": [
        "#matplotlib에서 한글구현\n",
        "plt.rc('font', family='NanumBarunGothic')\n",
        "\n",
        "#그래프 마이너스 기호 깨짐 방지\n",
        "plt.rcParams['axes.unicode_minus'] = False"
      ],
      "metadata": {
        "id": "88jMl4cAUwpq"
      },
      "execution_count": null,
      "outputs": []
    },
    {
      "cell_type": "code",
      "source": [
        "#이름으로 조회 - 수험번호, 생년월일이 뜸~\n",
        "\n",
        "import pandas as pd\n",
        "\n",
        "path = '/content/drive/MyDrive/python/deungchon/'\n",
        "df = pd.read_csv(f'{path}merged_data_final.csv', encoding = 'cp949')\n",
        "\n",
        "# 이름으로 열람\n",
        "name = input(\"이름:\")\n",
        "df_name = df[df.이름 == name].copy()\n",
        "\n",
        "\n",
        "\n",
        "# '생년월일' 열 수정: 왼쪽에서 세 번째 숫자부터 선택, 점 제거\n",
        "df_name.loc[:, '생년월일_학생'] = df_name['생년월일_학생'].apply(lambda x: x[2:].replace('.', ''))\n",
        "\n",
        "\n",
        "#모집단위 종복제외\n",
        "#df_name = df_name.drop_duplicates('전형분류')\n",
        "\n",
        "#필요한 열을 호출\n",
        "df_name = df_name[['이름', '수험번호', '생년월일_학생', '대학', '모집단위_x', '1단계발표일', '최종발표일', '최저학력기준',  '전형분류']]\n",
        "\n",
        "\n",
        "# 결측값(nan)을 공백으로 출력\n",
        "df_name.fillna('', inplace=True)\n",
        "\n",
        "\n",
        "# Define the table headers\n",
        "table_headers = ['이름', '수험번호', '생년월일_학생', '대학', '모집단위_x', '1단계발표일', '최종발표일', '최저학력기준',  '전형분류']\n",
        "\n",
        "\n",
        "# Create the formatted table using tabulate\n",
        "table_string = tabulate(df_name, headers=table_headers, tablefmt='plain')\n",
        "\n",
        "\n",
        "print(\"****************************************************************************************************************************\")\n",
        "print(table_string)"
      ],
      "metadata": {
        "id": "imFcMuoH-GtB"
      },
      "execution_count": null,
      "outputs": []
    },
    {
      "cell_type": "code",
      "source": [
        "#대학으로 조회\n",
        "\n",
        "import pandas as pd\n",
        "from tabulate import tabulate\n",
        "\n",
        "# Input for 대학\n",
        "uni = input(\"대학:\")\n",
        "\n",
        "# Check for NaN values in '전형종류' umn and then apply str.contains()\n",
        "mask = df['대학'].notna() & df['대학'].str.contains(uni, na=False)\n",
        "\n",
        "# Apply the mask to filter the DataFrame\n",
        "df_subset = df[mask].copy()\n",
        "\n",
        "#전과목을 소수첫째자리까지 표시\n",
        "df_subset.loc[:, '전과목'] = df_subset['전과목'].round(1)\n",
        "\n",
        "\n",
        "# Define the table headers\n",
        "table_headers = ['이름', '지역', '대학', '모집단위', '전형명', '지원시기', '전형분류', '계열', '전형종류', '전형일자',\n",
        "                   '1단계발표일', '최종발표일', '최저학력기준', '전과목']\n",
        "\n",
        "# Create the formatted table using tabulate\n",
        "table_string = tabulate(df_subset[table_headers], headers=table_headers, tablefmt='plain')\n",
        "\n",
        "print(\"*************************************************************************************************************************************************\")\n",
        "print(table_string)\n"
      ],
      "metadata": {
        "id": "5zby-1tsG8W0"
      },
      "execution_count": null,
      "outputs": []
    },
    {
      "cell_type": "code",
      "source": [
        "#합격자(1단계, 최종) 발표난 학생 조회\n",
        "\n",
        "import pandas as pd\n",
        "import datetime\n",
        "from tabulate import tabulate\n",
        "\n",
        "\n",
        "# Function to format the date string\n",
        "def format_date(date_str):\n",
        "    # Check if the date string is valid\n",
        "    if pd.isnull(date_str) or not isinstance(date_str, str):\n",
        "        return date_str\n",
        "    return date_str.split(\" \")[0].replace('.', '-').rstrip('-')\n",
        "\n",
        "\n",
        "# Data loading path\n",
        "path = '/content/drive/MyDrive/python/deungchon/'\n",
        "df = pd.read_csv(f'{path}merged_data1.csv', encoding='cp949')\n",
        "\n",
        "\n",
        "# Define today's date and convert it to pandas Timestamp format\n",
        "today = pd.Timestamp(datetime.date.today())\n",
        "\n",
        "\n",
        "# Convert '1단계발표일' and '최종발표일' to datetime format without time\n",
        "df['1단계발표일'] = df['1단계발표일'].apply(format_date).apply(pd.to_datetime, format='%Y-%m-%d', errors='coerce')\n",
        "df['최종발표일'] = df['최종발표일'].apply(format_date).apply(pd.to_datetime, format='%Y-%m-%d', errors='coerce')\n",
        "\n",
        "# Filter rows based on the given conditions and create a copy to avoid warnings\n",
        "filtered_df = df[(df['1단계발표일'] <= today) | (df['최종발표일'] <= today)].copy()\n",
        "\n",
        "# Convert datetime columns to string format without time\n",
        "filtered_df['1단계발표일'] = filtered_df['1단계발표일'].dt.strftime('%Y-%m-%d')\n",
        "filtered_df['최종발표일'] = filtered_df['최종발표일'].dt.strftime('%Y-%m-%d')\n",
        "\n",
        "# Select required columns\n",
        "result_df = filtered_df[['이름', '대학', '모집단위', '1단계발표일', '최종발표일']]\n",
        "\n",
        "# Define table headers\n",
        "table_headers = ['이름', '대학', '모집단위', '1단계발표일', '최종발표일']\n",
        "\n",
        "# Create a formatted table using tabulate\n",
        "table_string = tabulate(result_df, headers=table_headers, tablefmt='plain')\n",
        "\n",
        "print(\"****************************************************************************************************************************\")\n",
        "print(table_string)\n"
      ],
      "metadata": {
        "id": "zQBn6yba7KjF"
      },
      "execution_count": null,
      "outputs": []
    },
    {
      "cell_type": "code",
      "source": [
        "#전형분류로 검색\n",
        "\n",
        "import pandas as pd\n",
        "from tabulate import tabulate\n",
        "\n",
        "# Input for 전형종류\n",
        "type = input(\"전형종류:\")\n",
        "\n",
        "# Check for NaN values in '전형종류' column and then apply str.contains()\n",
        "mask = df['전형종류'].notna() & df['전형종류'].str.contains(type, na=False)\n",
        "\n",
        "# Apply the mask to filter the DataFrame and create a copy\n",
        "df_subset = df[mask].copy()\n",
        "\n",
        "# Round the values in the '전과목' column to one decimal place using .loc\n",
        "df_subset.loc[:, '전과목'] = df_subset['전과목'].round(1)\n",
        "\n",
        "# Define the table headers\n",
        "table_headers = ['이름', '지역', '대학', '모집단위', '전형명', '지원시기', '전형분류', '계열', '전형종류', '전형일자',\n",
        "                   '1단계발표일', '최종발표일', '최저학력기준', '전과목']\n",
        "\n",
        "# Create the formatted table using tabulate\n",
        "table_string = tabulate(df_subset[table_headers], headers=table_headers, tablefmt='plain')\n",
        "\n",
        "print(\"********************************************************************************************************************\")\n",
        "print(table_string)"
      ],
      "metadata": {
        "id": "cU0uFMVIJYta"
      },
      "execution_count": null,
      "outputs": []
    },
    {
      "cell_type": "code",
      "source": [
        "#2. 진학상담 사후확인 메모지\n",
        "\n",
        "#4가지 개선 메모 코드: 1.날짜와 시간사이에 요일 추가  2.요일을 영어이름에서 한글이름으로 만들기 3.월앞에 0을 빼기 ex) 06월을 6월로 변경 4.문자열 표현을 더 간략하게 변경\n",
        "\n",
        "from pytz import timezone\n",
        "from datetime import datetime\n",
        "\n",
        "day_of_week_korean = {\n",
        "    0: \"월\",\n",
        "    1: \"화\",\n",
        "    2: \"수\",\n",
        "    3: \"목\",\n",
        "    4: \"금\",\n",
        "    5: \"토\",\n",
        "    6: \"일\"\n",
        "}\n",
        "\n",
        "today = datetime.now(timezone('Asia/Seoul'))\n",
        "\n",
        "name = input(\"이름:\")\n",
        "snum = input(\"번호:\")\n",
        "print(f\"\\n{name}(306{snum.zfill(2)})학생이 담임교사와의 진학상담으로 늦게 입실함을 양해부탁드립니다. \\n교과담당 선생님의 노고에 깊이 감사드리며 6반 잘 부탁드립니다!\")\n",
        "print(\"---------------------------------------------------------------------------------\")\n",
        "\n",
        "#요일 객체\n",
        "day_of_week = today.weekday()\n",
        "\n",
        "#월 객체\n",
        "month = str(int(today.strftime('%m')))\n",
        "print(\"상담종료: \"+ month + \"월 \" + today.strftime('%d일({}) %H:%M'.format(day_of_week_korean[day_of_week])))  # Display the day of the week in Korean and other details\n",
        "print()\n",
        "print(\"3-6 담임 황성삼 (인)\")"
      ],
      "metadata": {
        "id": "q6W7pKEbW-sf"
      },
      "execution_count": null,
      "outputs": []
    },
    {
      "cell_type": "code",
      "source": [
        "# 특정 '문자열'을 포함하는 열(column)을 뽑아내는 코드:\n",
        "math_columns = [col for col in merged_birthday if '생년월일' in col]\n",
        "print(math_columns)"
      ],
      "metadata": {
        "id": "r6qaUfrhr072"
      },
      "execution_count": null,
      "outputs": []
    },
    {
      "cell_type": "code",
      "source": [
        "#학생 상담자료 조회\n",
        "\n",
        "import pandas as pd\n",
        "\n",
        "# 이름으로 6모 모의고사 열람\n",
        "name = input(\"이름:\")\n",
        "df_name = df[(df.이름 == name)]\n",
        "df_name = df_name[['이름', '자율', '동아리', '진로', '세특', '행동특성', '봉사시간수_생기부',\n",
        "       '생기부페이지수', '평균_생기부']]\n",
        "\n",
        "df_name"
      ],
      "metadata": {
        "id": "ct3RGx5NR4cd"
      },
      "execution_count": null,
      "outputs": []
    },
    {
      "cell_type": "code",
      "source": [
        "## 면접 전형 보는 학생수 검색\n",
        "\n",
        "# 각 열을 검사하여 '면접'이라는 단어가 포함된 경우를 찾습니다.\n",
        "interview_columns = []\n",
        "for col in df.columns:\n",
        "    # 열의 데이터 타입이 문자열인 경우에만 검사합니다.\n",
        "    if df[col].dtype == object:\n",
        "        # 해당 열에서 '면접'이라는 단어가 포함된 데이터가 있는지 확인합니다.\n",
        "        contains_interview = df[col].astype(str).str.contains('면접')\n",
        "        if contains_interview.any():  # 하나라도 조건에 맞는 데이터가 있는 경우\n",
        "            interview_columns.append(col)\n",
        "\n",
        "# '면접'이 포함된 열을 기반으로 해당 학생들의 정보를 추출합니다.\n",
        "students_with_interview_in_any_column = df[df[interview_columns].apply(lambda row: row.astype(str).str.contains('면접').any(), axis=1)]\n",
        "\n",
        "# 결과 데이터프레임을 생성합니다.\n",
        "all_students_with_interview_info = students_with_interview_in_any_column.reset_index(drop=True)\n",
        "all_students_with_interview_info  # 데이터프레임을 출력합니다.\n",
        "\n",
        "# '면접'이 포함된 조건에 맞는 학생들의 이름만 추출합니다.\n",
        "names_of_students_with_interview = all_students_with_interview_info['이름'].unique().tolist()\n",
        "\n",
        "\n",
        "# '면접' 조건에 맞는 학생들의 수를 계산합니다.\n",
        "number_of_students_with_interview_names = len(names_of_students_with_interview)\n",
        "\n",
        "print(\"면접전형 지원자수는\", str(number_of_students_with_interview_names)+\"명\")\n",
        "print()\n",
        "\n",
        "# '면접'이 포함된 조건에 맞는 학생들의 이름만 추출합니다.\n",
        "names_of_students_with_interview = all_students_with_interview_info['이름'].unique().tolist()\n",
        "\n",
        "print(names_of_students_with_interview)\n"
      ],
      "metadata": {
        "id": "NxPmnPiO4Kw3"
      },
      "execution_count": null,
      "outputs": []
    },
    {
      "cell_type": "code",
      "source": [
        "#수시 지원자수 그래프\n",
        "\n",
        "import matplotlib.pyplot as plt\n",
        "\n",
        "# '대학' 열에 대해 빈도를 계산\n",
        "college_counts = df['대학'].value_counts()\n",
        "\n",
        "# 빈도 막대 그래프 그리기\n",
        "plt.figure(figsize=(15, 7))\n",
        "college_counts.plot(kind='bar', color='skyblue')\n",
        "\n",
        "plt.title('D고 3-6 수시지원 현황', fontsize=16)\n",
        "#plt.xlabel('대학명', fontsize=14)\n",
        "plt.ylabel('지원횟수', fontsize=14)\n",
        "plt.xticks(rotation=45, ha='right', fontsize=12)\n",
        "plt.yticks(fontsize=12)\n",
        "plt.tight_layout()\n",
        "\n",
        "# 그래프를 보여줌\n",
        "plt.show()\n"
      ],
      "metadata": {
        "id": "X-UPPTebVEDl"
      },
      "execution_count": null,
      "outputs": []
    },
    {
      "cell_type": "code",
      "source": [
        "#nsmallest()명령어를 사용하기 위한 모듈 - - 방법1\n",
        "import heapq\n",
        "\n",
        "# 입력값\n",
        "df_name = input(\"이름: \")\n",
        "\n",
        "# 데이터프레임 검증 및 학생의 '전과목' 점수 추출\n",
        "if name in df['이름'].values:\n",
        "    student_score = df[df['이름'] == df_name]['전과목'].iloc[0]\n",
        "\n",
        "    # 입력된 학생의 점수보다 높지만, 그 중 가장 낮은 '전과목' 점수를 가진 학생 찾기\n",
        "    next_best_student = df[(df['전과목'] > student_score)].nsmallest(1, '전과목')\n",
        "\n",
        "    # 해당 학생의 이름과 '전과목' 점수\n",
        "    next_best_student_info = next_best_student[['이름', '전과목']].drop_duplicates()\n",
        "    print(f\"{df_name} 학생의 다음 등수 학생: {next_best_student_info}\")\n",
        "else:\n",
        "    print(\"입력하신 이름의 학생이 데이터베이스에 존재하지 않습니다.\")"
      ],
      "metadata": {
        "id": "nDzsnSNgFItc"
      },
      "execution_count": null,
      "outputs": []
    },
    {
      "cell_type": "code",
      "source": [
        "##6반 학생명단을 가명으로 바꾸기\n",
        "\n",
        "#random라이브러리 불러오기\n",
        "import random\n",
        "\n",
        "\n",
        "# 한글 이름을 구성하는 음절 리스트\n",
        "korean_syllables = [\n",
        "    '가', '나', '다', '라', '마', '바', '사', '아', '자', '차',\n",
        "    '카', '타', '파', '하', '건', '현', '수', '영', '우', '미',\n",
        "    '시', '은', '정', '훈', '진', '승', '민', '태', '선', '리'\n",
        "]\n",
        "\n",
        "# 학생들의 성과 이름 분리\n",
        "students_split_names = df['이름'].str.extract('(?P<last_name>.)(?P<first_name>.+)', expand=True)\n",
        "\n",
        "# 새로운 이름 생성\n",
        "new_names = []\n",
        "for _, row in students_split_names.iterrows():\n",
        "    # 성은 그대로 유지\n",
        "    last_name = row['last_name']\n",
        "\n",
        "    # 이름 부분은 랜덤 음절로 교체 (2음절 이름 가정)\n",
        "    first_name = ''.join(random.sample(korean_syllables, 2))  # 중복 없이 두 개의 음절 선택\n",
        "\n",
        "    # 새로운 전체 이름\n",
        "    new_name = last_name + first_name\n",
        "    new_names.append(new_name)\n",
        "\n",
        "# 새로운 이름으로 데이터프레임 업데이트\n",
        "df['가명'] = new_names\n",
        "\n",
        "# 엑셀 파일로 저장하기 전에 확인\n",
        "df.tail()  # 상위 5개 항목 보기\n"
      ],
      "metadata": {
        "id": "olqS56yWFal8"
      },
      "execution_count": null,
      "outputs": []
    },
    {
      "cell_type": "code",
      "source": [
        "#남자이름인지 여자이름인지 맞추기\n",
        "\n",
        "\n",
        "# 남성과 여성 이름에서 자주 사용되는 음절 정의\n",
        "male_syllables = ['철', '용', '관', '준', '홍', '민', '재', '우', '혁', '남', '건', '영', '규', '진', '성', '훈', '승', '돈', '원', '룡', '환', '찬']\n",
        "female_syllables = ['지', '희', '영', '미', '은', '선', '연', '수', '아', '나', '라', '예', '서', '윤', '혜', '진', '리', '소', '효', '란', '민', '영', '도']\n",
        "\n",
        "\n",
        "# 모든 학생들의 이름을 가져온다.\n",
        "all_students_names = df['이름']\n",
        "\n",
        "# 모든 학생들의 이름에 대해 성별 추정\n",
        "all_gender_prediction = []\n",
        "\n",
        "for full_name in all_students_names:\n",
        "    # 성을 제외한 이름 부분 추출 (성의 위치는 항상 첫 글자라고 가정)\n",
        "    first_name = full_name[1:]\n",
        "\n",
        "    # 이름의 각 음절이 남성 또는 여성 음절 집합에 속하는지 확인\n",
        "    male_count = sum(syllable in male_syllables for syllable in first_name)\n",
        "    female_count = sum(syllable in female_syllables for syllable in first_name)\n",
        "\n",
        "    # 성별 추정: 더 높은 일치 항목 수를 기준으로\n",
        "    if male_count > female_count:\n",
        "        gender = '남성'\n",
        "    elif male_count < female_count:\n",
        "        gender = '여성'\n",
        "    else:\n",
        "        gender = '중성'  # 남성과 여성 음절의 수가 동일하거나, 해당되지 않는 경우\n",
        "\n",
        "    all_gender_prediction.append(gender)\n",
        "\n",
        "# 성별 예측 결과를 포함하여 새로운 데이터프레임 생성\n",
        "all_students_with_gender = df.copy()\n",
        "all_students_with_gender['예상 성별'] = all_gender_prediction\n",
        "\n",
        "all_students_with_gender = all_students_with_gender.drop_duplicates(subset=['이름'])\n",
        "\n",
        "# 예측 결과 확인 (상위 5개 데이터만 출력)\n",
        "#all_students_with_gender[[\"학번\", \"이름\", \"예상 성별\"]].head()\n",
        "print(all_students_with_gender[[\"학번\", \"이름\", \"예상 성별\"]])"
      ],
      "metadata": {
        "id": "HF3S06tAJ56I"
      },
      "execution_count": null,
      "outputs": []
    },
    {
      "cell_type": "code",
      "source": [
        "#대학에 ()가 들어있는 학생, 대학을 출력\n",
        "\n",
        "\n",
        "import pandas as pd\n",
        "from tabulate import tabulate  # tabulate를 사용하려면 이 모듈을 import해야 합니다.\n",
        "\n",
        "# 데이터 프레임 'df'가 이미 존재한다고 가정합니다. 예를 들어, 어떤 파일에서 읽어온 데이터일 수 있습니다.\n",
        "# df = pd.read_csv('your_data.csv') 또는 다른 방법으로 데이터를 로드할 수 있습니다.\n",
        "\n",
        "# '대학' 열에서 괄호 '()'가 포함된 행을 필터링합니다.\n",
        "df_filtered = df[df['대학'].str.contains('\\(')]  # 정규 표현식을 사용하여 괄호가 포함된 문자열을 찾습니다.\n",
        "\n",
        "# 필터링된 데이터에서 '이름'과 '대학' 열만 선택합니다.\n",
        "df_names_universities = df_filtered[['이름', '대학', '모집단위']]\n",
        "\n",
        "# 테이블 헤더를 정의합니다.\n",
        "table_headers = ['이름', '대학', '모집단위']\n",
        "\n",
        "# tabulate를 사용하여 형식화된 테이블을 만듭니다.\n",
        "table_string = tabulate(df_names_universities, headers=table_headers, tablefmt='plain')\n",
        "\n",
        "print(\"**********************************************\")\n",
        "print(table_string)\n"
      ],
      "metadata": {
        "id": "oJn-VrM95Np0"
      },
      "execution_count": null,
      "outputs": []
    },
    {
      "cell_type": "code",
      "source": [
        "#1단계: applynum.csv파일(수험번호)과 six.csv파일(생년월일)을 합기기: 이름 기준으로 left-join명령어를 사용하여 두개파일을 병합(merge)\n",
        "\n",
        "import pandas as pd\n",
        "\n",
        "\n",
        "path = '/content/drive/MyDrive/python/deungchon/'\n",
        "\n",
        "# 데이터 파일 로드\n",
        "\n",
        "applynum_df = pd.read_csv(f'{path}applynum.csv', encoding = 'cp949')\n",
        "six_df = pd.read_csv(f'{path}six.csv', encoding = 'cp949')\n",
        "\n",
        "# 'CP949' 인코딩으로 파일 로드 시도\n",
        "try:\n",
        "    applynum_df = pd.read_csv(f'{path}applynum.csv', encoding='CP949')\n",
        "    six_df = pd.read_csv(f'{path}six.csv', encoding='CP949')\n",
        "except Exception as e:\n",
        "    error_message = str(e)\n",
        "    applynum_df, six_df = None, None\n",
        "\n",
        "(applynum_df.head() if applynum_df is not None else error_message,\n",
        " six_df.head() if six_df is not None else error_message)\n",
        "\n",
        "\n",
        "# '이름'과 '대학'을 기준으로 두 데이터프레임 병합\n",
        "merged_df = pd.merge(applynum_df, six_df, on=['이름'], how='left')\n",
        "\n",
        "# 병합 결과를 새 CSV 파일로 저장\n",
        "output_file_path = '/content/drive/MyDrive/python/deungchon/merged_birthday.csv'\n",
        "merged_df.to_csv(output_file_path, index=False, encoding='CP949')  # 한글을 포함하므로 'CP949' 인코딩 사용"
      ],
      "metadata": {
        "id": "BuipQ5dMvxpP"
      },
      "execution_count": 9,
      "outputs": []
    },
    {
      "cell_type": "code",
      "source": [
        "#2단계: susiapply파일(대학, 모집단위)과 merged_birthday(수험번호, 생년월일)파일을 합기기: 이름, 대학을 기준으로 left-join명령어를 사용하여 두개파일을 병합(merge)\n",
        "\n",
        "import pandas as pd\n",
        "\n",
        "\n",
        "path = '/content/drive/MyDrive/python/deungchon/'\n",
        "\n",
        "# 데이터 파일 로드\n",
        "susiapply_df = pd.read_csv(f'{path}susiapply.csv', encoding = 'cp949')\n",
        "merged_birthday_df = pd.read_csv(f'{path}merged_birthday.csv', encoding = 'cp949')\n",
        "\n",
        "\n",
        "# 'CP949' 인코딩으로 파일 로드 시도\n",
        "try:\n",
        "    susiapply_df = pd.read_csv(f'{path}susiapply.csv', encoding='CP949')\n",
        "    merged_birthday_df = pd.read_csv(f'{path}merged_birthday.csv', encoding='CP949')\n",
        "except Exception as e:\n",
        "    error_message = str(e)\n",
        "    susiapply_df, merged_birthday_df = None, None\n",
        "\n",
        "(susiapply_df.head() if susiapply_df is not None else error_message,\n",
        " merged_birthday_df.head() if merged_birthday_df is not None else error_message)\n",
        "\n",
        "\n",
        "# '이름'과 '대학'을 기준으로 두 데이터프레임 병합\n",
        "merged_df = pd.merge(susiapply_df, merged_birthday_df, on=['이름', '대학'], how='left')\n",
        "\n",
        "# 병합 결과를 새 CSV 파일로 저장\n",
        "output_file_path = '/content/drive/MyDrive/python/deungchon/merged_data_final.csv'\n",
        "merged_df.to_csv(output_file_path, index=False, encoding='CP949')  # 한글을 포함하므로 'CP949' 인코딩 사용"
      ],
      "metadata": {
        "id": "-BpzZMESyTw1"
      },
      "execution_count": 14,
      "outputs": []
    },
    {
      "cell_type": "code",
      "source": [
        "#3단계: merged_data_final 파일에서 생년월일_학생 행태를 합격자 조회 메뉴에 맞게 변형하기 + 장진서(성대 약학과) 수험범호 추가\n",
        "\n",
        "import pandas as pd\n",
        "\n",
        "path = '/content/drive/MyDrive/python/deungchon/'\n",
        "\n",
        "# 데이터 파일 로드\n",
        "susiapply_df = pd.read_csv(f'{path}susiapply.csv', encoding='cp949')\n",
        "merged_birthday_df = pd.read_csv(f'{path}merged_birthday.csv', encoding='cp949')\n",
        "\n",
        "\n",
        "# '이름'과 '대학'을 기준으로 두 데이터프레임 병합\n",
        "merged_df = pd.merge(susiapply_df, merged_birthday_df, on=['이름', '대학'], how='left')\n",
        "\n",
        "\n",
        "# 장진서 수험번호 수정 1단계: '이름', '대학', '모집단위_x' 열을 기준으로 필터링하여 특정 행 찾기\n",
        "condition = (merged_df['이름'] == '장진서') & (merged_df['대학'] == '성균관대') & (merged_df['모집단위_x'] == '약학과')\n",
        "specific_row = merged_df[condition]\n",
        "\n",
        "\n",
        "# 장진서 수험번호 수정 2단계: 해당 행의 '수험번호' 값을 수정\n",
        "merged_df.loc[specific_row.index, '수험번호'] = 52297380181\n",
        "\n",
        "\n",
        "# 병합 결과를 새 CSV 파일로 저장\n",
        "output_file_path = '/content/drive/MyDrive/python/deungchon/merged_data_final.csv'\n",
        "merged_df.to_csv(output_file_path, index=False, encoding='CP949')  # 한글을 포함하므로 'CP949' 인코딩 사용\n"
      ],
      "metadata": {
        "id": "3ZfPUkA8JCpE"
      },
      "execution_count": 43,
      "outputs": []
    },
    {
      "cell_type": "code",
      "source": [
        "#이름으로 해당학생 수험번호, 생년월일 조회\n",
        "\n",
        "import pandas as pd\n",
        "from tabulate import tabulate\n",
        "\n",
        "\n",
        "path = '/content/drive/MyDrive/python/deungchon/'\n",
        "df = pd.read_csv(f'{path}merged_data_final.csv', encoding = 'cp949')\n",
        "\n",
        "\n",
        "name = input(\"이름:\")\n",
        "\n",
        "# 이름으로 필터링\n",
        "df_name = df[df.이름 == name].copy()\n",
        "\n",
        "\n",
        "# '생년월일' 열 수정: 왼쪽에서 세 번째 숫자부터 선택, 점 제거\n",
        "#df_name['생년월일_학생'] = df_name['생년월일_학생'].apply(lambda x: x[2:].replace('.', ''))\n",
        "\n",
        "\n",
        "# '생년월일' 열 수정: 왼쪽에서 세 번째 숫자부터 선택, 점 제거\n",
        "df_name.loc[:, '생년월일_학생'] = df_name['생년월일_학생'].apply(lambda x: x[2:].replace('.', ''))\n",
        "\n",
        "\n",
        "# 중복 '모집단위' 제거\n",
        "#df_name = df_name.drop_duplicates('모집단위_x')\n",
        "\n",
        "\n",
        "# 필요한 열 선택\n",
        "df_name = df_name[['이름', '수험번호', '생년월일_학생', '대학', '모집단위_x', '1단계발표일', '최종발표일', '최저학력기준',  '전형분류']]\n",
        "\n",
        "# 테이블 헤더 정의\n",
        "table_headers = ['이름', '수험번호', '생년월일_학생', '대학', '모집단위_x', '1단계발표일', '최종발표일', '최저학력기준',  '전형분류']\n",
        "\n",
        "\n",
        "# tabulate를 사용하여 형식화된 테이블 생성\n",
        "table_string = tabulate(df_name, headers=table_headers, tablefmt='plain')\n",
        "\n",
        "\n",
        "print(\"****************************************************************************************************************************\")\n",
        "print(table_string)\n"
      ],
      "metadata": {
        "id": "nYzM2bZHzZE3"
      },
      "execution_count": null,
      "outputs": []
    },
    {
      "cell_type": "code",
      "source": [
        "#내용 확인\n",
        "\n",
        "#생년월일, 수험번호 들어있던 merged_birthday 데이타셋 불러오기\n",
        "path = '/content/drive/MyDrive/python/deungchon/'\n",
        "\n",
        "# 데이터 파일 로드\n",
        "\n",
        "merged_data_final_df = pd.read_csv(f'{path}/merged_data_final.csv', encoding = 'cp949')\n",
        "\n",
        "#merged_data_final_df = merged_data_final_df[['이름', '생년월일_학생', '수험번호', '모집단위']]\n",
        "\n",
        "merged_data_final_df.head()"
      ],
      "metadata": {
        "id": "BnCCcaAIzllO"
      },
      "execution_count": null,
      "outputs": []
    },
    {
      "cell_type": "code",
      "source": [
        "# 특정 '문자열'을 포함하는 열(column)을 뽑아내는 코드:\n",
        "math_columns = [col for col in df if '모집단위' in col]\n",
        "print(math_columns)"
      ],
      "metadata": {
        "id": "oV0QkIWJyC79"
      },
      "execution_count": null,
      "outputs": []
    },
    {
      "cell_type": "code",
      "source": [
        "#특정학생의 대학, 모집단위를 찾기\n",
        "\n",
        "path = '/content/drive/MyDrive/python/deungchon/'\n",
        "\n",
        "# 데이터 파일 로드\n",
        "susiapply_df = pd.read_csv(f'{path}susiapply.csv', encoding = 'cp949')\n",
        "\n",
        "susiapply_df_jjs = susiapply_df[susiapply_df.이름 == '장진서'][['대학', '모집단위']]\n",
        "\n",
        "susiapply_df_jjs.head(6)"
      ],
      "metadata": {
        "id": "X1J0cmEpDSsO"
      },
      "execution_count": null,
      "outputs": []
    }
  ]
}