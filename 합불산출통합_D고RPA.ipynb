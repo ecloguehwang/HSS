{
  "nbformat": 4,
  "nbformat_minor": 0,
  "metadata": {
    "colab": {
      "provenance": [],
      "mount_file_id": "1YNO_2_g1iti1IVS6wMjx4Vfgs-yS3XP-",
      "authorship_tag": "ABX9TyProEV+TyD0ZPMT/xFhE9CO",
      "include_colab_link": true
    },
    "kernelspec": {
      "name": "python3",
      "display_name": "Python 3"
    },
    "language_info": {
      "name": "python"
    },
    "gpuClass": "standard"
  },
  "cells": [
    {
      "cell_type": "markdown",
      "metadata": {
        "id": "view-in-github",
        "colab_type": "text"
      },
      "source": [
        "<a href=\"https://colab.research.google.com/github/ecloguehwang/HSS/blob/master/%ED%95%A9%EB%B6%88%EC%82%B0%EC%B6%9C%ED%86%B5%ED%95%A9_D%EA%B3%A0RPA.ipynb\" target=\"_parent\"><img src=\"https://colab.research.google.com/assets/colab-badge.svg\" alt=\"Open In Colab\"/></a>"
      ]
    },
    {
      "cell_type": "code",
      "source": [
        "#pandas, openpyxl 라이브러리 부르기\n",
        "import pandas as pd\n",
        "import numpy as np\n",
        "import os\n",
        "import openpyxl\n",
        "import csv\n",
        "\n",
        "##  데이터 부르기 : 구글colab에 마운트(mount)하는 방법: 왼쪽 폴더아이콘을 누르기-눈동자 왼쪽 파일마운트 아이콘 클릭- /content/drive/MyDrive/python폴더의 susi_2021simple.csv파일을 불러옴\n",
        "path = '/content/drive/MyDrive/python/deungchon/'\n",
        "df = pd.read_csv(f'{path}susi_jsi.csv', encoding = 'cp949')\n",
        "#df = pd.read_csv(f'{path}susi_jsi_noname.csv', encoding = 'cp949')\n",
        "\n",
        "# 첫 5줄을 봅니다.\n",
        "df.head(1)"
      ],
      "metadata": {
        "id": "8R5FWLi09yc1"
      },
      "execution_count": null,
      "outputs": []
    },
    {
      "cell_type": "code",
      "source": [
        "#합격자 순서\n",
        "#1.의치한약수 - 2.서울주요대(15개) - 3.특수대 - 4.인서울대(서울주요대 제외한 4년제) - 5.경기소재대"
      ],
      "metadata": {
        "id": "Su9ZwVP92wmi"
      },
      "execution_count": null,
      "outputs": []
    },
    {
      "cell_type": "code",
      "source": [
        "#1.의치한약수(ex: 의학 등) 합격자 명단 찾기\n",
        "df_의치한약수 = df['모집단위'].str.contains('^[의치한약수]예+')\n",
        "subset_df = df[df_의치한약수]\n",
        "subset_df_p = subset_df[(subset_df.최종 == '합')]\n",
        "subset_df_p = subset_df_p[['수시정시', '학번', '이름', '대학', '모집단위', '전형분류', '최종', '내신_전과목', '등급_평균', '백분위_평균', '표점합']]\n",
        "print(\"***2023학년도 등촌고 의치한약수 합격자 명단***\")\n",
        "print(subset_df_p)\n",
        "print(\"--------------------------------------------------------------------\")\n",
        "print(\"2023학년도 D고 의치한약수 합격자는 %d명입니다(복수합격 포함).\" % len(subset_df_p))\n",
        "\n",
        "\n",
        "#데이터 프레임으로 전환\n",
        "subset_df_p = pd.DataFrame(subset_df_p)\n",
        "\n",
        "#결과를 엑셀로 저장\n",
        "subset_df_p.to_excel(excel_writer= '/content/drive/MyDrive/python/deungchon/result_d/medical.xlsx')"
      ],
      "metadata": {
        "id": "0sOI6x8A6Fnw"
      },
      "execution_count": null,
      "outputs": []
    },
    {
      "cell_type": "code",
      "source": [
        "#2.서울 주요대(15개대) 합격자 명단 및 합격건수\n",
        "\n",
        "import os\n",
        "import pandas as pd\n",
        "\n",
        "uni = ['서울대', '연세대', '고려대', '서강대', '성균관대', '한양대', '중앙대', '경희대', '한국외대', '서울시립대', '이화여대', '건국대', '동국대', '홍익대', '숙명여대']\n",
        "\n",
        "print(\"***2023학년도 서울 주요대학 수시합격자 명단***\\n\")\n",
        "\n",
        "# Create an empty DataFrame to store the results\n",
        "df_result = pd.DataFrame()\n",
        "\n",
        "for u in range(len(uni)):\n",
        "    df_u = df[(df.대학 == uni[u]) & (df.최종 == '합')]\n",
        "    print(\"%s 대학 합격자\" % uni[u])\n",
        "    df_u = df_u[['수시정시', '학번', '이름', '대학', '모집단위', '전형분류', '최종', '내신_전과목', '등급_평균', '백분위_평균']]\n",
        "    print(df_u)\n",
        "    print(\"----------------------------------------------------------------------------------\")\n",
        "\n",
        "    # Append the results to the df_result DataFrame\n",
        "    df_result = pd.concat([df_result, df_u])\n",
        "\n",
        "# Save the results to an Excel file\n",
        "if not os.path.exists('/content/drive/MyDrive/python/deungchon/result_d/uni_main.xlsx'):\n",
        "    df_result.to_excel('/content/drive/MyDrive/python/deungchon/result_d/uni_main.xlsx', index=False, header=True)\n",
        "else:\n",
        "    df_result.to_excel('/content/drive/MyDrive/python/deungchon/result_d/uni_main.xlsx', index=False, header=True)\n",
        "\n",
        "# 서울 주요대학 수시합격자수 출력\n",
        "print(\"\\n***2023학년도 D고 합격건수***\")\n",
        "\n",
        "total_accepted = 0  # Variable to store the total number of accepted students\n",
        "\n",
        "for u in range(len(uni)):\n",
        "    df_u = df[(df.대학 == uni[u]) & (df.최종 == '합')]\n",
        "    df_u = df_u[['학번', '대학', '최종']]\n",
        "    accepted_count = len(df_u['대학'])\n",
        "    total_accepted += accepted_count\n",
        "    print(uni[u], str(accepted_count) + \"건\")\n",
        "\n",
        "print(\"\\n총 합격자 수:\", total_accepted, \"건\")"
      ],
      "metadata": {
        "id": "96uPZ0anOyT_"
      },
      "execution_count": null,
      "outputs": []
    },
    {
      "cell_type": "code",
      "source": [
        "#3.특수대 합격자 명단 출력\n",
        "sp = ['경찰대', '육군사관학교', '해군사관학교', '공군사관학교', '국군간호사관학교', '광주과학기술원', '대구경북과학기술원', '울산과학기술대학교', '한국과학기술원', '한국예술종합학교']\n",
        "\n",
        "# Create an empty DataFrame to store the results\n",
        "df_result = pd.DataFrame()\n",
        "\n",
        "print(\"***2023학년도 등촌고 특수대 합격자 명단***\\n\")\n",
        "for u in range(len(sp)):\n",
        "    df_특수대 = df[(df.대학 == sp[u]) & (df.최종 == '합')]\n",
        "    df_특수대 = df_특수대[['수시정시', '학번', '대학', '모집단위', '전형분류', '최종', '내신_전과목', '등급_평균' ]]\n",
        "    print(\"%s 대학 합격자\" % sp[u])\n",
        "    #print(\"{} 대학 합격자는 {}명\" .format(sp[u] len(df_특수대)))\n",
        "    print(df_특수대)\n",
        "    print(\"--------------------------------------------------------\")\n",
        "\n",
        "# Append the results to the df_result DataFrame\n",
        "    df_result = pd.concat([df_result, df_특수대])\n",
        "\n",
        "\n",
        "# Save the results to an Excel file\n",
        "if not os.path.exists('/content/drive/MyDrive/python/deungchon/result_d/uni_sp.xlsx'):\n",
        "    df_result.to_excel('/content/drive/MyDrive/python/deungchon/result_d/uni_sp.xlsx', index=False, header=True)\n",
        "else:\n",
        "    df_result.to_excel('/content/drive/MyDrive/python/deungchon/result_d/uni_sp.xlsx', index=False, header=True)\n",
        "\n",
        "\n",
        "# 특수대 합격자수\n",
        "print(\"\\n***2023학년도  D고 특수대 합격자수***\")\n",
        "\n",
        "sp = ['경찰대', '육군사관학교', '해군사관학교', '공군사관학교', '국군간호사관학교', '광주과학기술원', '대구경북과학기술원', '울산과학기술대학교', '한국과학기술원', '한국예술종합학교']\n",
        "\n",
        "for u in range(len(sp)):\n",
        "    df_특수대 = df[(df.대학 == sp[u]) & (df.최종 == '합')]\n",
        "    df_특수대 = df_특수대[['학번', '대학', '모집단위', '전형분류', '최종']]\n",
        "print(\"2023학년도 등촌고 특수대 수시합격자수는 %d명입니다.\" % len(df_특수대))\n"
      ],
      "metadata": {
        "id": "QKVy5_9Dta3v"
      },
      "execution_count": null,
      "outputs": []
    },
    {
      "cell_type": "code",
      "source": [
        "#4. 인서울대 합격자 명단: 서울 주요대(15개대 - ace리스트)와 전문대를 제외\n",
        "\n",
        "import pandas as pd\n",
        "df = pd.read_csv('/content/drive/MyDrive/python/deungchon/susi_jsi.csv', encoding = 'cp949')\n",
        "\n",
        "#4가지 조건(지역, 최종, ace대학 제외, 전문대학 제외)으로 검색\n",
        "\n",
        "#14개 서울주용대학 리스트\n",
        "ace = ['서울대', '연세대', '고려대', '서강대', '성균관대', '한양대', '이화여대', '중앙대', '경희대', '한국외대', '서울시립대', '건국대', '동국대', '홍익대']\n",
        "\n",
        "\n",
        "#4가지 조건\n",
        "seoul_df = df[(df.지역 == '서울') & (df.최종 == '합') & ~(df.대학.isin(ace)) & ~(df.대학.str.contains(\"대학\"))]\n",
        "\n",
        "\n",
        "#필요한 변수(열)만 불러옴\n",
        "seoul_df = seoul_df[['수시정시', '학번', '이름', '대학', '모집단위', '전형분류', '최종', '내신_전과목', '등급_평균']]\n",
        "#print(seoul_df)\n",
        "print(seoul_df)\n",
        "\n",
        "\n",
        "#인서울대 합격자수\n",
        "print(\"\\n---------------------------------------------------------------------------------------\")\n",
        "print(\"2023학년도  D고 14개 서울주요대와 전문대를 제외한 인서울 수시합격자수는 %d건입니다.(중복합격 포함)\" % len(seoul_df))\n",
        "\n",
        "\n",
        "#데이터 프레임으로 전환\n",
        "seoul_df_p = pd.DataFrame(seoul_df)\n",
        "\n",
        "#결과를 엑셀로 저장\n",
        "seoul_df_p.to_excel(excel_writer= '/content/drive/MyDrive/python/deungchon/result_d/inseoul.xlsx')\n"
      ],
      "metadata": {
        "id": "BzA_Ac_XJWGW"
      },
      "execution_count": null,
      "outputs": []
    },
    {
      "cell_type": "code",
      "source": [
        "#5.경기지역 대학 합격자 명단\n",
        "\n",
        "#라이브러리\n",
        "import pandas as pd\n",
        "df = pd.read_csv('/content/drive/MyDrive/python/deungchon/susi_jsi.csv', encoding = 'cp949')\n",
        "\n",
        "\n",
        "#(지역, 최종)으로 검색\n",
        "kg_df = df[(df.지역 == '경기') & (df.최종 == '합') & ~(df.대학.str.contains(\"대학교\"))]\n",
        "kg_df\n",
        "\n",
        "\n",
        "#필요한 변수(열)만 불러옴\n",
        "kg_df = kg_df[['수시정시', '지역', '학번', '이름', '대학', '모집단위', '최종', '내신_전과목', '등급_평균', '전형분류']]\n",
        "#print(seoul_df)\n",
        "print(kg_df)\n",
        "\n",
        "\n",
        "#경기지역 합격자수\n",
        "print(\"\\n---------------------------------------------------------------------------------------\")\n",
        "print(\"2023학년도  D고 경기지역 대학 합격자수는 %d건입니다.(중복합격 포함)\" % len(kg_df))\n",
        "\n",
        "\n",
        "#데이터 프레임으로 전환\n",
        "kg_df_p = pd.DataFrame(kg_df)\n",
        "\n",
        "#결과를 엑셀로 저장\n",
        "kg_df_p.to_excel(excel_writer= '/content/drive/MyDrive/python/deungchon/result_d/kg.xlsx')"
      ],
      "metadata": {
        "id": "gX46Zr1PcYw0"
      },
      "execution_count": null,
      "outputs": []
    },
    {
      "cell_type": "code",
      "source": [
        "# 인서울 및 경기지역 4년제 대학 합격자 명단 - 서울 주요대(ace리스트)를 제외\n",
        "\n",
        "import pandas as pd\n",
        "df = pd.read_csv('/content/drive/MyDrive/python/deungchon/susi_jsi.csv', encoding = 'cp949')\n",
        "\n",
        "\n",
        "#3가지 조건(지역, 최종, ace대학 제외, 전문대학 제외)으로 검색\n",
        "ace = ['서울대', '연세대', '고려대', '서강대', '성균관대', '한양대', '이화여대', '중앙대', '경희대', '한국외대', '서울시립대', '건국대', '동국대', '홍익대']\n",
        "city = ['서울', '경기']\n",
        "\n",
        "#지역, 최종, ace대학 제외\n",
        "seoul_df = df[(df.지역.isin(city)) & (df.최종 == '합') & ~(df.대학.isin(ace)) & ~(df.대학.str.contains(\"대학교\"))]\n",
        "seoul_df\n",
        "\n",
        "\n",
        "#필요한 변수(열)만 불러옴\n",
        "seoul_df = seoul_df[['수시정시', '지역', '학번', '이름', '대학', '모집단위', '최종', '내신_전과목', '등급_평균']]\n",
        "\n",
        "\n",
        "#합격자수\n",
        "print(\"\\n---------------------------------------------------------------------------------------\")\n",
        "print(\"2023학년도  D고 서울주요대를 제외한 인서울대와 경기지역 대학 합격자수는 %d건입니다.(중복합격 포함)\" % len(seoul_df))\n",
        "\n",
        "\n",
        "#데이터 프레임으로 전환\n",
        "seoul_df_p = pd.DataFrame(seoul_df)\n",
        "\n",
        "#결과를 엑셀로 저장\n",
        "seoul_df_p.to_excel(excel_writer= '/content/drive/MyDrive/python/deungchon/result_d/inseoul_kg.xlsx')"
      ],
      "metadata": {
        "id": "Xa2gnJHbCyC2"
      },
      "execution_count": null,
      "outputs": []
    },
    {
      "cell_type": "code",
      "source": [
        "#특정 백분위 구간의 점수별 빈도(ex: 80~85%사이의 빈도수)\n",
        "mx = int(input(\"이상:\"))\n",
        "mi = int(input(\"미만:\"))\n",
        "\n",
        "\n",
        "# mx이상 mi이하 조건을 충족하는 객체 만들기\n",
        "df_interval = df[(df.백분위_평균 >= mx) & (df.백분위_평균 < mi)]\n",
        "\n",
        "# value_counts()로 빈도를 세고, sort_index() 기준으로 정렬!\n",
        "list_1 =  df_interval[\"백분위_평균\"].value_counts().sort_index()\n",
        "print(list_1)\n",
        "print(\"------------------------------\")\n",
        "#print(str(len(list_1))+\"명\")\n",
        "\n",
        "print(\"{}이상 {}미만 :{}명\".format(mx, mi, len(df_interval)))\n",
        "#자료 https://stackoverflow.com/questions/43855474/changing-sort-in-value-counts8"
      ],
      "metadata": {
        "id": "NpPusEO9EhJA"
      },
      "execution_count": null,
      "outputs": []
    },
    {
      "cell_type": "markdown",
      "source": [
        "#tabulate 라이브러리 표 옵션\n",
        "##from tabulate import tabulate\n",
        "The tabulate function in the tabulate library provides various table formats for displaying tabular data. Here are some commonly used tablefmt options:\n",
        "\n",
        "\"plain\": Simple plain-text table format.\n",
        "\"simple\": A simplified version of the plain table format.\n",
        "\"grid\": Tables with grid lines.\n",
        "\"fancy_grid\": Tables with rounded corners and grid lines.\n",
        "\"pipe\": Tables using pipe characters for borders.\n",
        "\"orgtbl\": Tables using the Emacs org-mode table format.\n",
        "\"jira\": Tables using the Jira wiki table format.\n",
        "\"presto\": Tables using the Presto Markdown table format.\n",
        "\"pretty\": Tables with a customizable layout and formatting.\n",
        "\"psql\": Tables in the style of PostgreSQL command-line interface.\n",
        "\"rst\": Tables using the reStructuredText table format.\n",
        "\"mediawiki\": Tables using the MediaWiki table format.\n",
        "\"html\": Tables as HTML markup."
      ],
      "metadata": {
        "id": "G1rsVrXkg4Pm"
      }
    },
    {
      "cell_type": "code",
      "source": [
        "from tabulate import tabulate\n",
        "import pandas as pd\n",
        "\n",
        "uni = input(\"지원횟수가 궁금한 대학:\")\n",
        "\n",
        "# Find strings containing the input 'uni' in '대학' column\n",
        "df_대학 = df['대학'].str.contains(uni, regex=False)\n",
        "\n",
        "# 지방캠퍼스 대학 제외 ex)동국대(경주)\n",
        "df_대학 = df_대학 & ~df['대학'].str.contains('[()]+', regex=True)\n",
        "\n",
        "subset_df = df[df_대학]\n",
        "subset_df_p = subset_df[(subset_df['최종'] == '합') | (subset_df['최종'] == '불')]\n",
        "subset_df_p = subset_df_p[['수시정시', '학번', '이름', '대학', '모집단위', '전형분류', '최종', '내신_전과목', '등급_평균']]\n",
        "subset_df_p_applicants = len(subset_df_p)\n",
        "\n",
        "# Convert DataFrame to a list of lists for tabulate\n",
        "table_data = subset_df_p.values.tolist()\n",
        "\n",
        "# Define the table headers\n",
        "table_headers = ['수시정시', '학번', '이름', '대학', '모집단위', '전형분류', '최종', '내신_전과목', '등급_평균']\n",
        "\n",
        "# Format the columns '내신_전과목' and '등급_평균' with two decimal places\n",
        "table_data_formatted = []\n",
        "for row in table_data:\n",
        "    formatted_row = row[:7]  # Copy the first 7 columns as-is\n",
        "    formatted_row.append(f\"{row[7]:.2f}\")  # Format '내신_전과목' with two decimal places\n",
        "    formatted_row.append(f\"{row[8]:.1f}\")  # Format '등급_평균' with two decimal places\n",
        "    table_data_formatted.append(formatted_row)\n",
        "\n",
        "# Create the formatted table using tabulate\n",
        "table_string = tabulate(table_data_formatted, headers=table_headers, tablefmt='plain')\n",
        "\n",
        "print(table_string)\n",
        "print(f\"\\n{uni}대 지원횟수는 총 {subset_df_p_applicants}건입니다.\")"
      ],
      "metadata": {
        "id": "Lxc4QJFMiUte"
      },
      "execution_count": null,
      "outputs": []
    },
    {
      "cell_type": "code",
      "source": [
        "#지원자수가 궁금한 대학 파악: 이름 중 세번째 글자가 익명(별표시) 되는 코드 - 결과를 정렬해서 보여주기\n",
        "\n",
        "import pandas as pd\n",
        "from tabulate import tabulate\n",
        "\n",
        "uni = input(\"지원횟수가 궁금한 대학:\")\n",
        "\n",
        "# Find strings containing the input 'uni' in '대학' column\n",
        "df_대학 = df['대학'].str.contains(uni, regex=False)\n",
        "#df_대학 = df[(df.대학 == uni)] #이 코드를 쓰면 다음 라인에서 boolean과 string을 비교하기 때문에 에러발생\n",
        "\n",
        "# 지방캠퍼스 대학 제외 ex)동국대(경주)\n",
        "df_대학 = df_대학 & ~df['대학'].str.contains('[()]+', regex=True)\n",
        "\n",
        "subset_df = df[df_대학]\n",
        "subset_df_p = subset_df[(subset_df['최종'] == '합') | (subset_df['최종'] == '불')]\n",
        "\n",
        "# Show first two letters and replace the third letter with an asterisk in '이름' column\n",
        "subset_df_p['이름'] = subset_df_p['이름'].apply(lambda x: x[:2] + '*' + x[3:] if len(x) >= 3 else x[:2])\n",
        "\n",
        "# Select the desired columns and assign them to a new DataFrame\n",
        "subset_df_p = subset_df_p[['수시정시', '학번', '이름', '대학', '모집단위', '전형분류', '최종', '내신_전과목', '등급_평균']]\n",
        "subset_df_p_applicants = len(subset_df_p)\n",
        "\n",
        "# Convert DataFrame to a list of lists for tabulate\n",
        "table_data = subset_df_p.values.tolist()\n",
        "\n",
        "# Define the table headers\n",
        "table_headers = ['수시정시', '학번', '이름', '대학', '모집단위', '전형분류', '최종', '내신_전과목', '등급_평균']\n",
        "\n",
        "# Create the formatted table using tabulate\n",
        "table_string = tabulate(table_data, headers=table_headers, tablefmt='plain')\n",
        "\n",
        "print(table_string)\n",
        "print(f\"\\n{uni}대 지원횟수는 총 {subset_df_p_applicants}건입니다.\")"
      ],
      "metadata": {
        "id": "aRjOCVEXKVXM"
      },
      "execution_count": null,
      "outputs": []
    },
    {
      "cell_type": "code",
      "source": [
        "#전체 합격자: 중복 합격포함 : 134건\n",
        "df_pass = df[df.최종 == '합']\n",
        "print(df_pass.count())\n",
        "\n",
        "#수시, 정시별 합격건수: 수시(123건), 정시(11건)\n",
        "df_pass.groupby(['수시정시']).count()"
      ],
      "metadata": {
        "id": "CLyrluINoxNj"
      },
      "execution_count": null,
      "outputs": []
    },
    {
      "cell_type": "code",
      "source": [
        "#중복합격자 제외\n",
        "df_pass['학번'].unique()\n",
        "\n",
        "#중복합격자수 제외한 합격자수: 71명\n",
        "df_pass['학번'].nunique()"
      ],
      "metadata": {
        "id": "7stFxfnBoZfd"
      },
      "execution_count": null,
      "outputs": []
    },
    {
      "cell_type": "code",
      "source": [
        "#이름으로 백분위 점수 조회\n",
        "name = input(\"이름:\")\n",
        "df_name = df[(df.이름 == name)]\n",
        "df_name = df_name[['학번', '이름', '대학',  '모집단위', '최종', '전형분류', '내신_전과목', '등급_평균', '등급_평균', '표점합', '백분위_평균']]\n",
        "df_name"
      ],
      "metadata": {
        "id": "3Ghtsk1ikjwD"
      },
      "execution_count": null,
      "outputs": []
    },
    {
      "cell_type": "code",
      "source": [
        "#반 입력해서 해당반 학생들 출력하기 ex)302\n",
        "num = input(\"학년반 ex)301: \")\n",
        "df_num = df[df['학번'].astype(str).str.contains(num)]\n",
        "df_num = df_num[['학번', '이름', '대학', '모집단위', '내신_전과목', '등급_평균', '백분위_평균']]\n",
        "df_num"
      ],
      "metadata": {
        "id": "ayhNWWfVcSUb"
      },
      "execution_count": null,
      "outputs": []
    },
    {
      "cell_type": "code",
      "source": [
        "name = input(\"이름:\")\n",
        "df_ascend = df.sort_values('내신_전과목', ascending=True)\n",
        "df_ascend = df_ascend[(df_ascend.이름 == name)]\n",
        "print(df_ascend)"
      ],
      "metadata": {
        "id": "EHYkmZQbM1R7"
      },
      "execution_count": null,
      "outputs": []
    },
    {
      "cell_type": "markdown",
      "source": [
        "# 이름을 입력하여 내신기준 석차를 출력하는 코드 설명\n",
        "\n",
        "1)* df[df['내신_전과목'] < df_filtered['내신_전과목'].iloc[0]]* selects rows from the DataFrame where the \"내신_전과목\" value is lower than the \"내신_전과목\" value of the student whose name was input by the user. This creates a filtered DataFrame that includes all students who have a lower \"내신_전과목\" value than the input student.\n",
        "\n",
        "\n",
        "2) *.groupby('이름')['내신_전과목']* groups the filtered DataFrame by the \"이름\" column and selects the \"내신_전과목\" column. This creates a Series object that contains the \"내신_전과목\" values of all the students who have a higher \"내신_전과목\" value than the input student, grouped by name.\n",
        "\n",
        "\n",
        "3) *.nunique()* counts the number of unique \"내신_전과목\" values in the grouped Series. This effectively counts the number of students who have a higher \"내신_전과목\" value than the input student, excluding any duplicates.\n",
        "\n",
        "4) *.sum()* adds up the counts of unique \"내신_전과목\" values for all the groups. This gives the total number of students who have a higher \"내신_전과목\" value than the input student, excluding duplicates.\n",
        "\n",
        "5)* + 1* adds 1 to the total count to get the rank of the input student, since the rank is equal to the number of students with a higher \"내신_전과목\" value plus 1.\n",
        "\n",
        "6) Finally, the rank is assigned to the rank variable and returned as the output of the program."
      ],
      "metadata": {
        "id": "xCZo1hHMjs2c"
      }
    },
    {
      "cell_type": "code",
      "source": [
        "#이름으로 해당 학생의 전체 석차를 확인: 아름다운 코드 A - 복잡한 코드\n",
        "# Get input name\n",
        "name = input(\"이름:\")\n",
        "\n",
        "# Filter DataFrame to only include rows with the input name\n",
        "df_filtered = df[df['이름'] == name]\n",
        "\n",
        "# Calculate rank of first row in filtered DataFrame\n",
        "rank = (df[df['내신_전과목'] < df_filtered['내신_전과목'].iloc[0]].groupby('이름')['내신_전과목'].nunique().sum()) + 1\n",
        "\n",
        "# Print the result\n",
        "print(f\"{name}의 '내신_전과목' 등수는 {rank}등 입니다.\")\n"
      ],
      "metadata": {
        "id": "0ZI_e9JsMneT"
      },
      "execution_count": null,
      "outputs": []
    },
    {
      "cell_type": "code",
      "source": [
        "#이름으로 해당 학생의 전체 석차를 확인: 아름다운 코드 B - 단순한 코드\n",
        "\n",
        "# Get input name\n",
        "name = input(\"이름:\")\n",
        "\n",
        "# Filter DataFrame to only include rows with the input name\n",
        "df_filtered = df[df['이름'] == name]\n",
        "\n",
        "# Calculate rank of first row in filtered DataFrame\n",
        "rank = df[df.내신_전과목 < df_filtered.내신_전과목.iloc[0]]\n",
        "rank = rank.groupby('이름')['내신_전과목'].nunique().sum() + 1\n",
        "\n",
        "# Print the result\n",
        "print(f\"{name}의 '내신_전과목' 등수는 {rank}등 입니다.\")\n"
      ],
      "metadata": {
        "id": "irih2YPruFum"
      },
      "execution_count": null,
      "outputs": []
    },
    {
      "cell_type": "code",
      "source": [
        "df_sorted = df.sort_values('내신_전과목', ascending=True)\n",
        "\n",
        "#unique based on \"이름\"\n",
        "df_filtered = df_sorted.drop_duplicates('이름')\n",
        "print(df_filtered)"
      ],
      "metadata": {
        "id": "_B5KQGu5Izme"
      },
      "execution_count": null,
      "outputs": []
    },
    {
      "cell_type": "code",
      "source": [
        "rank_list = sorted(list(df['내신_전과목']), reverse=False)\n",
        "print(rank_list)"
      ],
      "metadata": {
        "id": "nyJctS84wo7k"
      },
      "execution_count": null,
      "outputs": []
    },
    {
      "cell_type": "code",
      "source": [
        "#대학으로 과목별 등급과 등급_평균 조회\n",
        "name = input(\"대학:\")\n",
        "df_name = df[(df.대학 == name) & (df.최종 == '합')]\n",
        "df_name = df_name[['학번', '이름', '대학',  '모집단위', '최종', '전형명', '전형분류','내신_전과목', '백분위_평균', '표점합', '전형방법', '전형종류', '모집인원']]\n",
        "df_name"
      ],
      "metadata": {
        "id": "nlb-f3fsiKmx"
      },
      "execution_count": null,
      "outputs": []
    },
    {
      "cell_type": "code",
      "source": [
        "#학번으로 백분위 점수 조회\n",
        "code = int(input(\"학번:\"))\n",
        "df_code = df[(df.학번 == code)]\n",
        "df_code = df_code[['학번', '이름', '대학',  '모집단위', '최종', '등급_평균']]\n",
        "df_code"
      ],
      "metadata": {
        "id": "YjMiyq63Mcnh"
      },
      "execution_count": null,
      "outputs": []
    },
    {
      "cell_type": "code",
      "source": [
        "df_환보 = df[df['모집단위'].str.contains('보건+')]\n",
        "print(df_환보)"
      ],
      "metadata": {
        "id": "RyKhvNc58gul"
      },
      "execution_count": null,
      "outputs": []
    },
    {
      "cell_type": "code",
      "source": [
        "#대학유형 지원율: 4년제 80% vs. 전문대 20%\n",
        "#수시정시, 대학유형별 지원빈도\n",
        "df.groupby(['수시정시', '대학유형']).count()"
      ],
      "metadata": {
        "id": "0dsCFGYBTxvh"
      },
      "execution_count": null,
      "outputs": []
    },
    {
      "cell_type": "code",
      "source": [
        "mi = int(input(\"영어 수능등급:\"))\n",
        "df_interval = df[(df.등급_영어 == mi)]\n",
        "df_interval[['학번', '등급_영어']]\n",
        "df_interval_unique = df_interval['학번'].unique().size\n",
        "print(\"영어 수능등급 {}명\".format(df_interval_unique))"
      ],
      "metadata": {
        "id": "7RfHwPIJf3RH"
      },
      "execution_count": null,
      "outputs": []
    },
    {
      "cell_type": "code",
      "source": [
        "# D고 작년 고3 수능 백분위평균: 백분위 44%!\n",
        "df_percentile = df.dropna(subset = ['백분위_평균'])\n",
        "p_mean = df_percentile['백분위_평균'].mean()\n",
        "print(p_mean)"
      ],
      "metadata": {
        "id": "MWmj-O2jdI-S"
      },
      "execution_count": null,
      "outputs": []
    },
    {
      "cell_type": "code",
      "source": [
        "# D고 작년 고3 수능 표점 평균:\n",
        "df_standard = df.dropna(subset = ['표점합'])\n",
        "s_mean = df_standard['표점합'].mean()\n",
        "print(s_mean)"
      ],
      "metadata": {
        "id": "YthnE4O4krd5"
      },
      "execution_count": null,
      "outputs": []
    },
    {
      "cell_type": "code",
      "source": [
        "name = input(\"이름의 일부:\")\n",
        "df_pname = df['이름'].str.contains(name)\n",
        "df_pname_sub = df[df_pname]\n",
        "df_pname_sub[['학번', '이름', '대학', '모집단위', '수시정시', '최종', '내신_전과목', '백분위_평균', '표점합', '모집인원', '전형분류', '전형종류']]"
      ],
      "metadata": {
        "id": "_TisjWi014xs"
      },
      "execution_count": null,
      "outputs": []
    },
    {
      "cell_type": "code",
      "source": [
        "#D고 내신 4등급 이하 학생 중 수능이 내신보다 더 잘 나온 학생 비율\n",
        "# Filter the DataFrame\n",
        "filtered_df = df[ (df['내신_전과목'] <= 4) & (df['내신_전과목'] > df['등급_평균'])]\n",
        "filtered_df = filtered_df.drop_duplicates(subset='이름')\n",
        "\n",
        "# Print the filtered DataFrame\n",
        "print(filtered_df[['이름', '내신_전과목', '등급_평균']])"
      ],
      "metadata": {
        "id": "RMq8g0QffeeP"
      },
      "execution_count": null,
      "outputs": []
    },
    {
      "cell_type": "code",
      "source": [
        "#수능이 내신보다 더 잘 나오는 학생\n",
        "\n",
        "# Filter the DataFrame\n",
        "filtered_df = df[df['내신_전과목'] > df['등급_평균']]\n",
        "filtered_df = filtered_df.drop_duplicates(subset='이름')\n",
        "\n",
        "\n",
        "# Round the '내신_전과목' column to two decimal places\n",
        "filtered_df['내신_전과목'] = filtered_df['내신_전과목'].apply(lambda x: round(x, 1))\n",
        "\n",
        "filtered_df_total = df.drop_duplicates(subset='이름')\n",
        "filtered_df_num = len(filtered_df_total)\n",
        "filtered_df_num_div = (len(filtered_df) / filtered_df_num)*100\n",
        "filtered_df_num_div = round(filtered_df_num_div, 1)\n",
        "\n",
        "\n",
        "# Print the filtered DataFrame\n",
        "print(filtered_df[['내신_전과목', '등급_평균']])\n",
        "print(\"-----------------------------------------------------\")\n",
        "print('D고 2023학년도 고3의 수능등급이 내신등급보다 높게 나온 학생 {}명이고 비율은 {}%입니다.'.format(len(filtered_df), filtered_df_num_div))"
      ],
      "metadata": {
        "id": "DSCCEzIs9TzT"
      },
      "execution_count": null,
      "outputs": []
    },
    {
      "cell_type": "code",
      "source": [
        "#내신 3등급이상 중 수능에서 1등급 이상 상승한 학생\n",
        "\n",
        "# Filter the DataFrame\n",
        "filtered_df = df[((df['내신_전과목'] - df['등급_평균']) >= 1) & (df['내신_전과목'] < 4 )]\n",
        "filtered_df = filtered_df.drop_duplicates(subset='이름')\n",
        "\n",
        "# Round the '내신_전과목' column to one decimal place\n",
        "filtered_df['내신_전과목'] = filtered_df['내신_전과목'].apply(lambda x: round(x, 1))\n",
        "\n",
        "filtered_df_total = df.drop_duplicates(subset='이름')\n",
        "filtered_df_num = len(filtered_df_total)\n",
        "filtered_df_num_div = (len(filtered_df) / filtered_df_num) * 100\n",
        "filtered_df_num_div = round(filtered_df_num_div, 1)\n",
        "\n",
        "# Print the filtered DataFrame\n",
        "print(filtered_df[['이름', '내신_전과목', '등급_평균']])\n",
        "print(\"-----------------------------------------------------\")\n",
        "print('D고 2023학년도 수능등급이 내신등급보다 1등급 이상 높게 나온 학생 {}명이고 비율은 {}%입니다.'.format(len(filtered_df), filtered_df_num_div))"
      ],
      "metadata": {
        "id": "G8GIJPVELOIM"
      },
      "execution_count": null,
      "outputs": []
    },
    {
      "cell_type": "code",
      "source": [
        "#수능에서 내신보다 1등급 이상 오른 학생\n",
        "\n",
        "# Filter the DataFrame\n",
        "filtered_df = df[(df['내신_전과목'] - df['등급_평균']) >= 1]\n",
        "filtered_df = filtered_df.drop_duplicates(subset='이름')\n",
        "\n",
        "# Round the '내신_전과목' column to one decimal place\n",
        "filtered_df['내신_전과목'] = filtered_df['내신_전과목'].apply(lambda x: round(x, 1))\n",
        "\n",
        "#중복 제외 전체학생수, 중복제외 1등급 이상 오른 학생\n",
        "filtered_df_total = df.drop_duplicates(subset='이름')\n",
        "filtered_df_num = len(filtered_df_total)\n",
        "filtered_df_num_div = (len(filtered_df) / filtered_df_num) * 100\n",
        "filtered_df_num_div = round(filtered_df_num_div, 1)\n",
        "\n",
        "# Add the condition column to the filtered DataFrame\n",
        "filtered_df['향상도'] = (filtered_df['내신_전과목'] - filtered_df['등급_평균'])\n",
        "\n",
        "# Print the filtered DataFrame\n",
        "print(filtered_df[['이름', '내신_전과목', '등급_평균', '향상도']])\n",
        "print(\"-----------------------------------------------------\")\n",
        "print('D고 2023학년도 수능등급이 내신등급보다 1등급 이상 높게 나온 학생 {}명이고 비율은 {}%입니다.'.format(len(filtered_df), filtered_df_num_div))"
      ],
      "metadata": {
        "id": "iJVfawPMO0tG"
      },
      "execution_count": null,
      "outputs": []
    },
    {
      "cell_type": "code",
      "source": [
        "#수능 총 응시자수: 중복 이름 제외\n",
        "filtered_df = df.drop_duplicates(subset='이름')\n",
        "filtered_df_num = len(filtered_df)\n",
        "print(filtered_df_num)"
      ],
      "metadata": {
        "id": "cJ2I85v5ipBQ"
      },
      "execution_count": null,
      "outputs": []
    },
    {
      "cell_type": "code",
      "source": [
        "#서울주요대학(14개대) 중복합격자 제외한 합격자수\n",
        "\n",
        "import os\n",
        "import pandas as pd\n",
        "\n",
        "uni = ['서울대', '연세대', '고려대', '서강대', '성균관대', '한양대', '중앙대', '경희대', '한국외대', '서울시립대', '이화여대', '건국대', '동국대', '홍익대']\n",
        "\n",
        "# 서울 주요대학 수시합격자수 출력\n",
        "print(\"\\n***2023학년도 D고 합격건수***\")\n",
        "\n",
        "total_accepted = 0  # Variable to store the total number of accepted students\n",
        "\n",
        "for u in range(len(uni)):\n",
        "    df_u = df[(df.대학 == uni[u]) & (df.최종 == '합')]\n",
        "    df_u = df_u[['학번', '대학', '최종']]\n",
        "    accepted_count = len(df_u['대학'])\n",
        "    total_accepted += accepted_count\n",
        "    print(uni[u], str(accepted_count) + \"건\")\n",
        "\n",
        "print(\"\\n총 합격자 수:\", total_accepted, \"건\")"
      ],
      "metadata": {
        "id": "UJcW1gyVQKWL"
      },
      "execution_count": null,
      "outputs": []
    }
  ]
}