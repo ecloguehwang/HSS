{
  "nbformat": 4,
  "nbformat_minor": 0,
  "metadata": {
    "colab": {
      "provenance": [],
      "mount_file_id": "1Yz1edNu3JTLexl_EKNAcrw1ho7xOoI9x",
      "authorship_tag": "ABX9TyO2RyQTXyc4nO9D9h1OUyzX",
      "include_colab_link": true
    },
    "kernelspec": {
      "name": "python3",
      "display_name": "Python 3"
    },
    "language_info": {
      "name": "python"
    }
  },
  "cells": [
    {
      "cell_type": "markdown",
      "metadata": {
        "id": "view-in-github",
        "colab_type": "text"
      },
      "source": [
        "<a href=\"https://colab.research.google.com/github/ecloguehwang/HSS/blob/master/%EB%82%B4%EC%8B%A0%EC%88%98%EB%8A%A5%EC%9D%98%EC%83%81%EA%B4%80_RPA.ipynb\" target=\"_parent\"><img src=\"https://colab.research.google.com/assets/colab-badge.svg\" alt=\"Open In Colab\"/></a>"
      ]
    },
    {
      "cell_type": "code",
      "source": [
        "#colab에서 matplotlib와 sns 라이브러리 그래프 한글을 깨지지 않게 하는 법: 이 코드실행하고 런타임(runtime) 다시 실행하기\n",
        "!sudo apt-get install -y fonts-nanum\n",
        "!sudo fc-cache -fv\n",
        "!rm ~/.cache/matplotlib -rf"
      ],
      "metadata": {
        "id": "5rZMcKHH3DwK"
      },
      "execution_count": null,
      "outputs": []
    },
    {
      "cell_type": "code",
      "source": [
        "#plotly 그래프를 png, svg로 저장하는 plotly_orca 환경 구성\n",
        "!pip install plotly>=4.7.1\n",
        "!wget https://github.com/plotly/orca/releases/download/v1.2.1/orca-1.2.1-x86_64.AppImage -O /usr/local/bin/orca\n",
        "!chmod +x /usr/local/bin/orca\n",
        "!apt-get install xvfb libgtk2.0-0 libgconf-2-4"
      ],
      "metadata": {
        "id": "ymvvck7V_OAv"
      },
      "execution_count": null,
      "outputs": []
    },
    {
      "cell_type": "code",
      "source": [
        "#pandas, openpyxl 라이브러리 부르기\n",
        "import pandas as pd\n",
        "import numpy as np\n",
        "import seaborn as sns\n",
        "import matplotlib.pyplot as plt\n",
        "import os\n",
        "import openpyxl\n",
        "import csv\n",
        "import plotly.express as px\n",
        "\n",
        "##  데이터 부르기 : 구글colab에 마운트(mount)하는 방법: 왼쪽 폴더아이콘을 누르기-눈동자 왼쪽 파일마운트 아이콘 클릭- /content/drive/MyDrive/python폴더의 susi_2021simple.csv파일을 불러옴\n",
        "df = pd.read_csv('/content/drive/MyDrive/python/susi_jsi.csv', encoding = 'cp949')\n"
      ],
      "metadata": {
        "id": "YKEUTCztCEGv"
      },
      "execution_count": null,
      "outputs": []
    },
    {
      "cell_type": "code",
      "source": [
        "#matplotlib에서 한글구현\n",
        "plt.rc('font', family='NanumBarunGothic')\n",
        "\n",
        "#그래프 마이너스 기호 깨짐 방지\n",
        "plt.rcParams['axes.unicode_minus'] = False"
      ],
      "metadata": {
        "id": "V3bpP5eG3Ijx"
      },
      "execution_count": 3,
      "outputs": []
    },
    {
      "cell_type": "code",
      "source": [
        "#내신과 수능의 상관그래프: 비반응형 그래프\n",
        "\n",
        "import matplotlib.pyplot as plt\n",
        "import numpy as np\n",
        "import pandas as pd\n",
        "\n",
        "# Load the data\n",
        "df = pd.read_csv('/content/drive/MyDrive/python/susi_jsi.csv', encoding='cp949')\n",
        "\n",
        "# Count the number of null values in each column\n",
        "null_counts = df.isnull().sum()\n",
        "\n",
        "# Choose the variable with the lesser number of null values\n",
        "if null_counts['내신_전과목'] < null_counts['등급_평균']:\n",
        "    x = df['내신_전과목'].dropna().values\n",
        "    y = df['등급_평균'].dropna().values[:len(x)]\n",
        "else:\n",
        "    y = df['등급_평균'].dropna().values\n",
        "    x = df['내신_전과목'].dropna().values[:len(y)]\n",
        "\n",
        "# Choose the minimum length of non-null values\n",
        "n = min(len(x), len(y))\n",
        "x = x[:n]\n",
        "y = y[:n]\n",
        "\n",
        "# Calculate the correlation coefficient\n",
        "corr_coef = np.corrcoef(x, y)[0, 1]\n",
        "\n",
        "# Create the scatter plot\n",
        "plt.scatter(x, y, alpha=0.5)\n",
        "plt.title('D고 내신과 수능')\n",
        "plt.xlabel('내신')\n",
        "plt.ylabel('수능')\n",
        "\n",
        "# Add the correlation coefficient to the plot\n",
        "plt.text(0.3, 0.9, f'상관관계 = {corr_coef:.2f}', \n",
        "         horizontalalignment='center', verticalalignment='center', \n",
        "         transform=plt.gca().transAxes, fontsize = 15)\n",
        "\n",
        "\n",
        "# Reverse the x-axis and y-axis\n",
        "plt.gca().invert_xaxis()\n",
        "plt.gca().invert_yaxis()\n",
        "\n",
        "\n",
        "plt.show()\n"
      ],
      "metadata": {
        "colab": {
          "base_uri": "https://localhost:8080/",
          "height": 294
        },
        "id": "VR-5JpYhTi4Q",
        "outputId": "5c202e88-78cb-4632-820c-776113135c3c"
      },
      "execution_count": null,
      "outputs": [
        {
          "output_type": "display_data",
          "data": {
            "text/plain": [
              "<Figure size 432x288 with 1 Axes>"
            ],
            "image/png": "[encoded data removed]"
          },
          "metadata": {
            "needs_background": "light"
          }
        }
      ]
    },
    {
      "cell_type": "code",
      "source": [
        "#내신과 수능의 상관그래프: 반응형 그래프\n",
        "\n",
        "\n",
        "import numpy as np\n",
        "import pandas as pd\n",
        "import plotly.express as px\n",
        "\n",
        "# Load the data\n",
        "df = pd.read_csv('/content/drive/MyDrive/python/susi_jsi.csv', encoding='cp949')\n",
        "\n",
        "# Count the number of null values in each column\n",
        "null_counts = df.isnull().sum()\n",
        "\n",
        "# Choose the variable with the lesser number of null values\n",
        "if null_counts['내신_전과목'] < null_counts['등급_평균']:\n",
        "    x = df['내신_전과목'].dropna().values\n",
        "    y = df['등급_평균'].dropna().values[:len(x)]\n",
        "else:\n",
        "    y = df['등급_평균'].dropna().values\n",
        "    x = df['내신_전과목'].dropna().values[:len(y)]\n",
        "\n",
        "# Choose the minimum length of non-null values\n",
        "n = min(len(x), len(y))\n",
        "x = x[:n]\n",
        "y = y[:n]\n",
        "\n",
        "# Calculate the correlation coefficient\n",
        "corr_coef = np.corrcoef(x, y)[0, 1]\n",
        "\n",
        "# Create the scatter plot\n",
        "fig = px.scatter(x=x, y=y, color_discrete_sequence=[\"#000000\"])\n",
        "fig.update_layout(title='D고 내신과 수능', xaxis_title='내신', yaxis_title='수능')\n",
        "fig.update_layout(\n",
        "    xaxis=dict(\n",
        "        tickmode='linear',\n",
        "        tick0=8,\n",
        "        dtick=-1,\n",
        "        range=[8, 1]\n",
        "    )\n",
        ")\n",
        "fig.update_layout(\n",
        "    yaxis=dict(\n",
        "        tickmode='linear',\n",
        "        tick0=8,\n",
        "        dtick=-1,\n",
        "        range=[9, 1]\n",
        "    )\n",
        ")\n",
        "fig.update_layout(\n",
        "    annotations=[dict(\n",
        "        x=0.5,\n",
        "        y=0.9,\n",
        "        xref='paper',\n",
        "        yref='paper',\n",
        "        text=f'상관관계 = {corr_coef:.2f}',\n",
        "        showarrow=False,\n",
        "        font=dict(size=15)\n",
        "    )]\n",
        ")\n",
        "\n",
        "fig.show()\n",
        "\n",
        "# Save the plot in HTML format\n",
        "fig.write_html(\"/content/drive/MyDrive/python/dungchon/plot_d/scatterplot.html\")\n",
        "\n",
        "# Save the plot in PDF format\n",
        "#fig.write_pdf(\"/content/drive/MyDrive/python/dungchon/plot_d/scatterplot.pdf\")\n",
        "\n",
        "# Save the plot in PNG format\n",
        "fig.write_image(\"/content/drive/MyDrive/python/dungchon/plot_d/scatterplot.png\")\n",
        "\n",
        "\n",
        "#자료: https://plotly.com/python/orca-management/\n",
        "#자료: https://plotly.com/python/line-and-scatter/"
      ],
      "metadata": {
        "colab": {
          "base_uri": "https://localhost:8080/",
          "height": 542
        },
        "id": "Hou9xGzQ64Ne",
        "outputId": "f1dd8eed-0f31-4867-b7e3-b11e999e5152"
      },
      "execution_count": 30,
      "outputs": [
        {
          "output_type": "display_data",
          "data": {
            "text/html": [
              "<html>\n",
              "<head><meta charset=\"utf-8\" /></head>\n",
              "<body>\n",
              "    <div>            <script src=\"https://cdnjs.cloudflare.com/ajax/libs/mathjax/2.7.5/MathJax.js?config=TeX-AMS-MML_SVG\"></script><script type=\"text/javascript\">if (window.MathJax) {MathJax.Hub.Config({SVG: {font: \"STIX-Web\"}});}</script>                <script type=\"text/javascript\">window.PlotlyConfig = {MathJaxConfig: 'local'};</script>\n",
              "        <script src=\"https://cdn.plot.ly/plotly-2.8.3.min.js\"></script>                <div id=\"b5178fb9-53b2-4332-a4d1-cd1e25d3dc08\" class=\"plotly-graph-div\" style=\"height:525px; width:100%;\"></div>            <script type=\"text/javascript\">                                    window.PLOTLYENV=window.PLOTLYENV || {};                                    if (document.getElementById(\"b5178fb9-53b2-4332-a4d1-cd1e25d3dc08\")) {                    Plotly.newPlot(                        \"b5178fb9-53b2-4332-a4d1-cd1e25d3dc08\",                        [{\"hovertemplate\":\"x=%{x}<br>y=%{y}<extra></extra>\",\"legendgroup\":\"\",\"marker\":{\"color\":\"#000000\",\"symbol\":\"circle\"},\"mode\":\"markers\",\"name\":\"\",\"orientation\":\"v\",\"showlegend\":false,\"x\":[1.092,1.092,1.092,1.092,1.092,1.092,1.68,1.68,1.68,1.68,1.68,1.68,2.261,2.261,2.261,2.261,2.261,2.261,1.487,1.487,1.487,1.487,1.487,1.487,2.721,2.721,2.721,2.721,1.664,1.664,1.664,1.664,1.664,1.664,2.129,2.129,2.129,2.129,2.129,2.129,2.512,2.512,2.512,2.512,2.58,2.58,2.58,2.58,2.58,2.58,2.784,2.784,2.784,2.784,2.784,1.681,1.681,1.681,1.681,1.681,1.681,2.069,2.069,2.069,2.069,2.069,2.069,2.513,2.513,2.513,2.513,2.513,2.513,3.615,3.615,3.615,3.689,3.689,3.689,3.689,3.689,3.689,2.0,2.0,2.0,2.025,2.025,2.025,2.025,2.025,2.025,3.056,3.056,3.056,3.056,3.056,3.056,2.941,2.941,2.941,2.941,2.941,2.941,3.126,3.126,3.126,3.126,3.126,3.126,3.269,3.269,3.269,3.311,3.311,3.311,3.311,3.311,3.311,3.744,3.744,3.744,3.744,3.744,2.492,2.492,2.492,2.492,2.492,2.492,2.615,2.615,2.615,2.615,2.615,2.615,2.688,2.688,2.688,2.688,2.688,2.688,2.792,2.792,2.792,2.792,2.792,2.792,2.875,2.875,2.875,2.875,2.875,2.875,2.992,2.992,5.203,5.203,5.408,5.408,5.408,3.288,3.288,3.288,3.288,3.288,3.288,3.288,3.288,3.288,3.288,3.288,3.288,3.288,3.288,3.378,3.378,3.378,3.378,3.378,3.533,3.533,3.533,3.533,3.533,3.533,3.704,3.704,3.704,3.704,3.704,3.704,5.076,5.173,5.173,5.173,2.303,2.303,2.303,2.303,2.303,2.303,3.107,3.107,3.107,3.107,3.107,3.107,3.596,3.596,3.596,3.596,3.596,3.596,3.68,3.68,3.68,3.68,3.68,3.68,4.264,4.264,4.264,4.264,4.264,4.264,4.317,4.317,4.317,2.346,2.346,2.346,2.346,2.346,2.346,3.288,3.288,3.288,3.288,3.288,3.288,3.442,3.442,3.442,3.442,3.442,3.442,3.748,3.748,3.748,3.748,3.748,3.748,4.049,4.049,4.049,4.049,4.049,4.049,3.163,3.163,3.163,3.163,3.163,3.163,3.163,2.567,2.567,2.567,2.567,2.567,2.567,3.916,3.916,3.916,3.916,3.916,3.916,3.933,3.933,4.033,4.033,4.033,4.033,4.033,4.033,4.067,4.067,4.067,4.067,4.067,4.067,4.32,4.32,4.32,4.32,4.32,4.32,3.592,3.592,3.592,3.592,3.592,3.592,4.336,4.336,4.336,4.336,4.336,4.336,4.504,4.504,4.504,4.798,4.798,4.798,4.798,4.798,4.798,4.8,4.8,4.8,4.8,4.8,4.8,4.205,4.205,4.205,4.205,4.205,4.205,4.356,4.356,4.356,4.356,4.356,4.356,5.82,3.077,3.077,3.077,3.077,3.077,3.077,3.462,3.462,3.462,3.462,3.462,3.462,4.227,4.227,4.227,4.227,4.227,4.227,4.574,4.574,4.574,4.574,4.584,4.584,4.584,4.584,4.584,4.584,4.605,4.605,4.605,4.605,4.605,4.605,4.912,4.912,4.912,4.912,4.912,4.912,5.049,5.049,5.049,5.049,5.049,5.049,5.531,5.759,5.759,3.378,3.378,3.378,3.378,3.378,3.378,4.296,4.296,4.296,4.296,4.296,4.296,4.385,4.402,4.402,4.402,4.402,4.402,4.402,4.731,4.731,4.731,4.731,4.731,4.836,4.836,4.836,5.26,5.26,5.26,5.32,5.32,5.72,6.408,4.272,4.272,4.272,4.272,4.272,4.377,4.377,4.377,4.377,4.377,4.377,4.377,4.377,4.983,4.983,4.983,4.983,4.983,4.983,5.065,5.065,5.065,5.065,5.065,5.065,5.101,5.101,5.101,5.101,5.101,5.101,5.197,5.197,5.197,5.197,5.197,5.103,5.103,5.103,5.103,5.103,5.103,5.0,5.0,5.0,5.0,5.0,5.0,5.0,3.769,3.769,3.779,3.779,3.779,3.779,3.779,4.546,4.546,4.546,4.546,4.546,4.546,4.928,4.928,4.928,4.928,4.928,4.928,4.928,4.975,4.975,4.975,4.975,4.975,5.49,5.49,5.49,6.443,6.443,6.443,6.443,6.443,6.443,4.443,4.443,4.443,4.443,4.443,4.443,4.443,4.443,4.443,5.311,5.311,5.311,5.311,5.311,5.311,5.462,5.462,5.462,5.479,4.773,4.773,4.773,4.773,4.773,4.773,4.908,4.908,4.908,4.908,4.908,4.908,5.0,5.0,5.0,5.0,5.0,5.0,5.0,5.0,6.008,6.008,6.008,6.008,6.008,6.074,6.074,6.074,6.074,6.074,6.074,6.074,6.074,4.504,4.504,4.504,4.504,4.504,4.504,4.504,4.504,4.504,4.504,4.504,4.504,4.631,4.631,4.631,4.631,4.631,4.631,4.631,4.748,4.748,4.748,4.748,4.748,4.748,4.748,5.269,5.269,5.269,5.269,5.269,5.269,5.269,5.269,5.269,5.279,5.454,5.454,5.454,5.454,5.454,5.454,6.048,6.048,6.048,6.048,6.048,6.048,6.048,6.048,6.048,6.048,6.048,7.156,7.156,7.156,7.156,6.356,6.356,6.356,6.356,6.356,6.392,6.392,6.392,6.392,5.73,5.73,5.73,5.73,5.73,6.762,6.762,6.762,6.762,6.762,6.762,7.192,7.192,7.192,7.192,7.192,7.192,6.768,6.768,6.768,6.768,6.768,6.768,6.267,6.267,6.267,6.267,6.267,6.394,6.394,6.394,6.394,6.394,6.394,6.394,6.394,6.394,6.41,6.41,6.41,6.41,6.41,6.41,6.723,6.723,6.723,6.723,6.723,6.723,6.723,5.705,5.705,5.705,5.705,5.705,5.705,7.04,7.04,7.04,7.04,7.04,7.04,7.04,6.308,6.308,6.308,6.303,6.303,6.303,6.433,6.433,6.433,6.433,6.433,6.433,6.433,6.433,6.433,6.433,6.464,6.464,6.464,6.571,6.571,6.571,6.571,6.571,6.571,6.571,6.571,7.908,7.908,7.908,7.908,7.908,7.908],\"xaxis\":\"x\",\"y\":[1.4,1.4,1.4,1.4,1.4,1.4,2.0,2.0,2.0,2.0,2.0,2.0,2.0,2.0,2.0,2.0,2.0,2.0,2.2,2.2,2.2,2.2,2.2,2.2,2.4,2.4,2.4,2.4,2.6,2.6,2.6,2.6,2.6,2.6,2.6,2.6,2.6,2.6,2.6,2.6,2.6,2.6,2.6,2.6,2.6,2.6,2.6,2.6,2.6,2.6,2.6,2.6,2.6,2.6,2.6,2.8,2.8,2.8,2.8,2.8,2.8,3.0,3.0,3.0,3.0,3.0,3.0,3.0,3.0,3.0,3.0,3.0,3.0,3.2,3.2,3.2,3.2,3.2,3.2,3.2,3.2,3.2,3.4,3.4,3.4,3.4,3.4,3.4,3.4,3.4,3.4,3.4,3.4,3.4,3.4,3.4,3.4,3.6,3.6,3.6,3.6,3.6,3.6,3.6,3.6,3.6,3.6,3.6,3.6,3.6,3.6,3.6,3.6,3.6,3.6,3.6,3.6,3.6,3.6,3.6,3.6,3.6,3.6,3.8,3.8,3.8,3.8,3.8,3.8,3.8,3.8,3.8,3.8,3.8,3.8,3.8,3.8,3.8,3.8,3.8,3.8,3.8,3.8,3.8,3.8,3.8,3.8,3.8,3.8,3.8,3.8,3.8,3.8,3.8,3.8,3.8,3.8,3.8,3.8,3.8,4.0,4.0,4.0,4.0,4.0,4.0,4.0,4.0,4.0,4.0,4.0,4.0,4.0,4.0,4.0,4.0,4.0,4.0,4.0,4.0,4.0,4.0,4.0,4.0,4.0,4.0,4.0,4.0,4.0,4.0,4.0,4.0,4.0,4.0,4.0,4.2,4.2,4.2,4.2,4.2,4.2,4.2,4.2,4.2,4.2,4.2,4.2,4.2,4.2,4.2,4.2,4.2,4.2,4.2,4.2,4.2,4.2,4.2,4.2,4.2,4.2,4.2,4.2,4.2,4.2,4.2,4.2,4.2,4.4,4.4,4.4,4.4,4.4,4.4,4.4,4.4,4.4,4.4,4.4,4.4,4.4,4.4,4.4,4.4,4.4,4.4,4.4,4.4,4.4,4.4,4.4,4.4,4.4,4.4,4.4,4.4,4.4,4.4,4.5,4.5,4.5,4.5,4.5,4.5,4.5,4.6,4.6,4.6,4.6,4.6,4.6,4.6,4.6,4.6,4.6,4.6,4.6,4.6,4.6,4.6,4.6,4.6,4.6,4.6,4.6,4.6,4.6,4.6,4.6,4.6,4.6,4.6,4.6,4.6,4.6,4.6,4.6,4.8,4.8,4.8,4.8,4.8,4.8,4.8,4.8,4.8,4.8,4.8,4.8,4.8,4.8,4.8,4.8,4.8,4.8,4.8,4.8,4.8,4.8,4.8,4.8,4.8,4.8,4.8,5.0,5.0,5.0,5.0,5.0,5.0,5.0,5.0,5.0,5.0,5.0,5.0,5.0,5.2,5.2,5.2,5.2,5.2,5.2,5.2,5.2,5.2,5.2,5.2,5.2,5.2,5.2,5.2,5.2,5.2,5.2,5.2,5.2,5.2,5.2,5.2,5.2,5.2,5.2,5.2,5.2,5.2,5.2,5.2,5.2,5.2,5.2,5.2,5.2,5.2,5.2,5.2,5.2,5.2,5.2,5.2,5.2,5.2,5.2,5.2,5.2,5.2,5.4,5.4,5.4,5.4,5.4,5.4,5.4,5.4,5.4,5.4,5.4,5.4,5.4,5.4,5.4,5.4,5.4,5.4,5.4,5.4,5.4,5.4,5.4,5.4,5.4,5.4,5.4,5.4,5.4,5.4,5.4,5.4,5.4,5.5,5.6,5.6,5.6,5.6,5.6,5.6,5.6,5.6,5.6,5.6,5.6,5.6,5.6,5.6,5.6,5.6,5.6,5.6,5.6,5.6,5.6,5.6,5.6,5.6,5.6,5.6,5.6,5.6,5.6,5.6,5.6,5.6,5.6,5.6,5.6,5.6,5.666666667,5.666666667,5.666666667,5.666666667,5.666666667,5.666666667,5.75,5.75,5.75,5.75,5.75,5.75,5.75,5.8,5.8,5.8,5.8,5.8,5.8,5.8,5.8,5.8,5.8,5.8,5.8,5.8,5.8,5.8,5.8,5.8,5.8,5.8,5.8,5.8,5.8,5.8,5.8,5.8,5.8,5.8,5.8,5.8,5.8,5.8,5.8,5.8,5.8,6.0,6.0,6.0,6.0,6.0,6.0,6.0,6.0,6.0,6.0,6.0,6.0,6.0,6.0,6.0,6.0,6.0,6.0,6.0,6.2,6.2,6.2,6.2,6.2,6.2,6.2,6.2,6.2,6.2,6.2,6.2,6.2,6.2,6.2,6.2,6.2,6.2,6.2,6.2,6.2,6.2,6.2,6.2,6.2,6.2,6.2,6.2,6.2,6.2,6.2,6.2,6.2,6.4,6.4,6.4,6.4,6.4,6.4,6.4,6.4,6.4,6.4,6.4,6.4,6.4,6.4,6.4,6.4,6.4,6.4,6.4,6.4,6.4,6.4,6.4,6.4,6.4,6.4,6.4,6.4,6.4,6.4,6.4,6.4,6.4,6.4,6.4,6.4,6.6,6.6,6.6,6.6,6.6,6.6,6.6,6.6,6.6,6.6,6.6,6.6,6.6,6.6,6.6,6.6,6.6,6.6,6.6,6.6,6.6,6.8,6.8,6.8,6.8,6.8,6.8,6.8,6.8,6.8,7.0,7.0,7.0,7.0,7.0,7.0,7.0,7.0,7.0,7.0,7.0,7.0,7.0,7.0,7.0,7.0,7.0,7.2,7.2,7.2,7.2,7.2,7.2,7.25,7.25,7.25,7.25,7.25,7.4,7.4,7.4,7.4,7.4,7.4,7.4,7.4,7.4,7.4,7.4,7.4,7.4,7.4,7.4,7.6,7.6,7.6,7.6,7.6,7.6,7.6,7.666666667,7.666666667,7.666666667,7.666666667,7.666666667,7.666666667,7.75,7.75,7.75,7.75,7.75,7.75,7.75,7.8,7.8,7.8,8.0,8.0,8.0,8.0,8.0,8.0,8.0,8.0,8.0,8.0,8.0,8.0,8.0,8.0,8.0,8.0,8.0,8.0,8.0,8.0,8.0,8.0,8.0,8.0,8.2,8.2,8.2,8.2,8.2,8.2],\"yaxis\":\"y\",\"type\":\"scatter\"}],                        {\"template\":{\"data\":{\"bar\":[{\"error_x\":{\"color\":\"#2a3f5f\"},\"error_y\":{\"color\":\"#2a3f5f\"},\"marker\":{\"line\":{\"color\":\"#E5ECF6\",\"width\":0.5},\"pattern\":{\"fillmode\":\"overlay\",\"size\":10,\"solidity\":0.2}},\"type\":\"bar\"}],\"barpolar\":[{\"marker\":{\"line\":{\"color\":\"#E5ECF6\",\"width\":0.5},\"pattern\":{\"fillmode\":\"overlay\",\"size\":10,\"solidity\":0.2}},\"type\":\"barpolar\"}],\"carpet\":[{\"aaxis\":{\"endlinecolor\":\"#2a3f5f\",\"gridcolor\":\"white\",\"linecolor\":\"white\",\"minorgridcolor\":\"white\",\"startlinecolor\":\"#2a3f5f\"},\"baxis\":{\"endlinecolor\":\"#2a3f5f\",\"gridcolor\":\"white\",\"linecolor\":\"white\",\"minorgridcolor\":\"white\",\"startlinecolor\":\"#2a3f5f\"},\"type\":\"carpet\"}],\"choropleth\":[{\"colorbar\":{\"outlinewidth\":0,\"ticks\":\"\"},\"type\":\"choropleth\"}],\"contour\":[{\"colorbar\":{\"outlinewidth\":0,\"ticks\":\"\"},\"colorscale\":[[0.0,\"#0d0887\"],[0.1111111111111111,\"#46039f\"],[0.2222222222222222,\"#7201a8\"],[0.3333333333333333,\"#9c179e\"],[0.4444444444444444,\"#bd3786\"],[0.5555555555555556,\"#d8576b\"],[0.6666666666666666,\"#ed7953\"],[0.7777777777777778,\"#fb9f3a\"],[0.8888888888888888,\"#fdca26\"],[1.0,\"#f0f921\"]],\"type\":\"contour\"}],\"contourcarpet\":[{\"colorbar\":{\"outlinewidth\":0,\"ticks\":\"\"},\"type\":\"contourcarpet\"}],\"heatmap\":[{\"colorbar\":{\"outlinewidth\":0,\"ticks\":\"\"},\"colorscale\":[[0.0,\"#0d0887\"],[0.1111111111111111,\"#46039f\"],[0.2222222222222222,\"#7201a8\"],[0.3333333333333333,\"#9c179e\"],[0.4444444444444444,\"#bd3786\"],[0.5555555555555556,\"#d8576b\"],[0.6666666666666666,\"#ed7953\"],[0.7777777777777778,\"#fb9f3a\"],[0.8888888888888888,\"#fdca26\"],[1.0,\"#f0f921\"]],\"type\":\"heatmap\"}],\"heatmapgl\":[{\"colorbar\":{\"outlinewidth\":0,\"ticks\":\"\"},\"colorscale\":[[0.0,\"#0d0887\"],[0.1111111111111111,\"#46039f\"],[0.2222222222222222,\"#7201a8\"],[0.3333333333333333,\"#9c179e\"],[0.4444444444444444,\"#bd3786\"],[0.5555555555555556,\"#d8576b\"],[0.6666666666666666,\"#ed7953\"],[0.7777777777777778,\"#fb9f3a\"],[0.8888888888888888,\"#fdca26\"],[1.0,\"#f0f921\"]],\"type\":\"heatmapgl\"}],\"histogram\":[{\"marker\":{\"pattern\":{\"fillmode\":\"overlay\",\"size\":10,\"solidity\":0.2}},\"type\":\"histogram\"}],\"histogram2d\":[{\"colorbar\":{\"outlinewidth\":0,\"ticks\":\"\"},\"colorscale\":[[0.0,\"#0d0887\"],[0.1111111111111111,\"#46039f\"],[0.2222222222222222,\"#7201a8\"],[0.3333333333333333,\"#9c179e\"],[0.4444444444444444,\"#bd3786\"],[0.5555555555555556,\"#d8576b\"],[0.6666666666666666,\"#ed7953\"],[0.7777777777777778,\"#fb9f3a\"],[0.8888888888888888,\"#fdca26\"],[1.0,\"#f0f921\"]],\"type\":\"histogram2d\"}],\"histogram2dcontour\":[{\"colorbar\":{\"outlinewidth\":0,\"ticks\":\"\"},\"colorscale\":[[0.0,\"#0d0887\"],[0.1111111111111111,\"#46039f\"],[0.2222222222222222,\"#7201a8\"],[0.3333333333333333,\"#9c179e\"],[0.4444444444444444,\"#bd3786\"],[0.5555555555555556,\"#d8576b\"],[0.6666666666666666,\"#ed7953\"],[0.7777777777777778,\"#fb9f3a\"],[0.8888888888888888,\"#fdca26\"],[1.0,\"#f0f921\"]],\"type\":\"histogram2dcontour\"}],\"mesh3d\":[{\"colorbar\":{\"outlinewidth\":0,\"ticks\":\"\"},\"type\":\"mesh3d\"}],\"parcoords\":[{\"line\":{\"colorbar\":{\"outlinewidth\":0,\"ticks\":\"\"}},\"type\":\"parcoords\"}],\"pie\":[{\"automargin\":true,\"type\":\"pie\"}],\"scatter\":[{\"marker\":{\"colorbar\":{\"outlinewidth\":0,\"ticks\":\"\"}},\"type\":\"scatter\"}],\"scatter3d\":[{\"line\":{\"colorbar\":{\"outlinewidth\":0,\"ticks\":\"\"}},\"marker\":{\"colorbar\":{\"outlinewidth\":0,\"ticks\":\"\"}},\"type\":\"scatter3d\"}],\"scattercarpet\":[{\"marker\":{\"colorbar\":{\"outlinewidth\":0,\"ticks\":\"\"}},\"type\":\"scattercarpet\"}],\"scattergeo\":[{\"marker\":{\"colorbar\":{\"outlinewidth\":0,\"ticks\":\"\"}},\"type\":\"scattergeo\"}],\"scattergl\":[{\"marker\":{\"colorbar\":{\"outlinewidth\":0,\"ticks\":\"\"}},\"type\":\"scattergl\"}],\"scattermapbox\":[{\"marker\":{\"colorbar\":{\"outlinewidth\":0,\"ticks\":\"\"}},\"type\":\"scattermapbox\"}],\"scatterpolar\":[{\"marker\":{\"colorbar\":{\"outlinewidth\":0,\"ticks\":\"\"}},\"type\":\"scatterpolar\"}],\"scatterpolargl\":[{\"marker\":{\"colorbar\":{\"outlinewidth\":0,\"ticks\":\"\"}},\"type\":\"scatterpolargl\"}],\"scatterternary\":[{\"marker\":{\"colorbar\":{\"outlinewidth\":0,\"ticks\":\"\"}},\"type\":\"scatterternary\"}],\"surface\":[{\"colorbar\":{\"outlinewidth\":0,\"ticks\":\"\"},\"colorscale\":[[0.0,\"#0d0887\"],[0.1111111111111111,\"#46039f\"],[0.2222222222222222,\"#7201a8\"],[0.3333333333333333,\"#9c179e\"],[0.4444444444444444,\"#bd3786\"],[0.5555555555555556,\"#d8576b\"],[0.6666666666666666,\"#ed7953\"],[0.7777777777777778,\"#fb9f3a\"],[0.8888888888888888,\"#fdca26\"],[1.0,\"#f0f921\"]],\"type\":\"surface\"}],\"table\":[{\"cells\":{\"fill\":{\"color\":\"#EBF0F8\"},\"line\":{\"color\":\"white\"}},\"header\":{\"fill\":{\"color\":\"#C8D4E3\"},\"line\":{\"color\":\"white\"}},\"type\":\"table\"}]},\"layout\":{\"annotationdefaults\":{\"arrowcolor\":\"#2a3f5f\",\"arrowhead\":0,\"arrowwidth\":1},\"autotypenumbers\":\"strict\",\"coloraxis\":{\"colorbar\":{\"outlinewidth\":0,\"ticks\":\"\"}},\"colorscale\":{\"diverging\":[[0,\"#8e0152\"],[0.1,\"#c51b7d\"],[0.2,\"#de77ae\"],[0.3,\"#f1b6da\"],[0.4,\"#fde0ef\"],[0.5,\"#f7f7f7\"],[0.6,\"#e6f5d0\"],[0.7,\"#b8e186\"],[0.8,\"#7fbc41\"],[0.9,\"#4d9221\"],[1,\"#276419\"]],\"sequential\":[[0.0,\"#0d0887\"],[0.1111111111111111,\"#46039f\"],[0.2222222222222222,\"#7201a8\"],[0.3333333333333333,\"#9c179e\"],[0.4444444444444444,\"#bd3786\"],[0.5555555555555556,\"#d8576b\"],[0.6666666666666666,\"#ed7953\"],[0.7777777777777778,\"#fb9f3a\"],[0.8888888888888888,\"#fdca26\"],[1.0,\"#f0f921\"]],\"sequentialminus\":[[0.0,\"#0d0887\"],[0.1111111111111111,\"#46039f\"],[0.2222222222222222,\"#7201a8\"],[0.3333333333333333,\"#9c179e\"],[0.4444444444444444,\"#bd3786\"],[0.5555555555555556,\"#d8576b\"],[0.6666666666666666,\"#ed7953\"],[0.7777777777777778,\"#fb9f3a\"],[0.8888888888888888,\"#fdca26\"],[1.0,\"#f0f921\"]]},\"colorway\":[\"#636efa\",\"#EF553B\",\"#00cc96\",\"#ab63fa\",\"#FFA15A\",\"#19d3f3\",\"#FF6692\",\"#B6E880\",\"#FF97FF\",\"#FECB52\"],\"font\":{\"color\":\"#2a3f5f\"},\"geo\":{\"bgcolor\":\"white\",\"lakecolor\":\"white\",\"landcolor\":\"#E5ECF6\",\"showlakes\":true,\"showland\":true,\"subunitcolor\":\"white\"},\"hoverlabel\":{\"align\":\"left\"},\"hovermode\":\"closest\",\"mapbox\":{\"style\":\"light\"},\"paper_bgcolor\":\"white\",\"plot_bgcolor\":\"#E5ECF6\",\"polar\":{\"angularaxis\":{\"gridcolor\":\"white\",\"linecolor\":\"white\",\"ticks\":\"\"},\"bgcolor\":\"#E5ECF6\",\"radialaxis\":{\"gridcolor\":\"white\",\"linecolor\":\"white\",\"ticks\":\"\"}},\"scene\":{\"xaxis\":{\"backgroundcolor\":\"#E5ECF6\",\"gridcolor\":\"white\",\"gridwidth\":2,\"linecolor\":\"white\",\"showbackground\":true,\"ticks\":\"\",\"zerolinecolor\":\"white\"},\"yaxis\":{\"backgroundcolor\":\"#E5ECF6\",\"gridcolor\":\"white\",\"gridwidth\":2,\"linecolor\":\"white\",\"showbackground\":true,\"ticks\":\"\",\"zerolinecolor\":\"white\"},\"zaxis\":{\"backgroundcolor\":\"#E5ECF6\",\"gridcolor\":\"white\",\"gridwidth\":2,\"linecolor\":\"white\",\"showbackground\":true,\"ticks\":\"\",\"zerolinecolor\":\"white\"}},\"shapedefaults\":{\"line\":{\"color\":\"#2a3f5f\"}},\"ternary\":{\"aaxis\":{\"gridcolor\":\"white\",\"linecolor\":\"white\",\"ticks\":\"\"},\"baxis\":{\"gridcolor\":\"white\",\"linecolor\":\"white\",\"ticks\":\"\"},\"bgcolor\":\"#E5ECF6\",\"caxis\":{\"gridcolor\":\"white\",\"linecolor\":\"white\",\"ticks\":\"\"}},\"title\":{\"x\":0.05},\"xaxis\":{\"automargin\":true,\"gridcolor\":\"white\",\"linecolor\":\"white\",\"ticks\":\"\",\"title\":{\"standoff\":15},\"zerolinecolor\":\"white\",\"zerolinewidth\":2},\"yaxis\":{\"automargin\":true,\"gridcolor\":\"white\",\"linecolor\":\"white\",\"ticks\":\"\",\"title\":{\"standoff\":15},\"zerolinecolor\":\"white\",\"zerolinewidth\":2}}},\"xaxis\":{\"anchor\":\"y\",\"domain\":[0.0,1.0],\"title\":{\"text\":\"\\ub0b4\\uc2e0\"},\"tickmode\":\"linear\",\"tick0\":8,\"dtick\":-1,\"range\":[8,1]},\"yaxis\":{\"anchor\":\"x\",\"domain\":[0.0,1.0],\"title\":{\"text\":\"\\uc218\\ub2a5\"},\"tickmode\":\"linear\",\"tick0\":8,\"dtick\":-1,\"range\":[9,1]},\"legend\":{\"tracegroupgap\":0},\"margin\":{\"t\":60},\"title\":{\"text\":\"D\\uace0 \\ub0b4\\uc2e0\\uacfc \\uc218\\ub2a5\"},\"annotations\":[{\"font\":{\"size\":15},\"showarrow\":false,\"text\":\"\\uc0c1\\uad00\\uad00\\uacc4 = 0.90\",\"x\":0.5,\"xref\":\"paper\",\"y\":0.9,\"yref\":\"paper\"}]},                        {\"responsive\": true}                    ).then(function(){\n",
              "                            \n",
              "var gd = document.getElementById('b5178fb9-53b2-4332-a4d1-cd1e25d3dc08');\n",
              "var x = new MutationObserver(function (mutations, observer) {{\n",
              "        var display = window.getComputedStyle(gd).display;\n",
              "        if (!display || display === 'none') {{\n",
              "            console.log([gd, 'removed!']);\n",
              "            Plotly.purge(gd);\n",
              "            observer.disconnect();\n",
              "        }}\n",
              "}});\n",
              "\n",
              "// Listen for the removal of the full notebook cells\n",
              "var notebookContainer = gd.closest('#notebook-container');\n",
              "if (notebookContainer) {{\n",
              "    x.observe(notebookContainer, {childList: true});\n",
              "}}\n",
              "\n",
              "// Listen for the clearing of the current output cell\n",
              "var outputEl = gd.closest('.output');\n",
              "if (outputEl) {{\n",
              "    x.observe(outputEl, {childList: true});\n",
              "}}\n",
              "\n",
              "                        })                };                            </script>        </div>\n",
              "</body>\n",
              "</html>"
            ]
          },
          "metadata": {}
        }
      ]
    }
  ]
}