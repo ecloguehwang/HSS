{
  "nbformat": 4,
  "nbformat_minor": 0,
  "metadata": {
    "colab": {
      "provenance": [],
      "mount_file_id": "1RKmXB2YB_5QVbc7wjNtkkVANR-P2P4at",
      "authorship_tag": "ABX9TyN9kBtQSo+98i98lBY61Hop",
      "include_colab_link": true
    },
    "kernelspec": {
      "name": "python3",
      "display_name": "Python 3"
    },
    "language_info": {
      "name": "python"
    }
  },
  "cells": [
    {
      "cell_type": "markdown",
      "metadata": {
        "id": "view-in-github",
        "colab_type": "text"
      },
      "source": [
        "<a href=\"https://colab.research.google.com/github/ecloguehwang/HSS/blob/master/%ED%88%AC%ED%91%9C%EA%B6%8C%EC%97%AC%EB%B6%80_%EB%82%A0%EC%A7%9C%EB%8D%B0%EC%9D%B4%ED%83%80.ipynb\" target=\"_parent\"><img src=\"https://colab.research.google.com/assets/colab-badge.svg\" alt=\"Open In Colab\"/></a>"
      ]
    },
    {
      "cell_type": "code",
      "execution_count": null,
      "metadata": {
        "id": "ifQPjXCf0cVJ"
      },
      "outputs": [],
      "source": [
        "#이름을 입력하면 만 18세이상 투표권자인지를 출력하는 코드: : 출력할때 학생의 생년월일 보여주기\n",
        "\n",
        "#라이브러리 부르기\n",
        "import pandas as pd\n",
        "from pytz import timezone\n",
        "from datetime import datetime, timedelta\n",
        "\n",
        "##  데이터 부르기 : 구글colab에 마운트(mount)하는 방법: 왼쪽 폴더아이콘을 누르기-눈동자 왼쪽 파일마운트 아이콘 클릭- /content/drive/MyDrive/python폴더의 susi_2021simple.csv파일을 불러옴\n",
        "path = '/content/drive/MyDrive/python/deungchon/'\n",
        "df = pd.read_csv(f'{path}six.csv', encoding = 'cp949')\n",
        "\n",
        "\n",
        "# 오늘 날짜\n",
        "today = datetime.now(timezone('Asia/Seoul')).replace(tzinfo=None)\n",
        "\n",
        "# 이름 입력받기\n",
        "name = input(\"학생 이름: \")\n",
        "\n",
        "# 해당 학생을 df에서 찾기\n",
        "df_name = df[df['이름'] == name]\n",
        "\n",
        "# 해당 학생의 생년월일 찾기\n",
        "df_birth = df_name['생년월일_학생']\n",
        "\n",
        "# 해당 학생의 생년월일 시간 객체화\n",
        "df_birth_pd = pd.to_datetime(df_birth, format=\"%Y.%m.%d\").iloc[0]\n",
        "\n",
        "# 오늘로부터 18년 전의 날짜 계산\n",
        "eighteen_years_ago = today - timedelta(days=365*18)\n",
        "\n",
        "# 오늘 날짜 포맷 변경\n",
        "today_formatted = today.strftime(\"%m월 %d일\")\n",
        "\n",
        "print(\"------------------------------\")\n",
        "if df_birth_pd <= eighteen_years_ago:\n",
        "    print(\"오늘({}) 기준으로 생년월일이 {}인 {}학생은 만18세 이상으로 투표권이 있습니다.\".format(today_formatted, df_birth.iloc[0], name))\n",
        "else:\n",
        "    print(\"오늘({}) 기준으로 생년월일이 {}인 {}학생은 만18세 미만으로 투표권이 없습니다.\".format(today_formatted, df_birth.iloc[0], name))"
      ]
    },
    {
      "cell_type": "code",
      "source": [
        "#이름을 입력하면 만 18세이상 투표권자인지를 출력하는 코드: 출력할때 학생의 생일만 보여주기\n",
        "\n",
        "import pandas as pd\n",
        "from pytz import timezone\n",
        "from datetime import datetime, timedelta\n",
        "\n",
        "##  데이터 부르기 : 구글colab에 마운트(mount)하는 방법: 왼쪽 폴더아이콘을 누르기-눈동자 왼쪽 파일마운트 아이콘 클릭- /content/drive/MyDrive/python폴더의 susi_2021simple.csv파일을 불러옴\n",
        "path = '/content/drive/MyDrive/python/deungchon/'\n",
        "df = pd.read_csv(f'{path}six.csv', encoding = 'cp949')\n",
        "\n",
        "\n",
        "# 오늘 날짜\n",
        "today = datetime.now(timezone('Asia/Seoul')).replace(tzinfo=None)\n",
        "\n",
        "# 이름 입력받기\n",
        "name = input(\"학생 이름: \")\n",
        "\n",
        "# 해당 학생을 df에서 찾기\n",
        "df_name = df[df['이름'] == name]\n",
        "\n",
        "# 해당 학생의 생년월일 찾기\n",
        "df_birth = df_name['생년월일_학생']\n",
        "\n",
        "# 해당 학생의 생년월일 시간 객체화\n",
        "df_birth_pd = pd.to_datetime(df_birth, format=\"%Y.%m.%d\").iloc[0]\n",
        "\n",
        "df_birth_pd_formatted = df_birth_pd.strftime(\"%m월 %d일\")\n",
        "\n",
        "# 오늘로부터 18년 전의 날짜 계산\n",
        "eighteen_years_ago = today - timedelta(days=365*18)\n",
        "\n",
        "# 오늘 날짜 포맷 변경\n",
        "today_formatted = today.strftime(\"%m월 %d일\")\n",
        "\n",
        "print(\"------------------------------\")\n",
        "if df_birth_pd <= eighteen_years_ago:\n",
        "    print(\"오늘({}) 기준으로 생년월일이 {}인 {}학생은 만18세 이상으로 투표권이 있습니다.\".format(today_formatted, df_birth_pd_formatted, name))\n",
        "else:\n",
        "    print(\"오늘({}) 기준으로 생년월일이 {}인 {}학생은 만18세 미만으로 투표권이 없습니다.\".format(today_formatted, df_birth_pd_formatted, name))"
      ],
      "metadata": {
        "id": "bv9bT83U0o4y"
      },
      "execution_count": null,
      "outputs": []
    }
  ]
}