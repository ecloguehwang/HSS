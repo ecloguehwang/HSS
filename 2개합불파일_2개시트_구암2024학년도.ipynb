{
  "nbformat": 4,
  "nbformat_minor": 0,
  "metadata": {
    "colab": {
      "provenance": [],
      "mount_file_id": "10dej7B4hE8mzfLe9X_zl1evDT7iJ6GRe",
      "authorship_tag": "ABX9TyO6UH9G64FwBQw9gesc87D3",
      "include_colab_link": true
    },
    "kernelspec": {
      "name": "python3",
      "display_name": "Python 3"
    },
    "language_info": {
      "name": "python"
    }
  },
  "cells": [
    {
      "cell_type": "markdown",
      "metadata": {
        "id": "view-in-github",
        "colab_type": "text"
      },
      "source": [
        "<a href=\"https://colab.research.google.com/github/ecloguehwang/HSS/blob/master/2%EA%B0%9C%ED%95%A9%EB%B6%88%ED%8C%8C%EC%9D%BC_2%EA%B0%9C%EC%8B%9C%ED%8A%B8_%EA%B5%AC%EC%95%942024%ED%95%99%EB%85%84%EB%8F%84.ipynb\" target=\"_parent\"><img src=\"https://colab.research.google.com/assets/colab-badge.svg\" alt=\"Open In Colab\"/></a>"
      ]
    },
    {
      "cell_type": "markdown",
      "source": [
        "#구암고 2개(수시, 정시)파일, 2개시트일때 합불파일을 새로운 1개의 합불파일로 만들기"
      ],
      "metadata": {
        "id": "WTVU2uFxogOP"
      }
    },
    {
      "cell_type": "code",
      "source": [],
      "metadata": {
        "id": "9fg82qcOoN2I"
      },
      "execution_count": null,
      "outputs": []
    },
    {
      "cell_type": "code",
      "execution_count": null,
      "metadata": {
        "id": "JcHxVhQ-IHQB"
      },
      "outputs": [],
      "source": [
        "##라이브러리\n",
        "import pandas as pd\n",
        "\n",
        "\n",
        "##엑셀파일 불러오기\n",
        "#df_jsi = pd.read_excel(f'{path}habbul_2020sinmok.csv', encoding = 'cp949')\n",
        "path = '/content/drive/MyDrive/python/habbul/'\n",
        "df_jsi = pd.read_excel(f'{path}jsi_guam_2024.xlsx')\n",
        "df_susi = pd.read_excel(f'{path}susi_guam_2024.xlsx')"
      ]
    },
    {
      "cell_type": "code",
      "source": [
        "#1단계: '수시합불자료' 파일 전처리\n",
        "\n",
        "import pandas as pd\n",
        "\n",
        "\n",
        "## 1.'수시합불자료' 시트 불러오기\n",
        "path = '/content/drive/MyDrive/python/habbul/'\n",
        "df_susi = pd.read_excel(f'{path}susi_guam_2024.xlsx')\n",
        "\n",
        "\n",
        "##2. Delete all columns and replace with second row as column names\n",
        "df_susi.columns = df_susi.iloc[1]\n",
        "df_susi = df_susi.drop([0, 1])\n",
        "\n",
        "##3. Delete the first row (which is now the third row in the original dataframe)\n",
        "df_susi = df_susi.drop(2)\n",
        "\n",
        "##4. Resetting the index\n",
        "df_susi.reset_index(drop=True, inplace=True)\n",
        "\n",
        "\n",
        "##5. Renaming column names\n",
        "df_susi.columns.values[32:36] = ['국어_' + col for col in df_susi.columns[32:36]]\n",
        "df_susi.columns.values[36:40] = ['수학_' + col for col in df_susi.columns[36:40]]\n",
        "df_susi.columns.values[40:41] = ['영어_' + col for col in df_susi.columns[40:41]]\n",
        "df_susi.columns.values[42:46] = ['선택1_' + col for col in df_susi.columns[42:46]]\n",
        "df_susi.columns.values[46:50] = ['선택2_' + col for col in df_susi.columns[46:50]]\n",
        "df_susi.columns.values[50:51] = ['한국사_' + col for col in df_susi.columns[50:51]]\n",
        "df_susi.columns.values[51:53] = ['제2외국어_' + col for col in df_susi.columns[51:53]]\n",
        "\n",
        "# 6.열 이름에서 \\n 삭제\n",
        "df_susi.columns = df_susi.columns.str.replace('\\n', '', regex=False)\n",
        "\n",
        "# 결과 DataFrame 출력\n",
        "print(df_susi.head())"
      ],
      "metadata": {
        "id": "6LyX6X5A2A0E",
        "colab": {
          "base_uri": "https://localhost:8080/"
        },
        "outputId": "e0e65d9d-dafb-4adf-a8f2-8b7b9410ddd2"
      },
      "execution_count": null,
      "outputs": [
        {
          "output_type": "stream",
          "name": "stdout",
          "text": [
            "1     학번   이름  지역     대학  지원시기          전형명   계열            모집단위  1단계 최종  ...  \\\n",
            "0  30101  김기범  서울    숭실대    수시   예체능우수인재_연출  예체능  예술창작학부(영화예술전공)  NaN  불  ...   \n",
            "1  30101  김기범  서울  인덕대학교  수시1차          일반고   인문        비즈니스일본어과  NaN  불  ...   \n",
            "2  30101  김기범  서울    명지대    수시       명지인재면접   인문        디지털미디어학과    불  불  ...   \n",
            "3  30101  김기범  서울    광운대    수시  광운참빛인재Ⅰ-면접형   인문     미디어커뮤니케이션학부    불  불  ...   \n",
            "4  30101  김기범  서울    건국대    수시       KU자기추천   인문           일어교육과    불  불  ...   \n",
            "\n",
            "1 선택1_표준점수 선택1_백분위 선택1_등급 선택2_과목명 선택2_표준점수 선택2_백분위 선택2_등급 한국사_등급 제2외국어_과목명  \\\n",
            "0       50      48      5    사회문화       45      35      6      5       NaN   \n",
            "1       50      48      5    사회문화       45      35      6      5       NaN   \n",
            "2       50      48      5    사회문화       45      35      6      5       NaN   \n",
            "3       50      48      5    사회문화       45      35      6      5       NaN   \n",
            "4       50      48      5    사회문화       45      35      6      5       NaN   \n",
            "\n",
            "1 제2외국어_등급  \n",
            "0      NaN  \n",
            "1      NaN  \n",
            "2      NaN  \n",
            "3      NaN  \n",
            "4      NaN  \n",
            "\n",
            "[5 rows x 53 columns]\n"
          ]
        }
      ]
    },
    {
      "cell_type": "code",
      "source": [
        "#2단계: '정시합불자료' 파일 전처리\n",
        "\n",
        "import pandas as pd\n",
        "\n",
        "\n",
        "## 1.'정시합불자료' 시트 불러오기\n",
        "path = '/content/drive/MyDrive/python/habbul/'\n",
        "df_jsi = pd.read_excel(f'{path}jsi_guam_2024.xlsx')\n",
        "\n",
        "\n",
        "##2. Delete all columns and replace with second row as column names\n",
        "df_jsi.columns = df_jsi.iloc[1]\n",
        "df_jsi = df_jsi.drop([0, 1])\n",
        "\n",
        "##3. Delete the first row (which is now the third row in the original dataframe)\n",
        "df_jsi = df_jsi.drop(2)\n",
        "\n",
        "##4. Resetting the index\n",
        "df_jsi.reset_index(drop=True, inplace=True)\n",
        "\n",
        "\n",
        "##5. Rename the '군' column to '지원시기'\n",
        "df_jsi = df_jsi.rename(columns={'군': '지원\\n시기'})\n",
        "\n",
        "\n",
        "##6. Renaming column names\n",
        "df_jsi.columns.values[32:36] = ['국어_' + col for col in df_jsi.columns[32:36]]\n",
        "df_jsi.columns.values[36:40] = ['수학_' + col for col in df_jsi.columns[36:40]]\n",
        "df_jsi.columns.values[40:41] = ['영어_' + col for col in df_jsi.columns[40:41]]\n",
        "df_jsi.columns.values[42:46] = ['선택1_' + col for col in df_jsi.columns[42:46]]\n",
        "df_jsi.columns.values[46:50] = ['선택2_' + col for col in df_jsi.columns[46:50]]\n",
        "df_jsi.columns.values[50:51] = ['한국사_' + col for col in df_jsi.columns[50:51]]\n",
        "df_jsi.columns.values[51:53] = ['제2외국어_' + col for col in df_jsi.columns[51:53]]\n",
        "\n",
        "\n",
        "# 열 이름에서 \\n 삭제\n",
        "df_jsi.columns = df_jsi.columns.str.replace('\\n', '', regex=False)\n",
        "\n",
        "# 결과 DataFrame 출력\n",
        "print(df_jsi.head())"
      ],
      "metadata": {
        "id": "_WAClnBHaOSR",
        "colab": {
          "base_uri": "https://localhost:8080/"
        },
        "outputId": "b5066441-ead3-440d-dfcd-3907f7bf1b80"
      },
      "execution_count": null,
      "outputs": [
        {
          "output_type": "stream",
          "name": "stdout",
          "text": [
            "1     학번   이름  지역       대학  지원시기     전형명   계열                모집단위  1단계 최종  \\\n",
            "0  30105  문민섭  경기  경희대(국제)     나  실기위주전형  예체능  PostModern음악학과(보컬)  NaN  불   \n",
            "1  30105  문민섭  전북      호원대     나    일반전형  예체능          실용음악학부(보컬)  NaN  불   \n",
            "2  30105  문민섭  서울  백석예술대학교  정시1차    일반학생  예체능                실용음악  NaN  불   \n",
            "3  30105  문민섭  서울   명지전문대학  정시1차    실기위주  예체능               실용음악과  NaN  불   \n",
            "4  30105  문민섭  경기    여주대학교  정시1차    실기위주  예체능        실용음악과 보컬(남)   NaN  불   \n",
            "\n",
            "1  ... 선택1_표준점수 선택1_백분위 선택1_등급 선택2_과목명 선택2_표준점수 선택2_백분위 선택2_등급 한국사_등급  \\\n",
            "0  ...       44      33      6   생활과윤리       39      17      7      3   \n",
            "1  ...       44      33      6   생활과윤리       39      17      7      3   \n",
            "2  ...       44      33      6   생활과윤리       39      17      7      3   \n",
            "3  ...       44      33      6   생활과윤리       39      17      7      3   \n",
            "4  ...       44      33      6   생활과윤리       39      17      7      3   \n",
            "\n",
            "1 제2외국어_과목명 제2외국어_등급  \n",
            "0       NaN      NaN  \n",
            "1       NaN      NaN  \n",
            "2       NaN      NaN  \n",
            "3       NaN      NaN  \n",
            "4       NaN      NaN  \n",
            "\n",
            "[5 rows x 53 columns]\n"
          ]
        }
      ]
    },
    {
      "cell_type": "code",
      "source": [
        "#3단계: 수시, 정시 파일합치고 상자그림 만드는 문자열 제작 - 2024.02.21v\n",
        "\n",
        "import pandas as pd\n",
        "\n",
        "# 두 파일을 합치기\n",
        "combined_df = pd.concat([df_susi, df_jsi], axis=0)\n",
        "\n",
        "# Reset the index\n",
        "combined_df.reset_index(drop=True, inplace=True)\n",
        "\n",
        "\n",
        "# 전형분류 열 값 변경A: 수능 전문대 전형분류를 단순화\n",
        "combined_df.loc[combined_df['전형분류'] == '면접위주', '전형분류'] = '종합'\n",
        "combined_df.loc[combined_df['전형분류'] == '실기위주', '전형분류'] = '실기'\n",
        "combined_df.loc[combined_df['전형분류'] == '학생부위주', '전형분류'] = '교과'\n",
        "\n",
        "\n",
        "# 전형분류 열 값 변경B: 수능 전문대 전형분류를 단순화\n",
        "combined_df['전형분류'] = combined_df['전형분류'].replace({'수능위주': '수능',\n",
        "                                                       '실기/실적위주': '실기',\n",
        "                                                       '일반전형': '실기'})\n",
        "\n",
        "\n",
        "# 열 데이터를 숫자형으로 변환\n",
        "cols_to_convert = ['국어_백분위', '수학_백분위', '선택1_백분위', '선택2_백분위',\n",
        "                   '국어_표준점수', '수학_표준점수', '선택1_표준점수', '선택2_표준점수',\n",
        "                   '국어_등급', '수학_등급', '영어_등급', '선택1_등급', '선택2_등급']\n",
        "\n",
        "\n",
        "for col in cols_to_convert:\n",
        "    combined_df[col] = pd.to_numeric(combined_df[col], errors='coerce')\n",
        "\n",
        "\n",
        "# 1. '국어_표준점수', '수학_표준점수', '선택1_표준점수', '선택2_표준점수' 열의 합계를 '표점합_수능' 열에 저장\n",
        "combined_df['표점합수능'] = combined_df['국어_표준점수'] + combined_df['수학_표준점수'] + combined_df['선택1_표준점수'] + combined_df['선택2_표준점수']\n",
        "\n",
        "\n",
        "\n",
        "# 2. '국어_백분위', '수학_백분위', '선택1_백분위', '선택2_백분위'를 사용하여 '백분위_수능' 열 계산\n",
        "combined_df['백분위수능'] = (combined_df['국어_백분위'] + combined_df['수학_백분위'] + (combined_df['선택1_백분위'] + combined_df['선택2_백분위']) / 2) / 3\n",
        "\n",
        "\n",
        "\n",
        "# 3. '국어_등급', '수학_등급', '영어_등급', '선택1_등급', '선택2_등급'을 사용하여 '등급_수능' 열 계산\n",
        "combined_df['등급수능'] = (combined_df['국어_등급'] + combined_df['수학_등급'] + combined_df['영어_등급'] + (combined_df['선택1_등급'] + combined_df['선택2_등급']) / 2) / 4\n",
        "\n",
        "# '표점합수능' 열에서 NaN 값을 0으로 대체하고 정수형으로 변환\n",
        "combined_df['표점합수능'] = combined_df['표점합수능'].fillna(0).astype(int)\n",
        "\n",
        "# 백분위수능 값을 소수점 첫째 자리까지 표시\n",
        "combined_df['백분위수능'] = round(combined_df['백분위수능'], 1)\n",
        "\n",
        "# 등급수능을 소수점 첫째 자리까지 표시\n",
        "combined_df['등급수능'] = round(combined_df['등급수능'], 1)\n",
        "\n",
        "\n",
        "# 새로운 열 생성 및 값 연결\n",
        "combined_df['이름_대학_모집단위_최종_표점합수능_백분위수능_등급수능'] = combined_df['이름'].astype(str) + ' ' + \\\n",
        "    combined_df['대학'].astype(str) + ' ' + combined_df['모집단위'].astype(str) + ' ' + \\\n",
        "    combined_df['최종'].astype(str) + '/' + combined_df['표점합수능'].astype(str) + '점' + ' ' + \\\n",
        "    combined_df['백분위수능'].astype(str) + '%' + ' ' + combined_df['등급수능'].astype(str) + '등급'\n",
        "\n",
        "\n",
        "# 새로운 열 생성 및 값 연결\n",
        "combined_df['대학_모집단위_최종_표점합수능_백분위수능_등급수능'] = combined_df['대학'].astype(str) + ' ' + \\\n",
        "    combined_df['모집단위'].astype(str) + ' ' + \\\n",
        "    combined_df['최종'].astype(str) + '/' + combined_df['표점합수능'].astype(str) + '점' + ' ' + \\\n",
        "    combined_df['백분위수능'].astype(str) + '%' + ' ' + combined_df['등급수능'].astype(str) + '등급'\n",
        "\n",
        "\n",
        "# 결과 DataFrame 출력\n",
        "print(combined_df.tail())\n",
        "\n",
        "\n",
        "# 새로운 경로와 파일명으로 엑셀 파일 저장\n",
        "new_path = '/content/drive/MyDrive/python/habbul/'\n",
        "combined_df.to_excel(f'{new_path}guam_2024_habbul.xlsx', index=False)"
      ],
      "metadata": {
        "colab": {
          "base_uri": "https://localhost:8080/"
        },
        "id": "o6L1EafEwmXJ",
        "outputId": "c9ad701f-f528-4d83-db52-969094a2a7a0"
      },
      "execution_count": null,
      "outputs": [
        {
          "output_type": "stream",
          "name": "stdout",
          "text": [
            "1       학번   이름  지역        대학  지원시기            전형명   계열      모집단위  1단계 최종  \\\n",
            "870  30614  구채영  서울   숭의여자대학교  정시1차           수능위주   인문     문헌정보과  NaN  불   \n",
            "871  30625  최윤서  서울       세종대     나  실기/실적(일반학생전형)  예체능  음악과(피아노)  NaN  불   \n",
            "872  30625  최윤서  서울   백석예술대학교  정시1차           일반학생  예체능     클래식음악  NaN  불   \n",
            "873  30625  최윤서  경기  가톨릭대(성심)     가       실기(일반전형)  예체능       음악과  NaN  불   \n",
            "874  30626  홍승아  서울       동국대     나             일반   인문      회계학과  NaN  불   \n",
            "\n",
            "1    ... 선택2_백분위 선택2_등급 한국사_등급 제2외국어_과목명 제2외국어_등급 표점합수능 백분위수능 등급수능  \\\n",
            "870  ...    46.0    5.0      6       NaN      NaN   313  57.5  4.5   \n",
            "871  ...    31.0    6.0      4       NaN      NaN   269  34.3  5.4   \n",
            "872  ...    31.0    6.0      4       NaN      NaN   269  34.3  5.4   \n",
            "873  ...    31.0    6.0      4       NaN      NaN   269  34.3  5.4   \n",
            "874  ...    22.0    7.0      7       NaN      NaN   275  36.0  5.4   \n",
            "\n",
            "1          이름_대학_모집단위_최종_표점합수능_백분위수능_등급수능       대학_모집단위_최종_표점합수능_백분위수능_등급수능  \n",
            "870  구채영 숭의여자대학교 문헌정보과 불/313점 57.5% 4.5등급  숭의여자대학교 문헌정보과 불/313점 57.5% 4.5등급  \n",
            "871   최윤서 세종대 음악과(피아노) 불/269점 34.3% 5.4등급   세종대 음악과(피아노) 불/269점 34.3% 5.4등급  \n",
            "872  최윤서 백석예술대학교 클래식음악 불/269점 34.3% 5.4등급  백석예술대학교 클래식음악 불/269점 34.3% 5.4등급  \n",
            "873   최윤서 가톨릭대(성심) 음악과 불/269점 34.3% 5.4등급   가톨릭대(성심) 음악과 불/269점 34.3% 5.4등급  \n",
            "874       홍승아 동국대 회계학과 불/275점 36.0% 5.4등급       동국대 회계학과 불/275점 36.0% 5.4등급  \n",
            "\n",
            "[5 rows x 58 columns]\n"
          ]
        }
      ]
    },
    {
      "cell_type": "code",
      "source": [
        "# View columns from 32rd(실제는 32+1번째 열- 0번째 열번째 열부터 세기때문) to 37th(37번째 열)\n",
        "df_jsi.iloc[:, 32:37]"
      ],
      "metadata": {
        "id": "rETH0YqxfY-C"
      },
      "execution_count": null,
      "outputs": []
    },
    {
      "cell_type": "markdown",
      "source": [
        "\n",
        "##1. 수시와 정시내용의 경우의 수\n",
        "\n",
        "| 수시/정시|   X    |  O   |\n",
        "|------- --|--------|------|\n",
        "|  X       |   XX   | XO   |\n",
        "|  O       |   OX   | OO   |\n",
        "\n",
        "\n",
        "##2. 파일과 시트의 경우의 수\n",
        "\n",
        "| 파일/시트|  1개    |  2개   |\n",
        "|------- --|----------|--------|\n",
        "|  1개     |   1 1   | 1 2    |\n",
        "|  2개     |   2 1 (X)| 2 2    |\n",
        "\n",
        "\n",
        "###p.s: 1개 파일에 1개 시트가 있는 경우\n",
        "- 수시파일만 있는 경우\n",
        "- 정시파일만 있는 경우\n",
        "\n",
        "\n"
      ],
      "metadata": {
        "id": "HlqB2_r6MxbO"
      }
    }
  ]
}