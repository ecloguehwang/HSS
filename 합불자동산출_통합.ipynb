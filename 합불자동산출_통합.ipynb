{
  "nbformat": 4,
  "nbformat_minor": 0,
  "metadata": {
    "colab": {
      "provenance": [],
      "mount_file_id": "1YNO_2_g1iti1IVS6wMjx4Vfgs-yS3XP-",
      "authorship_tag": "ABX9TyN2APNz/mDN4T0IzFZ9cy20",
      "include_colab_link": true
    },
    "kernelspec": {
      "name": "python3",
      "display_name": "Python 3"
    },
    "language_info": {
      "name": "python"
    },
    "gpuClass": "standard"
  },
  "cells": [
    {
      "cell_type": "markdown",
      "metadata": {
        "id": "view-in-github",
        "colab_type": "text"
      },
      "source": [
        "<a href=\"https://colab.research.google.com/github/ecloguehwang/HSS/blob/master/%ED%95%A9%EB%B6%88%EC%9E%90%EB%8F%99%EC%82%B0%EC%B6%9C_%ED%86%B5%ED%95%A9.ipynb\" target=\"_parent\"><img src=\"https://colab.research.google.com/assets/colab-badge.svg\" alt=\"Open In Colab\"/></a>"
      ]
    },
    {
      "cell_type": "code",
      "source": [
        "#pandas 라이브러리 설치\n",
        "#!pip install pandas"
      ],
      "metadata": {
        "id": "BKa5sPJbST-V"
      },
      "execution_count": null,
      "outputs": []
    },
    {
      "cell_type": "code",
      "source": [
        "import os\n",
        "print(os.getcwd())"
      ],
      "metadata": {
        "colab": {
          "base_uri": "https://localhost:8080/"
        },
        "id": "EwJGEZ1vThJP",
        "outputId": "50403d21-b0e6-449d-e542-e7f224d43c3b"
      },
      "execution_count": null,
      "outputs": [
        {
          "output_type": "stream",
          "name": "stdout",
          "text": [
            "/content\n"
          ]
        }
      ]
    },
    {
      "cell_type": "code",
      "source": [
        "#pandas, openpyxl 라이브러리 부르기\n",
        "import pandas as pd\n",
        "import numpy as np\n",
        "import os\n",
        "import openpyxl\n",
        "import csv\n",
        "\n",
        "##  데이터 부르기 : 구글colab에 마운트(mount)하는 방법: 왼쪽 폴더아이콘을 누르기-눈동자 왼쪽 파일마운트 아이콘 클릭- /content/drive/MyDrive/python폴더의 susi_2021simple.csv파일을 불러옴\n",
        "df = pd.read_csv('/content/drive/MyDrive/python/susi_jsi.csv', encoding = 'cp949')\n",
        "#df = pd.read_csv('/content/drive/MyDrive/python/susi_jsi_noname.csv', encoding = 'cp949')\n",
        "# 첫 5줄을 봅니다. \n",
        "df.head(4)"
      ],
      "metadata": {
        "id": "8R5FWLi09yc1"
      },
      "execution_count": null,
      "outputs": []
    },
    {
      "cell_type": "code",
      "source": [
        "#합격자 순서\n",
        "#의치한약수 - 서울주요대 - 특수대 - 인서울대 - 경기지역대"
      ],
      "metadata": {
        "id": "Su9ZwVP92wmi"
      },
      "execution_count": null,
      "outputs": []
    },
    {
      "cell_type": "code",
      "source": [
        "# 의치한약수(ex: 의학 등) 합격자 명단 찾기\n",
        "df_의치한약수 = df['모집단위'].str.contains('의예+')\n",
        "#df_의치한약수 = df['모집단위'].str.contains('[의치한약수]+')\n",
        "subset_df = df[df_의치한약수]\n",
        "subset_df_p = subset_df[(subset_df.최종 == '합')]\n",
        "subset_df_p = subset_df_p[['수시정시', '학번', '이름', '대학', '모집단위', '전형분류', '최종', '내신_전과목', '백분위_평균', '표점합']]\n",
        "print(\"***2023학년도 등촌고 의치한약수 합격자 명단***\")\n",
        "print(subset_df_p)\n",
        "print(\"--------------------------------------------------------------------\")\n",
        "print(\"2023학년도 등촌고 의치한약수 합격자는 %d명입니다(복수합격 포함).\" % len(subset_df_p))\n",
        "\n",
        "\n",
        "#데이터 프레임으로 전환\n",
        "subset_df_p = pd.DataFrame(subset_df_p) \n",
        "\n",
        "#결과를 엑셀로 저장\n",
        "subset_df_p.to_excel(excel_writer= '/content/drive/MyDrive/python/dungchon/medical.xlsx') "
      ],
      "metadata": {
        "id": "0sOI6x8A6Fnw"
      },
      "execution_count": null,
      "outputs": []
    },
    {
      "cell_type": "code",
      "source": [
        "# 서울 주요대학 수시합격자 명단 출력\n",
        "uni = ['서울대', '연세대', '고려대', '서강대', '성균관대', '한양대', '중앙대', '경희대', '한국외대', '서울시립대', '이화여대', '건국대', '동국대', '홍익대']\n",
        "\n",
        "print(\"***2023학년도 서울 주요대학 수시합격자 명단***\\n\")\n",
        "for u in range(len(uni)):\n",
        "    df_주요대 = df[(df.대학 == uni[u]) & (df.최종 == '합')]\n",
        "    print(\"%s 대학 합격자\" % uni[u])\n",
        "    df_주요대 = df_주요대[['수시정시', '학번', '이름', '대학', '모집단위', '전형분류', '최종', '내신_전과목', '백분위_평균']]\n",
        "    print(df_주요대)\n",
        "    print(\"----------------------------------------------------------------------------------\")\n",
        "\n",
        "# mode=a(ppend)로 누적저장하기\n",
        "    if not os.path.exists('/content/drive/MyDrive/python/dungchon/uni_main.csv'):\n",
        "        df_주요대.to_csv('/content/drive/MyDrive/python/dungchon/uni_main.csv', index=False, mode='w', encoding='cp949')\n",
        "    else:\n",
        "        df_주요대.to_csv('/content/drive/MyDrive/python/dungchon/uni_main.csv', index=False, mode='a', encoding='cp949')\n",
        "\n",
        "\n",
        "# 서울 주요대학 수시합격자수 출력\n",
        "uni = ['서울대', '연세대', '고려대', '서강대', '성균관대', '한양대', '중앙대', '경희대', '한국외대', '서울시립대', '이화여대', '건국대', '동국대', '홍익대']\n",
        "print(\"\\n***2023학년도 등촌고 합격자수***\")\n",
        "\n",
        "for u in range(len(uni)):\n",
        "    df_주요대 = df[(df.대학 == uni[u]) & (df.최종 == '합')]\n",
        "    df_주요대 = df_주요대[['학번', '대학', '최종']]\n",
        "    print(uni[u], str(len(df_주요대['대학']))+\"명\")  \n",
        "\n",
        "\n"
      ],
      "metadata": {
        "id": "iQdO5BK3BQy1"
      },
      "execution_count": null,
      "outputs": []
    },
    {
      "cell_type": "code",
      "source": [
        "# 특수대 합격자 명단 출력\n",
        "sp = ['경찰대', '육군사관학교', '해군사관학교', '공군사관학교', '국군간호사관학교', '광주과학기술원', '대구경북과학기술원', '울산과학기술대학교', '한국과학기술원', '한국예술종합학교']\n",
        "\n",
        "print(\"***2023학년도 등촌고 특수대 합격자 명단***\\n\")\n",
        "for u in range(len(sp)):\n",
        "    df_특수대 = df[(df.대학 == sp[u]) & (df.최종 == '합')]\n",
        "    df_특수대 = df_특수대[['수시정시', '학번', '대학', '모집단위', '전형분류', '최종', '내신_전과목', '백분위_평균' ]]\n",
        "    print(\"%s 대학 합격자\" % sp[u])\n",
        "    #print(\"{} 대학 합격자는 {}명\" .format(sp[u] len(df_특수대)))\n",
        "    print(df_특수대)\n",
        "    print(\"--------------------------------------------------------\")\n",
        "\n",
        "# mode=a(ppend)로 누적저장하기\n",
        "    if not os.path.exists('/content/drive/MyDrive/python/dungchon/uni_sp.csv'):\n",
        "        df_특수대.to_csv('/content/drive/MyDrive/python/dungchon/uni_sp.csv', index=False, mode='w', encoding='cp949')\n",
        "    else:\n",
        "        df_특수대.to_csv('/content/drive/MyDrive/python/dungchon/uni_sp.csv', index=False, mode='a', encoding='cp949')\n",
        "\n",
        "print(\"\\n----------------------------------------------------------\")\n",
        "print(\"***2023학년도 등촌고 특수대 합격자수***\")\n",
        "\n",
        "# 특수대 합격자수\n",
        "sp = ['경찰대', '육군사관학교', '해군사관학교', '공군사관학교', '국군간호사관학교', '광주과학기술원', '대구경북과학기술원', '울산과학기술대학교', '한국과학기술원', '한국예술종합학교']\n",
        "\n",
        "for u in range(len(sp)):\n",
        "    df_특수대 = df[(df.대학 == sp[u]) & (df.최종 == '합')]\n",
        "    df_특수대 = df_특수대[['학번', '대학', '모집단위', '전형분류', '최종']]\n",
        "print(\"2023학년도 등촌고 특수대 수시합격자수는 %d명입니다.\" % len(df_특수대))\n"
      ],
      "metadata": {
        "id": "ZJ1doE74EzYQ"
      },
      "execution_count": null,
      "outputs": []
    },
    {
      "cell_type": "code",
      "source": [
        "# 서울 주요대(ace리스트)를 제외한 인서울대 합격자 명단\n",
        "\n",
        "import pandas as pd\n",
        "df = pd.read_csv('/content/drive/MyDrive/python/susi_jsi.csv', encoding = 'cp949')\n",
        "\n",
        "#3가지 조건(지역, 최종, ace대학 제외)으로 검색\n",
        "ace = ['서울대', '연세대', '고려대', '서강대', '성균관대', '한양대', '이화여대', '중앙대', '경희대', '한국외국어대', '서울시립대', '건국대', '동국대', '홍익대'] \n",
        "seoul_df = df[(df.지역 == '서울') & (df.최종 == '합') & ~(df.대학.isin(ace))]\n",
        "seoul_df\n",
        "\n",
        "#필요한 변수(열)만 불러옴\n",
        "seoul_df = seoul_df[['수시정시', '학번', '이름', '대학', '모집단위', '전형분류', '최종', '내신_전과목', '백분위_평균']]\n",
        "#print(seoul_df)\n",
        "print(seoul_df)\n",
        "\n",
        "\n",
        "#지역과 최종 조건\n",
        "ace = ['서울대', '연세대', '고려대', '서강대', '성균관대', '한양대', '이화여대', '중앙대', '경희대', '한국외국어대', '서울시립대', '건국대', '동국대', '홍익대'] \n",
        "seoul_df = df[(df.지역 == '서울') & (df.최종 == '합') & ~(df.대학.isin(ace))]\n",
        "\n",
        "\n",
        "#인서울대 합격자수\n",
        "print(\"\\n---------------------------------------------------------------------------------------\")\n",
        "print(\"2023학년도 등촌고 서울주요대를 제외한 인서울 수시합격자수는 %d명입니다.(중복합격 포함)\" % len(seoul_df))\n",
        "\n",
        "\n",
        "#데이터 프레임으로 전환\n",
        "seoul_df_p = pd.DataFrame(seoul_df) \n",
        "\n",
        "#결과를 엑셀로 저장\n",
        "seoul_df_p.to_excel(excel_writer= '/content/drive/MyDrive/python/dungchon/inseoul.xlsx') \n"
      ],
      "metadata": {
        "id": "gkXQgK1P3IiD"
      },
      "execution_count": null,
      "outputs": []
    },
    {
      "cell_type": "code",
      "source": [
        "#경기지역 대학 합격자 명단\n",
        "\n",
        "#라이브러리\n",
        "import pandas as pd\n",
        "df = pd.read_csv('/content/drive/MyDrive/python/susi_jsi.csv', encoding = 'cp949')\n",
        "\n",
        "\n",
        "#(지역, 최종)으로 검색 \n",
        "kg_df = df[(df.지역 == '경기') & (df.최종 == '합')]\n",
        "kg_df\n",
        "\n",
        "\n",
        "#필요한 변수(열)만 불러옴\n",
        "kg_df = kg_df[['수시정시', '지역', '학번', '이름', '대학', '모집단위', '최종', '내신_전과목', '백분위_평균']]\n",
        "#print(seoul_df)\n",
        "print(kg_df)\n",
        "\n",
        "\n",
        "#경기지역 합격자수\n",
        "print(\"\\n---------------------------------------------------------------------------------------\")\n",
        "print(\"2023학년도 등촌고 경기지역 대학 합격자수는 %d명입니다.(중복합격 포함)\" % len(kg_df))\n",
        "\n",
        "\n",
        "#데이터 프레임으로 전환\n",
        "kg_df_p = pd.DataFrame(kg_df) \n",
        "\n",
        "#결과를 엑셀로 저장\n",
        "kg_df_p.to_excel(excel_writer= '/content/drive/MyDrive/python/dungchon/kg.xlsx') "
      ],
      "metadata": {
        "id": "gX46Zr1PcYw0"
      },
      "execution_count": null,
      "outputs": []
    },
    {
      "cell_type": "code",
      "source": [
        "# 인서울 및 경기지역 대학 합격자 명단 - 서울 주요대(ace리스트)를 제외\n",
        "\n",
        "import pandas as pd\n",
        "df = pd.read_csv('/content/drive/MyDrive/python/susi_jsi.csv', encoding = 'cp949')\n",
        "\n",
        "\n",
        "#3가지 조건(지역, 최종, ace대학 제외)으로 검색\n",
        "ace = ['서울대', '연세대', '고려대', '서강대', '성균관대', '한양대', '이화여대', '중앙대', '경희대', '한국외국어대', '서울시립대', '건국대', '동국대', '홍익대'] \n",
        "city = ['서울', '경기']\n",
        "\n",
        "#지역, 최종, ace대학 제외\n",
        "seoul_df = df[(df.지역.isin(city)) & (df.최종 == '합') & ~(df.대학.isin(ace))]\n",
        "seoul_df\n",
        "\n",
        "\n",
        "#필요한 변수(열)만 불러옴\n",
        "seoul_df = seoul_df[['수시정시', '지역', '학번', '이름', '대학', '모집단위', '최종', '내신_전과목', '백분위_평균']]\n",
        "#print(seoul_df)\n",
        "print(seoul_df)\n",
        "\n",
        "\n",
        "# 서울 주요대(ace리스트) 제외한 인서울대 합격자수\n",
        "import pandas as pd\n",
        "df = pd.read_csv('/content/drive/MyDrive/python/susi_jsi.csv', encoding = 'cp949')\n",
        "\n",
        "\n",
        "#지역과 최종 조건\n",
        "ace = ['서울대', '연세대', '고려대', '서강대', '성균관대', '한양대', '이화여대', '중앙대', '경희대', '한국외국어대', '서울시립대', '건국대', '동국대', '홍익대'] \n",
        "seoul_df = df[(df.지역.isin(city)) & (df.최종 == '합') & ~(df.대학.isin(ace))]\n",
        "\n",
        "\n",
        "#인서울대 합격자수\n",
        "print(\"\\n---------------------------------------------------------------------------------------\")\n",
        "print(\"2023학년도 등촌고 서울주요대를 제외한 인서울대와 경기지역 대학 합격자수는 %d명입니다.(중복합격 포함)\" % len(seoul_df))\n",
        "\n",
        "\n",
        "#데이터 프레임으로 전환\n",
        "seoul_df_p = pd.DataFrame(kg_df) \n",
        "\n",
        "#결과를 엑셀로 저장\n",
        "seoul_df_p.to_excel(excel_writer= '/content/drive/MyDrive/python/dungchon/inseoul_kg.xlsx') "
      ],
      "metadata": {
        "id": "Xa2gnJHbCyC2"
      },
      "execution_count": null,
      "outputs": []
    },
    {
      "cell_type": "code",
      "source": [
        "#특정 백분위 구간의 점수별 빈도(ex: 80~85%사이의 빈도수)\n",
        "mx = int(input(\"이상:\"))\n",
        "mi = int(input(\"미만:\"))\n",
        "\n",
        "\n",
        "# mx이상 mi이하 조건을 충족하는 객체 만들기\n",
        "df_interval = df[(df.백분위_평균 >= mx) & (df.백분위_평균 < mi)]\n",
        "\n",
        "# value_counts()로 빈도를 세고, sort_index() 기준으로 정렬!\n",
        "list_1 =  df_interval[\"백분위_평균\"].value_counts().sort_index()\n",
        "print(list_1)\n",
        "print(\"------------------------------\")\n",
        "#print(str(len(list_1))+\"명\")\n",
        "\n",
        "print(\"{}이상 {}미만 :{}명\".format(mx, mi, len(list_1)))\n",
        "#자료 https://stackoverflow.com/questions/43855474/changing-sort-in-value-counts8"
      ],
      "metadata": {
        "id": "NpPusEO9EhJA"
      },
      "execution_count": null,
      "outputs": []
    },
    {
      "cell_type": "code",
      "source": [
        "df.info()"
      ],
      "metadata": {
        "id": "sVL97UvoEzOw"
      },
      "execution_count": null,
      "outputs": []
    },
    {
      "cell_type": "code",
      "source": [
        "df_교대 = df['대학'].str.contains('[교육대학교]+')\n",
        "subset_df = df[df_교대]\n",
        "subset_df_p = subset_df[(subset_df.최종 == '합')]\n",
        "subset_df_p = subset_df_p[['수시정시', '학번', '이름', '대학', '모집단위', '전형분류', '최종', '내신_전과목', '백분위_평균']]\n",
        "print(\"***2023학년도 교육대학교 합격자 명단***\")"
      ],
      "metadata": {
        "colab": {
          "base_uri": "https://localhost:8080/"
        },
        "id": "ZgzXZATMZ_zo",
        "outputId": "969ef810-727f-42b8-9a45-d3539be6bae5"
      },
      "execution_count": null,
      "outputs": [
        {
          "output_type": "stream",
          "name": "stdout",
          "text": [
            "***2023학년도 교육대학교 합격자 명단***\n"
          ]
        }
      ]
    },
    {
      "cell_type": "code",
      "source": [
        "#전체 합격자: 중복 합격포함 : 134명\n",
        "df_pass = df[df.최종 == '합']\n",
        "print(df_pass.count())\n",
        "\n",
        "#수시, 정시별 합격건수: 수시(123건), 정시(11건)\n",
        "df_pass.groupby(['수시정시']).count()"
      ],
      "metadata": {
        "id": "CLyrluINoxNj"
      },
      "execution_count": null,
      "outputs": []
    },
    {
      "cell_type": "code",
      "source": [
        "#중복합격자 제외\n",
        "df_pass['학번'].unique()\n",
        "\n",
        "#중복합격자수: 71명\n",
        "df_pass['학번'].nunique()"
      ],
      "metadata": {
        "id": "7stFxfnBoZfd"
      },
      "execution_count": null,
      "outputs": []
    },
    {
      "cell_type": "code",
      "source": [
        "#2022학년도 합격자: 수시(79명)+정시(54명) : 133명 / 중복합격자 제외\n",
        "79+54"
      ],
      "metadata": {
        "id": "C3uzFr0tpp4k"
      },
      "execution_count": null,
      "outputs": []
    },
    {
      "cell_type": "code",
      "source": [
        "#이름으로 백분위 점수 조회\n",
        "name = input(\"이름:\")\n",
        "df_name = df[(df.이름 == name)]\n",
        "df_name = df_name[['학번', '이름', '대학',  '모집단위', '최종', '전형분류', '내신_전과목', '백분위_평균', '등급_평균', '표점합']]\n",
        "df_name"
      ],
      "metadata": {
        "id": "R3_jXr7cjaDp"
      },
      "execution_count": null,
      "outputs": []
    },
    {
      "cell_type": "code",
      "source": [
        "#이름으로 과목별 등급과 등급_평균 조회\n",
        "name = input(\"이름:\")\n",
        "df_name = df[(df.이름 == name)]\n",
        "df_name = df_name[['학번', '이름', '대학',  '모집단위', '전형명', '전형분류', '최종',  '등급_국어', '등급_수학', '등급_영어', '등급_탐구1', '등급_탐구2', '등급_평균', ]]\n",
        "df_name"
      ],
      "metadata": {
        "id": "W73xkEsNhag1"
      },
      "execution_count": null,
      "outputs": []
    },
    {
      "cell_type": "code",
      "source": [
        "#이름으로 과목별 등급과 등급_평균 조회\n",
        "name = input(\"이름:\")\n",
        "df_name = df[(df.이름 == name)]\n",
        "df_name = df_name[['학번', '이름', '대학',  '모집단위', '전형명', '전형분류', '표준점수_국어', '표준점수_수학',  '표준점수_탐구1', '표준점수_탐구2','표점합']]\n",
        "df_name"
      ],
      "metadata": {
        "id": "o9FchVpGRY3y"
      },
      "execution_count": null,
      "outputs": []
    },
    {
      "cell_type": "code",
      "source": [
        "df.columns"
      ],
      "metadata": {
        "id": "ONhrfKUJhKsO"
      },
      "execution_count": null,
      "outputs": []
    },
    {
      "cell_type": "code",
      "source": [
        "#학번으로 백분위 점수 조회\n",
        "code = int(input(\"학번:\"))\n",
        "df_code = df[(df.학번 == code)]\n",
        "df_code = df_code[['학번', '이름', '대학',  '모집단위', '최종', '백분위_평균']]\n",
        "df_code"
      ],
      "metadata": {
        "id": "YjMiyq63Mcnh"
      },
      "execution_count": null,
      "outputs": []
    },
    {
      "cell_type": "code",
      "source": [
        "df.dtypes"
      ],
      "metadata": {
        "id": "VkHvrZ6KUUwr"
      },
      "execution_count": null,
      "outputs": []
    },
    {
      "cell_type": "code",
      "source": [
        "# 의치한약수(ex: 의학 등) 합격자 명단 찾기: 원본\n",
        "\n",
        "df_의치한약수 = df['모집단위'].str.contains('[의치한약수]+')\n",
        "subset_df = df[df_의치한약수]\n",
        "subset_df_p = subset_df[(subset_df.최종 == '합')]\n",
        "subset_df_p = subset_df_p[['수시정시', '학번', '이름', '대학', '모집단위', '전형분류', '최종', '내신_전과목', '백분위_평균']]\n",
        "print(\"***2022학년도 수시 의치한약수 합격자 명단***\")\n",
        "print(subset_df_p)\n",
        "print(\"\\n-----------------------------------------\")\n",
        "print(\"***2022학년도 수시 의치한약수 합격자수***\")\n",
        "\n",
        "\n",
        "# 의치한약수(ex: 의학 등 ) 합격자수\n",
        "df_의치한약수 = df['모집단위'].str.contains('[의치한약수]+')\n",
        "\n",
        "\n",
        "subset_df = df[df_의치한약수]\n",
        "subset_df_p = subset_df[(subset_df.최종 == '합')]\n",
        "for i in range(len(subset_df_p)):\n",
        "    print(subset_df_p[['대학','모집단위']], str(len(subset_df_p.대학))+\"명\")\n",
        "\n",
        "\n",
        "\n",
        "#데이터 프레임으로 전환\n",
        "subset_df_p = pd.DataFrame(subset_df_p) \n",
        "\n",
        "#결과를 엑셀로 저장\n",
        "subset_df_p.to_excel(excel_writer= '/content/drive/MyDrive/python/dungchon/medical.xlsx') \n"
      ],
      "metadata": {
        "id": "U1FcwgmzWNMI"
      },
      "execution_count": null,
      "outputs": []
    },
    {
      "cell_type": "code",
      "source": [
        "df_환보 = df[df['모집단위'].str.contains('보건+')]\n",
        "print(df_환보)"
      ],
      "metadata": {
        "id": "RyKhvNc58gul"
      },
      "execution_count": null,
      "outputs": []
    },
    {
      "cell_type": "code",
      "source": [
        "df.columns"
      ],
      "metadata": {
        "id": "sWJ9UB-5ySWU"
      },
      "execution_count": null,
      "outputs": []
    },
    {
      "cell_type": "code",
      "source": [
        "df.info()"
      ],
      "metadata": {
        "id": "CVMeAj-y3Hzr"
      },
      "execution_count": null,
      "outputs": []
    },
    {
      "cell_type": "code",
      "source": [
        "df.describe()"
      ],
      "metadata": {
        "id": "5-cPwJdOJGW4"
      },
      "execution_count": null,
      "outputs": []
    },
    {
      "cell_type": "code",
      "source": [
        "#결측값 갯수 세는 법: 방법1\n",
        "df.isnull().sum()\n",
        "\n",
        "#np.sum(pd.isnull(df)) - np로 결측값 세기: 방법2"
      ],
      "metadata": {
        "id": "4D6J8QeKmSz-"
      },
      "execution_count": null,
      "outputs": []
    },
    {
      "cell_type": "code",
      "source": [
        "# 서울 주요대학 수시합격자수 출력\n",
        "uni = ['서울대', '연세대', '고려대', '서강대', '성균관대', '한양대', '중앙대', '경희대', '한국외대', '서울시립대', '이화여대', '건국대', '동국대', '홍익대']\n",
        "print(\"\\n***2023학년도 등촌고 합격자수***\")\n",
        "\n",
        "for u in range(len(uni)):\n",
        "    df_주요대 = df[(df.대학 == uni[u]) & (df.최종 == '합')]\n",
        "    df_주요대 = df_주요대[['수시정시', '학번', '대학', '최종']]\n",
        "    print(uni[u], str(len(df_주요대['대학']))+\"명\")  "
      ],
      "metadata": {
        "id": "7wlaDNIhjIWi"
      },
      "execution_count": null,
      "outputs": []
    },
    {
      "cell_type": "code",
      "source": [
        "uni = ['서울대', '연세대', '고려대', '서강대', '성균관대', '한양대', '중앙대', '경희대', '한국외대', '서울시립대', '이화여대', '건국대', '동국대', '홍익대']\n",
        "\n",
        "print(\"\\n***2023학년도 등촌고 합격자수***\")\n",
        "\n",
        "for u in uni:\n",
        "    df_주요대 = df[(df.대학 == u) & (df.최종 == '합')]\n",
        "    df_주요대 = df_주요대[['수시정시', '학번', '대학', '최종']]\n",
        "    \n",
        "    num_수시 = len(df_주요대[df_주요대['수시정시'] == '수시'])\n",
        "    num_정시 = len(df_주요대[df_주요대['수시정시'] == '정시'])\n",
        "    \n",
        "    print(u, \"합격자수 - 수시:\", str(num_수시) + \"명,\", \"정시:\", str(num_정시) + \"명\")\n"
      ],
      "metadata": {
        "id": "LePUgrhNmMiF"
      },
      "execution_count": null,
      "outputs": []
    },
    {
      "cell_type": "code",
      "source": [
        "import matplotlib.pyplot as plt\n",
        "\n",
        "uni = ['서울대', '연세대', '고려대', '서강대', '성균관대', '한양대', '중앙대', '경희대', '한국외대', '서울시립대', '이화여대', '건국대', '동국대', '홍익대']\n",
        "\n",
        "num_수시_list = []  # 수시 합격자수를 저장할 리스트\n",
        "num_정시_list = []  # 정시 합격자수를 저장할 리스트\n",
        "\n",
        "for u in uni:\n",
        "    df_주요대 = df[(df.대학 == u) & (df.최종 == '합')]\n",
        "    df_주요대 = df_주요대[['수시정시', '학번', '대학', '최종']]\n",
        "    \n",
        "    num_수시 = len(df_주요대[df_주요대['수시정시'] == '수시'])\n",
        "    num_정시 = len(df_주요대[df_주요대['수시정시'] == '정시'])\n",
        "    \n",
        "    num_수시_list.append(num_수시)\n",
        "    num_정시_list.append(num_정시)\n",
        "\n",
        "# 누적 막대그래프 그리기\n",
        "plt.figure(figsize=(10, 6))\n",
        "plt.bar(uni, num_수시_list, label='수시')\n",
        "plt.bar(uni, num_정시_list, bottom=num_수시_list, label='정시')\n",
        "plt.xticks(rotation=45)\n",
        "plt.legend()\n",
        "plt.show()\n"
      ],
      "metadata": {
        "id": "Actub65om_XJ"
      },
      "execution_count": null,
      "outputs": []
    }
  ]
}