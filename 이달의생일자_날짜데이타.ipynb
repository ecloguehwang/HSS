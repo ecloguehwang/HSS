{
  "nbformat": 4,
  "nbformat_minor": 0,
  "metadata": {
    "colab": {
      "provenance": [],
      "mount_file_id": "1RKmXB2YB_5QVbc7wjNtkkVANR-P2P4at",
      "authorship_tag": "ABX9TyNHemCB+PYbdFCP4p2yqKOZ",
      "include_colab_link": true
    },
    "kernelspec": {
      "name": "python3",
      "display_name": "Python 3"
    },
    "language_info": {
      "name": "python"
    }
  },
  "cells": [
    {
      "cell_type": "markdown",
      "metadata": {
        "id": "view-in-github",
        "colab_type": "text"
      },
      "source": [
        "<a href=\"https://colab.research.google.com/github/ecloguehwang/HSS/blob/master/%EC%9D%B4%EB%8B%AC%EC%9D%98%EC%83%9D%EC%9D%BC%EC%9E%90_%EB%82%A0%EC%A7%9C%EB%8D%B0%EC%9D%B4%ED%83%80.ipynb\" target=\"_parent\"><img src=\"https://colab.research.google.com/assets/colab-badge.svg\" alt=\"Open In Colab\"/></a>"
      ]
    },
    {
      "cell_type": "code",
      "source": [
        "#생일 월을 입력하면 그 달 생일이 든 학생을 출력\n",
        "\n",
        "import pandas as pd\n",
        "from datetime import datetime, timedelta\n",
        "\n",
        "## 데이터 부르기: 구글 colab에 마운트(mount)하는 방법: 왼쪽 폴더 아이콘을 누르기-눈동자 왼쪽 파일마운트 아이콘 클릭- /content/drive/MyDrive/python폴더의 susi_2021simple.csv파일을 불러옴\n",
        "path = '/content/drive/MyDrive/python/deungchon/'\n",
        "df = pd.read_csv(f'{path}six.csv', encoding='cp949')\n",
        "\n",
        "# 월 입력 받기\n",
        "mon = int(input(\"어느 월의 생일자를 파악해 드릴까요?(숫자로 입력): \"))\n",
        "\n",
        "# loop over each filename\n",
        "students_with_birthday = []\n",
        "\n",
        "for index, row in df.iterrows():\n",
        "    name = row['이름']\n",
        "    df_birth_pd = pd.to_datetime(row['생년월일_학생'], format=\"%Y.%m.%d\")  # 해당 학생의 생년월일 시간 객체화\n",
        "    if df_birth_pd.month == mon:  # 생일이 입력한 월과 일치하는지 확인\n",
        "        students_with_birthday.append((name, df_birth_pd.strftime(\"%m월 %d일\")))  # (name, df_birth_pd) tuple\n",
        "\n",
        "if students_with_birthday:\n",
        "    print(f\"{mon}월에 생일인 학생은:\")\n",
        "    for student in students_with_birthday:\n",
        "        name, df_birth_pd = student\n",
        "        print(f\"\\033[34m{name}\\033[0m(으)로 생일은 {df_birth_pd}입니다\")  # 34m은 파란색 출력하는 ANSI 코드\n",
        "else:\n",
        "    print(f\"{mon}월에 생일이 있는 학생은 없습니다.\")"
      ],
      "metadata": {
        "id": "-UzkvwcGWq38"
      },
      "execution_count": null,
      "outputs": []
    },
    {
      "cell_type": "code",
      "source": [
        "#이름을 입력하면 만 18세이상 투표권자인지를 출력하는 코드: 출력할때 학생의 생일만 보여주기\n",
        "\n",
        "import pandas as pd\n",
        "from pytz import timezone\n",
        "from datetime import datetime, timedelta\n",
        "\n",
        "##  데이터 부르기 : 구글colab에 마운트(mount)하는 방법: 왼쪽 폴더아이콘을 누르기-눈동자 왼쪽 파일마운트 아이콘 클릭- /content/drive/MyDrive/python폴더의 susi_2021simple.csv파일을 불러옴\n",
        "path = '/content/drive/MyDrive/python/deungchon/'\n",
        "df = pd.read_csv(f'{path}six.csv', encoding = 'cp949')\n",
        "\n",
        "\n",
        "# 오늘 날짜\n",
        "today = datetime.now(timezone('Asia/Seoul')).replace(tzinfo=None)\n",
        "\n",
        "# 이름 입력받기\n",
        "name = input(\"학생 이름: \")\n",
        "\n",
        "# 해당 학생을 df에서 찾기\n",
        "df_name = df[df['이름'] == name]\n",
        "\n",
        "# 해당 학생의 생년월일 찾기\n",
        "df_birth = df_name['생년월일_학생']\n",
        "\n",
        "# 해당 학생의 생년월일 시간 객체화\n",
        "df_birth_pd = pd.to_datetime(df_birth, format=\"%Y.%m.%d\").iloc[0]\n",
        "\n",
        "# 학생의 생년월일 객체 중 월일만 뽑아냄\n",
        "df_birth_pd_formatted = df_birth_pd.strftime(\"%m월 %d일\")\n",
        "\n",
        "# 오늘로부터 18년 전의 날짜 계산\n",
        "eighteen_years_ago = today - timedelta(days=365*18)\n",
        "\n",
        "# 오늘 날짜 포맷 변경\n",
        "today_formatted = today.strftime(\"%m월 %d일\")\n",
        "\n",
        "print(\"------------------------------\")\n",
        "if df_birth_pd <= eighteen_years_ago:\n",
        "    print(\"오늘({})기준으로 생년월일이 {}인 {}학생은 만18세 이상으로 투표권이 있습니다.\".format(today_formatted, df_birth_pd_formatted, name))\n",
        "else:\n",
        "    print(\"오늘({})기준으로 생년월일이 {}인 {}학생은 만18세 미만으로 투표권이 없습니다.\".format(today_formatted, df_birth_pd_formatted, name))"
      ],
      "metadata": {
        "id": "bv9bT83U0o4y"
      },
      "execution_count": null,
      "outputs": []
    },
    {
      "cell_type": "code",
      "source": [
        "#오늘자로 투표권여부를 출력 A: 문자열 format 함수 사용\n",
        "\n",
        "import pandas as pd\n",
        "from pytz import timezone\n",
        "from datetime import datetime, timedelta\n",
        "\n",
        "## 데이터 부르기: 구글 colab에 마운트(mount)하는 방법\n",
        "path = '/content/drive/MyDrive/python/deungchon/'\n",
        "df = pd.read_csv(f'{path}six.csv', encoding='cp949')\n",
        "\n",
        "# 오늘 날짜\n",
        "today = datetime.now(timezone('Asia/Seoul')).replace(tzinfo=None)\n",
        "\n",
        "# loop over each student\n",
        "for index, row in df.iterrows():\n",
        "    name = row['이름']\n",
        "    birth_date = pd.to_datetime(row['생년월일_학생'], format=\"%Y.%m.%d\")\n",
        "    age = (today - birth_date) // timedelta(days=365)\n",
        "\n",
        "    # 오늘 날짜 포맷 변경\n",
        "    today_formatted = today.strftime(\"%m월 %d일\")\n",
        "    birth_date_formatted = birth_date.strftime(\"%m월 %d일\")\n",
        "\n",
        "    if age >= 18:\n",
        "        print(\"오늘({})자로 생일이 {}인 {}학생은 만 18세 이상으로 투표권이 \\033[31m있습니다\\033[0m.\".format(today_formatted, birth_date_formatted, name))\n",
        "    else:\n",
        "        print(\"오늘({})자로 생일이 {}인 {}학생은 만 18세 미만으로 투표권이 없습니다.\".format(today_formatted, birth_date_formatted, name))"
      ],
      "metadata": {
        "id": "4PQ7en2wkXV5"
      },
      "execution_count": null,
      "outputs": []
    },
    {
      "cell_type": "code",
      "source": [
        "#오늘자로 투표권여부를 출력 B: 문자열 format 함수 미사용\n",
        "\n",
        "import pandas as pd\n",
        "from pytz import timezone\n",
        "from datetime import datetime, timedelta\n",
        "\n",
        "## 데이터 부르기: 구글 colab에 마운트(mount)하는 방법\n",
        "path = '/content/drive/MyDrive/python/deungchon/'\n",
        "df = pd.read_csv(f'{path}six.csv', encoding='cp949')\n",
        "\n",
        "# 오늘 날짜\n",
        "today = datetime.now(timezone('Asia/Seoul')).replace(tzinfo=None)\n",
        "\n",
        "# loop over each student\n",
        "for index, row in df.iterrows():\n",
        "    name = row['이름']\n",
        "    birth_date = pd.to_datetime(row['생년월일_학생'], format=\"%Y.%m.%d\")\n",
        "    age = (today - birth_date) // timedelta(days=365)\n",
        "\n",
        "    # 오늘 날짜 포맷 변경\n",
        "    today_formatted = today.strftime(\"%m월 %d일\")\n",
        "    birth_date_formatted = birth_date.strftime(\"%m월 %d일\")\n",
        "\n",
        "    if age >= 18:\n",
        "        print(f\"오늘({today_formatted})자로 생일이 {birth_date_formatted}인 {name}학생은 만 18세 이상으로 투표권이 \\033[31m있습니다\\033[0m.\")\n",
        "    else:\n",
        "        print(f\"오늘({today_formatted})자로 생일이 {birth_date_formatted}인 {name}학생은 만 18세 미만으로 투표권이 없습니다.\")"
      ],
      "metadata": {
        "id": "uFmqXhNriag3"
      },
      "execution_count": null,
      "outputs": []
    },
    {
      "cell_type": "code",
      "source": [
        "#생일이 가장 빠른 학생\n",
        "\n",
        "import pandas as pd\n",
        "from pytz import timezone\n",
        "from datetime import datetime\n",
        "\n",
        "## 데이터 부르기: 구글 colab에 마운트(mount)하는 방법: 왼쪽 폴더 아이콘을 누르기-눈동자 왼쪽 파일마운트 아이콘 클릭- /content/drive/MyDrive/python폴더의 susi_2021simple.csv파일을 불러옴\n",
        "path = '/content/drive/MyDrive/python/deungchon/'\n",
        "df = pd.read_csv(f'{path}six.csv', encoding='cp949')\n",
        "\n",
        "# 오늘 날짜\n",
        "#today = datetime.now(timezone('Asia/Seoul')).replace(tzinfo=None)\n",
        "\n",
        "# 가장 나이 많은 학생 찾기\n",
        "oldest_student = None\n",
        "oldest_birth_date = None\n",
        "\n",
        "for index, row in df.iterrows():\n",
        "    birth_date = pd.to_datetime(row['생년월일_학생'], format=\"%Y.%m.%d\")\n",
        "    if oldest_birth_date is None or birth_date < oldest_birth_date:\n",
        "        oldest_birth_date = birth_date\n",
        "        oldest_student = row['이름']\n",
        "\n",
        "if oldest_student is not None:\n",
        "    oldest_birth_date_formatted = oldest_birth_date.strftime(\"%m월 %d일\")\n",
        "    print(f\"생일이 가장 빠른 학생은 {oldest_student}로 생일은 {oldest_birth_date_formatted}입니다.\")\n",
        "else:\n",
        "    print(\"학생 정보가 없습니다.\")\n"
      ],
      "metadata": {
        "id": "zKn7OiUMhFhg"
      },
      "execution_count": null,
      "outputs": []
    },
    {
      "cell_type": "code",
      "source": [
        "#생일이 가장 늦은 학생\n",
        "\n",
        "import pandas as pd\n",
        "from pytz import timezone\n",
        "from datetime import datetime\n",
        "\n",
        "## 데이터 부르기: 구글 colab에 마운트(mount)하는 방법: 왼쪽 폴더 아이콘을 누르기-눈동자 왼쪽 파일마운트 아이콘 클릭- /content/drive/MyDrive/python폴더의 susi_2021simple.csv파일을 불러옴\n",
        "path = '/content/drive/MyDrive/python/deungchon/'\n",
        "df = pd.read_csv(f'{path}six.csv', encoding='cp949')\n",
        "\n",
        "# 오늘 날짜\n",
        "#today = datetime.now(timezone('Asia/Seoul')).replace(tzinfo=None)\n",
        "\n",
        "# 가장 어린 학생 찾기\n",
        "youngest_student = None\n",
        "youngest_birth_date = None\n",
        "\n",
        "for index, row in df.iterrows():\n",
        "    birth_date = pd.to_datetime(row['생년월일_학생'], format=\"%Y.%m.%d\")\n",
        "    if youngest_birth_date is None or birth_date > youngest_birth_date:\n",
        "        youngest_birth_date = birth_date\n",
        "        youngest_student = row['이름']\n",
        "\n",
        "if youngest_student is not None:\n",
        "    youngest_birth_date_formatted = youngest_birth_date.strftime(\"%m월 %d일\")\n",
        "    print(f\"생일이 가장 늦은 학생은 {youngest_student}로 생일은 {youngest_birth_date_formatted}입니다.\")\n",
        "else:\n",
        "    print(\"학생 정보가 없습니다.\")\n"
      ],
      "metadata": {
        "id": "xtr7ANChgl__"
      },
      "execution_count": null,
      "outputs": []
    },
    {
      "cell_type": "code",
      "source": [
        "# iterrows()를 설명하는 예제\n",
        "\n",
        "import pandas as pd\n",
        "\n",
        "# Create a sample DataFrame\n",
        "data = {'Name': ['John', 'Alice', 'Bob'],\n",
        "        'Age': [25, 30, 35],\n",
        "        'Country': ['USA', 'Canada', 'UK']}\n",
        "df = pd.DataFrame(data)\n",
        "\n",
        "# Iterate over the rows using iterrows()\n",
        "for index, row in df.iterrows():\n",
        "    print(f\"Index: {index}\")\n",
        "    print(f\"Name: {row['Name']}\")\n",
        "    print(f\"Age: {row['Age']}\")\n",
        "    print(f\"Country: {row['Country']}\")\n",
        "    print(\"-----------------\")"
      ],
      "metadata": {
        "colab": {
          "base_uri": "https://localhost:8080/"
        },
        "id": "Cm0end4LwtrI",
        "outputId": "f4be7606-9d38-4546-bedc-bd8349906279"
      },
      "execution_count": null,
      "outputs": [
        {
          "output_type": "stream",
          "name": "stdout",
          "text": [
            "Index: 0\n",
            "Name: John\n",
            "Age: 25\n",
            "Country: USA\n",
            "-----------------\n",
            "Index: 1\n",
            "Name: Alice\n",
            "Age: 30\n",
            "Country: Canada\n",
            "-----------------\n",
            "Index: 2\n",
            "Name: Bob\n",
            "Age: 35\n",
            "Country: UK\n",
            "-----------------\n"
          ]
        }
      ]
    }
  ]
}