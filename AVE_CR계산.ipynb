{
  "nbformat": 4,
  "nbformat_minor": 0,
  "metadata": {
    "colab": {
      "provenance": [],
      "authorship_tag": "ABX9TyOSLZ0eBSK2RWPylyL1NyUQ",
      "include_colab_link": true
    },
    "kernelspec": {
      "name": "python3",
      "display_name": "Python 3"
    },
    "language_info": {
      "name": "python"
    }
  },
  "cells": [
    {
      "cell_type": "markdown",
      "metadata": {
        "id": "view-in-github",
        "colab_type": "text"
      },
      "source": [
        "<a href=\"https://colab.research.google.com/github/ecloguehwang/HSS/blob/master/AVE_CR%EA%B3%84%EC%82%B0.ipynb\" target=\"_parent\"><img src=\"https://colab.research.google.com/assets/colab-badge.svg\" alt=\"Open In Colab\"/></a>"
      ]
    },
    {
      "cell_type": "code",
      "source": [
        "# 표준화 회귀계수(요인 적재량)로 AVE, Composite Reliability(CR) 계산하기\n",
        "\n",
        "def calculate_average(r):\n",
        "    # Calculate the numerator and denominator for average calculation\n",
        "    numerator_average = sum(val ** 2 for val in r)\n",
        "    denominator_average = numerator_average + sum(1 - val ** 2 for val in r)\n",
        "\n",
        "    # Calculate the numerator and denominator for cr calculation\n",
        "    numerator_cr = sum(r) ** 2\n",
        "    denominator_cr = numerator_cr + sum(1 - val ** 2 for val in r)\n",
        "\n",
        "    # Calculate the average and cr using the formulas\n",
        "    average = round(numerator_average / denominator_average, 2)\n",
        "    cr = round(numerator_cr / denominator_cr, 2)\n",
        "\n",
        "    return average, cr\n",
        "\n",
        "# Get the number of r coefficients from the user\n",
        "num_coefficients = int(input(\"몇개의 표준화 계수(요인 적재량)를 계산하고 싶나요?: \"))\n",
        "\n",
        "# Get the values of r from the user\n",
        "r_values = []\n",
        "for i in range(num_coefficients):\n",
        "    r = float(input(f\"표준화 계수(요인 적재량) {i + 1}: \"))\n",
        "    r_values.append(r)\n",
        "\n",
        "# Calculate the average and cr using the provided formulas\n",
        "average, cr = calculate_average(r_values)\n",
        "\n",
        "# Print the results\n",
        "print(\"----------------\")\n",
        "print(\"AVE:\", average)\n",
        "print(\"CR:\", cr)"
      ],
      "metadata": {
        "colab": {
          "base_uri": "https://localhost:8080/",
          "height": 0
        },
        "id": "4K5zBrlZsbG8",
        "outputId": "a429ad5a-7a61-4225-c0b6-8f8ad7374f3a"
      },
      "execution_count": 17,
      "outputs": [
        {
          "output_type": "stream",
          "name": "stdout",
          "text": [
            "몇개의 표준화 회귀계수(요인 적재량)를 계산하고 싶나요?: 3\n",
            "회귀계수(요인 적재량) 1: 0.848\n",
            "회귀계수(요인 적재량) 2: 0.656\n",
            "회귀계수(요인 적재량) 3: 0.685\n",
            "----------------\n",
            "AVE: 0.54\n",
            "CR: 0.78\n"
          ]
        }
      ]
    }
  ]
}