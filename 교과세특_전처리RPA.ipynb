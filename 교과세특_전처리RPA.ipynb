{
  "nbformat": 4,
  "nbformat_minor": 0,
  "metadata": {
    "colab": {
      "provenance": [],
      "mount_file_id": "1Ymx_CBOcntSnlXA_oJomv3bmVvJDmPXY",
      "authorship_tag": "ABX9TyPFpq1zVrwMlt0DqdOZBE+K",
      "include_colab_link": true
    },
    "kernelspec": {
      "name": "python3",
      "display_name": "Python 3"
    },
    "language_info": {
      "name": "python"
    }
  },
  "cells": [
    {
      "cell_type": "markdown",
      "metadata": {
        "id": "view-in-github",
        "colab_type": "text"
      },
      "source": [
        "<a href=\"https://colab.research.google.com/github/ecloguehwang/HSS/blob/master/%EA%B5%90%EA%B3%BC%EC%84%B8%ED%8A%B9_%EC%A0%84%EC%B2%98%EB%A6%ACRPA.ipynb\" target=\"_parent\"><img src=\"https://colab.research.google.com/assets/colab-badge.svg\" alt=\"Open In Colab\"/></a>"
      ]
    },
    {
      "cell_type": "markdown",
      "source": [
        "데이타 전처리 방법\n",
        "1. 원데이타를 srecord_raw_306.csv로 다른이름 저장\n",
        "2. srecord_raw_306.csv 파일을 열어 불필요한 header 윗부분 삭제\n",
        "3. 열(변수명)이름의 공백을 제거 (ex: '이 름'을 '이름'으로)\n",
        "4. '세부능력 및 특기사항' 열의 변수명을 '세특'으로 짧게 변경\n",
        "5. 변경내용을 저장\n",
        "6. 구글 드라이브에 srecord_raw_306.csv파일을 올려놓기(upload)\n",
        "7. Colab에서 srecord_raw_306.csv 파일을 불러오기"
      ],
      "metadata": {
        "id": "DKyUpfyvmZLI"
      }
    },
    {
      "cell_type": "code",
      "source": [
        "import pandas as pd\n",
        "\n",
        "# Read the Excel file into a pandas DataFrame\n",
        "df = pd.read_csv('/content/drive/MyDrive/python/dungchon/srecord_306_raw.csv', encoding='cp949')\n",
        "\n",
        "# remove 이름과 세특 열 사이의 불필요한 'Unnamed: 4' column\n",
        "df = df.drop('Unnamed: 4', axis=1)\n",
        "\n",
        "# remove rows with only NaN values\n",
        "df = df.dropna(how='all')  \n",
        "\n",
        "# fill missing values in '이름' column with previous value\n",
        "df['이름'] = df['이름'].fillna(method='ffill')\n",
        "\n",
        "# fill missing values in '세특' column with next value\n",
        "df['세특'] = df.fillna(method='bfill', axis=1)['세특']\n",
        "\n",
        "# replace them with empty strings before extracting the first five characters:\n",
        "df['세특'] = df['세특'].fillna('').astype(str)\n",
        "df['과목'] = df['과목'].fillna(df['세특'].str[:5])\n",
        "\n",
        "# replace missing values in '과목' column with the first to fifth characters of '세특' column\n",
        "df['과목'] = df.apply(lambda x: x['세특'][0:5] if pd.isna(x['과목']) else x['과목'], axis=1)\n",
        "\n",
        "# replace NaN values in 'Unnamed: 12' column with empty string\n",
        "df['Unnamed: 12'] = df['Unnamed: 12'].fillna('')\n",
        "\n",
        "# Remove rows containing '등촌고등학교'\n",
        "df = df[~df['Unnamed: 12'].str.contains('등촌고등학교')]\n",
        "\n",
        "# sort data by '이름' column\n",
        "df = df.sort_values('이름')\n",
        "\n",
        "# fill missing values in '이름' column with previous value\n",
        "df['이름'] = df['이름'].fillna(method='ffill')\n",
        "\n",
        "# Write the cleaned DataFrame back to Excel\n",
        "df.to_excel('/content/drive/MyDrive/python/dungchon/result_d/srecord_RPA.xlsx', index=False)\n"
      ],
      "metadata": {
        "id": "3g4wQACd-O-M"
      },
      "execution_count": 1,
      "outputs": []
    }
  ]
}