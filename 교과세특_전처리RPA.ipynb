{
  "nbformat": 4,
  "nbformat_minor": 0,
  "metadata": {
    "colab": {
      "provenance": [],
      "mount_file_id": "1Ymx_CBOcntSnlXA_oJomv3bmVvJDmPXY",
      "authorship_tag": "ABX9TyOCvYwus356oav2FKy68krs",
      "include_colab_link": true
    },
    "kernelspec": {
      "name": "python3",
      "display_name": "Python 3"
    },
    "language_info": {
      "name": "python"
    }
  },
  "cells": [
    {
      "cell_type": "markdown",
      "metadata": {
        "id": "view-in-github",
        "colab_type": "text"
      },
      "source": [
        "<a href=\"https://colab.research.google.com/github/ecloguehwang/HSS/blob/master/%EA%B5%90%EA%B3%BC%EC%84%B8%ED%8A%B9_%EC%A0%84%EC%B2%98%EB%A6%ACRPA.ipynb\" target=\"_parent\"><img src=\"https://colab.research.google.com/assets/colab-badge.svg\" alt=\"Open In Colab\"/></a>"
      ]
    },
    {
      "cell_type": "markdown",
      "source": [
        "## 교과세특 전처리 과정\n",
        "###1. 불필요한 1~3행을 삭제\n",
        "###2. '번 호'를 번호로 수정\n",
        "###3. '성 명'을 성명으로 수정\n",
        "###3. '학 년'을 학년으로 수정\n",
        "###4. '세부능력 및 특기사항'을 '세특'으로 수정\n",
        "###5. 인덱스(10번째 행)을 index(첫번째 열)로 이동시키기\n",
        "###5. 열 '성명' 다음행의 '성명'이 비어 있고, '세특' 내용이 빈칸에 아니면(있으면) 바로 앞 행의 성명으로 대체\n",
        "###6. '성명' 열이 빈칸이 아닌데 번호가 비어"
      ],
      "metadata": {
        "id": "IRP7mviqyKeh"
      }
    },
    {
      "cell_type": "code",
      "source": [
        "#세특 내용을 합치기~\n",
        "import pandas as pd\n",
        "import openpyxl\n",
        "\n",
        "\n",
        "# Read the Excel file into a pandas DataFrame\n",
        "path = '/content/drive/MyDrive/python/deungchon/'\n",
        "df = pd.read_csv(f'{path}srecord_306_raw_full.csv', encoding='cp949')\n",
        "\n",
        "\n",
        "#1. 불필요한 행삭제: 1~3행 삭제\n",
        "df = df.drop(range(0, 6))\n",
        "\n",
        "\n",
        "#2. 이름과 세특 열 사이의 불필요한 'Unnamed: 3' column 삭제\n",
        "df = df.drop(labels='Unnamed: 3', axis=1)\n",
        "\n",
        "\n",
        "#3. remove rows with only NaN values\n",
        "df = df.dropna(how='all')\n",
        "\n",
        "#4. 비어있는 5번째열부터 끝까지 삭제\n",
        "\n",
        "# Get the index of 'Unnamed: 5'\n",
        "start_idx = df.columns.get_loc('Unnamed: 5')\n",
        "\n",
        "# Drop all columns from 'Unnamed: 5' to the end\n",
        "df = df.iloc[:, :start_idx]\n",
        "\n",
        "\n",
        "#6. 열(번수) 이름 변경\n",
        "df.columns = ['번호', '성명', '학년', '세특']\n",
        "\n",
        "\n",
        "# 6번 행을 삭제\n",
        "df = df.drop(6)\n",
        "\n",
        "# 인덱스 재설정 (선택사항)\n",
        "df = df.reset_index(drop=True)\n",
        "\n",
        "\n",
        "# remove rows with only NaN values\n",
        "df = df.dropna(how='all')\n",
        "\n",
        "# fill missing values in '이름' column with previous value\n",
        "df['학년'] = df['학년'].fillna(method='ffill')\n",
        "\n",
        "# Find the index of rows where the '번호' column is equal to '번 호'\n",
        "rows_to_drop = df[df['번호'] == '번 호'].index\n",
        "\n",
        "# Drop the rows by index\n",
        "df = df.drop(rows_to_drop)\n",
        "\n",
        "# fill missing values in '이름' column with previous value\n",
        "df['번호'] = df['번호'].fillna(method='ffill')\n",
        "\n",
        "\n",
        "# fill missing values in '이름' column with previous value\n",
        "df['성명'] = df['성명'].fillna(method='ffill')\n",
        "\n",
        "\n",
        "# Iterate through the DataFrame's index starting from the second row\n",
        "df = df.drop(labels='학년', axis=1)\n",
        "\n",
        "# '번호' 열을 기준으로 그룹화\n",
        "grouped = df.groupby('성명')\n",
        "\n",
        "\n",
        "# 각 그룹에서 '세특' 열의 문자열 값을 합치고, 나머지 열의 경우 첫 번째 값을 사용\n",
        "def combine_special(row):\n",
        "    return ', '.join(map(str, row))\n",
        "\n",
        "\n",
        "result = grouped.agg({\n",
        "    '번호': 'first',\n",
        "    '세특': combine_special\n",
        "})\n",
        "\n",
        "# 인덱스 재설정 (선택사항)\n",
        "result = result.reset_index()\n",
        "\n",
        "\n",
        "#저장경로\n",
        "path = '/content/drive/MyDrive/python/deungchon/result_s/'\n",
        "\n",
        "#저장디렉토리\n",
        "result.to_excel(f'{path}seteuk_306.xlsx', index=False, engine='openpyxl')"
      ],
      "metadata": {
        "id": "f57DEcu8qP6I"
      },
      "execution_count": 2,
      "outputs": []
    },
    {
      "cell_type": "code",
      "source": [
        "#특정 열(변수)에 결측값이 있는지 확인\n",
        "import pandas as pd\n",
        "\n",
        "# Assuming 'df' is your DataFrame and 'column_name' is the name of the column you want to check\n",
        "if df['세특'].isna().any():\n",
        "    print(\"There are NA values in the column.\")\n",
        "else:\n",
        "    print(\"No NA values found in the column.\")"
      ],
      "metadata": {
        "colab": {
          "base_uri": "https://localhost:8080/"
        },
        "id": "SH0MxnOspxFF",
        "outputId": "cbee49ce-b5ea-4f91-ef91-0de960868e39"
      },
      "execution_count": null,
      "outputs": [
        {
          "output_type": "stream",
          "name": "stdout",
          "text": [
            "There are NA values in the column.\n"
          ]
        }
      ]
    },
    {
      "cell_type": "code",
      "source": [
        "#학년 열에서 '학 년'이면 앞학년으로 대치하는 코드: 아직 미완성~\n",
        "import pandas as pd\n",
        "\n",
        "# Read the Excel file into a pandas DataFrame\n",
        "path = '/content/drive/MyDrive/python/deungchon/'\n",
        "df = pd.read_csv(f'{path}srecord_306_raw_full.csv', encoding='cp949')\n",
        "\n",
        "\n",
        "#1. 불필요한 행삭제: 1~3행 삭제\n",
        "df = df.drop(range(0, 6))\n",
        "\n",
        "\n",
        "#2. 이름과 세특 열 사이의 불필요한 'Unnamed: 3' column 삭제\n",
        "df = df.drop(labels='Unnamed: 3', axis=1)\n",
        "\n",
        "\n",
        "#3. remove rows with only NaN values\n",
        "df = df.dropna(how='all')\n",
        "\n",
        "#4. 비어있는 5번째열부터 끝까지 삭제\n",
        "\n",
        "# Get the index of 'Unnamed: 5'\n",
        "start_idx = df.columns.get_loc('Unnamed: 5')\n",
        "\n",
        "# Drop all columns from 'Unnamed: 5' to the end\n",
        "df = df.iloc[:, :start_idx]\n",
        "\n",
        "\n",
        "#6. 열(번수) 이름 변경\n",
        "df.columns = ['번호', '성명', '학년', '세특']\n",
        "\n",
        "\n",
        "# 6번 행을 삭제\n",
        "df = df.drop(6)\n",
        "\n",
        "# 인덱스 재설정 (선택사항)\n",
        "df = df.reset_index(drop=True)\n",
        "\n",
        "\n",
        "# remove rows with only NaN values\n",
        "df = df.dropna(how='all')\n",
        "\n",
        "# fill missing values in '이름' column with previous value\n",
        "df['학년'] = df['학년'].fillna(method='ffill')\n",
        "\n",
        "# Find the index of rows where the '번호' column is equal to '번 호'\n",
        "rows_to_drop = df[df['번호'] == '번 호'].index\n",
        "\n",
        "# Drop the rows by index\n",
        "df = df.drop(rows_to_drop)\n",
        "\n",
        "# fill missing values in '이름' column with previous value\n",
        "df['번호'] = df['번호'].fillna(method='ffill')\n",
        "\n",
        "\n",
        "# fill missing values in '이름' column with previous value\n",
        "df['성명'] = df['성명'].fillna(method='ffill')\n",
        "\n",
        "\n",
        "# Iterate through the DataFrame's index starting from the second row\n",
        "for i in df.index[1:]:\n",
        "    # If the previous index doesn't exist, skip to the next iteration\n",
        "    if i - 1 not in df.index:\n",
        "        continue\n",
        "\n",
        "    if df.loc[i, '학년'] == '학 년':\n",
        "        df.loc[i, '학년'] = df.loc[i - 1, '학년']\n",
        "\n",
        "#df.iloc[30:40, :]\n",
        "df.head(20)"
      ],
      "metadata": {
        "id": "_j4F_G1z_jo9"
      },
      "execution_count": null,
      "outputs": []
    }
  ]
}