{
  "nbformat": 4,
  "nbformat_minor": 0,
  "metadata": {
    "colab": {
      "provenance": [],
      "mount_file_id": "1xYwueBokrQ3MIq1Wp3Es8u3r8YTIwCsV",
      "authorship_tag": "ABX9TyM7FLmCwq8AAFtDoRWKFX22",
      "include_colab_link": true
    },
    "kernelspec": {
      "name": "python3",
      "display_name": "Python 3"
    },
    "language_info": {
      "name": "python"
    },
    "gpuClass": "standard"
  },
  "cells": [
    {
      "cell_type": "markdown",
      "metadata": {
        "id": "view-in-github",
        "colab_type": "text"
      },
      "source": [
        "<a href=\"https://colab.research.google.com/github/ecloguehwang/HSS/blob/master/%EC%88%98%EC%8B%9C%EC%A0%84%ED%98%95%EB%B3%84%EC%A7%80%EC%9B%90%ED%8C%A8%ED%84%B4_D%EA%B3%A0RPA_%ED%95%99%EC%83%9D%EC%9A%A9.ipynb\" target=\"_parent\"><img src=\"https://colab.research.google.com/assets/colab-badge.svg\" alt=\"Open In Colab\"/></a>"
      ]
    },
    {
      "cell_type": "code",
      "source": [
        "#colab에서 matplotlib와 sns 라이브러리 그래프 한글을 깨지지 않게 하는 법: 실행하고 런타임 재시작\n",
        "!sudo apt-get install -y fonts-nanum\n",
        "!sudo fc-cache -fv\n",
        "!rm ~/.cache/matplotlib -rf"
      ],
      "metadata": {
        "id": "H3gnRg-ETyhF"
      },
      "execution_count": null,
      "outputs": []
    },
    {
      "cell_type": "code",
      "source": [
        "#pandas, openpyxl 라이브러리 부르기\n",
        "import pandas as pd\n",
        "import numpy as np\n",
        "import os\n",
        "import openpyxl\n",
        "import csv\n",
        "import matplotlib.pyplot as plt\n",
        "\n",
        "##  데이터 부르기 : 구글colab에 마운트(mount)하는 방법: 왼쪽 폴더아이콘을 누르기-눈동자 왼쪽 파일마운트 아이콘 클릭- /content/drive/MyDrive/python폴더의 susi_2021simple.csv파일을 불러옴\n",
        "path = '/content/drive/MyDrive/python/deungchon/'\n",
        "df = pd.read_csv(f'{path}susi_jsi.csv', encoding = 'cp949')\n",
        "#df = pd.read_csv(f'{path}susi_jsi_noname.csv', encoding = 'cp949')\n",
        "\n",
        "# 첫 5줄을 봅니다.\n",
        "df.head(1)"
      ],
      "metadata": {
        "id": "8R5FWLi09yc1"
      },
      "execution_count": null,
      "outputs": []
    },
    {
      "cell_type": "code",
      "source": [
        "#matplotlib에서 한글구현\n",
        "plt.rc('font', family='NanumBarunGothic')\n",
        "\n",
        "#그래프 마이너스 기호 깨짐 방지\n",
        "plt.rcParams['axes.unicode_minus'] = False"
      ],
      "metadata": {
        "id": "Jbitabx6T2Jl"
      },
      "execution_count": 2,
      "outputs": []
    },
    {
      "cell_type": "code",
      "source": [
        "#1.내신등급의 구간별 교과, 종합의 합격률 그래프\n",
        "\n",
        "import numpy as np\n",
        "import pandas as pd\n",
        "import matplotlib.pyplot as plt\n",
        "\n",
        "# 최저 등급과 최고 등급을 입력받기\n",
        "min_grade = float(input(\"최저등급을 입력하세요: \"))\n",
        "max_grade = float(input(\"최고등급을 입력하세요: \"))\n",
        "\n",
        "# 구간 크기 입력받기\n",
        "interval_size = float(input(\"구간 크기를 입력하세요: \"))\n",
        "\n",
        "\n",
        "# 최저 등급부터 최고 등급까지 구간별로 반복\n",
        "fig, axes = plt.subplots(1, int((max_grade - min_grade) / interval_size), figsize=(10, 4), sharey=True)  # 서브플롯 생성\n",
        "for i, grade in enumerate(np.arange(min_grade, max_grade, interval_size)):\n",
        "    mx = grade + interval_size\n",
        "    mi = grade\n",
        "\n",
        "    # mx이상 mi이하 조건을 충족하는 객체 만들기\n",
        "    df_interval = df[(df.내신_전과목 >= mi) & (df.내신_전과목 < mx) & ~(df.전형분류 == '수능')].copy()\n",
        "\n",
        "    # '전형분류'별 지원 건수 계산\n",
        "    grouped = df_interval.groupby('전형분류').size().reset_index(name='지원건수')\n",
        "\n",
        "    # '전형분류'별 합격 건수 계산\n",
        "    grouped_pass = df_interval[df_interval['최종'] == '합'].groupby('전형분류').size().reset_index(name='합격건수')\n",
        "\n",
        "    # 합치기\n",
        "    grouped = pd.merge(grouped, grouped_pass, on='전형분류')\n",
        "\n",
        "    # 합격률 계산\n",
        "    grouped['합격률'] = (grouped['합격건수'] / grouped['지원건수'] * 100).round(2)\n",
        "\n",
        "    # Plotting\n",
        "    # Plotting\n",
        "    ax = axes[i]\n",
        "    bars = ax.bar(grouped['전형분류'], grouped['합격률'], width=0.3)\n",
        "    #ax.set_xlabel('전형분류')\n",
        "    if i == 0:\n",
        "        ax.set_ylabel('합격률 (%)')  # y 레이블은 첫 번째 서브플롯에만 표시\n",
        "    ax.set_title(f'{mi}-{mx}등급의 합격률(단위: %)', fontsize=8)\n",
        "    ax.set_xticks(np.arange(len(grouped['전형분류']))) # x축 틱 위치 설정\n",
        "    ax.set_xticklabels(grouped['전형분류'], rotation=30)  # x축 레이블 회전\n",
        "\n",
        "\n",
        "    # 각 막대 위에 값을 표시\n",
        "    for bar in bars:\n",
        "        yval = round(bar.get_height())  # 반올림\n",
        "        ax.text(bar.get_x() + bar.get_width()/2, yval + 0.5, yval, ha='center', va='bottom')\n",
        "\n",
        "plt.tight_layout()\n",
        "plt.show()"
      ],
      "metadata": {
        "colab": {
          "base_uri": "https://localhost:8080/",
          "height": 463
        },
        "id": "3KYTwT5mPGOU",
        "outputId": "9beab8a3-33a6-4a90-d0ff-565aca93822c"
      },
      "execution_count": 3,
      "outputs": [
        {
          "name": "stdout",
          "output_type": "stream",
          "text": [
            "최저등급을 입력하세요: 1.5\n",
            "최고등급을 입력하세요: 4\n",
            "구간 크기를 입력하세요: 0.5\n"
          ]
        },
        {
          "output_type": "display_data",
          "data": {
            "text/plain": [
              "<Figure size 1000x400 with 5 Axes>"
            ],
            "image/png": "[encoded data removed]"
          },
          "metadata": {}
        }
      ]
    },
    {
      "cell_type": "code",
      "source": [
        "#2. 내신구간별 교과, 종합 지원 건수 대비 합격률 구체적 내용\n",
        "import numpy as np\n",
        "import pandas as pd\n",
        "from tabulate import tabulate\n",
        "import matplotlib.pyplot as plt\n",
        "\n",
        "\n",
        "# 내신 구간별 지원패턴\n",
        "mx = float(input(\"이상:\"))\n",
        "mi = float(input(\"미만:\"))\n",
        "\n",
        "# mx이상 mi이하 조건을 충족하는 객체 만들기\n",
        "df_interval = df[(df.내신_전과목 >= mx) & (df.내신_전과목 < mi) & ~(df.전형분류 == '수능')].copy()\n",
        "\n",
        "# '전형분류'별 지원 건수 계산 (grouped에 저장됨)\n",
        "grouped = df_interval.groupby('전형분류').size().reset_index(name='지원건수')\n",
        "\n",
        "# '전형분류'별 합격 건수 계산\n",
        "grouped_pass = df_interval[df_interval['최종'] == '합'].groupby('전형분류').size().reset_index(name='합격건수')\n",
        "\n",
        "\n",
        "# 합치기\n",
        "grouped = pd.merge(grouped, grouped_pass, on='전형분류')\n",
        "\n",
        "# 합격률 계산\n",
        "grouped['합격률'] = (grouped['합격건수'] / grouped['지원건수'] * 100).round(2)\n",
        "\n",
        "#headers를 만듬\n",
        "all_headers = ['전형분류', '지원건수',  '합격건수', '합격률']\n",
        "\n",
        "# Create the formatted table using tabulate\n",
        "table_string = tabulate(grouped, headers = all_headers, tablefmt='plain')\n",
        "\n",
        "print(table_string)"
      ],
      "metadata": {
        "id": "qifWZ-4wWpWe"
      },
      "execution_count": null,
      "outputs": []
    },
    {
      "cell_type": "code",
      "source": [
        "#3. 해당 내신구간 학생들의 구체적 진학결과\n",
        "\n",
        "from tabulate import tabulate\n",
        "\n",
        "# 내신 구간별 지원패턴: 이름, 내신, 전형분류, 전형방법, 최종, 대학 출력\n",
        "mx = float(input(\"이상:\"))\n",
        "mi = float(input(\"미만:\"))\n",
        "\n",
        "# mx이상 mi이하 조건을 충족하는 객체 만들기\n",
        "df_interval = df[(df.내신_전과목 >= mx) & (df.내신_전과목 < mi) & ~(df.전형분류 == '수능')].copy()  # Note the .copy() here\n",
        "\n",
        "# Show first two letters and replace the third letter with an asterisk in '이름' column\n",
        "df_interval['이름'] = df_interval['이름'].apply(lambda x: x[:1] + '**' + x[3:] if len(x) >= 3 else x[:2])\n",
        "\n",
        "list_1 = df_interval[['이름', '내신_전과목', '전형분류', '대학', '모집단위', '최종']]\n",
        "\n",
        "#list_1 = df_interval[['이름', '내신_전과목', '전형분류', '전형방법', '최종', '대학', '모집단위']]\n",
        "all_headers = ['이름', '내신_전과목', '전형분류','대학', '모집단위', '최종']\n",
        "\n",
        "\n",
        "# Create the formatted table using tabulate\n",
        "table_string = tabulate(list_1, headers=all_headers, tablefmt='plain')\n",
        "print()\n",
        "print(table_string)\n",
        "print(\"------------------------------\")\n",
        "print(\"{}등급이상 {}등급미만 :{}건\".format(mx, mi, len(df_interval)))"
      ],
      "metadata": {
        "id": "2vUKZ-ZTc1q4"
      },
      "execution_count": null,
      "outputs": []
    },
    {
      "cell_type": "code",
      "source": [
        "#4. 지역균형(수시 교과) 합격자수와 합격률\n",
        "\n",
        "#라이브러리 불러오기\n",
        "from tabulate import tabulate\n",
        "\n",
        "\n",
        "#전형명 중 지역균형을 찾기\n",
        "df_지역균형 = df['전형명'].str.contains('^[지역균형]+')\n",
        "\n",
        "#지역균형 열들만 모으기\n",
        "subset_df = df.loc[df_지역균형]\n",
        "\n",
        "#지역균형 합(격자)를 모으기\n",
        "subset_df_p = subset_df.loc[subset_df['최종'] == '합'].copy()\n",
        "#subset_df_p = subset_df.loc[subset_df['최종'] == '불'].copy()\n",
        "\n",
        "\n",
        "#성만 표시하고 이름만 표시\n",
        "# Show first two letters and replace the third letter with an asterisk in '이름' column\n",
        "subset_df_p.loc[:, '이름'] = subset_df_p['이름'].apply(lambda x: x[:1] + '**' + x[3:] if len(x) >= 3 else x[:2])\n",
        "\n",
        "\n",
        "# 전체 응시자 수 (지역균형 전형에 해당하는 행의 수)\n",
        "total_applicants = len(df.loc[df_지역균형])\n",
        "\n",
        "# 합격자 수\n",
        "total_pass = len(subset_df_p)\n",
        "\n",
        "# 합격률 계산\n",
        "pass_rate = (total_pass / total_applicants) * 100\n",
        "\n",
        "#필요한 변수(열) 부르기\n",
        "subset_df_p = subset_df_p[['학번', '이름', '대학', '모집단위', '전형분류', '전형명',  '최종', '내신_전과목', '등급_평균', '백분위_평균', '표점합']]\n",
        "\n",
        "\n",
        "# '내신_전과목' column의 값들을 소수점 둘째 자리까지 반올림\n",
        "subset_df_p['내신_전과목'] = subset_df_p['내신_전과목'].round(2)\n",
        "\n",
        "# '백분위_평균' column의 값들을 소수점 둘째 자리까지 반올림\n",
        "subset_df_p['백분위_평균'] = subset_df_p['백분위_평균'].round(1)\n",
        "\n",
        "\n",
        "#list_1 = df_interval[['이름', '내신_전과목', '전형분류', '전형방법', '최종', '대학', '모집단위']]\n",
        "all_headers = ['학번', '이름', '대학', '모집단위', '전형분류', '전형명',  '최종', '내신_전과목', '등급_평균', '백분위_평균', '표점합']\n",
        "\n",
        "\n",
        "# Create the formatted table using tabulate\n",
        "table_string = tabulate(subset_df_p, headers=all_headers, tablefmt='plain')\n",
        "\n",
        "print(\"***2023학년도 등촌고 지역균형 합격자 명단***\")\n",
        "print(table_string)\n",
        "print(\"-----------------------------------------------------------------------------------------------------------------------------\")\n",
        "print(f\"2023학년도 D고 지역균형(수시 교과) 합격자는 지원자{total_applicants}명 중 {len(subset_df_p)}명입니다(복수합격 포함).\")\n",
        "print()\n",
        "print(f\"2023학년도 D고 지역균형(수시 교과) 합격률은 {pass_rate:.0f}%입니다.\") # 소수 둘째자리까지 출력"
      ],
      "metadata": {
        "id": "3UI-3GXjmrQm"
      },
      "execution_count": null,
      "outputs": []
    },
    {
      "cell_type": "code",
      "source": [
        "nesin = [col for col in df if '전형' in col]\n",
        "print(nesin)"
      ],
      "metadata": {
        "id": "lvtS56JWxyIe"
      },
      "execution_count": null,
      "outputs": []
    },
    {
      "cell_type": "code",
      "source": [
        "# 내신 구간별 지원경향: ex)2-2.5등급 - 교과 62% vs. 종합 38%\n",
        "mx = float(input(\"이상:\"))\n",
        "mi = float(input(\"미만:\"))\n",
        "\n",
        "# mx이상 mi이하 조건을 충족하는 객체 만들기\n",
        "df_interval = df[(df.내신_전과목 >= mx) & (df.내신_전과목 < mi) & ~(df.전형분류 == '수능')].copy()\n",
        "\n",
        "# Group by '전형분류' and count the frequency\n",
        "grouped = df_interval.groupby('전형분류').size().sort_values(ascending=False)\n",
        "\n",
        "# Compute percentages and add \"%\" to the end of each value\n",
        "total = len(df_interval)\n",
        "percentages = (grouped / total * 100).round(0).astype(str) + \"%\"\n",
        "\n",
        "# Combine frequency and percentage for display\n",
        "combined = pd.DataFrame({'빈도': grouped, '비율': percentages})\n",
        "\n",
        "print(combined)\n",
        "print(\"---------------------------------\")\n",
        "print(\"{}등급이상 {}등급미만 :{}건\".format(mx, mi, total))"
      ],
      "metadata": {
        "id": "CWcX06b-r7-b"
      },
      "execution_count": null,
      "outputs": []
    },
    {
      "cell_type": "code",
      "source": [
        "#내신구간별 교과, 종합 지원 건수 및 6장으로 환산\n",
        "import numpy as np\n",
        "import pandas as pd\n",
        "from tabulate import tabulate\n",
        "\n",
        "\n",
        "# 내신 구간별 지원패턴\n",
        "mx = float(input(\"이상:\"))\n",
        "mi = float(input(\"미만:\"))\n",
        "\n",
        "# mx이상 mi이하 조건을 충족하는 객체 만들기\n",
        "df_interval = df[(df.내신_전과목 >= mx) & (df.내신_전과목 < mi)].copy()\n",
        "\n",
        "# Group by '전형분류' and count the frequency\n",
        "grouped = df_interval.groupby('전형분류').size().sort_values(ascending=False).reset_index(name='빈도')\n",
        "\n",
        "grouped = grouped[~(grouped.전형분류 == '수능')]\n",
        "\n",
        "# Calculate the total\n",
        "total = grouped['빈도'].sum()\n",
        "\n",
        "# Compute the percentage\n",
        "grouped['비율'] = (grouped['빈도'] / total * 100).round(2)\n",
        "\n",
        "# Compute the fraction with a denominator of 6\n",
        "grouped['분수'] = (np.round(grouped['비율'] / 100 * 6)).astype(int).astype(str) + \"/6\"\n",
        "\n",
        "# Reorder the columns for display\n",
        "combined = grouped[['빈도', '분수', '비율', '전형분류']]\n",
        "\n",
        "\n",
        "#headers를 만듬\n",
        "all_headers = ['빈도', '분수', '비율', '전형분류']\n",
        "\n",
        "# Create the formatted table using tabulate\n",
        "table_string = tabulate(combined, headers = all_headers, tablefmt='plain')\n",
        "\n",
        "print(table_string)\n",
        "print(\"---------------------------------\")\n",
        "print(\"등촌고 {}등급 이상 {}등급 미만: {}건\".format(mx, mi, total))"
      ],
      "metadata": {
        "id": "wClad7eD7UNY"
      },
      "execution_count": null,
      "outputs": []
    },
    {
      "cell_type": "code",
      "source": [
        "# 수시 전체합격자들의 평균합격건수\n",
        "\n",
        "# 라이브러리\n",
        "import pandas as pd\n",
        "\n",
        "df = pd.read_csv('/content/drive/MyDrive/python/deungchon/susi_jsi.csv', encoding='cp949')\n",
        "\n",
        "# 4년제대 합격자\n",
        "kg_df = df[(df.최종 == '합') & ~(df.이름 == '이지은')]\n",
        "\n",
        "# 이름별 합격건수\n",
        "kg_df_count = kg_df.groupby('이름')['최종'].count()\n",
        "\n",
        "#1인당 최다 합격건수\n",
        "s_max = kg_df_count.max()\n",
        "\n",
        "# Convert the index to a modified version of itself\n",
        "kg_df_count.index = kg_df_count.index.map(lambda x: x[:2] + '*' + x[3:] if len(x) >= 3 else x[:2])\n",
        "\n",
        "\n",
        "#중복제외한 합격자\n",
        "st = kg_df['이름'].unique()\n",
        "\n",
        "\n",
        "#중복제외한 합격자\n",
        "st_num = len(st)\n",
        "\n",
        "\n",
        "#총합격건수\n",
        "#total = kg_df['최종'].count()\n",
        "total = len(kg_df)\n",
        "\n",
        "\n",
        "# 평균 합격 건수\n",
        "average_count = kg_df_count.mean().round(1)\n",
        "\n",
        "\n",
        "print(f\"합격자수는 {st_num}명이고 총합격건수는 {total}건입니다.\")\n",
        "print(f\"학생1인당 최다 합격건수는 {s_max}건입니다\")\n",
        "print()\n",
        "print(kg_df_count)\n",
        "print(f\"학생당 수시 6회 중 합격횟수: {average_count}건\")"
      ],
      "metadata": {
        "id": "-5Lrnvu8l7Rh"
      },
      "execution_count": null,
      "outputs": []
    },
    {
      "cell_type": "code",
      "source": [
        "# 4년제대 합격자들의 평균합격건수\n",
        "\n",
        "# 라이브러리\n",
        "import pandas as pd\n",
        "\n",
        "df = pd.read_csv('/content/drive/MyDrive/python/deungchon/susi_jsi.csv', encoding='cp949')\n",
        "\n",
        "# 4년제대 합격자\n",
        "kg_df = df[(df.최종 == '합') & ~(df.대학.str.contains(\"대학교\"))]\n",
        "\n",
        "# 이름별 합격건수\n",
        "kg_df_count = kg_df.groupby('이름')['최종'].count()\n",
        "\n",
        "\n",
        "# Convert the index to a modified version of itself\n",
        "kg_df_count.index = kg_df_count.index.map(lambda x: x[:2] + '*' + x[3:] if len(x) >= 3 else x[:2])\n",
        "\n",
        "\n",
        "#중복제외한 합격자\n",
        "st = kg_df['이름'].unique()\n",
        "\n",
        "\n",
        "#중복제외한 합격자\n",
        "st_num = len(st)\n",
        "\n",
        "\n",
        "#총합격건수\n",
        "#total = kg_df['최종'].count()\n",
        "total = len(kg_df)\n",
        "\n",
        "\n",
        "# 평균 합격 건수\n",
        "average_count = kg_df_count.mean().round(1)\n",
        "\n",
        "\n",
        "print(f\"합격자수는 {st_num}명이고 총합격건수는 {total}건입니다.\")\n",
        "print()\n",
        "print(kg_df_count)\n",
        "print(f\"학생당 수시 6회 중 합격횟수: {average_count}건\")"
      ],
      "metadata": {
        "id": "jwFtt0-Ffh-q"
      },
      "execution_count": null,
      "outputs": []
    },
    {
      "cell_type": "code",
      "source": [
        "#필요한 변수(열)만 불러옴\n",
        "kg_df = kg_df[['수시정시', '지역', '학번', '이름', '대학', '모집단위', '최종', '내신_전과목', '등급_평균', '전형분류']]\n",
        "#print(seoul_df)\n",
        "print(kg_df)\n",
        "\n",
        "\n",
        "#경기지역 합격자수\n",
        "print(\"\\n---------------------------------------------------------------------------------------\")\n",
        "print(\"2023학년도  D고 경기지역 대학 합격자수는 %d건입니다.(중복합격 포함)\" % len(kg_df))\n",
        "\n",
        "\n",
        "#데이터 프레임으로 전환\n",
        "kg_df_p = pd.DataFrame(kg_df)\n",
        "\n",
        "#결과를 엑셀로 저장\n",
        "kg_df_p.to_excel(excel_writer= '/content/drive/MyDrive/python/deungchon/result_d/kg.xlsx')"
      ],
      "metadata": {
        "id": "9s_yz5AQXYZE"
      },
      "execution_count": null,
      "outputs": []
    },
    {
      "cell_type": "code",
      "source": [
        "#특정대 지원자명단 및 합격건수\n",
        "\n",
        "#변수를 정렬해서 보여주는 라이브러리\n",
        "from tabulate import tabulate\n",
        "\n",
        "#대학 입력값\n",
        "uni = input('어느대학 지원자를 알고 싶나요?(4년제의 경우 대로 끝나게 입력):')\n",
        "\n",
        "\n",
        "#대학 지원자 추출\n",
        "kg_df = df[(df.대학 == uni)].copy()\n",
        "\n",
        "#지원건수\n",
        "kg_df_num =len(kg_df)\n",
        "\n",
        "\n",
        "# 성만 나오고 이름은 별표 표시\n",
        "kg_df['이름'] = kg_df['이름'].apply(lambda x: x[:1] + '**' + x[3:] if len(x) >= 3 else x[:2])\n",
        "\n",
        "\n",
        "#필요한 변수(열)만 불러옴\n",
        "kg_df = kg_df[['수시정시', '지역', '학번', '이름', '대학', '모집단위', '최종', '내신_전과목', '등급_평균', '전형명', '전형종류', '전형일자', '전형분류', '전형방법']]\n",
        "\n",
        "\n",
        "#list_1 = df_interval[['이름', '내신_전과목', '전형분류', '전형방법', '최종', '대학', '모집단위']]\n",
        "all_headers = ['수시정시', '지역', '학번', '이름', '대학', '모집단위', '최종', '내신_전과목', '등급_평균', '전형명', '전형종류', '전형일자', '전형분류', '전형방법']\n",
        "\n",
        "\n",
        "# Create the formatted table using tabulate\n",
        "table_string = tabulate(kg_df, headers=all_headers, tablefmt='plain')\n",
        "print()\n",
        "print(table_string)\n",
        "\n",
        "\n",
        "#지원자수\n",
        "print(\"\\n---------------------------------------------------------------------------------------\")\n",
        "print(f\"2023학년도 {uni} 지원건수: {kg_df_num}\")"
      ],
      "metadata": {
        "id": "8qYXU___eSvp"
      },
      "execution_count": null,
      "outputs": []
    }
  ]
}