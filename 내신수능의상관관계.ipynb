{
  "nbformat": 4,
  "nbformat_minor": 0,
  "metadata": {
    "colab": {
      "provenance": [],
      "mount_file_id": "1Yz1edNu3JTLexl_EKNAcrw1ho7xOoI9x",
      "authorship_tag": "ABX9TyNMbTZt8EmvquXdDAQXreJ0",
      "include_colab_link": true
    },
    "kernelspec": {
      "name": "python3",
      "display_name": "Python 3"
    },
    "language_info": {
      "name": "python"
    }
  },
  "cells": [
    {
      "cell_type": "markdown",
      "metadata": {
        "id": "view-in-github",
        "colab_type": "text"
      },
      "source": [
        "<a href=\"https://colab.research.google.com/github/ecloguehwang/HSS/blob/master/%EB%82%B4%EC%8B%A0%EC%88%98%EB%8A%A5%EC%9D%98%EC%83%81%EA%B4%80%EA%B4%80%EA%B3%84.ipynb\" target=\"_parent\"><img src=\"https://colab.research.google.com/assets/colab-badge.svg\" alt=\"Open In Colab\"/></a>"
      ]
    },
    {
      "cell_type": "code",
      "source": [
        "#colab에서 matplotlib와 sns 라이브러리 그래프 한글을 깨지지 않게 하는 법: 이 코드실행하고 런타임(runtime) 다시 실행하기\n",
        "!sudo apt-get install -y fonts-nanum\n",
        "!sudo fc-cache -fv\n",
        "!rm ~/.cache/matplotlib -rf"
      ],
      "metadata": {
        "id": "5rZMcKHH3DwK"
      },
      "execution_count": null,
      "outputs": []
    },
    {
      "cell_type": "code",
      "source": [
        "#pandas, openpyxl 라이브러리 부르기\n",
        "import pandas as pd\n",
        "import numpy as np\n",
        "import seaborn as sns\n",
        "import matplotlib.pyplot as plt\n",
        "import os\n",
        "import openpyxl\n",
        "import csv\n",
        "\n",
        "##  데이터 부르기 : 구글colab에 마운트(mount)하는 방법: 왼쪽 폴더아이콘을 누르기-눈동자 왼쪽 파일마운트 아이콘 클릭- /content/drive/MyDrive/python폴더의 susi_2021simple.csv파일을 불러옴\n",
        "df = pd.read_csv('/content/drive/MyDrive/python/susi_jsi.csv', encoding = 'cp949')\n",
        "\n",
        "# 첫 5줄을 봅니다. \n",
        "df.head(4)"
      ],
      "metadata": {
        "id": "YKEUTCztCEGv"
      },
      "execution_count": null,
      "outputs": []
    },
    {
      "cell_type": "code",
      "source": [
        "#matplotlib에서 한글구현\n",
        "plt.rc('font', family='NanumBarunGothic')\n",
        "\n",
        "#그래프 마이너스 기호 깨짐 방지\n",
        "plt.rcParams['axes.unicode_minus'] = False"
      ],
      "metadata": {
        "id": "V3bpP5eG3Ijx"
      },
      "execution_count": 3,
      "outputs": []
    },
    {
      "cell_type": "code",
      "source": [
        "df.info()"
      ],
      "metadata": {
        "id": "JkC3ftCTCjN2"
      },
      "execution_count": null,
      "outputs": []
    },
    {
      "cell_type": "code",
      "source": [
        "#df.isnull().sum()\n",
        "df.isnull().sum()"
      ],
      "metadata": {
        "id": "tatPZP34CKGM"
      },
      "execution_count": null,
      "outputs": []
    },
    {
      "cell_type": "code",
      "source": [
        "import matplotlib.pyplot as plt\n",
        "import numpy as np\n",
        "import pandas as pd\n",
        "\n",
        "# Load the data\n",
        "df = pd.read_csv('/content/drive/MyDrive/python/susi_jsi.csv', encoding='cp949')\n",
        "\n",
        "# Drop null values from both columns and match the number of x and y values\n",
        "df = df.dropna(subset=['내신_전과목', '등급_평균'])\n",
        "x = df.내신_전과목.values[:724]\n",
        "y = df.등급_평균.values[:724]\n",
        "\n",
        "# Calculate the correlation coefficient\n",
        "corr_coef = np.corrcoef(x, y)[0, 1]\n",
        "\n",
        "# Create the scatter plot\n",
        "plt.scatter(x, y, alpha=0.5)\n",
        "plt.title('2023학년도 D고 내신과 등급의 상관관계')\n",
        "plt.xlabel('내신')\n",
        "plt.ylabel('수능')\n",
        "\n",
        "# Add the correlation coefficient to the plot\n",
        "plt.text(0.2, 0.9, f'상관계수 = {corr_coef:.2f}', \n",
        "         horizontalalignment='center', verticalalignment='center', \n",
        "         transform=plt.gca().transAxes, fontsize = 16)\n",
        "\n",
        "plt.show()"
      ],
      "metadata": {
        "colab": {
          "base_uri": "https://localhost:8080/",
          "height": 294
        },
        "id": "QLCp4YFG-1v8",
        "outputId": "0b468515-20f0-45bb-9998-606df5af3a8f"
      },
      "execution_count": 47,
      "outputs": [
        {
          "output_type": "display_data",
          "data": {
            "text/plain": [
              "<Figure size 432x288 with 1 Axes>"
            ],
            "image/png": "[encoded data removed]"
          },
          "metadata": {
            "needs_background": "light"
          }
        }
      ]
    }
  ]
}