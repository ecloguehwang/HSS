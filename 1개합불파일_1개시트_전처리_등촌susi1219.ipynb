{
  "nbformat": 4,
  "nbformat_minor": 0,
  "metadata": {
    "colab": {
      "provenance": [],
      "mount_file_id": "1NWe1tmVrnBCoq5tSqciFVBgORYshoSMj",
      "authorship_tag": "ABX9TyP4Nk//011S7uaEEb6M4Kov",
      "include_colab_link": true
    },
    "kernelspec": {
      "name": "python3",
      "display_name": "Python 3"
    },
    "language_info": {
      "name": "python"
    }
  },
  "cells": [
    {
      "cell_type": "markdown",
      "metadata": {
        "id": "view-in-github",
        "colab_type": "text"
      },
      "source": [
        "<a href=\"https://colab.research.google.com/github/ecloguehwang/HSS/blob/master/1%EA%B0%9C%ED%95%A9%EB%B6%88%ED%8C%8C%EC%9D%BC_1%EA%B0%9C%EC%8B%9C%ED%8A%B8_%EC%A0%84%EC%B2%98%EB%A6%AC_%EB%93%B1%EC%B4%8Csusi1219.ipynb\" target=\"_parent\"><img src=\"https://colab.research.google.com/assets/colab-badge.svg\" alt=\"Open In Colab\"/></a>"
      ]
    },
    {
      "cell_type": "markdown",
      "source": [
        "#1개 합불파일에 1개(수시)의 시트가 있을때 새로운 합불파일로 만들기\n",
        "\n",
        "## 주의점1: 실행하기 전에 원본파일의 열번호를 확인후 실행\n",
        "## 주의점2: df.columns[32:36]: 33번째열부터 36번열까지를 의미!\n",
        "\n"
      ],
      "metadata": {
        "id": "Nd4hku5RpFq-"
      }
    },
    {
      "cell_type": "code",
      "source": [
        "#1개 파일(1개 시트)를 전처리하기 : D고 수시합격파일(2023.12.19v) 사용\n",
        "\n",
        "import pandas as pd\n",
        "\n",
        "# 엑셀 파일 경로 설정\n",
        "path = '/content/drive/MyDrive/python/habbul/'\n",
        "df_susi = pd.read_excel(f'{path}susi_1219_d.xlsx')\n",
        "\n",
        "\n",
        "# 수시합불자료 데이터 클리닝\n",
        "df_susi.columns = df_susi.iloc[1]  # 두 번째 행을 열 이름으로 설정\n",
        "df_susi = df_susi.drop([0, 1])      # 첫 두 행 삭제\n",
        "df_susi.reset_index(drop=True, inplace=True) # 인덱스 재설정\n",
        "\n",
        "\n",
        "# 열 이름에서 \\n 삭제\n",
        "df_susi.columns = df_susi.columns.str.replace('\\n', '', regex=False)\n",
        "\n",
        "# datafram 이름 바꾸기\n",
        "combined_df = df_susi\n",
        "\n",
        "\n",
        "# 결과 DataFrame 출력\n",
        "print(combined_df.tail())\n",
        "\n",
        "\n",
        "# 새로운 경로와 파일명으로 엑셀 파일 저장\n",
        "new_path = '/content/drive/MyDrive/python/deungchon/'\n",
        "combined_df.to_excel(f'{new_path}deungchon_susi1219.xlsx', index=False)"
      ],
      "metadata": {
        "id": "HLRjqceDNPv4"
      },
      "execution_count": null,
      "outputs": []
    }
  ]
}