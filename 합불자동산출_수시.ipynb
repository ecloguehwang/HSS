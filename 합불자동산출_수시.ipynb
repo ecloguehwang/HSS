{
  "nbformat": 4,
  "nbformat_minor": 0,
  "metadata": {
    "colab": {
      "provenance": [],
      "mount_file_id": "1upbVPv-8o5hAf_ib5OYZ1JJl-Tg9IW5N",
      "authorship_tag": "ABX9TyP4zMFlrJJajpOToxviCj7q",
      "include_colab_link": true
    },
    "kernelspec": {
      "name": "python3",
      "display_name": "Python 3"
    },
    "language_info": {
      "name": "python"
    }
  },
  "cells": [
    {
      "cell_type": "markdown",
      "metadata": {
        "id": "view-in-github",
        "colab_type": "text"
      },
      "source": [
        "<a href=\"https://colab.research.google.com/github/ecloguehwang/HSS/blob/master/%ED%95%A9%EB%B6%88%EC%9E%90%EB%8F%99%EC%82%B0%EC%B6%9C_%EC%88%98%EC%8B%9C.ipynb\" target=\"_parent\"><img src=\"https://colab.research.google.com/assets/colab-badge.svg\" alt=\"Open In Colab\"/></a>"
      ]
    },
    {
      "cell_type": "code",
      "source": [
        "#pandas 라이브러리 설치\n",
        "#!pip install pandas"
      ],
      "metadata": {
        "id": "BKa5sPJbST-V"
      },
      "execution_count": null,
      "outputs": []
    },
    {
      "cell_type": "code",
      "source": [
        "#pandas 라이브러리 부르기\n",
        "import pandas as pd\n",
        "\n",
        "##  데이터 부르기 : 구글colab에 마운트(mount)하는 방법: 왼쪽 폴더아이콘을 누르기-눈동자 왼쪽 파일마운트 아이콘 클릭- /content/drive/MyDrive/python폴더의 susi_2021simple.csv파일을 불러옴\n",
        "df = pd.read_csv('/content/drive/MyDrive/python/susi_2021_noname.csv', encoding = 'cp949')\n",
        "\n",
        "# 첫 5줄을 봅니다. \n",
        "df.head(4)"
      ],
      "metadata": {
        "id": "8R5FWLi09yc1"
      },
      "execution_count": null,
      "outputs": []
    },
    {
      "cell_type": "code",
      "source": [
        "df.columns"
      ],
      "metadata": {
        "id": "sWJ9UB-5ySWU"
      },
      "execution_count": null,
      "outputs": []
    },
    {
      "cell_type": "code",
      "source": [
        "#합격자 순서\n",
        "#의치한약수 - 서울주요대 - 특수대 - 인서울대"
      ],
      "metadata": {
        "id": "Su9ZwVP92wmi"
      },
      "execution_count": null,
      "outputs": []
    },
    {
      "cell_type": "code",
      "source": [
        "# 의치한약수(ex: 의학 등) 합격자 명단 찾기\n",
        "df_의치한약수 = df['모집단위'].str.contains('[의치한약수]+')\n",
        "subset_df = df[df_의치한약수]\n",
        "subset_df_p = subset_df[(subset_df.최종 == '합')]\n",
        "subset_df_p = subset_df_p[['학번', '대학', '모집단위', '전형분류', '최종', '내신_전과목', '백분위_평균']]\n",
        "print(\"***2022학년도 수시 의치한약수 합격자 명단***\")\n",
        "print(subset_df_p)\n",
        "print(\"\\n-----------------------------------------\")\n",
        "print(\"***2022학년도 수시 의치한약수 합격자수***\")\n",
        "\n",
        "\n",
        "# 의치한약수(ex: 의학 등 ) 합격자수\n",
        "df_의치한약수 = df['모집단위'].str.contains('[의치한약수]+')\n",
        "subset_df = df[df_의치한약수]\n",
        "subset_df_p = subset_df[(subset_df.최종 == '합')]\n",
        "for i in range(len(subset_df_p)):\n",
        "    print(subset_df_p[['대학','모집단위']], str(len(subset_df_p.대학))+\"명\")\n",
        "\n",
        "\n",
        "#데이터 프레임으로 전환\n",
        "subset_df_p = pd.DataFrame(subset_df_p) \n",
        "#결과를 엑셀로 저장\n",
        "subset_df_p.to_excel(excel_writer= '/content/drive/MyDrive/python/sinmok/susi/medical.xlsx') \n"
      ],
      "metadata": {
        "id": "OVlN-rHmJEak"
      },
      "execution_count": null,
      "outputs": []
    },
    {
      "cell_type": "code",
      "source": [
        "# 서울 주요대학 수시합격자 명단 출력\n",
        "uni = ['서울대', '연세대', '고려대', '서강대', '성균관대', '한양대', '이화여대',  '중앙대', '경희대', '한국외국어대', '건국대', '동국대', '홍익대']\n",
        "\n",
        "print(\"***2022학년도 서울 주요대학 수시합격자 명단***\\n\")\n",
        "for u in range(len(uni)):\n",
        "    df_주요대 = df[(df.대학 == uni[u]) & (df.최종 == '합')]\n",
        "    df_주요대 = df_주요대[['학번', '대학', '모집단위', '전형분류', '최종', '내신_전과목', '백분위_평균']]\n",
        "    print(df_주요대)\n",
        "    print(\"----------------------------------------------------------------\")\n",
        "\n",
        "# 서울 주요대학 수시합격자수 출력\n",
        "uni = ['서울대', '연세대', '고려대', '서강대', '성균관대', '한양대', '이화여대',  '중앙대', '경희대', '한국외국어대', '건국대', '동국대', '홍익대']\n",
        "print(\"\\n***2022학년도 00고 수시합격자수***\")\n",
        "\n",
        "for u in range(len(uni)):\n",
        "    df_주요대 = df[(df.대학 == uni[u]) & (df.최종 == '합')]\n",
        "    df_주요대 = df_주요대[['학번', '대학', '최종']]\n",
        "    print(uni[u], str(len(df_주요대['대학']))+\"명\")  \n",
        "\n"
      ],
      "metadata": {
        "id": "iQdO5BK3BQy1"
      },
      "execution_count": null,
      "outputs": []
    },
    {
      "cell_type": "code",
      "source": [
        "# 10개 특수대 합격자 명단 출력\n",
        "sp = ['경찰대', '육군사관학교', '해군사관학교', '공군사관학교', '국군간호사관학교', '광주과학기술원', '대구경북과학기술원', '울산과학기술대학교', '한국과학기술원', '한국예술종합학교']\n",
        "\n",
        "print(\"***2022학년도 수시 특수대 합격자 명단***\\n\")\n",
        "for u in range(len(sp)):\n",
        "    df_특수대 = df[(df.대학 == sp[u]) & (df.최종 == '합')]\n",
        "    df_특수대 = df_특수대[['학번', '대학', '모집단위', '전형분류', '최종', '내신_전과목', '백분위_평균' ]]\n",
        "    print(\"%s 대학 합격자\" % sp[u])\n",
        "    #print(\"{} 대학 합격자는 {}명\" .format(sp[u] len(df_특수대)))\n",
        "    print(df_특수대)\n",
        "    print(\"--------------------------------------\")\n",
        "\n",
        "\n",
        "print(\"\\n-----------------------------------------\")\n",
        "print(\"***2022학년도 수시 특수대 합격자수***\\n\")\n",
        "\n",
        "# 특수대 합격자수\n",
        "sp = ['경찰대', '육군사관학교', '해군사관학교', '공군사관학교', '국군간호사관학교', '광주과학기술원', '대구경북과학기술원', '울산과학기술대학교', '한국과학기술원', '한국예술종합학교']\n",
        "\n",
        "for u in range(len(sp)):\n",
        "    df_특수대 = df[(df.대학 == sp[u]) & (df.최종 == '합')]\n",
        "    df_특수대 = df_특수대[['학번', '대학', '모집단위', '전형분류', '최종']]\n",
        "print(\"2022학년도 특수대 수시합격자수는 %d명입니다.\" % len(df_특수대))\n"
      ],
      "metadata": {
        "id": "ZJ1doE74EzYQ"
      },
      "execution_count": null,
      "outputs": []
    },
    {
      "cell_type": "code",
      "source": [
        "# 서울 주요대(ace리스트)를 제외한 인서울대 합격자 명단\n",
        "\n",
        "import pandas as pd\n",
        "df = pd.read_csv('/content/drive/MyDrive/python/susi_2021_noname.csv', encoding = 'cp949')\n",
        "\n",
        "#3가지 조건(지역, 최종, ace대학 제외)으로 검색\n",
        "ace = ['서울대', '연세대', '고려대', '서강대', '성균관대', '한양대', '이화여대', '중앙대', '경희대', '한국외국어대', '건국대', '동국대', '홍익대'] \n",
        "seoul_df = df[(df.지역 == '서울') & (df.최종 == '합') & ~(df.대학.isin(ace))]\n",
        "seoul_df\n",
        "\n",
        "#필요한 변수(열)만 불러옴\n",
        "seoul_df = seoul_df[['학번', '대학', '모집단위', '전형분류', '최종', '내신_전과목', '백분위_평균']]\n",
        "#print(seoul_df)\n",
        "print(seoul_df)\n",
        "\n",
        "\n",
        "# 서울 주요대(ace리스트) 제외한 인서울대 합격자수\n",
        "import pandas as pd\n",
        "df = pd.read_csv('/content/drive/MyDrive/python/susi_2021_noname.csv', encoding = 'cp949')\n",
        "\n",
        "\n",
        "#지역과 최종 조건\n",
        "ace = ['서울대', '연세대', '고려대', '서강대', '성균관대', '한양대', '이화여대', '중앙대', '경희대', '한국외국어대', '건국대', '동국대', '홍익대'] \n",
        "seoul_df = df[(df.지역 == '서울') & (df.최종 == '합') & ~(df.대학.isin(ace))]\n",
        "\n",
        "\n",
        "#인서울대 합격자수\n",
        "print(\"\\n---------------------------------------------------------------\")\n",
        "print(\"2022학년도 서울주요대를 제외한 인서울 수시합격자수는 %d명입니다.\" % len(seoul_df))\n"
      ],
      "metadata": {
        "id": "gkXQgK1P3IiD"
      },
      "execution_count": null,
      "outputs": []
    },
    {
      "cell_type": "code",
      "source": [
        "#수시 전체 합격자: 중복 합격포함 : 135명\n",
        "df_pass = df[df.최종 == '합']\n",
        "\n",
        "df_pass"
      ],
      "metadata": {
        "id": "CLyrluINoxNj"
      },
      "execution_count": null,
      "outputs": []
    },
    {
      "cell_type": "code",
      "source": [
        "#중복합격자 제외\n",
        "df_pass['학번'].unique()\n",
        "\n",
        "#중복합격자수: 79명\n",
        "df_pass['학번'].nunique()\n"
      ],
      "metadata": {
        "id": "7stFxfnBoZfd"
      },
      "execution_count": null,
      "outputs": []
    },
    {
      "cell_type": "code",
      "source": [
        "df.columns"
      ],
      "metadata": {
        "id": "01eYIoZoMlih"
      },
      "execution_count": null,
      "outputs": []
    },
    {
      "cell_type": "code",
      "source": [
        "#표준점수와 백분위조회\n",
        "code = int(input(\"학번:\"))\n",
        "df_code = df[(df.학번 == code)]\n",
        "df_code = df_code[['학번', '대학',  '모집단위', '최종', '백분위_평균', '표점합']]\n",
        "df_code"
      ],
      "metadata": {
        "id": "YjMiyq63Mcnh"
      },
      "execution_count": null,
      "outputs": []
    },
    {
      "cell_type": "code",
      "source": [
        "df.dtypes"
      ],
      "metadata": {
        "id": "VkHvrZ6KUUwr"
      },
      "execution_count": null,
      "outputs": []
    },
    {
      "cell_type": "code",
      "source": [
        "# 염민* 학생 학번(30215)으로 수능등급 조회\n",
        "c = int(input(\"학번:\"))\n",
        "df_code = df[(df.학번 == c)]\n",
        "df_code = df_code[['학번', '등급_국어', '등급_수학', '영어등급', '등급_탐구1', '등급_탐구2', '등급_제2외국어']]\n",
        "df_code"
      ],
      "metadata": {
        "id": "s3zLyRW4XvMN"
      },
      "execution_count": null,
      "outputs": []
    }
  ]
}